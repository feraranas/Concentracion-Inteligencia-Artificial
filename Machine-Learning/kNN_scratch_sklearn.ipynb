{
  "cells": [
    {
      "cell_type": "markdown",
      "metadata": {
        "id": "PYixiOTXfx2E"
      },
      "source": [
        "<font size = 8 color ='336EFF'>k Nearest Neighbors</font>"
      ]
    },
    {
      "cell_type": "markdown",
      "metadata": {
        "id": "JhIlhGOL89um"
      },
      "source": [
        "Import libraries"
      ]
    },
    {
      "cell_type": "code",
      "execution_count": 1,
      "metadata": {
        "id": "7qKjbw7w88x9"
      },
      "outputs": [],
      "source": [
        "from collections import Counter\n",
        "import numpy as np\n",
        "import matplotlib.pyplot as plt\n",
        "from scipy import stats "
      ]
    },
    {
      "cell_type": "markdown",
      "metadata": {
        "id": "77gbEJRw2i2d"
      },
      "source": [
        "## Define kNN using the steps from the pseudocode\n",
        "The KNN Algorithm:\n",
        "<ol>\n",
        "    <li>Load the data</li>\n",
        "    <li>Initialize K to your chosen number of neighbors</li>\n",
        "    <li>For each example in the data</li>\n",
        "    <ol>\n",
        "    <li>Calculate the distance between the query example and the current example from the data.</li>\n",
        "    <li>Add the distance and the index of the example to an ordered collection</li>\n",
        "    </ol>\n",
        "    <li>Sort the ordered collection of distances and indices from smallest to largest (in ascending order) by the distances</li>\n",
        "    <li>Pick the first K entries from the sorted collection</li>\n",
        "    <li>Get the labels of the selected K entries</li>\n",
        "    <li>a) If regression, return the mean of the K labels</li>\n",
        "    <li>b) If classification, return the mode of the K labels</li>\n",
        "</ol>"
      ]
    },
    {
      "cell_type": "code",
      "execution_count": 1,
      "metadata": {
        "id": "JOM8gLR-1vIL"
      },
      "outputs": [],
      "source": [
        "def knn(data, query, k, distance_fn, choice_fn):\n",
        "    neighbor_distances_and_indices = []\n",
        "    # 3. For each example in the data\n",
        "    neighbor_distances_and_indices = np.zeros((data.shape[0], 2))\n",
        "    print(neighbor_distances_and_indices)\n",
        "    for index, example in enumerate(data):\n",
        "        print(\"index: \", index, \"example: \", example)\n",
        "        # 3.1 Calculate the distance between the query example and the current\n",
        "        # example from the data.\n",
        "        distance = distance_fn(example[:-1], query)\n",
        "        print(\"distance: \", distance)\n",
        "        # 3.2 Add the distance and the index of the example to an ordered collection\n",
        "        neighbor_distances_and_indices[index, 0], neighbor_distances_and_indices[index, 1] = distance, index\n",
        "        print(neighbor_distances_and_indices)\n",
        "        # 4. Sort the ordered collection of distances and indices from\n",
        "    # smallest to largest (in ascending order) by the distances\n",
        "    sorted_neighbor_distances_and_indices =  neighbor_distances_and_indices[neighbor_distances_and_indices[:,0].argsort(kind='mergesort')]\n",
        "    print(sorted_neighbor_distances_and_indices)\n",
        "    # 5. Pick the first K entries from the sorted collection\n",
        "    k_nearest_distances_and_indices = sorted_neighbor_distances_and_indices[:k, :]\n",
        "    # 6. Get the labels of the selected K entries\n",
        "    k_nearest_labels = np.zeros((k, 1))\n",
        "    n = 0\n",
        "    for distance, i in k_nearest_distances_and_indices:\n",
        "        i = int(i)\n",
        "        k_nearest_labels[n, 0] = data[i, -1]\n",
        "        n += 1\n",
        "\n",
        "    # 7. If regression (choice_fn = mean), return the average of the K labels\n",
        "    # 8. If classification (choice_fn = mode), return the mode of the K labels\n",
        "    return k_nearest_distances_and_indices , choice_fn(k_nearest_labels)"
      ]
    },
    {
      "cell_type": "markdown",
      "metadata": {
        "id": "QHV07mh24CHP"
      },
      "source": [
        "### Auxiliar functions"
      ]
    },
    {
      "cell_type": "code",
      "execution_count": 2,
      "metadata": {
        "id": "2pgAT-2U4B_5"
      },
      "outputs": [],
      "source": [
        "def mean(labels):\n",
        "    return sum(labels) / len(labels)\n",
        "\n",
        "def mode(labels):\n",
        "    #find unique values in array along with their counts\n",
        "    vals, counts = np.unique(labels, return_counts=True)\n",
        "    #find mode\n",
        "    mode_value = np.argwhere(counts == np.max(counts))\n",
        "    return mode_value#stats.mode(labels)\n",
        "\n",
        "def euclidean_distance(point1, point2):\n",
        "    sum_squared_distance = 0\n",
        "    dis = np.linalg.norm(point1 - point2)\n",
        "    return dis"
      ]
    },
    {
      "cell_type": "markdown",
      "metadata": {
        "id": "ejtxia229MWT"
      },
      "source": [
        "Ploting Functions"
      ]
    },
    {
      "cell_type": "code",
      "execution_count": null,
      "metadata": {
        "id": "jMMZvkpu9MJ1"
      },
      "outputs": [],
      "source": [
        "def plot_reg(X, y, x_pred, y_pred):\n",
        "    # plotting points with diff color for diff label\n",
        "    plt.plot(X, y, 'o', c='b')\n",
        "\n",
        "    plt.plot(x_pred, y_pred, '*', c='k', label='reg line')\n",
        "\n",
        "    plt.xlabel('x')\n",
        "    plt.ylabel('y')\n",
        "    plt.legend()\n",
        "    plt.show()\n",
        "\n",
        "def plot_class(X, y, x_pred, y_pred):\n",
        "    # labelled observations\n",
        "    x_0 = X[np.where(y == 0.0)]\n",
        "    x_1 = X[np.where(y == 1.0)]\n",
        "    # plotting points with diff color for diff label\n",
        "    plt.scatter([x_0[:, 0]], [x_0[:, 1]], c='b', label='y = 0')\n",
        "    plt.scatter([x_1[:, 0]], [x_1[:, 1]], c='r', label='y = 1')\n",
        "\n",
        "    # plotting decision boundary\n",
        "    if y_pred == 0:\n",
        "        color = 'b'\n",
        "    elif y_pred == 1:\n",
        "        color = 'r'\n",
        "    plt.plot(x_pred[0], x_pred[1], '*', c=color, label='reg line')\n",
        "\n",
        "    plt.xlabel('x1')\n",
        "    plt.ylabel('x2')\n",
        "    plt.legend()\n",
        "    plt.show()\n"
      ]
    },
    {
      "cell_type": "markdown",
      "metadata": {
        "id": "2vQPBW1O6rgl"
      },
      "source": [
        "### Regression\n",
        "#### Regression Data\n",
        "#### Column 0: height (inches)\n",
        "#### Column 1: weight (pounds)\n"
      ]
    },
    {
      "cell_type": "code",
      "execution_count": null,
      "metadata": {
        "colab": {
          "base_uri": "https://localhost:8080/",
          "height": 300
        },
        "id": "ye4KWMTJ6rWk",
        "outputId": "ca296dfe-d1f7-473e-ccac-2b42f41c66a6"
      },
      "outputs": [
        {
          "name": "stdout",
          "output_type": "stream",
          "text": [
            "[128.24666667]\n"
          ]
        },
        {
          "data": {
            "image/png": "[encoded data removed]",
            "text/plain": [
              "<Figure size 432x288 with 1 Axes>"
            ]
          },
          "metadata": {
            "needs_background": "light"
          },
          "output_type": "display_data"
        }
      ],
      "source": [
        "reg_data = np.array([ [65.75, 112.99], [71.52, 136.49], [69.40, 153.03], [68.22, 142.34], [67.79, 144.30], [68.70, 123.30], [69.80, 141.49], [70.01, 136.46], [67.90, 112.37], [66.49, 127.45], ])\n",
        "\n",
        "# Question:\n",
        "# Given the data we have, what's the best-guess at someone's weight if they are 60 inches tall?\n",
        "reg_query = [66]\n",
        "reg_k_nearest_neighbors, reg_prediction = knn(\n",
        "    reg_data, reg_query, k=3, distance_fn=euclidean_distance, choice_fn=mean)\n",
        "print(reg_prediction)\n",
        "plot_reg(reg_data[:, 0], reg_data[:, 1], reg_query, reg_prediction)\n"
      ]
    },
    {
      "cell_type": "markdown",
      "metadata": {
        "id": "Md9BuiBa69nq"
      },
      "source": [
        "### Classification\n",
        "#### Classification Data\n",
        "#### Column 0: age\n",
        "#### Column 1: likes pineapple"
      ]
    },
    {
      "cell_type": "code",
      "execution_count": null,
      "metadata": {
        "colab": {
          "base_uri": "https://localhost:8080/"
        },
        "id": "imS6KGub68-Q",
        "outputId": "d959b534-54f5-464c-a829-ed65cbde34d0"
      },
      "outputs": [
        {
          "name": "stdout",
          "output_type": "stream",
          "text": [
            "[[0]]\n"
          ]
        }
      ],
      "source": [
        "clf_data = np.array([ [22, 1], [23, 1], [21, 1], [18, 1], [19, 1], [25, 0], [27, 0], [29, 0], [31, 0], [45, 0]])\n",
        "# Question:\n",
        "# Given the data we have, does a 33 year old like pineapples on their pizza?\n",
        "clf_query = [33]\n",
        "clf_k_nearest_neighbors, clf_prediction = knn(\n",
        "    clf_data, clf_query, k=3, distance_fn=euclidean_distance, choice_fn=mode)\n",
        "print(clf_prediction)"
      ]
    },
    {
      "cell_type": "markdown",
      "metadata": {
        "id": "em71nWN2Rw-O"
      },
      "source": [
        "Classification Data\n",
        "Column 0: high\n",
        "Column 1: weight\n",
        "Column 2: 0->Medium, 1->Large"
      ]
    },
    {
      "cell_type": "code",
      "execution_count": null,
      "metadata": {
        "colab": {
          "base_uri": "https://localhost:8080/",
          "height": 296
        },
        "id": "aYmkzWHjRwp_",
        "outputId": "2152daf3-9eef-4b7b-9856-987dd07eb060"
      },
      "outputs": [
        {
          "name": "stdout",
          "output_type": "stream",
          "text": [
            "[[1]]\n"
          ]
        },
        {
          "data": {
            "image/png": "[encoded data removed]",
            "text/plain": [
              "<Figure size 432x288 with 1 Axes>"
            ]
          },
          "metadata": {
            "needs_background": "light"
          },
          "output_type": "display_data"
        }
      ],
      "source": [
        "clf_data = np.array([[160, 60, 0], [163, 60, 0], [163, 61, 0], [160, 64, 1], [163, 64, 1], [165, 61, 1]])\n",
        "# Question:\n",
        "# Given the data we have, does a 33 year old like pineapples on their pizza?\n",
        "clf_query = np.array([161, 63])\n",
        "clf_k_nearest_neighbors, clf_prediction = knn(\n",
        "    clf_data, clf_query, k=3, distance_fn=euclidean_distance, choice_fn=mode)\n",
        "print(clf_prediction)\n",
        "plot_class(clf_data[:, :-1], clf_data[:, -1], clf_query, clf_prediction)"
      ]
    },
    {
      "cell_type": "markdown",
      "metadata": {
        "id": "lbmXBtCnW376"
      },
      "source": [
        "## Dataset movies recomendation"
      ]
    },
    {
      "cell_type": "markdown",
      "metadata": {
        "id": "NqAJECB1W_Kk"
      },
      "source": [
        "### Connect Drive"
      ]
    },
    {
      "cell_type": "code",
      "execution_count": null,
      "metadata": {
        "colab": {
          "base_uri": "https://localhost:8080/"
        },
        "id": "j895IUEWXDcc",
        "outputId": "9b9a13d3-de0b-44f9-fd2f-f683fe2e00da"
      },
      "outputs": [
        {
          "name": "stdout",
          "output_type": "stream",
          "text": [
            "Mounted at /content/gdrive\n",
            "/content\n"
          ]
        }
      ],
      "source": [
        "from google.colab import drive\n",
        "\n",
        "drive.mount(\"/content/gdrive\")\n",
        "!pwd"
      ]
    },
    {
      "cell_type": "code",
      "execution_count": null,
      "metadata": {
        "colab": {
          "base_uri": "https://localhost:8080/"
        },
        "id": "wriJQdJPW-tO",
        "outputId": "3a7b5c23-8bb2-4c4e-bccb-4b5a033c7fcf"
      },
      "outputs": [
        {
          "name": "stdout",
          "output_type": "stream",
          "text": [
            "/content/gdrive/MyDrive/Colab Notebooks/AI/MachineLearning/Files\n",
            "cars.csv\t employees.csv\t     marathon-data.csv\t\t     wine.data\n",
            "data.npz\t example.txt\t     mkb_data.npz\t\t     wine.names\n",
            "dataset1.csv\t iris.data\t     model.png\n",
            "dataset1.gsheet  iris.names\t     movies_recommendation_data.csv\n",
            "diabetes.csv\t Mall_Customers.csv  twitterLogo.png\n"
          ]
        }
      ],
      "source": [
        "#put your own path in google drive\n",
        "%cd \"/content/gdrive/MyDrive/Colab Notebooks/AI/MachineLearning/Files\"\n",
        "!ls"
      ]
    },
    {
      "cell_type": "code",
      "execution_count": null,
      "metadata": {
        "id": "aubPstkhVRE-"
      },
      "outputs": [],
      "source": [
        "def recommend_movies(movie_query, k_recommendations):\n",
        "    raw_movies_data = []\n",
        "    with open('movies_recommendation_data.csv', 'r') as md:\n",
        "        # Discard the first line (headings)\n",
        "    \tnext(md)\n",
        "\n",
        "    \t# Read the data into memory\n",
        "    \tfor line in md.readlines():\n",
        "        \tdata_row = line.strip().split(',')\n",
        "        \traw_movies_data.append(data_row)\n",
        "\n",
        "\t# Prepare the data for use in the knn algorithm by picking\n",
        "\t# the relevant columns and converting the numeric columns\n",
        "\t# to numbers since they were read in as strings\n",
        "    movies_recommendation_data = []\n",
        "    for row in raw_movies_data:\n",
        "        data_row = list(map(float, row[2:]))\n",
        "        movies_recommendation_data.append(data_row)\n",
        "    # Use the KNN algorithm to get the 5 movies that are most\n",
        "\t# similar to The Post.\n",
        "    movies_recommendation_data = np.array(movies_recommendation_data)\n",
        "    movie_query = np.array(movie_query)\n",
        "    recommendation_indices, _ = knn(\n",
        "    \tmovies_recommendation_data, movie_query, k=k_recommendations,\n",
        "    \tdistance_fn=euclidean_distance, choice_fn=lambda x: None)\n",
        "\n",
        "    movie_recommendations = []\n",
        "    for _, index in recommendation_indices:\n",
        "        index = int(index)\n",
        "        movie_recommendations.append(raw_movies_data[index])\n",
        "\n",
        "    return movie_recommendations"
      ]
    },
    {
      "cell_type": "markdown",
      "metadata": {
        "id": "0JLCY9ToVrWy"
      },
      "source": []
    },
    {
      "cell_type": "code",
      "execution_count": null,
      "metadata": {
        "colab": {
          "base_uri": "https://localhost:8080/"
        },
        "id": "v8a7szCXVrE_",
        "outputId": "8ec02744-b11f-4c5c-f857-a4f4048a9dca"
      },
      "outputs": [
        {
          "name": "stdout",
          "output_type": "stream",
          "text": [
            "12 Years a Slave\n",
            "Hacksaw Ridge\n",
            "Queen of Katwe\n",
            "The Wind Rises\n",
            "A Beautiful Mind\n"
          ]
        }
      ],
      "source": [
        "the_post = [7.2, 1, 1, 0, 0, 0, 0, 1] # feature vector for The Post\n",
        "label = 0\n",
        "recommended_movies = recommend_movies(movie_query=the_post, k_recommendations=5)\n",
        "\n",
        "# Print recommended movie titles\n",
        "for recommendation in recommended_movies:\n",
        "    print(recommendation[1])"
      ]
    }
  ],
  "metadata": {
    "colab": {
      "provenance": []
    },
    "kernelspec": {
      "display_name": "Python 3",
      "name": "python3"
    },
    "language_info": {
      "codemirror_mode": {
        "name": "ipython",
        "version": 3
      },
      "file_extension": ".py",
      "mimetype": "text/x-python",
      "name": "python",
      "nbconvert_exporter": "python",
      "pygments_lexer": "ipython3",
      "version": "3.11.0"
    }
  },
  "nbformat": 4,
  "nbformat_minor": 0
}
