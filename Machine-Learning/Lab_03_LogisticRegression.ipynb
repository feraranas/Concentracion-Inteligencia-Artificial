{
  "cells": [
    {
      "cell_type": "markdown",
      "metadata": {
        "id": "COgkX3-po29A"
      },
      "source": [
        "# Logistic Regression"
      ]
    },
    {
      "cell_type": "markdown",
      "metadata": {
        "id": "vPTBFHg_JL29"
      },
      "source": [
        "### Import Relevant Libraries"
      ]
    },
    {
      "cell_type": "code",
      "execution_count": null,
      "metadata": {
        "id": "eAQFMigOJPB1"
      },
      "outputs": [],
      "source": [
        "import numpy as np\n",
        "import matplotlib.pyplot as plt"
      ]
    },
    {
      "cell_type": "markdown",
      "metadata": {
        "id": "Qvwx2EeIOo48"
      },
      "source": [
        "Import Iris Dataset"
      ]
    },
    {
      "cell_type": "code",
      "execution_count": null,
      "metadata": {
        "id": "f3BSd8UQo29B"
      },
      "outputs": [],
      "source": [
        "# your code"
      ]
    },
    {
      "cell_type": "markdown",
      "metadata": {
        "id": "PXOfrdoAIsrn"
      },
      "source": [
        "Select petal width as feature dataset (X) and output y # 1 if Iris virginica, else 0"
      ]
    },
    {
      "cell_type": "code",
      "execution_count": null,
      "metadata": {
        "id": "lKgWfEeoo29B"
      },
      "outputs": [],
      "source": [
        "# your code"
      ]
    },
    {
      "cell_type": "markdown",
      "metadata": {
        "id": "yAl0XXbjo29B"
      },
      "source": [
        "## Import Logistic Regression from sklearn and train\n",
        "\n",
        "Set solver=\"lbfgs\" and random_state=42"
      ]
    },
    {
      "cell_type": "code",
      "execution_count": null,
      "metadata": {
        "id": "Yl4DiGuYo29B"
      },
      "outputs": [],
      "source": [
        "# your code"
      ]
    },
    {
      "cell_type": "markdown",
      "metadata": {
        "id": "gDtpAugeHpv1"
      },
      "source": [
        "Use linspace to create a data set from 0 to 3 with 1000 points\n",
        "\n",
        "Predict using this new data\n",
        "\n",
        "Plot both probability (Y[:, 0], Y[:, 1]) the first blue with dashes and the second as a green continous line"
      ]
    },
    {
      "cell_type": "code",
      "execution_count": null,
      "metadata": {
        "id": "rzwkcac3o29B"
      },
      "outputs": [],
      "source": [
        "# your code"
      ]
    },
    {
      "cell_type": "markdown",
      "metadata": {
        "id": "BSxMvh3lo29C"
      },
      "source": [
        "Calculate the decision boundry (x value) if the threshold is set at y[:, 1] > 0.5"
      ]
    },
    {
      "cell_type": "code",
      "execution_count": null,
      "metadata": {
        "id": "kMAY8cOfo29C"
      },
      "outputs": [],
      "source": [
        "# your code"
      ]
    },
    {
      "cell_type": "markdown",
      "metadata": {
        "id": "ASV10RzAKzPp"
      },
      "source": [
        "Predict a new data point [1.7, 1.5]"
      ]
    },
    {
      "cell_type": "code",
      "execution_count": null,
      "metadata": {
        "id": "L8SsWm2uo29C"
      },
      "outputs": [],
      "source": [
        "# your code"
      ]
    },
    {
      "cell_type": "markdown",
      "metadata": {
        "id": "VrJf4rueo29C"
      },
      "source": [
        "## Softmax Regression"
      ]
    },
    {
      "cell_type": "markdown",
      "metadata": {
        "id": "p_uBQ5zRLMVY"
      },
      "source": [
        "Train the Logistic regression now with softmax \n",
        "\n",
        "Use now petal length, petal width as feature dataset(X)\n",
        "\n",
        "Use solver=\"lbfgs\", C=10**10, random_state=42"
      ]
    },
    {
      "cell_type": "code",
      "execution_count": null,
      "metadata": {
        "id": "JkvF2HU_o29C"
      },
      "outputs": [],
      "source": [
        "# your code"
      ]
    },
    {
      "cell_type": "markdown",
      "metadata": {
        "id": "9ZryySvmMb3G"
      },
      "source": [
        "Predict new data"
      ]
    },
    {
      "cell_type": "code",
      "execution_count": null,
      "metadata": {
        "id": "lO5LV_FdMbrW"
      },
      "outputs": [],
      "source": [
        "x0, x1 = np.meshgrid(\n",
        "        np.linspace(2.9, 7, 500).reshape(-1, 1),\n",
        "        np.linspace(0.8, 2.7, 200).reshape(-1, 1),\n",
        "    )\n",
        "X_new = np.c_[x0.ravel(), x1.ravel()]\n",
        "\n",
        "y_proba = log_reg.predict_proba(X_new)"
      ]
    },
    {
      "cell_type": "markdown",
      "metadata": {
        "id": "Doc0oD5AQY9a"
      },
      "source": [
        "Plot y==0 as \"bs\" and y==1 as \"g^\""
      ]
    },
    {
      "cell_type": "code",
      "execution_count": null,
      "metadata": {
        "id": "7EhRvkYVQY0-"
      },
      "outputs": [],
      "source": [
        "# your code"
      ]
    },
    {
      "cell_type": "markdown",
      "metadata": {
        "id": "Jmd1Lw6fNd87"
      },
      "source": [
        "Train multiclass Logistic Regression\n",
        "\n",
        "Use now petal length, petal width as feature dataset(X)\n",
        "\n",
        "Use now the iris target (all the classes) as output(y)\n",
        "\n",
        "Use multi_class=\"multinomial\",solver=\"lbfgs\", C=10, random_state=42"
      ]
    },
    {
      "cell_type": "code",
      "execution_count": null,
      "metadata": {
        "id": "RECamYsco29C"
      },
      "outputs": [],
      "source": [
        "# your code"
      ]
    },
    {
      "cell_type": "markdown",
      "metadata": {
        "id": "JydSFEL-QgAe"
      },
      "source": [
        "Calculate the probability and the prediction of the new data set "
      ]
    },
    {
      "cell_type": "code",
      "execution_count": null,
      "metadata": {
        "id": "HvQPk3fbo29D"
      },
      "outputs": [],
      "source": [
        "x0, x1 = np.meshgrid(\n",
        "        np.linspace(0, 8, 500).reshape(-1, 1),\n",
        "        np.linspace(0, 3.5, 200).reshape(-1, 1),\n",
        "    )\n",
        "X_new = np.c_[x0.ravel(), x1.ravel()]\n",
        "\n",
        "# your code"
      ]
    },
    {
      "cell_type": "markdown",
      "metadata": {
        "id": "Z69kktztQ-Ef"
      },
      "source": [
        "Plot the new dataset y==2 as \"g^\", y==1 as \"bs\", and y==0 as \"yo\""
      ]
    },
    {
      "cell_type": "code",
      "execution_count": null,
      "metadata": {
        "id": "VTHpJH90Q961"
      },
      "outputs": [],
      "source": [
        "# your code"
      ]
    },
    {
      "cell_type": "markdown",
      "metadata": {
        "id": "fDsrZ2a3OP9z"
      },
      "source": [
        "Predict a new point [5, 2]"
      ]
    },
    {
      "cell_type": "code",
      "execution_count": null,
      "metadata": {
        "id": "7D9mqknso29D"
      },
      "outputs": [],
      "source": [
        "# your code"
      ]
    },
    {
      "cell_type": "markdown",
      "metadata": {
        "id": "0sgDrDqtOUVf"
      },
      "source": [
        "Show the probability of the new data point [5, 2]"
      ]
    },
    {
      "cell_type": "code",
      "execution_count": null,
      "metadata": {
        "id": "lXoxefBeo29D"
      },
      "outputs": [],
      "source": [
        "# your code"
      ]
    }
  ],
  "metadata": {
    "colab": {
      "name": "Lab_04 LogisticRegression.ipynb",
      "provenance": []
    },
    "kernelspec": {
      "display_name": "Python 3",
      "language": "python",
      "name": "python3"
    },
    "language_info": {
      "codemirror_mode": {
        "name": "ipython",
        "version": 3
      },
      "file_extension": ".py",
      "mimetype": "text/x-python",
      "name": "python",
      "nbconvert_exporter": "python",
      "pygments_lexer": "ipython3",
      "version": "3.7.10"
    },
    "nav_menu": {},
    "toc": {
      "navigate_menu": true,
      "number_sections": true,
      "sideBar": true,
      "threshold": 6,
      "toc_cell": false,
      "toc_section_display": "block",
      "toc_window_display": false
    }
  },
  "nbformat": 4,
  "nbformat_minor": 0
}
