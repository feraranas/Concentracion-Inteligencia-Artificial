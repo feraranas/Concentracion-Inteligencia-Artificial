{
  "cells": [
    {
      "cell_type": "markdown",
      "metadata": {
        "id": "iYxw3eIrcN5y"
      },
      "source": [
        "# Outlier that modifies the resulting model"
      ]
    },
    {
      "cell_type": "markdown",
      "metadata": {
        "id": "3vYAp2-6cUOh"
      },
      "source": [
        "## Import relevant libraries"
      ]
    },
    {
      "cell_type": "code",
      "execution_count": 1,
      "metadata": {
        "id": "A-7lU2jLcXOh"
      },
      "outputs": [],
      "source": [
        "import numpy as np\n",
        "import matplotlib.pyplot as plt"
      ]
    },
    {
      "cell_type": "markdown",
      "metadata": {
        "id": "0UWo0W_xchHu"
      },
      "source": [
        "### Dataset 1"
      ]
    },
    {
      "cell_type": "code",
      "execution_count": 2,
      "metadata": {
        "id": "8E_ecsfrcgaP"
      },
      "outputs": [],
      "source": [
        "# dataset\n",
        "x = np.array([2, 3, 4, 5, 5, 6, 7, 7, 8, 9, 10, 35])\n",
        "y = np.array([4, 5, 8, 10, 12, 12, 14, 13, 15, 20, 22, 76])"
      ]
    },
    {
      "cell_type": "markdown",
      "metadata": {
        "id": "m2haus7demCY"
      },
      "source": [
        "### Dataset 1 Without the outlier"
      ]
    },
    {
      "cell_type": "code",
      "execution_count": 3,
      "metadata": {
        "id": "nhKSCT2jewKa"
      },
      "outputs": [],
      "source": [
        "x = np.array([2, 3, 4, 5, 5, 6, 7, 7, 8, 9, 10])\n",
        "y = np.array([4, 5, 8, 10, 12, 12, 14, 13, 15, 20, 22])"
      ]
    },
    {
      "cell_type": "markdown",
      "metadata": {
        "id": "GbI9tTpacbcn"
      },
      "source": [
        "### Dataset 2 -Outlier modifies the model"
      ]
    },
    {
      "cell_type": "code",
      "execution_count": 4,
      "metadata": {
        "id": "npZOwgOWcZuU"
      },
      "outputs": [],
      "source": [
        "# dataset\n",
        "x = np.array([2, 3, 4, 5, 5, 6, 7, 7, 8, 9, 10, 35])\n",
        "y = np.array([4, 5, 8, 10, 12, 12, 14, 13, 15, 20, 22, 20])"
      ]
    },
    {
      "cell_type": "code",
      "execution_count": 8,
      "metadata": {},
      "outputs": [],
      "source": [
        "from sklearn.linear_model import LogisticRegression\n",
        "\n",
        "# prediction model with scikitlearn library\n",
        "smodel = LogisticRegression()"
      ]
    },
    {
      "cell_type": "code",
      "execution_count": 10,
      "metadata": {},
      "outputs": [],
      "source": []
    },
    {
      "cell_type": "code",
      "execution_count": null,
      "metadata": {
        "colab": {
          "base_uri": "https://localhost:8080/",
          "height": 489
        },
        "id": "U59ExnG2cHID",
        "outputId": "3942e952-7a54-4b78-c264-2a31e3aec6c3"
      },
      "outputs": [
        {
          "data": {
            "text/plain": [
              "Text(0.5, 1.0, 'y = -0.9097548774387175 + 2.1971985992996506x')"
            ]
          },
          "execution_count": 12,
          "metadata": {},
          "output_type": "execute_result"
        },
        {
          "data": {
            "image/png": "[encoded data removed]",
            "text/plain": [
              "<Figure size 640x480 with 1 Axes>"
            ]
          },
          "metadata": {},
          "output_type": "display_data"
        }
      ],
      "source": [
        "# prediction model\n",
        "model = np.polyfit(x, y, 1)\n",
        "predict = np.poly1d(model)\n",
        "\n",
        "# new data prediction\n",
        "x_lin_reg = np.arange(0, 40, 0.1)\n",
        "y_lin_reg = predict(x_lin_reg)\n",
        "\n",
        "# plot\n",
        "plt.scatter(x, y)\n",
        "plt.plot(x_lin_reg, y_lin_reg, c = 'r')\n",
        "plt.xlabel('x[~]')\n",
        "plt.ylabel('y[~]')\n",
        "plt.title(f'y = {model[1]} + {model[0]}x')"
      ]
    },
    {
      "cell_type": "markdown",
      "metadata": {
        "id": "mIZdHgS2gZR6"
      },
      "source": [
        "# Model with the outlier\n",
        "y = -0.7244 + 2.1652 * x\n",
        "# Model without the outlier\n",
        "y = -0.8885 + 2.1935 * x\n",
        "# Model with the outlier that modifies the model\n",
        "y = 9.4666 + 0.4099 * x"
      ]
    }
  ],
  "metadata": {
    "colab": {
      "provenance": []
    },
    "kernelspec": {
      "display_name": "Python 3",
      "name": "python3"
    },
    "language_info": {
      "codemirror_mode": {
        "name": "ipython",
        "version": 3
      },
      "file_extension": ".py",
      "mimetype": "text/x-python",
      "name": "python",
      "nbconvert_exporter": "python",
      "pygments_lexer": "ipython3",
      "version": "3.11.0"
    }
  },
  "nbformat": 4,
  "nbformat_minor": 0
}
