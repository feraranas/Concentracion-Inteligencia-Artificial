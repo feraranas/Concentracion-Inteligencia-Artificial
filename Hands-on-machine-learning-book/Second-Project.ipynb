{
 "cells": [
  {
   "cell_type": "markdown",
   "metadata": {},
   "source": [
    "# <font size = 8 color ='336EFF'>Classification Systems</font>"
   ]
  },
  {
   "cell_type": "code",
   "execution_count": 1,
   "metadata": {},
   "outputs": [
    {
     "name": "stderr",
     "output_type": "stream",
     "text": [
      "/Users/fernankiwi/.pyenv/versions/3.11.0/lib/python3.11/site-packages/sklearn/datasets/_openml.py:1002: FutureWarning: The default value of `parser` will change from `'liac-arff'` to `'auto'` in 1.4. You can set `parser='auto'` to silence this warning. Therefore, an `ImportError` will be raised from 1.4 if the dataset is dense and pandas is not installed. Note that the pandas parser may return different data types. See the Notes Section in fetch_openml's API doc for details.\n",
      "  warn(\n"
     ]
    }
   ],
   "source": [
    "# MNIST dataset, set of 70,000 small images of digits handwritten \n",
    "# by high school students and employees of the US Census Bureau.\n",
    "\n",
    "# Each image is labeled with the digit it represents. This set has been \n",
    "# studied so much that it is often called the “hello world” of machine learning.\n",
    "\n",
    "# fetches the MNIST dataset from OpenML.org:\n",
    "from sklearn.datasets import fetch_openml\n",
    "\n",
    "mnist = fetch_openml('mnist_784', as_frame=False)\n",
    "\n",
    "# The sklearn.datasets package contains mostly three types of functions:\n",
    "# 1. fetch_* functions such as fetch_openml() to download real-life datasets,\n",
    "# 2. load_* functions to load small toy datasets bundled with sciki-learn\n",
    "# 3. make_* functions to generate fake datasets, useful for tests.\n",
    "\n",
    "# Generated datasets are usually returned as (X, y) tuple containing the input\n",
    "# data and the targets, both as NumPy arrays. \n",
    "\n",
    "# Other datasets are returned as 'sklearn.utils.Bunch' objects, which are dictionaries\n",
    "# whose entries can also be accessed as attributes. \n",
    "\n",
    "# They generally contain the following entries:\n",
    "# \"DESCR\"\n",
    "# A description of the dataset\n",
    "\n",
    "# \"data\"\n",
    "# The input data, usually as a 2D NumPy array\n",
    "\n",
    "# \"target\"\n",
    "# The labels, usually as a 1D NumPy array\n",
    "\n",
    "# The fetch_openml() function is a bit unusual since by default it returns the inputs as a\n",
    "# Pandas DataFrame and the labels as a Pandas Series (unless the dataset is sparse).\n",
    "\n",
    "# But the MNIST dataset contains images, and DataFrames aren’t ideal for that, so it’s \n",
    "# preferable to set *as_frame=False* to get the data as NumPy arrays instead. \n"
   ]
  },
  {
   "cell_type": "code",
   "execution_count": 2,
   "metadata": {},
   "outputs": [],
   "source": [
    "X, y = mnist.data, mnist.target"
   ]
  },
  {
   "cell_type": "code",
   "execution_count": 3,
   "metadata": {},
   "outputs": [
    {
     "data": {
      "text/plain": [
       "array([[0., 0., 0., ..., 0., 0., 0.],\n",
       "       [0., 0., 0., ..., 0., 0., 0.],\n",
       "       [0., 0., 0., ..., 0., 0., 0.],\n",
       "       ...,\n",
       "       [0., 0., 0., ..., 0., 0., 0.],\n",
       "       [0., 0., 0., ..., 0., 0., 0.],\n",
       "       [0., 0., 0., ..., 0., 0., 0.]])"
      ]
     },
     "execution_count": 3,
     "metadata": {},
     "output_type": "execute_result"
    }
   ],
   "source": [
    "X"
   ]
  },
  {
   "cell_type": "code",
   "execution_count": 4,
   "metadata": {},
   "outputs": [
    {
     "data": {
      "text/plain": [
       "(70000, 784)"
      ]
     },
     "execution_count": 4,
     "metadata": {},
     "output_type": "execute_result"
    }
   ],
   "source": [
    "# There are 70,000 images, and each image has 784 features. \n",
    "# This is because each image is 28 × 28 pixels, and each feature simply represents\n",
    "#  one pixel’s intensity, from 0 (white) to 255 (black).\n",
    "X.shape"
   ]
  },
  {
   "cell_type": "code",
   "execution_count": 5,
   "metadata": {},
   "outputs": [
    {
     "data": {
      "text/plain": [
       "array(['5', '0', '4', ..., '4', '5', '6'], dtype=object)"
      ]
     },
     "execution_count": 5,
     "metadata": {},
     "output_type": "execute_result"
    }
   ],
   "source": [
    "y"
   ]
  },
  {
   "cell_type": "code",
   "execution_count": 6,
   "metadata": {},
   "outputs": [
    {
     "data": {
      "text/plain": [
       "(70000,)"
      ]
     },
     "execution_count": 6,
     "metadata": {},
     "output_type": "execute_result"
    }
   ],
   "source": [
    "y.shape"
   ]
  },
  {
   "cell_type": "code",
   "execution_count": 7,
   "metadata": {},
   "outputs": [
    {
     "data": {
      "image/png": "[encoded data removed]",
      "text/plain": [
       "<Figure size 640x480 with 1 Axes>"
      ]
     },
     "metadata": {},
     "output_type": "display_data"
    }
   ],
   "source": [
    "# Let’s take a peek at one digit(img) from the dataset. \n",
    "\n",
    "# All we need to do is grab an instance’s feature vector, reshape it to a 28 × 28 array, \n",
    "# and display it using Matplotlib’s imshow() function. \n",
    "# We use cmap=\"binary\" to get a grayscale color map where 0 is white and 255 is black:\n",
    "import matplotlib.pyplot as plt\n",
    "\n",
    "def plot_digit(image_data):\n",
    "    image = image_data.reshape(28, 28)\n",
    "    plt.imshow(image, cmap=\"binary\")\n",
    "    plt.axis(\"off\")\n",
    "\n",
    "some_digit = X[0]\n",
    "plot_digit(some_digit)\n",
    "plt.show()"
   ]
  },
  {
   "cell_type": "code",
   "execution_count": 9,
   "metadata": {},
   "outputs": [
    {
     "data": {
      "text/plain": [
       "'5'"
      ]
     },
     "execution_count": 9,
     "metadata": {},
     "output_type": "execute_result"
    }
   ],
   "source": [
    "y[0] # Label"
   ]
  },
  {
   "cell_type": "code",
   "execution_count": 10,
   "metadata": {},
   "outputs": [],
   "source": [
    "# But wait! You should always create a test set and set it aside before inspecting the data closely.\n",
    "# The MNIST dataset returned by fetch_openml() is actually already split into a training set \n",
    "# (the first 60,000 images) and a test set (the last 10,000 images)\n",
    "X_train, X_test, y_train, y_test = X[:60000], X[60000:], y[:60000], y[60000:]"
   ]
  },
  {
   "cell_type": "code",
   "execution_count": null,
   "metadata": {},
   "outputs": [],
   "source": [
    "# The training set is already shuffled for us, which is good because this guarantees that all \n",
    "# cross-validation folds will be similar (we don’t want one fold to be missing some digits).\n",
    "\n",
    "# Moreover, some learning algorithms are sensitive to the order of the training instances,\n",
    "# and they perform poorly if they get many similar instances in a row. Shuffling the\n",
    "# dataset ensures that this won’t happen."
   ]
  },
  {
   "cell_type": "markdown",
   "metadata": {},
   "source": [
    "# <font size = 8 color ='33FFFF'>Training a Binary Classifier</font>"
   ]
  },
  {
   "cell_type": "code",
   "execution_count": 11,
   "metadata": {},
   "outputs": [],
   "source": [
    "# Let’s simplify the problem for now and only try to identify one digit—for example, the number 5. \n",
    "# This “5-detector” will be an example of a binary classifier, capable of distinguishing\n",
    "# between just two classes, 5 and non-5.\n",
    "y_train_5 = (y_train == '5')  # True for all 5s, False for all other digits\n",
    "y_test_5 = (y_test == '5')"
   ]
  },
  {
   "cell_type": "code",
   "execution_count": 13,
   "metadata": {},
   "outputs": [
    {
     "data": {
      "text/html": [
       "<style>#sk-container-id-1 {color: black;}#sk-container-id-1 pre{padding: 0;}#sk-container-id-1 div.sk-toggleable {background-color: white;}#sk-container-id-1 label.sk-toggleable__label {cursor: pointer;display: block;width: 100%;margin-bottom: 0;padding: 0.3em;box-sizing: border-box;text-align: center;}#sk-container-id-1 label.sk-toggleable__label-arrow:before {content: \"▸\";float: left;margin-right: 0.25em;color: #696969;}#sk-container-id-1 label.sk-toggleable__label-arrow:hover:before {color: black;}#sk-container-id-1 div.sk-estimator:hover label.sk-toggleable__label-arrow:before {color: black;}#sk-container-id-1 div.sk-toggleable__content {max-height: 0;max-width: 0;overflow: hidden;text-align: left;background-color: #f0f8ff;}#sk-container-id-1 div.sk-toggleable__content pre {margin: 0.2em;color: black;border-radius: 0.25em;background-color: #f0f8ff;}#sk-container-id-1 input.sk-toggleable__control:checked~div.sk-toggleable__content {max-height: 200px;max-width: 100%;overflow: auto;}#sk-container-id-1 input.sk-toggleable__control:checked~label.sk-toggleable__label-arrow:before {content: \"▾\";}#sk-container-id-1 div.sk-estimator input.sk-toggleable__control:checked~label.sk-toggleable__label {background-color: #d4ebff;}#sk-container-id-1 div.sk-label input.sk-toggleable__control:checked~label.sk-toggleable__label {background-color: #d4ebff;}#sk-container-id-1 input.sk-hidden--visually {border: 0;clip: rect(1px 1px 1px 1px);clip: rect(1px, 1px, 1px, 1px);height: 1px;margin: -1px;overflow: hidden;padding: 0;position: absolute;width: 1px;}#sk-container-id-1 div.sk-estimator {font-family: monospace;background-color: #f0f8ff;border: 1px dotted black;border-radius: 0.25em;box-sizing: border-box;margin-bottom: 0.5em;}#sk-container-id-1 div.sk-estimator:hover {background-color: #d4ebff;}#sk-container-id-1 div.sk-parallel-item::after {content: \"\";width: 100%;border-bottom: 1px solid gray;flex-grow: 1;}#sk-container-id-1 div.sk-label:hover label.sk-toggleable__label {background-color: #d4ebff;}#sk-container-id-1 div.sk-serial::before {content: \"\";position: absolute;border-left: 1px solid gray;box-sizing: border-box;top: 0;bottom: 0;left: 50%;z-index: 0;}#sk-container-id-1 div.sk-serial {display: flex;flex-direction: column;align-items: center;background-color: white;padding-right: 0.2em;padding-left: 0.2em;position: relative;}#sk-container-id-1 div.sk-item {position: relative;z-index: 1;}#sk-container-id-1 div.sk-parallel {display: flex;align-items: stretch;justify-content: center;background-color: white;position: relative;}#sk-container-id-1 div.sk-item::before, #sk-container-id-1 div.sk-parallel-item::before {content: \"\";position: absolute;border-left: 1px solid gray;box-sizing: border-box;top: 0;bottom: 0;left: 50%;z-index: -1;}#sk-container-id-1 div.sk-parallel-item {display: flex;flex-direction: column;z-index: 1;position: relative;background-color: white;}#sk-container-id-1 div.sk-parallel-item:first-child::after {align-self: flex-end;width: 50%;}#sk-container-id-1 div.sk-parallel-item:last-child::after {align-self: flex-start;width: 50%;}#sk-container-id-1 div.sk-parallel-item:only-child::after {width: 0;}#sk-container-id-1 div.sk-dashed-wrapped {border: 1px dashed gray;margin: 0 0.4em 0.5em 0.4em;box-sizing: border-box;padding-bottom: 0.4em;background-color: white;}#sk-container-id-1 div.sk-label label {font-family: monospace;font-weight: bold;display: inline-block;line-height: 1.2em;}#sk-container-id-1 div.sk-label-container {text-align: center;}#sk-container-id-1 div.sk-container {/* jupyter's `normalize.less` sets `[hidden] { display: none; }` but bootstrap.min.css set `[hidden] { display: none !important; }` so we also need the `!important` here to be able to override the default hidden behavior on the sphinx rendered scikit-learn.org. See: https://github.com/scikit-learn/scikit-learn/issues/21755 */display: inline-block !important;position: relative;}#sk-container-id-1 div.sk-text-repr-fallback {display: none;}</style><div id=\"sk-container-id-1\" class=\"sk-top-container\"><div class=\"sk-text-repr-fallback\"><pre>SGDClassifier(random_state=42)</pre><b>In a Jupyter environment, please rerun this cell to show the HTML representation or trust the notebook. <br />On GitHub, the HTML representation is unable to render, please try loading this page with nbviewer.org.</b></div><div class=\"sk-container\" hidden><div class=\"sk-item\"><div class=\"sk-estimator sk-toggleable\"><input class=\"sk-toggleable__control sk-hidden--visually\" id=\"sk-estimator-id-1\" type=\"checkbox\" checked><label for=\"sk-estimator-id-1\" class=\"sk-toggleable__label sk-toggleable__label-arrow\">SGDClassifier</label><div class=\"sk-toggleable__content\"><pre>SGDClassifier(random_state=42)</pre></div></div></div></div></div>"
      ],
      "text/plain": [
       "SGDClassifier(random_state=42)"
      ]
     },
     "execution_count": 13,
     "metadata": {},
     "output_type": "execute_result"
    }
   ],
   "source": [
    "# Now let’s pick a classifier and train it. A good place to start is with a stochastic gradient\n",
    "# descent (SGD, or stochastic GD) classifier, using Scikit-Learn’s SGDClassifier class.\n",
    "from sklearn.linear_model import SGDClassifier\n",
    "\n",
    "# This classifier is capable of handling very large datasets efficiently. \n",
    "# This is in part because SGD deals with training instances independently, one at a time, \n",
    "# which also makes SGD well suited for online learning, as you will see later.\n",
    "\n",
    "# Let’s create an SGDClassifier and train it on the whole training set:\n",
    "sgd_clf = SGDClassifier(random_state=42)\n",
    "sgd_clf.fit(X_train, y_train_5)"
   ]
  },
  {
   "cell_type": "code",
   "execution_count": 16,
   "metadata": {},
   "outputs": [
    {
     "data": {
      "text/plain": [
       "array([ True])"
      ]
     },
     "execution_count": 16,
     "metadata": {},
     "output_type": "execute_result"
    }
   ],
   "source": [
    "# Now we can use it to detect images of the number 5.\n",
    "sgd_clf.predict([X[0]])"
   ]
  },
  {
   "cell_type": "code",
   "execution_count": 17,
   "metadata": {},
   "outputs": [
    {
     "data": {
      "text/plain": [
       "array([False])"
      ]
     },
     "execution_count": 17,
     "metadata": {},
     "output_type": "execute_result"
    }
   ],
   "source": [
    "sgd_clf.predict([some_digit])"
   ]
  },
  {
   "cell_type": "markdown",
   "metadata": {},
   "source": [
    "# <font size = 8 color ='33AFF5'>Performance Measures</font>"
   ]
  },
  {
   "cell_type": "code",
   "execution_count": 34,
   "metadata": {},
   "outputs": [],
   "source": [
    "# Let's evaluate on the model performance.\n",
    "# Evaluating a classifier is often significantly trickier than evaluating a regressor."
   ]
  },
  {
   "cell_type": "markdown",
   "metadata": {},
   "source": [
    "# <font size = 6 color ='33AFF5'>Measuring Accuracy Using Cross-Validation</font>"
   ]
  },
  {
   "cell_type": "code",
   "execution_count": 18,
   "metadata": {},
   "outputs": [
    {
     "data": {
      "text/plain": [
       "array([0.95035, 0.96035, 0.9604 ])"
      ]
     },
     "execution_count": 18,
     "metadata": {},
     "output_type": "execute_result"
    }
   ],
   "source": [
    "# A good way to evaluate a model is to use cross-validation. \n",
    "# Let’s use the cross_val_score() function to evaluate our SGDClassifier model, \n",
    "# using k-fold cross-validation with three folds.\n",
    "\n",
    "# Remember that k-fold cross-validation means splitting the training set\n",
    "# into k folds (in this case, three), then training the model k times,\n",
    "# holding out a different fold each time for evaluation\n",
    "\n",
    "from sklearn.model_selection import cross_val_score\n",
    "cross_val_score(sgd_clf, X_train, y_train_5, cv=3, scoring=\"accuracy\")"
   ]
  },
  {
   "cell_type": "code",
   "execution_count": 19,
   "metadata": {},
   "outputs": [
    {
     "name": "stdout",
     "output_type": "stream",
     "text": [
      "False\n"
     ]
    }
   ],
   "source": [
    "# Above 95% accuracy (ratio of correct predictions) on all cross-validation folds?\n",
    "\n",
    "# let’s look at a dummy classifier that just classifies every single image in the most\n",
    "# frequent class, which in this case is the negative class.\n",
    "from sklearn.dummy import DummyClassifier\n",
    "\n",
    "dummy_clf = DummyClassifier()\n",
    "dummy_clf.fit(X_train, y_train_5)\n",
    "print(any(dummy_clf.predict(X_train)))  # prints False: no 5s detected"
   ]
  },
  {
   "cell_type": "code",
   "execution_count": 20,
   "metadata": {},
   "outputs": [
    {
     "data": {
      "text/plain": [
       "array([0.90965, 0.90965, 0.90965])"
      ]
     },
     "execution_count": 20,
     "metadata": {},
     "output_type": "execute_result"
    }
   ],
   "source": [
    "# What's this model accuracy?\n",
    "cross_val_score(dummy_clf, X_train, y_train_5, cv=3, scoring=\"accuracy\")\n",
    "\n",
    "# That’s right, it has over 90% accuracy! This is simply because only about 10% of the images\n",
    "# are 5s, so if you always guess that an image is not a 5, you will be right about 90% of the time.\n",
    "\n",
    "# This demonstrates why accuracy is generally not the preferred performance measure for classifiers\n",
    "# especially when you are dealing with skewed datasets (i.e., when some classes are much more \n",
    "# frequent than others).\n",
    "\n",
    "# A much better way to evaluate the performance of a classifier is to look at the confusion matrix (CM)."
   ]
  },
  {
   "cell_type": "code",
   "execution_count": 22,
   "metadata": {},
   "outputs": [
    {
     "data": {
      "text/plain": [
       "StratifiedKFold(n_splits=3, random_state=None, shuffle=False)"
      ]
     },
     "execution_count": 22,
     "metadata": {},
     "output_type": "execute_result"
    }
   ],
   "source": [
    "# IMPLEMENTING CROSS-VALIDATION\n",
    "# Occasionally you will need more control over the cross-validation process than what Scikit-Learn provides off the shelf. \n",
    "\n",
    "# In these cases, you can implement cross-validation yourself.\n",
    "#  The following code does roughly the same thing as Scikit-Learn’s cross_val_score() function,\n",
    "#  and it prints the same result:\n",
    "from sklearn.model_selection import StratifiedKFold\n",
    "from sklearn.base import clone\n",
    "\n",
    "skfolds = StratifiedKFold(n_splits=3)  # add shuffle=True if the dataset is not already shuffled\n",
    "for train_index, test_index in skfolds.split(X_train, y_train_5):\n",
    "    clone_clf = clone(sgd_clf)\n",
    "    X_train_folds = X_train[train_index]\n",
    "    y_train_folds = y_train_5[train_index]\n",
    "    X_test_fold = X_train[test_index]\n",
    "    y_test_fold = y_train_5[test_index]\n",
    "\n",
    "    clone_clf.fit(X_train_folds, y_train_folds)\n",
    "    y_pred = clone_clf.predict(X_test_fold)\n",
    "    n_correct = sum(y_pred == y_test_fold)\n",
    "    print(n_correct / len(y_pred))  # prints 0.95035, 0.96035, and 0.9604\n",
    "\n",
    "# StratifiedKFold class performs 'stratified sampling' to produce folds that contain a\n",
    "# representative ratio of each class. \n",
    "# At each iteration the code creates a clone of the classifier,\n",
    "# trains that clone on the training folds, and makes predictions on the test fold."
   ]
  },
  {
   "cell_type": "markdown",
   "metadata": {},
   "source": [
    "# <font size = 6 color ='55A8F9'>Confusion Matrix</font>\n"
   ]
  },
  {
   "cell_type": "code",
   "execution_count": 23,
   "metadata": {},
   "outputs": [],
   "source": [
    "# The general idea of a confusion matrix is to count the number of times \n",
    "# instances of class A are classified as class B, for all A/B pairs.\n",
    "\n",
    "# For example, to know the number of times the classifier confused images of\n",
    "# 8s with 0s, you would look at row #8, column #0 of the confusion matrix.\n",
    "\n",
    "# To compute the confusion matrix, you first need to have a set of predictions so that\n",
    "#  they can be compared to the actual targets. \n",
    "\n",
    "#You could make predictions on the test set, but it’s best to keep that untouched \n",
    "# for now (remember that you want to use the test set only at the very end of your projec\n",
    "# once you have a classifier that you are ready to launch).\n",
    "\n",
    "# use the cross_val_predict() function:\n",
    "from sklearn.model_selection import cross_val_predict\n",
    "\n",
    "y_train_pred = cross_val_predict(sgd_clf, X_train, y_train_5, cv=3)\n",
    "# Just like the cross_val_score() function, cross_val_predict() performs k-fold cross-validation,\n",
    "#  but instead of returning the evaluation scores, it returns the predictions made on each \n",
    "# test fold. "
   ]
  },
  {
   "cell_type": "code",
   "execution_count": 24,
   "metadata": {},
   "outputs": [
    {
     "data": {
      "text/plain": [
       "array([ True, False, False, ...,  True, False, False])"
      ]
     },
     "execution_count": 24,
     "metadata": {},
     "output_type": "execute_result"
    }
   ],
   "source": [
    "y_train_pred"
   ]
  },
  {
   "cell_type": "code",
   "execution_count": 25,
   "metadata": {},
   "outputs": [
    {
     "data": {
      "text/plain": [
       "array([[53892,   687],\n",
       "       [ 1891,  3530]])"
      ]
     },
     "execution_count": 25,
     "metadata": {},
     "output_type": "execute_result"
    }
   ],
   "source": [
    "# Now you are ready to get the confusion matrix using the confusion_matrix() function.\n",
    "#  Just pass it the target classes (y_train_5) and the predicted classes (y_train_pred):\n",
    "from sklearn.metrics import confusion_matrix\n",
    "cm = confusion_matrix(y_train_5, y_train_pred)\n",
    "cm"
   ]
  },
  {
   "cell_type": "code",
   "execution_count": 27,
   "metadata": {},
   "outputs": [
    {
     "data": {
      "text/plain": [
       "array([[54579,     0],\n",
       "       [    0,  5421]])"
      ]
     },
     "execution_count": 27,
     "metadata": {},
     "output_type": "execute_result"
    }
   ],
   "source": [
    "# Each row in a confusion matrix represents an actual class, while each column \n",
    "# represents a predicted class.\n",
    "\n",
    "# array([[53892,   687],\n",
    "#        [ 1891,  3530]])\n",
    "\n",
    "# The first row of this matrix considers non-5 images (the negative class)\n",
    "# => 53,892 were correctly classified as non-5s (true negatives),\n",
    "# => 687 were incorrectly classified as 5s (false positives or Type I errors).\n",
    "\n",
    "# The second row considers the images of 5s (the positive class)\n",
    "# => 1,891 were wrongly classified as non-5s (false negatives or Type II errors).\n",
    "# => 3,530 were correctly classified as 5s (true positives)\n",
    "\n",
    "# A perfect classifier would only have true positives and true negatives, \n",
    "#  so its confusion matrix would have nonzero values only on its main diagonal \n",
    "#  (top left to bottom right):\n",
    "\n",
    "y_train_perfect_predictions = y_train_5  # pretend we reached perfection\n",
    "confusion_matrix(y_train_5, y_train_perfect_predictions)"
   ]
  },
  {
   "cell_type": "code",
   "execution_count": 29,
   "metadata": {},
   "outputs": [],
   "source": [
    "# The confusion matrix gives you a lot of information, but sometimes you may prefer \n",
    "# a more concise metric. \n",
    "\n",
    "# An interesting one to look at is the accuracy of the positive predictions; \n",
    "# this is called the **precision of the classifier**"
   ]
  },
  {
   "cell_type": "markdown",
   "metadata": {},
   "source": [
    "$precision = \\frac{TP}{TP + FP}$<br><br>\n",
    "\n",
    "where:<br>\n",
    "- TP is the number of true positives\n",
    "- FP is the number of false positives"
   ]
  },
  {
   "cell_type": "code",
   "execution_count": null,
   "metadata": {},
   "outputs": [],
   "source": [
    "# A trivial way to have perfect precision is to create a classifier that always makes \n",
    "# negative predictions, except for one single positive prediction on the instance it’s \n",
    "# most confident about. \n",
    "\n",
    "# If this one prediction is correct, then the classifier has 100% precision\n",
    "#  (precision = 1/1 = 100%). Obviously, such a classifier would not be very useful, \n",
    "#  since it would ignore all but one positive instance. So, precision is typically \n",
    "# used along with another metric named recall"
   ]
  },
  {
   "cell_type": "markdown",
   "metadata": {},
   "source": [
    "$recall = \\frac{TP}{TP + FN}$ <br><br>\n",
    "where:<br>\n",
    "- FN is the number of false negatives"
   ]
  },
  {
   "cell_type": "code",
   "execution_count": null,
   "metadata": {},
   "outputs": [],
   "source": [
    "# recall: also called sensitivity or the true positive rate (TPR): this is the ratio \n",
    "#  of positive instances that are correctly detected by the classifier"
   ]
  },
  {
   "cell_type": "code",
   "execution_count": null,
   "metadata": {},
   "outputs": [],
   "source": [
    "# Scikit-Learn provides several functions to compute classifier metrics, \n",
    "# including precision and recall:"
   ]
  },
  {
   "cell_type": "code",
   "execution_count": 30,
   "metadata": {},
   "outputs": [
    {
     "data": {
      "text/plain": [
       "0.8370879772350012"
      ]
     },
     "execution_count": 30,
     "metadata": {},
     "output_type": "execute_result"
    }
   ],
   "source": [
    "from sklearn.metrics import precision_score, recall_score\n",
    "precision_score(y_train_5, y_train_pred)  # == 3530 / (687 + 3530)"
   ]
  },
  {
   "cell_type": "code",
   "execution_count": 31,
   "metadata": {},
   "outputs": [
    {
     "data": {
      "text/plain": [
       "0.6511713705958311"
      ]
     },
     "execution_count": 31,
     "metadata": {},
     "output_type": "execute_result"
    }
   ],
   "source": [
    "recall_score(y_train_5, y_train_pred)  # == 3530 / (1891 + 3530)\n",
    "# Now our 5-detector does not look as shiny as it did when we looked at its accuracy.\n",
    "#  When it claims an image represents a 5, it is correct only 83.7% of the time. Moreover,\n",
    "#  it only detects 65.1% of the 5s."
   ]
  },
  {
   "cell_type": "code",
   "execution_count": 32,
   "metadata": {},
   "outputs": [],
   "source": [
    "# It is often convenient to combine precision and recall into a single metric called the F1 score,\n",
    "#  especially when you need a single metric to compare two classifiers.\n",
    "\n",
    "# The F1 score is the harmonic mean of precision and recall\n",
    "\n",
    "# Whereas the regular mean treats all values equally, \n",
    "#  the harmonic mean gives much more weight to low values. \n",
    "# As a result, the classifier will only get a high F1 score if both recall and precision \n",
    "# are high."
   ]
  },
  {
   "cell_type": "markdown",
   "metadata": {},
   "source": [
    "$F_1 = \\frac{2}{\\frac{1}{precision}+\\frac{1}{recall}} = 2 \\times \\frac{precision \\times recall}{precision + recall} = \\frac{TP}{TP + \\frac{FN + FP}{2}}$"
   ]
  },
  {
   "cell_type": "code",
   "execution_count": 33,
   "metadata": {},
   "outputs": [
    {
     "data": {
      "text/plain": [
       "0.7325171197343846"
      ]
     },
     "execution_count": 33,
     "metadata": {},
     "output_type": "execute_result"
    }
   ],
   "source": [
    "from sklearn.metrics import f1_score\n",
    "f1_score(y_train_5, y_train_pred)"
   ]
  },
  {
   "cell_type": "code",
   "execution_count": null,
   "metadata": {},
   "outputs": [],
   "source": [
    "# The F1 score favors classifiers that have similar precision and recall.\n",
    "# This is not always what you want: in some contexts you mostly care about precision,\n",
    "# and in other contexts you really care about recall\n"
   ]
  }
 ],
 "metadata": {
  "kernelspec": {
   "display_name": "Python 3",
   "language": "python",
   "name": "python3"
  },
  "language_info": {
   "codemirror_mode": {
    "name": "ipython",
    "version": 3
   },
   "file_extension": ".py",
   "mimetype": "text/x-python",
   "name": "python",
   "nbconvert_exporter": "python",
   "pygments_lexer": "ipython3",
   "version": "3.11.0"
  },
  "orig_nbformat": 4
 },
 "nbformat": 4,
 "nbformat_minor": 2
}
