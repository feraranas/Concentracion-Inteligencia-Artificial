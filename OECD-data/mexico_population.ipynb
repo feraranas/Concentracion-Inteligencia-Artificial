{
 "cells": [
  {
   "cell_type": "markdown",
   "metadata": {},
   "source": [
    "*Mexico population analytics*"
   ]
  },
  {
   "cell_type": "code",
   "execution_count": 9,
   "metadata": {},
   "outputs": [],
   "source": [
    "import pandas as pd\n",
    "import matplotlib.pyplot as plt\n",
    "data = pd.read_csv('DP_LIVE_25082023214815589.csv')"
   ]
  },
  {
   "cell_type": "code",
   "execution_count": 10,
   "metadata": {},
   "outputs": [
    {
     "data": {
      "text/plain": [
       "Index(['LOCATION', 'INDICATOR', 'SUBJECT', 'MEASURE', 'FREQUENCY', 'TIME',\n",
       "       'Value', 'Flag Codes'],\n",
       "      dtype='object')"
      ]
     },
     "execution_count": 10,
     "metadata": {},
     "output_type": "execute_result"
    }
   ],
   "source": [
    "data.columns"
   ]
  },
  {
   "cell_type": "code",
   "execution_count": 11,
   "metadata": {},
   "outputs": [
    {
     "name": "stdout",
     "output_type": "stream",
     "text": [
      "<class 'pandas.core.frame.DataFrame'>\n",
      "RangeIndex: 222 entries, 0 to 221\n",
      "Data columns (total 8 columns):\n",
      " #   Column      Non-Null Count  Dtype  \n",
      "---  ------      --------------  -----  \n",
      " 0   LOCATION    222 non-null    object \n",
      " 1   INDICATOR   222 non-null    object \n",
      " 2   SUBJECT     222 non-null    object \n",
      " 3   MEASURE     222 non-null    object \n",
      " 4   FREQUENCY   222 non-null    object \n",
      " 5   TIME        222 non-null    int64  \n",
      " 6   Value       222 non-null    float64\n",
      " 7   Flag Codes  0 non-null      float64\n",
      "dtypes: float64(2), int64(1), object(5)\n",
      "memory usage: 14.0+ KB\n"
     ]
    }
   ],
   "source": [
    "data.info()"
   ]
  },
  {
   "cell_type": "code",
   "execution_count": 12,
   "metadata": {},
   "outputs": [
    {
     "data": {
      "text/html": [
       "<div>\n",
       "<style scoped>\n",
       "    .dataframe tbody tr th:only-of-type {\n",
       "        vertical-align: middle;\n",
       "    }\n",
       "\n",
       "    .dataframe tbody tr th {\n",
       "        vertical-align: top;\n",
       "    }\n",
       "\n",
       "    .dataframe thead th {\n",
       "        text-align: right;\n",
       "    }\n",
       "</style>\n",
       "<table border=\"1\" class=\"dataframe\">\n",
       "  <thead>\n",
       "    <tr style=\"text-align: right;\">\n",
       "      <th></th>\n",
       "      <th>LOCATION</th>\n",
       "      <th>INDICATOR</th>\n",
       "      <th>SUBJECT</th>\n",
       "      <th>MEASURE</th>\n",
       "      <th>FREQUENCY</th>\n",
       "      <th>TIME</th>\n",
       "      <th>Value</th>\n",
       "      <th>Flag Codes</th>\n",
       "    </tr>\n",
       "  </thead>\n",
       "  <tbody>\n",
       "    <tr>\n",
       "      <th>0</th>\n",
       "      <td>AUS</td>\n",
       "      <td>POP</td>\n",
       "      <td>TOT</td>\n",
       "      <td>MLN_PER</td>\n",
       "      <td>A</td>\n",
       "      <td>2018</td>\n",
       "      <td>24.982688</td>\n",
       "      <td>NaN</td>\n",
       "    </tr>\n",
       "    <tr>\n",
       "      <th>1</th>\n",
       "      <td>AUS</td>\n",
       "      <td>POP</td>\n",
       "      <td>TOT</td>\n",
       "      <td>MLN_PER</td>\n",
       "      <td>A</td>\n",
       "      <td>2019</td>\n",
       "      <td>25.365745</td>\n",
       "      <td>NaN</td>\n",
       "    </tr>\n",
       "    <tr>\n",
       "      <th>2</th>\n",
       "      <td>AUS</td>\n",
       "      <td>POP</td>\n",
       "      <td>TOT</td>\n",
       "      <td>MLN_PER</td>\n",
       "      <td>A</td>\n",
       "      <td>2020</td>\n",
       "      <td>25.693267</td>\n",
       "      <td>NaN</td>\n",
       "    </tr>\n",
       "    <tr>\n",
       "      <th>3</th>\n",
       "      <td>AUS</td>\n",
       "      <td>POP</td>\n",
       "      <td>TOT</td>\n",
       "      <td>MLN_PER</td>\n",
       "      <td>A</td>\n",
       "      <td>2021</td>\n",
       "      <td>25.738142</td>\n",
       "      <td>NaN</td>\n",
       "    </tr>\n",
       "    <tr>\n",
       "      <th>4</th>\n",
       "      <td>AUT</td>\n",
       "      <td>POP</td>\n",
       "      <td>TOT</td>\n",
       "      <td>MLN_PER</td>\n",
       "      <td>A</td>\n",
       "      <td>2018</td>\n",
       "      <td>8.837707</td>\n",
       "      <td>NaN</td>\n",
       "    </tr>\n",
       "  </tbody>\n",
       "</table>\n",
       "</div>"
      ],
      "text/plain": [
       "  LOCATION INDICATOR SUBJECT  MEASURE FREQUENCY  TIME      Value  Flag Codes\n",
       "0      AUS       POP     TOT  MLN_PER         A  2018  24.982688         NaN\n",
       "1      AUS       POP     TOT  MLN_PER         A  2019  25.365745         NaN\n",
       "2      AUS       POP     TOT  MLN_PER         A  2020  25.693267         NaN\n",
       "3      AUS       POP     TOT  MLN_PER         A  2021  25.738142         NaN\n",
       "4      AUT       POP     TOT  MLN_PER         A  2018   8.837707         NaN"
      ]
     },
     "execution_count": 12,
     "metadata": {},
     "output_type": "execute_result"
    }
   ],
   "source": [
    "data.head()"
   ]
  },
  {
   "cell_type": "code",
   "execution_count": 13,
   "metadata": {},
   "outputs": [
    {
     "data": {
      "text/plain": [
       "LOCATION\n",
       "AUS     4\n",
       "OECD    4\n",
       "USA     4\n",
       "BRA     4\n",
       "CHL     4\n",
       "COL     4\n",
       "EST     4\n",
       "ISR     4\n",
       "SVN     4\n",
       "CHN     4\n",
       "IND     4\n",
       "IDN     4\n",
       "ZAF     4\n",
       "LVA     4\n",
       "TUR     4\n",
       "ARG     4\n",
       "BGR     4\n",
       "CRI     4\n",
       "HRV     4\n",
       "CYP     4\n",
       "LTU     4\n",
       "MLT     4\n",
       "ROU     4\n",
       "SAU     4\n",
       "SGP     4\n",
       "WLD     4\n",
       "AUT     4\n",
       "GBR     4\n",
       "CHE     4\n",
       "SWE     4\n",
       "BEL     4\n",
       "CAN     4\n",
       "CZE     4\n",
       "DNK     4\n",
       "FIN     4\n",
       "FRA     4\n",
       "DEU     4\n",
       "GRC     4\n",
       "HUN     4\n",
       "ISL     4\n",
       "IRL     4\n",
       "ITA     4\n",
       "JPN     4\n",
       "KOR     4\n",
       "LUX     4\n",
       "MEX     4\n",
       "NLD     4\n",
       "NZL     4\n",
       "NOR     4\n",
       "POL     4\n",
       "PRT     4\n",
       "SVK     4\n",
       "ESP     4\n",
       "EU27    4\n",
       "RUS     3\n",
       "G20     3\n",
       "Name: count, dtype: int64"
      ]
     },
     "execution_count": 13,
     "metadata": {},
     "output_type": "execute_result"
    }
   ],
   "source": [
    "data['LOCATION'].value_counts()"
   ]
  },
  {
   "cell_type": "code",
   "execution_count": 14,
   "metadata": {},
   "outputs": [
    {
     "data": {
      "text/plain": [
       "INDICATOR\n",
       "POP    222\n",
       "Name: count, dtype: int64"
      ]
     },
     "execution_count": 14,
     "metadata": {},
     "output_type": "execute_result"
    }
   ],
   "source": [
    "data['INDICATOR'].value_counts()"
   ]
  },
  {
   "cell_type": "code",
   "execution_count": 15,
   "metadata": {},
   "outputs": [
    {
     "data": {
      "text/plain": [
       "SUBJECT\n",
       "TOT    222\n",
       "Name: count, dtype: int64"
      ]
     },
     "execution_count": 15,
     "metadata": {},
     "output_type": "execute_result"
    }
   ],
   "source": [
    "data['SUBJECT'].value_counts()"
   ]
  },
  {
   "cell_type": "code",
   "execution_count": 16,
   "metadata": {},
   "outputs": [
    {
     "data": {
      "text/plain": [
       "MEASURE\n",
       "MLN_PER    222\n",
       "Name: count, dtype: int64"
      ]
     },
     "execution_count": 16,
     "metadata": {},
     "output_type": "execute_result"
    }
   ],
   "source": [
    "data['MEASURE'].value_counts()"
   ]
  },
  {
   "cell_type": "code",
   "execution_count": 17,
   "metadata": {},
   "outputs": [
    {
     "data": {
      "text/plain": [
       "FREQUENCY\n",
       "A    222\n",
       "Name: count, dtype: int64"
      ]
     },
     "execution_count": 17,
     "metadata": {},
     "output_type": "execute_result"
    }
   ],
   "source": [
    "data['FREQUENCY'].value_counts()"
   ]
  },
  {
   "cell_type": "code",
   "execution_count": 18,
   "metadata": {},
   "outputs": [
    {
     "data": {
      "text/plain": [
       "TIME\n",
       "2018    56\n",
       "2019    56\n",
       "2020    56\n",
       "2021    54\n",
       "Name: count, dtype: int64"
      ]
     },
     "execution_count": 18,
     "metadata": {},
     "output_type": "execute_result"
    }
   ],
   "source": [
    "data['TIME'].value_counts()"
   ]
  }
 ],
 "metadata": {
  "kernelspec": {
   "display_name": "Python 3",
   "language": "python",
   "name": "python3"
  },
  "language_info": {
   "codemirror_mode": {
    "name": "ipython",
    "version": 3
   },
   "file_extension": ".py",
   "mimetype": "text/x-python",
   "name": "python",
   "nbconvert_exporter": "python",
   "pygments_lexer": "ipython3",
   "version": "3.11.0"
  },
  "orig_nbformat": 4
 },
 "nbformat": 4,
 "nbformat_minor": 2
}
