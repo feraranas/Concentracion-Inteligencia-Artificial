{
 "cells": [
  {
   "cell_type": "markdown",
   "metadata": {},
   "source": [
    "# Digital audio"
   ]
  },
  {
   "cell_type": "code",
   "execution_count": 19,
   "metadata": {},
   "outputs": [],
   "source": [
    "import librosa as librosa\n",
    "import matplotlib.pyplot as plt\n",
    "from IPython.display import Audio"
   ]
  },
  {
   "cell_type": "code",
   "execution_count": 70,
   "metadata": {},
   "outputs": [],
   "source": [
    "import numpy as np\n",
    "import librosa as librosa\n",
    "\n",
    "def get_sample_rate(_frequency, _duration):\n",
    "     y = librosa.tone(_frequency, duration=_duration)\n",
    "     data = np.array(y)\n",
    "     sample_rate = data.size / _duration\n",
    "     nyquist_frequency = 2 * _frequency\n",
    "     return data, sample_rate, nyquist_frequency\n",
    "\n",
    "data, sample_rate, nyquist_frequency = get_sample_rate(400, 10)"
   ]
  },
  {
   "cell_type": "code",
   "execution_count": null,
   "metadata": {},
   "outputs": [],
   "source": [
    "y = librosa.tone(400, duration=10)\n",
    "Audio(data=y, rate=22000)"
   ]
  },
  {
   "cell_type": "code",
   "execution_count": 74,
   "metadata": {},
   "outputs": [
    {
     "data": {
      "text/plain": [
       "[0,\n",
       " 11025,\n",
       " 22050,\n",
       " 33075,\n",
       " 44100,\n",
       " 55125,\n",
       " 66150,\n",
       " 77175,\n",
       " 88200,\n",
       " 99225,\n",
       " 110250,\n",
       " 121275,\n",
       " 132300,\n",
       " 143325,\n",
       " 154350,\n",
       " 165375,\n",
       " 176400,\n",
       " 187425,\n",
       " 198450,\n",
       " 209475]"
      ]
     },
     "execution_count": 74,
     "metadata": {},
     "output_type": "execute_result"
    }
   ],
   "source": [
    "# Modify y sound to reduce the sample rate at half its frequency\n",
    "# Generate pattern of values\n",
    "# def generate_pattern(sr):\n",
    "#      pattern = []\n",
    "#      for n in range(int(sr)):\n",
    "#           pattern += ([n for n in range(int(sr))])\n",
    "\n",
    "#      return pattern\n",
    "# pattern = generate_pattern(3)\n",
    "\n",
    "def reduce_sample_rate(sr, data):\n",
    "     newSr = int(sr / 2)\n",
    "     newData = [n for n in range(0, data.size, newSr)]\n",
    "     return newData\n",
    "\n",
    "res = reduce_sample_rate(sample_rate, data)\n",
    "res"
   ]
  }
 ],
 "metadata": {
  "kernelspec": {
   "display_name": "Python 3",
   "language": "python",
   "name": "python3"
  },
  "language_info": {
   "codemirror_mode": {
    "name": "ipython",
    "version": 3
   },
   "file_extension": ".py",
   "mimetype": "text/x-python",
   "name": "python",
   "nbconvert_exporter": "python",
   "pygments_lexer": "ipython3",
   "version": "3.11.0"
  },
  "orig_nbformat": 4
 },
 "nbformat": 4,
 "nbformat_minor": 2
}
