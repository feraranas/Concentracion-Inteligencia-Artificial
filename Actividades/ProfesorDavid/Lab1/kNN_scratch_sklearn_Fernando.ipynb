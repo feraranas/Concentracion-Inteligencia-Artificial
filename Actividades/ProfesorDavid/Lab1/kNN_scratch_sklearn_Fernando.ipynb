{
  "cells": [
    {
      "cell_type": "markdown",
      "metadata": {
        "id": "PYixiOTXfx2E"
      },
      "source": [
        "<font size = 8 color ='336EFF'>k Nearest Neighbors</font>"
      ]
    },
    {
      "cell_type": "markdown",
      "metadata": {
        "id": "JhIlhGOL89um"
      },
      "source": [
        "Import libraries"
      ]
    },
    {
      "cell_type": "code",
      "execution_count": 1,
      "metadata": {
        "id": "7qKjbw7w88x9"
      },
      "outputs": [],
      "source": [
        "from collections import Counter\n",
        "import numpy as np\n",
        "import matplotlib.pyplot as plt\n",
        "from scipy import stats"
      ]
    },
    {
      "cell_type": "markdown",
      "metadata": {
        "id": "77gbEJRw2i2d"
      },
      "source": [
        "## Define kNN using the steps from the pseudocode\n",
        "The KNN Algorithm:\n",
        "<ol>\n",
        "    <li>Load the data</li>\n",
        "    <li>Initialize K to your chosen number of neighbors</li>\n",
        "    <li>For each example in the data</li>\n",
        "    <ol>\n",
        "    <li>Calculate the distance between the query example and the current example from the data.</li>\n",
        "    <li>Add the distance and the index of the example to an ordered collection</li>\n",
        "    </ol>\n",
        "    <li>Sort the ordered collection of distances and indices from smallest to largest (in ascending order) by the distances</li>\n",
        "    <li>Pick the first K entries from the sorted collection</li>\n",
        "    <li>Get the labels of the selected K entries</li>\n",
        "    <li>a) If regression, return the mean of the K labels</li>\n",
        "    <li>b) If classification, return the mode of the K labels</li>\n",
        "</ol>"
      ]
    },
    {
      "cell_type": "code",
      "execution_count": 3,
      "metadata": {
        "id": "JOM8gLR-1vIL"
      },
      "outputs": [],
      "source": [
        "def knn(data, query, k, distance_fn, choice_fn):\n",
        "    neighbor_distances_and_indices = []\n",
        "    # 3. For each example in the data\n",
        "    neighbor_distances_and_indices = np.zeros((data.shape[0], 2))\n",
        "    for index, example in enumerate(data):\n",
        "        # 3.1 Calculate the distance between the query example and the current\n",
        "        # example from the data.\n",
        "        distance = distance_fn(example[:-1], query)\n",
        "        # 3.2 Add the distance and the index of the example to an ordered collection\n",
        "        neighbor_distances_and_indices[index, 0], neighbor_distances_and_indices[index, 1] = distance, index\n",
        "        # 4. Sort the ordered collection of distances and indices from\n",
        "    # smallest to largest (in ascending order) by the distances\n",
        "    sorted_neighbor_distances_and_indices =  neighbor_distances_and_indices[neighbor_distances_and_indices[:,0].argsort(kind='mergesort')]\n",
        "    # 5. Pick the first K entries from the sorted collection\n",
        "    k_nearest_distances_and_indices = sorted_neighbor_distances_and_indices[:k, :]\n",
        "    # 6. Get the labels of the selected K entries\n",
        "    k_nearest_labels = np.zeros((k, 1))\n",
        "    n = 0\n",
        "    for distance, i in k_nearest_distances_and_indices:\n",
        "        i = int(i)\n",
        "        k_nearest_labels[n, 0] = data[i, -1]\n",
        "        n += 1\n",
        "\n",
        "    # 7. If regression (choice_fn = mean), return the average of the K labels\n",
        "    # 8. If classification (choice_fn = mode), return the mode of the K labels\n",
        "    return k_nearest_distances_and_indices , choice_fn(k_nearest_labels)"
      ]
    },
    {
      "cell_type": "markdown",
      "metadata": {
        "id": "QHV07mh24CHP"
      },
      "source": [
        "### Auxiliar functions"
      ]
    },
    {
      "cell_type": "code",
      "execution_count": 4,
      "metadata": {
        "id": "2pgAT-2U4B_5"
      },
      "outputs": [],
      "source": [
        "def mean(labels):\n",
        "    return sum(labels) / len(labels)\n",
        "\n",
        "def mode(labels):\n",
        "    # find unique values in array along with their counts\n",
        "    vals, counts = np.unique(labels, return_counts=True)\n",
        "    # find mode\n",
        "    mode_value = np.argwhere(counts == np.max(counts))\n",
        "    return mode_value #stats.mode(labels)\n",
        "\n",
        "def euclidean_distance(point1, point2):\n",
        "    sum_squared_distance = 0\n",
        "    dis = np.linalg.norm(point1 - point2)\n",
        "    return dis"
      ]
    },
    {
      "cell_type": "markdown",
      "metadata": {
        "id": "ejtxia229MWT"
      },
      "source": [
        "Ploting Functions"
      ]
    },
    {
      "cell_type": "code",
      "execution_count": 5,
      "metadata": {
        "id": "jMMZvkpu9MJ1"
      },
      "outputs": [],
      "source": [
        "def plot_reg(X, y, x_pred, y_pred):\n",
        "    # plotting points with diff color for diff label\n",
        "    plt.plot(X, y, 'o', c='b')\n",
        "\n",
        "    plt.plot(x_pred, y_pred, '*', c='k', label='reg line')\n",
        "\n",
        "    plt.xlabel('x')\n",
        "    plt.ylabel('y')\n",
        "    plt.legend()\n",
        "    plt.show()\n",
        "\n",
        "def plot_class(X, y, x_pred, y_pred):\n",
        "    # labelled observations\n",
        "    x_0 = X[np.where(y == 0.0)]\n",
        "    x_1 = X[np.where(y == 1.0)]\n",
        "    # plotting points with diff color for diff label\n",
        "    plt.scatter([x_0[:, 0]], [x_0[:, 1]], c='b', label='y = 0')\n",
        "    plt.scatter([x_1[:, 0]], [x_1[:, 1]], c='r', label='y = 1')\n",
        "\n",
        "    # plotting decision boundary\n",
        "    if y_pred == 0:\n",
        "        color = 'b'\n",
        "    elif y_pred == 1:\n",
        "        color = 'r'\n",
        "    plt.plot(x_pred[0], x_pred[1], '*', c=color, label='reg line')\n",
        "\n",
        "    plt.xlabel('x1')\n",
        "    plt.ylabel('x2')\n",
        "    plt.legend()\n",
        "    plt.show()\n"
      ]
    },
    {
      "cell_type": "markdown",
      "metadata": {
        "id": "2vQPBW1O6rgl"
      },
      "source": [
        "### Regression\n",
        "#### Regression Data\n",
        "#### Column 0: height (inches)\n",
        "#### Column 1: weight (pounds)"
      ]
    },
    {
      "cell_type": "code",
      "execution_count": 6,
      "metadata": {
        "colab": {
          "base_uri": "https://localhost:8080/",
          "height": 300
        },
        "id": "ye4KWMTJ6rWk",
        "outputId": "ca296dfe-d1f7-473e-ccac-2b42f41c66a6"
      },
      "outputs": [
        {
          "name": "stdout",
          "output_type": "stream",
          "text": [
            "[128.24666667]\n"
          ]
        },
        {
          "data": {
            "image/png": "[encoded data removed]",
            "text/plain": [
              "<Figure size 640x480 with 1 Axes>"
            ]
          },
          "metadata": {},
          "output_type": "display_data"
        }
      ],
      "source": [
        "reg_data = np.array([ [65.75, 112.99], [71.52, 136.49], [69.40, 153.03], [68.22, 142.34], [67.79, 144.30], [68.70, 123.30], [69.80, 141.49], [70.01, 136.46], [67.90, 112.37], [66.49, 127.45], ])\n",
        "\n",
        "# Question:\n",
        "# Given the data we have, what's the best-guess at someone's weight if they are 60 inches tall?\n",
        "reg_query = [66]\n",
        "reg_k_nearest_neighbors, reg_prediction = knn(\n",
        "    reg_data, reg_query, k=3, distance_fn=euclidean_distance, choice_fn=mean)\n",
        "print(reg_prediction)\n",
        "plot_reg(reg_data[:, 0], reg_data[:, 1], reg_query, reg_prediction)\n"
      ]
    },
    {
      "cell_type": "markdown",
      "metadata": {
        "id": "Md9BuiBa69nq"
      },
      "source": [
        "### Classification\n",
        "#### Classification Data\n",
        "#### -> Column 0: age\n",
        "#### -> Column 1: likes pineapple"
      ]
    },
    {
      "cell_type": "code",
      "execution_count": 7,
      "metadata": {
        "colab": {
          "base_uri": "https://localhost:8080/"
        },
        "id": "imS6KGub68-Q",
        "outputId": "d959b534-54f5-464c-a829-ed65cbde34d0"
      },
      "outputs": [
        {
          "name": "stdout",
          "output_type": "stream",
          "text": [
            "[[0]]\n"
          ]
        }
      ],
      "source": [
        "clf_data = np.array([ [22, 1], [23, 1], [21, 1], [18, 1], [19, 1], [25, 0], [27, 0], [29, 0], [31, 0], [45, 0]])\n",
        "# Question:\n",
        "# Given the data we have, does a 33 year old like pineapples on their pizza?\n",
        "clf_query = [33]\n",
        "clf_k_nearest_neighbors, clf_prediction = knn(\n",
        "    clf_data, clf_query, k=3, distance_fn=euclidean_distance, choice_fn=mode)\n",
        "print(clf_prediction)"
      ]
    },
    {
      "cell_type": "markdown",
      "metadata": {
        "id": "em71nWN2Rw-O"
      },
      "source": [
        "### Classification Data\n",
        "### -> Column 0: height\n",
        "### -> Column 1: weight\n",
        "### -> Column 2: 0->Medium, 1->Large"
      ]
    },
    {
      "cell_type": "code",
      "execution_count": 9,
      "metadata": {
        "colab": {
          "base_uri": "https://localhost:8080/",
          "height": 296
        },
        "id": "aYmkzWHjRwp_",
        "outputId": "2152daf3-9eef-4b7b-9856-987dd07eb060"
      },
      "outputs": [
        {
          "name": "stdout",
          "output_type": "stream",
          "text": [
            "[[1]]\n"
          ]
        },
        {
          "data": {
            "image/png": "[encoded data removed]",
            "text/plain": [
              "<Figure size 640x480 with 1 Axes>"
            ]
          },
          "metadata": {},
          "output_type": "display_data"
        }
      ],
      "source": [
        "clf_data = np.array([[160, 60, 0], [163, 60, 0], [163, 61, 0], [160, 64, 1], [163, 64, 1], [165, 61, 1]])\n",
        "# Question:\n",
        "# Given the data we have, the height of a person is 161cm & it's weight is 63kg, is it a medium [0] or a large[1]?\n",
        "clf_query = np.array([161, 63])\n",
        "clf_k_nearest_neighbors, clf_prediction = knn(clf_data,\n",
        "                                              clf_query,\n",
        "                                              k=3,\n",
        "                                              distance_fn=euclidean_distance,\n",
        "                                              choice_fn=mode)\n",
        "print(clf_prediction)\n",
        "plot_class(clf_data[:, :-1], clf_data[:, -1], clf_query, clf_prediction)"
      ]
    },
    {
      "cell_type": "markdown",
      "metadata": {
        "id": "lbmXBtCnW376"
      },
      "source": [
        "## Dataset movies recomendation"
      ]
    },
    {
      "cell_type": "markdown",
      "metadata": {
        "id": "NqAJECB1W_Kk"
      },
      "source": [
        "### Connect Drive"
      ]
    },
    {
      "cell_type": "code",
      "execution_count": null,
      "metadata": {
        "colab": {
          "base_uri": "https://localhost:8080/"
        },
        "id": "j895IUEWXDcc",
        "outputId": "9b9a13d3-de0b-44f9-fd2f-f683fe2e00da"
      },
      "outputs": [
        {
          "name": "stdout",
          "output_type": "stream",
          "text": [
            "Mounted at /content/gdrive\n",
            "/content\n"
          ]
        }
      ],
      "source": [
        "from google.colab import drive\n",
        "\n",
        "drive.mount(\"/content/gdrive\")\n",
        "!pwd"
      ]
    },
    {
      "cell_type": "code",
      "execution_count": null,
      "metadata": {
        "colab": {
          "base_uri": "https://localhost:8080/"
        },
        "id": "wriJQdJPW-tO",
        "outputId": "3a7b5c23-8bb2-4c4e-bccb-4b5a033c7fcf"
      },
      "outputs": [
        {
          "name": "stdout",
          "output_type": "stream",
          "text": [
            "/content/gdrive/MyDrive/Colab Notebooks/AI/MachineLearning/Files\n",
            "cars.csv\t employees.csv\t     marathon-data.csv\t\t     wine.data\n",
            "data.npz\t example.txt\t     mkb_data.npz\t\t     wine.names\n",
            "dataset1.csv\t iris.data\t     model.png\n",
            "dataset1.gsheet  iris.names\t     movies_recommendation_data.csv\n",
            "diabetes.csv\t Mall_Customers.csv  twitterLogo.png\n"
          ]
        }
      ],
      "source": [
        "# put your own path in google drive\n",
        "%cd \"/content/gdrive/MyDrive/Colab Notebooks/AI/MachineLearning/Files\"\n",
        "!ls"
      ]
    },
    {
      "cell_type": "code",
      "execution_count": null,
      "metadata": {
        "id": "aubPstkhVRE-"
      },
      "outputs": [],
      "source": [
        "def recommend_movies(movie_query, k_recommendations):\n",
        "    raw_movies_data = []\n",
        "    with open('movies_recommendation_data.csv', 'r') as md:\n",
        "        # Discard the first line (headings)\n",
        "    \tnext(md)\n",
        "\n",
        "    \t# Read the data into memory\n",
        "    \tfor line in md.readlines():\n",
        "        \tdata_row = line.strip().split(',')\n",
        "        \traw_movies_data.append(data_row)\n",
        "\n",
        "\t# Prepare the data for use in the knn algorithm by picking\n",
        "\t# the relevant columns and converting the numeric columns\n",
        "\t# to numbers since they were read in as strings\n",
        "    movies_recommendation_data = []\n",
        "    for row in raw_movies_data:\n",
        "        data_row = list(map(float, row[2:]))\n",
        "        movies_recommendation_data.append(data_row)\n",
        "    # Use the KNN algorithm to get the 5 movies that are most\n",
        "\t# similar to The Post.\n",
        "    movies_recommendation_data = np.array(movies_recommendation_data)\n",
        "    movie_query = np.array(movie_query)\n",
        "    recommendation_indices, _ = knn(movies_recommendation_data, \n",
        "                                    movie_query, \n",
        "                                    k=k_recommendations,\n",
        "                                    distance_fn=euclidean_distance,\n",
        "                                    choice_fn=lambda x: None)\n",
        "\n",
        "    movie_recommendations = []\n",
        "    for _, index in recommendation_indices:\n",
        "        index = int(index)\n",
        "        movie_recommendations.append(raw_movies_data[index])\n",
        "\n",
        "    return movie_recommendations"
      ]
    },
    {
      "cell_type": "code",
      "execution_count": null,
      "metadata": {
        "colab": {
          "base_uri": "https://localhost:8080/"
        },
        "id": "v8a7szCXVrE_",
        "outputId": "8ec02744-b11f-4c5c-f857-a4f4048a9dca"
      },
      "outputs": [
        {
          "name": "stdout",
          "output_type": "stream",
          "text": [
            "12 Years a Slave\n",
            "Hacksaw Ridge\n",
            "Queen of Katwe\n",
            "The Wind Rises\n",
            "A Beautiful Mind\n"
          ]
        }
      ],
      "source": [
        "the_post = [7.2, 1, 1, 0, 0, 0, 0, 1] # feature vector for The Post\n",
        "label = 0\n",
        "recommended_movies = recommend_movies(movie_query=the_post, k_recommendations=5)\n",
        "\n",
        "# Print recommended movie titles\n",
        "for recommendation in recommended_movies:\n",
        "    print(recommendation[1])"
      ]
    },
    {
      "cell_type": "markdown",
      "metadata": {},
      "source": [
        "## Dataset *Music* Recomendation [Homework] Equipo 4"
      ]
    },
    {
      "cell_type": "code",
      "execution_count": 53,
      "metadata": {},
      "outputs": [],
      "source": [
        "import pandas as pd\n",
        "df = pd.read_csv('music.csv')"
      ]
    },
    {
      "cell_type": "code",
      "execution_count": 64,
      "metadata": {},
      "outputs": [
        {
          "data": {
            "text/plain": [
              "\"<li>'release_date'</li><li>'len'</li><li>'dating'</li><li>'violence'</li><li>'world/life'</li><li>'night/time'</li><li>'shake the audience'</li><li>'family/gospel'</li><li>'romantic'</li><li>'communication'</li><li>'obscene'</li><li>'music'</li><li>'movement/places'</li><li>'light/visual perceptions'</li><li>'family/spiritual'</li><li>'like/girls'</li><li>'sadness'</li><li>'feelings'</li><li>'danceability'</li><li>'loudness'</li><li>'acousticness'</li><li>'instrumentalness'</li><li>'valence'</li><li>'energy'</li><li>'age'</li>\""
            ]
          },
          "execution_count": 64,
          "metadata": {},
          "output_type": "execute_result"
        }
      ],
      "source": [
        "# Keep only numerical columns\n",
        "music_num = df.select_dtypes(include=[np.number])\n",
        "\n",
        "# Drop 'Unnamed' column\n",
        "music_num.drop('Unnamed: 0', axis=1, inplace=True)\n",
        "\n",
        "# Get an string list of columns\n",
        "columns_ = music_num.columns.tolist()\n",
        "final_string = ''.join([f'<li>\\'{item}\\'</li>' for item in columns_])\n",
        "final_string"
      ]
    },
    {
      "cell_type": "markdown",
      "metadata": {},
      "source": [
        "*From a musical database with the following features:*\n",
        "<ul>\n",
        "<li>'release_date'</li><li>'len'</li><li>'dating'</li><li>'violence'</li><li>'world/life'</li><li>'night/time'</li><li>'shake the audience'</li><li>'family/gospel'</li><li>'romantic'</li><li>'communication'</li><li>'obscene'</li><li>'music'</li><li>'movement/places'</li><li>'light/visual perceptions'</li><li>'family/spiritual'</li><li>'like/girls'</li><li>'sadness'</li><li>'feelings'</li><li>'danceability'</li><li>'loudness'</li><li>'acousticness'</li><li>'instrumentalness'</li><li>'valence'</li><li>'energy'</li><li>'age'</li>\n",
        "</ul>"
      ]
    },
    {
      "cell_type": "code",
      "execution_count": 65,
      "metadata": {},
      "outputs": [
        {
          "name": "stdout",
          "output_type": "stream",
          "text": [
            "<class 'pandas.core.frame.DataFrame'>\n",
            "RangeIndex: 28372 entries, 0 to 28371\n",
            "Data columns (total 25 columns):\n",
            " #   Column                    Non-Null Count  Dtype  \n",
            "---  ------                    --------------  -----  \n",
            " 0   release_date              28372 non-null  int64  \n",
            " 1   len                       28372 non-null  int64  \n",
            " 2   dating                    28372 non-null  float64\n",
            " 3   violence                  28372 non-null  float64\n",
            " 4   world/life                28372 non-null  float64\n",
            " 5   night/time                28372 non-null  float64\n",
            " 6   shake the audience        28372 non-null  float64\n",
            " 7   family/gospel             28372 non-null  float64\n",
            " 8   romantic                  28372 non-null  float64\n",
            " 9   communication             28372 non-null  float64\n",
            " 10  obscene                   28372 non-null  float64\n",
            " 11  music                     28372 non-null  float64\n",
            " 12  movement/places           28372 non-null  float64\n",
            " 13  light/visual perceptions  28372 non-null  float64\n",
            " 14  family/spiritual          28372 non-null  float64\n",
            " 15  like/girls                28372 non-null  float64\n",
            " 16  sadness                   28372 non-null  float64\n",
            " 17  feelings                  28372 non-null  float64\n",
            " 18  danceability              28372 non-null  float64\n",
            " 19  loudness                  28372 non-null  float64\n",
            " 20  acousticness              28372 non-null  float64\n",
            " 21  instrumentalness          28372 non-null  float64\n",
            " 22  valence                   28372 non-null  float64\n",
            " 23  energy                    28372 non-null  float64\n",
            " 24  age                       28372 non-null  float64\n",
            "dtypes: float64(23), int64(2)\n",
            "memory usage: 5.4 MB\n"
          ]
        }
      ],
      "source": [
        "# Showing the dataset\n",
        "music_num.info()"
      ]
    },
    {
      "cell_type": "code",
      "execution_count": 67,
      "metadata": {},
      "outputs": [
        {
          "data": {
            "text/html": [
              "<div>\n",
              "<style scoped>\n",
              "    .dataframe tbody tr th:only-of-type {\n",
              "        vertical-align: middle;\n",
              "    }\n",
              "\n",
              "    .dataframe tbody tr th {\n",
              "        vertical-align: top;\n",
              "    }\n",
              "\n",
              "    .dataframe thead th {\n",
              "        text-align: right;\n",
              "    }\n",
              "</style>\n",
              "<table border=\"1\" class=\"dataframe\">\n",
              "  <thead>\n",
              "    <tr style=\"text-align: right;\">\n",
              "      <th></th>\n",
              "      <th>release_date</th>\n",
              "      <th>len</th>\n",
              "      <th>dating</th>\n",
              "      <th>violence</th>\n",
              "      <th>world/life</th>\n",
              "      <th>night/time</th>\n",
              "      <th>shake the audience</th>\n",
              "      <th>family/gospel</th>\n",
              "      <th>romantic</th>\n",
              "      <th>communication</th>\n",
              "      <th>...</th>\n",
              "      <th>like/girls</th>\n",
              "      <th>sadness</th>\n",
              "      <th>feelings</th>\n",
              "      <th>danceability</th>\n",
              "      <th>loudness</th>\n",
              "      <th>acousticness</th>\n",
              "      <th>instrumentalness</th>\n",
              "      <th>valence</th>\n",
              "      <th>energy</th>\n",
              "      <th>age</th>\n",
              "    </tr>\n",
              "  </thead>\n",
              "  <tbody>\n",
              "    <tr>\n",
              "      <th>0</th>\n",
              "      <td>1950</td>\n",
              "      <td>95</td>\n",
              "      <td>0.000598</td>\n",
              "      <td>0.063746</td>\n",
              "      <td>0.000598</td>\n",
              "      <td>0.000598</td>\n",
              "      <td>0.000598</td>\n",
              "      <td>0.048857</td>\n",
              "      <td>0.017104</td>\n",
              "      <td>0.263751</td>\n",
              "      <td>...</td>\n",
              "      <td>0.000598</td>\n",
              "      <td>0.380299</td>\n",
              "      <td>0.117175</td>\n",
              "      <td>0.357739</td>\n",
              "      <td>0.454119</td>\n",
              "      <td>0.997992</td>\n",
              "      <td>0.901822</td>\n",
              "      <td>0.339448</td>\n",
              "      <td>0.137110</td>\n",
              "      <td>1.0</td>\n",
              "    </tr>\n",
              "    <tr>\n",
              "      <th>1</th>\n",
              "      <td>1950</td>\n",
              "      <td>51</td>\n",
              "      <td>0.035537</td>\n",
              "      <td>0.096777</td>\n",
              "      <td>0.443435</td>\n",
              "      <td>0.001284</td>\n",
              "      <td>0.001284</td>\n",
              "      <td>0.027007</td>\n",
              "      <td>0.001284</td>\n",
              "      <td>0.001284</td>\n",
              "      <td>...</td>\n",
              "      <td>0.001284</td>\n",
              "      <td>0.001284</td>\n",
              "      <td>0.001284</td>\n",
              "      <td>0.331745</td>\n",
              "      <td>0.647540</td>\n",
              "      <td>0.954819</td>\n",
              "      <td>0.000002</td>\n",
              "      <td>0.325021</td>\n",
              "      <td>0.263240</td>\n",
              "      <td>1.0</td>\n",
              "    </tr>\n",
              "    <tr>\n",
              "      <th>2</th>\n",
              "      <td>1950</td>\n",
              "      <td>24</td>\n",
              "      <td>0.002770</td>\n",
              "      <td>0.002770</td>\n",
              "      <td>0.002770</td>\n",
              "      <td>0.002770</td>\n",
              "      <td>0.002770</td>\n",
              "      <td>0.002770</td>\n",
              "      <td>0.158564</td>\n",
              "      <td>0.250668</td>\n",
              "      <td>...</td>\n",
              "      <td>0.002770</td>\n",
              "      <td>0.002770</td>\n",
              "      <td>0.225422</td>\n",
              "      <td>0.456298</td>\n",
              "      <td>0.585288</td>\n",
              "      <td>0.840361</td>\n",
              "      <td>0.000000</td>\n",
              "      <td>0.351814</td>\n",
              "      <td>0.139112</td>\n",
              "      <td>1.0</td>\n",
              "    </tr>\n",
              "    <tr>\n",
              "      <th>3</th>\n",
              "      <td>1950</td>\n",
              "      <td>54</td>\n",
              "      <td>0.048249</td>\n",
              "      <td>0.001548</td>\n",
              "      <td>0.001548</td>\n",
              "      <td>0.001548</td>\n",
              "      <td>0.021500</td>\n",
              "      <td>0.001548</td>\n",
              "      <td>0.411536</td>\n",
              "      <td>0.001548</td>\n",
              "      <td>...</td>\n",
              "      <td>0.081132</td>\n",
              "      <td>0.225889</td>\n",
              "      <td>0.001548</td>\n",
              "      <td>0.686992</td>\n",
              "      <td>0.744404</td>\n",
              "      <td>0.083935</td>\n",
              "      <td>0.199393</td>\n",
              "      <td>0.775350</td>\n",
              "      <td>0.743736</td>\n",
              "      <td>1.0</td>\n",
              "    </tr>\n",
              "    <tr>\n",
              "      <th>4</th>\n",
              "      <td>1950</td>\n",
              "      <td>48</td>\n",
              "      <td>0.001350</td>\n",
              "      <td>0.001350</td>\n",
              "      <td>0.417772</td>\n",
              "      <td>0.001350</td>\n",
              "      <td>0.001350</td>\n",
              "      <td>0.001350</td>\n",
              "      <td>0.463430</td>\n",
              "      <td>0.001350</td>\n",
              "      <td>...</td>\n",
              "      <td>0.001350</td>\n",
              "      <td>0.068800</td>\n",
              "      <td>0.001350</td>\n",
              "      <td>0.291671</td>\n",
              "      <td>0.646489</td>\n",
              "      <td>0.975904</td>\n",
              "      <td>0.000246</td>\n",
              "      <td>0.597073</td>\n",
              "      <td>0.394375</td>\n",
              "      <td>1.0</td>\n",
              "    </tr>\n",
              "  </tbody>\n",
              "</table>\n",
              "<p>5 rows × 25 columns</p>\n",
              "</div>"
            ],
            "text/plain": [
              "   release_date  len    dating  violence  world/life  night/time  \\\n",
              "0          1950   95  0.000598  0.063746    0.000598    0.000598   \n",
              "1          1950   51  0.035537  0.096777    0.443435    0.001284   \n",
              "2          1950   24  0.002770  0.002770    0.002770    0.002770   \n",
              "3          1950   54  0.048249  0.001548    0.001548    0.001548   \n",
              "4          1950   48  0.001350  0.001350    0.417772    0.001350   \n",
              "\n",
              "   shake the audience  family/gospel  romantic  communication  ...  \\\n",
              "0            0.000598       0.048857  0.017104       0.263751  ...   \n",
              "1            0.001284       0.027007  0.001284       0.001284  ...   \n",
              "2            0.002770       0.002770  0.158564       0.250668  ...   \n",
              "3            0.021500       0.001548  0.411536       0.001548  ...   \n",
              "4            0.001350       0.001350  0.463430       0.001350  ...   \n",
              "\n",
              "   like/girls   sadness  feelings  danceability  loudness  acousticness  \\\n",
              "0    0.000598  0.380299  0.117175      0.357739  0.454119      0.997992   \n",
              "1    0.001284  0.001284  0.001284      0.331745  0.647540      0.954819   \n",
              "2    0.002770  0.002770  0.225422      0.456298  0.585288      0.840361   \n",
              "3    0.081132  0.225889  0.001548      0.686992  0.744404      0.083935   \n",
              "4    0.001350  0.068800  0.001350      0.291671  0.646489      0.975904   \n",
              "\n",
              "   instrumentalness   valence    energy  age  \n",
              "0          0.901822  0.339448  0.137110  1.0  \n",
              "1          0.000002  0.325021  0.263240  1.0  \n",
              "2          0.000000  0.351814  0.139112  1.0  \n",
              "3          0.199393  0.775350  0.743736  1.0  \n",
              "4          0.000246  0.597073  0.394375  1.0  \n",
              "\n",
              "[5 rows x 25 columns]"
            ]
          },
          "execution_count": 67,
          "metadata": {},
          "output_type": "execute_result"
        }
      ],
      "source": [
        "# Showing the dataset\n",
        "music_num.head()"
      ]
    },
    {
      "cell_type": "markdown",
      "metadata": {},
      "source": [
        "### Regression: Regression Data\n",
        "- Column 0: *Sadness*\n",
        "- Column 1: *Energy*\n",
        "- Column 2: *Feelings*\n",
        "- To predict: Column 3: *Danceability*"
      ]
    },
    {
      "cell_type": "code",
      "execution_count": 71,
      "metadata": {},
      "outputs": [
        {
          "name": "stdout",
          "output_type": "stream",
          "text": [
            "        sadness    energy  feelings  danceability\n",
            "0      0.380299  0.137110  0.117175      0.357739\n",
            "1      0.001284  0.263240  0.001284      0.331745\n",
            "2      0.002770  0.139112  0.225422      0.456298\n",
            "3      0.225889  0.743736  0.001548      0.686992\n",
            "4      0.068800  0.394375  0.001350      0.291671\n",
            "...         ...       ...       ...           ...\n",
            "28367  0.065664  0.695686  0.001350      0.889527\n",
            "28368  0.001284  0.797791  0.001284      0.662082\n",
            "28369  0.001504  0.767761  0.001504      0.663165\n",
            "28370  0.001196  0.885882  0.001196      0.883028\n",
            "28371  0.001012  0.492477  0.033995      0.828875\n",
            "\n",
            "[28372 rows x 4 columns]\n"
          ]
        }
      ],
      "source": [
        "# Selecting the relevant columns: [Sadness, Energy, Feelings, Danceability]\n",
        "selected_columns = ['sadness', 'energy', 'feelings', 'danceability']\n",
        "new_df = df[selected_columns]\n",
        "\n",
        "print(new_df)"
      ]
    },
    {
      "cell_type": "code",
      "execution_count": 73,
      "metadata": {},
      "outputs": [
        {
          "name": "stdout",
          "output_type": "stream",
          "text": [
            "Predicted Danceability: [0.59962454]\n"
          ]
        }
      ],
      "source": [
        "# Predict for: \n",
        "# Sadness: 0.380299  \n",
        "# Energy: 0.137110\n",
        "# Feelings: 0.117175\n",
        "query_data = [380299, 0.137110, 0.117175]\n",
        "\n",
        "def knn_predict_danceability(data, query, k, distance_fn, choice_fn):\n",
        "    neighbor_distances_and_indices = []\n",
        "\n",
        "    for index, example in enumerate(data):\n",
        "        distance = distance_fn(example[:-1], query)\n",
        "        neighbor_distances_and_indices.append((distance, index))\n",
        "\n",
        "    sorted_neighbor_distances_and_indices = sorted(neighbor_distances_and_indices, key=lambda x: x[0])\n",
        "    k_nearest_distances_and_indices = sorted_neighbor_distances_and_indices[:k]\n",
        "\n",
        "    k_nearest_labels = np.zeros((k, 1))\n",
        "    for n, (distance, i) in enumerate(k_nearest_distances_and_indices):\n",
        "        i = int(i)\n",
        "        k_nearest_labels[n, 0] = data[i, -1]\n",
        "\n",
        "    predicted_danceability = choice_fn(k_nearest_labels)\n",
        "\n",
        "    return predicted_danceability\n",
        "\n",
        "# Example usage\n",
        "# Assuming you have new_df as your DataFrame and query_data as your query example\n",
        "# You need to provide your own distance_fn and choice_fn functions\n",
        "\n",
        "predicted_danceability = knn_predict_danceability(\n",
        "    data=new_df.to_numpy(),\n",
        "    query=query_data,\n",
        "    k=3,\n",
        "    distance_fn=euclidean_distance,\n",
        "    choice_fn=mean)\n",
        "print(\"Predicted Danceability:\", predicted_danceability)\n"
      ]
    },
    {
      "cell_type": "code",
      "execution_count": null,
      "metadata": {},
      "outputs": [],
      "source": []
    }
  ],
  "metadata": {
    "colab": {
      "provenance": []
    },
    "kernelspec": {
      "display_name": "Python 3",
      "name": "python3"
    },
    "language_info": {
      "codemirror_mode": {
        "name": "ipython",
        "version": 3
      },
      "file_extension": ".py",
      "mimetype": "text/x-python",
      "name": "python",
      "nbconvert_exporter": "python",
      "pygments_lexer": "ipython3",
      "version": "3.11.0"
    }
  },
  "nbformat": 4,
  "nbformat_minor": 0
}
