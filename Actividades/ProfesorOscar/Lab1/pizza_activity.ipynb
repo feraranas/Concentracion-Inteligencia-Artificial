{
  "cells": [
    {
      "cell_type": "code",
      "execution_count": 1,
      "metadata": {
        "colab": {
          "base_uri": "https://localhost:8080/"
        },
        "id": "clzM59SXv7Mf",
        "outputId": "10b5c34e-3def-4388-df73-d5bdd4efb30b"
      },
      "outputs": [
        {
          "name": "stdout",
          "output_type": "stream",
          "text": [
            "complete...\n"
          ]
        }
      ],
      "source": [
        "import pandas as pd\n",
        "pd.set_option('display.max_columns',100)\n",
        "pd.set_option('display.max_rows',100)\n",
        "import sqlite3\n",
        "print('complete...')"
      ]
    },
    {
      "cell_type": "code",
      "execution_count": 2,
      "metadata": {
        "id": "QA1wkaJxwEen"
      },
      "outputs": [],
      "source": [
        "try:\n",
        "  conn = sqlite3.connect('pizza.db')\n",
        "except Exception as e:\n",
        "  print(str(e))\n",
        "else:\n",
        "  c = conn.cursor()"
      ]
    },
    {
      "cell_type": "code",
      "execution_count": 3,
      "metadata": {
        "id": "A7HP53t0wKMc"
      },
      "outputs": [],
      "source": [
        "runners_df = pd.read_sql('SELECT * FROM customer_orders;', conn)"
      ]
    },
    {
      "cell_type": "code",
      "execution_count": 4,
      "metadata": {
        "colab": {
          "base_uri": "https://localhost:8080/",
          "height": 488
        },
        "id": "5FkNC0XJwQZL",
        "outputId": "518ec731-84db-43fa-84ea-a23fd96876ae"
      },
      "outputs": [
        {
          "data": {
            "text/html": [
              "<div>\n",
              "<style scoped>\n",
              "    .dataframe tbody tr th:only-of-type {\n",
              "        vertical-align: middle;\n",
              "    }\n",
              "\n",
              "    .dataframe tbody tr th {\n",
              "        vertical-align: top;\n",
              "    }\n",
              "\n",
              "    .dataframe thead th {\n",
              "        text-align: right;\n",
              "    }\n",
              "</style>\n",
              "<table border=\"1\" class=\"dataframe\">\n",
              "  <thead>\n",
              "    <tr style=\"text-align: right;\">\n",
              "      <th></th>\n",
              "      <th>order_id</th>\n",
              "      <th>customer_id</th>\n",
              "      <th>pizza_id</th>\n",
              "      <th>exclusions</th>\n",
              "      <th>extras</th>\n",
              "      <th>order_time</th>\n",
              "    </tr>\n",
              "  </thead>\n",
              "  <tbody>\n",
              "    <tr>\n",
              "      <th>0</th>\n",
              "      <td>1</td>\n",
              "      <td>101</td>\n",
              "      <td>1</td>\n",
              "      <td></td>\n",
              "      <td></td>\n",
              "      <td>2020-01-01 18:05:02</td>\n",
              "    </tr>\n",
              "    <tr>\n",
              "      <th>1</th>\n",
              "      <td>2</td>\n",
              "      <td>101</td>\n",
              "      <td>1</td>\n",
              "      <td></td>\n",
              "      <td></td>\n",
              "      <td>2020-01-01 19:00:52</td>\n",
              "    </tr>\n",
              "    <tr>\n",
              "      <th>2</th>\n",
              "      <td>3</td>\n",
              "      <td>102</td>\n",
              "      <td>1</td>\n",
              "      <td></td>\n",
              "      <td></td>\n",
              "      <td>2020-01-02 23:51:23</td>\n",
              "    </tr>\n",
              "    <tr>\n",
              "      <th>3</th>\n",
              "      <td>3</td>\n",
              "      <td>102</td>\n",
              "      <td>2</td>\n",
              "      <td></td>\n",
              "      <td>None</td>\n",
              "      <td>2020-01-02 23:51:23</td>\n",
              "    </tr>\n",
              "    <tr>\n",
              "      <th>4</th>\n",
              "      <td>4</td>\n",
              "      <td>103</td>\n",
              "      <td>1</td>\n",
              "      <td>4</td>\n",
              "      <td></td>\n",
              "      <td>2020-01-04 13:23:46</td>\n",
              "    </tr>\n",
              "    <tr>\n",
              "      <th>5</th>\n",
              "      <td>4</td>\n",
              "      <td>103</td>\n",
              "      <td>1</td>\n",
              "      <td>4</td>\n",
              "      <td></td>\n",
              "      <td>2020-01-04 13:23:46</td>\n",
              "    </tr>\n",
              "    <tr>\n",
              "      <th>6</th>\n",
              "      <td>4</td>\n",
              "      <td>103</td>\n",
              "      <td>2</td>\n",
              "      <td>4</td>\n",
              "      <td></td>\n",
              "      <td>2020-01-04 13:23:46</td>\n",
              "    </tr>\n",
              "    <tr>\n",
              "      <th>7</th>\n",
              "      <td>5</td>\n",
              "      <td>104</td>\n",
              "      <td>1</td>\n",
              "      <td>null</td>\n",
              "      <td>1</td>\n",
              "      <td>2020-01-08 21:00:29</td>\n",
              "    </tr>\n",
              "    <tr>\n",
              "      <th>8</th>\n",
              "      <td>6</td>\n",
              "      <td>101</td>\n",
              "      <td>2</td>\n",
              "      <td>null</td>\n",
              "      <td>null</td>\n",
              "      <td>2020-01-08 21:03:13</td>\n",
              "    </tr>\n",
              "    <tr>\n",
              "      <th>9</th>\n",
              "      <td>7</td>\n",
              "      <td>105</td>\n",
              "      <td>2</td>\n",
              "      <td>null</td>\n",
              "      <td>1</td>\n",
              "      <td>2020-01-08 21:20:29</td>\n",
              "    </tr>\n",
              "    <tr>\n",
              "      <th>10</th>\n",
              "      <td>8</td>\n",
              "      <td>102</td>\n",
              "      <td>1</td>\n",
              "      <td>null</td>\n",
              "      <td>null</td>\n",
              "      <td>2020-01-09 23:54:33</td>\n",
              "    </tr>\n",
              "    <tr>\n",
              "      <th>11</th>\n",
              "      <td>9</td>\n",
              "      <td>103</td>\n",
              "      <td>1</td>\n",
              "      <td>4</td>\n",
              "      <td>1, 5</td>\n",
              "      <td>2020-01-10 11:22:59</td>\n",
              "    </tr>\n",
              "    <tr>\n",
              "      <th>12</th>\n",
              "      <td>10</td>\n",
              "      <td>104</td>\n",
              "      <td>1</td>\n",
              "      <td>null</td>\n",
              "      <td>null</td>\n",
              "      <td>2020-01-11 18:34:49</td>\n",
              "    </tr>\n",
              "    <tr>\n",
              "      <th>13</th>\n",
              "      <td>10</td>\n",
              "      <td>104</td>\n",
              "      <td>1</td>\n",
              "      <td>2, 6</td>\n",
              "      <td>1, 4</td>\n",
              "      <td>2020-01-11 18:34:49</td>\n",
              "    </tr>\n",
              "  </tbody>\n",
              "</table>\n",
              "</div>"
            ],
            "text/plain": [
              "    order_id  customer_id  pizza_id exclusions extras           order_time\n",
              "0          1          101         1                    2020-01-01 18:05:02\n",
              "1          2          101         1                    2020-01-01 19:00:52\n",
              "2          3          102         1                    2020-01-02 23:51:23\n",
              "3          3          102         2              None  2020-01-02 23:51:23\n",
              "4          4          103         1          4         2020-01-04 13:23:46\n",
              "5          4          103         1          4         2020-01-04 13:23:46\n",
              "6          4          103         2          4         2020-01-04 13:23:46\n",
              "7          5          104         1       null      1  2020-01-08 21:00:29\n",
              "8          6          101         2       null   null  2020-01-08 21:03:13\n",
              "9          7          105         2       null      1  2020-01-08 21:20:29\n",
              "10         8          102         1       null   null  2020-01-09 23:54:33\n",
              "11         9          103         1          4   1, 5  2020-01-10 11:22:59\n",
              "12        10          104         1       null   null  2020-01-11 18:34:49\n",
              "13        10          104         1       2, 6   1, 4  2020-01-11 18:34:49"
            ]
          },
          "execution_count": 4,
          "metadata": {},
          "output_type": "execute_result"
        }
      ],
      "source": [
        "runners_df"
      ]
    },
    {
      "cell_type": "code",
      "execution_count": 5,
      "metadata": {
        "colab": {
          "base_uri": "https://localhost:8080/"
        },
        "id": "uYSm0n5pxs4j",
        "outputId": "ad3f8b82-080d-48f0-d2b8-ab77a3688a30"
      },
      "outputs": [
        {
          "data": {
            "text/plain": [
              "<sqlite3.Cursor at 0x12c9535c0>"
            ]
          },
          "execution_count": 5,
          "metadata": {},
          "output_type": "execute_result"
        }
      ],
      "source": [
        "c.execute('''\n",
        "DROP TABLE IF EXISTS customer_orders_temp;\n",
        "''')\n",
        "\n",
        "c.execute('''\n",
        "CREATE TABLE customer_orders_temp AS\n",
        "  SELECT\n",
        "    order_id,\n",
        "    customer_id,\n",
        "    pizza_id,\n",
        "    exclusions,\n",
        "\n",
        "    CASE\n",
        "      WHEN extras = 'null' OR extras is null THEN ''\n",
        "      ELSE extras\n",
        "    END AS extras,\n",
        "\n",
        "    order_time\n",
        "\n",
        "FROM customer_orders;\n",
        " ''')"
      ]
    },
    {
      "cell_type": "code",
      "execution_count": null,
      "metadata": {
        "id": "lDyzCkAVykVC"
      },
      "outputs": [],
      "source": []
    }
  ],
  "metadata": {
    "colab": {
      "provenance": []
    },
    "kernelspec": {
      "display_name": "Python 3",
      "name": "python3"
    },
    "language_info": {
      "codemirror_mode": {
        "name": "ipython",
        "version": 3
      },
      "file_extension": ".py",
      "mimetype": "text/x-python",
      "name": "python",
      "nbconvert_exporter": "python",
      "pygments_lexer": "ipython3",
      "version": "3.11.0"
    }
  },
  "nbformat": 4,
  "nbformat_minor": 0
}
