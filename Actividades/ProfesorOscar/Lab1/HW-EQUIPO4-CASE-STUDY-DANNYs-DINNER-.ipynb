{
 "cells": [
  {
   "cell_type": "markdown",
   "metadata": {},
   "source": [
    "# Importar Pandas\n",
    "## sqlite3...   interfaz python para Sqlite"
   ]
  },
  {
   "cell_type": "code",
   "execution_count": 1,
   "metadata": {},
   "outputs": [
    {
     "name": "stdout",
     "output_type": "stream",
     "text": [
      "complete...\n"
     ]
    }
   ],
   "source": [
    "import pandas as pd\n",
    "pd.set_option('display.max_columns',100)\n",
    "pd.set_option('display.max_rows',100)\n",
    "import sqlite3\n",
    "print('complete...')"
   ]
  },
  {
   "cell_type": "markdown",
   "metadata": {},
   "source": [
    "# Conectamos con la base de datos \"Tutorial\"\n",
    "regresa clase Connection representado en con como una base de datos local."
   ]
  },
  {
   "cell_type": "code",
   "execution_count": 2,
   "metadata": {},
   "outputs": [],
   "source": [
    "con = sqlite3.connect(\"tutorial.db\")"
   ]
  },
  {
   "cell_type": "code",
   "execution_count": 3,
   "metadata": {},
   "outputs": [
    {
     "data": {
      "text/plain": [
       "<sqlite3.Connection at 0x14a53f880>"
      ]
     },
     "execution_count": 3,
     "metadata": {},
     "output_type": "execute_result"
    }
   ],
   "source": [
    "con"
   ]
  },
  {
   "cell_type": "markdown",
   "metadata": {},
   "source": [
    "## y se crea un \"cursor\"... clase necesaria para introducir Instrucciones SQL"
   ]
  },
  {
   "cell_type": "code",
   "execution_count": 4,
   "metadata": {},
   "outputs": [],
   "source": [
    "cur = con.cursor()"
   ]
  },
  {
   "cell_type": "markdown",
   "metadata": {},
   "source": [
    "Veamos un ejemplo , que ejectua la SENTENCIA SQL utilizando el cursor que recién creamos"
   ]
  },
  {
   "cell_type": "code",
   "execution_count": 5,
   "metadata": {},
   "outputs": [
    {
     "data": {
      "text/plain": [
       "<sqlite3.Cursor at 0x14a5d6040>"
      ]
     },
     "execution_count": 5,
     "metadata": {},
     "output_type": "execute_result"
    }
   ],
   "source": [
    "cur.execute(\"CREATE TABLE movie(title, year, score)\")"
   ]
  },
  {
   "cell_type": "code",
   "execution_count": 7,
   "metadata": {},
   "outputs": [
    {
     "data": {
      "text/plain": [
       "('movie',)"
      ]
     },
     "execution_count": 7,
     "metadata": {},
     "output_type": "execute_result"
    }
   ],
   "source": [
    "res = cur.execute(\"SELECT name FROM sqlite_master\")\n",
    "res.fetchone()"
   ]
  },
  {
   "cell_type": "code",
   "execution_count": 8,
   "metadata": {},
   "outputs": [],
   "source": [
    "cur.execute(\"\"\"\n",
    "    INSERT INTO movie VALUES\n",
    "        ('Monty Python and the Holy Grail', 1975, 8.2),\n",
    "        ('And Now for Something Completely Different', 1971, 7.5)\n",
    "\"\"\")\n",
    "con.commit()"
   ]
  },
  {
   "cell_type": "code",
   "execution_count": 9,
   "metadata": {},
   "outputs": [
    {
     "data": {
      "text/plain": [
       "[(8.2,), (7.5,)]"
      ]
     },
     "execution_count": 9,
     "metadata": {},
     "output_type": "execute_result"
    }
   ],
   "source": [
    "res = cur.execute(\"SELECT score FROM movie\")\n",
    "res.fetchall()"
   ]
  },
  {
   "cell_type": "code",
   "execution_count": 10,
   "metadata": {},
   "outputs": [],
   "source": [
    "data = [\n",
    "    (\"Monty Python Live at the Hollywood Bowl\", 1982, 7.9),\n",
    "    (\"Monty Python's The Meaning of Life\", 1983, 7.5),\n",
    "    (\"Monty Python's Life of Brian\", 1979, 8.0),\n",
    "]\n",
    "cur.executemany(\"INSERT INTO movie VALUES(?, ?, ?)\", data)\n",
    "con.commit()  # Remember to commit the transaction after executing INSERT."
   ]
  },
  {
   "cell_type": "code",
   "execution_count": 11,
   "metadata": {},
   "outputs": [
    {
     "name": "stdout",
     "output_type": "stream",
     "text": [
      "(1971, 'And Now for Something Completely Different')\n",
      "(1975, 'Monty Python and the Holy Grail')\n",
      "(1979, \"Monty Python's Life of Brian\")\n",
      "(1982, 'Monty Python Live at the Hollywood Bowl')\n",
      "(1983, \"Monty Python's The Meaning of Life\")\n"
     ]
    }
   ],
   "source": [
    "for row in cur.execute(\"SELECT year, title FROM movie ORDER BY year\"):\n",
    "    print(row)"
   ]
  },
  {
   "cell_type": "code",
   "execution_count": 13,
   "metadata": {},
   "outputs": [
    {
     "name": "stdout",
     "output_type": "stream",
     "text": [
      "The highest scoring Monty Python movie is 'Monty Python and the Holy Grail', released in 1975\n"
     ]
    }
   ],
   "source": [
    "con.close()\n",
    "\n",
    "new_con = sqlite3.connect(\"tutorial.db\")\n",
    "\n",
    "new_cur = new_con.cursor()\n",
    "\n",
    "res = new_cur.execute(\"SELECT title, year FROM movie ORDER BY score DESC\")\n",
    "\n",
    "title, year = res.fetchone()\n",
    "\n",
    "print(f'The highest scoring Monty Python movie is {title!r}, released in {year}')"
   ]
  },
  {
   "cell_type": "markdown",
   "metadata": {},
   "source": [
    "# Importar Pandas\n",
    "## sqlite3...   interfaz python para Sqlite\n"
   ]
  },
  {
   "cell_type": "code",
   "execution_count": 12,
   "metadata": {},
   "outputs": [
    {
     "name": "stdout",
     "output_type": "stream",
     "text": [
      "complete...\n"
     ]
    }
   ],
   "source": [
    "# Importar Pandas\n",
    "## sqlite3...   interfaz python para Sqlite\n",
    "\n",
    "import pandas as pd\n",
    "pd.set_option('display.max_columns',100)\n",
    "pd.set_option('display.max_rows',100)\n",
    "import sqlite3\n",
    "print('complete...')"
   ]
  },
  {
   "cell_type": "markdown",
   "metadata": {},
   "source": [
    "# Conectamos con la base de datos \"Danny Diner\"\n",
    "y se crea un \"cursor\"... clase necesaria para introducir Instrucciones SQL"
   ]
  },
  {
   "cell_type": "code",
   "execution_count": 14,
   "metadata": {},
   "outputs": [
    {
     "name": "stdout",
     "output_type": "stream",
     "text": [
      "Connected successfully...\n"
     ]
    }
   ],
   "source": [
    "try:\n",
    "    conn = sqlite3.connect('danny_diner.db') # # Creates connection to existing db or creates an empty db\n",
    "    print('Connected successfully...')  \n",
    "except Exception as e:\n",
    "    print('Error during connection:', str(e))\n",
    "else: \n",
    "    c = conn.cursor() # # Cursor allows SQL commands to be executed."
   ]
  },
  {
   "cell_type": "code",
   "execution_count": 15,
   "metadata": {},
   "outputs": [
    {
     "name": "stdout",
     "output_type": "stream",
     "text": [
      "complete...\n"
     ]
    }
   ],
   "source": [
    "c.execute( '''\n",
    "        CREATE TABLE sales (\n",
    "          \"customer_id\" VARCHAR(1),\n",
    "          \"order_date\" DATE,\n",
    "          \"product_id\" INTEGER\n",
    "        ); ''')\n",
    "\n",
    "c.execute('''\n",
    "        INSERT INTO sales\n",
    "          (\"customer_id\", \"order_date\", \"product_id\")\n",
    "        VALUES\n",
    "          ('A', '2021-01-01', '1'),\n",
    "          ('A', '2021-01-01', '2'),\n",
    "          ('A', '2021-01-07', '2'),\n",
    "          ('A', '2021-01-10', '3'),\n",
    "          ('A', '2021-01-11', '3'),\n",
    "          ('A', '2021-01-11', '3'),\n",
    "          ('B', '2021-01-01', '2'),\n",
    "          ('B', '2021-01-02', '2'),\n",
    "          ('B', '2021-01-04', '1'),\n",
    "          ('B', '2021-01-11', '1'),\n",
    "          ('B', '2021-01-16', '3'),\n",
    "          ('B', '2021-02-01', '3'),\n",
    "          ('C', '2021-01-01', '3'),\n",
    "          ('C', '2021-01-01', '3'),\n",
    "          ('C', '2021-01-07', '3'); ''')\n",
    "\n",
    "c.execute('''\n",
    "        CREATE TABLE menu (\n",
    "          \"product_id\" INTEGER,\n",
    "          \"product_name\" VARCHAR(5),\n",
    "          \"price\" INTEGER\n",
    "        );''')\n",
    "\n",
    "c.execute('''\n",
    "        INSERT INTO menu\n",
    "          (\"product_id\", \"product_name\", \"price\")\n",
    "        VALUES\n",
    "          ('1', 'sushi', '10'),\n",
    "          ('2', 'curry', '15'),\n",
    "          ('3', 'ramen', '12'); ''')\n",
    "\n",
    "c.execute('''     \n",
    "        CREATE TABLE members (\n",
    "          \"customer_id\" VARCHAR(1),\n",
    "          \"join_date\" DATE\n",
    "        );''')\n",
    "\n",
    "c.execute('''\n",
    "        INSERT INTO members\n",
    "          (\"customer_id\", \"join_date\")\n",
    "        VALUES\n",
    "          ('A', '2021-01-07'),\n",
    "          ('B', '2021-01-09'); ''')\n",
    "conn.commit()\n",
    "print('complete...')"
   ]
  },
  {
   "cell_type": "markdown",
   "metadata": {},
   "source": [
    "\n",
    "# /* --------------------\n",
    "#   Case Study Questions\n",
    "#   --------------------*/\n",
    "\n",
    "-- 1. What is the total amount each customer spent at the restaurant <br/>\n",
    "-- 2. How many days has each customer visited the restaurant? <br/>\n",
    "-- 3. What was the first item from the menu purchased by each customer?<br/>\n",
    "-- 4. What is the most purchased item on the menu and how many times was it purchased by all customers? <br/>\n",
    "-- 5. Which item was the most popular for each customer? <br/>\n",
    "-- 6. Which item was purchased first by the customer after they became a member? <br/>\n",
    "-- 7. Which item was purchased just before the customer became a member? <br/>\n",
    "-- 8. What is the total items and amount spent for each member before they became a member? <br/>\n",
    "-- 9.  If each $1 spent equates to 10 points and sushi has a 2x points multiplier - how many points would each customer have? <br/>\n",
    "-- 10. In the first week after a customer joins the program (including their join date) they earn 2x points on all items, not just sushi - how many points do customer A and B have at the end of January? <br/>\n",
    "\n",
    "-- Example Query:\n",
    "SELECT\n",
    "  \tproduct_id,\n",
    "    product_name,\n",
    "    price\n",
    "FROM dannys_diner.menu\n",
    "ORDER BY price DESC\n",
    "LIMIT 5;"
   ]
  },
  {
   "cell_type": "code",
   "execution_count": 18,
   "metadata": {},
   "outputs": [
    {
     "data": {
      "text/plain": [
       "[(2,), (3,), (1,)]"
      ]
     },
     "execution_count": 18,
     "metadata": {},
     "output_type": "execute_result"
    }
   ],
   "source": [
    "#Example query\n",
    "c.execute(\"SELECT product_id FROM menu ORDER BY price DESC LIMIT 5;\")\n",
    "c.fetchall()"
   ]
  },
  {
   "cell_type": "code",
   "execution_count": 97,
   "metadata": {},
   "outputs": [
    {
     "data": {
      "text/html": [
       "<div>\n",
       "<style scoped>\n",
       "    .dataframe tbody tr th:only-of-type {\n",
       "        vertical-align: middle;\n",
       "    }\n",
       "\n",
       "    .dataframe tbody tr th {\n",
       "        vertical-align: top;\n",
       "    }\n",
       "\n",
       "    .dataframe thead th {\n",
       "        text-align: right;\n",
       "    }\n",
       "</style>\n",
       "<table border=\"1\" class=\"dataframe\">\n",
       "  <thead>\n",
       "    <tr style=\"text-align: right;\">\n",
       "      <th></th>\n",
       "      <th>Table_Names</th>\n",
       "    </tr>\n",
       "  </thead>\n",
       "  <tbody>\n",
       "    <tr>\n",
       "      <th>0</th>\n",
       "      <td>sales</td>\n",
       "    </tr>\n",
       "    <tr>\n",
       "      <th>1</th>\n",
       "      <td>menu</td>\n",
       "    </tr>\n",
       "    <tr>\n",
       "      <th>2</th>\n",
       "      <td>members</td>\n",
       "    </tr>\n",
       "  </tbody>\n",
       "</table>\n",
       "</div>"
      ],
      "text/plain": [
       "  Table_Names\n",
       "0       sales\n",
       "1        menu\n",
       "2     members"
      ]
     },
     "execution_count": 97,
     "metadata": {},
     "output_type": "execute_result"
    }
   ],
   "source": [
    "# Looking at all tables\n",
    "pd.read_sql('''\n",
    "     SELECT \n",
    "          name AS Table_Names \n",
    "     \n",
    "     FROM \n",
    "          sqlite_master\n",
    "''', conn)"
   ]
  },
  {
   "cell_type": "code",
   "execution_count": 98,
   "metadata": {},
   "outputs": [
    {
     "data": {
      "text/html": [
       "<div>\n",
       "<style scoped>\n",
       "    .dataframe tbody tr th:only-of-type {\n",
       "        vertical-align: middle;\n",
       "    }\n",
       "\n",
       "    .dataframe tbody tr th {\n",
       "        vertical-align: top;\n",
       "    }\n",
       "\n",
       "    .dataframe thead th {\n",
       "        text-align: right;\n",
       "    }\n",
       "</style>\n",
       "<table border=\"1\" class=\"dataframe\">\n",
       "  <thead>\n",
       "    <tr style=\"text-align: right;\">\n",
       "      <th></th>\n",
       "      <th>Customer</th>\n",
       "      <th>Total_Spent</th>\n",
       "    </tr>\n",
       "  </thead>\n",
       "  <tbody>\n",
       "    <tr>\n",
       "      <th>0</th>\n",
       "      <td>A</td>\n",
       "      <td>76</td>\n",
       "    </tr>\n",
       "    <tr>\n",
       "      <th>1</th>\n",
       "      <td>B</td>\n",
       "      <td>74</td>\n",
       "    </tr>\n",
       "    <tr>\n",
       "      <th>2</th>\n",
       "      <td>C</td>\n",
       "      <td>36</td>\n",
       "    </tr>\n",
       "  </tbody>\n",
       "</table>\n",
       "</div>"
      ],
      "text/plain": [
       "  Customer  Total_Spent\n",
       "0        A           76\n",
       "1        B           74\n",
       "2        C           36"
      ]
     },
     "execution_count": 98,
     "metadata": {},
     "output_type": "execute_result"
    }
   ],
   "source": [
    "# 1. What is the total amount each customer spent at the restaurant\n",
    "uno = pd.read_sql('''\n",
    "     SELECT\n",
    "          customer_id AS Customer,\n",
    "          SUM(price) AS Total_Spent \n",
    "     \n",
    "     FROM\n",
    "          sales\n",
    "\n",
    "     INNER JOIN \n",
    "          menu ON sales.product_id=menu.product_id\n",
    "\n",
    "     GROUP BY \n",
    "          customer_id\n",
    "''', conn)\n",
    "\n",
    "plot()"
   ]
  },
  {
   "cell_type": "code",
   "execution_count": 99,
   "metadata": {},
   "outputs": [
    {
     "data": {
      "text/html": [
       "<div>\n",
       "<style scoped>\n",
       "    .dataframe tbody tr th:only-of-type {\n",
       "        vertical-align: middle;\n",
       "    }\n",
       "\n",
       "    .dataframe tbody tr th {\n",
       "        vertical-align: top;\n",
       "    }\n",
       "\n",
       "    .dataframe thead th {\n",
       "        text-align: right;\n",
       "    }\n",
       "</style>\n",
       "<table border=\"1\" class=\"dataframe\">\n",
       "  <thead>\n",
       "    <tr style=\"text-align: right;\">\n",
       "      <th></th>\n",
       "      <th>Customer</th>\n",
       "      <th>Days_Visited</th>\n",
       "    </tr>\n",
       "  </thead>\n",
       "  <tbody>\n",
       "    <tr>\n",
       "      <th>0</th>\n",
       "      <td>A</td>\n",
       "      <td>4</td>\n",
       "    </tr>\n",
       "    <tr>\n",
       "      <th>1</th>\n",
       "      <td>B</td>\n",
       "      <td>6</td>\n",
       "    </tr>\n",
       "    <tr>\n",
       "      <th>2</th>\n",
       "      <td>C</td>\n",
       "      <td>2</td>\n",
       "    </tr>\n",
       "  </tbody>\n",
       "</table>\n",
       "</div>"
      ],
      "text/plain": [
       "  Customer  Days_Visited\n",
       "0        A             4\n",
       "1        B             6\n",
       "2        C             2"
      ]
     },
     "execution_count": 99,
     "metadata": {},
     "output_type": "execute_result"
    }
   ],
   "source": [
    "# 2. How many days has each customer visited the restaurant?\n",
    "pd.read_sql('''\n",
    "     SELECT \n",
    "          customer_id AS Customer, \n",
    "          COUNT(DISTINCT(order_date)) AS Days_Visited \n",
    "     \n",
    "     FROM\n",
    "          sales\n",
    "\n",
    "     GROUP BY\n",
    "          customer_id\n",
    "''', conn)"
   ]
  },
  {
   "cell_type": "code",
   "execution_count": 85,
   "metadata": {},
   "outputs": [
    {
     "data": {
      "text/html": [
       "<div>\n",
       "<style scoped>\n",
       "    .dataframe tbody tr th:only-of-type {\n",
       "        vertical-align: middle;\n",
       "    }\n",
       "\n",
       "    .dataframe tbody tr th {\n",
       "        vertical-align: top;\n",
       "    }\n",
       "\n",
       "    .dataframe thead th {\n",
       "        text-align: right;\n",
       "    }\n",
       "</style>\n",
       "<table border=\"1\" class=\"dataframe\">\n",
       "  <thead>\n",
       "    <tr style=\"text-align: right;\">\n",
       "      <th></th>\n",
       "      <th>Customer</th>\n",
       "      <th>First_Item</th>\n",
       "    </tr>\n",
       "  </thead>\n",
       "  <tbody>\n",
       "    <tr>\n",
       "      <th>0</th>\n",
       "      <td>A</td>\n",
       "      <td>sushi</td>\n",
       "    </tr>\n",
       "    <tr>\n",
       "      <th>1</th>\n",
       "      <td>B</td>\n",
       "      <td>curry</td>\n",
       "    </tr>\n",
       "    <tr>\n",
       "      <th>2</th>\n",
       "      <td>C</td>\n",
       "      <td>ramen</td>\n",
       "    </tr>\n",
       "  </tbody>\n",
       "</table>\n",
       "</div>"
      ],
      "text/plain": [
       "  Customer First_Item\n",
       "0        A      sushi\n",
       "1        B      curry\n",
       "2        C      ramen"
      ]
     },
     "execution_count": 85,
     "metadata": {},
     "output_type": "execute_result"
    }
   ],
   "source": [
    "# 3. What was the first item from the menu purchased by each customer?\n",
    "pd.read_sql('''\n",
    "     SELECT\n",
    "          customer_id AS Customer, \n",
    "          product_name AS First_Item \n",
    "     \n",
    "     FROM \n",
    "          sales\n",
    "\n",
    "     INNER JOIN \n",
    "          menu ON sales.product_id=menu.product_id\n",
    "\n",
    "     GROUP BY \n",
    "          sales.customer_id\n",
    "\n",
    "     ORDER BY\n",
    "          order_date ASC\n",
    "''', conn)"
   ]
  },
  {
   "cell_type": "code",
   "execution_count": 123,
   "metadata": {},
   "outputs": [
    {
     "data": {
      "text/html": [
       "<div>\n",
       "<style scoped>\n",
       "    .dataframe tbody tr th:only-of-type {\n",
       "        vertical-align: middle;\n",
       "    }\n",
       "\n",
       "    .dataframe tbody tr th {\n",
       "        vertical-align: top;\n",
       "    }\n",
       "\n",
       "    .dataframe thead th {\n",
       "        text-align: right;\n",
       "    }\n",
       "</style>\n",
       "<table border=\"1\" class=\"dataframe\">\n",
       "  <thead>\n",
       "    <tr style=\"text-align: right;\">\n",
       "      <th></th>\n",
       "      <th>product_id</th>\n",
       "      <th>Times_Purchased</th>\n",
       "    </tr>\n",
       "  </thead>\n",
       "  <tbody>\n",
       "    <tr>\n",
       "      <th>0</th>\n",
       "      <td>3</td>\n",
       "      <td>8</td>\n",
       "    </tr>\n",
       "  </tbody>\n",
       "</table>\n",
       "</div>"
      ],
      "text/plain": [
       "   product_id  Times_Purchased\n",
       "0           3                8"
      ]
     },
     "execution_count": 123,
     "metadata": {},
     "output_type": "execute_result"
    }
   ],
   "source": [
    "# 4. What is the most purchased item on the menu and,\n",
    "pd.read_sql('''\n",
    "  SELECT sales.product_id, COUNT(sales.product_id) AS Times_Purchased FROM sales\n",
    "  GROUP BY sales.product_id\n",
    "  ORDER BY Times_Purchased DESC\n",
    "  LIMIT 1\n",
    "''', conn)"
   ]
  },
  {
   "cell_type": "code",
   "execution_count": 132,
   "metadata": {},
   "outputs": [
    {
     "data": {
      "text/html": [
       "<div>\n",
       "<style scoped>\n",
       "    .dataframe tbody tr th:only-of-type {\n",
       "        vertical-align: middle;\n",
       "    }\n",
       "\n",
       "    .dataframe tbody tr th {\n",
       "        vertical-align: top;\n",
       "    }\n",
       "\n",
       "    .dataframe thead th {\n",
       "        text-align: right;\n",
       "    }\n",
       "</style>\n",
       "<table border=\"1\" class=\"dataframe\">\n",
       "  <thead>\n",
       "    <tr style=\"text-align: right;\">\n",
       "      <th></th>\n",
       "      <th>Customer</th>\n",
       "      <th>Product</th>\n",
       "      <th>Times_Purchased</th>\n",
       "    </tr>\n",
       "  </thead>\n",
       "  <tbody>\n",
       "    <tr>\n",
       "      <th>0</th>\n",
       "      <td>A</td>\n",
       "      <td>ramen</td>\n",
       "      <td>3</td>\n",
       "    </tr>\n",
       "    <tr>\n",
       "      <th>1</th>\n",
       "      <td>B</td>\n",
       "      <td>ramen</td>\n",
       "      <td>2</td>\n",
       "    </tr>\n",
       "    <tr>\n",
       "      <th>2</th>\n",
       "      <td>C</td>\n",
       "      <td>ramen</td>\n",
       "      <td>3</td>\n",
       "    </tr>\n",
       "  </tbody>\n",
       "</table>\n",
       "</div>"
      ],
      "text/plain": [
       "  Customer Product  Times_Purchased\n",
       "0        A   ramen                3\n",
       "1        B   ramen                2\n",
       "2        C   ramen                3"
      ]
     },
     "execution_count": 132,
     "metadata": {},
     "output_type": "execute_result"
    }
   ],
   "source": [
    "# How many times was it purchased by all customers?\n",
    "pd.read_sql('''\n",
    "  SELECT \n",
    "    customer_id AS Customer, \n",
    "    menu.product_name AS Product, \n",
    "    COUNT(sales.product_id) AS Times_Purchased FROM sales\n",
    "  INNER JOIN menu ON sales.product_id=menu.product_id\n",
    "  WHERE sales.product_id IN (\n",
    "    SELECT product_id FROM (\n",
    "      SELECT product_id, COUNT(product_id) AS Times_Purchased FROM sales\n",
    "      GROUP BY product_id\n",
    "      ORDER BY Times_Purchased DESC\n",
    "      LIMIT 1\n",
    "    )\n",
    "  )\n",
    "  GROUP BY customer_id\n",
    "''', conn)\n"
   ]
  },
  {
   "cell_type": "code",
   "execution_count": 172,
   "metadata": {},
   "outputs": [
    {
     "data": {
      "text/html": [
       "<div>\n",
       "<style scoped>\n",
       "    .dataframe tbody tr th:only-of-type {\n",
       "        vertical-align: middle;\n",
       "    }\n",
       "\n",
       "    .dataframe tbody tr th {\n",
       "        vertical-align: top;\n",
       "    }\n",
       "\n",
       "    .dataframe thead th {\n",
       "        text-align: right;\n",
       "    }\n",
       "</style>\n",
       "<table border=\"1\" class=\"dataframe\">\n",
       "  <thead>\n",
       "    <tr style=\"text-align: right;\">\n",
       "      <th></th>\n",
       "      <th>Customer</th>\n",
       "      <th>Most_Popular_Product</th>\n",
       "      <th>Count_Product</th>\n",
       "    </tr>\n",
       "  </thead>\n",
       "  <tbody>\n",
       "    <tr>\n",
       "      <th>0</th>\n",
       "      <td>A</td>\n",
       "      <td>ramen</td>\n",
       "      <td>3</td>\n",
       "    </tr>\n",
       "    <tr>\n",
       "      <th>1</th>\n",
       "      <td>B</td>\n",
       "      <td>sushi</td>\n",
       "      <td>2</td>\n",
       "    </tr>\n",
       "    <tr>\n",
       "      <th>2</th>\n",
       "      <td>B</td>\n",
       "      <td>ramen</td>\n",
       "      <td>2</td>\n",
       "    </tr>\n",
       "    <tr>\n",
       "      <th>3</th>\n",
       "      <td>B</td>\n",
       "      <td>curry</td>\n",
       "      <td>2</td>\n",
       "    </tr>\n",
       "    <tr>\n",
       "      <th>4</th>\n",
       "      <td>C</td>\n",
       "      <td>ramen</td>\n",
       "      <td>3</td>\n",
       "    </tr>\n",
       "  </tbody>\n",
       "</table>\n",
       "</div>"
      ],
      "text/plain": [
       "  Customer Most_Popular_Product  Count_Product\n",
       "0        A                ramen              3\n",
       "1        B                sushi              2\n",
       "2        B                ramen              2\n",
       "3        B                curry              2\n",
       "4        C                ramen              3"
      ]
     },
     "execution_count": 172,
     "metadata": {},
     "output_type": "execute_result"
    }
   ],
   "source": [
    "# 5. Which item was the most popular for each customer?\n",
    "pd.read_sql('''\n",
    "SELECT\n",
    "    Customer,\n",
    "    Most_Popular_Product,\n",
    "    Count_Product\n",
    "FROM (\n",
    "    SELECT\n",
    "        customer_id AS Customer,\n",
    "        menu.product_name AS Most_Popular_Product,\n",
    "        COUNT(sales.product_id) AS Count_Product,\n",
    "        RANK() OVER (PARTITION BY customer_id ORDER BY COUNT(sales.product_id) DESC) AS Popular_Rank\n",
    "    FROM sales\n",
    "    INNER JOIN menu ON sales.product_id = menu.product_id\n",
    "    GROUP BY Customer, Most_Popular_Product\n",
    ") ranked_products\n",
    "WHERE Popular_Rank = 1;\n",
    "\n",
    "''', conn)"
   ]
  },
  {
   "cell_type": "code",
   "execution_count": 178,
   "metadata": {},
   "outputs": [
    {
     "data": {
      "text/html": [
       "<div>\n",
       "<style scoped>\n",
       "    .dataframe tbody tr th:only-of-type {\n",
       "        vertical-align: middle;\n",
       "    }\n",
       "\n",
       "    .dataframe tbody tr th {\n",
       "        vertical-align: top;\n",
       "    }\n",
       "\n",
       "    .dataframe thead th {\n",
       "        text-align: right;\n",
       "    }\n",
       "</style>\n",
       "<table border=\"1\" class=\"dataframe\">\n",
       "  <thead>\n",
       "    <tr style=\"text-align: right;\">\n",
       "      <th></th>\n",
       "      <th>Customer</th>\n",
       "      <th>First_Purchase</th>\n",
       "      <th>First_Purchase_Date</th>\n",
       "    </tr>\n",
       "  </thead>\n",
       "  <tbody>\n",
       "    <tr>\n",
       "      <th>0</th>\n",
       "      <td>A</td>\n",
       "      <td>curry</td>\n",
       "      <td>2021-01-07</td>\n",
       "    </tr>\n",
       "    <tr>\n",
       "      <th>1</th>\n",
       "      <td>B</td>\n",
       "      <td>sushi</td>\n",
       "      <td>2021-01-11</td>\n",
       "    </tr>\n",
       "  </tbody>\n",
       "</table>\n",
       "</div>"
      ],
      "text/plain": [
       "  Customer First_Purchase First_Purchase_Date\n",
       "0        A          curry          2021-01-07\n",
       "1        B          sushi          2021-01-11"
      ]
     },
     "execution_count": 178,
     "metadata": {},
     "output_type": "execute_result"
    }
   ],
   "source": [
    "# 6. Which item was purchased first by the customer after they became a member?\n",
    "pd.read_sql('''\n",
    "     SELECT\n",
    "          sales.customer_id AS Customer,\n",
    "          menu.product_name AS First_Purchase,\n",
    "          MIN(sales.order_date) AS First_Purchase_Date\n",
    "     FROM sales\n",
    "     INNER JOIN menu ON sales.product_id = menu.product_id\n",
    "     INNER JOIN members ON sales.customer_id = members.customer_id\n",
    "     WHERE sales.order_date >= members.join_date\n",
    "     GROUP BY sales.customer_id\n",
    "''', conn)"
   ]
  },
  {
   "cell_type": "code",
   "execution_count": 184,
   "metadata": {},
   "outputs": [
    {
     "data": {
      "text/html": [
       "<div>\n",
       "<style scoped>\n",
       "    .dataframe tbody tr th:only-of-type {\n",
       "        vertical-align: middle;\n",
       "    }\n",
       "\n",
       "    .dataframe tbody tr th {\n",
       "        vertical-align: top;\n",
       "    }\n",
       "\n",
       "    .dataframe thead th {\n",
       "        text-align: right;\n",
       "    }\n",
       "</style>\n",
       "<table border=\"1\" class=\"dataframe\">\n",
       "  <thead>\n",
       "    <tr style=\"text-align: right;\">\n",
       "      <th></th>\n",
       "      <th>Customer</th>\n",
       "      <th>Last_Purchase</th>\n",
       "      <th>Last_Purchase_Date</th>\n",
       "    </tr>\n",
       "  </thead>\n",
       "  <tbody>\n",
       "    <tr>\n",
       "      <th>0</th>\n",
       "      <td>A</td>\n",
       "      <td>sushi</td>\n",
       "      <td>2021-01-01</td>\n",
       "    </tr>\n",
       "    <tr>\n",
       "      <th>1</th>\n",
       "      <td>B</td>\n",
       "      <td>sushi</td>\n",
       "      <td>2021-01-04</td>\n",
       "    </tr>\n",
       "  </tbody>\n",
       "</table>\n",
       "</div>"
      ],
      "text/plain": [
       "  Customer Last_Purchase Last_Purchase_Date\n",
       "0        A         sushi         2021-01-01\n",
       "1        B         sushi         2021-01-04"
      ]
     },
     "execution_count": 184,
     "metadata": {},
     "output_type": "execute_result"
    }
   ],
   "source": [
    "# 7. Which item was purchased just before the customer became a member?\n",
    "pd.read_sql('''\n",
    "    SELECT\n",
    "        sales.customer_id AS Customer,\n",
    "        menu.product_name AS Last_Purchase,\n",
    "        MAX(sales.order_date) AS Last_Purchase_Date\n",
    "    FROM sales\n",
    "    INNER JOIN menu ON sales.product_id = menu.product_id\n",
    "    INNER JOIN members ON sales.customer_id = members.customer_id\n",
    "    WHERE sales.order_date < members.join_date\n",
    "    GROUP BY sales.customer_id\n",
    "''', conn)"
   ]
  },
  {
   "cell_type": "code",
   "execution_count": 186,
   "metadata": {},
   "outputs": [
    {
     "data": {
      "text/html": [
       "<div>\n",
       "<style scoped>\n",
       "    .dataframe tbody tr th:only-of-type {\n",
       "        vertical-align: middle;\n",
       "    }\n",
       "\n",
       "    .dataframe tbody tr th {\n",
       "        vertical-align: top;\n",
       "    }\n",
       "\n",
       "    .dataframe thead th {\n",
       "        text-align: right;\n",
       "    }\n",
       "</style>\n",
       "<table border=\"1\" class=\"dataframe\">\n",
       "  <thead>\n",
       "    <tr style=\"text-align: right;\">\n",
       "      <th></th>\n",
       "      <th>Customer</th>\n",
       "      <th>Total_Items</th>\n",
       "      <th>Total_Amount_Spent</th>\n",
       "    </tr>\n",
       "  </thead>\n",
       "  <tbody>\n",
       "    <tr>\n",
       "      <th>0</th>\n",
       "      <td>A</td>\n",
       "      <td>2</td>\n",
       "      <td>25</td>\n",
       "    </tr>\n",
       "    <tr>\n",
       "      <th>1</th>\n",
       "      <td>B</td>\n",
       "      <td>3</td>\n",
       "      <td>40</td>\n",
       "    </tr>\n",
       "  </tbody>\n",
       "</table>\n",
       "</div>"
      ],
      "text/plain": [
       "  Customer  Total_Items  Total_Amount_Spent\n",
       "0        A            2                  25\n",
       "1        B            3                  40"
      ]
     },
     "execution_count": 186,
     "metadata": {},
     "output_type": "execute_result"
    }
   ],
   "source": [
    "# 8. What is the total items and amount spent for each member before they became a member?\n",
    "pd.read_sql('''\n",
    "    SELECT\n",
    "        members.customer_id AS Customer,\n",
    "        COUNT(sales.product_id) AS Total_Items,\n",
    "        SUM(menu.price) AS Total_Amount_Spent\n",
    "    FROM members\n",
    "    LEFT JOIN sales ON members.customer_id = sales.customer_id\n",
    "    LEFT JOIN menu ON sales.product_id = menu.product_id\n",
    "    WHERE sales.order_date < members.join_date\n",
    "    GROUP BY members.customer_id\n",
    "''',conn)"
   ]
  },
  {
   "cell_type": "code",
   "execution_count": 188,
   "metadata": {},
   "outputs": [
    {
     "data": {
      "text/html": [
       "<div>\n",
       "<style scoped>\n",
       "    .dataframe tbody tr th:only-of-type {\n",
       "        vertical-align: middle;\n",
       "    }\n",
       "\n",
       "    .dataframe tbody tr th {\n",
       "        vertical-align: top;\n",
       "    }\n",
       "\n",
       "    .dataframe thead th {\n",
       "        text-align: right;\n",
       "    }\n",
       "</style>\n",
       "<table border=\"1\" class=\"dataframe\">\n",
       "  <thead>\n",
       "    <tr style=\"text-align: right;\">\n",
       "      <th></th>\n",
       "      <th>Customer</th>\n",
       "      <th>Total_Points</th>\n",
       "    </tr>\n",
       "  </thead>\n",
       "  <tbody>\n",
       "    <tr>\n",
       "      <th>0</th>\n",
       "      <td>A</td>\n",
       "      <td>860</td>\n",
       "    </tr>\n",
       "    <tr>\n",
       "      <th>1</th>\n",
       "      <td>B</td>\n",
       "      <td>940</td>\n",
       "    </tr>\n",
       "    <tr>\n",
       "      <th>2</th>\n",
       "      <td>C</td>\n",
       "      <td>360</td>\n",
       "    </tr>\n",
       "  </tbody>\n",
       "</table>\n",
       "</div>"
      ],
      "text/plain": [
       "  Customer  Total_Points\n",
       "0        A           860\n",
       "1        B           940\n",
       "2        C           360"
      ]
     },
     "execution_count": 188,
     "metadata": {},
     "output_type": "execute_result"
    }
   ],
   "source": [
    "# 9.  If each $1 spent equates to 10 points and sushi has a 2x points multiplier - how many points would each customer have?\n",
    "pd.read_sql('''\n",
    "SELECT\n",
    "    sales.customer_id AS Customer,\n",
    "    SUM(\n",
    "        CASE\n",
    "            WHEN menu.product_name = 'sushi' THEN (menu.price * 2) * 10\n",
    "            ELSE menu.price * 10\n",
    "        END\n",
    "    ) AS Total_Points\n",
    "FROM sales\n",
    "INNER JOIN menu ON sales.product_id = menu.product_id\n",
    "GROUP BY sales.customer_id\n",
    "''',conn)"
   ]
  },
  {
   "cell_type": "code",
   "execution_count": 197,
   "metadata": {},
   "outputs": [
    {
     "data": {
      "text/html": [
       "<div>\n",
       "<style scoped>\n",
       "    .dataframe tbody tr th:only-of-type {\n",
       "        vertical-align: middle;\n",
       "    }\n",
       "\n",
       "    .dataframe tbody tr th {\n",
       "        vertical-align: top;\n",
       "    }\n",
       "\n",
       "    .dataframe thead th {\n",
       "        text-align: right;\n",
       "    }\n",
       "</style>\n",
       "<table border=\"1\" class=\"dataframe\">\n",
       "  <thead>\n",
       "    <tr style=\"text-align: right;\">\n",
       "      <th></th>\n",
       "      <th>Customer</th>\n",
       "      <th>Total_Points</th>\n",
       "    </tr>\n",
       "  </thead>\n",
       "  <tbody>\n",
       "    <tr>\n",
       "      <th>0</th>\n",
       "      <td>A</td>\n",
       "      <td>1520</td>\n",
       "    </tr>\n",
       "    <tr>\n",
       "      <th>1</th>\n",
       "      <td>B</td>\n",
       "      <td>1360</td>\n",
       "    </tr>\n",
       "  </tbody>\n",
       "</table>\n",
       "</div>"
      ],
      "text/plain": [
       "  Customer  Total_Points\n",
       "0        A          1520\n",
       "1        B          1360"
      ]
     },
     "execution_count": 197,
     "metadata": {},
     "output_type": "execute_result"
    }
   ],
   "source": [
    "# 10. In the first week after a customer joins the program (including their join date) they earn 2x points on all items, not just sushi - how many points do customer A and B have at the end of January?\n",
    "pd.read_sql('''\n",
    "SELECT\n",
    "    mem.customer_id AS Customer,\n",
    "    SUM(\n",
    "        CASE\n",
    "            WHEN s.order_date <= DATE(mem.join_date, '+7 days') THEN (m.price * 2) * 10\n",
    "            ELSE m.price * 10\n",
    "        END\n",
    "    ) AS Total_Points\n",
    "FROM members mem\n",
    "LEFT JOIN sales s ON mem.customer_id = s.customer_id\n",
    "LEFT JOIN menu m ON s.product_id = m.product_id\n",
    "WHERE s.order_date <= '2023-01-31'\n",
    "GROUP BY mem.customer_id\n",
    "\n",
    "''', conn)"
   ]
  },
  {
   "cell_type": "markdown",
   "metadata": {},
   "source": [
    "## SOME Useful SQL commands,\n",
    "### Investigar \n",
    "\n",
    "DENSE_RANK()\n",
    "OVER()\n",
    "PARTITION BY()\n",
    "WHERE"
   ]
  },
  {
   "cell_type": "markdown",
   "metadata": {},
   "source": [
    "https://www.youtube.com/watch?v=xlbSQJuHkRE"
   ]
  }
 ],
 "metadata": {
  "kernelspec": {
   "display_name": "Python 3",
   "language": "python",
   "name": "python3"
  },
  "language_info": {
   "codemirror_mode": {
    "name": "ipython",
    "version": 3
   },
   "file_extension": ".py",
   "mimetype": "text/x-python",
   "name": "python",
   "nbconvert_exporter": "python",
   "pygments_lexer": "ipython3",
   "version": "3.11.0"
  }
 },
 "nbformat": 4,
 "nbformat_minor": 2
}
