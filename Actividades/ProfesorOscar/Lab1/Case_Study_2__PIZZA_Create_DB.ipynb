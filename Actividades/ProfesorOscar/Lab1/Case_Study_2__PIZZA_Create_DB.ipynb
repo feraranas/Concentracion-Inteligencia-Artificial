{
 "cells": [
  {
   "cell_type": "markdown",
   "metadata": {},
   "source": [
    "# Importar Pandas\n",
    "## sqlite3...   interfaz python para Sqlite\n"
   ]
  },
  {
   "cell_type": "code",
   "execution_count": 2,
   "metadata": {},
   "outputs": [
    {
     "name": "stdout",
     "output_type": "stream",
     "text": [
      "complete...\n"
     ]
    }
   ],
   "source": [
    "# Importar Pandas\n",
    "## sqlite3...   interfaz python para Sqlite\n",
    "\n",
    "import pandas as pd\n",
    "pd.set_option('display.max_columns',100)\n",
    "pd.set_option('display.max_rows',100)\n",
    "import sqlite3\n",
    "print('complete...')"
   ]
  },
  {
   "cell_type": "markdown",
   "metadata": {},
   "source": [
    "# Conectamos con la base de datos \"PIZZA\"\n",
    "y se crea un \"cursor\"... clase necesaria para introducir Instrucciones SQL"
   ]
  },
  {
   "cell_type": "code",
   "execution_count": 3,
   "metadata": {},
   "outputs": [
    {
     "name": "stdout",
     "output_type": "stream",
     "text": [
      "Connected successfully...\n"
     ]
    }
   ],
   "source": [
    "try:\n",
    "    conn = sqlite3.connect('pizza.db') # # Creates connection to existing db or creates an empty db\n",
    "    print('Connected successfully...')  \n",
    "except Exception as e:\n",
    "    print('Error during connection:', str(e))\n",
    "else: \n",
    "    c = conn.cursor() # # Cursor allows SQL commands to be executed."
   ]
  },
  {
   "cell_type": "markdown",
   "metadata": {},
   "source": [
    "# CREATE TABLE RUNNERS"
   ]
  },
  {
   "cell_type": "code",
   "execution_count": 4,
   "metadata": {},
   "outputs": [
    {
     "data": {
      "text/plain": [
       "<sqlite3.Cursor at 0x12078d4c0>"
      ]
     },
     "execution_count": 4,
     "metadata": {},
     "output_type": "execute_result"
    }
   ],
   "source": [
    "c.execute( '''\n",
    "DROP TABLE IF EXISTS runners;\n",
    "''')\n",
    "c.execute( '''\n",
    "\n",
    "CREATE TABLE runners (\n",
    "  \"runner_id\" INTEGER,\n",
    "  \"registration_date\" DATE\n",
    ");\n",
    "\n",
    "''')\n",
    "c.execute( '''\n",
    "        INSERT INTO runners\n",
    "  (\"runner_id\", \"registration_date\")\n",
    "VALUES\n",
    "  (1, '2021-01-01'),\n",
    "  (2, '2021-01-03'),\n",
    "  (3, '2021-01-08'),\n",
    "  (4, '2021-01-15');\n",
    "        ''')\n",
    "\n"
   ]
  },
  {
   "cell_type": "markdown",
   "metadata": {},
   "source": [
    "# Create Customer Orders"
   ]
  },
  {
   "cell_type": "code",
   "execution_count": 5,
   "metadata": {},
   "outputs": [
    {
     "data": {
      "text/plain": [
       "<sqlite3.Cursor at 0x12078d4c0>"
      ]
     },
     "execution_count": 5,
     "metadata": {},
     "output_type": "execute_result"
    }
   ],
   "source": [
    "c.execute('''\n",
    "DROP TABLE IF EXISTS customer_orders;\n",
    "''')\n",
    "\n",
    "c.execute( '''CREATE TABLE customer_orders (\n",
    "  \"order_id\" INTEGER,\n",
    "  \"customer_id\" INTEGER,\n",
    "  \"pizza_id\" INTEGER,\n",
    "  \"exclusions\" VARCHAR(4),\n",
    "  \"extras\" VARCHAR(4),\n",
    "  \"order_time\" TIMESTAMP\n",
    ");\n",
    "\n",
    "        ''')\n",
    "\n",
    "c.execute( '''INSERT INTO customer_orders\n",
    "  (\"order_id\", \"customer_id\", \"pizza_id\", \"exclusions\", \"extras\", \"order_time\")\n",
    "VALUES\n",
    "  ('1', '101', '1', '', '', '2020-01-01 18:05:02'),\n",
    "  ('2', '101', '1', '', '', '2020-01-01 19:00:52'),\n",
    "  ('3', '102', '1', '', '', '2020-01-02 23:51:23'),\n",
    "  ('3', '102', '2', '', NULL, '2020-01-02 23:51:23'),\n",
    "  ('4', '103', '1', '4', '', '2020-01-04 13:23:46'),\n",
    "  ('4', '103', '1', '4', '', '2020-01-04 13:23:46'),\n",
    "  ('4', '103', '2', '4', '', '2020-01-04 13:23:46'),\n",
    "  ('5', '104', '1', 'null', '1', '2020-01-08 21:00:29'),\n",
    "  ('6', '101', '2', 'null', 'null', '2020-01-08 21:03:13'),\n",
    "  ('7', '105', '2', 'null', '1', '2020-01-08 21:20:29'),\n",
    "  ('8', '102', '1', 'null', 'null', '2020-01-09 23:54:33'),\n",
    "  ('9', '103', '1', '4', '1, 5', '2020-01-10 11:22:59'),\n",
    "  ('10', '104', '1', 'null', 'null', '2020-01-11 18:34:49'),\n",
    "  ('10', '104', '1', '2, 6', '1, 4', '2020-01-11 18:34:49');\n",
    "        ''')"
   ]
  },
  {
   "cell_type": "markdown",
   "metadata": {},
   "source": [
    "# Create Runner Orders"
   ]
  },
  {
   "cell_type": "code",
   "execution_count": 6,
   "metadata": {},
   "outputs": [
    {
     "data": {
      "text/plain": [
       "<sqlite3.Cursor at 0x12078d4c0>"
      ]
     },
     "execution_count": 6,
     "metadata": {},
     "output_type": "execute_result"
    }
   ],
   "source": [
    "c.execute( '''\n",
    "DROP TABLE IF EXISTS runner_orders;\n",
    "''')\n",
    "\n",
    "c.execute( '''CREATE TABLE runner_orders (\n",
    "  \"order_id\" INTEGER,\n",
    "  \"runner_id\" INTEGER,\n",
    "  \"pickup_time\" VARCHAR(19),\n",
    "  \"distance\" VARCHAR(7),\n",
    "  \"duration\" VARCHAR(10),\n",
    "  \"cancellation\" VARCHAR(23)\n",
    ");\n",
    "        ''')\n",
    "\n",
    "c.execute( '''INSERT INTO runner_orders\n",
    "  (\"order_id\", \"runner_id\", \"pickup_time\", \"distance\", \"duration\", \"cancellation\")\n",
    "VALUES\n",
    "  ('1', '1', '2020-01-01 18:15:34', '20km', '32 minutes', ''),\n",
    "  ('2', '1', '2020-01-01 19:10:54', '20km', '27 minutes', ''),\n",
    "  ('3', '1', '2020-01-03 00:12:37', '13.4km', '20 mins', NULL),\n",
    "  ('4', '2', '2020-01-04 13:53:03', '23.4', '40', NULL),\n",
    "  ('5', '3', '2020-01-08 21:10:57', '10', '15', NULL),\n",
    "  ('6', '3', 'null', 'null', 'null', 'Restaurant Cancellation'),\n",
    "  ('7', '2', '2020-01-08 21:30:45', '25km', '25mins', 'null'),\n",
    "  ('8', '2', '2020-01-10 00:15:02', '23.4 km', '15 minute', 'null'),\n",
    "  ('9', '2', 'null', 'null', 'null', 'Customer Cancellation'),\n",
    "  ('10', '1', '2020-01-11 18:50:20', '10km', '10minutes', 'null');\n",
    "        ''')"
   ]
  },
  {
   "cell_type": "code",
   "execution_count": 7,
   "metadata": {},
   "outputs": [
    {
     "data": {
      "text/plain": [
       "<sqlite3.Cursor at 0x12078d4c0>"
      ]
     },
     "execution_count": 7,
     "metadata": {},
     "output_type": "execute_result"
    }
   ],
   "source": [
    "c.execute( '''\n",
    "DROP TABLE IF EXISTS pizza_recipes;\n",
    "''')\n",
    "\n",
    "c.execute( '''\n",
    "CREATE TABLE pizza_recipes (\n",
    "  \"pizza_id\" INTEGER,\n",
    "  \"toppings\" TEXT\n",
    ");\n",
    "\n",
    "        ''')\n",
    "\n",
    "c.execute( '''\n",
    "INSERT INTO pizza_recipes\n",
    "  (\"pizza_id\", \"toppings\")\n",
    "VALUES\n",
    "  (1, '1, 2, 3, 4, 5, 6, 8, 10'),\n",
    "  (2, '4, 6, 7, 9, 11, 12');\n",
    "        ''')\n",
    "\n",
    "\n"
   ]
  },
  {
   "cell_type": "markdown",
   "metadata": {},
   "source": [
    "# Pizza Names"
   ]
  },
  {
   "cell_type": "code",
   "execution_count": 8,
   "metadata": {},
   "outputs": [
    {
     "data": {
      "text/plain": [
       "<sqlite3.Cursor at 0x12078d4c0>"
      ]
     },
     "execution_count": 8,
     "metadata": {},
     "output_type": "execute_result"
    }
   ],
   "source": [
    "c.execute( '''\n",
    "DROP TABLE IF EXISTS pizza_names;\n",
    "''')\n",
    "\n",
    "c.execute( '''CREATE TABLE pizza_names (\n",
    "  \"pizza_id\" INTEGER,\n",
    "  \"pizza_name\" TEXT\n",
    ");\n",
    "        ''')\n",
    "\n",
    "c.execute( '''\n",
    "INSERT INTO pizza_names\n",
    "  (\"pizza_id\", \"pizza_name\")\n",
    "VALUES\n",
    "  (1, 'Meatlovers'),\n",
    "  (2, 'Vegetarian');\n",
    "        ''')"
   ]
  },
  {
   "cell_type": "markdown",
   "metadata": {},
   "source": [
    "# Pizza Toppings"
   ]
  },
  {
   "cell_type": "code",
   "execution_count": 9,
   "metadata": {},
   "outputs": [
    {
     "data": {
      "text/plain": [
       "<sqlite3.Cursor at 0x12078d4c0>"
      ]
     },
     "execution_count": 9,
     "metadata": {},
     "output_type": "execute_result"
    }
   ],
   "source": [
    "c.execute( '''\n",
    "DROP TABLE IF EXISTS pizza_toppings;\n",
    "''')\n",
    "\n",
    "c.execute( '''\n",
    "CREATE TABLE pizza_toppings (\n",
    "  \"topping_id\" INTEGER,\n",
    "  \"topping_name\" TEXT\n",
    ");\n",
    "        ''')\n",
    "\n",
    "c.execute( '''\n",
    "INSERT INTO pizza_toppings\n",
    "  (\"topping_id\", \"topping_name\")\n",
    "VALUES\n",
    "  (1, 'Bacon'),\n",
    "  (2, 'BBQ Sauce'),\n",
    "  (3, 'Beef'),\n",
    "  (4, 'Cheese'),\n",
    "  (5, 'Chicken'),\n",
    "  (6, 'Mushrooms'),\n",
    "  (7, 'Onions'),\n",
    "  (8, 'Pepperoni'),\n",
    "  (9, 'Peppers'),\n",
    "  (10, 'Salami'),\n",
    "  (11, 'Tomatoes'),\n",
    "  (12, 'Tomato Sauce');\n",
    "        ''')"
   ]
  },
  {
   "cell_type": "code",
   "execution_count": 10,
   "metadata": {},
   "outputs": [
    {
     "name": "stdout",
     "output_type": "stream",
     "text": [
      "complete...\n"
     ]
    }
   ],
   "source": [
    "conn.commit()\n",
    "print('complete...')"
   ]
  },
  {
   "cell_type": "code",
   "execution_count": 11,
   "metadata": {},
   "outputs": [
    {
     "data": {
      "text/html": [
       "<div>\n",
       "<style scoped>\n",
       "    .dataframe tbody tr th:only-of-type {\n",
       "        vertical-align: middle;\n",
       "    }\n",
       "\n",
       "    .dataframe tbody tr th {\n",
       "        vertical-align: top;\n",
       "    }\n",
       "\n",
       "    .dataframe thead th {\n",
       "        text-align: right;\n",
       "    }\n",
       "</style>\n",
       "<table border=\"1\" class=\"dataframe\">\n",
       "  <thead>\n",
       "    <tr style=\"text-align: right;\">\n",
       "      <th></th>\n",
       "      <th>runner_id</th>\n",
       "      <th>registration_date</th>\n",
       "    </tr>\n",
       "  </thead>\n",
       "  <tbody>\n",
       "    <tr>\n",
       "      <th>0</th>\n",
       "      <td>1</td>\n",
       "      <td>2021-01-01</td>\n",
       "    </tr>\n",
       "    <tr>\n",
       "      <th>1</th>\n",
       "      <td>2</td>\n",
       "      <td>2021-01-03</td>\n",
       "    </tr>\n",
       "    <tr>\n",
       "      <th>2</th>\n",
       "      <td>3</td>\n",
       "      <td>2021-01-08</td>\n",
       "    </tr>\n",
       "    <tr>\n",
       "      <th>3</th>\n",
       "      <td>4</td>\n",
       "      <td>2021-01-15</td>\n",
       "    </tr>\n",
       "  </tbody>\n",
       "</table>\n",
       "</div>"
      ],
      "text/plain": [
       "   runner_id registration_date\n",
       "0          1        2021-01-01\n",
       "1          2        2021-01-03\n",
       "2          3        2021-01-08\n",
       "3          4        2021-01-15"
      ]
     },
     "execution_count": 11,
     "metadata": {},
     "output_type": "execute_result"
    }
   ],
   "source": [
    "# Example using pandas read_sql\n",
    "runners_df = pd.read_sql('''\n",
    "SELECT * FROM runners''', conn)\n",
    "runners_df"
   ]
  },
  {
   "cell_type": "code",
   "execution_count": null,
   "metadata": {},
   "outputs": [],
   "source": [
    "runners_df.to_excel(\"output.xls\")  "
   ]
  },
  {
   "cell_type": "code",
   "execution_count": null,
   "metadata": {
    "scrolled": true
   },
   "outputs": [],
   "source": [
    "df=pd.read_excel(\"output.xls\")"
   ]
  },
  {
   "cell_type": "code",
   "execution_count": null,
   "metadata": {},
   "outputs": [],
   "source": [
    "df"
   ]
  },
  {
   "cell_type": "markdown",
   "metadata": {},
   "source": [
    "\n",
    "# /* --------------------\n",
    "#   Case Study Questions\n",
    "#   --------------------*/\n",
    "A. Pizza Metrics\n",
    "\n",
    "    How many pizzas were ordered?\n",
    "    How many unique customer orders were made?\n",
    "    How many successful orders were delivered by each runner?\n",
    "    How many of each type of pizza was delivered?\n",
    "    How many Vegetarian and Meatlovers were ordered by each customer?\n",
    "    What was the maximum number of pizzas delivered in a single order?\n",
    "    For each customer, how many delivered pizzas had at least 1 change and how many had no changes?\n",
    "    How many pizzas were delivered that had both exclusions and extras?\n",
    "    What was the total volume of pizzas ordered for each hour of the day?\n",
    "    What was the volume of orders for each day of the week?\n",
    "\n",
    "B. Runner and Customer Experience\n",
    "\n",
    "    How many runners signed up for each 1 week period? (i.e. week starts 2021-01-01)\n",
    "    What was the average time in minutes it took for each runner to arrive at the Pizza Runner HQ to pickup the order?\n",
    "    Is there any relationship between the number of pizzas and how long the order takes to prepare?\n",
    "    What was the average distance travelled for each customer?\n",
    "    What was the difference between the longest and shortest delivery times for all orders?\n",
    "    What was the average speed for each runner for each delivery and do you notice any trend for these values?\n",
    "    What is the successful delivery percentage for each runner?\n",
    "\n",
    "C. Ingredient Optimisation\n",
    "\n",
    "    What are the standard ingredients for each pizza?\n",
    "    What was the most commonly added extra?\n",
    "    What was the most common exclusion?\n",
    "    Generate an order item for each record in the customers_orders table in the format of one of the following:\n",
    "        Meat Lovers\n",
    "        Meat Lovers - Exclude Beef\n",
    "        Meat Lovers - Extra Bacon\n",
    "        Meat Lovers - Exclude Cheese, Bacon - Extra Mushroom, Peppers\n",
    "    Generate an alphabetically ordered comma separated ingredient list for each pizza order from the customer_orders table and add a 2x in front of any relevant ingredients\n",
    "        For example: \"Meat Lovers: 2xBacon, Beef, ... , Salami\"\n",
    "    What is the total quantity of each ingredient used in all delivered pizzas sorted by most frequent first?\n",
    "\n",
    "D. Pricing and Ratings\n",
    "\n",
    "    If a Meat Lovers pizza costs $12 and Vegetarian costs $10 and there were no charges for changes - how much money has Pizza Runner made so far if there are no delivery fees?\n",
    "    What if there was an additional $1 charge for any pizza extras?\n",
    "        Add cheese is $1 extra\n",
    "    The Pizza Runner team now wants to add an additional ratings system that allows customers to rate their runner, how would you design an additional table for this new dataset - generate a schema for this new table and insert your own data for ratings for each successful customer order between 1 to 5.\n",
    "    Using your newly generated table - can you join all of the information together to form a table which has the following information for successful deliveries?\n",
    "        customer_id\n",
    "        order_id\n",
    "        runner_id\n",
    "        rating\n",
    "        order_time\n",
    "        pickup_time\n",
    "        Time between order and pickup\n",
    "        Delivery duration\n",
    "        Average speed\n",
    "        Total number of pizzas\n",
    "    If a Meat Lovers pizza was $12 and Vegetarian $10 fixed prices with no cost for extras and each runner is paid $0.30 per kilometre traveled - how much money does Pizza Runner have left over after these deliveries?\n"
   ]
  },
  {
   "cell_type": "code",
   "execution_count": 15,
   "metadata": {},
   "outputs": [
    {
     "data": {
      "text/html": [
       "<div>\n",
       "<style scoped>\n",
       "    .dataframe tbody tr th:only-of-type {\n",
       "        vertical-align: middle;\n",
       "    }\n",
       "\n",
       "    .dataframe tbody tr th {\n",
       "        vertical-align: top;\n",
       "    }\n",
       "\n",
       "    .dataframe thead th {\n",
       "        text-align: right;\n",
       "    }\n",
       "</style>\n",
       "<table border=\"1\" class=\"dataframe\">\n",
       "  <thead>\n",
       "    <tr style=\"text-align: right;\">\n",
       "      <th></th>\n",
       "      <th>name</th>\n",
       "    </tr>\n",
       "  </thead>\n",
       "  <tbody>\n",
       "    <tr>\n",
       "      <th>0</th>\n",
       "      <td>delivered_orders</td>\n",
       "    </tr>\n",
       "    <tr>\n",
       "      <th>1</th>\n",
       "      <td>customer_orders_temp</td>\n",
       "    </tr>\n",
       "    <tr>\n",
       "      <th>2</th>\n",
       "      <td>runners</td>\n",
       "    </tr>\n",
       "    <tr>\n",
       "      <th>3</th>\n",
       "      <td>customer_orders</td>\n",
       "    </tr>\n",
       "    <tr>\n",
       "      <th>4</th>\n",
       "      <td>runner_orders</td>\n",
       "    </tr>\n",
       "    <tr>\n",
       "      <th>5</th>\n",
       "      <td>pizza_recipes</td>\n",
       "    </tr>\n",
       "    <tr>\n",
       "      <th>6</th>\n",
       "      <td>pizza_names</td>\n",
       "    </tr>\n",
       "    <tr>\n",
       "      <th>7</th>\n",
       "      <td>pizza_toppings</td>\n",
       "    </tr>\n",
       "  </tbody>\n",
       "</table>\n",
       "</div>"
      ],
      "text/plain": [
       "                   name\n",
       "0      delivered_orders\n",
       "1  customer_orders_temp\n",
       "2               runners\n",
       "3       customer_orders\n",
       "4         runner_orders\n",
       "5         pizza_recipes\n",
       "6           pizza_names\n",
       "7        pizza_toppings"
      ]
     },
     "execution_count": 15,
     "metadata": {},
     "output_type": "execute_result"
    }
   ],
   "source": [
    "# Showing all the tables in the dataset\n",
    "pd.read_sql('''\n",
    "     SELECT name FROM sqlite_master WHERE type='table';\n",
    "''', conn)"
   ]
  },
  {
   "cell_type": "markdown",
   "metadata": {},
   "source": [
    "# Orders\n",
    "The exclusions and extras columns will need to be cleaned up before using them in your queries."
   ]
  },
  {
   "cell_type": "code",
   "execution_count": 16,
   "metadata": {},
   "outputs": [
    {
     "data": {
      "text/html": [
       "<div>\n",
       "<style scoped>\n",
       "    .dataframe tbody tr th:only-of-type {\n",
       "        vertical-align: middle;\n",
       "    }\n",
       "\n",
       "    .dataframe tbody tr th {\n",
       "        vertical-align: top;\n",
       "    }\n",
       "\n",
       "    .dataframe thead th {\n",
       "        text-align: right;\n",
       "    }\n",
       "</style>\n",
       "<table border=\"1\" class=\"dataframe\">\n",
       "  <thead>\n",
       "    <tr style=\"text-align: right;\">\n",
       "      <th></th>\n",
       "      <th>order_id</th>\n",
       "      <th>customer_id</th>\n",
       "      <th>pizza_id</th>\n",
       "      <th>exclusions</th>\n",
       "      <th>extras</th>\n",
       "      <th>order_time</th>\n",
       "    </tr>\n",
       "  </thead>\n",
       "  <tbody>\n",
       "    <tr>\n",
       "      <th>0</th>\n",
       "      <td>1</td>\n",
       "      <td>101</td>\n",
       "      <td>1</td>\n",
       "      <td></td>\n",
       "      <td></td>\n",
       "      <td>2020-01-01 18:05:02</td>\n",
       "    </tr>\n",
       "    <tr>\n",
       "      <th>1</th>\n",
       "      <td>2</td>\n",
       "      <td>101</td>\n",
       "      <td>1</td>\n",
       "      <td></td>\n",
       "      <td></td>\n",
       "      <td>2020-01-01 19:00:52</td>\n",
       "    </tr>\n",
       "    <tr>\n",
       "      <th>2</th>\n",
       "      <td>3</td>\n",
       "      <td>102</td>\n",
       "      <td>1</td>\n",
       "      <td></td>\n",
       "      <td></td>\n",
       "      <td>2020-01-02 23:51:23</td>\n",
       "    </tr>\n",
       "    <tr>\n",
       "      <th>3</th>\n",
       "      <td>3</td>\n",
       "      <td>102</td>\n",
       "      <td>2</td>\n",
       "      <td></td>\n",
       "      <td>None</td>\n",
       "      <td>2020-01-02 23:51:23</td>\n",
       "    </tr>\n",
       "    <tr>\n",
       "      <th>4</th>\n",
       "      <td>4</td>\n",
       "      <td>103</td>\n",
       "      <td>1</td>\n",
       "      <td>4</td>\n",
       "      <td></td>\n",
       "      <td>2020-01-04 13:23:46</td>\n",
       "    </tr>\n",
       "    <tr>\n",
       "      <th>5</th>\n",
       "      <td>4</td>\n",
       "      <td>103</td>\n",
       "      <td>1</td>\n",
       "      <td>4</td>\n",
       "      <td></td>\n",
       "      <td>2020-01-04 13:23:46</td>\n",
       "    </tr>\n",
       "    <tr>\n",
       "      <th>6</th>\n",
       "      <td>4</td>\n",
       "      <td>103</td>\n",
       "      <td>2</td>\n",
       "      <td>4</td>\n",
       "      <td></td>\n",
       "      <td>2020-01-04 13:23:46</td>\n",
       "    </tr>\n",
       "    <tr>\n",
       "      <th>7</th>\n",
       "      <td>5</td>\n",
       "      <td>104</td>\n",
       "      <td>1</td>\n",
       "      <td>null</td>\n",
       "      <td>1</td>\n",
       "      <td>2020-01-08 21:00:29</td>\n",
       "    </tr>\n",
       "    <tr>\n",
       "      <th>8</th>\n",
       "      <td>6</td>\n",
       "      <td>101</td>\n",
       "      <td>2</td>\n",
       "      <td>null</td>\n",
       "      <td>null</td>\n",
       "      <td>2020-01-08 21:03:13</td>\n",
       "    </tr>\n",
       "    <tr>\n",
       "      <th>9</th>\n",
       "      <td>7</td>\n",
       "      <td>105</td>\n",
       "      <td>2</td>\n",
       "      <td>null</td>\n",
       "      <td>1</td>\n",
       "      <td>2020-01-08 21:20:29</td>\n",
       "    </tr>\n",
       "    <tr>\n",
       "      <th>10</th>\n",
       "      <td>8</td>\n",
       "      <td>102</td>\n",
       "      <td>1</td>\n",
       "      <td>null</td>\n",
       "      <td>null</td>\n",
       "      <td>2020-01-09 23:54:33</td>\n",
       "    </tr>\n",
       "    <tr>\n",
       "      <th>11</th>\n",
       "      <td>9</td>\n",
       "      <td>103</td>\n",
       "      <td>1</td>\n",
       "      <td>4</td>\n",
       "      <td>1, 5</td>\n",
       "      <td>2020-01-10 11:22:59</td>\n",
       "    </tr>\n",
       "    <tr>\n",
       "      <th>12</th>\n",
       "      <td>10</td>\n",
       "      <td>104</td>\n",
       "      <td>1</td>\n",
       "      <td>null</td>\n",
       "      <td>null</td>\n",
       "      <td>2020-01-11 18:34:49</td>\n",
       "    </tr>\n",
       "    <tr>\n",
       "      <th>13</th>\n",
       "      <td>10</td>\n",
       "      <td>104</td>\n",
       "      <td>1</td>\n",
       "      <td>2, 6</td>\n",
       "      <td>1, 4</td>\n",
       "      <td>2020-01-11 18:34:49</td>\n",
       "    </tr>\n",
       "  </tbody>\n",
       "</table>\n",
       "</div>"
      ],
      "text/plain": [
       "    order_id  customer_id  pizza_id exclusions extras           order_time\n",
       "0          1          101         1                    2020-01-01 18:05:02\n",
       "1          2          101         1                    2020-01-01 19:00:52\n",
       "2          3          102         1                    2020-01-02 23:51:23\n",
       "3          3          102         2              None  2020-01-02 23:51:23\n",
       "4          4          103         1          4         2020-01-04 13:23:46\n",
       "5          4          103         1          4         2020-01-04 13:23:46\n",
       "6          4          103         2          4         2020-01-04 13:23:46\n",
       "7          5          104         1       null      1  2020-01-08 21:00:29\n",
       "8          6          101         2       null   null  2020-01-08 21:03:13\n",
       "9          7          105         2       null      1  2020-01-08 21:20:29\n",
       "10         8          102         1       null   null  2020-01-09 23:54:33\n",
       "11         9          103         1          4   1, 5  2020-01-10 11:22:59\n",
       "12        10          104         1       null   null  2020-01-11 18:34:49\n",
       "13        10          104         1       2, 6   1, 4  2020-01-11 18:34:49"
      ]
     },
     "execution_count": 16,
     "metadata": {},
     "output_type": "execute_result"
    }
   ],
   "source": [
    "pd.read_sql(\"SELECT *  FROM customer_orders;\", conn)"
   ]
  },
  {
   "cell_type": "markdown",
   "metadata": {},
   "source": [
    "### How many pizzas were ordered?"
   ]
  },
  {
   "cell_type": "code",
   "execution_count": 22,
   "metadata": {},
   "outputs": [
    {
     "data": {
      "text/html": [
       "<div>\n",
       "<style scoped>\n",
       "    .dataframe tbody tr th:only-of-type {\n",
       "        vertical-align: middle;\n",
       "    }\n",
       "\n",
       "    .dataframe tbody tr th {\n",
       "        vertical-align: top;\n",
       "    }\n",
       "\n",
       "    .dataframe thead th {\n",
       "        text-align: right;\n",
       "    }\n",
       "</style>\n",
       "<table border=\"1\" class=\"dataframe\">\n",
       "  <thead>\n",
       "    <tr style=\"text-align: right;\">\n",
       "      <th></th>\n",
       "      <th>ordered_pizza</th>\n",
       "    </tr>\n",
       "  </thead>\n",
       "  <tbody>\n",
       "    <tr>\n",
       "      <th>0</th>\n",
       "      <td>14</td>\n",
       "    </tr>\n",
       "  </tbody>\n",
       "</table>\n",
       "</div>"
      ],
      "text/plain": [
       "   ordered_pizza\n",
       "0             14"
      ]
     },
     "execution_count": 22,
     "metadata": {},
     "output_type": "execute_result"
    }
   ],
   "source": [
    "first_q = pd.read_sql('''\n",
    " SELECT COUNT(pizza_id) AS ordered_pizza FROM customer_orders_temp;\n",
    "''', conn)\n",
    "first_q"
   ]
  },
  {
   "cell_type": "markdown",
   "metadata": {},
   "source": [
    "### How many unique customer orders were made?"
   ]
  },
  {
   "cell_type": "code",
   "execution_count": 23,
   "metadata": {},
   "outputs": [
    {
     "data": {
      "text/html": [
       "<div>\n",
       "<style scoped>\n",
       "    .dataframe tbody tr th:only-of-type {\n",
       "        vertical-align: middle;\n",
       "    }\n",
       "\n",
       "    .dataframe tbody tr th {\n",
       "        vertical-align: top;\n",
       "    }\n",
       "\n",
       "    .dataframe thead th {\n",
       "        text-align: right;\n",
       "    }\n",
       "</style>\n",
       "<table border=\"1\" class=\"dataframe\">\n",
       "  <thead>\n",
       "    <tr style=\"text-align: right;\">\n",
       "      <th></th>\n",
       "      <th>unique_customer</th>\n",
       "    </tr>\n",
       "  </thead>\n",
       "  <tbody>\n",
       "    <tr>\n",
       "      <th>0</th>\n",
       "      <td>10</td>\n",
       "    </tr>\n",
       "  </tbody>\n",
       "</table>\n",
       "</div>"
      ],
      "text/plain": [
       "   unique_customer\n",
       "0               10"
      ]
     },
     "execution_count": 23,
     "metadata": {},
     "output_type": "execute_result"
    }
   ],
   "source": [
    "second_q = pd.read_sql('''\n",
    " SELECT COUNT(DISTINCT(order_id)) AS unique_customer FROM customer_orders;\n",
    "''', conn)\n",
    "second_q"
   ]
  },
  {
   "cell_type": "markdown",
   "metadata": {},
   "source": [
    "### How many successful orders were delivered by each runner?"
   ]
  },
  {
   "cell_type": "code",
   "execution_count": 24,
   "metadata": {},
   "outputs": [
    {
     "data": {
      "text/html": [
       "<div>\n",
       "<style scoped>\n",
       "    .dataframe tbody tr th:only-of-type {\n",
       "        vertical-align: middle;\n",
       "    }\n",
       "\n",
       "    .dataframe tbody tr th {\n",
       "        vertical-align: top;\n",
       "    }\n",
       "\n",
       "    .dataframe thead th {\n",
       "        text-align: right;\n",
       "    }\n",
       "</style>\n",
       "<table border=\"1\" class=\"dataframe\">\n",
       "  <thead>\n",
       "    <tr style=\"text-align: right;\">\n",
       "      <th></th>\n",
       "      <th>runner_id</th>\n",
       "      <th>order_count</th>\n",
       "    </tr>\n",
       "  </thead>\n",
       "  <tbody>\n",
       "    <tr>\n",
       "      <th>0</th>\n",
       "      <td>2</td>\n",
       "      <td>4</td>\n",
       "    </tr>\n",
       "    <tr>\n",
       "      <th>1</th>\n",
       "      <td>1</td>\n",
       "      <td>4</td>\n",
       "    </tr>\n",
       "    <tr>\n",
       "      <th>2</th>\n",
       "      <td>3</td>\n",
       "      <td>2</td>\n",
       "    </tr>\n",
       "  </tbody>\n",
       "</table>\n",
       "</div>"
      ],
      "text/plain": [
       "   runner_id  order_count\n",
       "0          2            4\n",
       "1          1            4\n",
       "2          3            2"
      ]
     },
     "execution_count": 24,
     "metadata": {},
     "output_type": "execute_result"
    }
   ],
   "source": [
    "third_q = pd.read_sql('''\n",
    "     SELECT runner_id, COUNT(runner_id) AS order_count\n",
    "     FROM runner_orders\n",
    "     WHERE DISTANCE IS NOT NULL -- Iteramos sobre todas las lineas donde distance NO está vacío\n",
    "     GROUP BY runner_id \n",
    "     ORDER BY order_count DESC;\n",
    "''', conn)\n",
    "\n",
    "\n",
    "third_q"
   ]
  },
  {
   "cell_type": "markdown",
   "metadata": {},
   "source": [
    "### How many of each type of pizza was delivered?"
   ]
  },
  {
   "cell_type": "code",
   "execution_count": 28,
   "metadata": {},
   "outputs": [
    {
     "data": {
      "text/html": [
       "<div>\n",
       "<style scoped>\n",
       "    .dataframe tbody tr th:only-of-type {\n",
       "        vertical-align: middle;\n",
       "    }\n",
       "\n",
       "    .dataframe tbody tr th {\n",
       "        vertical-align: top;\n",
       "    }\n",
       "\n",
       "    .dataframe thead th {\n",
       "        text-align: right;\n",
       "    }\n",
       "</style>\n",
       "<table border=\"1\" class=\"dataframe\">\n",
       "  <thead>\n",
       "    <tr style=\"text-align: right;\">\n",
       "      <th></th>\n",
       "      <th>pizza_name</th>\n",
       "      <th>COUNT(pizza_id)</th>\n",
       "      <th>pizza_id</th>\n",
       "    </tr>\n",
       "  </thead>\n",
       "  <tbody>\n",
       "    <tr>\n",
       "      <th>0</th>\n",
       "      <td>Meatlovers</td>\n",
       "      <td>10</td>\n",
       "      <td>1</td>\n",
       "    </tr>\n",
       "    <tr>\n",
       "      <th>1</th>\n",
       "      <td>Vegetarian</td>\n",
       "      <td>4</td>\n",
       "      <td>2</td>\n",
       "    </tr>\n",
       "  </tbody>\n",
       "</table>\n",
       "</div>"
      ],
      "text/plain": [
       "   pizza_name  COUNT(pizza_id)  pizza_id\n",
       "0  Meatlovers               10         1\n",
       "1  Vegetarian                4         2"
      ]
     },
     "execution_count": 28,
     "metadata": {},
     "output_type": "execute_result"
    }
   ],
   "source": [
    "fourth_q = pd.read_sql('''\n",
    "     SELECT pizza_name, COUNT(pizza_id), pizza_id\n",
    "     FROM runner_orders\n",
    "     JOIN customer_orders\n",
    "     USING (order_id)\n",
    "     JOIN pizza_names\n",
    "     using (pizza_id)\n",
    "     WHERE DISTANCE IS NOT NULL\n",
    "     GROUP BY pizza_name;\n",
    "                       ''', conn)\n",
    "fourth_q"
   ]
  },
  {
   "cell_type": "markdown",
   "metadata": {},
   "source": [
    "### How many Vegetarian and Meatlovers were ordered by each customer?"
   ]
  },
  {
   "cell_type": "code",
   "execution_count": 43,
   "metadata": {},
   "outputs": [
    {
     "data": {
      "text/html": [
       "<div>\n",
       "<style scoped>\n",
       "    .dataframe tbody tr th:only-of-type {\n",
       "        vertical-align: middle;\n",
       "    }\n",
       "\n",
       "    .dataframe tbody tr th {\n",
       "        vertical-align: top;\n",
       "    }\n",
       "\n",
       "    .dataframe thead th {\n",
       "        text-align: right;\n",
       "    }\n",
       "</style>\n",
       "<table border=\"1\" class=\"dataframe\">\n",
       "  <thead>\n",
       "    <tr style=\"text-align: right;\">\n",
       "      <th></th>\n",
       "      <th>customer_id</th>\n",
       "      <th>COUNT(pizza_id)</th>\n",
       "      <th>pizza_name</th>\n",
       "    </tr>\n",
       "  </thead>\n",
       "  <tbody>\n",
       "    <tr>\n",
       "      <th>0</th>\n",
       "      <td>101</td>\n",
       "      <td>3</td>\n",
       "      <td>Meatlovers</td>\n",
       "    </tr>\n",
       "    <tr>\n",
       "      <th>1</th>\n",
       "      <td>102</td>\n",
       "      <td>3</td>\n",
       "      <td>Meatlovers</td>\n",
       "    </tr>\n",
       "    <tr>\n",
       "      <th>2</th>\n",
       "      <td>103</td>\n",
       "      <td>4</td>\n",
       "      <td>Meatlovers</td>\n",
       "    </tr>\n",
       "    <tr>\n",
       "      <th>3</th>\n",
       "      <td>104</td>\n",
       "      <td>3</td>\n",
       "      <td>Meatlovers</td>\n",
       "    </tr>\n",
       "    <tr>\n",
       "      <th>4</th>\n",
       "      <td>105</td>\n",
       "      <td>1</td>\n",
       "      <td>Vegetarian</td>\n",
       "    </tr>\n",
       "  </tbody>\n",
       "</table>\n",
       "</div>"
      ],
      "text/plain": [
       "   customer_id  COUNT(pizza_id)  pizza_name\n",
       "0          101                3  Meatlovers\n",
       "1          102                3  Meatlovers\n",
       "2          103                4  Meatlovers\n",
       "3          104                3  Meatlovers\n",
       "4          105                1  Vegetarian"
      ]
     },
     "execution_count": 43,
     "metadata": {},
     "output_type": "execute_result"
    }
   ],
   "source": [
    "fifth_q = pd.read_sql('''\n",
    "     SELECT customer_id, COUNT(pizza_id), pizza_name FROM customer_orders\n",
    "     JOIN pizza_names USING (pizza_id)\n",
    "     GROUP BY customer_id;\n",
    "            ''', conn)\n",
    "fifth_q"
   ]
  },
  {
   "cell_type": "markdown",
   "metadata": {},
   "source": [
    "### What was the maximum number of pizzas delivered in a single order?"
   ]
  },
  {
   "cell_type": "code",
   "execution_count": null,
   "metadata": {},
   "outputs": [],
   "source": [
    "sixth_q = pd.read_sql('''\n",
    "     SELECT * \n",
    "                      ''')"
   ]
  },
  {
   "cell_type": "code",
   "execution_count": null,
   "metadata": {},
   "outputs": [],
   "source": [
    "# For each customer, how many delivered pizzas had at least 1 change and how many had no changes?"
   ]
  },
  {
   "cell_type": "code",
   "execution_count": null,
   "metadata": {},
   "outputs": [],
   "source": [
    "# How many pizzas were delivered that had both exclusions and extras?"
   ]
  },
  {
   "cell_type": "code",
   "execution_count": null,
   "metadata": {},
   "outputs": [],
   "source": [
    "# What was the total volume of pizzas ordered for each hour of the day?"
   ]
  },
  {
   "cell_type": "code",
   "execution_count": null,
   "metadata": {},
   "outputs": [],
   "source": [
    "# What was the volume of orders for each day of the week?"
   ]
  },
  {
   "cell_type": "markdown",
   "metadata": {},
   "source": [
    "# CLEANUP\n",
    "Using  \n",
    "WHEN\n",
    "AS\n",
    "CASE\n",
    "SQL keywords"
   ]
  },
  {
   "cell_type": "code",
   "execution_count": 15,
   "metadata": {},
   "outputs": [
    {
     "data": {
      "text/plain": [
       "<sqlite3.Cursor at 0x7f4470700f80>"
      ]
     },
     "execution_count": 15,
     "metadata": {},
     "output_type": "execute_result"
    }
   ],
   "source": [
    "c.execute( '''\n",
    "DROP TABLE IF EXISTS customer_orders_temp;\n",
    "\n",
    "''')\n",
    "\n",
    "\n",
    "c.execute( '''\n",
    "CREATE TABLE customer_orders_temp AS\n",
    "  SELECT \n",
    "    order_id, \n",
    "    customer_id, \n",
    "    pizza_id, \n",
    "    CASE\n",
    "      WHEN exclusions = 'null'  OR  exclusions is null THEN ''\n",
    "      ELSE exclusions\n",
    "    END AS exclusions,\n",
    "    \n",
    "    CASE\n",
    "      WHEN extras = 'null'  OR  extras is null THEN ''\n",
    "      ELSE extras\n",
    "    END AS extras,\n",
    "    \n",
    "    \n",
    "    order_time\n",
    "\n",
    "FROM customer_orders;\n",
    "        ''')"
   ]
  }
 ],
 "metadata": {
  "kernelspec": {
   "display_name": "Python 3",
   "language": "python",
   "name": "python3"
  },
  "language_info": {
   "codemirror_mode": {
    "name": "ipython",
    "version": 3
   },
   "file_extension": ".py",
   "mimetype": "text/x-python",
   "name": "python",
   "nbconvert_exporter": "python",
   "pygments_lexer": "ipython3",
   "version": "3.11.0"
  }
 },
 "nbformat": 4,
 "nbformat_minor": 2
}
