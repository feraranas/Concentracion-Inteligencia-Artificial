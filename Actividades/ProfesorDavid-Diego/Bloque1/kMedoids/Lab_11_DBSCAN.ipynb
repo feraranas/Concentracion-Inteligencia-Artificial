{
  "cells": [
    {
      "cell_type": "markdown",
      "metadata": {
        "id": "s8155qVfBruI"
      },
      "source": [
        "<font size = 8 color ='336EFF'>Density-Based Clustering</font>"
      ]
    },
    {
      "cell_type": "markdown",
      "metadata": {
        "id": "oTcfsPHe4nqo"
      },
      "source": [
        "### Import Relevant Libraries"
      ]
    },
    {
      "cell_type": "code",
      "execution_count": 2,
      "metadata": {
        "id": "vTlqzQsmBruP"
      },
      "outputs": [],
      "source": [
        "import pandas as pd \n",
        "import numpy as np \n",
        "import seaborn as sns\n",
        "import sklearn\n",
        "import csv\n",
        "from scipy.spatial import distance\n",
        "from sklearn.datasets import make_moons \n",
        "from sklearn.preprocessing import StandardScaler\n",
        "from sklearn.cluster import DBSCAN \n",
        "import matplotlib.pyplot as plt"
      ]
    },
    {
      "cell_type": "markdown",
      "metadata": {
        "id": "PTz8eLyK30B8"
      },
      "source": [
        "### DBSCAN class\n",
        "\n"
      ]
    },
    {
      "cell_type": "code",
      "execution_count": 4,
      "metadata": {
        "id": "bvixIl0GWwas"
      },
      "outputs": [
        {
          "name": "stderr",
          "output_type": "stream",
          "text": [
            "<>:20: SyntaxWarning: \"is not\" with a literal. Did you mean \"!=\"?\n",
            "<>:20: SyntaxWarning: \"is not\" with a literal. Did you mean \"!=\"?\n",
            "/var/folders/9_/j5jkyytd56sc8gwljz4lg9700000gn/T/ipykernel_26327/28520900.py:20: SyntaxWarning: \"is not\" with a literal. Did you mean \"!=\"?\n",
            "  if clusters[i] is not 0:\n"
          ]
        }
      ],
      "source": [
        "class DBSCAN_2:\n",
        "    \"\"\"\n",
        "    eps: Radius of neighborhood graph\n",
        "    minPts: Number of neighbors required to label a given point as a core point.\n",
        "    metric: Distance metric used to determine distance between points\n",
        "    \"\"\"\n",
        "    def __init__(self, eps, minPts, metric=distance.euclidean):\n",
        "        self.eps = eps\n",
        "        self.minPts = minPts\n",
        "        self.metric = metric\n",
        "    \n",
        "    def fit_predict(self, X):\n",
        "        \"\"\"\n",
        "        X: An n-dimensional array of numeric vectors to be analyzed\n",
        "        Returns: [n] cluster labels\n",
        "        \"\"\"\n",
        "        clusters = [0] * X.shape[0]\n",
        "        current = 0\n",
        "        for i in range(0, X.shape[0]):\n",
        "            if clusters[i] is not 0:\n",
        "                continue\n",
        "            neighbors = neighborsGen(X, i, self.eps, self.metric)\n",
        "\n",
        "            if len(neighbors) < self.minPts:\n",
        "                clusters[i] = -1\n",
        "            else:\n",
        "                current += 1\n",
        "                expand(X, clusters, i, neighbors, current, self.eps, self.minPts, self.metric)\n",
        "        \n",
        "        return clusters"
      ]
    },
    {
      "cell_type": "markdown",
      "metadata": {
        "id": "fVuDi2vPs-Gv"
      },
      "source": [
        "Generates neighborhood graph for a given point"
      ]
    },
    {
      "cell_type": "code",
      "execution_count": 5,
      "metadata": {
        "id": "0yZg-qUonIuy"
      },
      "outputs": [],
      "source": [
        "def neighborsGen(X, point, eps, metric):\n",
        "    neighbors = []\n",
        "    for i in range(X.shape[0]):\n",
        "        if metric(X[point], X[i]) < eps:\n",
        "            neighbors.append(i)\n",
        "    \n",
        "    return neighbors"
      ]
    },
    {
      "cell_type": "markdown",
      "metadata": {
        "id": "717yFYcBtA11"
      },
      "source": [
        "Expands cluster from a given point until neighborhood boundaries are reached"
      ]
    },
    {
      "cell_type": "code",
      "execution_count": null,
      "metadata": {
        "id": "OJAKtpO2nIq6"
      },
      "outputs": [],
      "source": [
        "def expand(X, clusters, point, neighbors, current, eps, minPts, metric):\n",
        "    clusters[point] = current\n",
        "    i = 0\n",
        "    while i < len(neighbors):\n",
        "        nextPoint = neighbors[i]\n",
        "        \n",
        "        if clusters[nextPoint] == -1:\n",
        "            clusters[nextPoint] = current\n",
        "        elif clusters[nextPoint] == 0:\n",
        "            clusters[nextPoint] = current \n",
        "            nextNeighbors = neighborsGen(X, nextPoint, eps, metric)\n",
        "            if len(nextNeighbors) >= minPts:\n",
        "                neighbors = neighbors + nextNeighbors\n",
        "        \n",
        "        i += 1"
      ]
    },
    {
      "cell_type": "markdown",
      "metadata": {
        "id": "2Nh8LGuss47C"
      },
      "source": [
        "Helper to illustrate accuracy of results"
      ]
    },
    {
      "cell_type": "code",
      "execution_count": null,
      "metadata": {
        "id": "j0ztSxWjmf9A"
      },
      "outputs": [],
      "source": [
        "def checkEqual(l1, l2):\n",
        "    return len(l1) == len(l2) and sorted(l1) == sorted(l2)"
      ]
    },
    {
      "cell_type": "markdown",
      "metadata": {
        "id": "i17dRs9kwHCP"
      },
      "source": [
        "Import data"
      ]
    },
    {
      "cell_type": "code",
      "execution_count": null,
      "metadata": {
        "id": "cJdpwberzyxV"
      },
      "outputs": [],
      "source": [
        "# your code"
      ]
    },
    {
      "cell_type": "markdown",
      "metadata": {
        "id": "OtB0nH9fxMgx"
      },
      "source": [
        "Load file"
      ]
    },
    {
      "cell_type": "code",
      "execution_count": null,
      "metadata": {
        "id": "h99xeC55wSSF"
      },
      "outputs": [],
      "source": [
        "# load your dataset\n",
        "# your code"
      ]
    },
    {
      "cell_type": "markdown",
      "metadata": {
        "id": "UVAvUy7kwinJ"
      },
      "source": [
        "Extract Null values"
      ]
    },
    {
      "cell_type": "code",
      "execution_count": null,
      "metadata": {
        "id": "rCpn5QAmwiXp"
      },
      "outputs": [],
      "source": [
        "# checking for NULL data in the dataset\n",
        "# your code"
      ]
    },
    {
      "cell_type": "markdown",
      "metadata": {
        "id": "t9zLXnALwl3x"
      },
      "source": [
        "Extract Columns Annual Income and Spending Score"
      ]
    },
    {
      "cell_type": "code",
      "execution_count": null,
      "metadata": {
        "id": "WkMSJD3JwkmQ"
      },
      "outputs": [],
      "source": [
        "# extracting the above mentioned columns\n",
        "# your code"
      ]
    },
    {
      "cell_type": "code",
      "execution_count": null,
      "metadata": {
        "id": "lAddDCUemgAK"
      },
      "outputs": [],
      "source": [
        "# create scanner\n",
        "# your code"
      ]
    },
    {
      "cell_type": "code",
      "execution_count": null,
      "metadata": {
        "id": "h96A9qxt1K9W"
      },
      "outputs": [],
      "source": [
        "# Use Sklearn DBSCAN\n",
        "# your code"
      ]
    },
    {
      "cell_type": "code",
      "execution_count": null,
      "metadata": {
        "id": "X31kN28CmfsI"
      },
      "outputs": [],
      "source": [
        "# Plot and compare results"
      ]
    }
  ],
  "metadata": {
    "colab": {
      "collapsed_sections": [],
      "provenance": []
    },
    "kernelspec": {
      "display_name": "Python 3",
      "language": "python",
      "name": "python3"
    },
    "language_info": {
      "codemirror_mode": {
        "name": "ipython",
        "version": 3
      },
      "file_extension": ".py",
      "mimetype": "text/x-python",
      "name": "python",
      "nbconvert_exporter": "python",
      "pygments_lexer": "ipython3",
      "version": "3.11.0"
    }
  },
  "nbformat": 4,
  "nbformat_minor": 0
}
