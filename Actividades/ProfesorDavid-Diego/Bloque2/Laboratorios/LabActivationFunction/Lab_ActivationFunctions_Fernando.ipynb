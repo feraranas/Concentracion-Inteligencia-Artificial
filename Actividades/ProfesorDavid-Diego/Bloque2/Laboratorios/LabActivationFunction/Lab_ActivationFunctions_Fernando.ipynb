{
  "cells": [
    {
      "cell_type": "markdown",
      "metadata": {
        "id": "thhorARjsDPx"
      },
      "source": [
        "<font size = 8 color ='336EFF'>Activation function</font>\n"
      ]
    },
    {
      "cell_type": "markdown",
      "metadata": {
        "id": "TLEQ-HoWltem"
      },
      "source": [
        "Import Libraries"
      ]
    },
    {
      "cell_type": "code",
      "execution_count": null,
      "metadata": {
        "id": "68kgsPj1sDQK"
      },
      "outputs": [],
      "source": [
        "# your code\n"
      ]
    },
    {
      "cell_type": "markdown",
      "metadata": {
        "id": "IZ5lAnJPlzMD"
      },
      "source": [
        "Load the Fashion MNIST data set"
      ]
    },
    {
      "cell_type": "code",
      "execution_count": null,
      "metadata": {
        "id": "ctJo_QQrsDQO"
      },
      "outputs": [],
      "source": [
        "# your code"
      ]
    },
    {
      "cell_type": "markdown",
      "metadata": {
        "id": "iMsej3VomCIM"
      },
      "source": [
        "Plot example of the data set"
      ]
    },
    {
      "cell_type": "code",
      "execution_count": null,
      "metadata": {
        "id": "rc2_UiqkmCAl"
      },
      "outputs": [],
      "source": [
        "# your code"
      ]
    },
    {
      "cell_type": "markdown",
      "metadata": {
        "id": "zjbl_rX8mJVR"
      },
      "source": [
        "Import extra Libraries for Tensorflow"
      ]
    },
    {
      "cell_type": "code",
      "execution_count": null,
      "metadata": {
        "id": "yKSBryiPsDQS"
      },
      "outputs": [],
      "source": [
        "# your code"
      ]
    },
    {
      "cell_type": "markdown",
      "metadata": {
        "id": "3jXZ5kJvmTxJ"
      },
      "source": [
        "Reshape the images"
      ]
    },
    {
      "cell_type": "code",
      "execution_count": null,
      "metadata": {
        "id": "C9qUbXZIsDQZ"
      },
      "outputs": [],
      "source": [
        "# your code"
      ]
    },
    {
      "cell_type": "markdown",
      "metadata": {
        "id": "-QvhM8ZqmeKL"
      },
      "source": [
        "Convert to categorical"
      ]
    },
    {
      "cell_type": "code",
      "execution_count": null,
      "metadata": {
        "id": "bjlAMNCXsDQd"
      },
      "outputs": [],
      "source": [
        "# your code"
      ]
    },
    {
      "cell_type": "markdown",
      "metadata": {
        "id": "N-Yj3ddpnkem"
      },
      "source": [
        "### Create two models\n",
        "10->256->512->256->10 units use two types of activating function for the hidden layers and softmax for the output, kernel regularizer l2 include one Dropout layer in between each layer with a probability of 20%. For the compilation use categorical crossentropy for the loss, Optimizer SGD with a learning rate 0.001, include the metrics accuracy "
      ]
    },
    {
      "cell_type": "code",
      "execution_count": null,
      "metadata": {
        "id": "s4afU-2YsDQg"
      },
      "outputs": [],
      "source": [
        "# your code"
      ]
    },
    {
      "cell_type": "markdown",
      "metadata": {
        "id": "UzQil4uboA8U"
      },
      "source": [
        "Visualize the model 01"
      ]
    },
    {
      "cell_type": "code",
      "execution_count": null,
      "metadata": {
        "id": "elbjZw1nn7nV"
      },
      "outputs": [],
      "source": [
        "# your code"
      ]
    },
    {
      "cell_type": "markdown",
      "metadata": {
        "id": "i4FFk4pfaFZC"
      },
      "source": [
        "Visualize the model 02"
      ]
    },
    {
      "cell_type": "code",
      "execution_count": null,
      "metadata": {
        "id": "J9iH9V39aFNl"
      },
      "outputs": [],
      "source": [
        "# your code"
      ]
    },
    {
      "cell_type": "markdown",
      "metadata": {
        "id": "GoQxpuRiaUV3"
      },
      "source": [
        "Train Model 01"
      ]
    },
    {
      "cell_type": "code",
      "execution_count": null,
      "metadata": {
        "id": "M8rhtyNmsDQq"
      },
      "outputs": [],
      "source": [
        "# your code"
      ]
    },
    {
      "cell_type": "markdown",
      "metadata": {
        "id": "AYtx40yBaXGt"
      },
      "source": [
        "Train Model 02"
      ]
    },
    {
      "cell_type": "code",
      "execution_count": null,
      "metadata": {
        "id": "AYFLAFh2aW9D"
      },
      "outputs": [],
      "source": [
        "# your code"
      ]
    },
    {
      "cell_type": "markdown",
      "metadata": {
        "id": "8tB7Mg4mO3m5"
      },
      "source": [
        "### Predict your test dataset and obtain confusion matrix and classification report"
      ]
    },
    {
      "cell_type": "markdown",
      "metadata": {
        "id": "YhekLzGnafkf"
      },
      "source": [
        "Predict model 01"
      ]
    },
    {
      "cell_type": "code",
      "execution_count": null,
      "metadata": {
        "id": "VuY3gZan93rb"
      },
      "outputs": [],
      "source": [
        "# your code"
      ]
    },
    {
      "cell_type": "markdown",
      "metadata": {
        "id": "732jSkDXaheI"
      },
      "source": [
        "Predict model 02"
      ]
    },
    {
      "cell_type": "code",
      "execution_count": null,
      "metadata": {
        "id": "E_JD6NZEafEt"
      },
      "outputs": [],
      "source": [
        "# your code"
      ]
    },
    {
      "cell_type": "markdown",
      "metadata": {
        "id": "t1ly94XcPDUH"
      },
      "source": [
        "Argmax using axis equal to 1"
      ]
    },
    {
      "cell_type": "markdown",
      "metadata": {
        "id": "KfnSikIOarTp"
      },
      "source": [
        "Predict Model 01"
      ]
    },
    {
      "cell_type": "code",
      "execution_count": null,
      "metadata": {
        "id": "xqGVqUGlaldl"
      },
      "outputs": [],
      "source": [
        "# your code"
      ]
    },
    {
      "cell_type": "markdown",
      "metadata": {
        "id": "nL6CY5QmatWb"
      },
      "source": [
        "Predict Model 02"
      ]
    },
    {
      "cell_type": "code",
      "execution_count": null,
      "metadata": {
        "id": "u9Uiwnc__9T3"
      },
      "outputs": [],
      "source": [
        "# your code"
      ]
    },
    {
      "cell_type": "markdown",
      "metadata": {
        "id": "WdWtqgsqPWls"
      },
      "source": [
        "Confusion matrix and classification report"
      ]
    },
    {
      "cell_type": "code",
      "execution_count": null,
      "metadata": {
        "id": "5Bt-a2R1Cl2h"
      },
      "outputs": [],
      "source": [
        "# your code"
      ]
    },
    {
      "cell_type": "code",
      "execution_count": null,
      "metadata": {
        "id": "BFdwbFi3-AGz"
      },
      "outputs": [],
      "source": [
        "# your code"
      ]
    },
    {
      "cell_type": "code",
      "execution_count": null,
      "metadata": {
        "id": "3v4rw0nnBx2q"
      },
      "outputs": [],
      "source": [
        "# your code"
      ]
    },
    {
      "cell_type": "markdown",
      "metadata": {
        "id": "k_9-JcFqaxJh"
      },
      "source": [
        "Evaluate which model is more accurate"
      ]
    },
    {
      "cell_type": "code",
      "execution_count": null,
      "metadata": {
        "id": "IeKaf3XsazNK"
      },
      "outputs": [],
      "source": [
        "# your code"
      ]
    }
  ],
  "metadata": {
    "colab": {
      "collapsed_sections": [],
      "provenance": []
    },
    "kernelspec": {
      "display_name": "Python 3",
      "language": "python",
      "name": "python3"
    },
    "language_info": {
      "codemirror_mode": {
        "name": "ipython",
        "version": 3
      },
      "file_extension": ".py",
      "mimetype": "text/x-python",
      "name": "python",
      "nbconvert_exporter": "python",
      "pygments_lexer": "ipython3",
      "version": "3.6.8"
    }
  },
  "nbformat": 4,
  "nbformat_minor": 0
}
