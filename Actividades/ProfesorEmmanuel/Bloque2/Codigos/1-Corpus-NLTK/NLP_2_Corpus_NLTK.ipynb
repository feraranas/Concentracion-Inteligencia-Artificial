{
  "cells": [
    {
      "cell_type": "markdown",
      "metadata": {
        "id": "IErJeEvCFXdy"
      },
      "source": [
        "## Download NLTK modules"
      ]
    },
    {
      "cell_type": "code",
      "execution_count": 1,
      "metadata": {
        "colab": {
          "base_uri": "https://localhost:8080/"
        },
        "id": "3tnGsbf8E8vT",
        "outputId": "cd77da2e-f6e7-42f6-fa2b-3c887fc9a417"
      },
      "outputs": [
        {
          "name": "stderr",
          "output_type": "stream",
          "text": [
            "[nltk_data] Downloading package movie_reviews to\n",
            "[nltk_data]     /Users/fernankiwi/nltk_data...\n",
            "[nltk_data]   Package movie_reviews is already up-to-date!\n",
            "[nltk_data] Downloading package punkt to\n",
            "[nltk_data]     /Users/fernankiwi/nltk_data...\n",
            "[nltk_data]   Package punkt is already up-to-date!\n",
            "[nltk_data] Downloading package stopwords to\n",
            "[nltk_data]     /Users/fernankiwi/nltk_data...\n",
            "[nltk_data]   Package stopwords is already up-to-date!\n"
          ]
        },
        {
          "data": {
            "text/plain": [
              "True"
            ]
          },
          "execution_count": 1,
          "metadata": {},
          "output_type": "execute_result"
        }
      ],
      "source": [
        "import nltk\n",
        "nltk.download('movie_reviews')\n",
        "nltk.download('punkt')\n",
        "nltk.download('stopwords')"
      ]
    },
    {
      "cell_type": "markdown",
      "metadata": {
        "id": "T2NnTABjEFcs"
      },
      "source": [
        "## Import NTLK Corpus"
      ]
    },
    {
      "cell_type": "code",
      "execution_count": 2,
      "metadata": {
        "id": "Qbxgg7n1Dwa4"
      },
      "outputs": [],
      "source": [
        "from nltk.corpus import  movie_reviews"
      ]
    },
    {
      "cell_type": "code",
      "execution_count": 7,
      "metadata": {
        "colab": {
          "base_uri": "https://localhost:8080/"
        },
        "id": "Y9dWEoaDEIcL",
        "outputId": "bfd5dbba-3f73-4ac4-a4b0-fd8e367ba3f2"
      },
      "outputs": [
        {
          "name": "stdout",
          "output_type": "stream",
          "text": [
            "['plot', ':', 'two', 'teen', 'couples', 'go', 'to', ...]\n",
            "1583820\n"
          ]
        }
      ],
      "source": [
        "print(movie_reviews.words())\n",
        "print(len(movie_reviews.words()))"
      ]
    },
    {
      "cell_type": "code",
      "execution_count": 4,
      "metadata": {
        "colab": {
          "base_uri": "https://localhost:8080/"
        },
        "id": "pVhnv1NaEMmu",
        "outputId": "27ef4248-c8b4-450c-a9c5-3c28bc06aa89"
      },
      "outputs": [
        {
          "data": {
            "text/plain": [
              "[['plot', ':', 'two', 'teen', 'couples', 'go', 'to', 'a', 'church', 'party', ',', 'drink', 'and', 'then', 'drive', '.'], ['they', 'get', 'into', 'an', 'accident', '.'], ...]"
            ]
          },
          "execution_count": 4,
          "metadata": {},
          "output_type": "execute_result"
        }
      ],
      "source": [
        " movie_reviews.sents()"
      ]
    },
    {
      "cell_type": "code",
      "execution_count": 5,
      "metadata": {
        "colab": {
          "base_uri": "https://localhost:8080/"
        },
        "id": "yPocmblyFDg3",
        "outputId": "8af3d5de-1f5b-4a05-bb41-8c6675c6ab38"
      },
      "outputs": [
        {
          "name": "stdout",
          "output_type": "stream",
          "text": [
            "plot : two teen couples go to a church party , drink and then drive .\n",
            "they get into an accident .\n",
            "one of the guys dies , but his girlfriend continues to see him in her life , and has nightmares .\n",
            "what ' s the deal ?\n",
            "watch the movie and \" sorta \" find out .\n"
          ]
        }
      ],
      "source": [
        "print('\\n'.join(' '.join(sent) for sent in movie_reviews.sents()[:5]))"
      ]
    },
    {
      "cell_type": "markdown",
      "metadata": {
        "id": "PDCsvdfdFf0D"
      },
      "source": [
        "## Word frequency"
      ]
    },
    {
      "cell_type": "code",
      "execution_count": 6,
      "metadata": {
        "colab": {
          "base_uri": "https://localhost:8080/"
        },
        "id": "acPsVdDJFR6s",
        "outputId": "7f9e7cfa-9518-4c1a-d537-1cf5e94f2e85"
      },
      "outputs": [
        {
          "data": {
            "text/plain": [
              "[(',', 77717),\n",
              " ('the', 76529),\n",
              " ('.', 65876),\n",
              " ('a', 38106),\n",
              " ('and', 35576),\n",
              " ('of', 34123),\n",
              " ('to', 31937),\n",
              " (\"'\", 30585),\n",
              " ('is', 25195),\n",
              " ('in', 21822),\n",
              " ('s', 18513),\n",
              " ('\"', 17612),\n",
              " ('it', 16107),\n",
              " ('that', 15924),\n",
              " ('-', 15595),\n",
              " (')', 11781),\n",
              " ('(', 11664),\n",
              " ('as', 11378),\n",
              " ('with', 10792),\n",
              " ('for', 9961)]"
            ]
          },
          "execution_count": 6,
          "metadata": {},
          "output_type": "execute_result"
        }
      ],
      "source": [
        "from nltk import FreqDist\n",
        "f = FreqDist(movie_reviews.words())\n",
        "f.most_common(20)"
      ]
    },
    {
      "cell_type": "code",
      "execution_count": 9,
      "metadata": {
        "colab": {
          "base_uri": "https://localhost:8080/"
        },
        "id": "aFEoCaeDFuSE",
        "outputId": "13d7c59d-c18a-49ed-eb7d-82477367f56b"
      },
      "outputs": [
        {
          "data": {
            "text/plain": [
              "[('the', 76529),\n",
              " ('a', 38106),\n",
              " ('and', 35576),\n",
              " ('of', 34123),\n",
              " ('to', 31937),\n",
              " ('is', 25195),\n",
              " ('in', 21822),\n",
              " ('s', 18513),\n",
              " ('it', 16107),\n",
              " ('that', 15924),\n",
              " ('as', 11378),\n",
              " ('with', 10792),\n",
              " ('for', 9961),\n",
              " ('his', 9587),\n",
              " ('this', 9578),\n",
              " ('film', 9517),\n",
              " ('i', 8889),\n",
              " ('he', 8864),\n",
              " ('but', 8634),\n",
              " ('on', 7385)]"
            ]
          },
          "execution_count": 9,
          "metadata": {},
          "output_type": "execute_result"
        }
      ],
      "source": [
        "f = FreqDist(w for w in movie_reviews.words() if any(c.isalpha() for c in w))\n",
        "f.most_common(20)"
      ]
    },
    {
      "cell_type": "markdown",
      "metadata": {
        "id": "MUsVPXiIGJRb"
      },
      "source": [
        "## Using labeled corpus and frequency problems"
      ]
    },
    {
      "cell_type": "code",
      "execution_count": null,
      "metadata": {
        "colab": {
          "base_uri": "https://localhost:8080/"
        },
        "id": "hzxulG1UGBrK",
        "outputId": "d083fa89-2985-49b4-fe1e-3a8044f73861"
      },
      "outputs": [
        {
          "data": {
            "text/plain": [
              "['neg', 'pos']"
            ]
          },
          "execution_count": 10,
          "metadata": {},
          "output_type": "execute_result"
        }
      ],
      "source": [
        "movie_reviews.categories()"
      ]
    },
    {
      "cell_type": "code",
      "execution_count": 11,
      "metadata": {
        "id": "-E9DJPaBGMO3"
      },
      "outputs": [],
      "source": [
        "positives = FreqDist(movie_reviews.words(categories='pos'))\n",
        "negatives = FreqDist(movie_reviews.words(categories='neg'))"
      ]
    },
    {
      "cell_type": "code",
      "execution_count": 12,
      "metadata": {
        "colab": {
          "base_uri": "https://localhost:8080/"
        },
        "id": "j0dEfdJWGY_2",
        "outputId": "b8d60d6b-2456-4673-eb26-fbb30578f67f"
      },
      "outputs": [
        {
          "data": {
            "text/plain": [
              "[(',', 35269),\n",
              " ('the', 35058),\n",
              " ('.', 32162),\n",
              " ('a', 17910),\n",
              " ('and', 15680),\n",
              " ('of', 15487),\n",
              " ('to', 15420),\n",
              " (\"'\", 15317),\n",
              " ('is', 11136),\n",
              " ('in', 10097),\n",
              " ('\"', 9120),\n",
              " ('s', 8854),\n",
              " ('that', 7803),\n",
              " ('it', 7756),\n",
              " ('-', 7664),\n",
              " (')', 5742),\n",
              " ('(', 5650),\n",
              " ('with', 4941),\n",
              " ('this', 4930),\n",
              " ('as', 4900)]"
            ]
          },
          "execution_count": 12,
          "metadata": {},
          "output_type": "execute_result"
        }
      ],
      "source": [
        " negatives.most_common(20)"
      ]
    },
    {
      "cell_type": "code",
      "execution_count": 13,
      "metadata": {
        "colab": {
          "base_uri": "https://localhost:8080/"
        },
        "id": "cQb8sYlPGbKl",
        "outputId": "418535eb-d493-4554-df3b-012d3ea5d978"
      },
      "outputs": [
        {
          "data": {
            "text/plain": [
              "[(',', 42448),\n",
              " ('the', 41471),\n",
              " ('.', 33714),\n",
              " ('a', 20196),\n",
              " ('and', 19896),\n",
              " ('of', 18636),\n",
              " ('to', 16517),\n",
              " (\"'\", 15268),\n",
              " ('is', 14059),\n",
              " ('in', 11725),\n",
              " ('s', 9659),\n",
              " ('\"', 8492),\n",
              " ('it', 8351),\n",
              " ('that', 8121),\n",
              " ('-', 7931),\n",
              " ('as', 6478),\n",
              " (')', 6039),\n",
              " ('(', 6014),\n",
              " ('with', 5851),\n",
              " ('his', 5588)]"
            ]
          },
          "execution_count": 13,
          "metadata": {},
          "output_type": "execute_result"
        }
      ],
      "source": [
        "positives.most_common(20)"
      ]
    },
    {
      "cell_type": "code",
      "execution_count": 14,
      "metadata": {
        "colab": {
          "base_uri": "https://localhost:8080/"
        },
        "id": "6GTQz2NyGlpR",
        "outputId": "d9af8af3-6afc-465e-d6c2-8f73a97ae06e"
      },
      "outputs": [
        {
          "data": {
            "text/plain": [
              "[('movie', 721),\n",
              " ('t', 700),\n",
              " ('i', 685),\n",
              " ('bad', 673),\n",
              " ('?', 631),\n",
              " ('\"', 628),\n",
              " ('have', 421),\n",
              " ('!', 399),\n",
              " ('no', 350),\n",
              " ('plot', 321),\n",
              " ('there', 318),\n",
              " ('if', 301),\n",
              " ('*', 286),\n",
              " ('this', 282),\n",
              " ('so', 267),\n",
              " ('why', 250),\n",
              " ('just', 221),\n",
              " ('only', 219),\n",
              " ('worst', 210),\n",
              " ('even', 207)]"
            ]
          },
          "execution_count": 14,
          "metadata": {},
          "output_type": "execute_result"
        }
      ],
      "source": [
        "real_negatives = negatives - positives\n",
        "real_negatives.most_common(20)"
      ]
    },
    {
      "cell_type": "markdown",
      "metadata": {
        "id": "9vtpcWlfWAGP"
      },
      "source": [
        "## Tokenizers\n"
      ]
    },
    {
      "cell_type": "code",
      "execution_count": 24,
      "metadata": {
        "colab": {
          "base_uri": "https://localhost:8080/"
        },
        "id": "1d7NVdPHUAqT",
        "outputId": "a0fbf16f-0090-4b89-a4e5-13cad8c38b0b"
      },
      "outputs": [
        {
          "data": {
            "text/plain": [
              "['Daniels',\n",
              " 'made',\n",
              " 'several',\n",
              " 'appearances',\n",
              " 'as',\n",
              " 'C-3PO',\n",
              " 'on',\n",
              " 'numerous',\n",
              " 'TV',\n",
              " 'shows',\n",
              " 'and',\n",
              " 'commercials',\n",
              " ',',\n",
              " 'notably',\n",
              " 'on',\n",
              " 'a',\n",
              " 'Star',\n",
              " 'Wars-themed',\n",
              " 'episode',\n",
              " 'of',\n",
              " 'The',\n",
              " 'Donny',\n",
              " 'and',\n",
              " 'Marie',\n",
              " 'Show',\n",
              " 'in',\n",
              " '1977',\n",
              " ',',\n",
              " 'Disneyland',\n",
              " \"'s\",\n",
              " '35th',\n",
              " 'Anniversary',\n",
              " '.']"
            ]
          },
          "execution_count": 24,
          "metadata": {},
          "output_type": "execute_result"
        }
      ],
      "source": [
        "from nltk.tokenize import word_tokenize\n",
        "word_tokenize(\"Daniels made several appearances as C-3PO on numerous TV shows and commercials, notably on a Star Wars-themed episode  of The Donny and Marie Show in 1977, Disneyland's 35th Anniversary.\")"
      ]
    },
    {
      "cell_type": "code",
      "execution_count": 28,
      "metadata": {
        "colab": {
          "base_uri": "https://localhost:8080/"
        },
        "id": "H9dklnfhWGzU",
        "outputId": "d505e796-c6fd-474d-e94b-53aba485a25a"
      },
      "outputs": [
        {
          "name": "stdout",
          "output_type": "stream",
          "text": [
            "['Da', 'niel', 's ', 'ma', 'de ']\n",
            "['Ale', 'jan', 'dro']\n"
          ]
        },
        {
          "name": "stderr",
          "output_type": "stream",
          "text": [
            "/Users/fernankiwi/.pyenv/versions/3.11.0/lib/python3.11/site-packages/nltk/tokenize/sonority_sequencing.py:102: UserWarning: Character not defined in sonority_hierarchy, assigning as vowel: ' '\n",
            "  warnings.warn(\n"
          ]
        }
      ],
      "source": [
        "from nltk.tokenize import SyllableTokenizer\n",
        "SSP = SyllableTokenizer()\n",
        "print(SSP.tokenize(\"Daniels made \"))\n",
        "print(SSP.tokenize(\"Alejandro\"))"
      ]
    },
    {
      "cell_type": "markdown",
      "metadata": {
        "id": "OijXNiGrZSKm"
      },
      "source": [
        "## DIY Corpus"
      ]
    },
    {
      "cell_type": "code",
      "execution_count": null,
      "metadata": {
        "id": "PtcyTRZ5ZRyP"
      },
      "outputs": [],
      "source": [
        "from nltk.corpus import PlaintextCorpusReader\n",
        "\n",
        "corpus_root = \"drive/MyDrive/Colab Notebooks/archive/Star Wars\"\n",
        "my_corpus = PlaintextCorpusReader(corpus_root,\".*\")"
      ]
    },
    {
      "cell_type": "code",
      "execution_count": null,
      "metadata": {
        "colab": {
          "base_uri": "https://localhost:8080/"
        },
        "id": "oZ6RhnVTYiQL",
        "outputId": "cc1bc2d5-022d-4517-be5b-9eae1ed43843"
      },
      "outputs": [
        {
          "data": {
            "text/plain": [
              "['SW_EpisodeIV.txt', 'SW_EpisodeV.txt', 'SW_EpisodeVI.txt']"
            ]
          },
          "execution_count": 150,
          "metadata": {},
          "output_type": "execute_result"
        }
      ],
      "source": [
        "my_corpus.fileids()"
      ]
    },
    {
      "cell_type": "code",
      "execution_count": null,
      "metadata": {
        "colab": {
          "base_uri": "https://localhost:8080/"
        },
        "id": "zd-0Bptpz3Uf",
        "outputId": "85cf484f-c682-4303-afdd-adc7cefb3085"
      },
      "outputs": [
        {
          "data": {
            "text/plain": [
              "['\"', 'character', '\"', '\"', 'dialogue', '\"', '\"', '1', ...]"
            ]
          },
          "execution_count": 151,
          "metadata": {},
          "output_type": "execute_result"
        }
      ],
      "source": [
        "my_corpus.words()"
      ]
    },
    {
      "cell_type": "code",
      "execution_count": null,
      "metadata": {
        "colab": {
          "base_uri": "https://localhost:8080/"
        },
        "id": "GcgmoMCzz7D8",
        "outputId": "a6dbf4bc-ee08-415e-81d9-189934131799"
      },
      "outputs": [
        {
          "data": {
            "text/plain": [
              "[['\"', 'character', '\"', '\"', 'dialogue', '\"', '\"', '1', '\"', '\"', 'THREEPIO', '\"', '\"', 'Did', 'you', 'hear', 'that', '?'], ['They', \"'\", 've', 'shut', 'down', 'the', 'main', 'reactor', '.'], ...]"
            ]
          },
          "execution_count": 152,
          "metadata": {},
          "output_type": "execute_result"
        }
      ],
      "source": [
        "my_corpus.sents()"
      ]
    },
    {
      "cell_type": "code",
      "execution_count": null,
      "metadata": {
        "colab": {
          "base_uri": "https://localhost:8080/"
        },
        "id": "tGIm1UEd0ABy",
        "outputId": "964bbfc5-9674-4bc8-b349-74bedbc556d0"
      },
      "outputs": [
        {
          "data": {
            "text/plain": [
              "53294"
            ]
          },
          "execution_count": 153,
          "metadata": {},
          "output_type": "execute_result"
        }
      ],
      "source": [
        "len(my_corpus.words())"
      ]
    },
    {
      "cell_type": "code",
      "execution_count": 31,
      "metadata": {
        "id": "704l0CLN1GaH"
      },
      "outputs": [],
      "source": [
        "import numpy as np\n",
        "import pandas as pd\n",
        "\n",
        "def get_frequency_corpus(my_corpus):\n",
        "  frequent_words = {}\n",
        "  for word in my_corpus.words():\n",
        "    if word in frequent_words:\n",
        "      frequent_words[word]+=1\n",
        "    else:\n",
        "      frequent_words[word]=1\n",
        "  keys = list(frequent_words.keys())\n",
        "  values = list(frequent_words.values())\n",
        "  sorted_value_index = np.flip(np.argsort(values))\n",
        "  sorted_dict = [(keys[i], values[i]) for i in sorted_value_index]\n",
        "  return sorted_dict"
      ]
    },
    {
      "cell_type": "code",
      "execution_count": null,
      "metadata": {
        "colab": {
          "base_uri": "https://localhost:8080/"
        },
        "id": "GVxi5O1C2rZO",
        "outputId": "e2c57039-195e-4534-95d3-2677ff06b325"
      },
      "outputs": [],
      "source": [
        "frequency = get_frequency_corpus(my_corpus)\n",
        "frequency[:100]"
      ]
    },
    {
      "cell_type": "code",
      "execution_count": null,
      "metadata": {
        "colab": {
          "base_uri": "https://localhost:8080/",
          "height": 466
        },
        "id": "qXOG7MTY2zpa",
        "outputId": "a6bc3aa3-8634-4539-abf1-bcec160eda3b"
      },
      "outputs": [],
      "source": [
        "import matplotlib.pyplot as plt\n",
        "%matplotlib inline\n",
        "\n",
        "df = pd.DataFrame(frequency, columns =['token', 'count'])\n",
        "df[\"position\"]= df.apply((lambda x: x.name), axis=1)\n",
        "df.plot.scatter(x='position',y='count')"
      ]
    },
    {
      "cell_type": "code",
      "execution_count": null,
      "metadata": {
        "id": "VPnG4Pwf5p9U"
      },
      "outputs": [],
      "source": [
        "df[\"zipf\"]= df.apply((lambda x: x.name * x[\"count\"]), axis=1)"
      ]
    },
    {
      "cell_type": "code",
      "execution_count": null,
      "metadata": {
        "colab": {
          "base_uri": "https://localhost:8080/",
          "height": 466
        },
        "id": "EPh-N_Gs69vW",
        "outputId": "239163cb-c061-4915-d483-eb018cdec5e9"
      },
      "outputs": [
        {
          "data": {
            "text/plain": [
              "<Axes: xlabel='position', ylabel='zipf'>"
            ]
          },
          "execution_count": 158,
          "metadata": {},
          "output_type": "execute_result"
        },
        {
          "data": {
            "image/png": "[encoded data removed]",
            "text/plain": [
              "<Figure size 640x480 with 1 Axes>"
            ]
          },
          "metadata": {},
          "output_type": "display_data"
        }
      ],
      "source": [
        "df.plot.scatter(x='position',y='zipf')"
      ]
    },
    {
      "cell_type": "code",
      "execution_count": null,
      "metadata": {
        "colab": {
          "base_uri": "https://localhost:8080/"
        },
        "id": "pJy6cb4mGxos",
        "outputId": "82aa3d97-46b1-453e-bdc5-154e2ed8f073"
      },
      "outputs": [
        {
          "data": {
            "text/plain": [
              "[('\"', 12638),\n",
              " ('.\"', 1573),\n",
              " (\"'\", 1533),\n",
              " (',', 1500),\n",
              " ('.', 1383),\n",
              " ('LUKE', 495),\n",
              " ('HAN', 461),\n",
              " ('!\"', 430),\n",
              " ('!', 393),\n",
              " ('?\"', 365),\n",
              " ('THREEPIO', 302),\n",
              " ('LEIA', 227),\n",
              " ('...', 215),\n",
              " ('-', 175),\n",
              " ('?', 158),\n",
              " ('VADER', 140),\n",
              " ('Luke', 137),\n",
              " ('going', 118),\n",
              " ('BEN', 115),\n",
              " ('...\"', 106)]"
            ]
          },
          "execution_count": 159,
          "metadata": {},
          "output_type": "execute_result"
        }
      ],
      "source": [
        "from nltk.corpus import stopwords\n",
        "\n",
        "def remove_stopwords(frequency_list):\n",
        "    stop_words = set(stopwords.words(\"english\"))\n",
        "    filtered_tokens = [(token, count) for token,count in frequency_list if token.lower() not in stop_words]\n",
        "    return filtered_tokens\n",
        "new_frequency = remove_stopwords(frequency)\n",
        "new_frequency[:20]"
      ]
    },
    {
      "cell_type": "code",
      "execution_count": null,
      "metadata": {
        "colab": {
          "base_uri": "https://localhost:8080/"
        },
        "id": "hvnKMXEPKEMD",
        "outputId": "154e8ac2-7e05-4a62-af6f-f746c90df337"
      },
      "outputs": [
        {
          "data": {
            "text/plain": [
              "['i',\n",
              " 'me',\n",
              " 'my',\n",
              " 'myself',\n",
              " 'we',\n",
              " 'our',\n",
              " 'ours',\n",
              " 'ourselves',\n",
              " 'you',\n",
              " \"you're\",\n",
              " \"you've\",\n",
              " \"you'll\",\n",
              " \"you'd\",\n",
              " 'your',\n",
              " 'yours',\n",
              " 'yourself',\n",
              " 'yourselves',\n",
              " 'he',\n",
              " 'him',\n",
              " 'his',\n",
              " 'himself',\n",
              " 'she',\n",
              " \"she's\",\n",
              " 'her',\n",
              " 'hers',\n",
              " 'herself',\n",
              " 'it',\n",
              " \"it's\",\n",
              " 'its',\n",
              " 'itself',\n",
              " 'they',\n",
              " 'them',\n",
              " 'their',\n",
              " 'theirs',\n",
              " 'themselves',\n",
              " 'what',\n",
              " 'which',\n",
              " 'who',\n",
              " 'whom',\n",
              " 'this',\n",
              " 'that',\n",
              " \"that'll\",\n",
              " 'these',\n",
              " 'those',\n",
              " 'am',\n",
              " 'is',\n",
              " 'are',\n",
              " 'was',\n",
              " 'were',\n",
              " 'be',\n",
              " 'been',\n",
              " 'being',\n",
              " 'have',\n",
              " 'has',\n",
              " 'had',\n",
              " 'having',\n",
              " 'do',\n",
              " 'does',\n",
              " 'did',\n",
              " 'doing',\n",
              " 'a',\n",
              " 'an',\n",
              " 'the',\n",
              " 'and',\n",
              " 'but',\n",
              " 'if',\n",
              " 'or',\n",
              " 'because',\n",
              " 'as',\n",
              " 'until',\n",
              " 'while',\n",
              " 'of',\n",
              " 'at',\n",
              " 'by',\n",
              " 'for',\n",
              " 'with',\n",
              " 'about',\n",
              " 'against',\n",
              " 'between',\n",
              " 'into',\n",
              " 'through',\n",
              " 'during',\n",
              " 'before',\n",
              " 'after',\n",
              " 'above',\n",
              " 'below',\n",
              " 'to',\n",
              " 'from',\n",
              " 'up',\n",
              " 'down',\n",
              " 'in',\n",
              " 'out',\n",
              " 'on',\n",
              " 'off',\n",
              " 'over',\n",
              " 'under',\n",
              " 'again',\n",
              " 'further',\n",
              " 'then',\n",
              " 'once',\n",
              " 'here',\n",
              " 'there',\n",
              " 'when',\n",
              " 'where',\n",
              " 'why',\n",
              " 'how',\n",
              " 'all',\n",
              " 'any',\n",
              " 'both',\n",
              " 'each',\n",
              " 'few',\n",
              " 'more',\n",
              " 'most',\n",
              " 'other',\n",
              " 'some',\n",
              " 'such',\n",
              " 'no',\n",
              " 'nor',\n",
              " 'not',\n",
              " 'only',\n",
              " 'own',\n",
              " 'same',\n",
              " 'so',\n",
              " 'than',\n",
              " 'too',\n",
              " 'very',\n",
              " 's',\n",
              " 't',\n",
              " 'can',\n",
              " 'will',\n",
              " 'just',\n",
              " 'don',\n",
              " \"don't\",\n",
              " 'should',\n",
              " \"should've\",\n",
              " 'now',\n",
              " 'd',\n",
              " 'll',\n",
              " 'm',\n",
              " 'o',\n",
              " 're',\n",
              " 've',\n",
              " 'y',\n",
              " 'ain',\n",
              " 'aren',\n",
              " \"aren't\",\n",
              " 'couldn',\n",
              " \"couldn't\",\n",
              " 'didn',\n",
              " \"didn't\",\n",
              " 'doesn',\n",
              " \"doesn't\",\n",
              " 'hadn',\n",
              " \"hadn't\",\n",
              " 'hasn',\n",
              " \"hasn't\",\n",
              " 'haven',\n",
              " \"haven't\",\n",
              " 'isn',\n",
              " \"isn't\",\n",
              " 'ma',\n",
              " 'mightn',\n",
              " \"mightn't\",\n",
              " 'mustn',\n",
              " \"mustn't\",\n",
              " 'needn',\n",
              " \"needn't\",\n",
              " 'shan',\n",
              " \"shan't\",\n",
              " 'shouldn',\n",
              " \"shouldn't\",\n",
              " 'wasn',\n",
              " \"wasn't\",\n",
              " 'weren',\n",
              " \"weren't\",\n",
              " 'won',\n",
              " \"won't\",\n",
              " 'wouldn',\n",
              " \"wouldn't\"]"
            ]
          },
          "execution_count": 160,
          "metadata": {},
          "output_type": "execute_result"
        }
      ],
      "source": [
        "stopwords.words(\"english\")"
      ]
    },
    {
      "cell_type": "code",
      "execution_count": null,
      "metadata": {
        "colab": {
          "base_uri": "https://localhost:8080/"
        },
        "id": "xA6qzmhVJdU9",
        "outputId": "2edb8b21-b0c2-4d8e-fcbd-3e47861fc5e3"
      },
      "outputs": [
        {
          "data": {
            "text/plain": [
              "[('LUKE', 495),\n",
              " ('HAN', 461),\n",
              " ('THREEPIO', 302),\n",
              " ('LEIA', 227),\n",
              " ('VADER', 140),\n",
              " ('Luke', 137),\n",
              " ('going', 118),\n",
              " ('BEN', 115),\n",
              " ('know', 105),\n",
              " ('Oh', 104),\n",
              " ('right', 102),\n",
              " ('LANDO', 101),\n",
              " ('get', 100),\n",
              " ('Artoo', 85),\n",
              " ('us', 83),\n",
              " ('see', 78),\n",
              " ('got', 74),\n",
              " ('back', 72),\n",
              " ('one', 72),\n",
              " ('Well', 71)]"
            ]
          },
          "execution_count": 161,
          "metadata": {},
          "output_type": "execute_result"
        }
      ],
      "source": [
        "def clean_alphanumeric(frequency_list):\n",
        "   return  [(token, count) for token,count in frequency_list if token.isalnum()]\n",
        "new_frequency = clean_alphanumeric(new_frequency)\n",
        "new_frequency[:20]"
      ]
    },
    {
      "cell_type": "code",
      "execution_count": null,
      "metadata": {
        "colab": {
          "base_uri": "https://localhost:8080/",
          "height": 466
        },
        "id": "R_NYjgkmKeiU",
        "outputId": "3067040d-8404-4d33-c512-8f9a2355158c"
      },
      "outputs": [
        {
          "data": {
            "text/plain": [
              "<Axes: xlabel='position', ylabel='count'>"
            ]
          },
          "execution_count": 164,
          "metadata": {},
          "output_type": "execute_result"
        },
        {
          "data": {
            "image/png": "[encoded data removed]",
            "text/plain": [
              "<Figure size 640x480 with 1 Axes>"
            ]
          },
          "metadata": {},
          "output_type": "display_data"
        }
      ],
      "source": [
        "df = pd.DataFrame(new_frequency, columns =['token', 'count'])\n",
        "df[\"position\"]= df.apply((lambda x: x.name), axis=1)\n",
        "df.plot.scatter(x='position',y='count')"
      ]
    },
    {
      "cell_type": "code",
      "execution_count": null,
      "metadata": {
        "colab": {
          "base_uri": "https://localhost:8080/",
          "height": 330
        },
        "id": "3gVaeOn0Lty0",
        "outputId": "2a61691f-ac78-492f-8f8e-47cb3a13a962"
      },
      "outputs": [
        {
          "data": {
            "text/plain": [
              "<matplotlib.image.AxesImage at 0x7ff2e3360580>"
            ]
          },
          "execution_count": 179,
          "metadata": {},
          "output_type": "execute_result"
        },
        {
          "data": {
            "image/png": "[encoded data removed]",
            "text/plain": [
              "<Figure size 640x480 with 1 Axes>"
            ]
          },
          "metadata": {},
          "output_type": "display_data"
        }
      ],
      "source": [
        "from wordcloud import WordCloud\n",
        "import matplotlib.pyplot as mplot\n",
        "\n",
        "oc_cloud= WordCloud(background_color='white', max_words=300,\n",
        "                    max_font_size=40,random_state=1).generate(str(df))\n",
        "mplot.imshow(oc_cloud)"
      ]
    },
    {
      "cell_type": "code",
      "execution_count": null,
      "metadata": {
        "colab": {
          "base_uri": "https://localhost:8080/"
        },
        "id": "JJnwVsGI8XMC",
        "outputId": "95dc3d08-1c9a-4763-ddca-349dd707e731"
      },
      "outputs": [
        {
          "name": "stdout",
          "output_type": "stream",
          "text": [
            "Displaying 25 of 195 matches:\n",
            "not in the main computer .\" \" 12 \" \" VADER \" \" Where are those transmissions yo\n",
            " on a diplomatic mission .\" \" 14 \" \" VADER \" \" If this is a consular ship ... w\n",
            " where is the Ambassador ?\" \" 15 \" \" VADER \" \" Commander , tear this ship apart\n",
            " She ' ll be all right . Inform Lord Vader we have a prisoner .\" \" 18 \" \" THREE\n",
            " nothing ...\" \" 42 \" \" LEIA \" \" Lord Vader , I should have known . Only you cou\n",
            " attacked a diplomatic ...\" \" 43 \" \" VADER \" \" Don ' t play games with me , You\n",
            "ic mission to Alderaan ...\" \" 45 \" \" VADER \" \" You ' re a part of the Rebel All\n",
            " Rebellion in the senate .\" \" 47 \" \" VADER \" \" I have traced the Rebel spies to\n",
            "MMANDER \" \" you anything .\" \" 49 \" \" VADER \" \" Leave that to me . Send a distre\n",
            " !\" \" 50 \" \" SECOND OFFICER \" \" Lord Vader , the battle station plans are not a\n",
            "o life forms were aboard .\" \" 51 \" \" VADER \" \" She must have hidden the plans i\n",
            "\" \" BEN \" \" A young Jedi named Darth Vader , who was a pupil of mine until he t\n",
            ". Now the Jedi are all but extinct . Vader was seduced by the dark side of the \n",
            "weakness and exploit it .\" \" 287 \" \" VADER \" \" The plans you refer to will soon\n",
            "e . I suggest we use it !\" \" 289 \" \" VADER \" \" Don ' t be too proud of this tec\n",
            "s with your sorcerer ' s ways , Lord Vader . Your sad devotion to that ancient \n",
            "Rebel ' s hidden fort ...\" \" 291 \" \" VADER \" \" I find your lack of faith distur\n",
            " 292 \" \" TARKIN \" \" Enough of this ! Vader , release him !\" \" 293 \" \" VADER \" \"\n",
            "s ! Vader , release him !\" \" 293 \" \" VADER \" \" As you wish .\" \" 294 \" \" TARKIN \n",
            "\" This bickering is pointless . Lord Vader will provide us with the location of\n",
            " Aunt Beru ! Uncle Owen !\" \" 303 \" \" VADER \" \" And , now Your Highness , we wil\n",
            " \" Sorry about the mess .\" \" 377 \" \" VADER \" \" Her resistance to the mind probe\n",
            "tive form of persuasion .\" \" 380 \" \" VADER \" \" What do you mean ?\" \" 381 \" \" TA\n",
            "ld have expected to find you holding Vader ' s leash . I recognized your foul s\n",
            " \" \" TARKIN \" \" There . You see Lord Vader , she can be reasonable . Continue w\n"
          ]
        }
      ],
      "source": [
        "analyzer = nltk.Text(my_corpus.words())\n",
        "analyzer.concordance(\"vader\")"
      ]
    },
    {
      "cell_type": "code",
      "execution_count": null,
      "metadata": {
        "colab": {
          "base_uri": "https://localhost:8080/"
        },
        "id": "E3weLo0GEKVn",
        "outputId": "499af89f-0277-45e2-98b0-3ed1d5b2fa63"
      },
      "outputs": [
        {
          "name": "stdout",
          "output_type": "stream",
          "text": [
            "RED LEADER; Lord Vader; dark side; INTERCOM VOICE; Death Star; Master\n",
            "Luke; Sand People; battle station; GOLD LEADER; Wan Kenobi; Captain\n",
            "Solo; DEATH STAR; Rebel base; bounty hunter; Gold Leader; tractor\n",
            "beam; Millennium Falcon; Princess Leia; Uncle Owen; AUNT BERU\n"
          ]
        }
      ],
      "source": [
        "analyzer.collocations()"
      ]
    }
  ],
  "metadata": {
    "colab": {
      "provenance": []
    },
    "kernelspec": {
      "display_name": "Python 3",
      "name": "python3"
    },
    "language_info": {
      "codemirror_mode": {
        "name": "ipython",
        "version": 3
      },
      "file_extension": ".py",
      "mimetype": "text/x-python",
      "name": "python",
      "nbconvert_exporter": "python",
      "pygments_lexer": "ipython3",
      "version": "3.11.0"
    }
  },
  "nbformat": 4,
  "nbformat_minor": 0
}
