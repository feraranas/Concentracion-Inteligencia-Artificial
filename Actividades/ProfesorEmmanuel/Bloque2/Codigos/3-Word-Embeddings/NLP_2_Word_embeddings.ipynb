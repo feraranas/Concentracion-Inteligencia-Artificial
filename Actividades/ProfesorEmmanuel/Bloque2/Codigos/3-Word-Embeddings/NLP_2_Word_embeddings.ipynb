{
  "cells": [
    {
      "cell_type": "markdown",
      "metadata": {
        "id": "DwJeYJaC1-sU"
      },
      "source": [
        "### Corpus creation"
      ]
    },
    {
      "cell_type": "code",
      "execution_count": 2,
      "metadata": {
        "colab": {
          "base_uri": "https://localhost:8080/"
        },
        "id": "vTCJTRwmw_T0",
        "outputId": "65537c9e-6949-4568-e537-faa465b975c1"
      },
      "outputs": [
        {
          "name": "stderr",
          "output_type": "stream",
          "text": [
            "[nltk_data] Downloading package gutenberg to\n",
            "[nltk_data]     /Users/fernankiwi/nltk_data...\n",
            "[nltk_data]   Package gutenberg is already up-to-date!\n",
            "[nltk_data] Downloading package stopwords to\n",
            "[nltk_data]     /Users/fernankiwi/nltk_data...\n",
            "[nltk_data]   Package stopwords is already up-to-date!\n",
            "[nltk_data] Downloading package punkt to\n",
            "[nltk_data]     /Users/fernankiwi/nltk_data...\n",
            "[nltk_data]   Package punkt is already up-to-date!\n"
          ]
        }
      ],
      "source": [
        "import nltk\n",
        "nltk.download('gutenberg')\n",
        "nltk.download('stopwords')\n",
        "nltk.download('punkt')\n",
        "from nltk.corpus import gutenberg\n",
        "from string import punctuation\n",
        "import re\n",
        "import numpy as np\n"
      ]
    },
    {
      "cell_type": "code",
      "execution_count": 4,
      "metadata": {},
      "outputs": [
        {
          "name": "stdout",
          "output_type": "stream",
          "text": [
            "!\"#$%&'()*+,-./:;<=>?@[\\]^_`{|}~\n"
          ]
        }
      ],
      "source": [
        "a = punctuation\n",
        "print(a)"
      ]
    },
    {
      "cell_type": "code",
      "execution_count": 5,
      "metadata": {},
      "outputs": [],
      "source": [
        "wpt = nltk.WordPunctTokenizer()\n",
        "stop_words = nltk.corpus.stopwords.words('english')"
      ]
    },
    {
      "cell_type": "code",
      "execution_count": 6,
      "metadata": {},
      "outputs": [
        {
          "data": {
            "text/plain": [
              "WordPunctTokenizer(pattern='\\\\w+|[^\\\\w\\\\s]+', gaps=False, discard_empty=True, flags=re.UNICODE|re.MULTILINE|re.DOTALL)"
            ]
          },
          "execution_count": 6,
          "metadata": {},
          "output_type": "execute_result"
        }
      ],
      "source": [
        "wpt"
      ]
    },
    {
      "cell_type": "code",
      "execution_count": 7,
      "metadata": {},
      "outputs": [
        {
          "data": {
            "text/plain": [
              "['i', 'me', 'my', 'myself', 'we', 'our', 'ours', 'ourselves', 'you', \"you're\"]"
            ]
          },
          "execution_count": 7,
          "metadata": {},
          "output_type": "execute_result"
        }
      ],
      "source": [
        "stop_words[:10]"
      ]
    },
    {
      "cell_type": "code",
      "execution_count": 8,
      "metadata": {},
      "outputs": [],
      "source": [
        "def normalize_document(doc):\n",
        "    # lower case and remove special characters\\whitespaces\n",
        "    # re.I|re.A: are flags indicating that the pattern matching should be case-insensitive (re.I) \n",
        "    # and that the ^ and $ special characters should match the start and end of each line, (re.A).\n",
        "    doc = re.sub(r'[^a-zA-Z\\s]', '', doc, re.I|re.A)\n",
        "    doc = doc.lower()\n",
        "    doc = doc.strip()\n",
        "    # tokenize document\n",
        "    tokens = wpt.tokenize(doc)\n",
        "    # filter stopwords out of document\n",
        "    filtered_tokens = [token for token in tokens if token not in stop_words]\n",
        "    # re-create document from filtered tokens\n",
        "    doc = ' '.join(filtered_tokens)\n",
        "    return doc"
      ]
    },
    {
      "cell_type": "code",
      "execution_count": 9,
      "metadata": {},
      "outputs": [],
      "source": [
        "# np.vectorize is a NumPy function that creates a vectorized version of a Python function.\n",
        "# It takes a Python function (in this case, normalize_document) as an argument and returns \n",
        "# a new function that can operate element-wise on arrays or lists.\n",
        "normalize_corpus = np.vectorize(normalize_document)"
      ]
    },
    {
      "cell_type": "code",
      "execution_count": 10,
      "metadata": {},
      "outputs": [
        {
          "data": {
            "text/plain": [
              "<numpy.vectorize at 0x168327b10>"
            ]
          },
          "execution_count": 10,
          "metadata": {},
          "output_type": "execute_result"
        }
      ],
      "source": [
        "normalize_corpus"
      ]
    },
    {
      "cell_type": "code",
      "execution_count": 11,
      "metadata": {},
      "outputs": [],
      "source": [
        "bible = gutenberg.sents('bible-kjv.txt')\n",
        "remove_terms = punctuation + '0123456789'"
      ]
    },
    {
      "cell_type": "code",
      "execution_count": 12,
      "metadata": {},
      "outputs": [
        {
          "data": {
            "text/plain": [
              "[['[', 'The', 'King', 'James', 'Bible', ']'],\n",
              " ['The', 'Old', 'Testament', 'of', 'the', 'King', 'James', 'Bible'],\n",
              " ['The', 'First', 'Book', 'of', 'Moses', ':', 'Called', 'Genesis']]"
            ]
          },
          "execution_count": 12,
          "metadata": {},
          "output_type": "execute_result"
        }
      ],
      "source": [
        "bible[:3]"
      ]
    },
    {
      "cell_type": "code",
      "execution_count": 13,
      "metadata": {},
      "outputs": [
        {
          "data": {
            "text/plain": [
              "'!\"#$%&\\'()*+,-./:;<=>?@[\\\\]^_`{|}~0123456789'"
            ]
          },
          "execution_count": 13,
          "metadata": {},
          "output_type": "execute_result"
        }
      ],
      "source": [
        "remove_terms"
      ]
    },
    {
      "cell_type": "code",
      "execution_count": 14,
      "metadata": {},
      "outputs": [],
      "source": [
        "norm_bible = [[word.lower() for word in sent if word not in remove_terms] for sent in bible]\n",
        "norm_bible = [' '.join(tok_sent) for tok_sent in norm_bible]\n",
        "# Apply the normalize_corpus function to each document in the norm_bible dataset\n",
        "# and filtering out any elements that evaluate to False after normalization.\n",
        "norm_bible = filter(None, normalize_corpus(norm_bible))\n",
        "norm_bible = [tok_sent for tok_sent in norm_bible if len(tok_sent.split()) > 2]"
      ]
    },
    {
      "cell_type": "code",
      "execution_count": 15,
      "metadata": {},
      "outputs": [
        {
          "name": "stdout",
          "output_type": "stream",
          "text": [
            "Total lines: 30103\n",
            "\n",
            "Sample line: ['1', ':', '6', 'And', 'God', 'said', ',', 'Let', 'there', 'be', 'a', 'firmament', 'in', 'the', 'midst', 'of', 'the', 'waters', ',', 'and', 'let', 'it', 'divide', 'the', 'waters', 'from', 'the', 'waters', '.']\n",
            "\n",
            "Processed line: god said let firmament midst waters let divide waters waters\n"
          ]
        }
      ],
      "source": [
        "print('Total lines:', len(bible))\n",
        "print('\\nSample line:', bible[10])\n",
        "print('\\nProcessed line:', norm_bible[10])"
      ]
    },
    {
      "cell_type": "code",
      "execution_count": null,
      "metadata": {},
      "outputs": [],
      "source": []
    },
    {
      "cell_type": "markdown",
      "metadata": {
        "id": "Pd-sjUDhtEK0"
      },
      "source": [
        "### CBOW model 3 layer NN"
      ]
    },
    {
      "cell_type": "markdown",
      "metadata": {
        "id": "cjAIO3NhyjSU"
      },
      "source": [
        "First step is to generate a vocabulary for hot encode from corpus"
      ]
    },
    {
      "cell_type": "code",
      "execution_count": 16,
      "metadata": {
        "colab": {
          "base_uri": "https://localhost:8080/"
        },
        "id": "iToxHv9nwVsL",
        "outputId": "0c63974c-4d94-4316-8ca2-9cd87ed31d60"
      },
      "outputs": [
        {
          "name": "stdout",
          "output_type": "stream",
          "text": [
            "Vocabulary Size: 12425\n",
            "Vocabulary Sample: [('shall', 1), ('unto', 2), ('lord', 3), ('thou', 4), ('thy', 5), ('god', 6), ('ye', 7), ('said', 8), ('thee', 9), ('upon', 10)]\n"
          ]
        }
      ],
      "source": [
        "from keras.preprocessing import text\n",
        "from keras.preprocessing import sequence\n",
        "\n",
        "tokenizer = text.Tokenizer()\n",
        "tokenizer.fit_on_texts(norm_bible)\n",
        "word2id = tokenizer.word_index\n",
        "\n",
        "# build vocabulary of unique words\n",
        "word2id['PAD'] = 0\n",
        "id2word = {v:k for k, v in word2id.items()}\n",
        "wids = [[word2id[w] for w in text.text_to_word_sequence(doc)] for doc in norm_bible]\n",
        "\n",
        "vocab_size = len(word2id)\n",
        "embed_size = 100\n",
        "window_size = 2 # context window size\n",
        "\n",
        "print('Vocabulary Size:', vocab_size)\n",
        "print('Vocabulary Sample:', list(word2id.items())[:10])"
      ]
    },
    {
      "cell_type": "markdown",
      "metadata": {
        "id": "ZBESInIUy2Jk"
      },
      "source": [
        "Now, we must create our traing dataset for CBOW model, X features represent the context of the sentences and Y the targer or prediction, Note: because computing this corpus is high expensive (needs GPU and almost 2 hours training) I will limit the corpus consume"
      ]
    },
    {
      "cell_type": "code",
      "execution_count": null,
      "metadata": {
        "colab": {
          "base_uri": "https://localhost:8080/"
        },
        "id": "7c3pE99EwW0_",
        "outputId": "ab128de9-ee8f-47f1-a1e3-55a9510b1229"
      },
      "outputs": [
        {
          "name": "stdout",
          "output_type": "stream",
          "text": [
            "Context (X): ['old', 'testament', 'james', 'bible'] -> Target (Y): king\n",
            "Context (X): ['first', 'book', 'called', 'genesis'] -> Target (Y): moses\n",
            "Context (X): ['beginning', 'god', 'heaven', 'earth'] -> Target (Y): created\n",
            "Context (X): ['earth', 'without', 'void', 'darkness'] -> Target (Y): form\n",
            "Context (X): ['without', 'form', 'darkness', 'upon'] -> Target (Y): void\n",
            "Context (X): ['form', 'void', 'upon', 'face'] -> Target (Y): darkness\n",
            "Context (X): ['void', 'darkness', 'face', 'deep'] -> Target (Y): upon\n",
            "Context (X): ['spirit', 'god', 'upon', 'face'] -> Target (Y): moved\n",
            "Context (X): ['god', 'moved', 'face', 'waters'] -> Target (Y): upon\n",
            "Context (X): ['god', 'said', 'light', 'light'] -> Target (Y): let\n",
            "Context (X): ['god', 'saw', 'good', 'god'] -> Target (Y): light\n"
          ]
        }
      ],
      "source": [
        "from keras.utils import to_categorical\n",
        "\n",
        "def generate_context_word_pairs(corpus, window_size, vocab_size,corpus_size):\n",
        "    context_length = window_size*2\n",
        "    for words in corpus[:corpus_size]:\n",
        "        sentence_length = len(words)\n",
        "        for index, word in enumerate(words):\n",
        "            context_words = []\n",
        "            label_word   = []\n",
        "            start = index - window_size\n",
        "            end = index + window_size + 1\n",
        "\n",
        "            context_words.append([words[i]\n",
        "                                 for i in range(start, end)\n",
        "                                 if 0 <= i < sentence_length\n",
        "                                 and i != index])\n",
        "            label_word.append(word)\n",
        "\n",
        "            x = sequence.pad_sequences(context_words, maxlen=context_length)\n",
        "            y = to_categorical(label_word, vocab_size)\n",
        "            yield (x, y)\n",
        "\n",
        "\n",
        "# Test this out for some samples\n",
        "i = 0\n",
        "for x, y in generate_context_word_pairs(corpus=wids, window_size=window_size, vocab_size=vocab_size,corpus_size=12000):\n",
        "    if 0 not in x[0]:\n",
        "        print('Context (X):', [id2word[w] for w in x[0]], '-> Target (Y):', id2word[np.argwhere(y[0])[0][0]])\n",
        "\n",
        "        if i == 10:\n",
        "            break\n",
        "        i += 1"
      ]
    },
    {
      "cell_type": "markdown",
      "metadata": {
        "id": "gKhbym6kzGJy"
      },
      "source": [
        "Now, lets create our 3 Layer model for prediction and start training"
      ]
    },
    {
      "cell_type": "code",
      "execution_count": null,
      "metadata": {
        "colab": {
          "base_uri": "https://localhost:8080/",
          "height": 839
        },
        "id": "X-Iupq3nzJ1t",
        "outputId": "ef64b36c-9ccc-4781-d0ae-15e75b7256d9"
      },
      "outputs": [
        {
          "name": "stdout",
          "output_type": "stream",
          "text": [
            "Model: \"sequential\"\n",
            "_________________________________________________________________\n",
            " Layer (type)                Output Shape              Param #   \n",
            "=================================================================\n",
            " embedding (Embedding)       (None, 4, 100)            1242500   \n",
            "                                                                 \n",
            " lambda (Lambda)             (None, 100)               0         \n",
            "                                                                 \n",
            " dense (Dense)               (None, 12425)             1254925   \n",
            "                                                                 \n",
            "=================================================================\n",
            "Total params: 2497425 (9.53 MB)\n",
            "Trainable params: 2497425 (9.53 MB)\n",
            "Non-trainable params: 0 (0.00 Byte)\n",
            "_________________________________________________________________\n",
            "None\n"
          ]
        },
        {
          "data": {
            "image/svg+xml": [
              "<svg xmlns=\"http://www.w3.org/2000/svg\" xmlns:xlink=\"http://www.w3.org/1999/xlink\" width=\"320pt\" height=\"405pt\" viewBox=\"0.00 0.00 240.00 304.00\">\n",
              "<g id=\"graph0\" class=\"graph\" transform=\"scale(0.75 0.75) rotate(0) translate(4 300)\">\n",
              "<title>G</title>\n",
              "<polygon fill=\"white\" stroke=\"transparent\" points=\"-4,4 -4,-300 236,-300 236,4 -4,4\"/>\n",
              "<!-- 140343588162192 -->\n",
              "<g id=\"node1\" class=\"node\">\n",
              "<title>140343588162192</title>\n",
              "<polygon fill=\"none\" stroke=\"black\" points=\"11,-249.5 11,-295.5 221,-295.5 221,-249.5 11,-249.5\"/>\n",
              "<text text-anchor=\"middle\" x=\"49.5\" y=\"-268.8\" font-family=\"Times,serif\" font-size=\"14.00\">InputLayer</text>\n",
              "<polyline fill=\"none\" stroke=\"black\" points=\"88,-249.5 88,-295.5 \"/>\n",
              "<text text-anchor=\"middle\" x=\"115.5\" y=\"-280.3\" font-family=\"Times,serif\" font-size=\"14.00\">input:</text>\n",
              "<polyline fill=\"none\" stroke=\"black\" points=\"88,-272.5 143,-272.5 \"/>\n",
              "<text text-anchor=\"middle\" x=\"115.5\" y=\"-257.3\" font-family=\"Times,serif\" font-size=\"14.00\">output:</text>\n",
              "<polyline fill=\"none\" stroke=\"black\" points=\"143,-249.5 143,-295.5 \"/>\n",
              "<text text-anchor=\"middle\" x=\"182\" y=\"-280.3\" font-family=\"Times,serif\" font-size=\"14.00\">[(None, 4)]</text>\n",
              "<polyline fill=\"none\" stroke=\"black\" points=\"143,-272.5 221,-272.5 \"/>\n",
              "<text text-anchor=\"middle\" x=\"182\" y=\"-257.3\" font-family=\"Times,serif\" font-size=\"14.00\">[(None, 4)]</text>\n",
              "</g>\n",
              "<!-- 140341242746608 -->\n",
              "<g id=\"node2\" class=\"node\">\n",
              "<title>140341242746608</title>\n",
              "<polygon fill=\"none\" stroke=\"black\" points=\"0,-166.5 0,-212.5 232,-212.5 232,-166.5 0,-166.5\"/>\n",
              "<text text-anchor=\"middle\" x=\"40\" y=\"-185.8\" font-family=\"Times,serif\" font-size=\"14.00\">Embedding</text>\n",
              "<polyline fill=\"none\" stroke=\"black\" points=\"80,-166.5 80,-212.5 \"/>\n",
              "<text text-anchor=\"middle\" x=\"107.5\" y=\"-197.3\" font-family=\"Times,serif\" font-size=\"14.00\">input:</text>\n",
              "<polyline fill=\"none\" stroke=\"black\" points=\"80,-189.5 135,-189.5 \"/>\n",
              "<text text-anchor=\"middle\" x=\"107.5\" y=\"-174.3\" font-family=\"Times,serif\" font-size=\"14.00\">output:</text>\n",
              "<polyline fill=\"none\" stroke=\"black\" points=\"135,-166.5 135,-212.5 \"/>\n",
              "<text text-anchor=\"middle\" x=\"183.5\" y=\"-197.3\" font-family=\"Times,serif\" font-size=\"14.00\">(None, 4)</text>\n",
              "<polyline fill=\"none\" stroke=\"black\" points=\"135,-189.5 232,-189.5 \"/>\n",
              "<text text-anchor=\"middle\" x=\"183.5\" y=\"-174.3\" font-family=\"Times,serif\" font-size=\"14.00\">(None, 4, 100)</text>\n",
              "</g>\n",
              "<!-- 140343588162192&#45;&gt;140341242746608 -->\n",
              "<g id=\"edge1\" class=\"edge\">\n",
              "<title>140343588162192-&gt;140341242746608</title>\n",
              "<path fill=\"none\" stroke=\"black\" d=\"M116,-249.37C116,-241.15 116,-231.66 116,-222.73\"/>\n",
              "<polygon fill=\"black\" stroke=\"black\" points=\"119.5,-222.61 116,-212.61 112.5,-222.61 119.5,-222.61\"/>\n",
              "</g>\n",
              "<!-- 140341242750160 -->\n",
              "<g id=\"node3\" class=\"node\">\n",
              "<title>140341242750160</title>\n",
              "<polygon fill=\"none\" stroke=\"black\" points=\"9,-83.5 9,-129.5 223,-129.5 223,-83.5 9,-83.5\"/>\n",
              "<text text-anchor=\"middle\" x=\"40\" y=\"-102.8\" font-family=\"Times,serif\" font-size=\"14.00\">Lambda</text>\n",
              "<polyline fill=\"none\" stroke=\"black\" points=\"71,-83.5 71,-129.5 \"/>\n",
              "<text text-anchor=\"middle\" x=\"98.5\" y=\"-114.3\" font-family=\"Times,serif\" font-size=\"14.00\">input:</text>\n",
              "<polyline fill=\"none\" stroke=\"black\" points=\"71,-106.5 126,-106.5 \"/>\n",
              "<text text-anchor=\"middle\" x=\"98.5\" y=\"-91.3\" font-family=\"Times,serif\" font-size=\"14.00\">output:</text>\n",
              "<polyline fill=\"none\" stroke=\"black\" points=\"126,-83.5 126,-129.5 \"/>\n",
              "<text text-anchor=\"middle\" x=\"174.5\" y=\"-114.3\" font-family=\"Times,serif\" font-size=\"14.00\">(None, 4, 100)</text>\n",
              "<polyline fill=\"none\" stroke=\"black\" points=\"126,-106.5 223,-106.5 \"/>\n",
              "<text text-anchor=\"middle\" x=\"174.5\" y=\"-91.3\" font-family=\"Times,serif\" font-size=\"14.00\">(None, 100)</text>\n",
              "</g>\n",
              "<!-- 140341242746608&#45;&gt;140341242750160 -->\n",
              "<g id=\"edge2\" class=\"edge\">\n",
              "<title>140341242746608-&gt;140341242750160</title>\n",
              "<path fill=\"none\" stroke=\"black\" d=\"M116,-166.37C116,-158.15 116,-148.66 116,-139.73\"/>\n",
              "<polygon fill=\"black\" stroke=\"black\" points=\"119.5,-139.61 116,-129.61 112.5,-139.61 119.5,-139.61\"/>\n",
              "</g>\n",
              "<!-- 140341242752848 -->\n",
              "<g id=\"node4\" class=\"node\">\n",
              "<title>140341242752848</title>\n",
              "<polygon fill=\"none\" stroke=\"black\" points=\"15.5,-0.5 15.5,-46.5 216.5,-46.5 216.5,-0.5 15.5,-0.5\"/>\n",
              "<text text-anchor=\"middle\" x=\"40.5\" y=\"-19.8\" font-family=\"Times,serif\" font-size=\"14.00\">Dense</text>\n",
              "<polyline fill=\"none\" stroke=\"black\" points=\"65.5,-0.5 65.5,-46.5 \"/>\n",
              "<text text-anchor=\"middle\" x=\"93\" y=\"-31.3\" font-family=\"Times,serif\" font-size=\"14.00\">input:</text>\n",
              "<polyline fill=\"none\" stroke=\"black\" points=\"65.5,-23.5 120.5,-23.5 \"/>\n",
              "<text text-anchor=\"middle\" x=\"93\" y=\"-8.3\" font-family=\"Times,serif\" font-size=\"14.00\">output:</text>\n",
              "<polyline fill=\"none\" stroke=\"black\" points=\"120.5,-0.5 120.5,-46.5 \"/>\n",
              "<text text-anchor=\"middle\" x=\"168.5\" y=\"-31.3\" font-family=\"Times,serif\" font-size=\"14.00\">(None, 100)</text>\n",
              "<polyline fill=\"none\" stroke=\"black\" points=\"120.5,-23.5 216.5,-23.5 \"/>\n",
              "<text text-anchor=\"middle\" x=\"168.5\" y=\"-8.3\" font-family=\"Times,serif\" font-size=\"14.00\">(None, 12425)</text>\n",
              "</g>\n",
              "<!-- 140341242750160&#45;&gt;140341242752848 -->\n",
              "<g id=\"edge3\" class=\"edge\">\n",
              "<title>140341242750160-&gt;140341242752848</title>\n",
              "<path fill=\"none\" stroke=\"black\" d=\"M116,-83.37C116,-75.15 116,-65.66 116,-56.73\"/>\n",
              "<polygon fill=\"black\" stroke=\"black\" points=\"119.5,-56.61 116,-46.61 112.5,-56.61 119.5,-56.61\"/>\n",
              "</g>\n",
              "</g>\n",
              "</svg>"
            ],
            "text/plain": [
              "<IPython.core.display.SVG object>"
            ]
          },
          "execution_count": 5,
          "metadata": {},
          "output_type": "execute_result"
        }
      ],
      "source": [
        "import keras.backend as K\n",
        "from keras.models import Sequential\n",
        "from keras.layers import Dense, Embedding, Lambda\n",
        "\n",
        "# build CBOW architecture\n",
        "cbow = Sequential()\n",
        "cbow.add(Embedding(input_dim=vocab_size, output_dim=embed_size, input_length=window_size*2))\n",
        "cbow.add(Lambda(lambda x: K.mean(x, axis=1), output_shape=(embed_size,)))\n",
        "cbow.add(Dense(vocab_size, activation='softmax'))\n",
        "cbow.compile(loss='categorical_crossentropy', optimizer='rmsprop')\n",
        "\n",
        "# view model summary\n",
        "print(cbow.summary())\n",
        "\n",
        "# visualize model structure\n",
        "from IPython.display import SVG\n",
        "from keras.utils import model_to_dot\n",
        "\n",
        "SVG(model_to_dot(cbow, show_shapes=True, show_layer_names=False,\n",
        "                 rankdir='TB').create(prog='dot', format='svg'))"
      ]
    },
    {
      "cell_type": "code",
      "execution_count": null,
      "metadata": {
        "colab": {
          "base_uri": "https://localhost:8080/"
        },
        "id": "DSTwtXHKz3ek",
        "outputId": "7f705596-ae38-41cb-b593-dee6377aad31"
      },
      "outputs": [
        {
          "name": "stdout",
          "output_type": "stream",
          "text": [
            "Processed 1000 (context, word) pairs\n",
            "Processed 2000 (context, word) pairs\n",
            "Processed 3000 (context, word) pairs\n",
            "Processed 4000 (context, word) pairs\n",
            "Processed 5000 (context, word) pairs\n",
            "Processed 6000 (context, word) pairs\n",
            "Processed 7000 (context, word) pairs\n",
            "Processed 8000 (context, word) pairs\n",
            "Processed 9000 (context, word) pairs\n",
            "Processed 10000 (context, word) pairs\n",
            "Processed 11000 (context, word) pairs\n",
            "Processed 12000 (context, word) pairs\n",
            "Epoch: 1 \tLoss: 103413.75121499039\n",
            "Processed 1000 (context, word) pairs\n",
            "Processed 2000 (context, word) pairs\n",
            "Processed 3000 (context, word) pairs\n",
            "Processed 4000 (context, word) pairs\n",
            "Processed 5000 (context, word) pairs\n",
            "Processed 6000 (context, word) pairs\n",
            "Processed 7000 (context, word) pairs\n",
            "Processed 8000 (context, word) pairs\n",
            "Processed 9000 (context, word) pairs\n",
            "Processed 10000 (context, word) pairs\n",
            "Processed 11000 (context, word) pairs\n",
            "Processed 12000 (context, word) pairs\n",
            "Epoch: 2 \tLoss: 101892.24747592397\n",
            "Processed 1000 (context, word) pairs\n",
            "Processed 2000 (context, word) pairs\n",
            "Processed 3000 (context, word) pairs\n",
            "Processed 4000 (context, word) pairs\n",
            "Processed 5000 (context, word) pairs\n",
            "Processed 6000 (context, word) pairs\n",
            "Processed 7000 (context, word) pairs\n",
            "Processed 8000 (context, word) pairs\n",
            "Processed 9000 (context, word) pairs\n",
            "Processed 10000 (context, word) pairs\n",
            "Processed 11000 (context, word) pairs\n",
            "Processed 12000 (context, word) pairs\n",
            "Epoch: 3 \tLoss: 100987.01195798256\n"
          ]
        }
      ],
      "source": [
        "for epoch in range(1, 4):\n",
        "    loss = 0.\n",
        "    i = 0\n",
        "    for x, y in generate_context_word_pairs(corpus=wids, window_size=window_size, vocab_size=vocab_size,corpus_size=1000):\n",
        "        i += 1\n",
        "        loss += cbow.train_on_batch(x, y)\n",
        "        if i % 1000 == 0:\n",
        "            print('Processed {} (context, word) pairs'.format(i))\n",
        "\n",
        "    print('Epoch:', epoch, '\\tLoss:', loss)"
      ]
    },
    {
      "cell_type": "markdown",
      "metadata": {
        "id": "2cYdRDaOHsNs"
      },
      "source": [
        "Lets find out out embeddings vectors"
      ]
    },
    {
      "cell_type": "code",
      "execution_count": null,
      "metadata": {
        "colab": {
          "base_uri": "https://localhost:8080/",
          "height": 253
        },
        "id": "bMQfq0yd1Lw-",
        "outputId": "2d39c8b4-c054-4ac5-c548-e337851dac9f"
      },
      "outputs": [
        {
          "name": "stdout",
          "output_type": "stream",
          "text": [
            "(12424, 100)\n"
          ]
        },
        {
          "data": {
            "text/html": [
              "\n",
              "  <div id=\"df-39e32646-ff72-4530-a380-c8e2c3a2bf96\" class=\"colab-df-container\">\n",
              "    <div>\n",
              "<style scoped>\n",
              "    .dataframe tbody tr th:only-of-type {\n",
              "        vertical-align: middle;\n",
              "    }\n",
              "\n",
              "    .dataframe tbody tr th {\n",
              "        vertical-align: top;\n",
              "    }\n",
              "\n",
              "    .dataframe thead th {\n",
              "        text-align: right;\n",
              "    }\n",
              "</style>\n",
              "<table border=\"1\" class=\"dataframe\">\n",
              "  <thead>\n",
              "    <tr style=\"text-align: right;\">\n",
              "      <th></th>\n",
              "      <th>0</th>\n",
              "      <th>1</th>\n",
              "      <th>2</th>\n",
              "      <th>3</th>\n",
              "      <th>4</th>\n",
              "      <th>5</th>\n",
              "      <th>6</th>\n",
              "      <th>7</th>\n",
              "      <th>8</th>\n",
              "      <th>9</th>\n",
              "      <th>...</th>\n",
              "      <th>90</th>\n",
              "      <th>91</th>\n",
              "      <th>92</th>\n",
              "      <th>93</th>\n",
              "      <th>94</th>\n",
              "      <th>95</th>\n",
              "      <th>96</th>\n",
              "      <th>97</th>\n",
              "      <th>98</th>\n",
              "      <th>99</th>\n",
              "    </tr>\n",
              "  </thead>\n",
              "  <tbody>\n",
              "    <tr>\n",
              "      <th>unto</th>\n",
              "      <td>-0.078823</td>\n",
              "      <td>-1.936725</td>\n",
              "      <td>-0.911094</td>\n",
              "      <td>0.150300</td>\n",
              "      <td>-1.127869</td>\n",
              "      <td>0.167821</td>\n",
              "      <td>-0.063582</td>\n",
              "      <td>-0.209456</td>\n",
              "      <td>-0.814784</td>\n",
              "      <td>-0.199894</td>\n",
              "      <td>...</td>\n",
              "      <td>-0.465335</td>\n",
              "      <td>-0.675688</td>\n",
              "      <td>-0.803697</td>\n",
              "      <td>-0.796188</td>\n",
              "      <td>-0.337746</td>\n",
              "      <td>-0.180304</td>\n",
              "      <td>0.724837</td>\n",
              "      <td>0.520966</td>\n",
              "      <td>0.164926</td>\n",
              "      <td>2.114064</td>\n",
              "    </tr>\n",
              "    <tr>\n",
              "      <th>lord</th>\n",
              "      <td>-0.493733</td>\n",
              "      <td>-4.316750</td>\n",
              "      <td>0.423517</td>\n",
              "      <td>-0.001842</td>\n",
              "      <td>-3.292756</td>\n",
              "      <td>-0.313364</td>\n",
              "      <td>0.986502</td>\n",
              "      <td>0.508764</td>\n",
              "      <td>-1.656482</td>\n",
              "      <td>1.421112</td>\n",
              "      <td>...</td>\n",
              "      <td>0.532534</td>\n",
              "      <td>-1.002122</td>\n",
              "      <td>-0.689739</td>\n",
              "      <td>-0.181971</td>\n",
              "      <td>0.131372</td>\n",
              "      <td>0.667447</td>\n",
              "      <td>0.202572</td>\n",
              "      <td>0.408737</td>\n",
              "      <td>0.507488</td>\n",
              "      <td>3.707379</td>\n",
              "    </tr>\n",
              "    <tr>\n",
              "      <th>thou</th>\n",
              "      <td>-0.034997</td>\n",
              "      <td>-1.807771</td>\n",
              "      <td>0.319117</td>\n",
              "      <td>-0.582285</td>\n",
              "      <td>-1.160614</td>\n",
              "      <td>0.218042</td>\n",
              "      <td>0.363625</td>\n",
              "      <td>0.171865</td>\n",
              "      <td>-1.012269</td>\n",
              "      <td>0.822735</td>\n",
              "      <td>...</td>\n",
              "      <td>0.357490</td>\n",
              "      <td>-0.771305</td>\n",
              "      <td>-0.553631</td>\n",
              "      <td>0.176274</td>\n",
              "      <td>-0.051367</td>\n",
              "      <td>0.424594</td>\n",
              "      <td>0.187359</td>\n",
              "      <td>0.341353</td>\n",
              "      <td>0.433901</td>\n",
              "      <td>1.619914</td>\n",
              "    </tr>\n",
              "    <tr>\n",
              "      <th>thy</th>\n",
              "      <td>-0.262120</td>\n",
              "      <td>-2.382391</td>\n",
              "      <td>0.823473</td>\n",
              "      <td>1.784971</td>\n",
              "      <td>-1.773342</td>\n",
              "      <td>-1.330658</td>\n",
              "      <td>-0.146427</td>\n",
              "      <td>-0.499931</td>\n",
              "      <td>-0.969622</td>\n",
              "      <td>0.169681</td>\n",
              "      <td>...</td>\n",
              "      <td>-0.251314</td>\n",
              "      <td>-0.773625</td>\n",
              "      <td>-0.948643</td>\n",
              "      <td>-0.541344</td>\n",
              "      <td>-0.441159</td>\n",
              "      <td>-1.201772</td>\n",
              "      <td>0.541223</td>\n",
              "      <td>0.956601</td>\n",
              "      <td>-0.222844</td>\n",
              "      <td>1.946750</td>\n",
              "    </tr>\n",
              "    <tr>\n",
              "      <th>god</th>\n",
              "      <td>-0.466611</td>\n",
              "      <td>-2.419438</td>\n",
              "      <td>0.311234</td>\n",
              "      <td>0.422515</td>\n",
              "      <td>-1.490485</td>\n",
              "      <td>-0.331374</td>\n",
              "      <td>-0.156032</td>\n",
              "      <td>-0.003239</td>\n",
              "      <td>-0.882634</td>\n",
              "      <td>0.386995</td>\n",
              "      <td>...</td>\n",
              "      <td>-0.156325</td>\n",
              "      <td>-0.477876</td>\n",
              "      <td>-0.791342</td>\n",
              "      <td>-0.343604</td>\n",
              "      <td>-0.190243</td>\n",
              "      <td>-0.482595</td>\n",
              "      <td>0.181577</td>\n",
              "      <td>0.475327</td>\n",
              "      <td>0.630946</td>\n",
              "      <td>2.228725</td>\n",
              "    </tr>\n",
              "  </tbody>\n",
              "</table>\n",
              "<p>5 rows × 100 columns</p>\n",
              "</div>\n",
              "    <div class=\"colab-df-buttons\">\n",
              "\n",
              "  <div class=\"colab-df-container\">\n",
              "    <button class=\"colab-df-convert\" onclick=\"convertToInteractive('df-39e32646-ff72-4530-a380-c8e2c3a2bf96')\"\n",
              "            title=\"Convert this dataframe to an interactive table.\"\n",
              "            style=\"display:none;\">\n",
              "\n",
              "  <svg xmlns=\"http://www.w3.org/2000/svg\" height=\"24px\" viewBox=\"0 -960 960 960\">\n",
              "    <path d=\"M120-120v-720h720v720H120Zm60-500h600v-160H180v160Zm220 220h160v-160H400v160Zm0 220h160v-160H400v160ZM180-400h160v-160H180v160Zm440 0h160v-160H620v160ZM180-180h160v-160H180v160Zm440 0h160v-160H620v160Z\"/>\n",
              "  </svg>\n",
              "    </button>\n",
              "\n",
              "  <style>\n",
              "    .colab-df-container {\n",
              "      display:flex;\n",
              "      gap: 12px;\n",
              "    }\n",
              "\n",
              "    .colab-df-convert {\n",
              "      background-color: #E8F0FE;\n",
              "      border: none;\n",
              "      border-radius: 50%;\n",
              "      cursor: pointer;\n",
              "      display: none;\n",
              "      fill: #1967D2;\n",
              "      height: 32px;\n",
              "      padding: 0 0 0 0;\n",
              "      width: 32px;\n",
              "    }\n",
              "\n",
              "    .colab-df-convert:hover {\n",
              "      background-color: #E2EBFA;\n",
              "      box-shadow: 0px 1px 2px rgba(60, 64, 67, 0.3), 0px 1px 3px 1px rgba(60, 64, 67, 0.15);\n",
              "      fill: #174EA6;\n",
              "    }\n",
              "\n",
              "    .colab-df-buttons div {\n",
              "      margin-bottom: 4px;\n",
              "    }\n",
              "\n",
              "    [theme=dark] .colab-df-convert {\n",
              "      background-color: #3B4455;\n",
              "      fill: #D2E3FC;\n",
              "    }\n",
              "\n",
              "    [theme=dark] .colab-df-convert:hover {\n",
              "      background-color: #434B5C;\n",
              "      box-shadow: 0px 1px 3px 1px rgba(0, 0, 0, 0.15);\n",
              "      filter: drop-shadow(0px 1px 2px rgba(0, 0, 0, 0.3));\n",
              "      fill: #FFFFFF;\n",
              "    }\n",
              "  </style>\n",
              "\n",
              "    <script>\n",
              "      const buttonEl =\n",
              "        document.querySelector('#df-39e32646-ff72-4530-a380-c8e2c3a2bf96 button.colab-df-convert');\n",
              "      buttonEl.style.display =\n",
              "        google.colab.kernel.accessAllowed ? 'block' : 'none';\n",
              "\n",
              "      async function convertToInteractive(key) {\n",
              "        const element = document.querySelector('#df-39e32646-ff72-4530-a380-c8e2c3a2bf96');\n",
              "        const dataTable =\n",
              "          await google.colab.kernel.invokeFunction('convertToInteractive',\n",
              "                                                    [key], {});\n",
              "        if (!dataTable) return;\n",
              "\n",
              "        const docLinkHtml = 'Like what you see? Visit the ' +\n",
              "          '<a target=\"_blank\" href=https://colab.research.google.com/notebooks/data_table.ipynb>data table notebook</a>'\n",
              "          + ' to learn more about interactive tables.';\n",
              "        element.innerHTML = '';\n",
              "        dataTable['output_type'] = 'display_data';\n",
              "        await google.colab.output.renderOutput(dataTable, element);\n",
              "        const docLink = document.createElement('div');\n",
              "        docLink.innerHTML = docLinkHtml;\n",
              "        element.appendChild(docLink);\n",
              "      }\n",
              "    </script>\n",
              "  </div>\n",
              "\n",
              "\n",
              "<div id=\"df-8a091b2c-25ed-477b-9aa4-aaa601f7516b\">\n",
              "  <button class=\"colab-df-quickchart\" onclick=\"quickchart('df-8a091b2c-25ed-477b-9aa4-aaa601f7516b')\"\n",
              "            title=\"Suggest charts.\"\n",
              "            style=\"display:none;\">\n",
              "\n",
              "<svg xmlns=\"http://www.w3.org/2000/svg\" height=\"24px\"viewBox=\"0 0 24 24\"\n",
              "     width=\"24px\">\n",
              "    <g>\n",
              "        <path d=\"M19 3H5c-1.1 0-2 .9-2 2v14c0 1.1.9 2 2 2h14c1.1 0 2-.9 2-2V5c0-1.1-.9-2-2-2zM9 17H7v-7h2v7zm4 0h-2V7h2v10zm4 0h-2v-4h2v4z\"/>\n",
              "    </g>\n",
              "</svg>\n",
              "  </button>\n",
              "\n",
              "<style>\n",
              "  .colab-df-quickchart {\n",
              "      --bg-color: #E8F0FE;\n",
              "      --fill-color: #1967D2;\n",
              "      --hover-bg-color: #E2EBFA;\n",
              "      --hover-fill-color: #174EA6;\n",
              "      --disabled-fill-color: #AAA;\n",
              "      --disabled-bg-color: #DDD;\n",
              "  }\n",
              "\n",
              "  [theme=dark] .colab-df-quickchart {\n",
              "      --bg-color: #3B4455;\n",
              "      --fill-color: #D2E3FC;\n",
              "      --hover-bg-color: #434B5C;\n",
              "      --hover-fill-color: #FFFFFF;\n",
              "      --disabled-bg-color: #3B4455;\n",
              "      --disabled-fill-color: #666;\n",
              "  }\n",
              "\n",
              "  .colab-df-quickchart {\n",
              "    background-color: var(--bg-color);\n",
              "    border: none;\n",
              "    border-radius: 50%;\n",
              "    cursor: pointer;\n",
              "    display: none;\n",
              "    fill: var(--fill-color);\n",
              "    height: 32px;\n",
              "    padding: 0;\n",
              "    width: 32px;\n",
              "  }\n",
              "\n",
              "  .colab-df-quickchart:hover {\n",
              "    background-color: var(--hover-bg-color);\n",
              "    box-shadow: 0 1px 2px rgba(60, 64, 67, 0.3), 0 1px 3px 1px rgba(60, 64, 67, 0.15);\n",
              "    fill: var(--button-hover-fill-color);\n",
              "  }\n",
              "\n",
              "  .colab-df-quickchart-complete:disabled,\n",
              "  .colab-df-quickchart-complete:disabled:hover {\n",
              "    background-color: var(--disabled-bg-color);\n",
              "    fill: var(--disabled-fill-color);\n",
              "    box-shadow: none;\n",
              "  }\n",
              "\n",
              "  .colab-df-spinner {\n",
              "    border: 2px solid var(--fill-color);\n",
              "    border-color: transparent;\n",
              "    border-bottom-color: var(--fill-color);\n",
              "    animation:\n",
              "      spin 1s steps(1) infinite;\n",
              "  }\n",
              "\n",
              "  @keyframes spin {\n",
              "    0% {\n",
              "      border-color: transparent;\n",
              "      border-bottom-color: var(--fill-color);\n",
              "      border-left-color: var(--fill-color);\n",
              "    }\n",
              "    20% {\n",
              "      border-color: transparent;\n",
              "      border-left-color: var(--fill-color);\n",
              "      border-top-color: var(--fill-color);\n",
              "    }\n",
              "    30% {\n",
              "      border-color: transparent;\n",
              "      border-left-color: var(--fill-color);\n",
              "      border-top-color: var(--fill-color);\n",
              "      border-right-color: var(--fill-color);\n",
              "    }\n",
              "    40% {\n",
              "      border-color: transparent;\n",
              "      border-right-color: var(--fill-color);\n",
              "      border-top-color: var(--fill-color);\n",
              "    }\n",
              "    60% {\n",
              "      border-color: transparent;\n",
              "      border-right-color: var(--fill-color);\n",
              "    }\n",
              "    80% {\n",
              "      border-color: transparent;\n",
              "      border-right-color: var(--fill-color);\n",
              "      border-bottom-color: var(--fill-color);\n",
              "    }\n",
              "    90% {\n",
              "      border-color: transparent;\n",
              "      border-bottom-color: var(--fill-color);\n",
              "    }\n",
              "  }\n",
              "</style>\n",
              "\n",
              "  <script>\n",
              "    async function quickchart(key) {\n",
              "      const quickchartButtonEl =\n",
              "        document.querySelector('#' + key + ' button');\n",
              "      quickchartButtonEl.disabled = true;  // To prevent multiple clicks.\n",
              "      quickchartButtonEl.classList.add('colab-df-spinner');\n",
              "      try {\n",
              "        const charts = await google.colab.kernel.invokeFunction(\n",
              "            'suggestCharts', [key], {});\n",
              "      } catch (error) {\n",
              "        console.error('Error during call to suggestCharts:', error);\n",
              "      }\n",
              "      quickchartButtonEl.classList.remove('colab-df-spinner');\n",
              "      quickchartButtonEl.classList.add('colab-df-quickchart-complete');\n",
              "    }\n",
              "    (() => {\n",
              "      let quickchartButtonEl =\n",
              "        document.querySelector('#df-8a091b2c-25ed-477b-9aa4-aaa601f7516b button');\n",
              "      quickchartButtonEl.style.display =\n",
              "        google.colab.kernel.accessAllowed ? 'block' : 'none';\n",
              "    })();\n",
              "  </script>\n",
              "</div>\n",
              "    </div>\n",
              "  </div>\n"
            ],
            "text/plain": [
              "            0         1         2         3         4         5         6   \\\n",
              "unto -0.078823 -1.936725 -0.911094  0.150300 -1.127869  0.167821 -0.063582   \n",
              "lord -0.493733 -4.316750  0.423517 -0.001842 -3.292756 -0.313364  0.986502   \n",
              "thou -0.034997 -1.807771  0.319117 -0.582285 -1.160614  0.218042  0.363625   \n",
              "thy  -0.262120 -2.382391  0.823473  1.784971 -1.773342 -1.330658 -0.146427   \n",
              "god  -0.466611 -2.419438  0.311234  0.422515 -1.490485 -0.331374 -0.156032   \n",
              "\n",
              "            7         8         9   ...        90        91        92  \\\n",
              "unto -0.209456 -0.814784 -0.199894  ... -0.465335 -0.675688 -0.803697   \n",
              "lord  0.508764 -1.656482  1.421112  ...  0.532534 -1.002122 -0.689739   \n",
              "thou  0.171865 -1.012269  0.822735  ...  0.357490 -0.771305 -0.553631   \n",
              "thy  -0.499931 -0.969622  0.169681  ... -0.251314 -0.773625 -0.948643   \n",
              "god  -0.003239 -0.882634  0.386995  ... -0.156325 -0.477876 -0.791342   \n",
              "\n",
              "            93        94        95        96        97        98        99  \n",
              "unto -0.796188 -0.337746 -0.180304  0.724837  0.520966  0.164926  2.114064  \n",
              "lord -0.181971  0.131372  0.667447  0.202572  0.408737  0.507488  3.707379  \n",
              "thou  0.176274 -0.051367  0.424594  0.187359  0.341353  0.433901  1.619914  \n",
              "thy  -0.541344 -0.441159 -1.201772  0.541223  0.956601 -0.222844  1.946750  \n",
              "god  -0.343604 -0.190243 -0.482595  0.181577  0.475327  0.630946  2.228725  \n",
              "\n",
              "[5 rows x 100 columns]"
            ]
          },
          "execution_count": 10,
          "metadata": {},
          "output_type": "execute_result"
        }
      ],
      "source": [
        "import pandas as pd\n",
        "\n",
        "weights = cbow.get_weights()[0]\n",
        "weights = weights[1:]\n",
        "print(weights.shape)\n",
        "\n",
        "pd.DataFrame(weights, index=list(id2word.values())[1:]).head()"
      ]
    },
    {
      "cell_type": "markdown",
      "metadata": {
        "id": "nlIUNno7H2NV"
      },
      "source": [
        "Lets bring now some similar (semantic) words by using eucledian distance"
      ]
    },
    {
      "cell_type": "code",
      "execution_count": null,
      "metadata": {
        "colab": {
          "base_uri": "https://localhost:8080/"
        },
        "id": "KOblFsfHH518",
        "outputId": "98642eb7-6ea2-4c33-a4b1-cfbfd01dc956"
      },
      "outputs": [
        {
          "name": "stdout",
          "output_type": "stream",
          "text": [
            "(12424, 12424)\n"
          ]
        },
        {
          "data": {
            "text/plain": [
              "{'god': ['lord', 'wife', 'went', 'thy', 'behold'],\n",
              " 'jesus': ['elioenai', 'famous', 'revolted', 'err', 'mephibosheth'],\n",
              " 'noah': ['two', 'saying', 'ark', 'saw', 'three'],\n",
              " 'egypt': ['brethren', 'pharaoh', 'spake', 'told', 'gave'],\n",
              " 'john': ['purification', 'cutting', 'pedahel', 'honeycomb', 'diotrephes'],\n",
              " 'gospel': ['western', 'mnason', 'betray', 'shout', 'gnawed'],\n",
              " 'moses': ['hill', 'furious', 'reading', 'gittite', 'shamefully'],\n",
              " 'famine': ['greatly', 'lights', 'buy', 'ears', 'benjamin']}"
            ]
          },
          "execution_count": 12,
          "metadata": {},
          "output_type": "execute_result"
        }
      ],
      "source": [
        "from sklearn.metrics.pairwise import euclidean_distances\n",
        "\n",
        "# compute pairwise distance matrix\n",
        "distance_matrix = euclidean_distances(weights)\n",
        "print(distance_matrix.shape)\n",
        "\n",
        "# view contextually similar words\n",
        "similar_words = {search_term: [id2word[idx] for idx in distance_matrix[word2id[search_term]-1].argsort()[1:6]+1]\n",
        "                   for search_term in ['god', 'jesus', 'noah', 'egypt', 'john', 'gospel', 'moses','famine']}\n",
        "\n",
        "similar_words"
      ]
    },
    {
      "cell_type": "markdown",
      "metadata": {
        "id": "6bzhwcRIIG7t"
      },
      "source": [
        "## skip gram model using word2vec"
      ]
    },
    {
      "cell_type": "markdown",
      "metadata": {
        "id": "NZqIhOG6Ial9"
      },
      "source": [
        "Lets create a vocabulary based on target-context window"
      ]
    },
    {
      "cell_type": "code",
      "execution_count": null,
      "metadata": {
        "colab": {
          "base_uri": "https://localhost:8080/"
        },
        "id": "OtPB93TvIKdp",
        "outputId": "c20f4205-d084-4005-b35a-04bd656bd00f"
      },
      "outputs": [
        {
          "name": "stdout",
          "output_type": "stream",
          "text": [
            "(bible (5766), ichabod (7224)) -> 0\n",
            "(king (13), james (1154)) -> 1\n",
            "(bible (5766), james (1154)) -> 1\n",
            "(king (13), bible (5766)) -> 1\n",
            "(james (1154), king (13)) -> 1\n",
            "(king (13), forest (1386)) -> 0\n",
            "(james (1154), bible (5766)) -> 1\n",
            "(bible (5766), king (13)) -> 1\n",
            "(bible (5766), friendship (7848)) -> 0\n",
            "(james (1154), sleeping (4445)) -> 0\n"
          ]
        }
      ],
      "source": [
        "from keras.preprocessing.sequence import skipgrams\n",
        "\n",
        "# generate skip-grams\n",
        "skip_grams = [skipgrams(wid, vocabulary_size=vocab_size, window_size=10) for wid in wids]\n",
        "\n",
        "# view sample skip-grams\n",
        "pairs, labels = skip_grams[0][0], skip_grams[0][1]\n",
        "for i in range(10):\n",
        "    print(\"({:s} ({:d}), {:s} ({:d})) -> {:d}\".format(\n",
        "          id2word[pairs[i][0]], pairs[i][0],\n",
        "          id2word[pairs[i][1]], pairs[i][1],\n",
        "          labels[i]))"
      ]
    },
    {
      "cell_type": "markdown",
      "metadata": {
        "id": "IshJ3Op7JH91"
      },
      "source": [
        "Lets create a model"
      ]
    },
    {
      "cell_type": "code",
      "execution_count": null,
      "metadata": {
        "colab": {
          "base_uri": "https://localhost:8080/"
        },
        "id": "QrGNfENRIZxf",
        "outputId": "cbc27fe6-4196-4281-e766-0d74e05edccc"
      },
      "outputs": [
        {
          "name": "stdout",
          "output_type": "stream",
          "text": [
            "Model: \"model\"\n",
            "__________________________________________________________________________________________________\n",
            " Layer (type)                Output Shape                 Param #   Connected to                  \n",
            "==================================================================================================\n",
            " embedding_9_input (InputLa  [(None, 1)]                  0         []                            \n",
            " yer)                                                                                             \n",
            "                                                                                                  \n",
            " embedding_10_input (InputL  [(None, 1)]                  0         []                            \n",
            " ayer)                                                                                            \n",
            "                                                                                                  \n",
            " embedding_9 (Embedding)     (None, 1, 100)               1242500   ['embedding_9_input[0][0]']   \n",
            "                                                                                                  \n",
            " embedding_10 (Embedding)    (None, 1, 100)               1242500   ['embedding_10_input[0][0]']  \n",
            "                                                                                                  \n",
            " reshape_8 (Reshape)         (None, 100)                  0         ['embedding_9[0][0]']         \n",
            "                                                                                                  \n",
            " reshape_9 (Reshape)         (None, 100)                  0         ['embedding_10[0][0]']        \n",
            "                                                                                                  \n",
            " dot_2 (Dot)                 (None, 1)                    0         ['reshape_8[0][0]',           \n",
            "                                                                     'reshape_9[0][0]']           \n",
            "                                                                                                  \n",
            " dense_1 (Dense)             (None, 1)                    2         ['dot_2[0][0]']               \n",
            "                                                                                                  \n",
            "==================================================================================================\n",
            "Total params: 2485002 (9.48 MB)\n",
            "Trainable params: 2485002 (9.48 MB)\n",
            "Non-trainable params: 0 (0.00 Byte)\n",
            "__________________________________________________________________________________________________\n",
            "None\n"
          ]
        }
      ],
      "source": [
        "from keras.layers import Dot\n",
        "from keras.layers import Dense, Reshape\n",
        "from keras.layers import Embedding\n",
        "from keras.models import Sequential\n",
        "from keras.models import Model\n",
        "\n",
        "word_model = Sequential()\n",
        "word_model.add(Embedding(vocab_size, embed_size,\n",
        "                         embeddings_initializer=\"glorot_uniform\",\n",
        "                         input_length=1))\n",
        "word_model.add(Reshape((embed_size, )))\n",
        "\n",
        "context_model = Sequential()\n",
        "context_model.add(Embedding(vocab_size, embed_size,\n",
        "                  embeddings_initializer=\"glorot_uniform\",\n",
        "                  input_length=1))\n",
        "context_model.add(Reshape((embed_size,)))\n",
        "\n",
        "model_arch = Dot(axes=1)([word_model.output, context_model.output])\n",
        "model_arch = Dense(1, kernel_initializer=\"glorot_uniform\", activation=\"sigmoid\")(model_arch)\n",
        "model = Model([word_model.input,context_model.input], model_arch)\n",
        "\n",
        "model.compile(loss=\"mean_squared_error\", optimizer=\"rmsprop\")\n",
        "print(model.summary())"
      ]
    },
    {
      "cell_type": "code",
      "execution_count": null,
      "metadata": {
        "colab": {
          "base_uri": "https://localhost:8080/",
          "height": 709
        },
        "id": "SgSgvC3NJK1Q",
        "outputId": "67ceeb17-2370-4657-af60-c3f89ee0ce3d"
      },
      "outputs": [
        {
          "data": {
            "image/svg+xml": [
              "<svg xmlns=\"http://www.w3.org/2000/svg\" xmlns:xlink=\"http://www.w3.org/1999/xlink\" width=\"653pt\" height=\"516pt\" viewBox=\"0.00 0.00 490.00 387.00\">\n",
              "<g id=\"graph0\" class=\"graph\" transform=\"scale(0.75 0.75) rotate(0) translate(4 383)\">\n",
              "<title>G</title>\n",
              "<polygon fill=\"white\" stroke=\"transparent\" points=\"-4,4 -4,-383 486,-383 486,4 -4,4\"/>\n",
              "<!-- 140341189236320 -->\n",
              "<g id=\"node1\" class=\"node\">\n",
              "<title>140341189236320</title>\n",
              "<polygon fill=\"none\" stroke=\"black\" points=\"11,-332.5 11,-378.5 221,-378.5 221,-332.5 11,-332.5\"/>\n",
              "<text text-anchor=\"middle\" x=\"49.5\" y=\"-351.8\" font-family=\"Times,serif\" font-size=\"14.00\">InputLayer</text>\n",
              "<polyline fill=\"none\" stroke=\"black\" points=\"88,-332.5 88,-378.5 \"/>\n",
              "<text text-anchor=\"middle\" x=\"115.5\" y=\"-363.3\" font-family=\"Times,serif\" font-size=\"14.00\">input:</text>\n",
              "<polyline fill=\"none\" stroke=\"black\" points=\"88,-355.5 143,-355.5 \"/>\n",
              "<text text-anchor=\"middle\" x=\"115.5\" y=\"-340.3\" font-family=\"Times,serif\" font-size=\"14.00\">output:</text>\n",
              "<polyline fill=\"none\" stroke=\"black\" points=\"143,-332.5 143,-378.5 \"/>\n",
              "<text text-anchor=\"middle\" x=\"182\" y=\"-363.3\" font-family=\"Times,serif\" font-size=\"14.00\">[(None, 1)]</text>\n",
              "<polyline fill=\"none\" stroke=\"black\" points=\"143,-355.5 221,-355.5 \"/>\n",
              "<text text-anchor=\"middle\" x=\"182\" y=\"-340.3\" font-family=\"Times,serif\" font-size=\"14.00\">[(None, 1)]</text>\n",
              "</g>\n",
              "<!-- 140341192117600 -->\n",
              "<g id=\"node3\" class=\"node\">\n",
              "<title>140341192117600</title>\n",
              "<polygon fill=\"none\" stroke=\"black\" points=\"0,-249.5 0,-295.5 232,-295.5 232,-249.5 0,-249.5\"/>\n",
              "<text text-anchor=\"middle\" x=\"40\" y=\"-268.8\" font-family=\"Times,serif\" font-size=\"14.00\">Embedding</text>\n",
              "<polyline fill=\"none\" stroke=\"black\" points=\"80,-249.5 80,-295.5 \"/>\n",
              "<text text-anchor=\"middle\" x=\"107.5\" y=\"-280.3\" font-family=\"Times,serif\" font-size=\"14.00\">input:</text>\n",
              "<polyline fill=\"none\" stroke=\"black\" points=\"80,-272.5 135,-272.5 \"/>\n",
              "<text text-anchor=\"middle\" x=\"107.5\" y=\"-257.3\" font-family=\"Times,serif\" font-size=\"14.00\">output:</text>\n",
              "<polyline fill=\"none\" stroke=\"black\" points=\"135,-249.5 135,-295.5 \"/>\n",
              "<text text-anchor=\"middle\" x=\"183.5\" y=\"-280.3\" font-family=\"Times,serif\" font-size=\"14.00\">(None, 1)</text>\n",
              "<polyline fill=\"none\" stroke=\"black\" points=\"135,-272.5 232,-272.5 \"/>\n",
              "<text text-anchor=\"middle\" x=\"183.5\" y=\"-257.3\" font-family=\"Times,serif\" font-size=\"14.00\">(None, 1, 100)</text>\n",
              "</g>\n",
              "<!-- 140341189236320&#45;&gt;140341192117600 -->\n",
              "<g id=\"edge1\" class=\"edge\">\n",
              "<title>140341189236320-&gt;140341192117600</title>\n",
              "<path fill=\"none\" stroke=\"black\" d=\"M116,-332.37C116,-324.15 116,-314.66 116,-305.73\"/>\n",
              "<polygon fill=\"black\" stroke=\"black\" points=\"119.5,-305.61 116,-295.61 112.5,-305.61 119.5,-305.61\"/>\n",
              "</g>\n",
              "<!-- 140341191902736 -->\n",
              "<g id=\"node2\" class=\"node\">\n",
              "<title>140341191902736</title>\n",
              "<polygon fill=\"none\" stroke=\"black\" points=\"261,-332.5 261,-378.5 471,-378.5 471,-332.5 261,-332.5\"/>\n",
              "<text text-anchor=\"middle\" x=\"299.5\" y=\"-351.8\" font-family=\"Times,serif\" font-size=\"14.00\">InputLayer</text>\n",
              "<polyline fill=\"none\" stroke=\"black\" points=\"338,-332.5 338,-378.5 \"/>\n",
              "<text text-anchor=\"middle\" x=\"365.5\" y=\"-363.3\" font-family=\"Times,serif\" font-size=\"14.00\">input:</text>\n",
              "<polyline fill=\"none\" stroke=\"black\" points=\"338,-355.5 393,-355.5 \"/>\n",
              "<text text-anchor=\"middle\" x=\"365.5\" y=\"-340.3\" font-family=\"Times,serif\" font-size=\"14.00\">output:</text>\n",
              "<polyline fill=\"none\" stroke=\"black\" points=\"393,-332.5 393,-378.5 \"/>\n",
              "<text text-anchor=\"middle\" x=\"432\" y=\"-363.3\" font-family=\"Times,serif\" font-size=\"14.00\">[(None, 1)]</text>\n",
              "<polyline fill=\"none\" stroke=\"black\" points=\"393,-355.5 471,-355.5 \"/>\n",
              "<text text-anchor=\"middle\" x=\"432\" y=\"-340.3\" font-family=\"Times,serif\" font-size=\"14.00\">[(None, 1)]</text>\n",
              "</g>\n",
              "<!-- 140341191916896 -->\n",
              "<g id=\"node4\" class=\"node\">\n",
              "<title>140341191916896</title>\n",
              "<polygon fill=\"none\" stroke=\"black\" points=\"250,-249.5 250,-295.5 482,-295.5 482,-249.5 250,-249.5\"/>\n",
              "<text text-anchor=\"middle\" x=\"290\" y=\"-268.8\" font-family=\"Times,serif\" font-size=\"14.00\">Embedding</text>\n",
              "<polyline fill=\"none\" stroke=\"black\" points=\"330,-249.5 330,-295.5 \"/>\n",
              "<text text-anchor=\"middle\" x=\"357.5\" y=\"-280.3\" font-family=\"Times,serif\" font-size=\"14.00\">input:</text>\n",
              "<polyline fill=\"none\" stroke=\"black\" points=\"330,-272.5 385,-272.5 \"/>\n",
              "<text text-anchor=\"middle\" x=\"357.5\" y=\"-257.3\" font-family=\"Times,serif\" font-size=\"14.00\">output:</text>\n",
              "<polyline fill=\"none\" stroke=\"black\" points=\"385,-249.5 385,-295.5 \"/>\n",
              "<text text-anchor=\"middle\" x=\"433.5\" y=\"-280.3\" font-family=\"Times,serif\" font-size=\"14.00\">(None, 1)</text>\n",
              "<polyline fill=\"none\" stroke=\"black\" points=\"385,-272.5 482,-272.5 \"/>\n",
              "<text text-anchor=\"middle\" x=\"433.5\" y=\"-257.3\" font-family=\"Times,serif\" font-size=\"14.00\">(None, 1, 100)</text>\n",
              "</g>\n",
              "<!-- 140341191902736&#45;&gt;140341191916896 -->\n",
              "<g id=\"edge2\" class=\"edge\">\n",
              "<title>140341191902736-&gt;140341191916896</title>\n",
              "<path fill=\"none\" stroke=\"black\" d=\"M366,-332.37C366,-324.15 366,-314.66 366,-305.73\"/>\n",
              "<polygon fill=\"black\" stroke=\"black\" points=\"369.5,-305.61 366,-295.61 362.5,-305.61 369.5,-305.61\"/>\n",
              "</g>\n",
              "<!-- 140341264268928 -->\n",
              "<g id=\"node5\" class=\"node\">\n",
              "<title>140341264268928</title>\n",
              "<polygon fill=\"none\" stroke=\"black\" points=\"18,-166.5 18,-212.5 232,-212.5 232,-166.5 18,-166.5\"/>\n",
              "<text text-anchor=\"middle\" x=\"49\" y=\"-185.8\" font-family=\"Times,serif\" font-size=\"14.00\">Reshape</text>\n",
              "<polyline fill=\"none\" stroke=\"black\" points=\"80,-166.5 80,-212.5 \"/>\n",
              "<text text-anchor=\"middle\" x=\"107.5\" y=\"-197.3\" font-family=\"Times,serif\" font-size=\"14.00\">input:</text>\n",
              "<polyline fill=\"none\" stroke=\"black\" points=\"80,-189.5 135,-189.5 \"/>\n",
              "<text text-anchor=\"middle\" x=\"107.5\" y=\"-174.3\" font-family=\"Times,serif\" font-size=\"14.00\">output:</text>\n",
              "<polyline fill=\"none\" stroke=\"black\" points=\"135,-166.5 135,-212.5 \"/>\n",
              "<text text-anchor=\"middle\" x=\"183.5\" y=\"-197.3\" font-family=\"Times,serif\" font-size=\"14.00\">(None, 1, 100)</text>\n",
              "<polyline fill=\"none\" stroke=\"black\" points=\"135,-189.5 232,-189.5 \"/>\n",
              "<text text-anchor=\"middle\" x=\"183.5\" y=\"-174.3\" font-family=\"Times,serif\" font-size=\"14.00\">(None, 100)</text>\n",
              "</g>\n",
              "<!-- 140341192117600&#45;&gt;140341264268928 -->\n",
              "<g id=\"edge3\" class=\"edge\">\n",
              "<title>140341192117600-&gt;140341264268928</title>\n",
              "<path fill=\"none\" stroke=\"black\" d=\"M118.46,-249.37C119.37,-241.15 120.43,-231.66 121.42,-222.73\"/>\n",
              "<polygon fill=\"black\" stroke=\"black\" points=\"124.92,-222.93 122.54,-212.61 117.96,-222.16 124.92,-222.93\"/>\n",
              "</g>\n",
              "<!-- 140341191913536 -->\n",
              "<g id=\"node6\" class=\"node\">\n",
              "<title>140341191913536</title>\n",
              "<polygon fill=\"none\" stroke=\"black\" points=\"254,-166.5 254,-212.5 468,-212.5 468,-166.5 254,-166.5\"/>\n",
              "<text text-anchor=\"middle\" x=\"285\" y=\"-185.8\" font-family=\"Times,serif\" font-size=\"14.00\">Reshape</text>\n",
              "<polyline fill=\"none\" stroke=\"black\" points=\"316,-166.5 316,-212.5 \"/>\n",
              "<text text-anchor=\"middle\" x=\"343.5\" y=\"-197.3\" font-family=\"Times,serif\" font-size=\"14.00\">input:</text>\n",
              "<polyline fill=\"none\" stroke=\"black\" points=\"316,-189.5 371,-189.5 \"/>\n",
              "<text text-anchor=\"middle\" x=\"343.5\" y=\"-174.3\" font-family=\"Times,serif\" font-size=\"14.00\">output:</text>\n",
              "<polyline fill=\"none\" stroke=\"black\" points=\"371,-166.5 371,-212.5 \"/>\n",
              "<text text-anchor=\"middle\" x=\"419.5\" y=\"-197.3\" font-family=\"Times,serif\" font-size=\"14.00\">(None, 1, 100)</text>\n",
              "<polyline fill=\"none\" stroke=\"black\" points=\"371,-189.5 468,-189.5 \"/>\n",
              "<text text-anchor=\"middle\" x=\"419.5\" y=\"-174.3\" font-family=\"Times,serif\" font-size=\"14.00\">(None, 100)</text>\n",
              "</g>\n",
              "<!-- 140341191916896&#45;&gt;140341191913536 -->\n",
              "<g id=\"edge4\" class=\"edge\">\n",
              "<title>140341191916896-&gt;140341191913536</title>\n",
              "<path fill=\"none\" stroke=\"black\" d=\"M364.63,-249.37C364.13,-241.15 363.54,-231.66 362.99,-222.73\"/>\n",
              "<polygon fill=\"black\" stroke=\"black\" points=\"366.47,-222.37 362.36,-212.61 359.49,-222.8 366.47,-222.37\"/>\n",
              "</g>\n",
              "<!-- 140341191904704 -->\n",
              "<g id=\"node7\" class=\"node\">\n",
              "<title>140341191904704</title>\n",
              "<polygon fill=\"none\" stroke=\"black\" points=\"112.5,-83.5 112.5,-129.5 369.5,-129.5 369.5,-83.5 112.5,-83.5\"/>\n",
              "<text text-anchor=\"middle\" x=\"131\" y=\"-102.8\" font-family=\"Times,serif\" font-size=\"14.00\">Dot</text>\n",
              "<polyline fill=\"none\" stroke=\"black\" points=\"149.5,-83.5 149.5,-129.5 \"/>\n",
              "<text text-anchor=\"middle\" x=\"177\" y=\"-114.3\" font-family=\"Times,serif\" font-size=\"14.00\">input:</text>\n",
              "<polyline fill=\"none\" stroke=\"black\" points=\"149.5,-106.5 204.5,-106.5 \"/>\n",
              "<text text-anchor=\"middle\" x=\"177\" y=\"-91.3\" font-family=\"Times,serif\" font-size=\"14.00\">output:</text>\n",
              "<polyline fill=\"none\" stroke=\"black\" points=\"204.5,-83.5 204.5,-129.5 \"/>\n",
              "<text text-anchor=\"middle\" x=\"287\" y=\"-114.3\" font-family=\"Times,serif\" font-size=\"14.00\">[(None, 100), (None, 100)]</text>\n",
              "<polyline fill=\"none\" stroke=\"black\" points=\"204.5,-106.5 369.5,-106.5 \"/>\n",
              "<text text-anchor=\"middle\" x=\"287\" y=\"-91.3\" font-family=\"Times,serif\" font-size=\"14.00\">(None, 1)</text>\n",
              "</g>\n",
              "<!-- 140341264268928&#45;&gt;140341191904704 -->\n",
              "<g id=\"edge5\" class=\"edge\">\n",
              "<title>140341264268928-&gt;140341191904704</title>\n",
              "<path fill=\"none\" stroke=\"black\" d=\"M156.7,-166.37C170.38,-156.81 186.54,-145.53 201.03,-135.41\"/>\n",
              "<polygon fill=\"black\" stroke=\"black\" points=\"203.15,-138.2 209.34,-129.61 199.14,-132.46 203.15,-138.2\"/>\n",
              "</g>\n",
              "<!-- 140341191913536&#45;&gt;140341191904704 -->\n",
              "<g id=\"edge6\" class=\"edge\">\n",
              "<title>140341191913536-&gt;140341191904704</title>\n",
              "<path fill=\"none\" stroke=\"black\" d=\"M328.21,-166.37C314.06,-156.81 297.34,-145.53 282.35,-135.41\"/>\n",
              "<polygon fill=\"black\" stroke=\"black\" points=\"284,-132.3 273.75,-129.61 280.08,-138.1 284,-132.3\"/>\n",
              "</g>\n",
              "<!-- 140341191909456 -->\n",
              "<g id=\"node8\" class=\"node\">\n",
              "<title>140341191909456</title>\n",
              "<polygon fill=\"none\" stroke=\"black\" points=\"154,-0.5 154,-46.5 328,-46.5 328,-0.5 154,-0.5\"/>\n",
              "<text text-anchor=\"middle\" x=\"179\" y=\"-19.8\" font-family=\"Times,serif\" font-size=\"14.00\">Dense</text>\n",
              "<polyline fill=\"none\" stroke=\"black\" points=\"204,-0.5 204,-46.5 \"/>\n",
              "<text text-anchor=\"middle\" x=\"231.5\" y=\"-31.3\" font-family=\"Times,serif\" font-size=\"14.00\">input:</text>\n",
              "<polyline fill=\"none\" stroke=\"black\" points=\"204,-23.5 259,-23.5 \"/>\n",
              "<text text-anchor=\"middle\" x=\"231.5\" y=\"-8.3\" font-family=\"Times,serif\" font-size=\"14.00\">output:</text>\n",
              "<polyline fill=\"none\" stroke=\"black\" points=\"259,-0.5 259,-46.5 \"/>\n",
              "<text text-anchor=\"middle\" x=\"293.5\" y=\"-31.3\" font-family=\"Times,serif\" font-size=\"14.00\">(None, 1)</text>\n",
              "<polyline fill=\"none\" stroke=\"black\" points=\"259,-23.5 328,-23.5 \"/>\n",
              "<text text-anchor=\"middle\" x=\"293.5\" y=\"-8.3\" font-family=\"Times,serif\" font-size=\"14.00\">(None, 1)</text>\n",
              "</g>\n",
              "<!-- 140341191904704&#45;&gt;140341191909456 -->\n",
              "<g id=\"edge7\" class=\"edge\">\n",
              "<title>140341191904704-&gt;140341191909456</title>\n",
              "<path fill=\"none\" stroke=\"black\" d=\"M241,-83.37C241,-75.15 241,-65.66 241,-56.73\"/>\n",
              "<polygon fill=\"black\" stroke=\"black\" points=\"244.5,-56.61 241,-46.61 237.5,-56.61 244.5,-56.61\"/>\n",
              "</g>\n",
              "</g>\n",
              "</svg>"
            ],
            "text/plain": [
              "<IPython.core.display.SVG object>"
            ]
          },
          "execution_count": 26,
          "metadata": {},
          "output_type": "execute_result"
        }
      ],
      "source": [
        "from IPython.display import SVG\n",
        "from keras.utils import model_to_dot\n",
        "\n",
        "SVG(model_to_dot(model, show_shapes=True, show_layer_names=False,\n",
        "                 rankdir='TB').create(prog='dot', format='svg'))"
      ]
    },
    {
      "cell_type": "code",
      "execution_count": null,
      "metadata": {
        "colab": {
          "base_uri": "https://localhost:8080/"
        },
        "id": "ab99VHh6MWQu",
        "outputId": "eda793bd-ce9a-4231-b0e1-e7d5b3ee187e"
      },
      "outputs": [
        {
          "name": "stdout",
          "output_type": "stream",
          "text": [
            "Processed 0 (skip_first, skip_second, relevance) pairs\n",
            "Processed 1000 (skip_first, skip_second, relevance) pairs\n",
            "Epoch: 1 Loss: 230.3106653894065\n",
            "Processed 0 (skip_first, skip_second, relevance) pairs\n",
            "Processed 1000 (skip_first, skip_second, relevance) pairs\n",
            "Epoch: 2 Loss: 205.39374822960235\n",
            "Processed 0 (skip_first, skip_second, relevance) pairs\n",
            "Processed 1000 (skip_first, skip_second, relevance) pairs\n",
            "Epoch: 3 Loss: 196.23869638651377\n",
            "Processed 0 (skip_first, skip_second, relevance) pairs\n",
            "Processed 1000 (skip_first, skip_second, relevance) pairs\n",
            "Epoch: 4 Loss: 189.07380601775367\n",
            "Processed 0 (skip_first, skip_second, relevance) pairs\n",
            "Processed 1000 (skip_first, skip_second, relevance) pairs\n",
            "Epoch: 5 Loss: 183.6152190058492\n"
          ]
        }
      ],
      "source": [
        "for epoch in range(1, 6):\n",
        "    loss = 0\n",
        "    elements = [(i, elem) for i, elem in enumerate(skip_grams)][:2000]\n",
        "    for (i, elem) in elements:\n",
        "        pair_first_elem = np.array(list(zip(*elem[0]))[0], dtype='int32')\n",
        "        pair_second_elem = np.array(list(zip(*elem[0]))[1], dtype='int32')\n",
        "        labels = np.array(elem[1], dtype='int32')\n",
        "        X = [pair_first_elem, pair_second_elem]\n",
        "        Y = labels\n",
        "        if i % 1000 == 0:\n",
        "            print('Processed {} (skip_first, skip_second, relevance) pairs'.format(i))\n",
        "        loss += model.train_on_batch(X,Y)\n",
        "\n",
        "    print('Epoch:', epoch, 'Loss:', loss)"
      ]
    },
    {
      "cell_type": "code",
      "execution_count": null,
      "metadata": {
        "colab": {
          "base_uri": "https://localhost:8080/"
        },
        "id": "RS1N2ftNMzz8",
        "outputId": "48f36780-9d12-4972-ca49-e4ca2e4d1031"
      },
      "outputs": [
        {
          "name": "stdout",
          "output_type": "stream",
          "text": [
            "(12424, 12424)\n"
          ]
        },
        {
          "data": {
            "text/plain": [
              "{'god': ['lord', 'wife', 'went', 'thy', 'behold'],\n",
              " 'jesus': ['elioenai', 'famous', 'revolted', 'err', 'mephibosheth'],\n",
              " 'noah': ['two', 'saying', 'ark', 'saw', 'three'],\n",
              " 'egypt': ['brethren', 'pharaoh', 'spake', 'told', 'gave'],\n",
              " 'john': ['purification', 'cutting', 'pedahel', 'honeycomb', 'diotrephes'],\n",
              " 'gospel': ['western', 'mnason', 'betray', 'shout', 'gnawed'],\n",
              " 'moses': ['hill', 'furious', 'reading', 'gittite', 'shamefully'],\n",
              " 'famine': ['greatly', 'lights', 'buy', 'ears', 'benjamin']}"
            ]
          },
          "execution_count": 38,
          "metadata": {},
          "output_type": "execute_result"
        }
      ],
      "source": [
        "from sklearn.metrics.pairwise import euclidean_distances\n",
        "\n",
        "distance_matrix = euclidean_distances(weights)\n",
        "print(distance_matrix.shape)\n",
        "\n",
        "similar_words = {search_term: [id2word[idx] for idx in distance_matrix[word2id[search_term]-1].argsort()[1:6]+1]\n",
        "                   for search_term in ['god', 'jesus', 'noah', 'egypt', 'john', 'gospel', 'moses','famine']}\n",
        "\n",
        "similar_words"
      ]
    },
    {
      "cell_type": "code",
      "execution_count": null,
      "metadata": {
        "colab": {
          "base_uri": "https://localhost:8080/",
          "height": 697
        },
        "id": "T0UxcsoOOR7k",
        "outputId": "26377225-1671-42b0-8146-0336c7f06702"
      },
      "outputs": [
        {
          "name": "stdout",
          "output_type": "stream",
          "text": [
            "Total words: 48 \tWord Embedding shapes: (48, 100)\n"
          ]
        },
        {
          "data": {
            "image/png": "[encoded data removed]",
            "text/plain": [
              "<Figure size 1400x800 with 1 Axes>"
            ]
          },
          "metadata": {},
          "output_type": "display_data"
        }
      ],
      "source": [
        "from sklearn.manifold import TSNE\n",
        "import matplotlib.pyplot as plt\n",
        "\n",
        "words = sum([[k] + v for k, v in similar_words.items()], [])\n",
        "words_ids = [word2id[w] for w in words]\n",
        "word_vectors = np.array([weights[idx] for idx in words_ids])\n",
        "print('Total words:', len(words), '\\tWord Embedding shapes:', word_vectors.shape)\n",
        "\n",
        "tsne = TSNE(n_components=2, random_state=0, n_iter=10000, perplexity=3)\n",
        "np.set_printoptions(suppress=True)\n",
        "T = tsne.fit_transform(word_vectors)\n",
        "labels = words\n",
        "\n",
        "plt.figure(figsize=(14, 8))\n",
        "plt.scatter(T[:, 0], T[:, 1], c='steelblue', edgecolors='k')\n",
        "for label, x, y in zip(labels, T[:, 0], T[:, 1]):\n",
        "    plt.annotate(label, xy=(x+1, y+1), xytext=(0, 0), textcoords='offset points')"
      ]
    },
    {
      "cell_type": "markdown",
      "metadata": {
        "id": "1Me2ISqOOoP1"
      },
      "source": [
        "## Gensim for word2vec"
      ]
    },
    {
      "cell_type": "code",
      "execution_count": null,
      "metadata": {
        "colab": {
          "base_uri": "https://localhost:8080/"
        },
        "id": "7ZYVdTZlOSPY",
        "outputId": "85802477-45ac-4e31-84cb-a8492dcc1f50"
      },
      "outputs": [
        {
          "data": {
            "text/plain": [
              "{'god': ['lord', 'worldly', 'reasonable', 'henceforth', 'glory'],\n",
              " 'jesus': ['peter', 'messias', 'impotent', 'james', 'immediately'],\n",
              " 'noah': ['shem', 'ham', 'japheth', 'noe', 'henoch'],\n",
              " 'egypt': ['pharaoh', 'egyptians', 'bondage', 'rod', 'flowing'],\n",
              " 'john': ['baptist', 'james', 'devine', 'peter', 'galilee'],\n",
              " 'gospel': ['faith', 'christ', 'godly', 'sufferings', 'teaching'],\n",
              " 'moses': ['congregation', 'children', 'joshua', 'elisheba', 'ordinance'],\n",
              " 'famine': ['pestilence', 'peril', 'noisome', 'blasting', 'trespassing']}"
            ]
          },
          "execution_count": 48,
          "metadata": {},
          "output_type": "execute_result"
        }
      ],
      "source": [
        "from gensim.models import word2vec\n",
        "\n",
        "# tokenize sentences in corpus\n",
        "wpt = nltk.WordPunctTokenizer()\n",
        "tokenized_corpus = [wpt.tokenize(document) for document in norm_bible]\n",
        "\n",
        "# Set values for various parameters\n",
        "feature_size = 100    # Word vector dimensionality\n",
        "window_context = 30          # Context window size\n",
        "min_word_count = 1   # Minimum word count\n",
        "sample = 1e-3   # Downsample setting for frequent words\n",
        "\n",
        "w2v_model = word2vec.Word2Vec(tokenized_corpus, vector_size =feature_size,\n",
        "                          window=window_context, min_count=min_word_count,\n",
        "                          sample=sample, epochs =50)\n",
        "\n",
        "# view similar words based on gensim's model\n",
        "similar_words = {search_term: [item[0] for item in w2v_model.wv.most_similar([search_term], topn=5)]\n",
        "                  for search_term in ['god', 'jesus', 'noah', 'egypt', 'john', 'gospel', 'moses','famine']}\n",
        "similar_words"
      ]
    },
    {
      "cell_type": "code",
      "execution_count": null,
      "metadata": {
        "colab": {
          "base_uri": "https://localhost:8080/",
          "height": 676
        },
        "id": "vdXs7evWOtve",
        "outputId": "517f5cd2-54ff-42b4-868a-f96e464f3930"
      },
      "outputs": [
        {
          "data": {
            "image/png": "[encoded data removed]",
            "text/plain": [
              "<Figure size 1400x800 with 1 Axes>"
            ]
          },
          "metadata": {},
          "output_type": "display_data"
        }
      ],
      "source": [
        "from sklearn.manifold import TSNE\n",
        "\n",
        "words = sum([[k] + v for k, v in similar_words.items()], [])\n",
        "wvs = w2v_model.wv[words]\n",
        "\n",
        "tsne = TSNE(n_components=2, random_state=0, n_iter=10000, perplexity=2)\n",
        "np.set_printoptions(suppress=True)\n",
        "T = tsne.fit_transform(wvs)\n",
        "labels = words\n",
        "\n",
        "plt.figure(figsize=(14, 8))\n",
        "plt.scatter(T[:, 0], T[:, 1], c='orange', edgecolors='r')\n",
        "for label, x, y in zip(labels, T[:, 0], T[:, 1]):\n",
        "    plt.annotate(label, xy=(x+1, y+1), xytext=(0, 0), textcoords='offset points')"
      ]
    },
    {
      "cell_type": "code",
      "execution_count": null,
      "metadata": {
        "id": "mj7XU7l5PxTD"
      },
      "outputs": [],
      "source": []
    }
  ],
  "metadata": {
    "colab": {
      "provenance": []
    },
    "kernelspec": {
      "display_name": "Python 3",
      "name": "python3"
    },
    "language_info": {
      "codemirror_mode": {
        "name": "ipython",
        "version": 3
      },
      "file_extension": ".py",
      "mimetype": "text/x-python",
      "name": "python",
      "nbconvert_exporter": "python",
      "pygments_lexer": "ipython3",
      "version": "3.11.0"
    }
  },
  "nbformat": 4,
  "nbformat_minor": 0
}
