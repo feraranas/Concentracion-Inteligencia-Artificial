{
  "cells": [
    {
      "cell_type": "code",
      "execution_count": 49,
      "metadata": {
        "colab": {
          "base_uri": "https://localhost:8080/"
        },
        "id": "yfMaqqlTa9KJ",
        "outputId": "d3401099-fe1c-4990-b947-baa873f7b4f9"
      },
      "outputs": [
        {
          "name": "stderr",
          "output_type": "stream",
          "text": [
            "[nltk_data] Downloading package movie_reviews to /root/nltk_data...\n",
            "[nltk_data]   Package movie_reviews is already up-to-date!\n",
            "[nltk_data] Downloading package stopwords to /root/nltk_data...\n",
            "[nltk_data]   Package stopwords is already up-to-date!\n",
            "[nltk_data] Downloading package punkt to /root/nltk_data...\n",
            "[nltk_data]   Package punkt is already up-to-date!\n",
            "[nltk_data] Downloading package wordnet to /root/nltk_data...\n",
            "[nltk_data]   Package wordnet is already up-to-date!\n"
          ]
        },
        {
          "data": {
            "text/plain": [
              "True"
            ]
          },
          "execution_count": 49,
          "metadata": {},
          "output_type": "execute_result"
        }
      ],
      "source": [
        "import nltk, random\n",
        "from nltk.corpus import movie_reviews\n",
        "import pandas as pd\n",
        "import matplotlib.pyplot as plt\n",
        "import numpy as np\n",
        "from nltk.corpus import stopwords\n",
        "nltk.download('movie_reviews')\n",
        "nltk.download('stopwords')\n",
        "nltk.download('punkt')\n",
        "nltk.download('wordnet')"
      ]
    },
    {
      "cell_type": "markdown",
      "metadata": {
        "id": "KWVKNv1nbIqk"
      },
      "source": [
        "## Data import"
      ]
    },
    {
      "cell_type": "code",
      "execution_count": 50,
      "metadata": {
        "colab": {
          "base_uri": "https://localhost:8080/"
        },
        "id": "_OvSVZ8QbHw4",
        "outputId": "79ae0282-f94f-4050-c316-023dfd6ff7ba"
      },
      "outputs": [
        {
          "name": "stdout",
          "output_type": "stream",
          "text": [
            "2000\n",
            "['neg', 'pos']\n",
            "['plot', ':', 'two', 'teen', 'couples', 'go', 'to', ...]\n",
            "['neg/cv000_29416.txt', 'neg/cv001_19502.txt', 'neg/cv002_17424.txt', 'neg/cv003_12683.txt', 'neg/cv004_12641.txt', 'neg/cv005_29357.txt', 'neg/cv006_17022.txt', 'neg/cv007_4992.txt', 'neg/cv008_29326.txt', 'neg/cv009_29417.txt']\n"
          ]
        }
      ],
      "source": [
        "print(len(movie_reviews.fileids()))\n",
        "print(movie_reviews.categories())\n",
        "print(movie_reviews.words()[:100])\n",
        "print(movie_reviews.fileids()[:10])"
      ]
    },
    {
      "cell_type": "code",
      "execution_count": 51,
      "metadata": {
        "id": "xAizmoUAbK5H"
      },
      "outputs": [],
      "source": [
        "documents = [(list(movie_reviews.words(fileid)), category)\n",
        "             for category in movie_reviews.categories()\n",
        "             for fileid in movie_reviews.fileids(category)]\n",
        "random.seed(123)\n",
        "random.shuffle(documents)"
      ]
    },
    {
      "cell_type": "code",
      "execution_count": 52,
      "metadata": {
        "colab": {
          "base_uri": "https://localhost:8080/"
        },
        "id": "GzsjoYbIbWaq",
        "outputId": "dc6ae76b-869a-43f5-b496-9db7adef17c5"
      },
      "outputs": [
        {
          "data": {
            "text/plain": [
              "['most',\n",
              " 'movies',\n",
              " 'seem',\n",
              " 'to',\n",
              " 'release',\n",
              " 'a',\n",
              " 'third',\n",
              " 'movie',\n",
              " 'just',\n",
              " 'so',\n",
              " 'it',\n",
              " 'can',\n",
              " 'be',\n",
              " 'called',\n",
              " 'a',\n",
              " 'trilogy',\n",
              " '.',\n",
              " 'rocky',\n",
              " 'iii',\n",
              " 'seems',\n",
              " 'to',\n",
              " 'kind',\n",
              " 'of',\n",
              " 'fit',\n",
              " 'in',\n",
              " 'that',\n",
              " 'category',\n",
              " ',',\n",
              " 'but',\n",
              " 'manages',\n",
              " 'to',\n",
              " 'be',\n",
              " 'slightly',\n",
              " 'unique',\n",
              " '.',\n",
              " 'the',\n",
              " 'rocky',\n",
              " 'formula',\n",
              " 'of',\n",
              " '\"',\n",
              " 'rocky',\n",
              " 'loses',\n",
              " 'fight',\n",
              " '/',\n",
              " 'rocky',\n",
              " 'trains',\n",
              " '/',\n",
              " 'rocky',\n",
              " 'wins',\n",
              " 'fight',\n",
              " '\"',\n",
              " 'is',\n",
              " 'carried',\n",
              " 'out',\n",
              " 'to',\n",
              " 'the',\n",
              " 'letter',\n",
              " '.',\n",
              " 'also',\n",
              " 'the',\n",
              " \"'\",\n",
              " 'tradition',\n",
              " \"'\",\n",
              " 'of',\n",
              " 'showing',\n",
              " 'the',\n",
              " 'last',\n",
              " 'five',\n",
              " 'minutes',\n",
              " 'or',\n",
              " 'so',\n",
              " 'from',\n",
              " 'the',\n",
              " 'past',\n",
              " 'rocky',\n",
              " 'film',\n",
              " 'is',\n",
              " 'used',\n",
              " 'as',\n",
              " 'well',\n",
              " '.',\n",
              " 'this',\n",
              " 'movie',\n",
              " 'begins',\n",
              " 'with',\n",
              " 'a',\n",
              " 'series',\n",
              " 'of',\n",
              " 'clips',\n",
              " 'showing',\n",
              " 'how',\n",
              " 'famous',\n",
              " 'rocky',\n",
              " '(',\n",
              " 'sylvester',\n",
              " 'stallone',\n",
              " ')',\n",
              " 'has',\n",
              " 'become',\n",
              " '.',\n",
              " '.',\n",
              " '.',\n",
              " 'even',\n",
              " 'showing',\n",
              " 'a',\n",
              " 'brief',\n",
              " 'appearance',\n",
              " 'on',\n",
              " 'sesame',\n",
              " 'street',\n",
              " '!',\n",
              " '!',\n",
              " 'then',\n",
              " 'it',\n",
              " 'moves',\n",
              " 'on',\n",
              " 'with',\n",
              " 'rocky',\n",
              " 'being',\n",
              " 'in',\n",
              " 'a',\n",
              " 'fixed',\n",
              " 'fight',\n",
              " 'with',\n",
              " 'thunderlips',\n",
              " '(',\n",
              " 'hulk',\n",
              " 'hogan',\n",
              " ')',\n",
              " '.',\n",
              " 'a',\n",
              " 'mysterious',\n",
              " 'bad',\n",
              " '-',\n",
              " 'ass',\n",
              " 'known',\n",
              " 'as',\n",
              " 'clubber',\n",
              " 'lang',\n",
              " '(',\n",
              " 'mr',\n",
              " '.',\n",
              " 't',\n",
              " ')',\n",
              " 'trash',\n",
              " '-',\n",
              " 'talks',\n",
              " 'to',\n",
              " 'rocky',\n",
              " 'about',\n",
              " 'his',\n",
              " 'stupid',\n",
              " 'decision',\n",
              " 'to',\n",
              " 'retire',\n",
              " 'from',\n",
              " 'boxing',\n",
              " 'and',\n",
              " 'that',\n",
              " 'he',\n",
              " '\"',\n",
              " 'pities',\n",
              " 'the',\n",
              " 'fool',\n",
              " '\"',\n",
              " 'for',\n",
              " 'not',\n",
              " 'coming',\n",
              " 'out',\n",
              " 'and',\n",
              " 'fighting',\n",
              " 'him',\n",
              " 'outright',\n",
              " '.',\n",
              " 'rocky',\n",
              " \"'\",\n",
              " 's',\n",
              " 'trainer',\n",
              " '(',\n",
              " 'burgess',\n",
              " 'meredith',\n",
              " ')',\n",
              " 'tells',\n",
              " 'rocky',\n",
              " 'not',\n",
              " 'to',\n",
              " 'fight',\n",
              " ',',\n",
              " 'but',\n",
              " 'the',\n",
              " 'italian',\n",
              " 'stallion',\n",
              " 'doesn',\n",
              " \"'\",\n",
              " 't',\n",
              " 'listen',\n",
              " '.',\n",
              " 'naturally',\n",
              " ',',\n",
              " 'he',\n",
              " 'gets',\n",
              " 'his',\n",
              " 'ass',\n",
              " 'kicked',\n",
              " '.',\n",
              " 'somewhere',\n",
              " 'along',\n",
              " 'the',\n",
              " 'line',\n",
              " 'after',\n",
              " 'this',\n",
              " 'several',\n",
              " 'things',\n",
              " 'happen',\n",
              " '.',\n",
              " 'rocky',\n",
              " \"'\",\n",
              " 's',\n",
              " 'longtime',\n",
              " 'trainer',\n",
              " 'dies',\n",
              " ',',\n",
              " 'causing',\n",
              " 'rocky',\n",
              " 'to',\n",
              " 'train',\n",
              " 'with',\n",
              " 'his',\n",
              " 'former',\n",
              " 'opponent',\n",
              " 'apollo',\n",
              " 'creed',\n",
              " '.',\n",
              " 'rocky',\n",
              " \"'\",\n",
              " 's',\n",
              " 'wife',\n",
              " 'complains',\n",
              " 'to',\n",
              " 'her',\n",
              " 'husband',\n",
              " 'that',\n",
              " 'he',\n",
              " 'should',\n",
              " 'fight',\n",
              " '.',\n",
              " 'the',\n",
              " 'final',\n",
              " 'fight',\n",
              " 'ensues',\n",
              " 'between',\n",
              " 'clubber',\n",
              " 'and',\n",
              " 'rocky',\n",
              " '.',\n",
              " 'guess',\n",
              " 'who',\n",
              " 'wins',\n",
              " '?',\n",
              " 'the',\n",
              " 'winner',\n",
              " \"'\",\n",
              " 's',\n",
              " 'name',\n",
              " 'rhymes',\n",
              " 'with',\n",
              " \"'\",\n",
              " 'smocky',\n",
              " \"'\",\n",
              " '.',\n",
              " 'the',\n",
              " 'movie',\n",
              " 'is',\n",
              " 'entertaning',\n",
              " 'mainly',\n",
              " 'because',\n",
              " 'of',\n",
              " 'clubber',\n",
              " 'lang',\n",
              " \"'\",\n",
              " 's',\n",
              " 'over',\n",
              " 'the',\n",
              " 'top',\n",
              " 'performance',\n",
              " '.',\n",
              " 'the',\n",
              " 'dramatic',\n",
              " 'aspect',\n",
              " 'has',\n",
              " 'been',\n",
              " 'toned',\n",
              " 'down',\n",
              " 'considerably',\n",
              " 'since',\n",
              " 'rocky',\n",
              " 'ii',\n",
              " 'and',\n",
              " 'now',\n",
              " 'action',\n",
              " 'seems',\n",
              " 'to',\n",
              " 'be',\n",
              " 'the',\n",
              " 'strong',\n",
              " 'point',\n",
              " 'of',\n",
              " 'the',\n",
              " 'film',\n",
              " '.',\n",
              " 'which',\n",
              " 'is',\n",
              " 'good',\n",
              " 'if',\n",
              " 'you',\n",
              " 'like',\n",
              " 'fighting',\n",
              " 'scenes',\n",
              " '.',\n",
              " 'the',\n",
              " 'last',\n",
              " 'match',\n",
              " 'is',\n",
              " 'quite',\n",
              " 'decent',\n",
              " 'actually',\n",
              " '.',\n",
              " 'if',\n",
              " 'you',\n",
              " 'liked',\n",
              " 'the',\n",
              " 'previous',\n",
              " 'films',\n",
              " ',',\n",
              " 'rent',\n",
              " 'this',\n",
              " 'one',\n",
              " '.',\n",
              " 'it',\n",
              " \"'\",\n",
              " 's',\n",
              " 'well',\n",
              " 'worth',\n",
              " 'seeing',\n",
              " 'if',\n",
              " 'you',\n",
              " 'are',\n",
              " 'a',\n",
              " 'fan',\n",
              " 'of',\n",
              " 'the',\n",
              " 'series',\n",
              " '.',\n",
              " 'but',\n",
              " 'if',\n",
              " 'you',\n",
              " 'can',\n",
              " \"'\",\n",
              " 't',\n",
              " 'stand',\n",
              " 'rocky',\n",
              " 'shouting',\n",
              " '\"',\n",
              " 'adrianne',\n",
              " '!',\n",
              " '!',\n",
              " '!',\n",
              " '\"',\n",
              " 'one',\n",
              " 'more',\n",
              " 'time',\n",
              " ',',\n",
              " 'see',\n",
              " 'something',\n",
              " 'else',\n",
              " '.']"
            ]
          },
          "execution_count": 52,
          "metadata": {},
          "output_type": "execute_result"
        }
      ],
      "source": [
        "documents[0][0]"
      ]
    },
    {
      "cell_type": "code",
      "execution_count": 53,
      "metadata": {
        "colab": {
          "base_uri": "https://localhost:8080/",
          "height": 35
        },
        "id": "fuQxgZxMbYLR",
        "outputId": "eedb0f8a-5672-41a8-9ff7-75b65438b248"
      },
      "outputs": [
        {
          "data": {
            "application/vnd.google.colaboratory.intrinsic+json": {
              "type": "string"
            },
            "text/plain": [
              "'pos'"
            ]
          },
          "execution_count": 53,
          "metadata": {},
          "output_type": "execute_result"
        }
      ],
      "source": [
        "documents[0][1]"
      ]
    },
    {
      "cell_type": "code",
      "execution_count": 54,
      "metadata": {
        "colab": {
          "base_uri": "https://localhost:8080/"
        },
        "id": "B-z3huY0b2qA",
        "outputId": "dc7f09d3-9b5e-448a-ee90-66b8c58a15d8"
      },
      "outputs": [
        {
          "name": "stdout",
          "output_type": "stream",
          "text": [
            "Counter({'pos': 1000, 'neg': 1000})\n"
          ]
        }
      ],
      "source": [
        "from collections import Counter\n",
        "sentiment_distr = Counter([label for (words, label) in documents])\n",
        "print(sentiment_distr)"
      ]
    },
    {
      "cell_type": "markdown",
      "metadata": {
        "id": "nPVY8WcjcFB6"
      },
      "source": [
        "## Cleaning Data"
      ]
    },
    {
      "cell_type": "code",
      "execution_count": 55,
      "metadata": {
        "id": "X0m6pWV6cvlb"
      },
      "outputs": [],
      "source": [
        "def clean_tokens(tokens):\n",
        "    return remove_not_alphanumeric(remove_stopwords(tokens))\n",
        "\n",
        "def remove_not_alphanumeric(tokens):\n",
        "  return  [token for token in tokens if token.isalnum()]\n",
        "\n",
        "\n",
        "def remove_stopwords(tokens):\n",
        "    stop_words = set(stopwords.words(\"english\"))\n",
        "    filtered_tokens = [token for token in tokens if token.lower() not in stop_words]\n",
        "    return filtered_tokens\n"
      ]
    },
    {
      "cell_type": "code",
      "execution_count": 56,
      "metadata": {
        "id": "3-SG0Sydb7JN"
      },
      "outputs": [],
      "source": [
        "clean_documents =[]\n",
        "for document in documents:\n",
        "  clean_documents.append((clean_tokens(document[0]),document[1]))"
      ]
    },
    {
      "cell_type": "code",
      "execution_count": 57,
      "metadata": {
        "colab": {
          "base_uri": "https://localhost:8080/"
        },
        "id": "2RLfUH0Ud2NQ",
        "outputId": "4d4a2584-8740-464e-e401-f1b24ecb8082"
      },
      "outputs": [
        {
          "data": {
            "text/plain": [
              "['movies',\n",
              " 'seem',\n",
              " 'release',\n",
              " 'third',\n",
              " 'movie',\n",
              " 'called',\n",
              " 'trilogy',\n",
              " 'rocky',\n",
              " 'iii',\n",
              " 'seems',\n",
              " 'kind',\n",
              " 'fit',\n",
              " 'category',\n",
              " 'manages',\n",
              " 'slightly',\n",
              " 'unique',\n",
              " 'rocky',\n",
              " 'formula',\n",
              " 'rocky',\n",
              " 'loses',\n",
              " 'fight',\n",
              " 'rocky',\n",
              " 'trains',\n",
              " 'rocky',\n",
              " 'wins',\n",
              " 'fight',\n",
              " 'carried',\n",
              " 'letter',\n",
              " 'also',\n",
              " 'tradition',\n",
              " 'showing',\n",
              " 'last',\n",
              " 'five',\n",
              " 'minutes',\n",
              " 'past',\n",
              " 'rocky',\n",
              " 'film',\n",
              " 'used',\n",
              " 'well',\n",
              " 'movie',\n",
              " 'begins',\n",
              " 'series',\n",
              " 'clips',\n",
              " 'showing',\n",
              " 'famous',\n",
              " 'rocky',\n",
              " 'sylvester',\n",
              " 'stallone',\n",
              " 'become',\n",
              " 'even',\n",
              " 'showing',\n",
              " 'brief',\n",
              " 'appearance',\n",
              " 'sesame',\n",
              " 'street',\n",
              " 'moves',\n",
              " 'rocky',\n",
              " 'fixed',\n",
              " 'fight',\n",
              " 'thunderlips',\n",
              " 'hulk',\n",
              " 'hogan',\n",
              " 'mysterious',\n",
              " 'bad',\n",
              " 'ass',\n",
              " 'known',\n",
              " 'clubber',\n",
              " 'lang',\n",
              " 'mr',\n",
              " 'trash',\n",
              " 'talks',\n",
              " 'rocky',\n",
              " 'stupid',\n",
              " 'decision',\n",
              " 'retire',\n",
              " 'boxing',\n",
              " 'pities',\n",
              " 'fool',\n",
              " 'coming',\n",
              " 'fighting',\n",
              " 'outright',\n",
              " 'rocky',\n",
              " 'trainer',\n",
              " 'burgess',\n",
              " 'meredith',\n",
              " 'tells',\n",
              " 'rocky',\n",
              " 'fight',\n",
              " 'italian',\n",
              " 'stallion',\n",
              " 'listen',\n",
              " 'naturally',\n",
              " 'gets',\n",
              " 'ass',\n",
              " 'kicked',\n",
              " 'somewhere',\n",
              " 'along',\n",
              " 'line',\n",
              " 'several',\n",
              " 'things',\n",
              " 'happen',\n",
              " 'rocky',\n",
              " 'longtime',\n",
              " 'trainer',\n",
              " 'dies',\n",
              " 'causing',\n",
              " 'rocky',\n",
              " 'train',\n",
              " 'former',\n",
              " 'opponent',\n",
              " 'apollo',\n",
              " 'creed',\n",
              " 'rocky',\n",
              " 'wife',\n",
              " 'complains',\n",
              " 'husband',\n",
              " 'fight',\n",
              " 'final',\n",
              " 'fight',\n",
              " 'ensues',\n",
              " 'clubber',\n",
              " 'rocky',\n",
              " 'guess',\n",
              " 'wins',\n",
              " 'winner',\n",
              " 'name',\n",
              " 'rhymes',\n",
              " 'smocky',\n",
              " 'movie',\n",
              " 'entertaning',\n",
              " 'mainly',\n",
              " 'clubber',\n",
              " 'lang',\n",
              " 'top',\n",
              " 'performance',\n",
              " 'dramatic',\n",
              " 'aspect',\n",
              " 'toned',\n",
              " 'considerably',\n",
              " 'since',\n",
              " 'rocky',\n",
              " 'ii',\n",
              " 'action',\n",
              " 'seems',\n",
              " 'strong',\n",
              " 'point',\n",
              " 'film',\n",
              " 'good',\n",
              " 'like',\n",
              " 'fighting',\n",
              " 'scenes',\n",
              " 'last',\n",
              " 'match',\n",
              " 'quite',\n",
              " 'decent',\n",
              " 'actually',\n",
              " 'liked',\n",
              " 'previous',\n",
              " 'films',\n",
              " 'rent',\n",
              " 'one',\n",
              " 'well',\n",
              " 'worth',\n",
              " 'seeing',\n",
              " 'fan',\n",
              " 'series',\n",
              " 'stand',\n",
              " 'rocky',\n",
              " 'shouting',\n",
              " 'adrianne',\n",
              " 'one',\n",
              " 'time',\n",
              " 'see',\n",
              " 'something',\n",
              " 'else']"
            ]
          },
          "execution_count": 57,
          "metadata": {},
          "output_type": "execute_result"
        }
      ],
      "source": [
        "clean_documents[0][0]"
      ]
    },
    {
      "cell_type": "markdown",
      "metadata": {
        "id": "t2L_6AQhfEEA"
      },
      "source": [
        "## Text Processing"
      ]
    },
    {
      "cell_type": "code",
      "execution_count": 15,
      "metadata": {
        "id": "eVAn4g12d6lu"
      },
      "outputs": [
        {
          "name": "stderr",
          "output_type": "stream",
          "text": [
            "[nltk_data] Downloading package wordnet to\n",
            "[nltk_data]     /Users/fernankiwi/nltk_data...\n",
            "[nltk_data]   Package wordnet is already up-to-date!\n"
          ]
        }
      ],
      "source": [
        "import nltk\n",
        "from nltk.corpus import wordnet as wn\n",
        "from nltk.stem import PorterStemmer\n",
        "from nltk.stem import WordNetLemmatizer\n",
        "\n",
        "nltk.download('wordnet')\n",
        "\n",
        "lemmatizer = WordNetLemmatizer()\n",
        "ps = PorterStemmer()\n",
        "\n",
        "def word_lematizer(tokens):\n",
        "  roots=[]\n",
        "  for token in tokens:\n",
        "      # lemma = lemmatizer.lemmatize(token, pos='n')\n",
        "      lemma = wn._morphy(token, \"n\")\n",
        "      if lemma:\n",
        "        roots.append(min(lemma, key=len))\n",
        "      else:\n",
        "        roots.append(ps.stem(token))\n",
        "  return roots"
      ]
    },
    {
      "cell_type": "code",
      "execution_count": 21,
      "metadata": {},
      "outputs": [
        {
          "name": "stderr",
          "output_type": "stream",
          "text": [
            "[nltk_data] Downloading package wordnet to\n",
            "[nltk_data]     /Users/fernankiwi/nltk_data...\n",
            "[nltk_data]   Package wordnet is already up-to-date!\n"
          ]
        }
      ],
      "source": [
        "import nltk\n",
        "from nltk.corpus import wordnet as wn\n",
        "from nltk.stem import PorterStemmer\n",
        "from nltk.stem import WordNetLemmatizer\n",
        "\n",
        "nltk.download('wordnet')\n",
        "\n",
        "ps = PorterStemmer()\n",
        "wordNetLemmatizer = WordNetLemmatizer()\n",
        "\n",
        "def word_lematizer(tokens):\n",
        "  roots=[]\n",
        "  for token in tokens:\n",
        "      lemma = wn._morphy(token, \"n\")\n",
        "      # lemma = wordNetLemmatizer.lemmatize(token, pos='a')\n",
        "      if lemma:\n",
        "        roots.append(min(lemma, key=len))\n",
        "      else:\n",
        "        roots.append(ps.stem(token))\n",
        "  return roots"
      ]
    },
    {
      "cell_type": "code",
      "execution_count": 26,
      "metadata": {},
      "outputs": [
        {
          "name": "stdout",
          "output_type": "stream",
          "text": [
            "['future', 'future', 'economic', 'playful', 'play', 'technology', 'skill', 'knowledge', 'education']\n"
          ]
        }
      ],
      "source": [
        "import spacy\n",
        "\n",
        "# Load the English language model\n",
        "nlp = spacy.load(\"en_core_web_lg\")\n",
        "\n",
        "def spacy_lemmatizer(tokens):\n",
        "    lemmas = []\n",
        "    for token in tokens:\n",
        "        doc = nlp(token)\n",
        "        lemmas.append(doc[0].lemma_)  # Access the lemma of the first token in the document\n",
        "    return lemmas\n",
        "\n",
        "# Example usage\n",
        "result = spacy_lemmatizer([\"futures\", \"Futures\", \"Economic\", \"playful\", \"played\", \"technologies\", \"skills\", \"knowledge\", \"education\"])\n",
        "print(result)"
      ]
    },
    {
      "cell_type": "code",
      "execution_count": 27,
      "metadata": {},
      "outputs": [
        {
          "name": "stdout",
          "output_type": "stream",
          "text": [
            "['!', '\"', '#', '$', '%', '&', '(', ')', '*', '+', ',', '-', '.', '/', ':', ';', '<', '=', '>', '?', '@', '[', '\\\\', ']', '^', '_', '`', '{', '|', '}', '~', ' ', '\\t', '\\n', '\\r', '\\x0b', '\\x0c']\n"
          ]
        }
      ],
      "source": [
        "import string\n",
        "\n",
        "# All ASCII characters\n",
        "all_ascii_characters = string.printable\n",
        "\n",
        "# Exclude (words, letters, apostrophes, commas)\n",
        "exclude_characters = string.ascii_letters + string.digits + \"'\" + \",\"\n",
        "non_word_ascii_characters = [char for char in all_ascii_characters if char not in exclude_characters]"
      ]
    },
    {
      "cell_type": "code",
      "execution_count": 23,
      "metadata": {
        "colab": {
          "base_uri": "https://localhost:8080/"
        },
        "id": "spibbaRCf2tb",
        "outputId": "024d12d2-7d40-46ca-b924-c614f5bcb85c"
      },
      "outputs": [
        {
          "data": {
            "text/plain": [
              "['future',\n",
              " 'economics',\n",
              " 'futur',\n",
              " 'econom',\n",
              " 'play',\n",
              " 'play',\n",
              " 'play',\n",
              " 'play',\n",
              " 'playing',\n",
              " 'running',\n",
              " 'gallout']"
            ]
          },
          "execution_count": 23,
          "metadata": {},
          "output_type": "execute_result"
        }
      ],
      "source": [
        "word_lematizer([\"futures\", \"economics\", \"Futures\",\"Economic\",\"play\",\"played\", \"plays\", \"playful\", \"playing\", \"running\",\"gallouter\"])"
      ]
    },
    {
      "cell_type": "code",
      "execution_count": 60,
      "metadata": {
        "id": "Krci85R9gekG"
      },
      "outputs": [],
      "source": [
        "roots_documents =[]\n",
        "for document in clean_documents:\n",
        "  roots_documents.append((word_lematizer(document[0]),document[1]))"
      ]
    },
    {
      "cell_type": "code",
      "execution_count": 61,
      "metadata": {
        "colab": {
          "base_uri": "https://localhost:8080/"
        },
        "id": "7hSo9KPijNHr",
        "outputId": "42e0f640-d10e-4fe9-990a-f49e3eb641fc"
      },
      "outputs": [
        {
          "data": {
            "text/plain": [
              "['movie',\n",
              " 'seem',\n",
              " 'release',\n",
              " 'third',\n",
              " 'movie',\n",
              " 'call',\n",
              " 'trilogy',\n",
              " 'rocki',\n",
              " 'iii',\n",
              " 'seem',\n",
              " 'kind',\n",
              " 'fit',\n",
              " 'category',\n",
              " 'manag',\n",
              " 'slightli',\n",
              " 'uniqu',\n",
              " 'rocki',\n",
              " 'formula',\n",
              " 'rocki',\n",
              " 'lose',\n",
              " 'fight',\n",
              " 'rocki',\n",
              " 'train',\n",
              " 'rocki',\n",
              " 'win',\n",
              " 'fight',\n",
              " 'carri',\n",
              " 'letter',\n",
              " 'also',\n",
              " 'tradition',\n",
              " 'showing',\n",
              " 'last',\n",
              " 'five',\n",
              " 'minute',\n",
              " 'past',\n",
              " 'rocki',\n",
              " 'film',\n",
              " 'use',\n",
              " 'well',\n",
              " 'movie',\n",
              " 'begin',\n",
              " 'series',\n",
              " 'clip',\n",
              " 'showing',\n",
              " 'famou',\n",
              " 'rocki',\n",
              " 'sylvest',\n",
              " 'stallon',\n",
              " 'becom',\n",
              " 'even',\n",
              " 'showing',\n",
              " 'brief',\n",
              " 'appearance',\n",
              " 'sesame',\n",
              " 'street',\n",
              " 'move',\n",
              " 'rocki',\n",
              " 'fix',\n",
              " 'fight',\n",
              " 'thunderlip',\n",
              " 'hulk',\n",
              " 'hogan',\n",
              " 'mysteri',\n",
              " 'bad',\n",
              " 'as',\n",
              " 'known',\n",
              " 'clubber',\n",
              " 'lang',\n",
              " 'mr',\n",
              " 'trash',\n",
              " 'talk',\n",
              " 'rocki',\n",
              " 'stupid',\n",
              " 'decision',\n",
              " 'retir',\n",
              " 'boxing',\n",
              " 'pity',\n",
              " 'fool',\n",
              " 'coming',\n",
              " 'fighting',\n",
              " 'outright',\n",
              " 'rocki',\n",
              " 'trainer',\n",
              " 'burgess',\n",
              " 'meredith',\n",
              " 'tell',\n",
              " 'rocki',\n",
              " 'fight',\n",
              " 'italian',\n",
              " 'stallion',\n",
              " 'listen',\n",
              " 'natur',\n",
              " 'get',\n",
              " 'as',\n",
              " 'kick',\n",
              " 'somewhere',\n",
              " 'along',\n",
              " 'line',\n",
              " 'sever',\n",
              " 'thing',\n",
              " 'happen',\n",
              " 'rocki',\n",
              " 'longtim',\n",
              " 'trainer',\n",
              " 'dy',\n",
              " 'causing',\n",
              " 'rocki',\n",
              " 'train',\n",
              " 'former',\n",
              " 'opponent',\n",
              " 'apollo',\n",
              " 'creed',\n",
              " 'rocki',\n",
              " 'wife',\n",
              " 'complain',\n",
              " 'husband',\n",
              " 'fight',\n",
              " 'final',\n",
              " 'fight',\n",
              " 'ensu',\n",
              " 'clubber',\n",
              " 'rocki',\n",
              " 'guess',\n",
              " 'win',\n",
              " 'winner',\n",
              " 'name',\n",
              " 'rhyme',\n",
              " 'smocki',\n",
              " 'movie',\n",
              " 'entertan',\n",
              " 'mainli',\n",
              " 'clubber',\n",
              " 'lang',\n",
              " 'top',\n",
              " 'performance',\n",
              " 'dramat',\n",
              " 'aspect',\n",
              " 'tone',\n",
              " 'consider',\n",
              " 'sinc',\n",
              " 'rocki',\n",
              " 'ii',\n",
              " 'action',\n",
              " 'seem',\n",
              " 'strong',\n",
              " 'point',\n",
              " 'film',\n",
              " 'good',\n",
              " 'like',\n",
              " 'fighting',\n",
              " 'scene',\n",
              " 'last',\n",
              " 'match',\n",
              " 'quit',\n",
              " 'decent',\n",
              " 'actual',\n",
              " 'like',\n",
              " 'previou',\n",
              " 'film',\n",
              " 'rent',\n",
              " 'one',\n",
              " 'well',\n",
              " 'worth',\n",
              " 'seeing',\n",
              " 'fan',\n",
              " 'series',\n",
              " 'stand',\n",
              " 'rocki',\n",
              " 'shouting',\n",
              " 'adriann',\n",
              " 'one',\n",
              " 'time',\n",
              " 'see',\n",
              " 'someth',\n",
              " 'els']"
            ]
          },
          "execution_count": 61,
          "metadata": {},
          "output_type": "execute_result"
        }
      ],
      "source": [
        "roots_documents[0][0]"
      ]
    },
    {
      "cell_type": "markdown",
      "metadata": {
        "id": "a-Juu5IQjeAk"
      },
      "source": [
        "## Vectorization BoW"
      ]
    },
    {
      "cell_type": "code",
      "execution_count": 62,
      "metadata": {
        "colab": {
          "base_uri": "https://localhost:8080/"
        },
        "id": "d35S3ggAjgG9",
        "outputId": "7e8b0636-6c18-4683-efc8-99a926de5978"
      },
      "outputs": [
        {
          "name": "stdout",
          "output_type": "stream",
          "text": [
            "Counter({'neg': 674, 'pos': 666})\n",
            "Counter({'pos': 334, 'neg': 326})\n"
          ]
        }
      ],
      "source": [
        "from sklearn.model_selection import train_test_split\n",
        "train, test = train_test_split(roots_documents, test_size = 0.33, random_state=42)\n",
        "print(Counter([label for (words, label) in train]))\n",
        "print(Counter([label for (words, label) in test]))"
      ]
    },
    {
      "cell_type": "code",
      "execution_count": 63,
      "metadata": {
        "id": "7mgYIQpTjkC1"
      },
      "outputs": [],
      "source": [
        "X_train = [' '.join(words) for (words, label) in train]\n",
        "X_test = [' '.join(words) for (words, label) in test]\n",
        "y_train = [label for (words, label) in train]\n",
        "y_test = [label for (words, label) in test]"
      ]
    },
    {
      "cell_type": "code",
      "execution_count": 64,
      "metadata": {
        "colab": {
          "base_uri": "https://localhost:8080/"
        },
        "id": "waurJg7OjsBD",
        "outputId": "b5383da9-f109-464f-fbc0-d0bd50401b55"
      },
      "outputs": [
        {
          "data": {
            "text/plain": [
              "array(['00', '000', '007', ..., 'zweibel', 'zwick', 'zzzzzzz'],\n",
              "      dtype=object)"
            ]
          },
          "execution_count": 64,
          "metadata": {},
          "output_type": "execute_result"
        }
      ],
      "source": [
        "from sklearn.feature_extraction.text import CountVectorizer\n",
        "vectorizer = CountVectorizer()\n",
        "X_train_bow = vectorizer.fit_transform(X_train)\n",
        "vectorizer.get_feature_names_out()"
      ]
    },
    {
      "cell_type": "code",
      "execution_count": 65,
      "metadata": {
        "colab": {
          "base_uri": "https://localhost:8080/"
        },
        "id": "pd_rXP1ekFdH",
        "outputId": "aeb7c325-8994-4001-8d12-40c9126559b1"
      },
      "outputs": [
        {
          "data": {
            "text/plain": [
              "array([0, 0, 0, ..., 0, 0, 0])"
            ]
          },
          "execution_count": 65,
          "metadata": {},
          "output_type": "execute_result"
        }
      ],
      "source": [
        "X_train_bow.toarray()[0]"
      ]
    },
    {
      "cell_type": "markdown",
      "metadata": {
        "id": "UbkvGAEllwRj"
      },
      "source": [
        "## Using an ML model"
      ]
    },
    {
      "cell_type": "code",
      "execution_count": 66,
      "metadata": {
        "colab": {
          "base_uri": "https://localhost:8080/",
          "height": 75
        },
        "id": "tR-AgW90kt54",
        "outputId": "51cdf890-457b-4faa-dca0-e0369d3284cd"
      },
      "outputs": [
        {
          "data": {
            "text/html": [
              "<style>#sk-container-id-2 {color: black;background-color: white;}#sk-container-id-2 pre{padding: 0;}#sk-container-id-2 div.sk-toggleable {background-color: white;}#sk-container-id-2 label.sk-toggleable__label {cursor: pointer;display: block;width: 100%;margin-bottom: 0;padding: 0.3em;box-sizing: border-box;text-align: center;}#sk-container-id-2 label.sk-toggleable__label-arrow:before {content: \"▸\";float: left;margin-right: 0.25em;color: #696969;}#sk-container-id-2 label.sk-toggleable__label-arrow:hover:before {color: black;}#sk-container-id-2 div.sk-estimator:hover label.sk-toggleable__label-arrow:before {color: black;}#sk-container-id-2 div.sk-toggleable__content {max-height: 0;max-width: 0;overflow: hidden;text-align: left;background-color: #f0f8ff;}#sk-container-id-2 div.sk-toggleable__content pre {margin: 0.2em;color: black;border-radius: 0.25em;background-color: #f0f8ff;}#sk-container-id-2 input.sk-toggleable__control:checked~div.sk-toggleable__content {max-height: 200px;max-width: 100%;overflow: auto;}#sk-container-id-2 input.sk-toggleable__control:checked~label.sk-toggleable__label-arrow:before {content: \"▾\";}#sk-container-id-2 div.sk-estimator input.sk-toggleable__control:checked~label.sk-toggleable__label {background-color: #d4ebff;}#sk-container-id-2 div.sk-label input.sk-toggleable__control:checked~label.sk-toggleable__label {background-color: #d4ebff;}#sk-container-id-2 input.sk-hidden--visually {border: 0;clip: rect(1px 1px 1px 1px);clip: rect(1px, 1px, 1px, 1px);height: 1px;margin: -1px;overflow: hidden;padding: 0;position: absolute;width: 1px;}#sk-container-id-2 div.sk-estimator {font-family: monospace;background-color: #f0f8ff;border: 1px dotted black;border-radius: 0.25em;box-sizing: border-box;margin-bottom: 0.5em;}#sk-container-id-2 div.sk-estimator:hover {background-color: #d4ebff;}#sk-container-id-2 div.sk-parallel-item::after {content: \"\";width: 100%;border-bottom: 1px solid gray;flex-grow: 1;}#sk-container-id-2 div.sk-label:hover label.sk-toggleable__label {background-color: #d4ebff;}#sk-container-id-2 div.sk-serial::before {content: \"\";position: absolute;border-left: 1px solid gray;box-sizing: border-box;top: 0;bottom: 0;left: 50%;z-index: 0;}#sk-container-id-2 div.sk-serial {display: flex;flex-direction: column;align-items: center;background-color: white;padding-right: 0.2em;padding-left: 0.2em;position: relative;}#sk-container-id-2 div.sk-item {position: relative;z-index: 1;}#sk-container-id-2 div.sk-parallel {display: flex;align-items: stretch;justify-content: center;background-color: white;position: relative;}#sk-container-id-2 div.sk-item::before, #sk-container-id-2 div.sk-parallel-item::before {content: \"\";position: absolute;border-left: 1px solid gray;box-sizing: border-box;top: 0;bottom: 0;left: 50%;z-index: -1;}#sk-container-id-2 div.sk-parallel-item {display: flex;flex-direction: column;z-index: 1;position: relative;background-color: white;}#sk-container-id-2 div.sk-parallel-item:first-child::after {align-self: flex-end;width: 50%;}#sk-container-id-2 div.sk-parallel-item:last-child::after {align-self: flex-start;width: 50%;}#sk-container-id-2 div.sk-parallel-item:only-child::after {width: 0;}#sk-container-id-2 div.sk-dashed-wrapped {border: 1px dashed gray;margin: 0 0.4em 0.5em 0.4em;box-sizing: border-box;padding-bottom: 0.4em;background-color: white;}#sk-container-id-2 div.sk-label label {font-family: monospace;font-weight: bold;display: inline-block;line-height: 1.2em;}#sk-container-id-2 div.sk-label-container {text-align: center;}#sk-container-id-2 div.sk-container {/* jupyter's `normalize.less` sets `[hidden] { display: none; }` but bootstrap.min.css set `[hidden] { display: none !important; }` so we also need the `!important` here to be able to override the default hidden behavior on the sphinx rendered scikit-learn.org. See: https://github.com/scikit-learn/scikit-learn/issues/21755 */display: inline-block !important;position: relative;}#sk-container-id-2 div.sk-text-repr-fallback {display: none;}</style><div id=\"sk-container-id-2\" class=\"sk-top-container\"><div class=\"sk-text-repr-fallback\"><pre>SVC(C=8.0, kernel=&#x27;linear&#x27;)</pre><b>In a Jupyter environment, please rerun this cell to show the HTML representation or trust the notebook. <br />On GitHub, the HTML representation is unable to render, please try loading this page with nbviewer.org.</b></div><div class=\"sk-container\" hidden><div class=\"sk-item\"><div class=\"sk-estimator sk-toggleable\"><input class=\"sk-toggleable__control sk-hidden--visually\" id=\"sk-estimator-id-2\" type=\"checkbox\" checked><label for=\"sk-estimator-id-2\" class=\"sk-toggleable__label sk-toggleable__label-arrow\">SVC</label><div class=\"sk-toggleable__content\"><pre>SVC(C=8.0, kernel=&#x27;linear&#x27;)</pre></div></div></div></div></div>"
            ],
            "text/plain": [
              "SVC(C=8.0, kernel='linear')"
            ]
          },
          "execution_count": 66,
          "metadata": {},
          "output_type": "execute_result"
        }
      ],
      "source": [
        "from sklearn import svm\n",
        "\n",
        "model_svm = svm.SVC(C=8.0, kernel='linear')\n",
        "model_svm.fit(X_train_bow, y_train)"
      ]
    },
    {
      "cell_type": "code",
      "execution_count": 67,
      "metadata": {
        "id": "e1gqZ3PwlNAv"
      },
      "outputs": [],
      "source": [
        "X_test_bow= vectorizer.transform(X_test)"
      ]
    },
    {
      "cell_type": "code",
      "execution_count": 68,
      "metadata": {
        "colab": {
          "base_uri": "https://localhost:8080/"
        },
        "id": "_qF8siZ0lcYe",
        "outputId": "8f29372c-ede6-4c15-f3b6-e974719233d8"
      },
      "outputs": [
        {
          "data": {
            "text/plain": [
              "array(['pos', 'neg', 'neg', 'neg', 'neg', 'neg', 'neg', 'pos', 'neg',\n",
              "       'pos'], dtype='<U3')"
            ]
          },
          "execution_count": 68,
          "metadata": {},
          "output_type": "execute_result"
        }
      ],
      "source": [
        "model_svm.predict(X_test_bow[:10])"
      ]
    },
    {
      "cell_type": "code",
      "execution_count": 69,
      "metadata": {
        "colab": {
          "base_uri": "https://localhost:8080/"
        },
        "id": "XYIL4sX6lftx",
        "outputId": "fe92ca76-4fac-40ef-abe9-c3b160cc6540"
      },
      "outputs": [
        {
          "name": "stdout",
          "output_type": "stream",
          "text": [
            "0.8212121212121212\n"
          ]
        }
      ],
      "source": [
        "print(model_svm.score(X_test_bow, y_test))"
      ]
    },
    {
      "cell_type": "code",
      "execution_count": 70,
      "metadata": {
        "colab": {
          "base_uri": "https://localhost:8080/",
          "height": 469
        },
        "id": "9AAMtlFcljfL",
        "outputId": "551dc25b-1306-443e-c4c4-ff7e8bdc3aca"
      },
      "outputs": [
        {
          "data": {
            "text/plain": [
              "<sklearn.metrics._plot.confusion_matrix.ConfusionMatrixDisplay at 0x7f74528b7730>"
            ]
          },
          "execution_count": 70,
          "metadata": {},
          "output_type": "execute_result"
        },
        {
          "data": {
            "image/png": "[encoded data removed]",
            "text/plain": [
              "<Figure size 640x480 with 2 Axes>"
            ]
          },
          "metadata": {},
          "output_type": "display_data"
        }
      ],
      "source": [
        "from sklearn.metrics import ConfusionMatrixDisplay\n",
        "\n",
        "ConfusionMatrixDisplay.from_estimator(model_svm, X_test_bow, y_test)"
      ]
    },
    {
      "cell_type": "markdown",
      "metadata": {
        "id": "7T__hdeEmbib"
      },
      "source": [
        "## Lets try it"
      ]
    },
    {
      "cell_type": "code",
      "execution_count": 73,
      "metadata": {
        "colab": {
          "base_uri": "https://localhost:8080/"
        },
        "id": "EmbqnpS3mHjL",
        "outputId": "a60dcd0d-c0ec-45b7-cb71-473f0a85692f"
      },
      "outputs": [
        {
          "data": {
            "text/plain": [
              "array(['neg'], dtype='<U3')"
            ]
          },
          "execution_count": 73,
          "metadata": {},
          "output_type": "execute_result"
        }
      ],
      "source": [
        "from nltk.tokenize import word_tokenize\n",
        "n = '''I really dont like this movie, cast is terrible and most of the plot is boring '''\n",
        "tokens = word_tokenize(n)\n",
        "tokens =clean_tokens(tokens)\n",
        "lemmas = word_lematizer(tokens)\n",
        "vector = vectorizer.transform([\" \".join(lemmas)])\n",
        "model_svm.predict(vector)"
      ]
    }
  ],
  "metadata": {
    "colab": {
      "provenance": []
    },
    "kernelspec": {
      "display_name": "Python 3",
      "name": "python3"
    },
    "language_info": {
      "codemirror_mode": {
        "name": "ipython",
        "version": 3
      },
      "file_extension": ".py",
      "mimetype": "text/x-python",
      "name": "python",
      "nbconvert_exporter": "python",
      "pygments_lexer": "ipython3",
      "version": "3.11.0"
    }
  },
  "nbformat": 4,
  "nbformat_minor": 0
}
