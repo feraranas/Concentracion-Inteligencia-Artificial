{
  "cells": [
    {
      "cell_type": "markdown",
      "metadata": {
        "id": "MUXex9ctTuDB"
      },
      "source": [
        "## Setup packages\n",
        "\n",
        "Intall locally elasticsearch or create an account in bonsai.io\n",
        "\n",
        "The `elasticsearch` cluster  utilized in this notebook  for preparing and storing the data within elasticsearch indices for demonstration purposes only. In real-world production clusters with numerous nodes, the cluster might be receiving the data from connectors like logstash etc.\n",
        "\n"
      ]
    },
    {
      "cell_type": "markdown",
      "metadata": {
        "id": "upgCc3gXybsA"
      },
      "source": [
        "### Install the required elasticsearch packages"
      ]
    },
    {
      "cell_type": "code",
      "execution_count": null,
      "metadata": {
        "colab": {
          "base_uri": "https://localhost:8080/"
        },
        "id": "48B9eAMMhAgw",
        "outputId": "303b0b70-4c8b-4833-b39e-67466b3cf3b0"
      },
      "outputs": [
        {
          "output_type": "stream",
          "name": "stdout",
          "text": [
            "Collecting elasticsearch==7.10.1\n",
            "  Downloading elasticsearch-7.10.1-py2.py3-none-any.whl (322 kB)\n",
            "\u001b[2K     \u001b[90m━━━━━━━━━━━━━━━━━━━━━━━━━━━━━━━━━━━━━━━━\u001b[0m \u001b[32m322.1/322.1 kB\u001b[0m \u001b[31m5.4 MB/s\u001b[0m eta \u001b[36m0:00:00\u001b[0m\n",
            "\u001b[?25hCollecting urllib3<2,>=1.21.1 (from elasticsearch==7.10.1)\n",
            "  Downloading urllib3-1.26.18-py2.py3-none-any.whl (143 kB)\n",
            "\u001b[2K     \u001b[90m━━━━━━━━━━━━━━━━━━━━━━━━━━━━━━━━━━━━━━━━\u001b[0m \u001b[32m143.8/143.8 kB\u001b[0m \u001b[31m9.6 MB/s\u001b[0m eta \u001b[36m0:00:00\u001b[0m\n",
            "\u001b[?25hRequirement already satisfied: certifi in /usr/local/lib/python3.10/dist-packages (from elasticsearch==7.10.1) (2023.7.22)\n",
            "Installing collected packages: urllib3, elasticsearch\n",
            "  Attempting uninstall: urllib3\n",
            "    Found existing installation: urllib3 2.0.7\n",
            "    Uninstalling urllib3-2.0.7:\n",
            "      Successfully uninstalled urllib3-2.0.7\n",
            "Successfully installed elasticsearch-7.10.1 urllib3-1.26.18\n",
            "Requirement already satisfied: tensorflow in /usr/local/lib/python3.10/dist-packages (2.13.0)\n",
            "Requirement already satisfied: absl-py>=1.0.0 in /usr/local/lib/python3.10/dist-packages (from tensorflow) (1.4.0)\n",
            "Requirement already satisfied: astunparse>=1.6.0 in /usr/local/lib/python3.10/dist-packages (from tensorflow) (1.6.3)\n",
            "Requirement already satisfied: flatbuffers>=23.1.21 in /usr/local/lib/python3.10/dist-packages (from tensorflow) (23.5.26)\n",
            "Requirement already satisfied: gast<=0.4.0,>=0.2.1 in /usr/local/lib/python3.10/dist-packages (from tensorflow) (0.4.0)\n",
            "Requirement already satisfied: google-pasta>=0.1.1 in /usr/local/lib/python3.10/dist-packages (from tensorflow) (0.2.0)\n",
            "Requirement already satisfied: grpcio<2.0,>=1.24.3 in /usr/local/lib/python3.10/dist-packages (from tensorflow) (1.59.0)\n",
            "Requirement already satisfied: h5py>=2.9.0 in /usr/local/lib/python3.10/dist-packages (from tensorflow) (3.9.0)\n",
            "Requirement already satisfied: keras<2.14,>=2.13.1 in /usr/local/lib/python3.10/dist-packages (from tensorflow) (2.13.1)\n",
            "Requirement already satisfied: libclang>=13.0.0 in /usr/local/lib/python3.10/dist-packages (from tensorflow) (16.0.6)\n",
            "Requirement already satisfied: numpy<=1.24.3,>=1.22 in /usr/local/lib/python3.10/dist-packages (from tensorflow) (1.23.5)\n",
            "Requirement already satisfied: opt-einsum>=2.3.2 in /usr/local/lib/python3.10/dist-packages (from tensorflow) (3.3.0)\n",
            "Requirement already satisfied: packaging in /usr/local/lib/python3.10/dist-packages (from tensorflow) (23.2)\n",
            "Requirement already satisfied: protobuf!=4.21.0,!=4.21.1,!=4.21.2,!=4.21.3,!=4.21.4,!=4.21.5,<5.0.0dev,>=3.20.3 in /usr/local/lib/python3.10/dist-packages (from tensorflow) (3.20.3)\n",
            "Requirement already satisfied: setuptools in /usr/local/lib/python3.10/dist-packages (from tensorflow) (67.7.2)\n",
            "Requirement already satisfied: six>=1.12.0 in /usr/local/lib/python3.10/dist-packages (from tensorflow) (1.16.0)\n",
            "Requirement already satisfied: tensorboard<2.14,>=2.13 in /usr/local/lib/python3.10/dist-packages (from tensorflow) (2.13.0)\n",
            "Requirement already satisfied: tensorflow-estimator<2.14,>=2.13.0 in /usr/local/lib/python3.10/dist-packages (from tensorflow) (2.13.0)\n",
            "Requirement already satisfied: termcolor>=1.1.0 in /usr/local/lib/python3.10/dist-packages (from tensorflow) (2.3.0)\n",
            "Requirement already satisfied: typing-extensions<4.6.0,>=3.6.6 in /usr/local/lib/python3.10/dist-packages (from tensorflow) (4.5.0)\n",
            "Requirement already satisfied: wrapt>=1.11.0 in /usr/local/lib/python3.10/dist-packages (from tensorflow) (1.15.0)\n",
            "Requirement already satisfied: tensorflow-io-gcs-filesystem>=0.23.1 in /usr/local/lib/python3.10/dist-packages (from tensorflow) (0.34.0)\n",
            "Requirement already satisfied: wheel<1.0,>=0.23.0 in /usr/local/lib/python3.10/dist-packages (from astunparse>=1.6.0->tensorflow) (0.41.2)\n",
            "Requirement already satisfied: google-auth<3,>=1.6.3 in /usr/local/lib/python3.10/dist-packages (from tensorboard<2.14,>=2.13->tensorflow) (2.17.3)\n",
            "Requirement already satisfied: google-auth-oauthlib<1.1,>=0.5 in /usr/local/lib/python3.10/dist-packages (from tensorboard<2.14,>=2.13->tensorflow) (1.0.0)\n",
            "Requirement already satisfied: markdown>=2.6.8 in /usr/local/lib/python3.10/dist-packages (from tensorboard<2.14,>=2.13->tensorflow) (3.5)\n",
            "Requirement already satisfied: requests<3,>=2.21.0 in /usr/local/lib/python3.10/dist-packages (from tensorboard<2.14,>=2.13->tensorflow) (2.31.0)\n",
            "Requirement already satisfied: tensorboard-data-server<0.8.0,>=0.7.0 in /usr/local/lib/python3.10/dist-packages (from tensorboard<2.14,>=2.13->tensorflow) (0.7.1)\n",
            "Requirement already satisfied: werkzeug>=1.0.1 in /usr/local/lib/python3.10/dist-packages (from tensorboard<2.14,>=2.13->tensorflow) (3.0.0)\n",
            "Requirement already satisfied: cachetools<6.0,>=2.0.0 in /usr/local/lib/python3.10/dist-packages (from google-auth<3,>=1.6.3->tensorboard<2.14,>=2.13->tensorflow) (5.3.1)\n",
            "Requirement already satisfied: pyasn1-modules>=0.2.1 in /usr/local/lib/python3.10/dist-packages (from google-auth<3,>=1.6.3->tensorboard<2.14,>=2.13->tensorflow) (0.3.0)\n",
            "Requirement already satisfied: rsa<5,>=3.1.4 in /usr/local/lib/python3.10/dist-packages (from google-auth<3,>=1.6.3->tensorboard<2.14,>=2.13->tensorflow) (4.9)\n",
            "Requirement already satisfied: requests-oauthlib>=0.7.0 in /usr/local/lib/python3.10/dist-packages (from google-auth-oauthlib<1.1,>=0.5->tensorboard<2.14,>=2.13->tensorflow) (1.3.1)\n",
            "Requirement already satisfied: charset-normalizer<4,>=2 in /usr/local/lib/python3.10/dist-packages (from requests<3,>=2.21.0->tensorboard<2.14,>=2.13->tensorflow) (3.3.0)\n",
            "Requirement already satisfied: idna<4,>=2.5 in /usr/local/lib/python3.10/dist-packages (from requests<3,>=2.21.0->tensorboard<2.14,>=2.13->tensorflow) (3.4)\n",
            "Requirement already satisfied: urllib3<3,>=1.21.1 in /usr/local/lib/python3.10/dist-packages (from requests<3,>=2.21.0->tensorboard<2.14,>=2.13->tensorflow) (1.26.18)\n",
            "Requirement already satisfied: certifi>=2017.4.17 in /usr/local/lib/python3.10/dist-packages (from requests<3,>=2.21.0->tensorboard<2.14,>=2.13->tensorflow) (2023.7.22)\n",
            "Requirement already satisfied: MarkupSafe>=2.1.1 in /usr/local/lib/python3.10/dist-packages (from werkzeug>=1.0.1->tensorboard<2.14,>=2.13->tensorflow) (2.1.3)\n",
            "Requirement already satisfied: pyasn1<0.6.0,>=0.4.6 in /usr/local/lib/python3.10/dist-packages (from pyasn1-modules>=0.2.1->google-auth<3,>=1.6.3->tensorboard<2.14,>=2.13->tensorflow) (0.5.0)\n",
            "Requirement already satisfied: oauthlib>=3.0.0 in /usr/local/lib/python3.10/dist-packages (from requests-oauthlib>=0.7.0->google-auth-oauthlib<1.1,>=0.5->tensorboard<2.14,>=2.13->tensorflow) (3.2.2)\n",
            "Requirement already satisfied: urllib3 in /usr/local/lib/python3.10/dist-packages (1.26.18)\n"
          ]
        }
      ],
      "source": [
        "!pip install elasticsearch==7.10.1\n",
        "!pip install tensorflow\n",
        "!pip install urllib3"
      ]
    },
    {
      "cell_type": "markdown",
      "metadata": {
        "id": "gjrZNJQRJP-U"
      },
      "source": [
        "### Import packages"
      ]
    },
    {
      "cell_type": "code",
      "execution_count": null,
      "metadata": {
        "id": "m6KXZuTBWgRm"
      },
      "outputs": [],
      "source": [
        "import os\n",
        "import time\n",
        "from collections.abc import Mapping\n",
        "from elasticsearch import Elasticsearch\n",
        "import numpy as np\n",
        "import pandas as pd\n"
      ]
    },
    {
      "cell_type": "markdown",
      "metadata": {
        "id": "4CfKVmCvwcL7"
      },
      "source": [
        "### Explore the dataset\n",
        "\n",
        "For the purpose of this tutorial, lets download the [PetFinder](https://www.kaggle.com/c/petfinder-adoption-prediction) dataset and feed the data into elasticsearch manually. The goal of this classification problem is predict if the pet will be adopted or not.\n"
      ]
    },
    {
      "cell_type": "code",
      "execution_count": null,
      "metadata": {
        "id": "XkXyocIdKRSB",
        "colab": {
          "base_uri": "https://localhost:8080/"
        },
        "outputId": "36db68c3-d3bd-4527-c387-993fc0a9df42"
      },
      "outputs": [
        {
          "output_type": "stream",
          "name": "stdout",
          "text": [
            "Downloading data from http://storage.googleapis.com/download.tensorflow.org/data/petfinder-mini.zip\n",
            "1668792/1668792 [==============================] - 1s 1us/step\n"
          ]
        }
      ],
      "source": [
        "import tensorflow as tf\n",
        "\n",
        "dataset_url = 'http://storage.googleapis.com/download.tensorflow.org/data/petfinder-mini.zip'\n",
        "csv_file = 'datasets/petfinder-mini/petfinder-mini.csv'\n",
        "tf.keras.utils.get_file('petfinder_mini.zip', dataset_url,\n",
        "                        extract=True, cache_dir='.')\n",
        "pf_df = pd.read_csv(csv_file)"
      ]
    },
    {
      "cell_type": "code",
      "execution_count": null,
      "metadata": {
        "id": "nC-yt_c9u0sH",
        "colab": {
          "base_uri": "https://localhost:8080/",
          "height": 206
        },
        "outputId": "f63aef06-ad35-415d-df2b-02887731f039"
      },
      "outputs": [
        {
          "output_type": "execute_result",
          "data": {
            "text/plain": [
              "  Type  Age                Breed1  Gender Color1    Color2 MaturitySize  \\\n",
              "0  Cat    3                 Tabby    Male  Black     White        Small   \n",
              "1  Cat    1  Domestic Medium Hair    Male  Black     Brown       Medium   \n",
              "2  Dog    1           Mixed Breed    Male  Brown     White       Medium   \n",
              "3  Dog    4           Mixed Breed  Female  Black     Brown       Medium   \n",
              "4  Dog    1           Mixed Breed    Male  Black  No Color       Medium   \n",
              "\n",
              "  FurLength Vaccinated Sterilized   Health  Fee  \\\n",
              "0     Short         No         No  Healthy  100   \n",
              "1    Medium   Not Sure   Not Sure  Healthy    0   \n",
              "2    Medium        Yes         No  Healthy    0   \n",
              "3     Short        Yes         No  Healthy  150   \n",
              "4     Short         No         No  Healthy    0   \n",
              "\n",
              "                                         Description  PhotoAmt  AdoptionSpeed  \n",
              "0  Nibble is a 3+ month old ball of cuteness. He ...         1              2  \n",
              "1  I just found it alone yesterday near my apartm...         2              0  \n",
              "2  Their pregnant mother was dumped by her irresp...         7              3  \n",
              "3  Good guard dog, very alert, active, obedience ...         8              2  \n",
              "4  This handsome yet cute boy is up for adoption....         3              2  "
            ],
            "text/html": [
              "\n",
              "  <div id=\"df-21422b9a-895a-420e-97f2-2d9050f3abb4\" class=\"colab-df-container\">\n",
              "    <div>\n",
              "<style scoped>\n",
              "    .dataframe tbody tr th:only-of-type {\n",
              "        vertical-align: middle;\n",
              "    }\n",
              "\n",
              "    .dataframe tbody tr th {\n",
              "        vertical-align: top;\n",
              "    }\n",
              "\n",
              "    .dataframe thead th {\n",
              "        text-align: right;\n",
              "    }\n",
              "</style>\n",
              "<table border=\"1\" class=\"dataframe\">\n",
              "  <thead>\n",
              "    <tr style=\"text-align: right;\">\n",
              "      <th></th>\n",
              "      <th>Type</th>\n",
              "      <th>Age</th>\n",
              "      <th>Breed1</th>\n",
              "      <th>Gender</th>\n",
              "      <th>Color1</th>\n",
              "      <th>Color2</th>\n",
              "      <th>MaturitySize</th>\n",
              "      <th>FurLength</th>\n",
              "      <th>Vaccinated</th>\n",
              "      <th>Sterilized</th>\n",
              "      <th>Health</th>\n",
              "      <th>Fee</th>\n",
              "      <th>Description</th>\n",
              "      <th>PhotoAmt</th>\n",
              "      <th>AdoptionSpeed</th>\n",
              "    </tr>\n",
              "  </thead>\n",
              "  <tbody>\n",
              "    <tr>\n",
              "      <th>0</th>\n",
              "      <td>Cat</td>\n",
              "      <td>3</td>\n",
              "      <td>Tabby</td>\n",
              "      <td>Male</td>\n",
              "      <td>Black</td>\n",
              "      <td>White</td>\n",
              "      <td>Small</td>\n",
              "      <td>Short</td>\n",
              "      <td>No</td>\n",
              "      <td>No</td>\n",
              "      <td>Healthy</td>\n",
              "      <td>100</td>\n",
              "      <td>Nibble is a 3+ month old ball of cuteness. He ...</td>\n",
              "      <td>1</td>\n",
              "      <td>2</td>\n",
              "    </tr>\n",
              "    <tr>\n",
              "      <th>1</th>\n",
              "      <td>Cat</td>\n",
              "      <td>1</td>\n",
              "      <td>Domestic Medium Hair</td>\n",
              "      <td>Male</td>\n",
              "      <td>Black</td>\n",
              "      <td>Brown</td>\n",
              "      <td>Medium</td>\n",
              "      <td>Medium</td>\n",
              "      <td>Not Sure</td>\n",
              "      <td>Not Sure</td>\n",
              "      <td>Healthy</td>\n",
              "      <td>0</td>\n",
              "      <td>I just found it alone yesterday near my apartm...</td>\n",
              "      <td>2</td>\n",
              "      <td>0</td>\n",
              "    </tr>\n",
              "    <tr>\n",
              "      <th>2</th>\n",
              "      <td>Dog</td>\n",
              "      <td>1</td>\n",
              "      <td>Mixed Breed</td>\n",
              "      <td>Male</td>\n",
              "      <td>Brown</td>\n",
              "      <td>White</td>\n",
              "      <td>Medium</td>\n",
              "      <td>Medium</td>\n",
              "      <td>Yes</td>\n",
              "      <td>No</td>\n",
              "      <td>Healthy</td>\n",
              "      <td>0</td>\n",
              "      <td>Their pregnant mother was dumped by her irresp...</td>\n",
              "      <td>7</td>\n",
              "      <td>3</td>\n",
              "    </tr>\n",
              "    <tr>\n",
              "      <th>3</th>\n",
              "      <td>Dog</td>\n",
              "      <td>4</td>\n",
              "      <td>Mixed Breed</td>\n",
              "      <td>Female</td>\n",
              "      <td>Black</td>\n",
              "      <td>Brown</td>\n",
              "      <td>Medium</td>\n",
              "      <td>Short</td>\n",
              "      <td>Yes</td>\n",
              "      <td>No</td>\n",
              "      <td>Healthy</td>\n",
              "      <td>150</td>\n",
              "      <td>Good guard dog, very alert, active, obedience ...</td>\n",
              "      <td>8</td>\n",
              "      <td>2</td>\n",
              "    </tr>\n",
              "    <tr>\n",
              "      <th>4</th>\n",
              "      <td>Dog</td>\n",
              "      <td>1</td>\n",
              "      <td>Mixed Breed</td>\n",
              "      <td>Male</td>\n",
              "      <td>Black</td>\n",
              "      <td>No Color</td>\n",
              "      <td>Medium</td>\n",
              "      <td>Short</td>\n",
              "      <td>No</td>\n",
              "      <td>No</td>\n",
              "      <td>Healthy</td>\n",
              "      <td>0</td>\n",
              "      <td>This handsome yet cute boy is up for adoption....</td>\n",
              "      <td>3</td>\n",
              "      <td>2</td>\n",
              "    </tr>\n",
              "  </tbody>\n",
              "</table>\n",
              "</div>\n",
              "    <div class=\"colab-df-buttons\">\n",
              "\n",
              "  <div class=\"colab-df-container\">\n",
              "    <button class=\"colab-df-convert\" onclick=\"convertToInteractive('df-21422b9a-895a-420e-97f2-2d9050f3abb4')\"\n",
              "            title=\"Convert this dataframe to an interactive table.\"\n",
              "            style=\"display:none;\">\n",
              "\n",
              "  <svg xmlns=\"http://www.w3.org/2000/svg\" height=\"24px\" viewBox=\"0 -960 960 960\">\n",
              "    <path d=\"M120-120v-720h720v720H120Zm60-500h600v-160H180v160Zm220 220h160v-160H400v160Zm0 220h160v-160H400v160ZM180-400h160v-160H180v160Zm440 0h160v-160H620v160ZM180-180h160v-160H180v160Zm440 0h160v-160H620v160Z\"/>\n",
              "  </svg>\n",
              "    </button>\n",
              "\n",
              "  <style>\n",
              "    .colab-df-container {\n",
              "      display:flex;\n",
              "      gap: 12px;\n",
              "    }\n",
              "\n",
              "    .colab-df-convert {\n",
              "      background-color: #E8F0FE;\n",
              "      border: none;\n",
              "      border-radius: 50%;\n",
              "      cursor: pointer;\n",
              "      display: none;\n",
              "      fill: #1967D2;\n",
              "      height: 32px;\n",
              "      padding: 0 0 0 0;\n",
              "      width: 32px;\n",
              "    }\n",
              "\n",
              "    .colab-df-convert:hover {\n",
              "      background-color: #E2EBFA;\n",
              "      box-shadow: 0px 1px 2px rgba(60, 64, 67, 0.3), 0px 1px 3px 1px rgba(60, 64, 67, 0.15);\n",
              "      fill: #174EA6;\n",
              "    }\n",
              "\n",
              "    .colab-df-buttons div {\n",
              "      margin-bottom: 4px;\n",
              "    }\n",
              "\n",
              "    [theme=dark] .colab-df-convert {\n",
              "      background-color: #3B4455;\n",
              "      fill: #D2E3FC;\n",
              "    }\n",
              "\n",
              "    [theme=dark] .colab-df-convert:hover {\n",
              "      background-color: #434B5C;\n",
              "      box-shadow: 0px 1px 3px 1px rgba(0, 0, 0, 0.15);\n",
              "      filter: drop-shadow(0px 1px 2px rgba(0, 0, 0, 0.3));\n",
              "      fill: #FFFFFF;\n",
              "    }\n",
              "  </style>\n",
              "\n",
              "    <script>\n",
              "      const buttonEl =\n",
              "        document.querySelector('#df-21422b9a-895a-420e-97f2-2d9050f3abb4 button.colab-df-convert');\n",
              "      buttonEl.style.display =\n",
              "        google.colab.kernel.accessAllowed ? 'block' : 'none';\n",
              "\n",
              "      async function convertToInteractive(key) {\n",
              "        const element = document.querySelector('#df-21422b9a-895a-420e-97f2-2d9050f3abb4');\n",
              "        const dataTable =\n",
              "          await google.colab.kernel.invokeFunction('convertToInteractive',\n",
              "                                                    [key], {});\n",
              "        if (!dataTable) return;\n",
              "\n",
              "        const docLinkHtml = 'Like what you see? Visit the ' +\n",
              "          '<a target=\"_blank\" href=https://colab.research.google.com/notebooks/data_table.ipynb>data table notebook</a>'\n",
              "          + ' to learn more about interactive tables.';\n",
              "        element.innerHTML = '';\n",
              "        dataTable['output_type'] = 'display_data';\n",
              "        await google.colab.output.renderOutput(dataTable, element);\n",
              "        const docLink = document.createElement('div');\n",
              "        docLink.innerHTML = docLinkHtml;\n",
              "        element.appendChild(docLink);\n",
              "      }\n",
              "    </script>\n",
              "  </div>\n",
              "\n",
              "\n",
              "<div id=\"df-cde6e1f7-23d5-44e3-b64b-388cc603766c\">\n",
              "  <button class=\"colab-df-quickchart\" onclick=\"quickchart('df-cde6e1f7-23d5-44e3-b64b-388cc603766c')\"\n",
              "            title=\"Suggest charts.\"\n",
              "            style=\"display:none;\">\n",
              "\n",
              "<svg xmlns=\"http://www.w3.org/2000/svg\" height=\"24px\"viewBox=\"0 0 24 24\"\n",
              "     width=\"24px\">\n",
              "    <g>\n",
              "        <path d=\"M19 3H5c-1.1 0-2 .9-2 2v14c0 1.1.9 2 2 2h14c1.1 0 2-.9 2-2V5c0-1.1-.9-2-2-2zM9 17H7v-7h2v7zm4 0h-2V7h2v10zm4 0h-2v-4h2v4z\"/>\n",
              "    </g>\n",
              "</svg>\n",
              "  </button>\n",
              "\n",
              "<style>\n",
              "  .colab-df-quickchart {\n",
              "      --bg-color: #E8F0FE;\n",
              "      --fill-color: #1967D2;\n",
              "      --hover-bg-color: #E2EBFA;\n",
              "      --hover-fill-color: #174EA6;\n",
              "      --disabled-fill-color: #AAA;\n",
              "      --disabled-bg-color: #DDD;\n",
              "  }\n",
              "\n",
              "  [theme=dark] .colab-df-quickchart {\n",
              "      --bg-color: #3B4455;\n",
              "      --fill-color: #D2E3FC;\n",
              "      --hover-bg-color: #434B5C;\n",
              "      --hover-fill-color: #FFFFFF;\n",
              "      --disabled-bg-color: #3B4455;\n",
              "      --disabled-fill-color: #666;\n",
              "  }\n",
              "\n",
              "  .colab-df-quickchart {\n",
              "    background-color: var(--bg-color);\n",
              "    border: none;\n",
              "    border-radius: 50%;\n",
              "    cursor: pointer;\n",
              "    display: none;\n",
              "    fill: var(--fill-color);\n",
              "    height: 32px;\n",
              "    padding: 0;\n",
              "    width: 32px;\n",
              "  }\n",
              "\n",
              "  .colab-df-quickchart:hover {\n",
              "    background-color: var(--hover-bg-color);\n",
              "    box-shadow: 0 1px 2px rgba(60, 64, 67, 0.3), 0 1px 3px 1px rgba(60, 64, 67, 0.15);\n",
              "    fill: var(--button-hover-fill-color);\n",
              "  }\n",
              "\n",
              "  .colab-df-quickchart-complete:disabled,\n",
              "  .colab-df-quickchart-complete:disabled:hover {\n",
              "    background-color: var(--disabled-bg-color);\n",
              "    fill: var(--disabled-fill-color);\n",
              "    box-shadow: none;\n",
              "  }\n",
              "\n",
              "  .colab-df-spinner {\n",
              "    border: 2px solid var(--fill-color);\n",
              "    border-color: transparent;\n",
              "    border-bottom-color: var(--fill-color);\n",
              "    animation:\n",
              "      spin 1s steps(1) infinite;\n",
              "  }\n",
              "\n",
              "  @keyframes spin {\n",
              "    0% {\n",
              "      border-color: transparent;\n",
              "      border-bottom-color: var(--fill-color);\n",
              "      border-left-color: var(--fill-color);\n",
              "    }\n",
              "    20% {\n",
              "      border-color: transparent;\n",
              "      border-left-color: var(--fill-color);\n",
              "      border-top-color: var(--fill-color);\n",
              "    }\n",
              "    30% {\n",
              "      border-color: transparent;\n",
              "      border-left-color: var(--fill-color);\n",
              "      border-top-color: var(--fill-color);\n",
              "      border-right-color: var(--fill-color);\n",
              "    }\n",
              "    40% {\n",
              "      border-color: transparent;\n",
              "      border-right-color: var(--fill-color);\n",
              "      border-top-color: var(--fill-color);\n",
              "    }\n",
              "    60% {\n",
              "      border-color: transparent;\n",
              "      border-right-color: var(--fill-color);\n",
              "    }\n",
              "    80% {\n",
              "      border-color: transparent;\n",
              "      border-right-color: var(--fill-color);\n",
              "      border-bottom-color: var(--fill-color);\n",
              "    }\n",
              "    90% {\n",
              "      border-color: transparent;\n",
              "      border-bottom-color: var(--fill-color);\n",
              "    }\n",
              "  }\n",
              "</style>\n",
              "\n",
              "  <script>\n",
              "    async function quickchart(key) {\n",
              "      const quickchartButtonEl =\n",
              "        document.querySelector('#' + key + ' button');\n",
              "      quickchartButtonEl.disabled = true;  // To prevent multiple clicks.\n",
              "      quickchartButtonEl.classList.add('colab-df-spinner');\n",
              "      try {\n",
              "        const charts = await google.colab.kernel.invokeFunction(\n",
              "            'suggestCharts', [key], {});\n",
              "      } catch (error) {\n",
              "        console.error('Error during call to suggestCharts:', error);\n",
              "      }\n",
              "      quickchartButtonEl.classList.remove('colab-df-spinner');\n",
              "      quickchartButtonEl.classList.add('colab-df-quickchart-complete');\n",
              "    }\n",
              "    (() => {\n",
              "      let quickchartButtonEl =\n",
              "        document.querySelector('#df-cde6e1f7-23d5-44e3-b64b-388cc603766c button');\n",
              "      quickchartButtonEl.style.display =\n",
              "        google.colab.kernel.accessAllowed ? 'block' : 'none';\n",
              "    })();\n",
              "  </script>\n",
              "</div>\n",
              "    </div>\n",
              "  </div>\n"
            ]
          },
          "metadata": {},
          "execution_count": 4
        }
      ],
      "source": [
        "pf_df.head()"
      ]
    },
    {
      "cell_type": "code",
      "execution_count": null,
      "metadata": {
        "id": "klnNOM5oGtH1",
        "colab": {
          "base_uri": "https://localhost:8080/"
        },
        "outputId": "93b1d1df-d558-4598-fa16-e48bf33152f1"
      },
      "outputs": [
        {
          "output_type": "execute_result",
          "data": {
            "text/plain": [
              "(11537, 15)"
            ]
          },
          "metadata": {},
          "execution_count": 5
        }
      ],
      "source": [
        "# Number of datapoints and columns\n",
        "len(pf_df), len(pf_df.columns)"
      ]
    },
    {
      "cell_type": "markdown",
      "metadata": {
        "id": "wwP5U4GqmhoL"
      },
      "source": [
        "### Store the train and test data in elasticsearch indices\n",
        "\n",
        "Storing the data in the local elasticsearch cluster simulates an environment for continuous remote data retrieval for training and inference purposes."
      ]
    },
    {
      "cell_type": "code",
      "source": [
        "es_client = Elasticsearch([{'host': 'tec-search-834913877.us-east-1.bonsaisearch.net', 'port': 443}], use_ssl=True, verify_certs=True,\n",
        "                       ssl_show_warn=False, http_auth=('dj06j4p1pf', 'p6i8sb8equ'),request_timeout=100)"
      ],
      "metadata": {
        "id": "S5te-Qzbs3uH"
      },
      "execution_count": null,
      "outputs": []
    },
    {
      "cell_type": "code",
      "execution_count": null,
      "metadata": {
        "id": "YhwFImSqncLE"
      },
      "outputs": [],
      "source": [
        "def prepare_es_data(index, doc_type, df):\n",
        "  records = df.to_dict(orient=\"records\")\n",
        "  es_data = []\n",
        "  for idx, record in enumerate(records):\n",
        "    meta_dict = {\n",
        "          \"index\": {\n",
        "              \"_index\": index,\n",
        "              \"_type\": doc_type,\n",
        "              \"_id\": idx\n",
        "          }\n",
        "      }\n",
        "    es_data.append(meta_dict)\n",
        "    es_data.append(record)\n",
        "\n",
        "  return es_data\n",
        "\n",
        "def index_es_data(index, pf_df):\n",
        "  if es_client.indices.exists(index = index):\n",
        "      print(\"deleting the '{}' index.\".format(index))\n",
        "      res = es_client.indices.delete(index=index)\n",
        "      print(\"Response from server: {}\".format(res))\n",
        "\n",
        "  print(\"creating the '{}' index.\".format(index))\n",
        "  res = es_client.indices.create(index=index)\n",
        "  print(\"Response from server: {}\".format(res))\n",
        "  es_data = prepare_es_data(index=\"pets\", doc_type=\"_doc\", df=pf_df)\n",
        "  print(\"bulk index the data\")\n",
        "  res = es_client.bulk(index=index, body=es_data, refresh = True)\n",
        "  print(\"Errors: {}, Num of records indexed: {}\".format(res[\"errors\"], len(res[\"items\"])))\n"
      ]
    },
    {
      "cell_type": "code",
      "execution_count": null,
      "metadata": {
        "id": "EXD7mAnvB3Z9",
        "colab": {
          "base_uri": "https://localhost:8080/"
        },
        "outputId": "4188ed96-bbf4-484b-8d87-dc8cea827237"
      },
      "outputs": [
        {
          "output_type": "stream",
          "name": "stdout",
          "text": [
            "deleting the 'pets' index.\n",
            "Response from server: {'acknowledged': True}\n",
            "creating the 'pets' index.\n",
            "Response from server: {'acknowledged': True, 'shards_acknowledged': True, 'index': 'pets'}\n",
            "bulk index the data\n",
            "Errors: True, Num of records indexed: 11537\n"
          ]
        },
        {
          "output_type": "stream",
          "name": "stderr",
          "text": [
            "/usr/local/lib/python3.10/dist-packages/elasticsearch/connection/base.py:193: ElasticsearchDeprecationWarning: [types removal] Specifying types in bulk requests is deprecated.\n",
            "  warnings.warn(message, category=ElasticsearchDeprecationWarning)\n"
          ]
        }
      ],
      "source": [
        "index_es_data(\"pets\", pf_df)"
      ]
    },
    {
      "cell_type": "markdown",
      "source": [
        "###Finding pets\n",
        "Lets find some dogs to adopt, we want a friendly and active dog, let's search over the description the tokens \"friendly and active dogs\"\n",
        "\n"
      ],
      "metadata": {
        "id": "cJPIyA451ERg"
      }
    },
    {
      "cell_type": "code",
      "source": [
        "query = {\n",
        "  \"query\": {\n",
        "    \"query_string\": {\n",
        "      \"default_field\": \"Description\",\n",
        "      \"query\": \"friendly and active dogs\",\n",
        "      \"default_operator\": \"AND\"\n",
        "    }\n",
        "  }\n",
        "}\n",
        "\n",
        "\n",
        "response = es_client.search(index=\"pets\",body=query)"
      ],
      "metadata": {
        "id": "5wzaqnSd2LCP"
      },
      "execution_count": null,
      "outputs": []
    },
    {
      "cell_type": "markdown",
      "source": [
        "let's see how many pets we found and some examples"
      ],
      "metadata": {
        "id": "i0bFKXQm2ef4"
      }
    },
    {
      "cell_type": "code",
      "source": [
        "print(f'{response[\"hits\"][\"total\"][\"value\"]} founded!')\n",
        "for pet in  response[\"hits\"][\"hits\"][:5]:\n",
        "  print(pet[\"_source\"])"
      ],
      "metadata": {
        "colab": {
          "base_uri": "https://localhost:8080/"
        },
        "id": "2JwpzXiD2knP",
        "outputId": "816ca2d2-a31d-452a-e1a1-83f7891f0a9a"
      },
      "execution_count": null,
      "outputs": [
        {
          "output_type": "stream",
          "name": "stdout",
          "text": [
            "45 founded!\n",
            "{'Type': 'Dog', 'Age': 3, 'Breed1': 'Mixed Breed', 'Gender': 'Female', 'Color1': 'Black', 'Color2': 'Brown', 'MaturitySize': 'Medium', 'FurLength': 'Medium', 'Vaccinated': 'Yes', 'Sterilized': 'Not Sure', 'Health': 'Healthy', 'Fee': 100, 'Description': 'Friendly and active dog who loves to play with people and other dogs.', 'PhotoAmt': 3, 'AdoptionSpeed': 4}\n",
            "{'Type': 'Dog', 'Age': 2, 'Breed1': 'Mixed Breed', 'Gender': 'Female', 'Color1': 'Brown', 'Color2': 'Cream', 'MaturitySize': 'Medium', 'FurLength': 'Short', 'Vaccinated': 'No', 'Sterilized': 'No', 'Health': 'Healthy', 'Fee': 0, 'Description': 'Hi Coco is a rescued puppy from the streets. If you would like to adopt her pls contact me. She is very active and is very friendly with other dogs.', 'PhotoAmt': 1, 'AdoptionSpeed': 0}\n",
            "{'Type': 'Dog', 'Age': 6, 'Breed1': 'Mixed Breed', 'Gender': 'Male', 'Color1': 'Black', 'Color2': 'Brown', 'MaturitySize': 'Medium', 'FurLength': 'Short', 'Vaccinated': 'Yes', 'Sterilized': 'Yes', 'Health': 'Healthy', 'Fee': 150, 'Description': 'Mr Zorro is an ultra friendly, silly, playful dog who can mix well with other dogs of all sizes and temperament.He was found wandering on the street, in poor condition. Now he is a healthy puppy, clever, smart, active,growing, looking for a good home. For serious adopters only.', 'PhotoAmt': 11, 'AdoptionSpeed': 2}\n",
            "{'Type': 'Dog', 'Age': 19, 'Breed1': 'Labrador Retriever', 'Gender': 'Male', 'Color1': 'Brown', 'Color2': 'No Color', 'MaturitySize': 'Large', 'FurLength': 'Short', 'Vaccinated': 'Yes', 'Sterilized': 'Yes', 'Health': 'Healthy', 'Fee': 0, 'Description': 'Chocolat is very friendly and playful. Healthy, active...love kids and other dogs. Neutered, well trained, respectful, etc.... Looking for a loving and caring family preferably with kids or other dog. Freedom is his moto....well behaved on leach for a daily walk and used to be free all day in garden and house.', 'PhotoAmt': 3, 'AdoptionSpeed': 4}\n",
            "{'Type': 'Dog', 'Age': 6, 'Breed1': 'Mixed Breed', 'Gender': 'Female', 'Color1': 'Black', 'Color2': 'Brown', 'MaturitySize': 'Medium', 'FurLength': 'Short', 'Vaccinated': 'No', 'Sterilized': 'No', 'Health': 'Healthy', 'Fee': 0, 'Description': \"We have been keeping this rescued furkid for some time now, looking for a caring adopter. Right now, she is about 5-6 months young. Mia is a very shy and gentle girl.She's very friendly towards people and even other dogs. She eats well and is very active! Thank you so much for your help :)\", 'PhotoAmt': 1, 'AdoptionSpeed': 4}\n"
          ]
        }
      ]
    },
    {
      "cell_type": "markdown",
      "source": [
        "It isn't bad but what happens if we search with a singular word \"dog\""
      ],
      "metadata": {
        "id": "Ee8ZKKb93NwI"
      }
    },
    {
      "cell_type": "code",
      "source": [
        "query = {\n",
        "  \"query\": {\n",
        "    \"query_string\": {\n",
        "      \"default_field\": \"Description\",\n",
        "      \"query\": \"friendly and active dog\",\n",
        "      \"default_operator\": \"AND\"\n",
        "    }\n",
        "  }\n",
        "}\n",
        "\n",
        "\n",
        "response = es_client.search(index=\"pets\",body=query)\n",
        "\n",
        "print(f'{response[\"hits\"][\"total\"][\"value\"]} founded!')\n",
        "for pet in  response[\"hits\"][\"hits\"][:5]:\n",
        "  print(pet[\"_source\"])"
      ],
      "metadata": {
        "colab": {
          "base_uri": "https://localhost:8080/"
        },
        "id": "QucIOSF_3fi-",
        "outputId": "d8ac0f3b-66b6-467e-c789-cb5ae4e01123"
      },
      "execution_count": null,
      "outputs": [
        {
          "output_type": "stream",
          "name": "stdout",
          "text": [
            "67 founded!\n",
            "{'Type': 'Dog', 'Age': 2, 'Breed1': 'Mixed Breed', 'Gender': 'Female', 'Color1': 'Brown', 'Color2': 'No Color', 'MaturitySize': 'Small', 'FurLength': 'Medium', 'Vaccinated': 'No', 'Sterilized': 'Yes', 'Health': 'Healthy', 'Fee': 0, 'Description': '2 months old female dog ... very friendly and active', 'PhotoAmt': 0, 'AdoptionSpeed': 4}\n",
            "{'Type': 'Dog', 'Age': 3, 'Breed1': 'Mixed Breed', 'Gender': 'Female', 'Color1': 'Black', 'Color2': 'Brown', 'MaturitySize': 'Medium', 'FurLength': 'Medium', 'Vaccinated': 'Yes', 'Sterilized': 'Not Sure', 'Health': 'Healthy', 'Fee': 100, 'Description': 'Friendly and active dog who loves to play with people and other dogs.', 'PhotoAmt': 3, 'AdoptionSpeed': 4}\n",
            "{'Type': 'Dog', 'Age': 3, 'Breed1': 'Mixed Breed', 'Gender': 'Male', 'Color1': 'Black', 'Color2': 'No Color', 'MaturitySize': 'Medium', 'FurLength': 'Short', 'Vaccinated': 'No', 'Sterilized': 'No', 'Health': 'Healthy', 'Fee': 0, 'Description': 'stray dog puppy about 3mths+. healthy and active. adopter need to vaccine+deworm once adopted. friendly', 'PhotoAmt': 1, 'AdoptionSpeed': 3}\n",
            "{'Type': 'Dog', 'Age': 9, 'Breed1': 'Beagle', 'Gender': 'Male', 'Color1': 'Brown', 'Color2': 'White', 'MaturitySize': 'Large', 'FurLength': 'Medium', 'Vaccinated': 'Yes', 'Sterilized': 'Not Sure', 'Health': 'Healthy', 'Fee': 0, 'Description': 'He is a friendly and active dog. He is also very playful. His energy is like unlimited.', 'PhotoAmt': 2, 'AdoptionSpeed': 1}\n",
            "{'Type': 'Dog', 'Age': 3, 'Breed1': 'Mixed Breed', 'Gender': 'Male', 'Color1': 'Black', 'Color2': 'Brown', 'MaturitySize': 'Large', 'FurLength': 'Short', 'Vaccinated': 'Not Sure', 'Sterilized': 'Not Sure', 'Health': 'Healthy', 'Fee': 50, 'Description': 'Very friendly, active and also can be train as a guard dog..toilet trained..such a wonderfull boy..', 'PhotoAmt': 2, 'AdoptionSpeed': 4}\n"
          ]
        }
      ]
    },
    {
      "cell_type": "markdown",
      "source": [
        "And what if we remove stopwords"
      ],
      "metadata": {
        "id": "P6beWjcT3_FJ"
      }
    },
    {
      "cell_type": "code",
      "source": [
        "query = {\n",
        "  \"query\": {\n",
        "    \"query_string\": {\n",
        "      \"default_field\": \"Description\",\n",
        "      \"query\": \"friendly  active dog\",\n",
        "      \"default_operator\": \"AND\"\n",
        "    }\n",
        "  }\n",
        "}\n",
        "\n",
        "\n",
        "response = es_client.search(index=\"pets\",body=query)\n",
        "\n",
        "print(f'{response[\"hits\"][\"total\"][\"value\"]} founded!')\n",
        "for pet in  response[\"hits\"][\"hits\"][:5]:\n",
        "  print(pet[\"_source\"])"
      ],
      "metadata": {
        "colab": {
          "base_uri": "https://localhost:8080/"
        },
        "id": "FFWrYbdl4LaI",
        "outputId": "3360e0c7-3349-47e5-f1a3-76099a094968"
      },
      "execution_count": null,
      "outputs": [
        {
          "output_type": "stream",
          "name": "stdout",
          "text": [
            "71 founded!\n",
            "{'Type': 'Dog', 'Age': 2, 'Breed1': 'Mixed Breed', 'Gender': 'Female', 'Color1': 'Brown', 'Color2': 'No Color', 'MaturitySize': 'Small', 'FurLength': 'Medium', 'Vaccinated': 'No', 'Sterilized': 'Yes', 'Health': 'Healthy', 'Fee': 0, 'Description': '2 months old female dog ... very friendly and active', 'PhotoAmt': 0, 'AdoptionSpeed': 4}\n",
            "{'Type': 'Dog', 'Age': 3, 'Breed1': 'Mixed Breed', 'Gender': 'Female', 'Color1': 'Black', 'Color2': 'Brown', 'MaturitySize': 'Medium', 'FurLength': 'Medium', 'Vaccinated': 'Yes', 'Sterilized': 'Not Sure', 'Health': 'Healthy', 'Fee': 100, 'Description': 'Friendly and active dog who loves to play with people and other dogs.', 'PhotoAmt': 3, 'AdoptionSpeed': 4}\n",
            "{'Type': 'Dog', 'Age': 3, 'Breed1': 'Mixed Breed', 'Gender': 'Male', 'Color1': 'Black', 'Color2': 'White', 'MaturitySize': 'Medium', 'FurLength': 'Short', 'Vaccinated': 'No', 'Sterilized': 'No', 'Health': 'Healthy', 'Fee': 0, 'Description': 'stray dog puppy about 3mths+. friendly, healthy&active. adopter need to vaccine+deworm once adopted.', 'PhotoAmt': 1, 'AdoptionSpeed': 3}\n",
            "{'Type': 'Dog', 'Age': 3, 'Breed1': 'Mixed Breed', 'Gender': 'Male', 'Color1': 'Black', 'Color2': 'No Color', 'MaturitySize': 'Medium', 'FurLength': 'Short', 'Vaccinated': 'No', 'Sterilized': 'No', 'Health': 'Healthy', 'Fee': 0, 'Description': 'stray dog puppy about 3mths+. healthy and active. adopter need to vaccine+deworm once adopted. friendly', 'PhotoAmt': 1, 'AdoptionSpeed': 3}\n",
            "{'Type': 'Dog', 'Age': 9, 'Breed1': 'Beagle', 'Gender': 'Male', 'Color1': 'Brown', 'Color2': 'White', 'MaturitySize': 'Large', 'FurLength': 'Medium', 'Vaccinated': 'Yes', 'Sterilized': 'Not Sure', 'Health': 'Healthy', 'Fee': 0, 'Description': 'He is a friendly and active dog. He is also very playful. His energy is like unlimited.', 'PhotoAmt': 2, 'AdoptionSpeed': 1}\n"
          ]
        }
      ]
    },
    {
      "cell_type": "markdown",
      "source": [
        "### Mappings for processing data\n",
        "---\n",
        "We will update the index by creating some filters for our tokens generation and we will alzo apply it to the field \"description\"\n"
      ],
      "metadata": {
        "id": "_NYm47Ai4STA"
      }
    },
    {
      "cell_type": "code",
      "source": [
        "new_index = {\n",
        "  \"settings\":\n",
        "  {\n",
        "    \"analysis\":\n",
        "    {\n",
        "      \"analyzer\":\n",
        "      {\n",
        "        \"my_analyzer\":\n",
        "        {\n",
        "          \"tokenizer\": \"standard\",\n",
        "          \"filter\": [\n",
        "            \"my_stemmer\",\n",
        "            \"english_stop\",\n",
        "            \"my_stop_word\",\n",
        "            \"lowercase\"\n",
        "          ]\n",
        "        }\n",
        "      },\n",
        "      \"filter\": {\n",
        "        \"my_stemmer\": {\n",
        "          \"type\": \"stemmer\",\n",
        "          \"name\": \"english\"\n",
        "        },\n",
        "        \"english_stop\":{\n",
        "          \"type\": \"stop\",\n",
        "          \"stopwords\": \"_english_\"\n",
        "        },\n",
        "        \"my_stop_word\": {\n",
        "          \"type\": \"stop\",\n",
        "          \"stopwords\": [\"robot\", \"love\", \"affection\", \"play\", \"the\"]\n",
        "        }\n",
        "      }\n",
        "    }\n",
        "  },\n",
        "  \"mappings\": {\n",
        "    \"properties\": {\n",
        "      \"Description\": {\n",
        "        \"type\": \"text\",\n",
        "        \"analyzer\": \"my_analyzer\"\n",
        "      }\n",
        "    }\n",
        "  }\n",
        "}\n",
        "\n"
      ],
      "metadata": {
        "id": "DCdYOfhu7DT5"
      },
      "execution_count": null,
      "outputs": []
    },
    {
      "cell_type": "code",
      "source": [
        "def prepare_es_data(index, doc_type, df):\n",
        "  records = df.to_dict(orient=\"records\")\n",
        "  es_data = []\n",
        "  for idx, record in enumerate(records):\n",
        "    meta_dict = {\n",
        "          \"index\": {\n",
        "              \"_index\": index,\n",
        "              \"_type\": doc_type,\n",
        "              \"_id\": idx\n",
        "          }\n",
        "      }\n",
        "    es_data.append(meta_dict)\n",
        "    es_data.append(record)\n",
        "\n",
        "  return es_data\n",
        "\n",
        "def index_es_data(index, pf_df):\n",
        "  if es_client.indices.exists(index = index):\n",
        "      print(\"deleting the '{}' index.\".format(index))\n",
        "      res = es_client.indices.delete(index=index)\n",
        "      print(\"Response from server: {}\".format(res))\n",
        "\n",
        "  print(\"creating the '{}' index.\".format(index))\n",
        "  res = es_client.indices.create(index=index,body=new_index)\n",
        "  print(\"Response from server: {}\".format(res))\n",
        "  es_data = prepare_es_data(index=\"pets\", doc_type=\"_doc\", df=pf_df)\n",
        "  print(\"bulk index the data\")\n",
        "  res = es_client.bulk(index=index, body=es_data, refresh = True)\n",
        "  print(\"Errors: {}, Num of records indexed: {}\".format(res[\"errors\"], len(res[\"items\"])))\n",
        "\n",
        "index_es_data(\"pets\", pf_df)"
      ],
      "metadata": {
        "colab": {
          "base_uri": "https://localhost:8080/"
        },
        "id": "5-O86V6M5Vxo",
        "outputId": "bbb841ec-83c8-4dc8-b30d-d838bb94164b"
      },
      "execution_count": null,
      "outputs": [
        {
          "output_type": "stream",
          "name": "stdout",
          "text": [
            "deleting the 'pets' index.\n",
            "Response from server: {'acknowledged': True}\n",
            "creating the 'pets' index.\n",
            "Response from server: {'acknowledged': True, 'shards_acknowledged': True, 'index': 'pets'}\n",
            "bulk index the data\n",
            "Errors: True, Num of records indexed: 11537\n"
          ]
        }
      ]
    },
    {
      "cell_type": "code",
      "source": [
        "query = {\n",
        "  \"query\": {\n",
        "    \"query_string\": {\n",
        "      \"default_field\": \"Description\",\n",
        "      \"query\": \"friendly and active dogs\",\n",
        "      \"default_operator\": \"AND\"\n",
        "    }\n",
        "  }\n",
        "}\n",
        "\n",
        "\n",
        "response = es_client.search(index=\"pets\",body=query)\n",
        "\n",
        "print(f'{response[\"hits\"][\"total\"][\"value\"]} founded!')\n",
        "for pet in  response[\"hits\"][\"hits\"][:5]:\n",
        "  print(pet[\"_source\"])"
      ],
      "metadata": {
        "colab": {
          "base_uri": "https://localhost:8080/"
        },
        "id": "pzU_YWafE2h6",
        "outputId": "ffafee25-27fe-472e-d2d5-91f05d73b4a4"
      },
      "execution_count": null,
      "outputs": [
        {
          "output_type": "stream",
          "name": "stdout",
          "text": [
            "88 founded!\n",
            "{'Type': 'Dog', 'Age': 3, 'Breed1': 'Mixed Breed', 'Gender': 'Female', 'Color1': 'Black', 'Color2': 'Brown', 'MaturitySize': 'Medium', 'FurLength': 'Medium', 'Vaccinated': 'Yes', 'Sterilized': 'Not Sure', 'Health': 'Healthy', 'Fee': 100, 'Description': 'Friendly and active dog who loves to play with people and other dogs.', 'PhotoAmt': 3, 'AdoptionSpeed': 4}\n",
            "{'Type': 'Dog', 'Age': 2, 'Breed1': 'Mixed Breed', 'Gender': 'Female', 'Color1': 'Brown', 'Color2': 'No Color', 'MaturitySize': 'Small', 'FurLength': 'Medium', 'Vaccinated': 'No', 'Sterilized': 'Yes', 'Health': 'Healthy', 'Fee': 0, 'Description': '2 months old female dog ... very friendly and active', 'PhotoAmt': 0, 'AdoptionSpeed': 4}\n",
            "{'Type': 'Dog', 'Age': 9, 'Breed1': 'Beagle', 'Gender': 'Male', 'Color1': 'Brown', 'Color2': 'White', 'MaturitySize': 'Large', 'FurLength': 'Medium', 'Vaccinated': 'Yes', 'Sterilized': 'Not Sure', 'Health': 'Healthy', 'Fee': 0, 'Description': 'He is a friendly and active dog. He is also very playful. His energy is like unlimited.', 'PhotoAmt': 2, 'AdoptionSpeed': 1}\n",
            "{'Type': 'Dog', 'Age': 3, 'Breed1': 'Mixed Breed', 'Gender': 'Male', 'Color1': 'Black', 'Color2': 'Brown', 'MaturitySize': 'Large', 'FurLength': 'Short', 'Vaccinated': 'Not Sure', 'Sterilized': 'Not Sure', 'Health': 'Healthy', 'Fee': 50, 'Description': 'Very friendly, active and also can be train as a guard dog..toilet trained..such a wonderfull boy..', 'PhotoAmt': 2, 'AdoptionSpeed': 4}\n",
            "{'Type': 'Dog', 'Age': 3, 'Breed1': 'Mixed Breed', 'Gender': 'Male', 'Color1': 'Black', 'Color2': 'White', 'MaturitySize': 'Medium', 'FurLength': 'Short', 'Vaccinated': 'No', 'Sterilized': 'No', 'Health': 'Healthy', 'Fee': 0, 'Description': 'stray dog puppy about 3mths+. friendly, healthy&active. adopter need to vaccine+deworm once adopted.', 'PhotoAmt': 1, 'AdoptionSpeed': 3}\n"
          ]
        }
      ]
    },
    {
      "cell_type": "code",
      "source": [
        "query = {\n",
        "  \"query\": {\n",
        "    \"query_string\": {\n",
        "      \"default_field\": \"Description\",\n",
        "      \"query\": \"friendly active dog\",\n",
        "      \"default_operator\": \"AND\"\n",
        "    }\n",
        "  }\n",
        "}\n",
        "\n",
        "\n",
        "response = es_client.search(index=\"pets\",body=query)\n",
        "\n",
        "print(f'{response[\"hits\"][\"total\"][\"value\"]} founded!')\n",
        "for pet in  response[\"hits\"][\"hits\"][:5]:\n",
        "  print(pet[\"_source\"])"
      ],
      "metadata": {
        "colab": {
          "base_uri": "https://localhost:8080/"
        },
        "id": "NceuyDVUE-UY",
        "outputId": "d49b7322-cb31-4824-c61c-644f1c7c8480"
      },
      "execution_count": null,
      "outputs": [
        {
          "output_type": "stream",
          "name": "stdout",
          "text": [
            "88 founded!\n",
            "{'Type': 'Dog', 'Age': 3, 'Breed1': 'Mixed Breed', 'Gender': 'Female', 'Color1': 'Black', 'Color2': 'Brown', 'MaturitySize': 'Medium', 'FurLength': 'Medium', 'Vaccinated': 'Yes', 'Sterilized': 'Not Sure', 'Health': 'Healthy', 'Fee': 100, 'Description': 'Friendly and active dog who loves to play with people and other dogs.', 'PhotoAmt': 3, 'AdoptionSpeed': 4}\n",
            "{'Type': 'Dog', 'Age': 2, 'Breed1': 'Mixed Breed', 'Gender': 'Female', 'Color1': 'Brown', 'Color2': 'No Color', 'MaturitySize': 'Small', 'FurLength': 'Medium', 'Vaccinated': 'No', 'Sterilized': 'Yes', 'Health': 'Healthy', 'Fee': 0, 'Description': '2 months old female dog ... very friendly and active', 'PhotoAmt': 0, 'AdoptionSpeed': 4}\n",
            "{'Type': 'Dog', 'Age': 9, 'Breed1': 'Beagle', 'Gender': 'Male', 'Color1': 'Brown', 'Color2': 'White', 'MaturitySize': 'Large', 'FurLength': 'Medium', 'Vaccinated': 'Yes', 'Sterilized': 'Not Sure', 'Health': 'Healthy', 'Fee': 0, 'Description': 'He is a friendly and active dog. He is also very playful. His energy is like unlimited.', 'PhotoAmt': 2, 'AdoptionSpeed': 1}\n",
            "{'Type': 'Dog', 'Age': 3, 'Breed1': 'Mixed Breed', 'Gender': 'Male', 'Color1': 'Black', 'Color2': 'Brown', 'MaturitySize': 'Large', 'FurLength': 'Short', 'Vaccinated': 'Not Sure', 'Sterilized': 'Not Sure', 'Health': 'Healthy', 'Fee': 50, 'Description': 'Very friendly, active and also can be train as a guard dog..toilet trained..such a wonderfull boy..', 'PhotoAmt': 2, 'AdoptionSpeed': 4}\n",
            "{'Type': 'Dog', 'Age': 3, 'Breed1': 'Mixed Breed', 'Gender': 'Male', 'Color1': 'Black', 'Color2': 'White', 'MaturitySize': 'Medium', 'FurLength': 'Short', 'Vaccinated': 'No', 'Sterilized': 'No', 'Health': 'Healthy', 'Fee': 0, 'Description': 'stray dog puppy about 3mths+. friendly, healthy&active. adopter need to vaccine+deworm once adopted.', 'PhotoAmt': 1, 'AdoptionSpeed': 3}\n"
          ]
        }
      ]
    },
    {
      "cell_type": "markdown",
      "source": [
        "### Filters\n",
        "By using filters we are able not to perform searches but to segment our dataset, this is the equivalent to WHERE clause on SQL\n"
      ],
      "metadata": {
        "id": "ouOyl57q9lZ1"
      }
    },
    {
      "cell_type": "code",
      "source": [
        "query = {\n",
        "\n",
        "  \"query\": {\n",
        "    \"match\": {\n",
        "      \"Breed1\": \"Beagle\"\n",
        "    }\n",
        "  }\n",
        "}\n",
        "\n",
        "\n",
        "response = es_client.search(index=\"pets\",body=query)\n",
        "\n",
        "print(f'{response[\"hits\"][\"total\"][\"value\"]} founded!')\n",
        "for pet in  response[\"hits\"][\"hits\"][:5]:\n",
        "  print(pet[\"_source\"])"
      ],
      "metadata": {
        "colab": {
          "base_uri": "https://localhost:8080/"
        },
        "id": "ry-KaqXJ9obc",
        "outputId": "0b59daa4-b2de-49bb-85fc-280fa6bc7fd2"
      },
      "execution_count": null,
      "outputs": [
        {
          "output_type": "stream",
          "name": "stdout",
          "text": [
            "86 founded!\n",
            "{'Type': 'Dog', 'Age': 22, 'Breed1': 'Beagle', 'Gender': 'Male', 'Color1': 'Brown', 'Color2': 'Cream', 'MaturitySize': 'Medium', 'FurLength': 'Short', 'Vaccinated': 'Yes', 'Sterilized': 'No', 'Health': 'Healthy', 'Fee': 0, 'Description': 'Very aggressive, playful and obedient. He needs someone pay attention to him.', 'PhotoAmt': 0, 'AdoptionSpeed': 3}\n",
            "{'Type': 'Dog', 'Age': 18, 'Breed1': 'Beagle', 'Gender': 'Female', 'Color1': 'Brown', 'Color2': 'White', 'MaturitySize': 'Medium', 'FurLength': 'Short', 'Vaccinated': 'Yes', 'Sterilized': 'Yes', 'Health': 'Healthy', 'Fee': 0, 'Description': 'Chanelle found a home!', 'PhotoAmt': 10, 'AdoptionSpeed': 0}\n",
            "{'Type': 'Dog', 'Age': 55, 'Breed1': 'Beagle', 'Gender': 'Male', 'Color1': 'Black', 'Color2': 'Yellow', 'MaturitySize': 'Medium', 'FurLength': 'Short', 'Vaccinated': 'Yes', 'Sterilized': 'Yes', 'Health': 'Healthy', 'Fee': 0, 'Description': 'Rocco is an adorable beagle. My wife bought her to me 4 years ago, almost when we just arrived. Rocco loves to be among people, she\\'s very playful and excellent to get along with cats since she has grown up with couple of them. Unfortunately I\\'m moving and I cannot bring her with me. It\\'s really heartbreaking but I have no choice. Rocco is partially trained, understands \"sit\", \"stay\" & \"down\". Always at night we go out to take a short walk and play for a bit ( min) and then I feed her.', 'PhotoAmt': 5, 'AdoptionSpeed': 2}\n",
            "{'Type': 'Dog', 'Age': 5, 'Breed1': 'Beagle', 'Gender': 'Female', 'Color1': 'Black', 'Color2': 'Brown', 'MaturitySize': 'Medium', 'FurLength': 'Short', 'Vaccinated': 'Not Sure', 'Sterilized': 'Not Sure', 'Health': 'Healthy', 'Fee': 300, 'Description': 'finish 3 injection free skin vitamin pls call', 'PhotoAmt': 1, 'AdoptionSpeed': 1}\n",
            "{'Type': 'Dog', 'Age': 76, 'Breed1': 'Beagle', 'Gender': 'Female', 'Color1': 'Black', 'Color2': 'Brown', 'MaturitySize': 'Medium', 'FurLength': 'Medium', 'Vaccinated': 'Yes', 'Sterilized': 'No', 'Health': 'Healthy', 'Fee': 0, 'Description': 'Babie she is a smart, playfull and friendly dog with the MKA certificate. Only for the serious dog lover are welcome for adoption.', 'PhotoAmt': 2, 'AdoptionSpeed': 2}\n"
          ]
        }
      ]
    },
    {
      "cell_type": "markdown",
      "source": [
        "We can combine multiple filters, for example Beagles of Gender equals Male, this is equivalent (breed=beagle and Gender=Male)"
      ],
      "metadata": {
        "id": "2Emh2WPF-U5N"
      }
    },
    {
      "cell_type": "code",
      "source": [
        "query ={\n",
        "  \"query\": {\n",
        "    \"bool\": {\n",
        "      \"must\": [\n",
        "        {\n",
        "          \"match\": {\n",
        "            \"Breed1\": \"Beagle\"\n",
        "          }\n",
        "        },\n",
        "        {\n",
        "          \"match\": {\n",
        "            \"Gender\": \"Male\"\n",
        "          }\n",
        "        }\n",
        "      ]\n",
        "    }\n",
        "  }\n",
        "}\n",
        "\n",
        "\n",
        "response = es_client.search(index=\"pets\",body=query)\n",
        "\n",
        "print(f'{response[\"hits\"][\"total\"][\"value\"]} founded!')\n",
        "for pet in  response[\"hits\"][\"hits\"][:5]:\n",
        "  print(pet[\"_source\"])"
      ],
      "metadata": {
        "colab": {
          "base_uri": "https://localhost:8080/"
        },
        "id": "LSRHIkA8-dG8",
        "outputId": "7942ef72-d3a9-41a7-9204-3619fffdfe28"
      },
      "execution_count": null,
      "outputs": [
        {
          "output_type": "stream",
          "name": "stdout",
          "text": [
            "49 founded!\n",
            "{'Type': 'Dog', 'Age': 22, 'Breed1': 'Beagle', 'Gender': 'Male', 'Color1': 'Brown', 'Color2': 'Cream', 'MaturitySize': 'Medium', 'FurLength': 'Short', 'Vaccinated': 'Yes', 'Sterilized': 'No', 'Health': 'Healthy', 'Fee': 0, 'Description': 'Very aggressive, playful and obedient. He needs someone pay attention to him.', 'PhotoAmt': 0, 'AdoptionSpeed': 3}\n",
            "{'Type': 'Dog', 'Age': 55, 'Breed1': 'Beagle', 'Gender': 'Male', 'Color1': 'Black', 'Color2': 'Yellow', 'MaturitySize': 'Medium', 'FurLength': 'Short', 'Vaccinated': 'Yes', 'Sterilized': 'Yes', 'Health': 'Healthy', 'Fee': 0, 'Description': 'Rocco is an adorable beagle. My wife bought her to me 4 years ago, almost when we just arrived. Rocco loves to be among people, she\\'s very playful and excellent to get along with cats since she has grown up with couple of them. Unfortunately I\\'m moving and I cannot bring her with me. It\\'s really heartbreaking but I have no choice. Rocco is partially trained, understands \"sit\", \"stay\" & \"down\". Always at night we go out to take a short walk and play for a bit ( min) and then I feed her.', 'PhotoAmt': 5, 'AdoptionSpeed': 2}\n",
            "{'Type': 'Dog', 'Age': 60, 'Breed1': 'Beagle', 'Gender': 'Male', 'Color1': 'Black', 'Color2': 'Brown', 'MaturitySize': 'Medium', 'FurLength': 'Medium', 'Vaccinated': 'No', 'Sterilized': 'No', 'Health': 'Minor Injury', 'Fee': 0, 'Description': \"My new foster call me MAX, but I still a bit slow to respond. I don't remember where I came from. I was found in the drain a month ago.. the person who rescued me kept me for 2 weeks, maybe I upset them.. so they gave me away to their relatives after 2 weeks.. I was there about another 2 weeks, they kept me because I am an expensive breed, but they don't know me, they don't understand how my breed's behaviour,they let me stay at car porch with hardly any roof, I been tied up... that's why I got tick fever from lack of care.. then once again I got abandoned. My new foster took me home, my eyes hardly see anything and almost blind because of the tick fever. I went to doctor, and my eyes is getting better now. My new fosterer gave me heart guard and apply front line on me. I am always horny that's why I can't get along with my new foster female dog. I am very playful, but sadly I don't know how to play..... I wish I can find someone who willing to give me a good home, I don't like been tied up or staying in cage any more, I need patient people to train me, I am willing to learn. I want to be spay because I hate breeder to use me as a money making machine. Please bring me home, I can bring a lot of joys to you and your family. Please contact my foster and take a look at me. From NEW MAX Note : Please study my breed's behavior before you want to adopt me. No SMS, please call\", 'PhotoAmt': 5, 'AdoptionSpeed': 1}\n",
            "{'Type': 'Dog', 'Age': 60, 'Breed1': 'Beagle', 'Gender': 'Male', 'Color1': 'Brown', 'Color2': 'White', 'MaturitySize': 'Medium', 'FurLength': 'Short', 'Vaccinated': 'Not Sure', 'Sterilized': 'Yes', 'Health': 'Healthy', 'Fee': 300, 'Description': \"This sweet boy is looking for his forever home! Very happy and healthy, he'd love a family that lets him inside :) Plenty of attention and treats is all he needs!\", 'PhotoAmt': 4, 'AdoptionSpeed': 3}\n",
            "{'Type': 'Dog', 'Age': 24, 'Breed1': 'Beagle', 'Gender': 'Male', 'Color1': 'Black', 'Color2': 'Brown', 'MaturitySize': 'Medium', 'FurLength': 'Short', 'Vaccinated': 'Yes', 'Sterilized': 'Yes', 'Health': 'Healthy', 'Fee': 300, 'Description': 'Ms. Bee found Benji wandering in Bukit Tinggi, Klang on January 1, and posted online to look for his owner. She later passed Benji to us to foster while looking for his owner. If this is your Beagle, kindly provide proof of ownership (e.g. his photos, vet records etc). Please send us a message if you are looking for this Beagle.', 'PhotoAmt': 1, 'AdoptionSpeed': 3}\n"
          ]
        }
      ]
    },
    {
      "cell_type": "markdown",
      "source": [
        "We can perform OR operations , for example ((breed=beagle OR breed=Rottweiler) and Gender=Male)"
      ],
      "metadata": {
        "id": "SDE8T1Ln_8Et"
      }
    },
    {
      "cell_type": "code",
      "source": [
        "query ={\n",
        "  \"query\": {\n",
        "    \"bool\": {\n",
        "      \"must\": [\n",
        "        {\n",
        "          \"bool\": {\n",
        "            \"should\": [\n",
        "              {\n",
        "                \"match\": {\n",
        "                  \"Breed1\": \"Beagle\"\n",
        "                }\n",
        "              },\n",
        "              {\n",
        "                \"match\": {\n",
        "                  \"Breed1\": \"Rottweiler\"\n",
        "                }\n",
        "              }\n",
        "            ]\n",
        "          }\n",
        "        },\n",
        "        {\n",
        "          \"match\": {\n",
        "            \"Gender\": \"Male\"\n",
        "          }\n",
        "        }\n",
        "      ]\n",
        "    }\n",
        "  }\n",
        "}\n",
        "\n",
        "\n",
        "\n",
        "response = es_client.search(index=\"pets\",body=query)\n",
        "\n",
        "print(f'{response[\"hits\"][\"total\"][\"value\"]} founded!')\n",
        "for pet in  response[\"hits\"][\"hits\"][:5]:\n",
        "  print(pet[\"_source\"])"
      ],
      "metadata": {
        "colab": {
          "base_uri": "https://localhost:8080/"
        },
        "id": "EcZcWCyMAaae",
        "outputId": "3252776d-081a-4738-9733-57f0e53382be"
      },
      "execution_count": null,
      "outputs": [
        {
          "output_type": "stream",
          "name": "stdout",
          "text": [
            "93 founded!\n",
            "{'Type': 'Dog', 'Age': 14, 'Breed1': 'Rottweiler', 'Gender': 'Male', 'Color1': 'Black', 'Color2': 'Brown', 'MaturitySize': 'Large', 'FurLength': 'Short', 'Vaccinated': 'Yes', 'Sterilized': 'No', 'Health': 'Healthy', 'Fee': 1, 'Description': 'healthy and active , skinny and tall, as the mother (doberman) fully vaccinated , dewormed. Authorities not allowed have more than 1 dog at home, they dont issue license .', 'PhotoAmt': 0, 'AdoptionSpeed': 3}\n",
            "{'Type': 'Dog', 'Age': 2, 'Breed1': 'Rottweiler', 'Gender': 'Male', 'Color1': 'Black', 'Color2': 'Brown', 'MaturitySize': 'Large', 'FurLength': 'Medium', 'Vaccinated': 'Not Sure', 'Sterilized': 'Not Sure', 'Health': 'Healthy', 'Fee': 0, 'Description': 'We was found this dog from a roadside i think its abandoned, Its a Rottweiler mix breed.. If anybody would like to take care and give him a new home by ur kind adoption pls do contact me. -Rishi Location : Taman kinrara sek 2,Puchong **Your kind adoption will give them a new life,Thanks and God Bless**', 'PhotoAmt': 4, 'AdoptionSpeed': 2}\n",
            "{'Type': 'Dog', 'Age': 36, 'Breed1': 'Rottweiler', 'Gender': 'Male', 'Color1': 'Black', 'Color2': 'Cream', 'MaturitySize': 'Large', 'FurLength': 'Short', 'Vaccinated': 'Yes', 'Sterilized': 'Yes', 'Health': 'Healthy', 'Fee': 0, 'Description': \"I am looking for a loving permanent home for Kaiser. Kaiser is a really amazing, sweet and funny dog. He is very loving and affectionate, who loves and NEEDS attention. He needs someone that will treat him like part of the family and the sweet dog he is. He grew up with 2 cats and another small dog. he loves cats however it takes him awhile to respond well to new dogs. He never really socialized with children before, so if you have kids I would suggest meeting Kaiser with them before making a decision.He grew up mostly as an indoor dog but can do well outside if there is a shady place for him to relax during the hot parts of the day. NO Cage, No chain! please note that Kaiser is a family pet not guard dog. Kaiser is a pure breed rottweiler, he has his MKA certificate, basic dog obedience training certificate and a good citizens award metal. He also knows almost all the tricks: sit, stay, shake etc.and is a super fast learner. The reason I have to give him up for adaption is, Im an expat who was living in Malaysia for 5 years, I had to leave and unfortunately I was unable to take Kaiser with me (his breed was band in the country I moved to). I'm looking for someone to give him a permanent loving home. Kaiser is one of those dogs that crave that best friend relationship with his owner. so if you think he sounds like a good match for you please email me. my number is not available as I am out of the country, Kaiser is staying with my friend in Selangor for now.\", 'PhotoAmt': 4, 'AdoptionSpeed': 2}\n",
            "{'Type': 'Dog', 'Age': 10, 'Breed1': 'Rottweiler', 'Gender': 'Male', 'Color1': 'Black', 'Color2': 'No Color', 'MaturitySize': 'Large', 'FurLength': 'Short', 'Vaccinated': 'Yes', 'Sterilized': 'No', 'Health': 'Healthy', 'Fee': 500, 'Description': 'Rocky is healthy, playful and active. I decided to let go for adoption as I will be posting to oversea for work and have nobody to take care of this little one.', 'PhotoAmt': 1, 'AdoptionSpeed': 1}\n",
            "{'Type': 'Dog', 'Age': 24, 'Breed1': 'Rottweiler', 'Gender': 'Male', 'Color1': 'Black', 'Color2': 'Brown', 'MaturitySize': 'Large', 'FurLength': 'Short', 'Vaccinated': 'Not Sure', 'Sterilized': 'Not Sure', 'Health': 'Healthy', 'Fee': 0, 'Description': 'Dog for adoption', 'PhotoAmt': 1, 'AdoptionSpeed': 1}\n"
          ]
        }
      ]
    },
    {
      "cell_type": "markdown",
      "source": [
        "### Faceted Search\n",
        "\n",
        "Is very common to mix filters and text searches , this is known as a faceted search (multiple facets) for example in the first search, lets include an aggregation component, this might help to know what are the top 100 common \"breeds\" matches to the text search \"friendly and active dogs\", this is the equivalent of a \"Group by\" clausure in SQL"
      ],
      "metadata": {
        "id": "wycKqIqpBIkm"
      }
    },
    {
      "cell_type": "code",
      "source": [
        "query = {\n",
        "  \"query\": {\n",
        "    \"query_string\": {\n",
        "      \"default_field\": \"Description\",\n",
        "      \"query\": \"friendly and active dogs\",\n",
        "      \"default_operator\": \"AND\"\n",
        "    }\n",
        "  },\n",
        "  \"aggs\": {\n",
        "    \"breeds\": {\n",
        "      \"terms\": {\n",
        "        \"field\": \"Breed1.keyword\",\n",
        "        \"size\": 100\n",
        "      }\n",
        "    }\n",
        "  }\n",
        "}\n",
        "\n",
        "\n",
        "response = es_client.search(index=\"pets\",body=query)\n",
        "\n",
        "print(f'{response[\"hits\"][\"total\"][\"value\"]} founded!')\n",
        "for pet in  response[\"hits\"][\"hits\"][:5]:\n",
        "  print(pet[\"_source\"])\n",
        "print(f'{len(response[\"aggregations\"][\"breeds\"][\"buckets\"])} breeds avialable to filter!')\n",
        "for breed in response[\"aggregations\"][\"breeds\"][\"buckets\"]:\n",
        "  print(breed)"
      ],
      "metadata": {
        "colab": {
          "base_uri": "https://localhost:8080/"
        },
        "id": "diAT535yBqtk",
        "outputId": "85e79d0d-d5ba-4d11-becd-e4785af08bae"
      },
      "execution_count": null,
      "outputs": [
        {
          "output_type": "stream",
          "name": "stdout",
          "text": [
            "88 founded!\n",
            "{'Type': 'Dog', 'Age': 3, 'Breed1': 'Mixed Breed', 'Gender': 'Female', 'Color1': 'Black', 'Color2': 'Brown', 'MaturitySize': 'Medium', 'FurLength': 'Medium', 'Vaccinated': 'Yes', 'Sterilized': 'Not Sure', 'Health': 'Healthy', 'Fee': 100, 'Description': 'Friendly and active dog who loves to play with people and other dogs.', 'PhotoAmt': 3, 'AdoptionSpeed': 4}\n",
            "{'Type': 'Dog', 'Age': 2, 'Breed1': 'Mixed Breed', 'Gender': 'Female', 'Color1': 'Brown', 'Color2': 'No Color', 'MaturitySize': 'Small', 'FurLength': 'Medium', 'Vaccinated': 'No', 'Sterilized': 'Yes', 'Health': 'Healthy', 'Fee': 0, 'Description': '2 months old female dog ... very friendly and active', 'PhotoAmt': 0, 'AdoptionSpeed': 4}\n",
            "{'Type': 'Dog', 'Age': 9, 'Breed1': 'Beagle', 'Gender': 'Male', 'Color1': 'Brown', 'Color2': 'White', 'MaturitySize': 'Large', 'FurLength': 'Medium', 'Vaccinated': 'Yes', 'Sterilized': 'Not Sure', 'Health': 'Healthy', 'Fee': 0, 'Description': 'He is a friendly and active dog. He is also very playful. His energy is like unlimited.', 'PhotoAmt': 2, 'AdoptionSpeed': 1}\n",
            "{'Type': 'Dog', 'Age': 3, 'Breed1': 'Mixed Breed', 'Gender': 'Male', 'Color1': 'Black', 'Color2': 'Brown', 'MaturitySize': 'Large', 'FurLength': 'Short', 'Vaccinated': 'Not Sure', 'Sterilized': 'Not Sure', 'Health': 'Healthy', 'Fee': 50, 'Description': 'Very friendly, active and also can be train as a guard dog..toilet trained..such a wonderfull boy..', 'PhotoAmt': 2, 'AdoptionSpeed': 4}\n",
            "{'Type': 'Dog', 'Age': 3, 'Breed1': 'Mixed Breed', 'Gender': 'Male', 'Color1': 'Black', 'Color2': 'White', 'MaturitySize': 'Medium', 'FurLength': 'Short', 'Vaccinated': 'No', 'Sterilized': 'No', 'Health': 'Healthy', 'Fee': 0, 'Description': 'stray dog puppy about 3mths+. friendly, healthy&active. adopter need to vaccine+deworm once adopted.', 'PhotoAmt': 1, 'AdoptionSpeed': 3}\n",
            "24 breeds avialable to filter!\n",
            "{'key': 'Mixed Breed', 'doc_count': 52}\n",
            "{'key': 'Beagle', 'doc_count': 4}\n",
            "{'key': 'Labrador Retriever', 'doc_count': 3}\n",
            "{'key': 'Poodle', 'doc_count': 3}\n",
            "{'key': 'Dalmatian', 'doc_count': 2}\n",
            "{'key': 'Domestic Short Hair', 'doc_count': 2}\n",
            "{'key': 'German Shepherd Dog', 'doc_count': 2}\n",
            "{'key': 'Golden Retriever', 'doc_count': 2}\n",
            "{'key': 'Shih Tzu', 'doc_count': 2}\n",
            "{'key': 'Terrier', 'doc_count': 2}\n",
            "{'key': 'Belgian Shepherd Malinois', 'doc_count': 1}\n",
            "{'key': 'Border Collie', 'doc_count': 1}\n",
            "{'key': 'Bull Terrier', 'doc_count': 1}\n",
            "{'key': 'Cocker Spaniel', 'doc_count': 1}\n",
            "{'key': 'Doberman Pinscher', 'doc_count': 1}\n",
            "{'key': 'Domestic Medium Hair', 'doc_count': 1}\n",
            "{'key': 'English Bulldog', 'doc_count': 1}\n",
            "{'key': 'Husky', 'doc_count': 1}\n",
            "{'key': 'Jack Russell Terrier', 'doc_count': 1}\n",
            "{'key': 'Miniature Pinscher', 'doc_count': 1}\n",
            "{'key': 'Pug', 'doc_count': 1}\n",
            "{'key': 'Rottweiler', 'doc_count': 1}\n",
            "{'key': 'Spitz', 'doc_count': 1}\n",
            "{'key': 'Tuxedo', 'doc_count': 1}\n"
          ]
        }
      ]
    },
    {
      "cell_type": "markdown",
      "source": [
        "This first facet now can be repeated but filtering an specific Breed and now lets see the fur lenght avialable."
      ],
      "metadata": {
        "id": "c3d7FV-HC818"
      }
    },
    {
      "cell_type": "code",
      "source": [
        "query = {\n",
        "  \"query\": {\n",
        "    \"bool\": {\n",
        "      \"must\": [\n",
        "        {\n",
        "          \"query_string\": {\n",
        "            \"default_field\": \"Description\",\n",
        "            \"query\": \"friendly and active dogs\",\n",
        "            \"default_operator\": \"AND\"\n",
        "          }\n",
        "        },\n",
        "        {\n",
        "          \"match\": {\n",
        "            \"Breed1\": \"Beagle\"\n",
        "          }\n",
        "        }\n",
        "      ]\n",
        "    }\n",
        "  },\n",
        "  \"aggs\": {\n",
        "    \"fur\": {\n",
        "      \"terms\": {\n",
        "        \"field\": \"FurLength.keyword\",\n",
        "        \"size\": 100\n",
        "      }\n",
        "    }\n",
        "  }\n",
        "}\n",
        "\n",
        "\n",
        "\n",
        "\n",
        "response = es_client.search(index=\"pets\",body=query)\n",
        "\n",
        "print(f'{response[\"hits\"][\"total\"][\"value\"]} founded!')\n",
        "for pet in  response[\"hits\"][\"hits\"][:5]:\n",
        "  print(pet[\"_source\"])\n",
        "print(f'{len(response[\"aggregations\"][\"fur\"][\"buckets\"])} fur avialable to filter!')\n",
        "for breed in response[\"aggregations\"][\"fur\"][\"buckets\"]:\n",
        "  print(breed)"
      ],
      "metadata": {
        "colab": {
          "base_uri": "https://localhost:8080/"
        },
        "id": "Dvv159juC8O1",
        "outputId": "ea8412d5-90bf-443b-e335-d53f960f0103"
      },
      "execution_count": null,
      "outputs": [
        {
          "output_type": "stream",
          "name": "stdout",
          "text": [
            "4 founded!\n",
            "{'Type': 'Dog', 'Age': 9, 'Breed1': 'Beagle', 'Gender': 'Male', 'Color1': 'Brown', 'Color2': 'White', 'MaturitySize': 'Large', 'FurLength': 'Medium', 'Vaccinated': 'Yes', 'Sterilized': 'Not Sure', 'Health': 'Healthy', 'Fee': 0, 'Description': 'He is a friendly and active dog. He is also very playful. His energy is like unlimited.', 'PhotoAmt': 2, 'AdoptionSpeed': 1}\n",
            "{'Type': 'Dog', 'Age': 48, 'Breed1': 'Beagle', 'Gender': 'Male', 'Color1': 'Black', 'Color2': 'Brown', 'MaturitySize': 'Medium', 'FurLength': 'Medium', 'Vaccinated': 'Yes', 'Sterilized': 'Yes', 'Health': 'Healthy', 'Fee': 500, 'Description': \"Bosco is looking for a new owner as he deserves a better home with more time and companionship. He is an active, loving and friendly dog. Smart dog as he picks up tricks very easily. Very upset to have to let him go as I've been posted to other states for my work.\", 'PhotoAmt': 0, 'AdoptionSpeed': 4}\n",
            "{'Type': 'Dog', 'Age': 36, 'Breed1': 'Beagle', 'Gender': 'Male', 'Color1': 'Black', 'Color2': 'Brown', 'MaturitySize': 'Medium', 'FurLength': 'Short', 'Vaccinated': 'Not Sure', 'Sterilized': 'Yes', 'Health': 'Healthy', 'Fee': 0, 'Description': 'A healthy pure breed beagle was abandoned outside my house. I rescued it and am looking for a nice family who is a dog lover and preferably with a lot of garden area for the dog to run. The beagle is an adult, estimated around 3 years old. In extremely good shape, very friendly, active and loves to be around people. If you are interested pls drop me an email with an introduction as to who you are, where you are from and what sort of living condition will Gilbert be in if you were to be the owner. Interested parties will be screened as to pick those who are able to provide the best home for him.', 'PhotoAmt': 3, 'AdoptionSpeed': 1}\n",
            "{'Type': 'Dog', 'Age': 80, 'Breed1': 'Beagle', 'Gender': 'Male', 'Color1': 'Black', 'Color2': 'Brown', 'MaturitySize': 'Medium', 'FurLength': 'Short', 'Vaccinated': 'Yes', 'Sterilized': 'Yes', 'Health': 'Healthy', 'Fee': 200, 'Description': \"[For Adoption] 6.5 YO male Beagle (neutered) is up for adoption. He was found on the street covered with ticks. He has done blood test, e canis test and heartworm test. He has fully recovered from tick fever. He's now 13kg. He has a microchip number. He was vaccinated on September 23 and neutered on October 7, . He has been dewormed, on tick prevention and heartworm prevention. He's friendly with humans and dogs (great with kids). He's playful but doesn't like intact male dogs. He's active, cheerful and cheeky. If you are keen to adopt, please send us a message to describe: 1. The environment you are willing to provide him with 2. Your experience handling dogs (if any) 3. Is your whole family supportive of the adoption and are committed to taking care of him 4. Are you agreeable to arrange for house visit and sending updates to us every now and then after adoption Request for PM will be ignored. Those who do not answer the 4 questions will not be entertained. Only shortlisted candidates will be notified. Adoption fee of RM applies. The rest are sponsored by us and another kind Beagle owner. Total medical fee (inc. neutering ): RM 1,. A special thanks to Sugar's pawrents for co-fostering him and to Bucky's papa for transporting him. Thanks to another lady for removing the ticks and sheltering him until Bucky's papa picked him up. Thank you for choosing to adopt.\", 'PhotoAmt': 3, 'AdoptionSpeed': 2}\n",
            "2 fur avialable to filter!\n",
            "{'key': 'Medium', 'doc_count': 2}\n",
            "{'key': 'Short', 'doc_count': 2}\n"
          ]
        }
      ]
    },
    {
      "cell_type": "markdown",
      "source": [
        "We can include as many facets as we like, and also we can include as many aggregations as columns in our dataset"
      ],
      "metadata": {
        "id": "sJruQY45D4J0"
      }
    },
    {
      "cell_type": "code",
      "source": [
        "query = {\n",
        "  \"query\": {\n",
        "    \"query_string\": {\n",
        "      \"default_field\": \"Description\",\n",
        "      \"query\": \"friendly and active dogs\",\n",
        "      \"default_operator\": \"AND\"\n",
        "    }\n",
        "  },\n",
        "  \"aggs\": {\n",
        "    \"breeds\": {\n",
        "      \"terms\": {\n",
        "        \"field\": \"Breed1.keyword\",\n",
        "        \"size\": 100\n",
        "      }\n",
        "    },\n",
        "    \"fur\": {\n",
        "      \"terms\": {\n",
        "        \"field\": \"FurLength.keyword\",\n",
        "        \"size\": 100\n",
        "      }\n",
        "    }\n",
        "  }\n",
        "}\n",
        "\n",
        "\n",
        "response = es_client.search(index=\"pets\",body=query)\n",
        "\n",
        "print(f'{response[\"hits\"][\"total\"][\"value\"]} founded!')\n",
        "for pet in  response[\"hits\"][\"hits\"][:5]:\n",
        "  print(pet[\"_source\"])\n",
        "print(f'{len(response[\"aggregations\"][\"fur\"][\"buckets\"])} fur avialable to filter!')\n",
        "for breed in response[\"aggregations\"][\"fur\"][\"buckets\"]:\n",
        "  print(breed)\n",
        "print(f'{len(response[\"aggregations\"][\"breeds\"][\"buckets\"])} breeds avialable to filter!')\n",
        "for breed in response[\"aggregations\"][\"breeds\"][\"buckets\"]:\n",
        "  print(breed)"
      ],
      "metadata": {
        "colab": {
          "base_uri": "https://localhost:8080/"
        },
        "id": "JUo26C1zENT0",
        "outputId": "ebfa2d5d-c063-4381-eb2d-d008aefdf500"
      },
      "execution_count": null,
      "outputs": [
        {
          "output_type": "stream",
          "name": "stdout",
          "text": [
            "88 founded!\n",
            "{'Type': 'Dog', 'Age': 3, 'Breed1': 'Mixed Breed', 'Gender': 'Female', 'Color1': 'Black', 'Color2': 'Brown', 'MaturitySize': 'Medium', 'FurLength': 'Medium', 'Vaccinated': 'Yes', 'Sterilized': 'Not Sure', 'Health': 'Healthy', 'Fee': 100, 'Description': 'Friendly and active dog who loves to play with people and other dogs.', 'PhotoAmt': 3, 'AdoptionSpeed': 4}\n",
            "{'Type': 'Dog', 'Age': 2, 'Breed1': 'Mixed Breed', 'Gender': 'Female', 'Color1': 'Brown', 'Color2': 'No Color', 'MaturitySize': 'Small', 'FurLength': 'Medium', 'Vaccinated': 'No', 'Sterilized': 'Yes', 'Health': 'Healthy', 'Fee': 0, 'Description': '2 months old female dog ... very friendly and active', 'PhotoAmt': 0, 'AdoptionSpeed': 4}\n",
            "{'Type': 'Dog', 'Age': 9, 'Breed1': 'Beagle', 'Gender': 'Male', 'Color1': 'Brown', 'Color2': 'White', 'MaturitySize': 'Large', 'FurLength': 'Medium', 'Vaccinated': 'Yes', 'Sterilized': 'Not Sure', 'Health': 'Healthy', 'Fee': 0, 'Description': 'He is a friendly and active dog. He is also very playful. His energy is like unlimited.', 'PhotoAmt': 2, 'AdoptionSpeed': 1}\n",
            "{'Type': 'Dog', 'Age': 3, 'Breed1': 'Mixed Breed', 'Gender': 'Male', 'Color1': 'Black', 'Color2': 'Brown', 'MaturitySize': 'Large', 'FurLength': 'Short', 'Vaccinated': 'Not Sure', 'Sterilized': 'Not Sure', 'Health': 'Healthy', 'Fee': 50, 'Description': 'Very friendly, active and also can be train as a guard dog..toilet trained..such a wonderfull boy..', 'PhotoAmt': 2, 'AdoptionSpeed': 4}\n",
            "{'Type': 'Dog', 'Age': 3, 'Breed1': 'Mixed Breed', 'Gender': 'Male', 'Color1': 'Black', 'Color2': 'White', 'MaturitySize': 'Medium', 'FurLength': 'Short', 'Vaccinated': 'No', 'Sterilized': 'No', 'Health': 'Healthy', 'Fee': 0, 'Description': 'stray dog puppy about 3mths+. friendly, healthy&active. adopter need to vaccine+deworm once adopted.', 'PhotoAmt': 1, 'AdoptionSpeed': 3}\n",
            "3 fur avialable to filter!\n",
            "{'key': 'Short', 'doc_count': 55}\n",
            "{'key': 'Medium', 'doc_count': 25}\n",
            "{'key': 'Long', 'doc_count': 8}\n",
            "24 breeds avialable to filter!\n",
            "{'key': 'Mixed Breed', 'doc_count': 52}\n",
            "{'key': 'Beagle', 'doc_count': 4}\n",
            "{'key': 'Labrador Retriever', 'doc_count': 3}\n",
            "{'key': 'Poodle', 'doc_count': 3}\n",
            "{'key': 'Dalmatian', 'doc_count': 2}\n",
            "{'key': 'Domestic Short Hair', 'doc_count': 2}\n",
            "{'key': 'German Shepherd Dog', 'doc_count': 2}\n",
            "{'key': 'Golden Retriever', 'doc_count': 2}\n",
            "{'key': 'Shih Tzu', 'doc_count': 2}\n",
            "{'key': 'Terrier', 'doc_count': 2}\n",
            "{'key': 'Belgian Shepherd Malinois', 'doc_count': 1}\n",
            "{'key': 'Border Collie', 'doc_count': 1}\n",
            "{'key': 'Bull Terrier', 'doc_count': 1}\n",
            "{'key': 'Cocker Spaniel', 'doc_count': 1}\n",
            "{'key': 'Doberman Pinscher', 'doc_count': 1}\n",
            "{'key': 'Domestic Medium Hair', 'doc_count': 1}\n",
            "{'key': 'English Bulldog', 'doc_count': 1}\n",
            "{'key': 'Husky', 'doc_count': 1}\n",
            "{'key': 'Jack Russell Terrier', 'doc_count': 1}\n",
            "{'key': 'Miniature Pinscher', 'doc_count': 1}\n",
            "{'key': 'Pug', 'doc_count': 1}\n",
            "{'key': 'Rottweiler', 'doc_count': 1}\n",
            "{'key': 'Spitz', 'doc_count': 1}\n",
            "{'key': 'Tuxedo', 'doc_count': 1}\n"
          ]
        }
      ]
    },
    {
      "cell_type": "markdown",
      "source": [
        "### Fuzzy parameter\n",
        "Sometimes text searches have misspells , one simple way to deal with it is to include a fuzzy token analysis, this uses levenshtein distance distance to find token even with misspell, for example \"friendly\" and \"fliendly\""
      ],
      "metadata": {
        "id": "X2unyrm6EdXl"
      }
    },
    {
      "cell_type": "code",
      "source": [
        "query = {\n",
        "  \"query\": {\n",
        "    \"query_string\": {\n",
        "      \"default_field\": \"Description\",\n",
        "      \"query\": \"fliendly and active dogs\",\n",
        "      \"default_operator\": \"AND\"\n",
        "    }\n",
        "  }\n",
        "}\n",
        "\n",
        "\n",
        "response = es_client.search(index=\"pets\",body=query)\n",
        "\n",
        "print(f'{response[\"hits\"][\"total\"][\"value\"]} founded!')\n",
        "for pet in  response[\"hits\"][\"hits\"][:5]:\n",
        "  print(pet[\"_source\"])"
      ],
      "metadata": {
        "colab": {
          "base_uri": "https://localhost:8080/"
        },
        "id": "uu1EXEvzE2GB",
        "outputId": "15134ade-717f-4b1b-ac75-5ce8050e3c21"
      },
      "execution_count": null,
      "outputs": [
        {
          "output_type": "stream",
          "name": "stdout",
          "text": [
            "0 founded!\n"
          ]
        }
      ]
    },
    {
      "cell_type": "code",
      "source": [
        "query = {\n",
        "  \"query\": {\n",
        "    \"query_string\": {\n",
        "      \"default_field\": \"Description\",\n",
        "      \"query\": \"fliendly~ and active dogs\",\n",
        "      \"default_operator\": \"AND\"\n",
        "    }\n",
        "  }\n",
        "}\n",
        "\n",
        "\n",
        "response = es_client.search(index=\"pets\",body=query)\n",
        "\n",
        "print(f'{response[\"hits\"][\"total\"][\"value\"]} founded!')\n",
        "for pet in  response[\"hits\"][\"hits\"][:5]:\n",
        "  print(pet[\"_source\"])"
      ],
      "metadata": {
        "colab": {
          "base_uri": "https://localhost:8080/"
        },
        "id": "UPrDutetF8WF",
        "outputId": "1abace25-2262-4b03-c052-faf02ed236f7"
      },
      "execution_count": null,
      "outputs": [
        {
          "output_type": "stream",
          "name": "stdout",
          "text": [
            "88 founded!\n",
            "{'Type': 'Dog', 'Age': 3, 'Breed1': 'Mixed Breed', 'Gender': 'Female', 'Color1': 'Black', 'Color2': 'Brown', 'MaturitySize': 'Medium', 'FurLength': 'Medium', 'Vaccinated': 'Yes', 'Sterilized': 'Not Sure', 'Health': 'Healthy', 'Fee': 100, 'Description': 'Friendly and active dog who loves to play with people and other dogs.', 'PhotoAmt': 3, 'AdoptionSpeed': 4}\n",
            "{'Type': 'Dog', 'Age': 2, 'Breed1': 'Mixed Breed', 'Gender': 'Female', 'Color1': 'Brown', 'Color2': 'No Color', 'MaturitySize': 'Small', 'FurLength': 'Medium', 'Vaccinated': 'No', 'Sterilized': 'Yes', 'Health': 'Healthy', 'Fee': 0, 'Description': '2 months old female dog ... very friendly and active', 'PhotoAmt': 0, 'AdoptionSpeed': 4}\n",
            "{'Type': 'Dog', 'Age': 9, 'Breed1': 'Beagle', 'Gender': 'Male', 'Color1': 'Brown', 'Color2': 'White', 'MaturitySize': 'Large', 'FurLength': 'Medium', 'Vaccinated': 'Yes', 'Sterilized': 'Not Sure', 'Health': 'Healthy', 'Fee': 0, 'Description': 'He is a friendly and active dog. He is also very playful. His energy is like unlimited.', 'PhotoAmt': 2, 'AdoptionSpeed': 1}\n",
            "{'Type': 'Dog', 'Age': 3, 'Breed1': 'Mixed Breed', 'Gender': 'Male', 'Color1': 'Black', 'Color2': 'Brown', 'MaturitySize': 'Large', 'FurLength': 'Short', 'Vaccinated': 'Not Sure', 'Sterilized': 'Not Sure', 'Health': 'Healthy', 'Fee': 50, 'Description': 'Very friendly, active and also can be train as a guard dog..toilet trained..such a wonderfull boy..', 'PhotoAmt': 2, 'AdoptionSpeed': 4}\n",
            "{'Type': 'Dog', 'Age': 3, 'Breed1': 'Mixed Breed', 'Gender': 'Male', 'Color1': 'Black', 'Color2': 'White', 'MaturitySize': 'Medium', 'FurLength': 'Short', 'Vaccinated': 'No', 'Sterilized': 'No', 'Health': 'Healthy', 'Fee': 0, 'Description': 'stray dog puppy about 3mths+. friendly, healthy&active. adopter need to vaccine+deworm once adopted.', 'PhotoAmt': 1, 'AdoptionSpeed': 3}\n"
          ]
        }
      ]
    },
    {
      "cell_type": "markdown",
      "source": [
        "### Score analyis\n",
        "The results are sorted by using an score formula, Elasticsearch uses TF/IDF as default score , you can analyze the score by inlcudint the \"explain\" parameter"
      ],
      "metadata": {
        "id": "-V4eMeVzGIOe"
      }
    },
    {
      "cell_type": "code",
      "source": [
        "query = {\n",
        "  \"query\": {\n",
        "    \"query_string\": {\n",
        "      \"default_field\": \"Description\",\n",
        "      \"query\": \"fliendly~ and actiive~ dogs\",\n",
        "      \"default_operator\": \"AND\"\n",
        "    }\n",
        "  },\n",
        "  \"explain\":True\n",
        "}\n",
        "\n",
        "\n",
        "response = es_client.search(index=\"pets\",body=query)\n",
        "\n",
        "print(f'{response[\"hits\"][\"total\"][\"value\"]} founded!')\n",
        "print(response[\"hits\"][\"hits\"][0][\"_explanation\"])"
      ],
      "metadata": {
        "colab": {
          "base_uri": "https://localhost:8080/"
        },
        "id": "PMZmXvU5Gd8V",
        "outputId": "bed6a739-0323-4893-aa0b-7491771b3b73"
      },
      "execution_count": null,
      "outputs": [
        {
          "output_type": "stream",
          "name": "stdout",
          "text": [
            "92 founded!\n",
            "{'value': 6.5442266, 'description': 'sum of:', 'details': [{'value': 2.218247, 'description': 'sum of:', 'details': [{'value': 2.218247, 'description': 'weight(Description:friendli in 3351) [PerFieldSimilarity], result of:', 'details': [{'value': 2.218247, 'description': 'score(freq=1.0), computed as boost * idf * tf from:', 'details': [{'value': 1.6500001, 'description': 'boost', 'details': []}, {'value': 1.952136, 'description': 'idf, computed as log(1 + (N - n + 0.5) / (n + 0.5)) from:', 'details': [{'value': 1635, 'description': 'n, number of documents containing term', 'details': []}, {'value': 11519, 'description': 'N, total number of documents with field', 'details': []}]}, {'value': 0.6886773, 'description': 'tf, computed as freq / (freq + k1 * (1 - b + b * dl / avgdl)) from:', 'details': [{'value': 1.0, 'description': 'freq, occurrences of term within document', 'details': []}, {'value': 1.2, 'description': 'k1, term saturation parameter', 'details': []}, {'value': 0.75, 'description': 'b, length normalization parameter', 'details': []}, {'value': 8.0, 'description': 'dl, length of field', 'details': []}, {'value': 47.350117, 'description': 'avgdl, average length of field', 'details': []}]}]}]}]}, {'value': 1.8498884, 'description': 'sum of:', 'details': [{'value': 1.8498884, 'description': 'weight(Description:activ in 3351) [PerFieldSimilarity], result of:', 'details': [{'value': 1.8498884, 'description': 'score(freq=1.0), computed as boost * idf * tf from:', 'details': [{'value': 1.32, 'description': 'boost', 'details': []}, {'value': 2.0349596, 'description': 'idf, computed as log(1 + (N - n + 0.5) / (n + 0.5)) from:', 'details': [{'value': 1505, 'description': 'n, number of documents containing term', 'details': []}, {'value': 11519, 'description': 'N, total number of documents with field', 'details': []}]}, {'value': 0.6886773, 'description': 'tf, computed as freq / (freq + k1 * (1 - b + b * dl / avgdl)) from:', 'details': [{'value': 1.0, 'description': 'freq, occurrences of term within document', 'details': []}, {'value': 1.2, 'description': 'k1, term saturation parameter', 'details': []}, {'value': 0.75, 'description': 'b, length normalization parameter', 'details': []}, {'value': 8.0, 'description': 'dl, length of field', 'details': []}, {'value': 47.350117, 'description': 'avgdl, average length of field', 'details': []}]}]}]}]}, {'value': 2.4760914, 'description': 'weight(Description:dog in 3351) [PerFieldSimilarity], result of:', 'details': [{'value': 2.4760914, 'description': 'score(freq=2.0), computed as boost * idf * tf from:', 'details': [{'value': 2.2, 'description': 'boost', 'details': []}, {'value': 1.3798913, 'description': 'idf, computed as log(1 + (N - n + 0.5) / (n + 0.5)) from:', 'details': [{'value': 2898, 'description': 'n, number of documents containing term', 'details': []}, {'value': 11519, 'description': 'N, total number of documents with field', 'details': []}]}, {'value': 0.81564116, 'description': 'tf, computed as freq / (freq + k1 * (1 - b + b * dl / avgdl)) from:', 'details': [{'value': 2.0, 'description': 'freq, occurrences of term within document', 'details': []}, {'value': 1.2, 'description': 'k1, term saturation parameter', 'details': []}, {'value': 0.75, 'description': 'b, length normalization parameter', 'details': []}, {'value': 8.0, 'description': 'dl, length of field', 'details': []}, {'value': 47.350117, 'description': 'avgdl, average length of field', 'details': []}]}]}]}]}\n"
          ]
        }
      ]
    },
    {
      "cell_type": "markdown",
      "metadata": {
        "id": "P8QAS_3k1y3u"
      },
      "source": [
        "## References:\n",
        "\n",
        "- [Elasticsearch](https://www.elastic.co/guide/en/elasticsearch/reference/current/targz.html)\n",
        "\n",
        "- [PetFinder Dataset](https://www.kaggle.com/c/petfinder-adoption-prediction)\n",
        "\n"
      ]
    }
  ],
  "metadata": {
    "accelerator": "GPU",
    "colab": {
      "provenance": []
    },
    "kernelspec": {
      "display_name": "Python 3",
      "name": "python3"
    }
  },
  "nbformat": 4,
  "nbformat_minor": 0
}