{
 "cells": [
  {
   "cell_type": "markdown",
   "metadata": {},
   "source": [
    "*Importing necessary libraries*"
   ]
  },
  {
   "cell_type": "code",
   "execution_count": 314,
   "metadata": {},
   "outputs": [],
   "source": [
    "import librosa # open wav files\n",
    "import librosa.display\n",
    "import soundfile as sf\n",
    "import matplotlib.pyplot as plt\n",
    "from IPython.display import Audio\n",
    "import os # operating system via python\n",
    "import numpy as np  # linear algebra\n",
    "import pandas as pd  # CSV file\n",
    "import scipy.io.wavfile as sci_wav  # Open wav files\n",
    "import re # Using regex to match"
   ]
  },
  {
   "cell_type": "markdown",
   "metadata": {},
   "source": [
    "*Loading the wavesounds*"
   ]
  },
  {
   "cell_type": "code",
   "execution_count": 315,
   "metadata": {},
   "outputs": [],
   "source": [
    "# Defining the global path to wav files\n",
    "PATH = './cats_dogs/'"
   ]
  },
  {
   "cell_type": "code",
   "execution_count": 316,
   "metadata": {},
   "outputs": [],
   "source": [
    "# Reading all the list of files in the directory path\n",
    "def read_file_names(PATH):\n",
    "    file_name_cats = []\n",
    "    file_name_dogs = []\n",
    "    for file_path in os.listdir(PATH):\n",
    "        if os.path.isfile(os.path.join(PATH, file_path)):\n",
    "            if 'cat' in file_path:\n",
    "                file_name_cats.append(file_path)\n",
    "            elif 'dog' in file_path:\n",
    "                file_name_dogs.append(file_path)\n",
    "    return file_name_cats, file_name_dogs"
   ]
  },
  {
   "cell_type": "code",
   "execution_count": 317,
   "metadata": {},
   "outputs": [],
   "source": [
    "cats_files, dogs_files = read_file_names(PATH)"
   ]
  },
  {
   "cell_type": "code",
   "execution_count": 352,
   "metadata": {},
   "outputs": [],
   "source": [
    "def read_wav_files(wav_files):\n",
    "    '''Returns a list of audio waves\n",
    "    Params:\n",
    "        wav_files: List of .wav paths\n",
    "\n",
    "    Returns:\n",
    "        List of audio signals\n",
    "    '''\n",
    "    if not isinstance(wav_files, list):\n",
    "        wav_files = [wav_files]\n",
    "    return [librosa.load(PATH + f) for f in wav_files]\n",
    "    # return [sci_wav.read(PATH + f)[1] for f in wav_files]"
   ]
  },
  {
   "cell_type": "code",
   "execution_count": 322,
   "metadata": {},
   "outputs": [],
   "source": [
    "def train_test_split(file_names, split_porcentage=0.2, seed=42):\n",
    "     np.random.seed(seed) # Set a seed for reproducibility\n",
    "     n = len(file_names)\n",
    "     k = int(n * split_porcentage)\n",
    "\n",
    "     random_permutation = np.random.permutation(n)     \n",
    "     train = [file_names[i] for i in random_permutation]\n",
    "\n",
    "     train_file_names = train[:n - k]\n",
    "     train_wav_file = read_wav_files(train_file_names)\n",
    "\n",
    "     test_file_names = train[n - k:]\n",
    "     test_wav_files = read_wav_files(test_file_names)\n",
    "\n",
    "     return train_file_names, train_wav_file, test_file_names, test_wav_files"
   ]
  },
  {
   "cell_type": "code",
   "execution_count": 334,
   "metadata": {},
   "outputs": [],
   "source": [
    "# Split train wav's from test wav's\n",
    "train_cat_names, train_cat_wav, test_cat_names, test_cat_wav = train_test_split(cats_files)\n",
    "train_dog_names, train_dog_wav, test_dog_names, test_dog_wav = train_test_split(dogs_files)"
   ]
  },
  {
   "cell_type": "code",
   "execution_count": 372,
   "metadata": {},
   "outputs": [],
   "source": [
    "dataframe = {\n",
    "     'train_cat': train_cat_wav,\n",
    "     'train_dog': train_dog_wav,\n",
    "     'test_cat': test_cat_wav,\n",
    "     'test_dog': test_dog_wav,\n",
    "}"
   ]
  },
  {
   "cell_type": "code",
   "execution_count": 373,
   "metadata": {},
   "outputs": [],
   "source": [
    "def load_dataset(dataframe):\n",
    "    df = dataframe\n",
    "    dataset = {}\n",
    "    for k in ['train_cat', 'train_dog', 'test_cat', 'test_dog']:\n",
    "        v = np.concatenate([item[0] for item in df[k]], axis=0).astype('float32')\n",
    "\n",
    "        # Compute mean and variance\n",
    "        if k == 'train_cat':\n",
    "            dog_std = dog_mean = 0\n",
    "            cat_std, cat_mean = v.std(), v.mean()\n",
    "        elif k == 'train_dog':\n",
    "            dog_std, dog_mean = v.std(), v.mean()\n",
    "\n",
    "        # Mean and variance suppression\n",
    "        std, mean = (cat_std, cat_mean) if 'cat' in k else (dog_std, dog_mean)\n",
    "        v = (v - mean) / std\n",
    "        dataset[k] = v\n",
    "\n",
    "        print('loaded {} with {} sec of audio'.format(k, len(v) / 16000))\n",
    "\n",
    "    return dataset"
   ]
  },
  {
   "cell_type": "code",
   "execution_count": 374,
   "metadata": {},
   "outputs": [
    {
     "name": "stdout",
     "output_type": "stream",
     "text": [
      "loaded train_cat with 1431.456125 sec of audio\n",
      "loaded train_dog with 660.626 sec of audio\n",
      "loaded test_cat with 393.0434375 sec of audio\n",
      "loaded test_dog with 164.100125 sec of audio\n"
     ]
    },
    {
     "data": {
      "text/plain": [
       "{'train_cat': array([-0.00340083, -0.00340083, -0.00340083, ..., -0.07006193,\n",
       "        -0.36248338, -0.26494327], dtype=float32),\n",
       " 'train_dog': array([-0.02417978, -0.02697763, -0.02313133, ...,  0.00651677,\n",
       "         0.01868594,  0.0135517 ], dtype=float32),\n",
       " 'test_cat': array([-0.00340083, -0.00340083, -0.00340083, ..., -0.00161592,\n",
       "        -0.00312608, -0.00340083], dtype=float32),\n",
       " 'test_dog': array([-0.01475155, -0.01616455, -0.01420115, ..., -0.00322242,\n",
       "        -0.0046466 , -0.00214317], dtype=float32)}"
      ]
     },
     "execution_count": 374,
     "metadata": {},
     "output_type": "execute_result"
    }
   ],
   "source": [
    "load_dataset(dataframe)"
   ]
  },
  {
   "cell_type": "code",
   "execution_count": 394,
   "metadata": {},
   "outputs": [],
   "source": [
    "cat_train_df = pd.DataFrame({\n",
    "     'train_cat_name': train_cat_names,\n",
    "     'train_cat_wav': [item[0] for item in train_cat_wav],\n",
    "     'sample_rate': [item[1] for item in train_cat_wav] \n",
    "})\n",
    "cat_test_df = pd.DataFrame({\n",
    "     'test_cat_name': test_cat_names,\n",
    "     'test_cat_wav': [item[0] for item in test_cat_wav],\n",
    "     'sample_rate': [item[1] for item in test_cat_wav] \n",
    "})\n",
    "dog_train_df = pd.DataFrame({\n",
    "     'train_dog_name': train_dog_names,\n",
    "     'train_dog_wav': [item[0] for item in train_dog_wav],\n",
    "     'sample_rate': [item[1] for item in train_dog_wav] \n",
    "})\n",
    "dog_test_df = pd.DataFrame({\n",
    "     'test_dog_name': test_dog_names,\n",
    "     'test_dog_wav': [item[0] for item in test_dog_wav],\n",
    "     'sample_rate': [item[1] for item in test_dog_wav] \n",
    "})"
   ]
  },
  {
   "cell_type": "code",
   "execution_count": 407,
   "metadata": {},
   "outputs": [
    {
     "data": {
      "text/html": [
       "<div>\n",
       "<style scoped>\n",
       "    .dataframe tbody tr th:only-of-type {\n",
       "        vertical-align: middle;\n",
       "    }\n",
       "\n",
       "    .dataframe tbody tr th {\n",
       "        vertical-align: top;\n",
       "    }\n",
       "\n",
       "    .dataframe thead th {\n",
       "        text-align: right;\n",
       "    }\n",
       "</style>\n",
       "<table border=\"1\" class=\"dataframe\">\n",
       "  <thead>\n",
       "    <tr style=\"text-align: right;\">\n",
       "      <th></th>\n",
       "      <th>train_cat_name</th>\n",
       "      <th>train_cat_wav</th>\n",
       "      <th>sample_rate</th>\n",
       "    </tr>\n",
       "  </thead>\n",
       "  <tbody>\n",
       "    <tr>\n",
       "      <th>0</th>\n",
       "      <td>cat_84.wav</td>\n",
       "      <td>[1.3545656e-10, -2.2184848e-11, -2.6804926e-11...</td>\n",
       "      <td>22050</td>\n",
       "    </tr>\n",
       "    <tr>\n",
       "      <th>1</th>\n",
       "      <td>cat_68.wav</td>\n",
       "      <td>[0.0, 0.0, 0.0, 0.0, 0.0, 0.0, 0.0, 0.0, 0.0, ...</td>\n",
       "      <td>22050</td>\n",
       "    </tr>\n",
       "    <tr>\n",
       "      <th>2</th>\n",
       "      <td>cat_1.wav</td>\n",
       "      <td>[0.0036967827, 0.0040170797, 0.0015610287, 6.8...</td>\n",
       "      <td>22050</td>\n",
       "    </tr>\n",
       "    <tr>\n",
       "      <th>3</th>\n",
       "      <td>cat_147.wav</td>\n",
       "      <td>[0.024267724, 0.029048927, 0.027480468, 0.0294...</td>\n",
       "      <td>22050</td>\n",
       "    </tr>\n",
       "    <tr>\n",
       "      <th>4</th>\n",
       "      <td>cat_33.wav</td>\n",
       "      <td>[-0.0055221445, -0.0021317091, 0.0021610605, 0...</td>\n",
       "      <td>22050</td>\n",
       "    </tr>\n",
       "  </tbody>\n",
       "</table>\n",
       "</div>"
      ],
      "text/plain": [
       "  train_cat_name                                      train_cat_wav  \\\n",
       "0     cat_84.wav  [1.3545656e-10, -2.2184848e-11, -2.6804926e-11...   \n",
       "1     cat_68.wav  [0.0, 0.0, 0.0, 0.0, 0.0, 0.0, 0.0, 0.0, 0.0, ...   \n",
       "2      cat_1.wav  [0.0036967827, 0.0040170797, 0.0015610287, 6.8...   \n",
       "3    cat_147.wav  [0.024267724, 0.029048927, 0.027480468, 0.0294...   \n",
       "4     cat_33.wav  [-0.0055221445, -0.0021317091, 0.0021610605, 0...   \n",
       "\n",
       "   sample_rate  \n",
       "0        22050  \n",
       "1        22050  \n",
       "2        22050  \n",
       "3        22050  \n",
       "4        22050  "
      ]
     },
     "execution_count": 407,
     "metadata": {},
     "output_type": "execute_result"
    }
   ],
   "source": [
    "cat_train_df.head()\n",
    "# cat_train_df['train_cat_wav'][0]"
   ]
  },
  {
   "cell_type": "code",
   "execution_count": 396,
   "metadata": {},
   "outputs": [
    {
     "data": {
      "text/html": [
       "<div>\n",
       "<style scoped>\n",
       "    .dataframe tbody tr th:only-of-type {\n",
       "        vertical-align: middle;\n",
       "    }\n",
       "\n",
       "    .dataframe tbody tr th {\n",
       "        vertical-align: top;\n",
       "    }\n",
       "\n",
       "    .dataframe thead th {\n",
       "        text-align: right;\n",
       "    }\n",
       "</style>\n",
       "<table border=\"1\" class=\"dataframe\">\n",
       "  <thead>\n",
       "    <tr style=\"text-align: right;\">\n",
       "      <th></th>\n",
       "      <th>test_dog_name</th>\n",
       "      <th>test_dog_wav</th>\n",
       "      <th>sample_rate</th>\n",
       "    </tr>\n",
       "  </thead>\n",
       "  <tbody>\n",
       "    <tr>\n",
       "      <th>0</th>\n",
       "      <td>dog_barking_11.wav</td>\n",
       "      <td>[-0.0017590539, -0.0019561895, -0.001682266, -...</td>\n",
       "      <td>22050</td>\n",
       "    </tr>\n",
       "    <tr>\n",
       "      <th>1</th>\n",
       "      <td>dog_barking_9.wav</td>\n",
       "      <td>[-2.9603589e-05, -3.141236e-05, -2.9355077e-05...</td>\n",
       "      <td>22050</td>\n",
       "    </tr>\n",
       "    <tr>\n",
       "      <th>2</th>\n",
       "      <td>dog_barking_92.wav</td>\n",
       "      <td>[-0.00032149986, -0.0005554668, -0.00056589936...</td>\n",
       "      <td>22050</td>\n",
       "    </tr>\n",
       "    <tr>\n",
       "      <th>3</th>\n",
       "      <td>dog_barking_77.wav</td>\n",
       "      <td>[-1.9376983e-05, -3.2515894e-05, -0.0001455399...</td>\n",
       "      <td>22050</td>\n",
       "    </tr>\n",
       "    <tr>\n",
       "      <th>4</th>\n",
       "      <td>dog_barking_33.wav</td>\n",
       "      <td>[-3.1116426e-05, 4.7645976e-06, 6.317729e-05, ...</td>\n",
       "      <td>22050</td>\n",
       "    </tr>\n",
       "  </tbody>\n",
       "</table>\n",
       "</div>"
      ],
      "text/plain": [
       "        test_dog_name                                       test_dog_wav  \\\n",
       "0  dog_barking_11.wav  [-0.0017590539, -0.0019561895, -0.001682266, -...   \n",
       "1   dog_barking_9.wav  [-2.9603589e-05, -3.141236e-05, -2.9355077e-05...   \n",
       "2  dog_barking_92.wav  [-0.00032149986, -0.0005554668, -0.00056589936...   \n",
       "3  dog_barking_77.wav  [-1.9376983e-05, -3.2515894e-05, -0.0001455399...   \n",
       "4  dog_barking_33.wav  [-3.1116426e-05, 4.7645976e-06, 6.317729e-05, ...   \n",
       "\n",
       "   sample_rate  \n",
       "0        22050  \n",
       "1        22050  \n",
       "2        22050  \n",
       "3        22050  \n",
       "4        22050  "
      ]
     },
     "execution_count": 396,
     "metadata": {},
     "output_type": "execute_result"
    }
   ],
   "source": [
    "dog_test_df.head()"
   ]
  },
  {
   "cell_type": "markdown",
   "metadata": {},
   "source": [
    "*To plot some of this waves*"
   ]
  },
  {
   "cell_type": "code",
   "execution_count": 409,
   "metadata": {},
   "outputs": [
    {
     "data": {
      "text/plain": [
       "<librosa.display.AdaptiveWaveplot at 0x28335fa90>"
      ]
     },
     "execution_count": 409,
     "metadata": {},
     "output_type": "execute_result"
    }
   ],
   "source": [
    "# Cat wave\n",
    "librosa.display.waveshow(cat_train_df['train_cat_wav'][10], sr = cat_train_df['sample_rate'][10])"
   ]
  },
  {
   "cell_type": "code",
   "execution_count": null,
   "metadata": {},
   "outputs": [],
   "source": []
  }
 ],
 "metadata": {
  "kernelspec": {
   "display_name": "Python 3",
   "language": "python",
   "name": "python3"
  },
  "language_info": {
   "codemirror_mode": {
    "name": "ipython",
    "version": 3
   },
   "file_extension": ".py",
   "mimetype": "text/x-python",
   "name": "python",
   "nbconvert_exporter": "python",
   "pygments_lexer": "ipython3",
   "version": "3.11.0"
  },
  "orig_nbformat": 4
 },
 "nbformat": 4,
 "nbformat_minor": 2
}
