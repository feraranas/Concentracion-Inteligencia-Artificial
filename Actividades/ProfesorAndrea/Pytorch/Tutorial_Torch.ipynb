{
  "nbformat": 4,
  "nbformat_minor": 0,
  "metadata": {
    "colab": {
      "provenance": [],
      "gpuType": "T4"
    },
    "kernelspec": {
      "name": "python3",
      "display_name": "Python 3"
    },
    "language_info": {
      "name": "python"
    },
    "accelerator": "GPU"
  },
  "cells": [
    {
      "cell_type": "code",
      "execution_count": 2,
      "metadata": {
        "id": "NPAa0hYkYiIv"
      },
      "outputs": [],
      "source": [
        "import torch"
      ]
    },
    {
      "cell_type": "code",
      "source": [
        "x = torch.empty(2,2,3) # empty\n",
        "print(x)"
      ],
      "metadata": {
        "colab": {
          "base_uri": "https://localhost:8080/"
        },
        "id": "m3We4b5_YlRU",
        "outputId": "2bc6a217-cf21-4eab-88a1-a8be82953931"
      },
      "execution_count": 6,
      "outputs": [
        {
          "output_type": "stream",
          "name": "stdout",
          "text": [
            "tensor([[[-3.1020e-35,  4.4452e-41, -3.1020e-35],\n",
            "         [ 4.4452e-41,  0.0000e+00,  0.0000e+00]],\n",
            "\n",
            "        [[ 0.0000e+00,  0.0000e+00,  0.0000e+00],\n",
            "         [ 3.2559e-41,  7.7052e+31,  7.2148e+22]]])\n"
          ]
        }
      ]
    },
    {
      "cell_type": "code",
      "source": [
        "x = torch.ones(2,1,2,dtype = torch.float16)\n",
        "print(x.dtype)\n",
        "print(x.size())"
      ],
      "metadata": {
        "colab": {
          "base_uri": "https://localhost:8080/"
        },
        "id": "hfP30ziDYygU",
        "outputId": "aead69ec-3ae2-44ab-a469-06695b328a08"
      },
      "execution_count": 14,
      "outputs": [
        {
          "output_type": "stream",
          "name": "stdout",
          "text": [
            "torch.float16\n",
            "torch.Size([2, 1, 2])\n"
          ]
        }
      ]
    },
    {
      "cell_type": "code",
      "source": [
        "x = torch.tensor([2,2.4,0.1])"
      ],
      "metadata": {
        "id": "js-4dTS1ZG3K"
      },
      "execution_count": 15,
      "outputs": []
    },
    {
      "cell_type": "code",
      "source": [
        "x = torch.rand(2,2)\n",
        "y = torch.rand(2,2)"
      ],
      "metadata": {
        "id": "Ke9zGtAWZML8"
      },
      "execution_count": 16,
      "outputs": []
    },
    {
      "cell_type": "code",
      "source": [
        "z = x+y\n",
        "print(z)\n",
        "print(torch.add(x,y))\n",
        "print(y.add_(x)) #inplace operation over y\n",
        "print(y)"
      ],
      "metadata": {
        "colab": {
          "base_uri": "https://localhost:8080/"
        },
        "id": "HigNjQmwZRuP",
        "outputId": "2bcdfd32-9ce0-42de-959c-27caaee43017"
      },
      "execution_count": 20,
      "outputs": [
        {
          "output_type": "stream",
          "name": "stdout",
          "text": [
            "tensor([[0.9368, 3.6099],\n",
            "        [2.4066, 1.5436]])\n",
            "tensor([[0.9368, 3.6099],\n",
            "        [2.4066, 1.5436]])\n",
            "tensor([[0.9368, 3.6099],\n",
            "        [2.4066, 1.5436]])\n",
            "tensor([[0.9368, 3.6099],\n",
            "        [2.4066, 1.5436]])\n"
          ]
        }
      ]
    },
    {
      "cell_type": "code",
      "source": [
        "z = x*y\n",
        "print(z)\n",
        "print(torch.mul(x,y))\n",
        "print(y.mul_(x)) #inplace operation over y\n",
        "print(y)"
      ],
      "metadata": {
        "colab": {
          "base_uri": "https://localhost:8080/"
        },
        "id": "6gH9O6oBZkcM",
        "outputId": "925a0cad-6c91-46bd-e81c-6e4717c638df"
      },
      "execution_count": 22,
      "outputs": [
        {
          "output_type": "stream",
          "name": "stdout",
          "text": [
            "tensor([[0.1357, 3.5399],\n",
            "        [1.6874, 0.5409]])\n",
            "tensor([[0.1357, 3.5399],\n",
            "        [1.6874, 0.5409]])\n",
            "tensor([[0.1357, 3.5399],\n",
            "        [1.6874, 0.5409]])\n",
            "tensor([[0.1357, 3.5399],\n",
            "        [1.6874, 0.5409]])\n"
          ]
        }
      ]
    },
    {
      "cell_type": "code",
      "source": [
        "#slicing\n",
        "x = torch.rand(5,3)\n",
        "print(x)\n",
        "print(x[0,2].item()) # using in tensors of one value"
      ],
      "metadata": {
        "colab": {
          "base_uri": "https://localhost:8080/"
        },
        "id": "yNnnJ64jZu5V",
        "outputId": "1bc18919-8e42-462c-84cd-89748c93170b"
      },
      "execution_count": 28,
      "outputs": [
        {
          "output_type": "stream",
          "name": "stdout",
          "text": [
            "tensor([[0.8983, 0.5506, 0.9471],\n",
            "        [0.4905, 0.8790, 0.4061],\n",
            "        [0.9928, 0.7343, 0.1892],\n",
            "        [0.2779, 0.5242, 0.6471],\n",
            "        [0.7141, 0.2409, 0.6610]])\n",
            "0.9470951557159424\n"
          ]
        }
      ]
    },
    {
      "cell_type": "code",
      "source": [
        "#reshape\n",
        "x = torch.rand(4,4)\n",
        "print(x)\n",
        "y = x.view(16) # (-1,8)\n",
        "print(y)\n",
        "print(y.size())"
      ],
      "metadata": {
        "colab": {
          "base_uri": "https://localhost:8080/"
        },
        "id": "iLvOzQlIaPUO",
        "outputId": "5178d9f0-42d3-4831-d383-e0076b78c6c7"
      },
      "execution_count": 29,
      "outputs": [
        {
          "output_type": "stream",
          "name": "stdout",
          "text": [
            "tensor([[0.8858, 0.6603, 0.5681, 0.4534],\n",
            "        [0.5731, 0.2417, 0.2399, 0.8198],\n",
            "        [0.5615, 0.9046, 0.4181, 0.4404],\n",
            "        [0.4176, 0.7186, 0.2041, 0.6526]])\n",
            "tensor([0.8858, 0.6603, 0.5681, 0.4534, 0.5731, 0.2417, 0.2399, 0.8198, 0.5615,\n",
            "        0.9046, 0.4181, 0.4404, 0.4176, 0.7186, 0.2041, 0.6526])\n",
            "torch.Size([16])\n"
          ]
        }
      ]
    },
    {
      "cell_type": "code",
      "source": [
        "#Numpy to torch\n",
        "import numpy as np"
      ],
      "metadata": {
        "id": "sYWp2L9QanCV"
      },
      "execution_count": 36,
      "outputs": []
    },
    {
      "cell_type": "code",
      "source": [
        "a = torch.ones(5)\n",
        "print(a)\n",
        "b = a.numpy()\n",
        "print(type(b))\n",
        "# If tensors are in CPU and not in the GPU\n",
        "#both objects will share the same memory location\n",
        "# meaning, if you change one, you will affect the other one"
      ],
      "metadata": {
        "colab": {
          "base_uri": "https://localhost:8080/"
        },
        "id": "YkRrOWF_arHg",
        "outputId": "526ae4f8-8938-4ed2-dbf5-527cce34178f"
      },
      "execution_count": 31,
      "outputs": [
        {
          "output_type": "stream",
          "name": "stdout",
          "text": [
            "tensor([1., 1., 1., 1., 1.])\n",
            "<class 'numpy.ndarray'>\n"
          ]
        }
      ]
    },
    {
      "cell_type": "code",
      "source": [
        "a.add_(1) # add 1 to each element of b\n",
        "print(a)\n",
        "print(b)"
      ],
      "metadata": {
        "colab": {
          "base_uri": "https://localhost:8080/"
        },
        "id": "TYPDEwGMbMlo",
        "outputId": "7e33bbb3-37ea-404b-cfbd-19895e3452a1"
      },
      "execution_count": 34,
      "outputs": [
        {
          "output_type": "stream",
          "name": "stdout",
          "text": [
            "tensor([3., 3., 3., 3., 3.])\n",
            "[3. 3. 3. 3. 3.]\n"
          ]
        }
      ]
    },
    {
      "cell_type": "code",
      "source": [
        "a = np.ones(4)\n",
        "print(a)\n",
        "b = torch.from_numpy(a)\n",
        "print(b)\n",
        "\n",
        "a+=1\n",
        "print(a)\n",
        "print(b)"
      ],
      "metadata": {
        "colab": {
          "base_uri": "https://localhost:8080/"
        },
        "id": "0Ap36iZqbNP3",
        "outputId": "b4f0b853-6963-4894-fe2e-66db0fd89b97"
      },
      "execution_count": 39,
      "outputs": [
        {
          "output_type": "stream",
          "name": "stdout",
          "text": [
            "[1. 1. 1. 1.]\n",
            "tensor([1., 1., 1., 1.], dtype=torch.float64)\n",
            "[2. 2. 2. 2.]\n",
            "tensor([2., 2., 2., 2.], dtype=torch.float64)\n"
          ]
        }
      ]
    },
    {
      "cell_type": "code",
      "source": [
        "# GPU available\n",
        "if torch.cuda.is_available():\n",
        "  device = torch.device('cuda')\n",
        "  x = torch.ones(5,device = device) # crea tensor y lo pasa al gpu\n",
        "  y = torch.ones(5)\n",
        "  y = y.to(device) # lo manda al gpu\n",
        "  z = x * y #lo hace en el gpu\n",
        "  #z.numpy()#Error!\n",
        "  z = z.to('cpu') # regresa numpy array to GPU\n",
        "\n"
      ],
      "metadata": {
        "id": "c_ekH3UmcDF9"
      },
      "execution_count": 5,
      "outputs": []
    },
    {
      "cell_type": "markdown",
      "source": [
        "#Autograd Package"
      ],
      "metadata": {
        "id": "EXHazQCYdNwe"
      }
    },
    {
      "cell_type": "code",
      "source": [
        "x = torch.ones(5,requieres_grad = True) #significa que en cualquier momento nosotros podemos calcular los gradiente\\\n",
        "print(x)"
      ],
      "metadata": {
        "id": "FZoOGGLIc797"
      },
      "execution_count": null,
      "outputs": []
    },
    {
      "cell_type": "code",
      "source": [
        "x = torch.rand(3, requires_grad = True) #pytorch creara un grafo computacional por nosotros\n",
        "print(x)"
      ],
      "metadata": {
        "colab": {
          "base_uri": "https://localhost:8080/"
        },
        "id": "XE_sGM8tdRkD",
        "outputId": "6cbbaf5a-79dd-47cc-f6ff-09899020f861"
      },
      "execution_count": 20,
      "outputs": [
        {
          "output_type": "stream",
          "name": "stdout",
          "text": [
            "tensor([0.7893, 0.5064, 0.5091], requires_grad=True)\n"
          ]
        }
      ]
    },
    {
      "cell_type": "code",
      "source": [
        "y = x + 2\n",
        "print(y)\n",
        "z = y*y*2\n",
        "#z = z.mean()\n",
        "print(z)"
      ],
      "metadata": {
        "colab": {
          "base_uri": "https://localhost:8080/"
        },
        "id": "Q-dXLVe-dqil",
        "outputId": "ce35bd03-5321-4258-ea1b-324c5f0ac3a1"
      },
      "execution_count": 21,
      "outputs": [
        {
          "output_type": "stream",
          "name": "stdout",
          "text": [
            "tensor([2.7893, 2.5064, 2.5091], grad_fn=<AddBackward0>)\n",
            "tensor([15.5609, 12.5636, 12.5908], grad_fn=<MulBackward0>)\n"
          ]
        }
      ]
    },
    {
      "cell_type": "code",
      "source": [
        "v = torch.tensor([0.1,1.0,0.001],dtype = torch.float32)\n",
        "z.backward(v) #dz/dx\n",
        "print(x.grad)"
      ],
      "metadata": {
        "colab": {
          "base_uri": "https://localhost:8080/"
        },
        "id": "oMbN8GRAemal",
        "outputId": "3eef1170-8459-4a7f-c345-11d351225404"
      },
      "execution_count": 25,
      "outputs": [
        {
          "output_type": "stream",
          "name": "stdout",
          "text": [
            "tensor([ 1.1157, 10.0254,  0.0100])\n"
          ]
        }
      ]
    },
    {
      "cell_type": "code",
      "source": [
        "# Prevenir track grads\n",
        "#x.requires_grad_(False)\n",
        "#x.detcah()\n",
        "#with torch.no_grad():"
      ],
      "metadata": {
        "id": "83o5HTYCgLWz"
      },
      "execution_count": null,
      "outputs": []
    },
    {
      "cell_type": "code",
      "source": [
        "x.requires_grad_(False)\n",
        "print(x)"
      ],
      "metadata": {
        "colab": {
          "base_uri": "https://localhost:8080/"
        },
        "id": "Lu42RqyVghqU",
        "outputId": "084fb858-fbe3-45d4-cfe3-a03c1e5d6305"
      },
      "execution_count": 26,
      "outputs": [
        {
          "output_type": "stream",
          "name": "stdout",
          "text": [
            "tensor([0.7893, 0.5064, 0.5091])\n"
          ]
        }
      ]
    },
    {
      "cell_type": "code",
      "source": [
        "x = torch.rand(3,requires_grad = True)\n",
        "#y = x.detach()\n",
        "#print(y)"
      ],
      "metadata": {
        "colab": {
          "base_uri": "https://localhost:8080/"
        },
        "id": "LSJlTozcgm4u",
        "outputId": "12b581b0-0c13-4e57-d11d-5bb450af3df0"
      },
      "execution_count": 29,
      "outputs": [
        {
          "output_type": "stream",
          "name": "stdout",
          "text": [
            "tensor([0.8466, 0.4080, 0.3577])\n"
          ]
        }
      ]
    },
    {
      "cell_type": "code",
      "source": [
        "x = torch.rand(3,requires_grad = True)\n",
        "with torch.no_grad():\n",
        "  y = x + 2\n",
        "  print(y)"
      ],
      "metadata": {
        "colab": {
          "base_uri": "https://localhost:8080/"
        },
        "id": "kNbr3TvjgnSL",
        "outputId": "04cd5d5d-b6cf-4038-9bbb-5a9dbd28dc7c"
      },
      "execution_count": 31,
      "outputs": [
        {
          "output_type": "stream",
          "name": "stdout",
          "text": [
            "tensor([2.6327, 2.1720, 2.3940])\n"
          ]
        }
      ]
    },
    {
      "cell_type": "markdown",
      "source": [
        "Una vez llamamos la funcion backward, el gradiente del tensor se ira acumulando en el atributo grad, entonces el valor se irá sumando."
      ],
      "metadata": {
        "id": "oF3hULHWjRM2"
      }
    },
    {
      "cell_type": "code",
      "source": [
        "# dummy train example\n",
        "weights = torch.ones(4,requires_grad = True)\n",
        "for epoch in range(3):\n",
        "  model_outpus = (weights * 3).sum()\n",
        "  model_outpus.backward() # acumula grads y los guarda en grad\n",
        "  print(weights.grad)\n",
        "  weights.grad.zero_() # los gradientes se dejan en zero"
      ],
      "metadata": {
        "colab": {
          "base_uri": "https://localhost:8080/"
        },
        "id": "zVKUWn-rjn4b",
        "outputId": "437d951e-fac0-4b0e-c5c9-8e2f64bd0f7b"
      },
      "execution_count": 2,
      "outputs": [
        {
          "output_type": "stream",
          "name": "stdout",
          "text": [
            "tensor([3., 3., 3., 3.])\n",
            "tensor([3., 3., 3., 3.])\n",
            "tensor([3., 3., 3., 3.])\n"
          ]
        }
      ]
    },
    {
      "cell_type": "code",
      "source": [
        "weights = torch.ones(4,requires_grad = True)"
      ],
      "metadata": {
        "id": "Rv1-wFyq_1K5"
      },
      "execution_count": 6,
      "outputs": []
    },
    {
      "cell_type": "code",
      "source": [
        "import torch"
      ],
      "metadata": {
        "id": "PEfhtgQx_eku"
      },
      "execution_count": 5,
      "outputs": []
    },
    {
      "cell_type": "code",
      "source": [
        "optimizer = torch.optim.SGD([weights],lr = 0.01)\n",
        "optimizer.step()\n",
        "optimizer.zero_grad()"
      ],
      "metadata": {
        "id": "6eD50KPCknmh"
      },
      "execution_count": 7,
      "outputs": []
    },
    {
      "cell_type": "markdown",
      "source": [
        "#Backpropagation\n"
      ],
      "metadata": {
        "id": "nSDVoOsYlFNO"
      }
    },
    {
      "cell_type": "code",
      "source": [
        "import torch\n"
      ],
      "metadata": {
        "id": "mniOFWns9bxd"
      },
      "execution_count": 1,
      "outputs": []
    },
    {
      "cell_type": "code",
      "source": [
        "x = torch.tensor(1.0)\n",
        "y = torch.tensor(2.0)\n",
        "\n",
        "w = torch.tensor(1.0,requires_grad=True)"
      ],
      "metadata": {
        "id": "11XpZnnF9gjS"
      },
      "execution_count": 2,
      "outputs": []
    },
    {
      "cell_type": "code",
      "source": [
        "#forward pass and compute loss\n",
        "y_hat = w*x\n",
        "loss = (y_hat-y)**2\n",
        "print(loss)"
      ],
      "metadata": {
        "colab": {
          "base_uri": "https://localhost:8080/"
        },
        "id": "oQDN6b7m9gqN",
        "outputId": "97f3c884-0fdd-4300-945d-2dc3d45609a4"
      },
      "execution_count": 3,
      "outputs": [
        {
          "output_type": "stream",
          "name": "stdout",
          "text": [
            "tensor(1., grad_fn=<PowBackward0>)\n"
          ]
        }
      ]
    },
    {
      "cell_type": "code",
      "source": [
        "#backwardpass\n",
        "loss.backward()\n",
        "print(w.grad)"
      ],
      "metadata": {
        "colab": {
          "base_uri": "https://localhost:8080/"
        },
        "id": "61iTTkYA9gtm",
        "outputId": "c8d694b7-6c9f-4ee5-cefb-9b3d37bc99ad"
      },
      "execution_count": 4,
      "outputs": [
        {
          "output_type": "stream",
          "name": "stdout",
          "text": [
            "tensor(-2.)\n"
          ]
        }
      ]
    },
    {
      "cell_type": "code",
      "source": [
        "#update weights\n",
        "#next forward and backward"
      ],
      "metadata": {
        "id": "gRoJ3AAp9gxy"
      },
      "execution_count": null,
      "outputs": []
    },
    {
      "cell_type": "markdown",
      "source": [
        "#Gradien Descent\n",
        "#"
      ],
      "metadata": {
        "id": "HrTKNn_I-byy"
      }
    },
    {
      "cell_type": "code",
      "source": [
        "import numpy as np\n",
        "import torch"
      ],
      "metadata": {
        "id": "F5gz9wO7ifou"
      },
      "execution_count": 1,
      "outputs": []
    },
    {
      "cell_type": "code",
      "source": [
        "X = np.array([1,2,3,4],dtype = np.float32)\n",
        "Y = np.array([2,3,6,8],dtype = np.float32)\n",
        "\n",
        "w = 0.0\n",
        "\n",
        "def forward(x):\n",
        "  return w * x\n",
        "#loss MSE\n",
        "def loss(y,y_predict):\n",
        "  return ((y_predict-y)**2).mean()\n",
        "\n",
        "#gradient\n",
        "#MSE = 1/N *(wx - y)**2\n",
        "#dJ/dw = 1/N 2x(wx-y)\n",
        "\n",
        "def gradient(x,y,y_predict):\n",
        "  return np.dot(2*x,y_predict-y).mean()\n",
        "\n",
        "print(f'Pred antes de entranamiento f(5) = {forward(5):.3f}')\n",
        "learning_rate = 0.01\n",
        "n_iters = 10\n",
        "\n",
        "for epoch in range(n_iters):\n",
        "  y_pred = forward(X)\n",
        "  #print(y_pred)\n",
        "  l = loss(Y,y_pred)\n",
        "  dw = gradient(X,Y,y_pred)\n",
        "  #update weights\n",
        "  w -= learning_rate*dw\n",
        "  if epoch % 1 == 0:\n",
        "    print(f'epoch {epoch+1}: w = {w:3f}, loss = {l:.8f}')\n",
        "\n",
        "print(f'Predicción despues de entrenar f(5) = {forward(5):.3f}')"
      ],
      "metadata": {
        "colab": {
          "base_uri": "https://localhost:8080/"
        },
        "id": "eacMYMl9ij3o",
        "outputId": "06d0fd3c-a89f-49ca-a1ab-904a68a6edb5"
      },
      "execution_count": 3,
      "outputs": [
        {
          "output_type": "stream",
          "name": "stdout",
          "text": [
            "Pred antes de entranamiento f(5) = 0.000\n",
            "epoch 1: w = 1.160000, loss = 28.25000000\n",
            "epoch 2: w = 1.624000, loss = 4.70200062\n",
            "epoch 3: w = 1.809600, loss = 0.93431962\n",
            "epoch 4: w = 1.883840, loss = 0.33149117\n",
            "epoch 5: w = 1.913536, loss = 0.23503864\n",
            "epoch 6: w = 1.925414, loss = 0.21960621\n",
            "epoch 7: w = 1.930166, loss = 0.21713701\n",
            "epoch 8: w = 1.932066, loss = 0.21674190\n",
            "epoch 9: w = 1.932827, loss = 0.21667871\n",
            "epoch 10: w = 1.933131, loss = 0.21666859\n",
            "Predicción despues de entrenar f(5) = 9.666\n"
          ]
        }
      ]
    },
    {
      "cell_type": "code",
      "source": [],
      "metadata": {
        "id": "s1HjQhUmm472"
      },
      "execution_count": null,
      "outputs": []
    },
    {
      "cell_type": "code",
      "source": [
        "#Mismo codigo anterior con algunas desviaciones\n",
        "X = torch.tensor([1,2,3,4],dtype = torch.float32)\n",
        "Y = torch.tensor([2,3,6,8],dtype = torch.float32)\n",
        "\n",
        "w = torch.tensor(0.0,dtype = torch.float32, requires_grad=True)\n",
        "\n",
        "def forward(x):\n",
        "  return w * x\n",
        "#loss MSE\n",
        "def loss(y,y_predict):\n",
        "  return ((y_predict-y)**2).mean()\n",
        "\n",
        "#gradient\n",
        "#MSE = 1/N *(wx - y)**2\n",
        "#dJ/dw = 1/N 2x(wx-y)\n",
        "\n",
        "#def gradient(x,y,y_predict):\n",
        "#  return np.dot(2*x,y_predict-y).mean()\n",
        "\n",
        "print(f'Pred antes de entranamiento f(5) = {forward(5):.3f}')\n",
        "learning_rate = 0.05\n",
        "n_iters = 10\n",
        "\n",
        "for epoch in range(n_iters):\n",
        "  w.requires_grad = True\n",
        "  y_pred = forward(X)\n",
        "  #print(y_pred)\n",
        "  l = loss(Y,y_pred)\n",
        "  #print(l)\n",
        "  #l.retain_grad()\n",
        "\n",
        "  #manual gradientes automatically\n",
        "  w.retain_grad()\n",
        "  l.backward()\n",
        "  #update weights\n",
        "  #update manual\n",
        "\n",
        "  with torch.no_grad():\n",
        "    w = w - learning_rate*w.grad\n",
        "\n",
        "  #zero grads to not acummulate\n",
        "\n",
        "  w.grad = None\n",
        "\n",
        "\n",
        "  if epoch % 2 == 0:\n",
        "    print(f'epoch {epoch+1}: w = {w:3f}, loss = {l:.8f}')\n",
        "\n",
        "print(f'Predicción despues de entrenar f(5) = {forward(5):.3f}')"
      ],
      "metadata": {
        "colab": {
          "base_uri": "https://localhost:8080/"
        },
        "id": "IHAwfnFemwnX",
        "outputId": "3eae180d-3c09-427e-97a1-34bbb6ced9c3"
      },
      "execution_count": 28,
      "outputs": [
        {
          "output_type": "stream",
          "name": "stdout",
          "text": [
            "Pred antes de entranamiento f(5) = 0.000\n",
            "epoch 1: w = 1.450000, loss = 28.25000000\n",
            "epoch 3: w = 1.903125, loss = 0.32617188\n",
            "epoch 5: w = 1.931445, loss = 0.21709442\n",
            "epoch 7: w = 1.933215, loss = 0.21666834\n",
            "epoch 9: w = 1.933326, loss = 0.21666667\n",
            "Predicción despues de entrenar f(5) = 9.667\n"
          ]
        }
      ]
    },
    {
      "cell_type": "code",
      "source": [
        "#1) Design modell (imput, output size, forward pass))\n",
        "#2) Construct loss and optimizer\n",
        "#3) Training loop\n",
        "  # - forward pass:\n",
        "  # - backward pass:\n",
        "  # - update weights"
      ],
      "metadata": {
        "id": "mHYgqFFDwKu-"
      },
      "execution_count": null,
      "outputs": []
    },
    {
      "cell_type": "code",
      "source": [
        "import torch\n",
        "import torch.nn as nn"
      ],
      "metadata": {
        "id": "g9CP6L_rk97H"
      },
      "execution_count": 3,
      "outputs": []
    },
    {
      "cell_type": "code",
      "source": [
        "#Mismo codigo anterior con algunas desviaciones\n",
        "X = torch.tensor([1,2,3,4],dtype = torch.float32)\n",
        "Y = torch.tensor([2,3,6,8],dtype = torch.float32)\n",
        "\n",
        "w = torch.tensor(0.0,dtype = torch.float32, requires_grad=True)\n",
        "\n",
        "def forward(x):\n",
        "  return w * x\n",
        "#loss MSE\n",
        "def loss(y,y_predict):\n",
        "  return ((y_predict-y)**2).mean()\n",
        "\n",
        "#gradient\n",
        "#MSE = 1/N *(wx - y)**2\n",
        "#dJ/dw = 1/N 2x(wx-y)\n",
        "\n",
        "#def gradient(x,y,y_predict):\n",
        "#  return np.dot(2*x,y_predict-y).mean()\n",
        "\n",
        "print(f'Pred antes de entranamiento f(5) = {forward(5):.3f}')\n",
        "learning_rate = 0.01\n",
        "n_iters = 100\n",
        "loss = nn.MSELoss()\n",
        "optimizer = torch.optim.SGD([w],lr = learning_rate)\n",
        "\n",
        "for epoch in range(n_iters):\n",
        "  #w.requires_grad = True\n",
        "  y_pred = forward(X)\n",
        "  #print(y_pred)\n",
        "  l = loss(Y,y_pred)\n",
        "  #print(l)\n",
        "  #l.retain_grad()\n",
        "\n",
        "  #manual gradientes automatically\n",
        "  #w.retain_grad()\n",
        "  l.backward()\n",
        "  #update weights\n",
        "  optimizer.step()\n",
        "  #update manual\n",
        "\n",
        "  #with torch.no_grad():\n",
        "  #  w = w - learning_rate*w.grad\n",
        "\n",
        "  #zero grads to not acummulate\n",
        "  optimizer.zero_grad()\n",
        "\n",
        "\n",
        "\n",
        "  if epoch % 10 == 0:\n",
        "    print(f'epoch {epoch+1}: w = {w:3f}, loss = {l:.8f}')\n",
        "\n",
        "print(f'Predicción despues de entrenar f(5) = {forward(5):.3f}')"
      ],
      "metadata": {
        "colab": {
          "base_uri": "https://localhost:8080/"
        },
        "id": "oy-vFXjckbeq",
        "outputId": "0a360eb3-2d47-4825-d5c7-548c84973943"
      },
      "execution_count": 9,
      "outputs": [
        {
          "output_type": "stream",
          "name": "stdout",
          "text": [
            "Pred antes de entranamiento f(5) = 0.000\n",
            "epoch 1: w = 0.290000, loss = 28.25000000\n",
            "epoch 11: w = 1.609803, loss = 1.30322576\n",
            "epoch 21: w = 1.869638, loss = 0.25878128\n",
            "epoch 31: w = 1.920793, loss = 0.21829906\n",
            "epoch 41: w = 1.930865, loss = 0.21672995\n",
            "epoch 51: w = 1.932847, loss = 0.21666913\n",
            "epoch 61: w = 1.933238, loss = 0.21666676\n",
            "epoch 71: w = 1.933315, loss = 0.21666668\n",
            "epoch 81: w = 1.933330, loss = 0.21666668\n",
            "epoch 91: w = 1.933333, loss = 0.21666667\n",
            "Predicción despues de entrenar f(5) = 9.667\n"
          ]
        }
      ]
    },
    {
      "cell_type": "markdown",
      "source": [
        "#Construct the model"
      ],
      "metadata": {
        "id": "8QSLApaKkcBE"
      }
    },
    {
      "cell_type": "code",
      "source": [
        "import torch\n",
        "import torch.nn as nn"
      ],
      "metadata": {
        "id": "RhNZweuL2O8p"
      },
      "execution_count": 1,
      "outputs": []
    },
    {
      "cell_type": "code",
      "source": [
        "#X = torch.tensor([1,2,3,4],dtype = torch.float32)\n",
        "#Y = torch.tensor([2,3,6,8],dtype = torch.float32)\n",
        "#x,y need new shape\n",
        "\n",
        "X = torch.tensor([[1],[2],[3],[4]],dtype = torch.float32)\n",
        "Y = torch.tensor([[2],[3],[6],[8]],dtype = torch.float32)\n",
        "\n",
        "X_test = torch.tensor([5],dtype = torch.float32)\n",
        "n_samples, n_features = X.shape\n",
        "\n",
        "#w = torch.tensor(0.0,dtype = torch.float32, requires_grad=True)\n",
        "\n",
        "#forward model\n",
        "input_size = n_features\n",
        "output_size = n_features\n",
        "\n",
        "model = nn.Linear(input_size,output_size)\n",
        "\n",
        "\n",
        "print(f'Pred antes de entranamiento f(5) = {model(X_test).item():.3f}')\n",
        "#training\n",
        "learning_rate = 0.01\n",
        "n_iters = 100\n",
        "#loss provided by torch\n",
        "loss = nn.MSELoss()\n",
        "optimizer = torch.optim.SGD(model.parameters(),lr = learning_rate)\n",
        "\n",
        "for epoch in range(n_iters):\n",
        "  y_pred = model(X)\n",
        "  l = loss(Y,y_pred)\n",
        "  #manual gradientes\n",
        "  ##dw = gradient(X,Y,y_pred)\n",
        "  l.backward()\n",
        "  #update weights\n",
        "  #update manual\n",
        "  #w = w - learning_rate*dw\n",
        "  optimizer.step()\n",
        "  #zero grads to not acummulate\n",
        "  #w.grad.zero_()\n",
        "\n",
        "  optimizer.zero_grad()\n",
        "  if epoch % 2 == 0:\n",
        "    [w,b] = model.parameters()\n",
        "    print(f'epoch {epoch+1}: w = {w[0][0].item():3f}, loss = {l:.8f}')\n",
        "\n",
        "print(f'Predicción despues de entrenar f(5) = {model(X_test).item():.3f}')"
      ],
      "metadata": {
        "colab": {
          "base_uri": "https://localhost:8080/"
        },
        "id": "Vl0kt6Ss2a1e",
        "outputId": "1b5fcb67-070d-4c15-cac8-43c462b9c53f"
      },
      "execution_count": 10,
      "outputs": [
        {
          "output_type": "stream",
          "name": "stdout",
          "text": [
            "Pred antes de entranamiento f(5) = 3.907\n",
            "epoch 1: w = 0.787241, loss = 8.71775818\n",
            "epoch 3: w = 1.028611, loss = 4.49845028\n",
            "epoch 5: w = 1.197051, loss = 2.46448183\n",
            "epoch 7: w = 1.314883, loss = 1.48271275\n",
            "epoch 9: w = 1.397591, loss = 1.00757360\n",
            "epoch 11: w = 1.455924, loss = 0.77638972\n",
            "epoch 13: w = 1.497336, loss = 0.66269159\n",
            "epoch 15: w = 1.527002, loss = 0.60558712\n",
            "epoch 17: w = 1.548513, loss = 0.57575923\n",
            "epoch 19: w = 1.564359, loss = 0.55909181\n",
            "epoch 21: w = 1.576269, loss = 0.54878849\n",
            "epoch 23: w = 1.585442, loss = 0.54157579\n",
            "epoch 25: w = 1.592710, loss = 0.53587878\n",
            "epoch 27: w = 1.598652, loss = 0.53093755\n",
            "epoch 29: w = 1.603668, loss = 0.52638638\n",
            "epoch 31: w = 1.608036, loss = 0.52204901\n",
            "epoch 33: w = 1.611949, loss = 0.51784039\n",
            "epoch 35: w = 1.615542, loss = 0.51371866\n",
            "epoch 37: w = 1.618906, loss = 0.50966394\n",
            "epoch 39: w = 1.622107, loss = 0.50566614\n",
            "epoch 41: w = 1.625190, loss = 0.50172013\n",
            "epoch 43: w = 1.628185, loss = 0.49782306\n",
            "epoch 45: w = 1.631114, loss = 0.49397346\n",
            "epoch 47: w = 1.633993, loss = 0.49017018\n",
            "epoch 49: w = 1.636831, loss = 0.48641255\n",
            "epoch 51: w = 1.639637, loss = 0.48269999\n",
            "epoch 53: w = 1.642414, loss = 0.47903126\n",
            "epoch 55: w = 1.645167, loss = 0.47540680\n",
            "epoch 57: w = 1.647899, loss = 0.47182524\n",
            "epoch 59: w = 1.650610, loss = 0.46828675\n",
            "epoch 61: w = 1.653303, loss = 0.46479017\n",
            "epoch 63: w = 1.655978, loss = 0.46133521\n",
            "epoch 65: w = 1.658635, loss = 0.45792159\n",
            "epoch 67: w = 1.661276, loss = 0.45454848\n",
            "epoch 69: w = 1.663900, loss = 0.45121568\n",
            "epoch 71: w = 1.666509, loss = 0.44792280\n",
            "epoch 73: w = 1.669101, loss = 0.44466886\n",
            "epoch 75: w = 1.671678, loss = 0.44145402\n",
            "epoch 77: w = 1.674239, loss = 0.43827710\n",
            "epoch 79: w = 1.676785, loss = 0.43513858\n",
            "epoch 81: w = 1.679316, loss = 0.43203741\n",
            "epoch 83: w = 1.681831, loss = 0.42897260\n",
            "epoch 85: w = 1.684331, loss = 0.42594472\n",
            "epoch 87: w = 1.686816, loss = 0.42295304\n",
            "epoch 89: w = 1.689287, loss = 0.41999707\n",
            "epoch 91: w = 1.691742, loss = 0.41707644\n",
            "epoch 93: w = 1.694183, loss = 0.41419023\n",
            "epoch 95: w = 1.696609, loss = 0.41133881\n",
            "epoch 97: w = 1.699021, loss = 0.40852100\n",
            "epoch 99: w = 1.701419, loss = 0.40573713\n",
            "Predicción despues de entrenar f(5) = 9.181\n"
          ]
        }
      ]
    },
    {
      "cell_type": "markdown",
      "source": [
        "#Linear custom module"
      ],
      "metadata": {
        "id": "ZtYMaaxIp6r-"
      }
    },
    {
      "cell_type": "code",
      "source": [
        "###Linear custom module\n",
        "\n",
        "\n",
        "#X = torch.tensor([1,2,3,4],dtype = torch.float32)\n",
        "#Y = torch.tensor([2,3,6,8],dtype = torch.float32)\n",
        "#x,y need new shape\n",
        "\n",
        "X = torch.tensor([[1],[2],[3],[4]],dtype = torch.float32)\n",
        "Y = torch.tensor([[2],[3],[6],[8]],dtype = torch.float32)\n",
        "\n",
        "X_test = torch.tensor([5],dtype = torch.float32)\n",
        "n_samples, n_features = X.shape\n",
        "\n",
        "#w = torch.tensor(0.0,dtype = torch.float32, requires_grad=True)\n",
        "\n",
        "#forward model\n",
        "input_size = n_features\n",
        "output_size = n_features\n",
        "#model = nn.Linear(input_size,output_size)\n",
        "\n",
        "class LinearRegression(nn.Module):\n",
        "  def __init__(self, input_dim,output_dim):\n",
        "    super(LinearRegression,self).__init__()\n",
        "    #define layers\n",
        "    self.lin = nn.Linear(input_dim,output_dim)\n",
        "  def forward(self,x):\n",
        "    return self.lin(x)\n",
        "model = LinearRegression(input_size,output_size)\n",
        "\n",
        "#gradient\n",
        "#MSE = 1/N *(wx - y)**2\n",
        "#dJ/dw = 1/N 2x(wx-y)\n",
        "\n",
        "def gradient(x,y,y_predict):\n",
        "  return np.dot(2*x,y_predict-y).mean()\n",
        "\n",
        "print(f'Pred antes de entranamiento f(5) = {model(X_test).item():.3f}')\n",
        "#training\n",
        "learning_rate = 0.01\n",
        "n_iters = 100\n",
        "\n",
        "loss = nn.MSELoss()\n",
        "optimizer = torch.optim.SGD(model.parameters(),lr = learning_rate)\n",
        "\n",
        "for epoch in range(n_iters):\n",
        "  y_pred = forward(X)\n",
        "  l = loss(Y,y_pred)\n",
        "  #manual gradientes\n",
        "  ##dw = gradient(X,Y,y_pred)\n",
        "  l.backward()\n",
        "  #update weights\n",
        "  #update manual\n",
        "  #w = w - learning_rate*dw\n",
        "  optimizer.step()\n",
        "  #zero grads to not acummulate\n",
        "  #w.grad.zero_()\n",
        "\n",
        "  optimizer.zero_grad()\n",
        "  if epoch % 2 == 0:\n",
        "    [w,b] = model.parameters()\n",
        "    print(f'epoch {epoch+1}: w = {w[0][0].item():3f}, loss = {l:.8f}')\n",
        "\n",
        "print(f'Predicción despues de entrenar f(5) = {model(X_test).item():.3f}')"
      ],
      "metadata": {
        "colab": {
          "base_uri": "https://localhost:8080/"
        },
        "id": "xiclnUyv9Trd",
        "outputId": "49850bf9-529d-4509-e57f-e9b844fe108a"
      },
      "execution_count": 6,
      "outputs": [
        {
          "output_type": "stream",
          "name": "stdout",
          "text": [
            "Pred antes de entranamiento f(5) = -0.281\n",
            "epoch 1: w = -0.108418, loss = 0.21666665\n",
            "epoch 3: w = 0.458168, loss = 22.80607605\n",
            "epoch 5: w = 0.867526, loss = 12.00848007\n",
            "epoch 7: w = 1.163288, loss = 6.37206745\n",
            "epoch 9: w = 1.376975, loss = 3.42982435\n",
            "epoch 11: w = 1.531365, loss = 1.89395607\n",
            "epoch 13: w = 1.642911, loss = 1.09222221\n",
            "epoch 15: w = 1.723503, loss = 0.67371190\n",
            "epoch 17: w = 1.781731, loss = 0.45524716\n",
            "epoch 19: w = 1.823801, loss = 0.34120724\n",
            "epoch 21: w = 1.854196, loss = 0.28167754\n",
            "epoch 23: w = 1.876157, loss = 0.25060278\n",
            "epoch 25: w = 1.892023, loss = 0.23438157\n",
            "epoch 27: w = 1.903487, loss = 0.22591399\n",
            "epoch 29: w = 1.911769, loss = 0.22149386\n",
            "epoch 31: w = 1.917753, loss = 0.21918651\n",
            "epoch 33: w = 1.922077, loss = 0.21798207\n",
            "epoch 35: w = 1.925200, loss = 0.21735331\n",
            "epoch 37: w = 1.927457, loss = 0.21702507\n",
            "epoch 39: w = 1.929088, loss = 0.21685378\n",
            "epoch 41: w = 1.930266, loss = 0.21676432\n",
            "epoch 43: w = 1.931117, loss = 0.21671763\n",
            "epoch 45: w = 1.931732, loss = 0.21669331\n",
            "epoch 47: w = 1.932176, loss = 0.21668057\n",
            "epoch 49: w = 1.932498, loss = 0.21667394\n",
            "epoch 51: w = 1.932729, loss = 0.21667045\n",
            "epoch 53: w = 1.932897, loss = 0.21666867\n",
            "epoch 55: w = 1.933018, loss = 0.21666770\n",
            "epoch 57: w = 1.933106, loss = 0.21666721\n",
            "epoch 59: w = 1.933169, loss = 0.21666695\n",
            "epoch 61: w = 1.933215, loss = 0.21666682\n",
            "epoch 63: w = 1.933247, loss = 0.21666674\n",
            "epoch 65: w = 1.933271, loss = 0.21666671\n",
            "epoch 67: w = 1.933288, loss = 0.21666667\n",
            "epoch 69: w = 1.933301, loss = 0.21666670\n",
            "epoch 71: w = 1.933310, loss = 0.21666667\n",
            "epoch 73: w = 1.933316, loss = 0.21666667\n",
            "epoch 75: w = 1.933321, loss = 0.21666670\n",
            "epoch 77: w = 1.933324, loss = 0.21666668\n",
            "epoch 79: w = 1.933327, loss = 0.21666665\n",
            "epoch 81: w = 1.933329, loss = 0.21666664\n",
            "epoch 83: w = 1.933330, loss = 0.21666667\n",
            "epoch 85: w = 1.933331, loss = 0.21666668\n",
            "epoch 87: w = 1.933332, loss = 0.21666668\n",
            "epoch 89: w = 1.933332, loss = 0.21666668\n",
            "epoch 91: w = 1.933332, loss = 0.21666670\n",
            "epoch 93: w = 1.933333, loss = 0.21666665\n",
            "epoch 95: w = 1.933333, loss = 0.21666667\n",
            "epoch 97: w = 1.933333, loss = 0.21666665\n",
            "epoch 99: w = 1.933333, loss = 0.21666665\n",
            "Predicción despues de entrenar f(5) = 9.927\n"
          ]
        }
      ]
    },
    {
      "cell_type": "markdown",
      "source": [
        "# Linear Regresion"
      ],
      "metadata": {
        "id": "5D7VuJka-aGC"
      }
    },
    {
      "cell_type": "code",
      "source": [
        "import torch\n",
        "import torch.nn as nn\n",
        "from sklearn import datasets\n",
        "import matplotlib.pyplot as plt\n",
        "import numpy as np\n"
      ],
      "metadata": {
        "id": "qmw3E09M-ZhK"
      },
      "execution_count": 12,
      "outputs": []
    },
    {
      "cell_type": "code",
      "source": [
        "# 0) prepare data\n",
        "X_numpy, y_numpy = datasets.make_regression(n_samples = 100,n_features = 1, noise=20, random_state = 1)"
      ],
      "metadata": {
        "id": "tQjxt-STAFwx"
      },
      "execution_count": 13,
      "outputs": []
    },
    {
      "cell_type": "code",
      "source": [
        "X = torch.from_numpy(X_numpy.astype(np.float32))\n",
        "y = torch.from_numpy(y_numpy.astype(np.float32))"
      ],
      "metadata": {
        "id": "3CZ_SzyvAkG2"
      },
      "execution_count": 14,
      "outputs": []
    },
    {
      "cell_type": "code",
      "source": [
        "y = y.view(y.shape[0],1) # reshape tensor\n"
      ],
      "metadata": {
        "id": "ZhZx14v8Ay9B"
      },
      "execution_count": 15,
      "outputs": []
    },
    {
      "cell_type": "code",
      "source": [
        "n_samples, n_features = X.shape"
      ],
      "metadata": {
        "id": "45swAbrcAzjO"
      },
      "execution_count": 16,
      "outputs": []
    },
    {
      "cell_type": "code",
      "source": [
        "#Model\n",
        "input_size = n_features\n",
        "output_size = 1\n",
        "model = nn.Linear(input_size,output_size)"
      ],
      "metadata": {
        "id": "IxX5tZu4Az_x"
      },
      "execution_count": 17,
      "outputs": []
    },
    {
      "cell_type": "code",
      "source": [
        "#loss, optimizer\n",
        "criterion = nn.MSELoss()\n",
        "optimizer = torch.optim.SGD(model.parameters(),lr = 0.01)"
      ],
      "metadata": {
        "id": "oA32JnOrBU9E"
      },
      "execution_count": 18,
      "outputs": []
    },
    {
      "cell_type": "code",
      "source": [
        "#training\n",
        "num_epoch = 100\n",
        "for epoch in range(num_epoch):\n",
        "  #forward pass and loss\n",
        "  y_predicted = model(X)\n",
        "  loss = criterion(y_predicted,y)\n",
        "  # backward pass\n",
        "  loss.backward()\n",
        "  # update parameters\n",
        "  optimizer.step()\n",
        "  optimizer.zero_grad()\n",
        "\n",
        "  if epoch+1 % 10 ==0:\n",
        "    print(f'epoca: {epoch+1},loss = {loss.item():.4f}')\n",
        "\n",
        "predicted = model(X).detach().numpy() # convert to numpy aganin\n",
        "  # we want to detach our tensor from the graph, because the tensor\n",
        "  # has the requires gradients\n",
        "plt.plot(X_numpy,y_numpy,'ro')\n",
        "plt.plot(X_numpy,predicted,'b')\n",
        "plt.show()"
      ],
      "metadata": {
        "colab": {
          "base_uri": "https://localhost:8080/",
          "height": 430
        },
        "id": "bhAeyup9BjdS",
        "outputId": "b6193f99-895a-4058-b162-abfab6617a71"
      },
      "execution_count": 19,
      "outputs": [
        {
          "output_type": "display_data",
          "data": {
            "text/plain": [
              "<Figure size 640x480 with 1 Axes>"
            ],
            "image/png": "[encoded data removed]"
          },
          "metadata": {}
        }
      ]
    },
    {
      "cell_type": "markdown",
      "source": [
        "#Dataset and DataLoader"
      ],
      "metadata": {
        "id": "PKIo3Gz6FeTt"
      }
    },
    {
      "cell_type": "code",
      "source": [
        "import torch\n",
        "import torchvision\n",
        "from torch.utils.data import Dataset, DataLoader\n",
        "import numpy as np\n",
        "import math"
      ],
      "metadata": {
        "id": "LYpz5A8wFqgI"
      },
      "execution_count": 28,
      "outputs": []
    },
    {
      "cell_type": "code",
      "source": [
        "from google.colab import files\n",
        "\n",
        "uploaded = files.upload()\n"
      ],
      "metadata": {
        "colab": {
          "base_uri": "https://localhost:8080/",
          "height": 74
        },
        "id": "X8IElHNbKAhj",
        "outputId": "b1310d12-afed-4aaa-909d-72e29df65c60"
      },
      "execution_count": 25,
      "outputs": [
        {
          "output_type": "display_data",
          "data": {
            "text/plain": [
              "<IPython.core.display.HTML object>"
            ],
            "text/html": [
              "\n",
              "     <input type=\"file\" id=\"files-5c23ebe4-4d52-4413-ac0b-819246bc5af7\" name=\"files[]\" multiple disabled\n",
              "        style=\"border:none\" />\n",
              "     <output id=\"result-5c23ebe4-4d52-4413-ac0b-819246bc5af7\">\n",
              "      Upload widget is only available when the cell has been executed in the\n",
              "      current browser session. Please rerun this cell to enable.\n",
              "      </output>\n",
              "      <script>// Copyright 2017 Google LLC\n",
              "//\n",
              "// Licensed under the Apache License, Version 2.0 (the \"License\");\n",
              "// you may not use this file except in compliance with the License.\n",
              "// You may obtain a copy of the License at\n",
              "//\n",
              "//      http://www.apache.org/licenses/LICENSE-2.0\n",
              "//\n",
              "// Unless required by applicable law or agreed to in writing, software\n",
              "// distributed under the License is distributed on an \"AS IS\" BASIS,\n",
              "// WITHOUT WARRANTIES OR CONDITIONS OF ANY KIND, either express or implied.\n",
              "// See the License for the specific language governing permissions and\n",
              "// limitations under the License.\n",
              "\n",
              "/**\n",
              " * @fileoverview Helpers for google.colab Python module.\n",
              " */\n",
              "(function(scope) {\n",
              "function span(text, styleAttributes = {}) {\n",
              "  const element = document.createElement('span');\n",
              "  element.textContent = text;\n",
              "  for (const key of Object.keys(styleAttributes)) {\n",
              "    element.style[key] = styleAttributes[key];\n",
              "  }\n",
              "  return element;\n",
              "}\n",
              "\n",
              "// Max number of bytes which will be uploaded at a time.\n",
              "const MAX_PAYLOAD_SIZE = 100 * 1024;\n",
              "\n",
              "function _uploadFiles(inputId, outputId) {\n",
              "  const steps = uploadFilesStep(inputId, outputId);\n",
              "  const outputElement = document.getElementById(outputId);\n",
              "  // Cache steps on the outputElement to make it available for the next call\n",
              "  // to uploadFilesContinue from Python.\n",
              "  outputElement.steps = steps;\n",
              "\n",
              "  return _uploadFilesContinue(outputId);\n",
              "}\n",
              "\n",
              "// This is roughly an async generator (not supported in the browser yet),\n",
              "// where there are multiple asynchronous steps and the Python side is going\n",
              "// to poll for completion of each step.\n",
              "// This uses a Promise to block the python side on completion of each step,\n",
              "// then passes the result of the previous step as the input to the next step.\n",
              "function _uploadFilesContinue(outputId) {\n",
              "  const outputElement = document.getElementById(outputId);\n",
              "  const steps = outputElement.steps;\n",
              "\n",
              "  const next = steps.next(outputElement.lastPromiseValue);\n",
              "  return Promise.resolve(next.value.promise).then((value) => {\n",
              "    // Cache the last promise value to make it available to the next\n",
              "    // step of the generator.\n",
              "    outputElement.lastPromiseValue = value;\n",
              "    return next.value.response;\n",
              "  });\n",
              "}\n",
              "\n",
              "/**\n",
              " * Generator function which is called between each async step of the upload\n",
              " * process.\n",
              " * @param {string} inputId Element ID of the input file picker element.\n",
              " * @param {string} outputId Element ID of the output display.\n",
              " * @return {!Iterable<!Object>} Iterable of next steps.\n",
              " */\n",
              "function* uploadFilesStep(inputId, outputId) {\n",
              "  const inputElement = document.getElementById(inputId);\n",
              "  inputElement.disabled = false;\n",
              "\n",
              "  const outputElement = document.getElementById(outputId);\n",
              "  outputElement.innerHTML = '';\n",
              "\n",
              "  const pickedPromise = new Promise((resolve) => {\n",
              "    inputElement.addEventListener('change', (e) => {\n",
              "      resolve(e.target.files);\n",
              "    });\n",
              "  });\n",
              "\n",
              "  const cancel = document.createElement('button');\n",
              "  inputElement.parentElement.appendChild(cancel);\n",
              "  cancel.textContent = 'Cancel upload';\n",
              "  const cancelPromise = new Promise((resolve) => {\n",
              "    cancel.onclick = () => {\n",
              "      resolve(null);\n",
              "    };\n",
              "  });\n",
              "\n",
              "  // Wait for the user to pick the files.\n",
              "  const files = yield {\n",
              "    promise: Promise.race([pickedPromise, cancelPromise]),\n",
              "    response: {\n",
              "      action: 'starting',\n",
              "    }\n",
              "  };\n",
              "\n",
              "  cancel.remove();\n",
              "\n",
              "  // Disable the input element since further picks are not allowed.\n",
              "  inputElement.disabled = true;\n",
              "\n",
              "  if (!files) {\n",
              "    return {\n",
              "      response: {\n",
              "        action: 'complete',\n",
              "      }\n",
              "    };\n",
              "  }\n",
              "\n",
              "  for (const file of files) {\n",
              "    const li = document.createElement('li');\n",
              "    li.append(span(file.name, {fontWeight: 'bold'}));\n",
              "    li.append(span(\n",
              "        `(${file.type || 'n/a'}) - ${file.size} bytes, ` +\n",
              "        `last modified: ${\n",
              "            file.lastModifiedDate ? file.lastModifiedDate.toLocaleDateString() :\n",
              "                                    'n/a'} - `));\n",
              "    const percent = span('0% done');\n",
              "    li.appendChild(percent);\n",
              "\n",
              "    outputElement.appendChild(li);\n",
              "\n",
              "    const fileDataPromise = new Promise((resolve) => {\n",
              "      const reader = new FileReader();\n",
              "      reader.onload = (e) => {\n",
              "        resolve(e.target.result);\n",
              "      };\n",
              "      reader.readAsArrayBuffer(file);\n",
              "    });\n",
              "    // Wait for the data to be ready.\n",
              "    let fileData = yield {\n",
              "      promise: fileDataPromise,\n",
              "      response: {\n",
              "        action: 'continue',\n",
              "      }\n",
              "    };\n",
              "\n",
              "    // Use a chunked sending to avoid message size limits. See b/62115660.\n",
              "    let position = 0;\n",
              "    do {\n",
              "      const length = Math.min(fileData.byteLength - position, MAX_PAYLOAD_SIZE);\n",
              "      const chunk = new Uint8Array(fileData, position, length);\n",
              "      position += length;\n",
              "\n",
              "      const base64 = btoa(String.fromCharCode.apply(null, chunk));\n",
              "      yield {\n",
              "        response: {\n",
              "          action: 'append',\n",
              "          file: file.name,\n",
              "          data: base64,\n",
              "        },\n",
              "      };\n",
              "\n",
              "      let percentDone = fileData.byteLength === 0 ?\n",
              "          100 :\n",
              "          Math.round((position / fileData.byteLength) * 100);\n",
              "      percent.textContent = `${percentDone}% done`;\n",
              "\n",
              "    } while (position < fileData.byteLength);\n",
              "  }\n",
              "\n",
              "  // All done.\n",
              "  yield {\n",
              "    response: {\n",
              "      action: 'complete',\n",
              "    }\n",
              "  };\n",
              "}\n",
              "\n",
              "scope.google = scope.google || {};\n",
              "scope.google.colab = scope.google.colab || {};\n",
              "scope.google.colab._files = {\n",
              "  _uploadFiles,\n",
              "  _uploadFilesContinue,\n",
              "};\n",
              "})(self);\n",
              "</script> "
            ]
          },
          "metadata": {}
        },
        {
          "output_type": "stream",
          "name": "stdout",
          "text": [
            "Saving wine.csv to wine (1).csv\n"
          ]
        }
      ]
    },
    {
      "cell_type": "code",
      "source": [
        "data = np.loadtxt('wine (1).csv',delimiter = ',')"
      ],
      "metadata": {
        "id": "whwHWGB1FkV_"
      },
      "execution_count": 27,
      "outputs": []
    },
    {
      "cell_type": "code",
      "source": [
        "class WineDataset(Dataset):\n",
        "  def __init__(self):\n",
        "    xy = np.loadtxt('wine (1).csv',delimiter = ',',dtype=np.float32)\n",
        "    self.x = torch.from_numpy(xy[:,1:])\n",
        "    self.y = torch.from_numpy(xy[:,[0]]) #n_samples, 1\n",
        "    self.n_samples = xy.shape[0]\n",
        "\n",
        "  def __getitem__(self, index):\n",
        "    return self.x[index], self.y[index]\n",
        "\n",
        "  def __len__(self):\n",
        "    return self.n_samples\n"
      ],
      "metadata": {
        "id": "tmU-IfS8LTka"
      },
      "execution_count": 31,
      "outputs": []
    },
    {
      "cell_type": "code",
      "source": [
        "dataset = WineDataset()\n",
        "first_data = dataset[0]\n",
        "features, labels = first_data\n",
        "print(features, labels )"
      ],
      "metadata": {
        "colab": {
          "base_uri": "https://localhost:8080/"
        },
        "id": "hzJLwJ_NMg1Q",
        "outputId": "b782d344-dc8b-43de-90f0-4b11c5ca4779"
      },
      "execution_count": 33,
      "outputs": [
        {
          "output_type": "stream",
          "name": "stdout",
          "text": [
            "tensor([1.4230e+01, 1.7100e+00, 2.4300e+00, 1.5600e+01, 1.2700e+02, 2.8000e+00,\n",
            "        3.0600e+00, 2.8000e-01, 2.2900e+00, 5.6400e+00, 1.0400e+00, 3.9200e+00,\n",
            "        1.0650e+03]) tensor([1.])\n"
          ]
        }
      ]
    },
    {
      "cell_type": "code",
      "source": [
        "# En lugar de lo anterior podemos hacer:\n",
        "dataset = WineDataset()\n",
        "dataloader = DataLoader(dataset = dataset, batch_size = 4, shuffle = True, num_workers=2 )"
      ],
      "metadata": {
        "id": "PHKukcEkNJ2W"
      },
      "execution_count": 34,
      "outputs": []
    },
    {
      "cell_type": "code",
      "source": [
        "dataiter = iter(dataloader)\n",
        "data = next(dataiter)\n",
        "features, labels = data\n",
        "print(features, labels )"
      ],
      "metadata": {
        "colab": {
          "base_uri": "https://localhost:8080/"
        },
        "id": "tNgSNalGNfjw",
        "outputId": "92c55aba-f7b1-43a2-9f43-5b2c30aec371"
      },
      "execution_count": 36,
      "outputs": [
        {
          "output_type": "stream",
          "name": "stdout",
          "text": [
            "tensor([[1.3110e+01, 1.9000e+00, 2.7500e+00, 2.5500e+01, 1.1600e+02, 2.2000e+00,\n",
            "         1.2800e+00, 2.6000e-01, 1.5600e+00, 7.1000e+00, 6.1000e-01, 1.3300e+00,\n",
            "         4.2500e+02],\n",
            "        [1.1410e+01, 7.4000e-01, 2.5000e+00, 2.1000e+01, 8.8000e+01, 2.4800e+00,\n",
            "         2.0100e+00, 4.2000e-01, 1.4400e+00, 3.0800e+00, 1.1000e+00, 2.3100e+00,\n",
            "         4.3400e+02],\n",
            "        [1.2640e+01, 1.3600e+00, 2.0200e+00, 1.6800e+01, 1.0000e+02, 2.0200e+00,\n",
            "         1.4100e+00, 5.3000e-01, 6.2000e-01, 5.7500e+00, 9.8000e-01, 1.5900e+00,\n",
            "         4.5000e+02],\n",
            "        [1.4380e+01, 1.8700e+00, 2.3800e+00, 1.2000e+01, 1.0200e+02, 3.3000e+00,\n",
            "         3.6400e+00, 2.9000e-01, 2.9600e+00, 7.5000e+00, 1.2000e+00, 3.0000e+00,\n",
            "         1.5470e+03]]) tensor([[3.],\n",
            "        [2.],\n",
            "        [2.],\n",
            "        [1.]])\n"
          ]
        }
      ]
    },
    {
      "cell_type": "code",
      "source": [
        "# training loop\n",
        "\n",
        "num_epochs = 2\n",
        "total_samples = len(dataset)\n",
        "n_iterations = math.ceil(total_samples/4)\n",
        "print(total_samples, n_iterations)\n"
      ],
      "metadata": {
        "colab": {
          "base_uri": "https://localhost:8080/"
        },
        "id": "XRwBHK__ORsr",
        "outputId": "cf72433b-20cb-451f-e97a-b0c39c20403b"
      },
      "execution_count": 37,
      "outputs": [
        {
          "output_type": "stream",
          "name": "stdout",
          "text": [
            "178 45\n"
          ]
        }
      ]
    },
    {
      "cell_type": "code",
      "source": [
        "for epoch in range(num_epochs):\n",
        "  for i,(inputs,labels) in enumerate(dataloader):\n",
        "    #forward, backward, update\n",
        "    if(i+1) %5 ==0:\n",
        "      print(f'epoch {epoch+1}/{num_epochs}, step = {i+1}/{n_iterations}, inputs {inputs.shape}')"
      ],
      "metadata": {
        "colab": {
          "base_uri": "https://localhost:8080/"
        },
        "id": "QkzcJSlQKs1U",
        "outputId": "7755676f-fca3-483c-ce1e-5b42f685ec4e"
      },
      "execution_count": 39,
      "outputs": [
        {
          "output_type": "stream",
          "name": "stdout",
          "text": [
            "epoch 1/2, step = 5/45, inputs torch.Size([4, 13])\n",
            "epoch 1/2, step = 10/45, inputs torch.Size([4, 13])\n",
            "epoch 1/2, step = 15/45, inputs torch.Size([4, 13])\n",
            "epoch 1/2, step = 20/45, inputs torch.Size([4, 13])\n",
            "epoch 1/2, step = 25/45, inputs torch.Size([4, 13])\n",
            "epoch 1/2, step = 30/45, inputs torch.Size([4, 13])\n",
            "epoch 1/2, step = 35/45, inputs torch.Size([4, 13])\n",
            "epoch 1/2, step = 40/45, inputs torch.Size([4, 13])\n",
            "epoch 1/2, step = 45/45, inputs torch.Size([2, 13])\n",
            "epoch 2/2, step = 5/45, inputs torch.Size([4, 13])\n",
            "epoch 2/2, step = 10/45, inputs torch.Size([4, 13])\n",
            "epoch 2/2, step = 15/45, inputs torch.Size([4, 13])\n",
            "epoch 2/2, step = 20/45, inputs torch.Size([4, 13])\n",
            "epoch 2/2, step = 25/45, inputs torch.Size([4, 13])\n",
            "epoch 2/2, step = 30/45, inputs torch.Size([4, 13])\n",
            "epoch 2/2, step = 35/45, inputs torch.Size([4, 13])\n",
            "epoch 2/2, step = 40/45, inputs torch.Size([4, 13])\n",
            "epoch 2/2, step = 45/45, inputs torch.Size([2, 13])\n"
          ]
        }
      ]
    },
    {
      "cell_type": "code",
      "source": [
        "torchvision.datasets.MNIST()\n",
        "# fashion mnist\n"
      ],
      "metadata": {
        "id": "COa7cCpUPFbQ"
      },
      "execution_count": null,
      "outputs": []
    },
    {
      "cell_type": "markdown",
      "source": [
        "# Dataset Transform"
      ],
      "metadata": {
        "id": "ofjADS2jP-Lc"
      }
    },
    {
      "cell_type": "code",
      "source": [
        "import torch\n",
        "import torchvision"
      ],
      "metadata": {
        "id": "1eALvMjXQCd4"
      },
      "execution_count": 41,
      "outputs": []
    },
    {
      "cell_type": "code",
      "source": [
        "class WineDataset(Dataset):\n",
        "  def __init__(self, transform = None):\n",
        "    xy = np.loadtxt('wine (1).csv',delimiter = ',',dtype=np.float32)\n",
        "    self.x = torch.from_numpy(xy[:,1:])\n",
        "    self.y = torch.from_numpy(xy[:,[0]]) #n_samples, 1\n",
        "    self.transform = transform\n",
        "    #self.n_samples = xy.shape[0]\n",
        "\n",
        "  def __getitem__(self, index):\n",
        "    sample = self.x[index], self.y[index]\n",
        "    if self.transform:\n",
        "      sample = self.transform(sample)\n",
        "    return sample\n",
        "    #return self.x[index], self.y[index]\n",
        "\n",
        "  def __len__(self):\n",
        "    return self.n_samples"
      ],
      "metadata": {
        "id": "XWm3p38pQmSV"
      },
      "execution_count": 43,
      "outputs": []
    },
    {
      "cell_type": "code",
      "source": [
        "class ToTensor:\n",
        "  def __call__(self, sample):\n",
        "    inputs, target = sample\n",
        "    return torch.from_numpy(inputs), torch.from_numpy(targets)"
      ],
      "metadata": {
        "id": "7c7VaORlRF1U"
      },
      "execution_count": 52,
      "outputs": []
    },
    {
      "cell_type": "code",
      "source": [
        "class MulTransform:\n",
        "  def __init__(self, factor):\n",
        "    self.factor = factor\n",
        "\n",
        "  def __call__(self, sample):\n",
        "    inputs, target = sample\n",
        "    inputs *= self.factor\n",
        "    return inputs, target"
      ],
      "metadata": {
        "id": "NOYtmNOia3WM"
      },
      "execution_count": 47,
      "outputs": []
    },
    {
      "cell_type": "code",
      "source": [
        "dataset = WineDataset(transform = None)\n",
        "first_data = dataset[0]\n",
        "features, labels = first_data\n",
        "print(features)\n",
        "print(type(features), type(labels))\n",
        "\n",
        "composed = torchvision.transforms.Compose([ToTensor(),MulTransform(4)])\n",
        "#dataset = WineDataset(transform = composed)\n",
        "\n",
        "dataset = WineDataset(transform = composed)\n",
        "#first_data = dataset[0]\n",
        "#features, labels = first_data\n",
        "#print(features)\n",
        "#print(type(features), type(labels))\n"
      ],
      "metadata": {
        "colab": {
          "base_uri": "https://localhost:8080/",
          "height": 431
        },
        "id": "GtilZKLQZIX1",
        "outputId": "24fffd3f-8c3f-469a-9106-44ae3f1f8c0e"
      },
      "execution_count": 53,
      "outputs": [
        {
          "output_type": "stream",
          "name": "stdout",
          "text": [
            "tensor([1.4230e+01, 1.7100e+00, 2.4300e+00, 1.5600e+01, 1.2700e+02, 2.8000e+00,\n",
            "        3.0600e+00, 2.8000e-01, 2.2900e+00, 5.6400e+00, 1.0400e+00, 3.9200e+00,\n",
            "        1.0650e+03])\n",
            "<class 'torch.Tensor'> <class 'torch.Tensor'>\n"
          ]
        },
        {
          "output_type": "error",
          "ename": "TypeError",
          "evalue": "ignored",
          "traceback": [
            "\u001b[0;31m---------------------------------------------------------------------------\u001b[0m",
            "\u001b[0;31mTypeError\u001b[0m                                 Traceback (most recent call last)",
            "\u001b[0;32m<ipython-input-53-810c0b41aff9>\u001b[0m in \u001b[0;36m<cell line: 11>\u001b[0;34m()\u001b[0m\n\u001b[1;32m      9\u001b[0m \u001b[0;34m\u001b[0m\u001b[0m\n\u001b[1;32m     10\u001b[0m \u001b[0mdataset\u001b[0m \u001b[0;34m=\u001b[0m \u001b[0mWineDataset\u001b[0m\u001b[0;34m(\u001b[0m\u001b[0mtransform\u001b[0m \u001b[0;34m=\u001b[0m \u001b[0mcomposed\u001b[0m\u001b[0;34m)\u001b[0m\u001b[0;34m\u001b[0m\u001b[0;34m\u001b[0m\u001b[0m\n\u001b[0;32m---> 11\u001b[0;31m \u001b[0mfirst_data\u001b[0m \u001b[0;34m=\u001b[0m \u001b[0mdataset\u001b[0m\u001b[0;34m[\u001b[0m\u001b[0;36m0\u001b[0m\u001b[0;34m]\u001b[0m\u001b[0;34m\u001b[0m\u001b[0;34m\u001b[0m\u001b[0m\n\u001b[0m\u001b[1;32m     12\u001b[0m \u001b[0mfeatures\u001b[0m\u001b[0;34m,\u001b[0m \u001b[0mlabels\u001b[0m \u001b[0;34m=\u001b[0m \u001b[0mfirst_data\u001b[0m\u001b[0;34m\u001b[0m\u001b[0;34m\u001b[0m\u001b[0m\n\u001b[1;32m     13\u001b[0m \u001b[0mprint\u001b[0m\u001b[0;34m(\u001b[0m\u001b[0mfeatures\u001b[0m\u001b[0;34m)\u001b[0m\u001b[0;34m\u001b[0m\u001b[0;34m\u001b[0m\u001b[0m\n",
            "\u001b[0;32m<ipython-input-43-77d3c912062d>\u001b[0m in \u001b[0;36m__getitem__\u001b[0;34m(self, index)\u001b[0m\n\u001b[1;32m     10\u001b[0m     \u001b[0msample\u001b[0m \u001b[0;34m=\u001b[0m \u001b[0mself\u001b[0m\u001b[0;34m.\u001b[0m\u001b[0mx\u001b[0m\u001b[0;34m[\u001b[0m\u001b[0mindex\u001b[0m\u001b[0;34m]\u001b[0m\u001b[0;34m,\u001b[0m \u001b[0mself\u001b[0m\u001b[0;34m.\u001b[0m\u001b[0my\u001b[0m\u001b[0;34m[\u001b[0m\u001b[0mindex\u001b[0m\u001b[0;34m]\u001b[0m\u001b[0;34m\u001b[0m\u001b[0;34m\u001b[0m\u001b[0m\n\u001b[1;32m     11\u001b[0m     \u001b[0;32mif\u001b[0m \u001b[0mself\u001b[0m\u001b[0;34m.\u001b[0m\u001b[0mtransform\u001b[0m\u001b[0;34m:\u001b[0m\u001b[0;34m\u001b[0m\u001b[0;34m\u001b[0m\u001b[0m\n\u001b[0;32m---> 12\u001b[0;31m       \u001b[0msample\u001b[0m \u001b[0;34m=\u001b[0m \u001b[0mself\u001b[0m\u001b[0;34m.\u001b[0m\u001b[0mtransform\u001b[0m\u001b[0;34m(\u001b[0m\u001b[0msample\u001b[0m\u001b[0;34m)\u001b[0m\u001b[0;34m\u001b[0m\u001b[0;34m\u001b[0m\u001b[0m\n\u001b[0m\u001b[1;32m     13\u001b[0m     \u001b[0;32mreturn\u001b[0m \u001b[0msample\u001b[0m\u001b[0;34m\u001b[0m\u001b[0;34m\u001b[0m\u001b[0m\n\u001b[1;32m     14\u001b[0m     \u001b[0;31m#return self.x[index], self.y[index]\u001b[0m\u001b[0;34m\u001b[0m\u001b[0;34m\u001b[0m\u001b[0m\n",
            "\u001b[0;32m/usr/local/lib/python3.10/dist-packages/torchvision/transforms/transforms.py\u001b[0m in \u001b[0;36m__call__\u001b[0;34m(self, img)\u001b[0m\n\u001b[1;32m     93\u001b[0m     \u001b[0;32mdef\u001b[0m \u001b[0m__call__\u001b[0m\u001b[0;34m(\u001b[0m\u001b[0mself\u001b[0m\u001b[0;34m,\u001b[0m \u001b[0mimg\u001b[0m\u001b[0;34m)\u001b[0m\u001b[0;34m:\u001b[0m\u001b[0;34m\u001b[0m\u001b[0;34m\u001b[0m\u001b[0m\n\u001b[1;32m     94\u001b[0m         \u001b[0;32mfor\u001b[0m \u001b[0mt\u001b[0m \u001b[0;32min\u001b[0m \u001b[0mself\u001b[0m\u001b[0;34m.\u001b[0m\u001b[0mtransforms\u001b[0m\u001b[0;34m:\u001b[0m\u001b[0;34m\u001b[0m\u001b[0;34m\u001b[0m\u001b[0m\n\u001b[0;32m---> 95\u001b[0;31m             \u001b[0mimg\u001b[0m \u001b[0;34m=\u001b[0m \u001b[0mt\u001b[0m\u001b[0;34m(\u001b[0m\u001b[0mimg\u001b[0m\u001b[0;34m)\u001b[0m\u001b[0;34m\u001b[0m\u001b[0;34m\u001b[0m\u001b[0m\n\u001b[0m\u001b[1;32m     96\u001b[0m         \u001b[0;32mreturn\u001b[0m \u001b[0mimg\u001b[0m\u001b[0;34m\u001b[0m\u001b[0;34m\u001b[0m\u001b[0m\n\u001b[1;32m     97\u001b[0m \u001b[0;34m\u001b[0m\u001b[0m\n",
            "\u001b[0;32m<ipython-input-52-7d55cf84d51e>\u001b[0m in \u001b[0;36m__call__\u001b[0;34m(self, sample)\u001b[0m\n\u001b[1;32m      2\u001b[0m   \u001b[0;32mdef\u001b[0m \u001b[0m__call__\u001b[0m\u001b[0;34m(\u001b[0m\u001b[0mself\u001b[0m\u001b[0;34m,\u001b[0m \u001b[0msample\u001b[0m\u001b[0;34m)\u001b[0m\u001b[0;34m:\u001b[0m\u001b[0;34m\u001b[0m\u001b[0;34m\u001b[0m\u001b[0m\n\u001b[1;32m      3\u001b[0m     \u001b[0minputs\u001b[0m\u001b[0;34m,\u001b[0m \u001b[0mtarget\u001b[0m \u001b[0;34m=\u001b[0m \u001b[0msample\u001b[0m\u001b[0;34m\u001b[0m\u001b[0;34m\u001b[0m\u001b[0m\n\u001b[0;32m----> 4\u001b[0;31m     \u001b[0;32mreturn\u001b[0m \u001b[0mtorch\u001b[0m\u001b[0;34m.\u001b[0m\u001b[0mfrom_numpy\u001b[0m\u001b[0;34m(\u001b[0m\u001b[0minputs\u001b[0m\u001b[0;34m)\u001b[0m\u001b[0;34m,\u001b[0m \u001b[0mtorch\u001b[0m\u001b[0;34m.\u001b[0m\u001b[0mfrom_numpy\u001b[0m\u001b[0;34m(\u001b[0m\u001b[0mtargets\u001b[0m\u001b[0;34m)\u001b[0m\u001b[0;34m\u001b[0m\u001b[0;34m\u001b[0m\u001b[0m\n\u001b[0m",
            "\u001b[0;31mTypeError\u001b[0m: expected np.ndarray (got Tensor)"
          ]
        }
      ]
    },
    {
      "cell_type": "markdown",
      "source": [
        "# FeedForward"
      ],
      "metadata": {
        "id": "qwvEUQI9eWH-"
      }
    },
    {
      "cell_type": "code",
      "source": [
        "import torch\n",
        "import torch.nn as nn\n",
        "import torchvision\n",
        "import torchvision.transforms as transforms\n",
        "import matplotlib.pyplot as plt"
      ],
      "metadata": {
        "id": "07fxrm-NQCtu"
      },
      "execution_count": 55,
      "outputs": []
    },
    {
      "cell_type": "code",
      "source": [
        "device = torch.device('cuda' if torch.cuda.is_available() else 'cpu')"
      ],
      "metadata": {
        "id": "2eXzczGOesUV"
      },
      "execution_count": 57,
      "outputs": []
    },
    {
      "cell_type": "code",
      "source": [
        "print(device)"
      ],
      "metadata": {
        "colab": {
          "base_uri": "https://localhost:8080/"
        },
        "id": "nRyKL0wKgly5",
        "outputId": "8ddfa4aa-b8e6-4bfc-89f9-54958bff9f8c"
      },
      "execution_count": 58,
      "outputs": [
        {
          "output_type": "stream",
          "name": "stdout",
          "text": [
            "cuda\n"
          ]
        }
      ]
    },
    {
      "cell_type": "code",
      "source": [
        "#hyper parameters\n",
        "input_size = 784 #28*28\n",
        "hidden_size = 100\n",
        "num_classes = 10\n",
        "num_epochs = 5\n",
        "batch_size = 100\n",
        "learning_rate = 0.001"
      ],
      "metadata": {
        "id": "L4GfCLVXe01p"
      },
      "execution_count": 79,
      "outputs": []
    },
    {
      "cell_type": "code",
      "source": [
        "train_dataset = torchvision.datasets.MNIST(root = './data', train = True, transform = torchvision.transforms.ToTensor(), download=True  )\n",
        "test_dataset = torchvision.datasets.MNIST(root = './data', train = False, transform = torchvision.transforms.ToTensor())"
      ],
      "metadata": {
        "colab": {
          "base_uri": "https://localhost:8080/"
        },
        "id": "JeyvOiGPfG6c",
        "outputId": "ff0455ee-aded-4128-c1aa-1d53109f5e70"
      },
      "execution_count": 61,
      "outputs": [
        {
          "output_type": "stream",
          "name": "stdout",
          "text": [
            "Downloading http://yann.lecun.com/exdb/mnist/train-images-idx3-ubyte.gz\n",
            "Downloading http://yann.lecun.com/exdb/mnist/train-images-idx3-ubyte.gz to ./data/MNIST/raw/train-images-idx3-ubyte.gz\n"
          ]
        },
        {
          "output_type": "stream",
          "name": "stderr",
          "text": [
            "100%|██████████| 9912422/9912422 [00:00<00:00, 109715815.81it/s]\n"
          ]
        },
        {
          "output_type": "stream",
          "name": "stdout",
          "text": [
            "Extracting ./data/MNIST/raw/train-images-idx3-ubyte.gz to ./data/MNIST/raw\n",
            "\n",
            "Downloading http://yann.lecun.com/exdb/mnist/train-labels-idx1-ubyte.gz\n",
            "Downloading http://yann.lecun.com/exdb/mnist/train-labels-idx1-ubyte.gz to ./data/MNIST/raw/train-labels-idx1-ubyte.gz\n"
          ]
        },
        {
          "output_type": "stream",
          "name": "stderr",
          "text": [
            "100%|██████████| 28881/28881 [00:00<00:00, 24935301.32it/s]"
          ]
        },
        {
          "output_type": "stream",
          "name": "stdout",
          "text": [
            "Extracting ./data/MNIST/raw/train-labels-idx1-ubyte.gz to ./data/MNIST/raw\n",
            "\n",
            "Downloading http://yann.lecun.com/exdb/mnist/t10k-images-idx3-ubyte.gz\n",
            "Downloading http://yann.lecun.com/exdb/mnist/t10k-images-idx3-ubyte.gz to ./data/MNIST/raw/t10k-images-idx3-ubyte.gz\n"
          ]
        },
        {
          "output_type": "stream",
          "name": "stderr",
          "text": [
            "\n",
            "100%|██████████| 1648877/1648877 [00:00<00:00, 25725221.59it/s]\n"
          ]
        },
        {
          "output_type": "stream",
          "name": "stdout",
          "text": [
            "Extracting ./data/MNIST/raw/t10k-images-idx3-ubyte.gz to ./data/MNIST/raw\n",
            "\n",
            "Downloading http://yann.lecun.com/exdb/mnist/t10k-labels-idx1-ubyte.gz\n",
            "Downloading http://yann.lecun.com/exdb/mnist/t10k-labels-idx1-ubyte.gz to ./data/MNIST/raw/t10k-labels-idx1-ubyte.gz\n"
          ]
        },
        {
          "output_type": "stream",
          "name": "stderr",
          "text": [
            "100%|██████████| 4542/4542 [00:00<00:00, 19803044.46it/s]\n"
          ]
        },
        {
          "output_type": "stream",
          "name": "stdout",
          "text": [
            "Extracting ./data/MNIST/raw/t10k-labels-idx1-ubyte.gz to ./data/MNIST/raw\n",
            "\n"
          ]
        }
      ]
    },
    {
      "cell_type": "code",
      "source": [
        "train_loader = torch.utils.data.DataLoader(dataset = train_dataset, batch_size=batch_size, shuffle = True)\n",
        "test_loader = torch.utils.data.DataLoader(dataset = test_dataset, batch_size=batch_size, shuffle = False)\n"
      ],
      "metadata": {
        "id": "W02y8WAjf4GV"
      },
      "execution_count": 62,
      "outputs": []
    },
    {
      "cell_type": "code",
      "source": [
        "examples = iter(train_loader)\n",
        "samples, labels = next(examples)\n",
        "print(samples.shape, labels.shape)"
      ],
      "metadata": {
        "colab": {
          "base_uri": "https://localhost:8080/"
        },
        "id": "ImUzPBCFgUf2",
        "outputId": "a41f894e-8d2e-42ad-dd02-e5c0e1b9bd31"
      },
      "execution_count": 64,
      "outputs": [
        {
          "output_type": "stream",
          "name": "stdout",
          "text": [
            "torch.Size([100, 1, 28, 28]) torch.Size([100])\n"
          ]
        }
      ]
    },
    {
      "cell_type": "code",
      "source": [
        "for i in range(6):\n",
        "  plt.subplot(2,3,i+1)\n",
        "  plt.imshow(samples[i][0],cmap = 'gray')\n",
        "plt.show()"
      ],
      "metadata": {
        "colab": {
          "base_uri": "https://localhost:8080/",
          "height": 411
        },
        "id": "jnBMySkHgU43",
        "outputId": "d4839832-9e0e-4557-f779-5b537effbc20"
      },
      "execution_count": 66,
      "outputs": [
        {
          "output_type": "display_data",
          "data": {
            "text/plain": [
              "<Figure size 640x480 with 6 Axes>"
            ],
            "image/png": "[encoded data removed]"
          },
          "metadata": {}
        }
      ]
    },
    {
      "cell_type": "code",
      "source": [
        "class NeuralNet(nn.Module):\n",
        "  def __init__(self,input_size,hidden_size,output_size):\n",
        "    super(NeuralNet, self).__init__()\n",
        "    self.l1 = nn.Linear(input_size,hidden_size)\n",
        "    self.relu = nn.ReLU()\n",
        "    self.l2 = nn.Linear(hidden_size,num_classes)\n",
        "\n",
        "  def forward(self,x):\n",
        "    out = self.l1(x)\n",
        "    out = self.relu(out)\n",
        "    out = self.l2(out)\n",
        "    return out\n",
        "\n",
        "model = NeuralNet(input_size,hidden_size,num_classes)\n",
        "model.to(device)"
      ],
      "metadata": {
        "colab": {
          "base_uri": "https://localhost:8080/"
        },
        "id": "AUF2gnPzhqiW",
        "outputId": "3456e7e2-8700-4f32-cb4f-bf1886267c12"
      },
      "execution_count": 74,
      "outputs": [
        {
          "output_type": "execute_result",
          "data": {
            "text/plain": [
              "NeuralNet(\n",
              "  (l1): Linear(in_features=784, out_features=100, bias=True)\n",
              "  (relu): ReLU()\n",
              "  (l2): Linear(in_features=100, out_features=10, bias=True)\n",
              ")"
            ]
          },
          "metadata": {},
          "execution_count": 74
        }
      ]
    },
    {
      "cell_type": "code",
      "source": [
        "#loss and optimizer\n",
        "criterion = nn.CrossEntropyLoss() # Apply softmax for us\n",
        "optimizer = torch.optim.Adam(model.parameters(),lr = learning_rate)"
      ],
      "metadata": {
        "id": "_oSd0ks3ipAZ"
      },
      "execution_count": 75,
      "outputs": []
    },
    {
      "cell_type": "code",
      "source": [
        "# training loop\n",
        "n_total_steps = len(train_loader)\n",
        "for epoch in range(num_epochs):\n",
        "  for i ,(images, labels) in enumerate(train_loader):\n",
        "    #100,1,28,28\n",
        "    images = images.reshape(-1, 28*28).to(device)\n",
        "    labels = labels.to(device)\n",
        "\n",
        "    #forward\n",
        "\n",
        "    outputs = model(images)\n",
        "    loss = criterion(outputs,labels)\n",
        "\n",
        "    #backward\n",
        "    optimizer.zero_grad()\n",
        "    loss.backward()\n",
        "    optimizer.step()\n",
        "    if (i+1)%100 ==0:\n",
        "      print(f'epoch {epoch+1}/{num_epochs}, step = {i+1}/{n_total_steps}, loss = {loss.item():.4f}')"
      ],
      "metadata": {
        "colab": {
          "base_uri": "https://localhost:8080/"
        },
        "id": "CNQFBgA6hqzt",
        "outputId": "8f892e57-c391-446d-f08a-bcafc4fcb7e0"
      },
      "execution_count": 80,
      "outputs": [
        {
          "output_type": "stream",
          "name": "stdout",
          "text": [
            "epoch 1/5, step = 100/45, loss = 0.0439\n",
            "epoch 1/5, step = 200/45, loss = 0.1119\n",
            "epoch 1/5, step = 300/45, loss = 0.1775\n",
            "epoch 1/5, step = 400/45, loss = 0.0753\n",
            "epoch 1/5, step = 500/45, loss = 0.0539\n",
            "epoch 1/5, step = 600/45, loss = 0.1945\n",
            "epoch 2/5, step = 100/45, loss = 0.0493\n",
            "epoch 2/5, step = 200/45, loss = 0.1221\n",
            "epoch 2/5, step = 300/45, loss = 0.0477\n",
            "epoch 2/5, step = 400/45, loss = 0.1143\n",
            "epoch 2/5, step = 500/45, loss = 0.0543\n",
            "epoch 2/5, step = 600/45, loss = 0.1381\n",
            "epoch 3/5, step = 100/45, loss = 0.0877\n",
            "epoch 3/5, step = 200/45, loss = 0.0557\n",
            "epoch 3/5, step = 300/45, loss = 0.0890\n",
            "epoch 3/5, step = 400/45, loss = 0.0380\n",
            "epoch 3/5, step = 500/45, loss = 0.0447\n",
            "epoch 3/5, step = 600/45, loss = 0.0249\n",
            "epoch 4/5, step = 100/45, loss = 0.0723\n",
            "epoch 4/5, step = 200/45, loss = 0.0213\n",
            "epoch 4/5, step = 300/45, loss = 0.0446\n",
            "epoch 4/5, step = 400/45, loss = 0.0708\n",
            "epoch 4/5, step = 500/45, loss = 0.0194\n",
            "epoch 4/5, step = 600/45, loss = 0.0275\n",
            "epoch 5/5, step = 100/45, loss = 0.0282\n",
            "epoch 5/5, step = 200/45, loss = 0.0476\n",
            "epoch 5/5, step = 300/45, loss = 0.0398\n",
            "epoch 5/5, step = 400/45, loss = 0.0445\n",
            "epoch 5/5, step = 500/45, loss = 0.0138\n",
            "epoch 5/5, step = 600/45, loss = 0.0074\n"
          ]
        }
      ]
    },
    {
      "cell_type": "code",
      "source": [
        "# test\n",
        "with torch.no_grad():\n",
        "  n_correct = 0\n",
        "  n_sample = 0\n",
        "  num = 0\n",
        "  print(n_samples)\n",
        "\n",
        "  for images,labes in test_loader:\n",
        "    images = images.reshape(-1, 28*28).to(device)\n",
        "    labels = labels.to(device)\n",
        "    outputs = model(images)\n",
        "    #value,index\n",
        "    _, predictions = torch.max(outputs,1)\n",
        "    n_samples += labels.shape[0]\n",
        "    #print(n_samples)\n",
        "    n_correct += (predictions==labels).sum().item()\n",
        "    #print(n_correct)\n",
        "    num+=1\n",
        "  #print(n_correct)\n",
        "  #print(num)\n",
        "  acc = 100.0 * n_correct / n_samples\n",
        "  print(f'accuracy: {acc}')"
      ],
      "metadata": {
        "colab": {
          "base_uri": "https://localhost:8080/"
        },
        "id": "MNa1hMbAkQwf",
        "outputId": "5041fa3b-6664-4eb6-8375-1ce5578f31ac"
      },
      "execution_count": 92,
      "outputs": [
        {
          "output_type": "stream",
          "name": "stdout",
          "text": [
            "90100\n",
            "90200\n",
            "7\n",
            "90300\n",
            "19\n",
            "90400\n",
            "25\n",
            "90500\n",
            "31\n",
            "90600\n",
            "42\n",
            "90700\n",
            "53\n",
            "90800\n",
            "62\n",
            "90900\n",
            "79\n",
            "91000\n",
            "84\n",
            "91100\n",
            "94\n",
            "91200\n",
            "101\n",
            "91300\n",
            "110\n",
            "91400\n",
            "121\n",
            "91500\n",
            "128\n",
            "91600\n",
            "136\n",
            "91700\n",
            "147\n",
            "91800\n",
            "152\n",
            "91900\n",
            "164\n",
            "92000\n",
            "177\n",
            "92100\n",
            "192\n",
            "92200\n",
            "197\n",
            "92300\n",
            "207\n",
            "92400\n",
            "218\n",
            "92500\n",
            "227\n",
            "92600\n",
            "236\n",
            "92700\n",
            "248\n",
            "92800\n",
            "257\n",
            "92900\n",
            "265\n",
            "93000\n",
            "276\n",
            "93100\n",
            "285\n",
            "93200\n",
            "293\n",
            "93300\n",
            "300\n",
            "93400\n",
            "311\n",
            "93500\n",
            "320\n",
            "93600\n",
            "336\n",
            "93700\n",
            "348\n",
            "93800\n",
            "360\n",
            "93900\n",
            "371\n",
            "94000\n",
            "376\n",
            "94100\n",
            "384\n",
            "94200\n",
            "388\n",
            "94300\n",
            "401\n",
            "94400\n",
            "408\n",
            "94500\n",
            "415\n",
            "94600\n",
            "426\n",
            "94700\n",
            "433\n",
            "94800\n",
            "443\n",
            "94900\n",
            "451\n",
            "95000\n",
            "462\n",
            "95100\n",
            "476\n",
            "95200\n",
            "485\n",
            "95300\n",
            "491\n",
            "95400\n",
            "507\n",
            "95500\n",
            "517\n",
            "95600\n",
            "528\n",
            "95700\n",
            "539\n",
            "95800\n",
            "548\n",
            "95900\n",
            "556\n",
            "96000\n",
            "562\n",
            "96100\n",
            "569\n",
            "96200\n",
            "580\n",
            "96300\n",
            "591\n",
            "96400\n",
            "605\n",
            "96500\n",
            "613\n",
            "96600\n",
            "622\n",
            "96700\n",
            "631\n",
            "96800\n",
            "638\n",
            "96900\n",
            "653\n",
            "97000\n",
            "663\n",
            "97100\n",
            "674\n",
            "97200\n",
            "686\n",
            "97300\n",
            "700\n",
            "97400\n",
            "712\n",
            "97500\n",
            "721\n",
            "97600\n",
            "738\n",
            "97700\n",
            "744\n",
            "97800\n",
            "749\n",
            "97900\n",
            "760\n",
            "98000\n",
            "770\n",
            "98100\n",
            "785\n",
            "98200\n",
            "798\n",
            "98300\n",
            "806\n",
            "98400\n",
            "814\n",
            "98500\n",
            "828\n",
            "98600\n",
            "836\n",
            "98700\n",
            "845\n",
            "98800\n",
            "853\n",
            "98900\n",
            "864\n",
            "99000\n",
            "875\n",
            "99100\n",
            "889\n",
            "99200\n",
            "905\n",
            "99300\n",
            "914\n",
            "99400\n",
            "919\n",
            "99500\n",
            "929\n",
            "99600\n",
            "942\n",
            "99700\n",
            "952\n",
            "99800\n",
            "969\n",
            "99900\n",
            "978\n",
            "100000\n",
            "987\n",
            "100100\n",
            "999\n",
            "100\n",
            "accuracy: 0.998001998001998\n"
          ]
        }
      ]
    }
  ]
}