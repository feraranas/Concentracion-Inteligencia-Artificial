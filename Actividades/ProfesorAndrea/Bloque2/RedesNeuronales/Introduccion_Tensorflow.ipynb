{
 "cells": [
  {
   "cell_type": "markdown",
   "metadata": {
    "id": "pT-uTB0rrI4c"
   },
   "source": [
    "### **Introducción a Tensorflow**"
   ]
  },
  {
   "cell_type": "code",
   "execution_count": 1,
   "metadata": {
    "colab": {
     "base_uri": "https://localhost:8080/"
    },
    "id": "PRqklboPXrzt",
    "outputId": "2746184c-9216-4e42-984c-21e3f6366061"
   },
   "outputs": [
    {
     "name": "stdout",
     "output_type": "stream",
     "text": [
      "Requirement already satisfied: h5py in c:\\users\\atorr\\miniconda3\\envs\\mlenv\\lib\\site-packages (3.9.0)\n",
      "Requirement already satisfied: numpy>=1.17.3 in c:\\users\\atorr\\miniconda3\\envs\\mlenv\\lib\\site-packages (from h5py) (1.23.5)\n"
     ]
    }
   ],
   "source": [
    "!pip install h5py"
   ]
  },
  {
   "cell_type": "markdown",
   "metadata": {
    "id": "e-a_ITJLsVZN"
   },
   "source": [
    "Importar librerías"
   ]
  },
  {
   "cell_type": "code",
   "execution_count": 3,
   "metadata": {
    "id": "jT0ADbMwXQsF"
   },
   "outputs": [],
   "source": [
    "\n",
    "import pandas as pd\n",
    "import numpy as np\n",
    "import seaborn as sns\n",
    "import matplotlib.pyplot as plt\n",
    "from sklearn.datasets import make_moons\n",
    "from tensorflow.keras.utils import plot_model\n",
    "from sklearn.model_selection import train_test_split\n",
    "from sklearn.metrics import confusion_matrix\n",
    "from mlxtend.plotting import plot_decision_regions"
   ]
  },
  {
   "cell_type": "markdown",
   "metadata": {
    "id": "Y1GE-wGBXges"
   },
   "source": [
    "Importar librería de tensorflow"
   ]
  },
  {
   "cell_type": "code",
   "execution_count": 4,
   "metadata": {
    "id": "4e_RFVJXSJbz"
   },
   "outputs": [],
   "source": [
    "import tensorflow as tf"
   ]
  },
  {
   "cell_type": "code",
   "execution_count": 5,
   "metadata": {
    "colab": {
     "base_uri": "https://localhost:8080/"
    },
    "id": "qgs0h4tpSMHj",
    "outputId": "1dc5c982-c4c2-458b-f069-fca0b35cb759"
   },
   "outputs": [
    {
     "name": "stdout",
     "output_type": "stream",
     "text": [
      "2.13.0\n"
     ]
    }
   ],
   "source": [
    "# Confirmar que tensorflow está instalado\n",
    "print(tf.__version__)"
   ]
  },
  {
   "cell_type": "markdown",
   "metadata": {
    "id": "U3p7FCY_snMc"
   },
   "source": [
    "Leer y visualizar el conjunto de datos"
   ]
  },
  {
   "cell_type": "code",
   "execution_count": 6,
   "metadata": {
    "id": "8VpdZ0Gy_vjl"
   },
   "outputs": [],
   "source": [
    "X, y = make_moons(n_samples=500, noise=0.5, random_state=3)"
   ]
  },
  {
   "cell_type": "code",
   "execution_count": 7,
   "metadata": {
    "colab": {
     "base_uri": "https://localhost:8080/",
     "height": 224
    },
    "id": "pl_Jeh7oYC9p",
    "outputId": "e6d4e3d3-4550-44c6-97a3-413d249b7cf8"
   },
   "outputs": [
    {
     "name": "stdout",
     "output_type": "stream",
     "text": [
      "(500, 3)\n"
     ]
    },
    {
     "data": {
      "text/html": [
       "<div>\n",
       "<style scoped>\n",
       "    .dataframe tbody tr th:only-of-type {\n",
       "        vertical-align: middle;\n",
       "    }\n",
       "\n",
       "    .dataframe tbody tr th {\n",
       "        vertical-align: top;\n",
       "    }\n",
       "\n",
       "    .dataframe thead th {\n",
       "        text-align: right;\n",
       "    }\n",
       "</style>\n",
       "<table border=\"1\" class=\"dataframe\">\n",
       "  <thead>\n",
       "    <tr style=\"text-align: right;\">\n",
       "      <th></th>\n",
       "      <th>X1</th>\n",
       "      <th>X2</th>\n",
       "      <th>label</th>\n",
       "    </tr>\n",
       "  </thead>\n",
       "  <tbody>\n",
       "    <tr>\n",
       "      <th>0</th>\n",
       "      <td>-0.736742</td>\n",
       "      <td>1.157796</td>\n",
       "      <td>0</td>\n",
       "    </tr>\n",
       "    <tr>\n",
       "      <th>1</th>\n",
       "      <td>0.060443</td>\n",
       "      <td>0.395688</td>\n",
       "      <td>1</td>\n",
       "    </tr>\n",
       "    <tr>\n",
       "      <th>2</th>\n",
       "      <td>0.273094</td>\n",
       "      <td>0.699206</td>\n",
       "      <td>0</td>\n",
       "    </tr>\n",
       "    <tr>\n",
       "      <th>3</th>\n",
       "      <td>-1.579686</td>\n",
       "      <td>-0.525806</td>\n",
       "      <td>0</td>\n",
       "    </tr>\n",
       "    <tr>\n",
       "      <th>4</th>\n",
       "      <td>-0.888143</td>\n",
       "      <td>0.636437</td>\n",
       "      <td>0</td>\n",
       "    </tr>\n",
       "  </tbody>\n",
       "</table>\n",
       "</div>"
      ],
      "text/plain": [
       "         X1        X2  label\n",
       "0 -0.736742  1.157796      0\n",
       "1  0.060443  0.395688      1\n",
       "2  0.273094  0.699206      0\n",
       "3 -1.579686 -0.525806      0\n",
       "4 -0.888143  0.636437      0"
      ]
     },
     "execution_count": 7,
     "metadata": {},
     "output_type": "execute_result"
    }
   ],
   "source": [
    "df = pd.DataFrame(dict(X1=X[:,0], X2=X[:,1], label=y))\n",
    "print(df.shape)\n",
    "df.head()"
   ]
  },
  {
   "cell_type": "code",
   "execution_count": 8,
   "metadata": {
    "colab": {
     "base_uri": "https://localhost:8080/"
    },
    "id": "yBlrAjflYWTq",
    "outputId": "9ffe1a28-fca2-4e75-ecf5-31f5e1639bb1"
   },
   "outputs": [
    {
     "data": {
      "text/plain": [
       "0    250\n",
       "1    250\n",
       "Name: label, dtype: int64"
      ]
     },
     "execution_count": 8,
     "metadata": {},
     "output_type": "execute_result"
    }
   ],
   "source": [
    "df.label.value_counts()"
   ]
  },
  {
   "cell_type": "code",
   "execution_count": 9,
   "metadata": {
    "colab": {
     "base_uri": "https://localhost:8080/",
     "height": 449
    },
    "id": "mcFQkXTPSYgR",
    "outputId": "1d917ace-76b1-4020-997e-a5ba5081b4e1"
   },
   "outputs": [
    {
     "data": {
      "image/png": "[encoded data removed]",
      "text/plain": [
       "<Figure size 640x480 with 1 Axes>"
      ]
     },
     "metadata": {},
     "output_type": "display_data"
    }
   ],
   "source": [
    "colors = {0:'red', 1:'blue'}\n",
    "\n",
    "fig, ax = plt.subplots()\n",
    "grouped = df.groupby('label')\n",
    "for key, group in grouped:\n",
    "    group.plot(ax=ax, kind='scatter', x='X1', y='X2', label=key, color=colors[key])\n",
    "plt.show()"
   ]
  },
  {
   "cell_type": "markdown",
   "metadata": {
    "id": "TcAOvQTCtfeZ"
   },
   "source": [
    "Separación del conjunto de datos\n",
    "\n",
    "\n"
   ]
  },
  {
   "cell_type": "code",
   "execution_count": 10,
   "metadata": {
    "id": "L1Hdoy8JhJCt"
   },
   "outputs": [],
   "source": [
    " X_train, X_test, y_train, y_test = train_test_split(X, y, test_size=0.20, random_state=42)"
   ]
  },
  {
   "cell_type": "code",
   "execution_count": 11,
   "metadata": {
    "colab": {
     "base_uri": "https://localhost:8080/"
    },
    "id": "Ykf4X4s2hddf",
    "outputId": "8539ece4-5595-4161-de2d-f84f2c91c5cd"
   },
   "outputs": [
    {
     "name": "stdout",
     "output_type": "stream",
     "text": [
      "Tamaño del conjunto de datos de entrenamiento:  (400, 2)\n",
      "Tamaño del conjunto de datos de prueba:  (100, 2)\n"
     ]
    }
   ],
   "source": [
    "print('Tamaño del conjunto de datos de entrenamiento: ', X_train.shape)\n",
    "print('Tamaño del conjunto de datos de prueba: ', X_test.shape)"
   ]
  },
  {
   "cell_type": "code",
   "execution_count": 12,
   "metadata": {
    "colab": {
     "base_uri": "https://localhost:8080/"
    },
    "id": "kzgNgKTRYr4Q",
    "outputId": "36699248-c800-4edc-ec80-1a97b40dcaa0"
   },
   "outputs": [
    {
     "name": "stdout",
     "output_type": "stream",
     "text": [
      "Número de elementos en la clase positiva  200\n",
      "Número de elementos en la clase negativa  200\n"
     ]
    }
   ],
   "source": [
    "pos_class = np.count_nonzero(y_train == 1) # Conteo de los valores \"non-zero\" en el arreglo\n",
    "print('Número de elementos en la clase positiva ',pos_class)\n",
    "neg_class = np.count_nonzero(y_train == 0)\n",
    "print('Número de elementos en la clase negativa ',neg_class)"
   ]
  },
  {
   "cell_type": "code",
   "execution_count": 13,
   "metadata": {
    "colab": {
     "base_uri": "https://localhost:8080/"
    },
    "id": "P7mzvvFot-Qm",
    "outputId": "79b8b6d5-cd3b-4d5c-a56f-8b5f0f1b0975"
   },
   "outputs": [
    {
     "name": "stdout",
     "output_type": "stream",
     "text": [
      "Número de elementos en la clase positiva  50\n",
      "Número de elementos en la clase negativa  50\n"
     ]
    }
   ],
   "source": [
    "pos_class = np.count_nonzero(y_test == 1) # Conteo de los valores \"non-zero\" en el arreglo\n",
    "print('Número de elementos en la clase positiva ',pos_class)\n",
    "neg_class = np.count_nonzero(y_test == 0)\n",
    "print('Número de elementos en la clase negativa ',neg_class)"
   ]
  },
  {
   "cell_type": "markdown",
   "metadata": {
    "id": "Rom2PBp9AQbe"
   },
   "source": [
    "## Ciclo de vida del modelo"
   ]
  },
  {
   "cell_type": "markdown",
   "metadata": {
    "id": "7YjdPfSh_8Qw"
   },
   "source": [
    "\n",
    "\n",
    "**1.   Definción del modelo**\n"
   ]
  },
  {
   "cell_type": "code",
   "execution_count": 14,
   "metadata": {
    "id": "enQdImGABYCG"
   },
   "outputs": [],
   "source": [
    "from tensorflow.keras import Sequential\n",
    "from tensorflow.keras.layers import Dense"
   ]
  },
  {
   "cell_type": "code",
   "execution_count": 15,
   "metadata": {
    "id": "UNZR4uSZh1nK"
   },
   "outputs": [],
   "source": [
    "# define model\n",
    "model = Sequential()\n",
    "model.add(Dense(1, activation='sigmoid', input_dim=2))"
   ]
  },
  {
   "cell_type": "markdown",
   "metadata": {
    "id": "vZtieJjKAXvH"
   },
   "source": [
    "\n",
    "\n",
    "**2.   Compilación del modelo**"
   ]
  },
  {
   "cell_type": "code",
   "execution_count": 16,
   "metadata": {
    "id": "nBJ36IrBiLei"
   },
   "outputs": [],
   "source": [
    "model.compile(loss='binary_crossentropy', optimizer='adam', metrics=['accuracy'])"
   ]
  },
  {
   "cell_type": "markdown",
   "metadata": {
    "id": "QYGcGfdFAp5J"
   },
   "source": [
    "Visualización del modelo"
   ]
  },
  {
   "cell_type": "code",
   "execution_count": 17,
   "metadata": {
    "colab": {
     "base_uri": "https://localhost:8080/"
    },
    "id": "Mv8p0FjpiMil",
    "outputId": "2c1aed9a-6e46-4a43-ce61-76b002a3446b"
   },
   "outputs": [
    {
     "name": "stdout",
     "output_type": "stream",
     "text": [
      "Model: \"sequential\"\n",
      "_________________________________________________________________\n",
      " Layer (type)                Output Shape              Param #   \n",
      "=================================================================\n",
      " dense (Dense)               (None, 1)                 3         \n",
      "                                                                 \n",
      "=================================================================\n",
      "Total params: 3 (12.00 Byte)\n",
      "Trainable params: 3 (12.00 Byte)\n",
      "Non-trainable params: 0 (0.00 Byte)\n",
      "_________________________________________________________________\n"
     ]
    }
   ],
   "source": [
    "model.summary()"
   ]
  },
  {
   "cell_type": "code",
   "execution_count": 18,
   "metadata": {
    "colab": {
     "base_uri": "https://localhost:8080/",
     "height": 201
    },
    "id": "NPuhJ3Mtiwgs",
    "outputId": "bcc41632-6339-43a5-f1db-3c40beef09d0"
   },
   "outputs": [
    {
     "name": "stdout",
     "output_type": "stream",
     "text": [
      "You must install pydot (`pip install pydot`) and install graphviz (see instructions at https://graphviz.gitlab.io/download/) for plot_model to work.\n"
     ]
    }
   ],
   "source": [
    "plot_model(model, show_shapes=True)"
   ]
  },
  {
   "cell_type": "markdown",
   "metadata": {
    "id": "BL00rkyzBlHE"
   },
   "source": [
    "\n",
    "**3.   Ajuste del modelo**"
   ]
  },
  {
   "cell_type": "code",
   "execution_count": 19,
   "metadata": {
    "colab": {
     "base_uri": "https://localhost:8080/"
    },
    "id": "kyz9C2sXjMHU",
    "outputId": "a184188e-d2e5-4527-ec39-6307c0746a97"
   },
   "outputs": [
    {
     "name": "stdout",
     "output_type": "stream",
     "text": [
      "Epoch 1/300\n",
      "13/13 [==============================] - 2s 32ms/step - loss: 0.7626 - accuracy: 0.5650 - val_loss: 0.7579 - val_accuracy: 0.5700\n",
      "Epoch 2/300\n",
      "13/13 [==============================] - 0s 7ms/step - loss: 0.7574 - accuracy: 0.5650 - val_loss: 0.7535 - val_accuracy: 0.5700\n",
      "Epoch 3/300\n",
      "13/13 [==============================] - 0s 6ms/step - loss: 0.7523 - accuracy: 0.5650 - val_loss: 0.7493 - val_accuracy: 0.5700\n",
      "Epoch 4/300\n",
      "13/13 [==============================] - 0s 6ms/step - loss: 0.7471 - accuracy: 0.5625 - val_loss: 0.7452 - val_accuracy: 0.5800\n",
      "Epoch 5/300\n",
      "13/13 [==============================] - 0s 6ms/step - loss: 0.7421 - accuracy: 0.5700 - val_loss: 0.7411 - val_accuracy: 0.5800\n",
      "Epoch 6/300\n",
      "13/13 [==============================] - 0s 6ms/step - loss: 0.7371 - accuracy: 0.5750 - val_loss: 0.7370 - val_accuracy: 0.5900\n",
      "Epoch 7/300\n",
      "13/13 [==============================] - 0s 6ms/step - loss: 0.7325 - accuracy: 0.5750 - val_loss: 0.7329 - val_accuracy: 0.5900\n",
      "Epoch 8/300\n",
      "13/13 [==============================] - 0s 6ms/step - loss: 0.7276 - accuracy: 0.5825 - val_loss: 0.7291 - val_accuracy: 0.5900\n",
      "Epoch 9/300\n",
      "13/13 [==============================] - 0s 7ms/step - loss: 0.7230 - accuracy: 0.5825 - val_loss: 0.7252 - val_accuracy: 0.5900\n",
      "Epoch 10/300\n",
      "13/13 [==============================] - 0s 6ms/step - loss: 0.7183 - accuracy: 0.5875 - val_loss: 0.7216 - val_accuracy: 0.5900\n",
      "Epoch 11/300\n",
      "13/13 [==============================] - 0s 6ms/step - loss: 0.7141 - accuracy: 0.5875 - val_loss: 0.7178 - val_accuracy: 0.5900\n",
      "Epoch 12/300\n",
      "13/13 [==============================] - 0s 6ms/step - loss: 0.7095 - accuracy: 0.5875 - val_loss: 0.7143 - val_accuracy: 0.5900\n",
      "Epoch 13/300\n",
      "13/13 [==============================] - 0s 7ms/step - loss: 0.7052 - accuracy: 0.5900 - val_loss: 0.7107 - val_accuracy: 0.5900\n",
      "Epoch 14/300\n",
      "13/13 [==============================] - 0s 6ms/step - loss: 0.7009 - accuracy: 0.5900 - val_loss: 0.7071 - val_accuracy: 0.6000\n",
      "Epoch 15/300\n",
      "13/13 [==============================] - 0s 6ms/step - loss: 0.6966 - accuracy: 0.5900 - val_loss: 0.7038 - val_accuracy: 0.6000\n",
      "Epoch 16/300\n",
      "13/13 [==============================] - 0s 6ms/step - loss: 0.6925 - accuracy: 0.5900 - val_loss: 0.7004 - val_accuracy: 0.6000\n",
      "Epoch 17/300\n",
      "13/13 [==============================] - 0s 6ms/step - loss: 0.6885 - accuracy: 0.5875 - val_loss: 0.6970 - val_accuracy: 0.6100\n",
      "Epoch 18/300\n",
      "13/13 [==============================] - 0s 13ms/step - loss: 0.6844 - accuracy: 0.5875 - val_loss: 0.6938 - val_accuracy: 0.6100\n",
      "Epoch 19/300\n",
      "13/13 [==============================] - 0s 7ms/step - loss: 0.6805 - accuracy: 0.5900 - val_loss: 0.6907 - val_accuracy: 0.6000\n",
      "Epoch 20/300\n",
      "13/13 [==============================] - 0s 6ms/step - loss: 0.6767 - accuracy: 0.6000 - val_loss: 0.6875 - val_accuracy: 0.6000\n",
      "Epoch 21/300\n",
      "13/13 [==============================] - 0s 6ms/step - loss: 0.6730 - accuracy: 0.6025 - val_loss: 0.6844 - val_accuracy: 0.6000\n",
      "Epoch 22/300\n",
      "13/13 [==============================] - 0s 8ms/step - loss: 0.6692 - accuracy: 0.5975 - val_loss: 0.6814 - val_accuracy: 0.6000\n",
      "Epoch 23/300\n",
      "13/13 [==============================] - 0s 6ms/step - loss: 0.6656 - accuracy: 0.6000 - val_loss: 0.6786 - val_accuracy: 0.6000\n",
      "Epoch 24/300\n",
      "13/13 [==============================] - 0s 6ms/step - loss: 0.6620 - accuracy: 0.6050 - val_loss: 0.6757 - val_accuracy: 0.6200\n",
      "Epoch 25/300\n",
      "13/13 [==============================] - 0s 6ms/step - loss: 0.6586 - accuracy: 0.6125 - val_loss: 0.6727 - val_accuracy: 0.6200\n",
      "Epoch 26/300\n",
      "13/13 [==============================] - 0s 6ms/step - loss: 0.6550 - accuracy: 0.6175 - val_loss: 0.6699 - val_accuracy: 0.6300\n",
      "Epoch 27/300\n",
      "13/13 [==============================] - 0s 6ms/step - loss: 0.6517 - accuracy: 0.6225 - val_loss: 0.6671 - val_accuracy: 0.6400\n",
      "Epoch 28/300\n",
      "13/13 [==============================] - 0s 5ms/step - loss: 0.6483 - accuracy: 0.6275 - val_loss: 0.6644 - val_accuracy: 0.6300\n",
      "Epoch 29/300\n",
      "13/13 [==============================] - 0s 6ms/step - loss: 0.6450 - accuracy: 0.6275 - val_loss: 0.6619 - val_accuracy: 0.6100\n",
      "Epoch 30/300\n",
      "13/13 [==============================] - 0s 7ms/step - loss: 0.6419 - accuracy: 0.6325 - val_loss: 0.6592 - val_accuracy: 0.6000\n",
      "Epoch 31/300\n",
      "13/13 [==============================] - 0s 7ms/step - loss: 0.6387 - accuracy: 0.6350 - val_loss: 0.6566 - val_accuracy: 0.6000\n",
      "Epoch 32/300\n",
      "13/13 [==============================] - 0s 7ms/step - loss: 0.6355 - accuracy: 0.6350 - val_loss: 0.6542 - val_accuracy: 0.6000\n",
      "Epoch 33/300\n",
      "13/13 [==============================] - 0s 6ms/step - loss: 0.6326 - accuracy: 0.6350 - val_loss: 0.6517 - val_accuracy: 0.5800\n",
      "Epoch 34/300\n",
      "13/13 [==============================] - 0s 6ms/step - loss: 0.6296 - accuracy: 0.6350 - val_loss: 0.6493 - val_accuracy: 0.5800\n",
      "Epoch 35/300\n",
      "13/13 [==============================] - 0s 7ms/step - loss: 0.6266 - accuracy: 0.6375 - val_loss: 0.6468 - val_accuracy: 0.5800\n",
      "Epoch 36/300\n",
      "13/13 [==============================] - 0s 7ms/step - loss: 0.6236 - accuracy: 0.6375 - val_loss: 0.6444 - val_accuracy: 0.5800\n",
      "Epoch 37/300\n",
      "13/13 [==============================] - 0s 6ms/step - loss: 0.6207 - accuracy: 0.6425 - val_loss: 0.6419 - val_accuracy: 0.5700\n",
      "Epoch 38/300\n",
      "13/13 [==============================] - 0s 7ms/step - loss: 0.6178 - accuracy: 0.6500 - val_loss: 0.6395 - val_accuracy: 0.5700\n",
      "Epoch 39/300\n",
      "13/13 [==============================] - 0s 6ms/step - loss: 0.6150 - accuracy: 0.6550 - val_loss: 0.6373 - val_accuracy: 0.5700\n",
      "Epoch 40/300\n",
      "13/13 [==============================] - 0s 7ms/step - loss: 0.6123 - accuracy: 0.6550 - val_loss: 0.6350 - val_accuracy: 0.5700\n",
      "Epoch 41/300\n",
      "13/13 [==============================] - 0s 7ms/step - loss: 0.6095 - accuracy: 0.6625 - val_loss: 0.6329 - val_accuracy: 0.5700\n",
      "Epoch 42/300\n",
      "13/13 [==============================] - 0s 7ms/step - loss: 0.6068 - accuracy: 0.6600 - val_loss: 0.6308 - val_accuracy: 0.5500\n",
      "Epoch 43/300\n",
      "13/13 [==============================] - 0s 6ms/step - loss: 0.6044 - accuracy: 0.6650 - val_loss: 0.6286 - val_accuracy: 0.5500\n",
      "Epoch 44/300\n",
      "13/13 [==============================] - 0s 7ms/step - loss: 0.6019 - accuracy: 0.6675 - val_loss: 0.6264 - val_accuracy: 0.5500\n",
      "Epoch 45/300\n",
      "13/13 [==============================] - 0s 6ms/step - loss: 0.5993 - accuracy: 0.6675 - val_loss: 0.6245 - val_accuracy: 0.5500\n",
      "Epoch 46/300\n",
      "13/13 [==============================] - 0s 6ms/step - loss: 0.5969 - accuracy: 0.6725 - val_loss: 0.6225 - val_accuracy: 0.5500\n",
      "Epoch 47/300\n",
      "13/13 [==============================] - 0s 6ms/step - loss: 0.5945 - accuracy: 0.6725 - val_loss: 0.6206 - val_accuracy: 0.5500\n",
      "Epoch 48/300\n",
      "13/13 [==============================] - 0s 7ms/step - loss: 0.5922 - accuracy: 0.6750 - val_loss: 0.6186 - val_accuracy: 0.5500\n",
      "Epoch 49/300\n",
      "13/13 [==============================] - 0s 7ms/step - loss: 0.5899 - accuracy: 0.6800 - val_loss: 0.6166 - val_accuracy: 0.5400\n",
      "Epoch 50/300\n",
      "13/13 [==============================] - 0s 7ms/step - loss: 0.5875 - accuracy: 0.6825 - val_loss: 0.6149 - val_accuracy: 0.5400\n",
      "Epoch 51/300\n",
      "13/13 [==============================] - 0s 6ms/step - loss: 0.5853 - accuracy: 0.6850 - val_loss: 0.6131 - val_accuracy: 0.5400\n",
      "Epoch 52/300\n",
      "13/13 [==============================] - 0s 6ms/step - loss: 0.5831 - accuracy: 0.6875 - val_loss: 0.6113 - val_accuracy: 0.5400\n",
      "Epoch 53/300\n",
      "13/13 [==============================] - 0s 6ms/step - loss: 0.5809 - accuracy: 0.6925 - val_loss: 0.6095 - val_accuracy: 0.5400\n",
      "Epoch 54/300\n",
      "13/13 [==============================] - 0s 5ms/step - loss: 0.5787 - accuracy: 0.6925 - val_loss: 0.6077 - val_accuracy: 0.5400\n",
      "Epoch 55/300\n",
      "13/13 [==============================] - 0s 5ms/step - loss: 0.5766 - accuracy: 0.7000 - val_loss: 0.6059 - val_accuracy: 0.5500\n",
      "Epoch 56/300\n",
      "13/13 [==============================] - 0s 5ms/step - loss: 0.5746 - accuracy: 0.7000 - val_loss: 0.6042 - val_accuracy: 0.5500\n",
      "Epoch 57/300\n",
      "13/13 [==============================] - 0s 4ms/step - loss: 0.5725 - accuracy: 0.6975 - val_loss: 0.6026 - val_accuracy: 0.5500\n",
      "Epoch 58/300\n",
      "13/13 [==============================] - 0s 4ms/step - loss: 0.5705 - accuracy: 0.6975 - val_loss: 0.6009 - val_accuracy: 0.5600\n"
     ]
    },
    {
     "name": "stdout",
     "output_type": "stream",
     "text": [
      "Epoch 59/300\n",
      "13/13 [==============================] - 0s 5ms/step - loss: 0.5685 - accuracy: 0.7000 - val_loss: 0.5992 - val_accuracy: 0.5600\n",
      "Epoch 60/300\n",
      "13/13 [==============================] - 0s 5ms/step - loss: 0.5666 - accuracy: 0.7025 - val_loss: 0.5976 - val_accuracy: 0.5600\n",
      "Epoch 61/300\n",
      "13/13 [==============================] - 0s 5ms/step - loss: 0.5647 - accuracy: 0.7050 - val_loss: 0.5959 - val_accuracy: 0.5700\n",
      "Epoch 62/300\n",
      "13/13 [==============================] - 0s 5ms/step - loss: 0.5627 - accuracy: 0.7075 - val_loss: 0.5944 - val_accuracy: 0.5700\n",
      "Epoch 63/300\n",
      "13/13 [==============================] - 0s 5ms/step - loss: 0.5608 - accuracy: 0.7075 - val_loss: 0.5929 - val_accuracy: 0.5700\n",
      "Epoch 64/300\n",
      "13/13 [==============================] - 0s 5ms/step - loss: 0.5590 - accuracy: 0.7150 - val_loss: 0.5914 - val_accuracy: 0.5700\n",
      "Epoch 65/300\n",
      "13/13 [==============================] - 0s 5ms/step - loss: 0.5573 - accuracy: 0.7150 - val_loss: 0.5899 - val_accuracy: 0.5700\n",
      "Epoch 66/300\n",
      "13/13 [==============================] - 1s 109ms/step - loss: 0.5554 - accuracy: 0.7150 - val_loss: 0.5884 - val_accuracy: 0.5800\n",
      "Epoch 67/300\n",
      "13/13 [==============================] - 0s 6ms/step - loss: 0.5537 - accuracy: 0.7150 - val_loss: 0.5870 - val_accuracy: 0.5900\n",
      "Epoch 68/300\n",
      "13/13 [==============================] - 0s 6ms/step - loss: 0.5520 - accuracy: 0.7175 - val_loss: 0.5856 - val_accuracy: 0.5900\n",
      "Epoch 69/300\n",
      "13/13 [==============================] - 0s 5ms/step - loss: 0.5503 - accuracy: 0.7200 - val_loss: 0.5841 - val_accuracy: 0.5900\n",
      "Epoch 70/300\n",
      "13/13 [==============================] - 0s 5ms/step - loss: 0.5486 - accuracy: 0.7200 - val_loss: 0.5828 - val_accuracy: 0.5900\n",
      "Epoch 71/300\n",
      "13/13 [==============================] - 0s 5ms/step - loss: 0.5470 - accuracy: 0.7250 - val_loss: 0.5814 - val_accuracy: 0.5900\n",
      "Epoch 72/300\n",
      "13/13 [==============================] - 0s 6ms/step - loss: 0.5453 - accuracy: 0.7300 - val_loss: 0.5800 - val_accuracy: 0.5900\n",
      "Epoch 73/300\n",
      "13/13 [==============================] - 0s 6ms/step - loss: 0.5438 - accuracy: 0.7325 - val_loss: 0.5787 - val_accuracy: 0.6000\n",
      "Epoch 74/300\n",
      "13/13 [==============================] - 0s 6ms/step - loss: 0.5422 - accuracy: 0.7350 - val_loss: 0.5774 - val_accuracy: 0.6000\n",
      "Epoch 75/300\n",
      "13/13 [==============================] - 0s 6ms/step - loss: 0.5406 - accuracy: 0.7350 - val_loss: 0.5761 - val_accuracy: 0.6000\n",
      "Epoch 76/300\n",
      "13/13 [==============================] - 0s 5ms/step - loss: 0.5390 - accuracy: 0.7375 - val_loss: 0.5748 - val_accuracy: 0.6100\n",
      "Epoch 77/300\n",
      "13/13 [==============================] - 0s 5ms/step - loss: 0.5375 - accuracy: 0.7375 - val_loss: 0.5735 - val_accuracy: 0.6200\n",
      "Epoch 78/300\n",
      "13/13 [==============================] - 0s 4ms/step - loss: 0.5360 - accuracy: 0.7400 - val_loss: 0.5721 - val_accuracy: 0.6200\n",
      "Epoch 79/300\n",
      "13/13 [==============================] - 0s 4ms/step - loss: 0.5344 - accuracy: 0.7400 - val_loss: 0.5709 - val_accuracy: 0.6300\n",
      "Epoch 80/300\n",
      "13/13 [==============================] - 0s 4ms/step - loss: 0.5330 - accuracy: 0.7400 - val_loss: 0.5697 - val_accuracy: 0.6300\n",
      "Epoch 81/300\n",
      "13/13 [==============================] - 0s 4ms/step - loss: 0.5316 - accuracy: 0.7400 - val_loss: 0.5684 - val_accuracy: 0.6300\n",
      "Epoch 82/300\n",
      "13/13 [==============================] - 0s 5ms/step - loss: 0.5301 - accuracy: 0.7400 - val_loss: 0.5672 - val_accuracy: 0.6300\n",
      "Epoch 83/300\n",
      "13/13 [==============================] - 0s 5ms/step - loss: 0.5287 - accuracy: 0.7400 - val_loss: 0.5660 - val_accuracy: 0.6300\n",
      "Epoch 84/300\n",
      "13/13 [==============================] - 0s 5ms/step - loss: 0.5274 - accuracy: 0.7400 - val_loss: 0.5647 - val_accuracy: 0.6300\n",
      "Epoch 85/300\n",
      "13/13 [==============================] - 0s 4ms/step - loss: 0.5259 - accuracy: 0.7400 - val_loss: 0.5636 - val_accuracy: 0.6300\n",
      "Epoch 86/300\n",
      "13/13 [==============================] - 0s 5ms/step - loss: 0.5245 - accuracy: 0.7400 - val_loss: 0.5625 - val_accuracy: 0.6300\n",
      "Epoch 87/300\n",
      "13/13 [==============================] - 0s 7ms/step - loss: 0.5232 - accuracy: 0.7400 - val_loss: 0.5613 - val_accuracy: 0.6300\n",
      "Epoch 88/300\n",
      "13/13 [==============================] - 0s 10ms/step - loss: 0.5219 - accuracy: 0.7425 - val_loss: 0.5602 - val_accuracy: 0.6400\n",
      "Epoch 89/300\n",
      "13/13 [==============================] - 0s 7ms/step - loss: 0.5205 - accuracy: 0.7425 - val_loss: 0.5591 - val_accuracy: 0.6500\n",
      "Epoch 90/300\n",
      "13/13 [==============================] - 0s 8ms/step - loss: 0.5193 - accuracy: 0.7475 - val_loss: 0.5579 - val_accuracy: 0.6500\n",
      "Epoch 91/300\n",
      "13/13 [==============================] - 0s 7ms/step - loss: 0.5180 - accuracy: 0.7500 - val_loss: 0.5569 - val_accuracy: 0.6500\n",
      "Epoch 92/300\n",
      "13/13 [==============================] - 0s 6ms/step - loss: 0.5168 - accuracy: 0.7500 - val_loss: 0.5559 - val_accuracy: 0.6500\n",
      "Epoch 93/300\n",
      "13/13 [==============================] - 0s 5ms/step - loss: 0.5155 - accuracy: 0.7550 - val_loss: 0.5548 - val_accuracy: 0.6500\n",
      "Epoch 94/300\n",
      "13/13 [==============================] - 0s 5ms/step - loss: 0.5143 - accuracy: 0.7550 - val_loss: 0.5537 - val_accuracy: 0.6500\n",
      "Epoch 95/300\n",
      "13/13 [==============================] - 0s 6ms/step - loss: 0.5131 - accuracy: 0.7550 - val_loss: 0.5527 - val_accuracy: 0.6500\n",
      "Epoch 96/300\n",
      "13/13 [==============================] - 0s 6ms/step - loss: 0.5119 - accuracy: 0.7575 - val_loss: 0.5516 - val_accuracy: 0.6500\n",
      "Epoch 97/300\n",
      "13/13 [==============================] - 0s 6ms/step - loss: 0.5108 - accuracy: 0.7575 - val_loss: 0.5506 - val_accuracy: 0.6600\n",
      "Epoch 98/300\n",
      "13/13 [==============================] - 0s 6ms/step - loss: 0.5096 - accuracy: 0.7600 - val_loss: 0.5496 - val_accuracy: 0.6700\n",
      "Epoch 99/300\n",
      "13/13 [==============================] - 0s 5ms/step - loss: 0.5085 - accuracy: 0.7600 - val_loss: 0.5487 - val_accuracy: 0.6700\n",
      "Epoch 100/300\n",
      "13/13 [==============================] - 0s 5ms/step - loss: 0.5074 - accuracy: 0.7600 - val_loss: 0.5476 - val_accuracy: 0.6700\n",
      "Epoch 101/300\n",
      "13/13 [==============================] - 0s 5ms/step - loss: 0.5063 - accuracy: 0.7625 - val_loss: 0.5466 - val_accuracy: 0.6700\n",
      "Epoch 102/300\n",
      "13/13 [==============================] - 0s 5ms/step - loss: 0.5051 - accuracy: 0.7625 - val_loss: 0.5456 - val_accuracy: 0.6700\n",
      "Epoch 103/300\n",
      "13/13 [==============================] - 0s 5ms/step - loss: 0.5041 - accuracy: 0.7625 - val_loss: 0.5448 - val_accuracy: 0.6700\n",
      "Epoch 104/300\n",
      "13/13 [==============================] - 0s 5ms/step - loss: 0.5030 - accuracy: 0.7625 - val_loss: 0.5438 - val_accuracy: 0.6800\n",
      "Epoch 105/300\n",
      "13/13 [==============================] - 0s 4ms/step - loss: 0.5019 - accuracy: 0.7650 - val_loss: 0.5428 - val_accuracy: 0.6800\n",
      "Epoch 106/300\n",
      "13/13 [==============================] - 0s 4ms/step - loss: 0.5008 - accuracy: 0.7625 - val_loss: 0.5419 - val_accuracy: 0.6800\n",
      "Epoch 107/300\n",
      "13/13 [==============================] - 0s 5ms/step - loss: 0.4998 - accuracy: 0.7625 - val_loss: 0.5409 - val_accuracy: 0.6800\n",
      "Epoch 108/300\n",
      "13/13 [==============================] - 0s 6ms/step - loss: 0.4988 - accuracy: 0.7625 - val_loss: 0.5401 - val_accuracy: 0.6800\n",
      "Epoch 109/300\n",
      "13/13 [==============================] - 0s 5ms/step - loss: 0.4978 - accuracy: 0.7675 - val_loss: 0.5392 - val_accuracy: 0.6800\n",
      "Epoch 110/300\n",
      "13/13 [==============================] - 0s 5ms/step - loss: 0.4968 - accuracy: 0.7675 - val_loss: 0.5383 - val_accuracy: 0.6900\n",
      "Epoch 111/300\n",
      "13/13 [==============================] - 0s 5ms/step - loss: 0.4957 - accuracy: 0.7700 - val_loss: 0.5374 - val_accuracy: 0.6900\n",
      "Epoch 112/300\n",
      "13/13 [==============================] - 0s 5ms/step - loss: 0.4948 - accuracy: 0.7700 - val_loss: 0.5365 - val_accuracy: 0.7000\n",
      "Epoch 113/300\n",
      "13/13 [==============================] - 0s 4ms/step - loss: 0.4937 - accuracy: 0.7700 - val_loss: 0.5356 - val_accuracy: 0.7000\n",
      "Epoch 114/300\n",
      "13/13 [==============================] - 0s 4ms/step - loss: 0.4928 - accuracy: 0.7725 - val_loss: 0.5347 - val_accuracy: 0.7000\n",
      "Epoch 115/300\n",
      "13/13 [==============================] - 0s 4ms/step - loss: 0.4918 - accuracy: 0.7725 - val_loss: 0.5339 - val_accuracy: 0.7000\n",
      "Epoch 116/300\n"
     ]
    },
    {
     "name": "stdout",
     "output_type": "stream",
     "text": [
      "13/13 [==============================] - 0s 4ms/step - loss: 0.4909 - accuracy: 0.7750 - val_loss: 0.5330 - val_accuracy: 0.7000\n",
      "Epoch 117/300\n",
      "13/13 [==============================] - 0s 5ms/step - loss: 0.4899 - accuracy: 0.7750 - val_loss: 0.5322 - val_accuracy: 0.7000\n",
      "Epoch 118/300\n",
      "13/13 [==============================] - 0s 5ms/step - loss: 0.4890 - accuracy: 0.7750 - val_loss: 0.5314 - val_accuracy: 0.7000\n",
      "Epoch 119/300\n",
      "13/13 [==============================] - 0s 6ms/step - loss: 0.4881 - accuracy: 0.7750 - val_loss: 0.5306 - val_accuracy: 0.7000\n",
      "Epoch 120/300\n",
      "13/13 [==============================] - 0s 5ms/step - loss: 0.4872 - accuracy: 0.7775 - val_loss: 0.5297 - val_accuracy: 0.7000\n",
      "Epoch 121/300\n",
      "13/13 [==============================] - 0s 4ms/step - loss: 0.4862 - accuracy: 0.7775 - val_loss: 0.5289 - val_accuracy: 0.7000\n",
      "Epoch 122/300\n",
      "13/13 [==============================] - 0s 4ms/step - loss: 0.4853 - accuracy: 0.7775 - val_loss: 0.5281 - val_accuracy: 0.7000\n",
      "Epoch 123/300\n",
      "13/13 [==============================] - 0s 4ms/step - loss: 0.4845 - accuracy: 0.7800 - val_loss: 0.5273 - val_accuracy: 0.7000\n",
      "Epoch 124/300\n",
      "13/13 [==============================] - 0s 5ms/step - loss: 0.4835 - accuracy: 0.7800 - val_loss: 0.5265 - val_accuracy: 0.7000\n",
      "Epoch 125/300\n",
      "13/13 [==============================] - 0s 5ms/step - loss: 0.4827 - accuracy: 0.7800 - val_loss: 0.5257 - val_accuracy: 0.7000\n",
      "Epoch 126/300\n",
      "13/13 [==============================] - 0s 5ms/step - loss: 0.4818 - accuracy: 0.7800 - val_loss: 0.5250 - val_accuracy: 0.7000\n",
      "Epoch 127/300\n",
      "13/13 [==============================] - 0s 6ms/step - loss: 0.4810 - accuracy: 0.7800 - val_loss: 0.5242 - val_accuracy: 0.7000\n",
      "Epoch 128/300\n",
      "13/13 [==============================] - 0s 5ms/step - loss: 0.4801 - accuracy: 0.7800 - val_loss: 0.5235 - val_accuracy: 0.7000\n",
      "Epoch 129/300\n",
      "13/13 [==============================] - 0s 5ms/step - loss: 0.4793 - accuracy: 0.7850 - val_loss: 0.5227 - val_accuracy: 0.7000\n",
      "Epoch 130/300\n",
      "13/13 [==============================] - 0s 4ms/step - loss: 0.4785 - accuracy: 0.7850 - val_loss: 0.5219 - val_accuracy: 0.7000\n",
      "Epoch 131/300\n",
      "13/13 [==============================] - 0s 4ms/step - loss: 0.4776 - accuracy: 0.7850 - val_loss: 0.5212 - val_accuracy: 0.7000\n",
      "Epoch 132/300\n",
      "13/13 [==============================] - 0s 4ms/step - loss: 0.4768 - accuracy: 0.7850 - val_loss: 0.5205 - val_accuracy: 0.7000\n",
      "Epoch 133/300\n",
      "13/13 [==============================] - 0s 4ms/step - loss: 0.4760 - accuracy: 0.7875 - val_loss: 0.5197 - val_accuracy: 0.7000\n",
      "Epoch 134/300\n",
      "13/13 [==============================] - 0s 4ms/step - loss: 0.4752 - accuracy: 0.7900 - val_loss: 0.5189 - val_accuracy: 0.7000\n",
      "Epoch 135/300\n",
      "13/13 [==============================] - 0s 4ms/step - loss: 0.4745 - accuracy: 0.7900 - val_loss: 0.5182 - val_accuracy: 0.7000\n",
      "Epoch 136/300\n",
      "13/13 [==============================] - 0s 4ms/step - loss: 0.4736 - accuracy: 0.7925 - val_loss: 0.5176 - val_accuracy: 0.7000\n",
      "Epoch 137/300\n",
      "13/13 [==============================] - 0s 4ms/step - loss: 0.4729 - accuracy: 0.7925 - val_loss: 0.5169 - val_accuracy: 0.7100\n",
      "Epoch 138/300\n",
      "13/13 [==============================] - 0s 4ms/step - loss: 0.4721 - accuracy: 0.7925 - val_loss: 0.5161 - val_accuracy: 0.7100\n",
      "Epoch 139/300\n",
      "13/13 [==============================] - 0s 4ms/step - loss: 0.4713 - accuracy: 0.7925 - val_loss: 0.5155 - val_accuracy: 0.7100\n",
      "Epoch 140/300\n",
      "13/13 [==============================] - 0s 4ms/step - loss: 0.4706 - accuracy: 0.7925 - val_loss: 0.5147 - val_accuracy: 0.7200\n",
      "Epoch 141/300\n",
      "13/13 [==============================] - 0s 4ms/step - loss: 0.4698 - accuracy: 0.7925 - val_loss: 0.5140 - val_accuracy: 0.7200\n",
      "Epoch 142/300\n",
      "13/13 [==============================] - 0s 5ms/step - loss: 0.4690 - accuracy: 0.7925 - val_loss: 0.5134 - val_accuracy: 0.7200\n",
      "Epoch 143/300\n",
      "13/13 [==============================] - 0s 6ms/step - loss: 0.4684 - accuracy: 0.7925 - val_loss: 0.5127 - val_accuracy: 0.7200\n",
      "Epoch 144/300\n",
      "13/13 [==============================] - 0s 6ms/step - loss: 0.4676 - accuracy: 0.7925 - val_loss: 0.5120 - val_accuracy: 0.7200\n",
      "Epoch 145/300\n",
      "13/13 [==============================] - 0s 6ms/step - loss: 0.4669 - accuracy: 0.7925 - val_loss: 0.5114 - val_accuracy: 0.7200\n",
      "Epoch 146/300\n",
      "13/13 [==============================] - 0s 5ms/step - loss: 0.4662 - accuracy: 0.7950 - val_loss: 0.5107 - val_accuracy: 0.7300\n",
      "Epoch 147/300\n",
      "13/13 [==============================] - 0s 5ms/step - loss: 0.4655 - accuracy: 0.7950 - val_loss: 0.5101 - val_accuracy: 0.7300\n",
      "Epoch 148/300\n",
      "13/13 [==============================] - 0s 5ms/step - loss: 0.4648 - accuracy: 0.7950 - val_loss: 0.5095 - val_accuracy: 0.7300\n",
      "Epoch 149/300\n",
      "13/13 [==============================] - 0s 4ms/step - loss: 0.4641 - accuracy: 0.7950 - val_loss: 0.5089 - val_accuracy: 0.7300\n",
      "Epoch 150/300\n",
      "13/13 [==============================] - 0s 4ms/step - loss: 0.4634 - accuracy: 0.7950 - val_loss: 0.5082 - val_accuracy: 0.7400\n",
      "Epoch 151/300\n",
      "13/13 [==============================] - 0s 4ms/step - loss: 0.4627 - accuracy: 0.7950 - val_loss: 0.5076 - val_accuracy: 0.7400\n",
      "Epoch 152/300\n",
      "13/13 [==============================] - 0s 4ms/step - loss: 0.4621 - accuracy: 0.7950 - val_loss: 0.5069 - val_accuracy: 0.7400\n",
      "Epoch 153/300\n",
      "13/13 [==============================] - 0s 4ms/step - loss: 0.4614 - accuracy: 0.7975 - val_loss: 0.5064 - val_accuracy: 0.7400\n",
      "Epoch 154/300\n",
      "13/13 [==============================] - 0s 9ms/step - loss: 0.4607 - accuracy: 0.7975 - val_loss: 0.5058 - val_accuracy: 0.7400\n",
      "Epoch 155/300\n",
      "13/13 [==============================] - 0s 8ms/step - loss: 0.4601 - accuracy: 0.7975 - val_loss: 0.5051 - val_accuracy: 0.7400\n",
      "Epoch 156/300\n",
      "13/13 [==============================] - 0s 6ms/step - loss: 0.4594 - accuracy: 0.7975 - val_loss: 0.5045 - val_accuracy: 0.7400\n",
      "Epoch 157/300\n",
      "13/13 [==============================] - 0s 7ms/step - loss: 0.4588 - accuracy: 0.7950 - val_loss: 0.5040 - val_accuracy: 0.7400\n",
      "Epoch 158/300\n",
      "13/13 [==============================] - 0s 6ms/step - loss: 0.4582 - accuracy: 0.7950 - val_loss: 0.5033 - val_accuracy: 0.7400\n",
      "Epoch 159/300\n",
      "13/13 [==============================] - 0s 5ms/step - loss: 0.4575 - accuracy: 0.8000 - val_loss: 0.5028 - val_accuracy: 0.7400\n",
      "Epoch 160/300\n",
      "13/13 [==============================] - 0s 6ms/step - loss: 0.4569 - accuracy: 0.8025 - val_loss: 0.5022 - val_accuracy: 0.7400\n",
      "Epoch 161/300\n",
      "13/13 [==============================] - 0s 6ms/step - loss: 0.4563 - accuracy: 0.8025 - val_loss: 0.5016 - val_accuracy: 0.7400\n",
      "Epoch 162/300\n",
      "13/13 [==============================] - 0s 6ms/step - loss: 0.4557 - accuracy: 0.8025 - val_loss: 0.5010 - val_accuracy: 0.7400\n",
      "Epoch 163/300\n",
      "13/13 [==============================] - 0s 6ms/step - loss: 0.4551 - accuracy: 0.8025 - val_loss: 0.5005 - val_accuracy: 0.7400\n",
      "Epoch 164/300\n",
      "13/13 [==============================] - 0s 6ms/step - loss: 0.4545 - accuracy: 0.8050 - val_loss: 0.4999 - val_accuracy: 0.7400\n",
      "Epoch 165/300\n",
      "13/13 [==============================] - 0s 5ms/step - loss: 0.4539 - accuracy: 0.8050 - val_loss: 0.4994 - val_accuracy: 0.7400\n",
      "Epoch 166/300\n",
      "13/13 [==============================] - 0s 5ms/step - loss: 0.4533 - accuracy: 0.8050 - val_loss: 0.4988 - val_accuracy: 0.7400\n",
      "Epoch 167/300\n",
      "13/13 [==============================] - 0s 5ms/step - loss: 0.4527 - accuracy: 0.8025 - val_loss: 0.4983 - val_accuracy: 0.7400\n",
      "Epoch 168/300\n",
      "13/13 [==============================] - 0s 5ms/step - loss: 0.4522 - accuracy: 0.8025 - val_loss: 0.4977 - val_accuracy: 0.7400\n",
      "Epoch 169/300\n",
      "13/13 [==============================] - 0s 5ms/step - loss: 0.4516 - accuracy: 0.8050 - val_loss: 0.4972 - val_accuracy: 0.7400\n",
      "Epoch 170/300\n",
      "13/13 [==============================] - 0s 4ms/step - loss: 0.4510 - accuracy: 0.8050 - val_loss: 0.4967 - val_accuracy: 0.7400\n",
      "Epoch 171/300\n",
      "13/13 [==============================] - 0s 4ms/step - loss: 0.4505 - accuracy: 0.8050 - val_loss: 0.4961 - val_accuracy: 0.7400\n",
      "Epoch 172/300\n",
      "13/13 [==============================] - 0s 4ms/step - loss: 0.4499 - accuracy: 0.8050 - val_loss: 0.4956 - val_accuracy: 0.7400\n",
      "Epoch 173/300\n"
     ]
    },
    {
     "name": "stdout",
     "output_type": "stream",
     "text": [
      "13/13 [==============================] - 0s 4ms/step - loss: 0.4493 - accuracy: 0.8050 - val_loss: 0.4951 - val_accuracy: 0.7400\n",
      "Epoch 174/300\n",
      "13/13 [==============================] - 0s 4ms/step - loss: 0.4488 - accuracy: 0.8050 - val_loss: 0.4946 - val_accuracy: 0.7400\n",
      "Epoch 175/300\n",
      "13/13 [==============================] - 0s 4ms/step - loss: 0.4483 - accuracy: 0.8050 - val_loss: 0.4941 - val_accuracy: 0.7400\n",
      "Epoch 176/300\n",
      "13/13 [==============================] - 0s 4ms/step - loss: 0.4477 - accuracy: 0.8050 - val_loss: 0.4936 - val_accuracy: 0.7400\n",
      "Epoch 177/300\n",
      "13/13 [==============================] - 0s 4ms/step - loss: 0.4472 - accuracy: 0.8100 - val_loss: 0.4931 - val_accuracy: 0.7400\n",
      "Epoch 178/300\n",
      "13/13 [==============================] - 0s 5ms/step - loss: 0.4467 - accuracy: 0.8100 - val_loss: 0.4927 - val_accuracy: 0.7400\n",
      "Epoch 179/300\n",
      "13/13 [==============================] - 0s 5ms/step - loss: 0.4461 - accuracy: 0.8125 - val_loss: 0.4921 - val_accuracy: 0.7400\n",
      "Epoch 180/300\n",
      "13/13 [==============================] - 0s 6ms/step - loss: 0.4456 - accuracy: 0.8100 - val_loss: 0.4916 - val_accuracy: 0.7400\n",
      "Epoch 181/300\n",
      "13/13 [==============================] - 0s 5ms/step - loss: 0.4451 - accuracy: 0.8100 - val_loss: 0.4911 - val_accuracy: 0.7400\n",
      "Epoch 182/300\n",
      "13/13 [==============================] - 0s 5ms/step - loss: 0.4446 - accuracy: 0.8100 - val_loss: 0.4907 - val_accuracy: 0.7400\n",
      "Epoch 183/300\n",
      "13/13 [==============================] - 0s 5ms/step - loss: 0.4441 - accuracy: 0.8100 - val_loss: 0.4902 - val_accuracy: 0.7400\n",
      "Epoch 184/300\n",
      "13/13 [==============================] - 0s 4ms/step - loss: 0.4436 - accuracy: 0.8125 - val_loss: 0.4897 - val_accuracy: 0.7400\n",
      "Epoch 185/300\n",
      "13/13 [==============================] - 0s 4ms/step - loss: 0.4431 - accuracy: 0.8125 - val_loss: 0.4893 - val_accuracy: 0.7400\n",
      "Epoch 186/300\n",
      "13/13 [==============================] - 0s 4ms/step - loss: 0.4427 - accuracy: 0.8150 - val_loss: 0.4889 - val_accuracy: 0.7400\n",
      "Epoch 187/300\n",
      "13/13 [==============================] - 0s 4ms/step - loss: 0.4421 - accuracy: 0.8150 - val_loss: 0.4883 - val_accuracy: 0.7400\n",
      "Epoch 188/300\n",
      "13/13 [==============================] - 0s 4ms/step - loss: 0.4416 - accuracy: 0.8150 - val_loss: 0.4879 - val_accuracy: 0.7400\n",
      "Epoch 189/300\n",
      "13/13 [==============================] - 0s 4ms/step - loss: 0.4412 - accuracy: 0.8150 - val_loss: 0.4873 - val_accuracy: 0.7400\n",
      "Epoch 190/300\n",
      "13/13 [==============================] - 0s 4ms/step - loss: 0.4407 - accuracy: 0.8150 - val_loss: 0.4869 - val_accuracy: 0.7400\n",
      "Epoch 191/300\n",
      "13/13 [==============================] - 0s 5ms/step - loss: 0.4402 - accuracy: 0.8150 - val_loss: 0.4864 - val_accuracy: 0.7500\n",
      "Epoch 192/300\n",
      "13/13 [==============================] - 0s 4ms/step - loss: 0.4397 - accuracy: 0.8150 - val_loss: 0.4860 - val_accuracy: 0.7400\n",
      "Epoch 193/300\n",
      "13/13 [==============================] - 0s 4ms/step - loss: 0.4393 - accuracy: 0.8150 - val_loss: 0.4856 - val_accuracy: 0.7400\n",
      "Epoch 194/300\n",
      "13/13 [==============================] - 0s 5ms/step - loss: 0.4388 - accuracy: 0.8150 - val_loss: 0.4851 - val_accuracy: 0.7400\n",
      "Epoch 195/300\n",
      "13/13 [==============================] - 0s 5ms/step - loss: 0.4384 - accuracy: 0.8150 - val_loss: 0.4847 - val_accuracy: 0.7400\n",
      "Epoch 196/300\n",
      "13/13 [==============================] - 0s 4ms/step - loss: 0.4379 - accuracy: 0.8150 - val_loss: 0.4843 - val_accuracy: 0.7400\n",
      "Epoch 197/300\n",
      "13/13 [==============================] - 0s 4ms/step - loss: 0.4374 - accuracy: 0.8150 - val_loss: 0.4838 - val_accuracy: 0.7400\n",
      "Epoch 198/300\n",
      "13/13 [==============================] - 0s 4ms/step - loss: 0.4370 - accuracy: 0.8150 - val_loss: 0.4835 - val_accuracy: 0.7400\n",
      "Epoch 199/300\n",
      "13/13 [==============================] - 0s 4ms/step - loss: 0.4366 - accuracy: 0.8150 - val_loss: 0.4831 - val_accuracy: 0.7400\n",
      "Epoch 200/300\n",
      "13/13 [==============================] - 0s 4ms/step - loss: 0.4361 - accuracy: 0.8150 - val_loss: 0.4827 - val_accuracy: 0.7400\n",
      "Epoch 201/300\n",
      "13/13 [==============================] - 0s 4ms/step - loss: 0.4357 - accuracy: 0.8125 - val_loss: 0.4823 - val_accuracy: 0.7400\n",
      "Epoch 202/300\n",
      "13/13 [==============================] - 0s 4ms/step - loss: 0.4353 - accuracy: 0.8125 - val_loss: 0.4819 - val_accuracy: 0.7400\n",
      "Epoch 203/300\n",
      "13/13 [==============================] - 0s 4ms/step - loss: 0.4348 - accuracy: 0.8125 - val_loss: 0.4815 - val_accuracy: 0.7400\n",
      "Epoch 204/300\n",
      "13/13 [==============================] - 0s 4ms/step - loss: 0.4344 - accuracy: 0.8125 - val_loss: 0.4811 - val_accuracy: 0.7400\n",
      "Epoch 205/300\n",
      "13/13 [==============================] - 0s 4ms/step - loss: 0.4340 - accuracy: 0.8125 - val_loss: 0.4807 - val_accuracy: 0.7400\n",
      "Epoch 206/300\n",
      "13/13 [==============================] - 0s 4ms/step - loss: 0.4336 - accuracy: 0.8150 - val_loss: 0.4803 - val_accuracy: 0.7400\n",
      "Epoch 207/300\n",
      "13/13 [==============================] - 0s 4ms/step - loss: 0.4331 - accuracy: 0.8175 - val_loss: 0.4800 - val_accuracy: 0.7400\n",
      "Epoch 208/300\n",
      "13/13 [==============================] - 0s 4ms/step - loss: 0.4328 - accuracy: 0.8175 - val_loss: 0.4795 - val_accuracy: 0.7400\n",
      "Epoch 209/300\n",
      "13/13 [==============================] - 0s 4ms/step - loss: 0.4324 - accuracy: 0.8175 - val_loss: 0.4791 - val_accuracy: 0.7400\n",
      "Epoch 210/300\n",
      "13/13 [==============================] - 0s 4ms/step - loss: 0.4320 - accuracy: 0.8200 - val_loss: 0.4788 - val_accuracy: 0.7400\n",
      "Epoch 211/300\n",
      "13/13 [==============================] - 0s 4ms/step - loss: 0.4316 - accuracy: 0.8200 - val_loss: 0.4784 - val_accuracy: 0.7400\n",
      "Epoch 212/300\n",
      "13/13 [==============================] - 0s 4ms/step - loss: 0.4312 - accuracy: 0.8200 - val_loss: 0.4781 - val_accuracy: 0.7400\n",
      "Epoch 213/300\n",
      "13/13 [==============================] - 0s 4ms/step - loss: 0.4308 - accuracy: 0.8200 - val_loss: 0.4777 - val_accuracy: 0.7400\n",
      "Epoch 214/300\n",
      "13/13 [==============================] - 0s 4ms/step - loss: 0.4305 - accuracy: 0.8200 - val_loss: 0.4773 - val_accuracy: 0.7400\n",
      "Epoch 215/300\n",
      "13/13 [==============================] - 0s 4ms/step - loss: 0.4301 - accuracy: 0.8200 - val_loss: 0.4771 - val_accuracy: 0.7400\n",
      "Epoch 216/300\n",
      "13/13 [==============================] - 0s 6ms/step - loss: 0.4297 - accuracy: 0.8200 - val_loss: 0.4767 - val_accuracy: 0.7400\n",
      "Epoch 217/300\n",
      "13/13 [==============================] - 0s 6ms/step - loss: 0.4293 - accuracy: 0.8200 - val_loss: 0.4764 - val_accuracy: 0.7400\n",
      "Epoch 218/300\n",
      "13/13 [==============================] - 0s 6ms/step - loss: 0.4290 - accuracy: 0.8200 - val_loss: 0.4760 - val_accuracy: 0.7400\n",
      "Epoch 219/300\n",
      "13/13 [==============================] - 0s 5ms/step - loss: 0.4286 - accuracy: 0.8200 - val_loss: 0.4757 - val_accuracy: 0.7400\n",
      "Epoch 220/300\n",
      "13/13 [==============================] - 0s 7ms/step - loss: 0.4283 - accuracy: 0.8200 - val_loss: 0.4753 - val_accuracy: 0.7400\n",
      "Epoch 221/300\n",
      "13/13 [==============================] - 0s 6ms/step - loss: 0.4279 - accuracy: 0.8200 - val_loss: 0.4750 - val_accuracy: 0.7400\n",
      "Epoch 222/300\n",
      "13/13 [==============================] - 0s 5ms/step - loss: 0.4276 - accuracy: 0.8200 - val_loss: 0.4747 - val_accuracy: 0.7400\n",
      "Epoch 223/300\n",
      "13/13 [==============================] - 0s 5ms/step - loss: 0.4272 - accuracy: 0.8200 - val_loss: 0.4744 - val_accuracy: 0.7400\n",
      "Epoch 224/300\n",
      "13/13 [==============================] - 0s 5ms/step - loss: 0.4269 - accuracy: 0.8200 - val_loss: 0.4740 - val_accuracy: 0.7300\n",
      "Epoch 225/300\n",
      "13/13 [==============================] - 0s 4ms/step - loss: 0.4265 - accuracy: 0.8200 - val_loss: 0.4736 - val_accuracy: 0.7400\n",
      "Epoch 226/300\n",
      "13/13 [==============================] - 0s 4ms/step - loss: 0.4262 - accuracy: 0.8225 - val_loss: 0.4734 - val_accuracy: 0.7400\n",
      "Epoch 227/300\n",
      "13/13 [==============================] - 0s 4ms/step - loss: 0.4258 - accuracy: 0.8225 - val_loss: 0.4731 - val_accuracy: 0.7400\n",
      "Epoch 228/300\n",
      "13/13 [==============================] - 0s 4ms/step - loss: 0.4255 - accuracy: 0.8225 - val_loss: 0.4728 - val_accuracy: 0.7400\n",
      "Epoch 229/300\n",
      "13/13 [==============================] - 0s 4ms/step - loss: 0.4251 - accuracy: 0.8250 - val_loss: 0.4725 - val_accuracy: 0.7400\n",
      "Epoch 230/300\n"
     ]
    },
    {
     "name": "stdout",
     "output_type": "stream",
     "text": [
      "13/13 [==============================] - 0s 4ms/step - loss: 0.4248 - accuracy: 0.8250 - val_loss: 0.4722 - val_accuracy: 0.7400\n",
      "Epoch 231/300\n",
      "13/13 [==============================] - 0s 4ms/step - loss: 0.4245 - accuracy: 0.8250 - val_loss: 0.4719 - val_accuracy: 0.7400\n",
      "Epoch 232/300\n",
      "13/13 [==============================] - 0s 4ms/step - loss: 0.4242 - accuracy: 0.8275 - val_loss: 0.4716 - val_accuracy: 0.7400\n",
      "Epoch 233/300\n",
      "13/13 [==============================] - 0s 4ms/step - loss: 0.4239 - accuracy: 0.8300 - val_loss: 0.4713 - val_accuracy: 0.7400\n",
      "Epoch 234/300\n",
      "13/13 [==============================] - 0s 4ms/step - loss: 0.4236 - accuracy: 0.8275 - val_loss: 0.4710 - val_accuracy: 0.7400\n",
      "Epoch 235/300\n",
      "13/13 [==============================] - 0s 4ms/step - loss: 0.4233 - accuracy: 0.8275 - val_loss: 0.4707 - val_accuracy: 0.7400\n",
      "Epoch 236/300\n",
      "13/13 [==============================] - 0s 4ms/step - loss: 0.4229 - accuracy: 0.8275 - val_loss: 0.4703 - val_accuracy: 0.7400\n",
      "Epoch 237/300\n",
      "13/13 [==============================] - 0s 4ms/step - loss: 0.4226 - accuracy: 0.8275 - val_loss: 0.4700 - val_accuracy: 0.7400\n",
      "Epoch 238/300\n",
      "13/13 [==============================] - 0s 4ms/step - loss: 0.4224 - accuracy: 0.8275 - val_loss: 0.4697 - val_accuracy: 0.7400\n",
      "Epoch 239/300\n",
      "13/13 [==============================] - 0s 4ms/step - loss: 0.4221 - accuracy: 0.8275 - val_loss: 0.4694 - val_accuracy: 0.7400\n",
      "Epoch 240/300\n",
      "13/13 [==============================] - 0s 4ms/step - loss: 0.4218 - accuracy: 0.8275 - val_loss: 0.4692 - val_accuracy: 0.7400\n",
      "Epoch 241/300\n",
      "13/13 [==============================] - 0s 4ms/step - loss: 0.4214 - accuracy: 0.8275 - val_loss: 0.4689 - val_accuracy: 0.7400\n",
      "Epoch 242/300\n",
      "13/13 [==============================] - 0s 4ms/step - loss: 0.4212 - accuracy: 0.8250 - val_loss: 0.4687 - val_accuracy: 0.7400\n",
      "Epoch 243/300\n",
      "13/13 [==============================] - 0s 4ms/step - loss: 0.4209 - accuracy: 0.8250 - val_loss: 0.4684 - val_accuracy: 0.7400\n",
      "Epoch 244/300\n",
      "13/13 [==============================] - 0s 4ms/step - loss: 0.4206 - accuracy: 0.8250 - val_loss: 0.4682 - val_accuracy: 0.7400\n",
      "Epoch 245/300\n",
      "13/13 [==============================] - 0s 4ms/step - loss: 0.4203 - accuracy: 0.8250 - val_loss: 0.4679 - val_accuracy: 0.7400\n",
      "Epoch 246/300\n",
      "13/13 [==============================] - 0s 4ms/step - loss: 0.4201 - accuracy: 0.8250 - val_loss: 0.4676 - val_accuracy: 0.7400\n",
      "Epoch 247/300\n",
      "13/13 [==============================] - 0s 4ms/step - loss: 0.4198 - accuracy: 0.8250 - val_loss: 0.4674 - val_accuracy: 0.7400\n",
      "Epoch 248/300\n",
      "13/13 [==============================] - 0s 4ms/step - loss: 0.4195 - accuracy: 0.8275 - val_loss: 0.4672 - val_accuracy: 0.7400\n",
      "Epoch 249/300\n",
      "13/13 [==============================] - 0s 4ms/step - loss: 0.4192 - accuracy: 0.8275 - val_loss: 0.4670 - val_accuracy: 0.7400\n",
      "Epoch 250/300\n",
      "13/13 [==============================] - 0s 4ms/step - loss: 0.4190 - accuracy: 0.8275 - val_loss: 0.4667 - val_accuracy: 0.7400\n",
      "Epoch 251/300\n",
      "13/13 [==============================] - 0s 4ms/step - loss: 0.4187 - accuracy: 0.8250 - val_loss: 0.4665 - val_accuracy: 0.7400\n",
      "Epoch 252/300\n",
      "13/13 [==============================] - 0s 4ms/step - loss: 0.4184 - accuracy: 0.8225 - val_loss: 0.4662 - val_accuracy: 0.7400\n",
      "Epoch 253/300\n",
      "13/13 [==============================] - 0s 4ms/step - loss: 0.4182 - accuracy: 0.8225 - val_loss: 0.4660 - val_accuracy: 0.7400\n",
      "Epoch 254/300\n",
      "13/13 [==============================] - 0s 4ms/step - loss: 0.4179 - accuracy: 0.8225 - val_loss: 0.4658 - val_accuracy: 0.7400\n",
      "Epoch 255/300\n",
      "13/13 [==============================] - 0s 4ms/step - loss: 0.4176 - accuracy: 0.8225 - val_loss: 0.4656 - val_accuracy: 0.7400\n",
      "Epoch 256/300\n",
      "13/13 [==============================] - 0s 4ms/step - loss: 0.4174 - accuracy: 0.8225 - val_loss: 0.4653 - val_accuracy: 0.7400\n",
      "Epoch 257/300\n",
      "13/13 [==============================] - 0s 4ms/step - loss: 0.4171 - accuracy: 0.8250 - val_loss: 0.4652 - val_accuracy: 0.7400\n",
      "Epoch 258/300\n",
      "13/13 [==============================] - 0s 4ms/step - loss: 0.4169 - accuracy: 0.8250 - val_loss: 0.4650 - val_accuracy: 0.7500\n",
      "Epoch 259/300\n",
      "13/13 [==============================] - 0s 4ms/step - loss: 0.4167 - accuracy: 0.8250 - val_loss: 0.4648 - val_accuracy: 0.7500\n",
      "Epoch 260/300\n",
      "13/13 [==============================] - 0s 4ms/step - loss: 0.4164 - accuracy: 0.8250 - val_loss: 0.4645 - val_accuracy: 0.7500\n",
      "Epoch 261/300\n",
      "13/13 [==============================] - 0s 4ms/step - loss: 0.4162 - accuracy: 0.8250 - val_loss: 0.4643 - val_accuracy: 0.7500\n",
      "Epoch 262/300\n",
      "13/13 [==============================] - 0s 4ms/step - loss: 0.4159 - accuracy: 0.8250 - val_loss: 0.4641 - val_accuracy: 0.7500\n",
      "Epoch 263/300\n",
      "13/13 [==============================] - 0s 4ms/step - loss: 0.4157 - accuracy: 0.8250 - val_loss: 0.4639 - val_accuracy: 0.7500\n",
      "Epoch 264/300\n",
      "13/13 [==============================] - 0s 4ms/step - loss: 0.4155 - accuracy: 0.8275 - val_loss: 0.4637 - val_accuracy: 0.7500\n",
      "Epoch 265/300\n",
      "13/13 [==============================] - 0s 5ms/step - loss: 0.4153 - accuracy: 0.8275 - val_loss: 0.4634 - val_accuracy: 0.7500\n",
      "Epoch 266/300\n",
      "13/13 [==============================] - 0s 5ms/step - loss: 0.4150 - accuracy: 0.8275 - val_loss: 0.4633 - val_accuracy: 0.7500\n",
      "Epoch 267/300\n",
      "13/13 [==============================] - 0s 5ms/step - loss: 0.4148 - accuracy: 0.8275 - val_loss: 0.4631 - val_accuracy: 0.7500\n",
      "Epoch 268/300\n",
      "13/13 [==============================] - 0s 4ms/step - loss: 0.4146 - accuracy: 0.8275 - val_loss: 0.4629 - val_accuracy: 0.7500\n",
      "Epoch 269/300\n",
      "13/13 [==============================] - 0s 4ms/step - loss: 0.4144 - accuracy: 0.8275 - val_loss: 0.4628 - val_accuracy: 0.7500\n",
      "Epoch 270/300\n",
      "13/13 [==============================] - 0s 4ms/step - loss: 0.4141 - accuracy: 0.8275 - val_loss: 0.4626 - val_accuracy: 0.7500\n",
      "Epoch 271/300\n",
      "13/13 [==============================] - 0s 4ms/step - loss: 0.4140 - accuracy: 0.8275 - val_loss: 0.4623 - val_accuracy: 0.7500\n",
      "Epoch 272/300\n",
      "13/13 [==============================] - 0s 4ms/step - loss: 0.4138 - accuracy: 0.8275 - val_loss: 0.4622 - val_accuracy: 0.7500\n",
      "Epoch 273/300\n",
      "13/13 [==============================] - 0s 4ms/step - loss: 0.4135 - accuracy: 0.8275 - val_loss: 0.4620 - val_accuracy: 0.7500\n",
      "Epoch 274/300\n",
      "13/13 [==============================] - 0s 4ms/step - loss: 0.4133 - accuracy: 0.8275 - val_loss: 0.4619 - val_accuracy: 0.7500\n",
      "Epoch 275/300\n",
      "13/13 [==============================] - 0s 4ms/step - loss: 0.4131 - accuracy: 0.8275 - val_loss: 0.4617 - val_accuracy: 0.7500\n",
      "Epoch 276/300\n",
      "13/13 [==============================] - 0s 4ms/step - loss: 0.4129 - accuracy: 0.8275 - val_loss: 0.4615 - val_accuracy: 0.7500\n",
      "Epoch 277/300\n",
      "13/13 [==============================] - 0s 5ms/step - loss: 0.4127 - accuracy: 0.8275 - val_loss: 0.4614 - val_accuracy: 0.7500\n",
      "Epoch 278/300\n",
      "13/13 [==============================] - 0s 5ms/step - loss: 0.4125 - accuracy: 0.8275 - val_loss: 0.4612 - val_accuracy: 0.7500\n",
      "Epoch 279/300\n",
      "13/13 [==============================] - 0s 5ms/step - loss: 0.4123 - accuracy: 0.8275 - val_loss: 0.4610 - val_accuracy: 0.7500\n",
      "Epoch 280/300\n",
      "13/13 [==============================] - 0s 5ms/step - loss: 0.4121 - accuracy: 0.8275 - val_loss: 0.4609 - val_accuracy: 0.7500\n",
      "Epoch 281/300\n",
      "13/13 [==============================] - 0s 4ms/step - loss: 0.4119 - accuracy: 0.8250 - val_loss: 0.4607 - val_accuracy: 0.7500\n",
      "Epoch 282/300\n",
      "13/13 [==============================] - 0s 4ms/step - loss: 0.4117 - accuracy: 0.8250 - val_loss: 0.4606 - val_accuracy: 0.7500\n",
      "Epoch 283/300\n",
      "13/13 [==============================] - 0s 4ms/step - loss: 0.4115 - accuracy: 0.8275 - val_loss: 0.4604 - val_accuracy: 0.7500\n",
      "Epoch 284/300\n",
      "13/13 [==============================] - 0s 4ms/step - loss: 0.4113 - accuracy: 0.8300 - val_loss: 0.4602 - val_accuracy: 0.7500\n",
      "Epoch 285/300\n",
      "13/13 [==============================] - 0s 4ms/step - loss: 0.4111 - accuracy: 0.8300 - val_loss: 0.4601 - val_accuracy: 0.7500\n",
      "Epoch 286/300\n",
      "13/13 [==============================] - 0s 4ms/step - loss: 0.4110 - accuracy: 0.8300 - val_loss: 0.4600 - val_accuracy: 0.7500\n",
      "Epoch 287/300\n"
     ]
    },
    {
     "name": "stdout",
     "output_type": "stream",
     "text": [
      "13/13 [==============================] - 0s 4ms/step - loss: 0.4107 - accuracy: 0.8300 - val_loss: 0.4598 - val_accuracy: 0.7500\n",
      "Epoch 288/300\n",
      "13/13 [==============================] - 0s 4ms/step - loss: 0.4106 - accuracy: 0.8300 - val_loss: 0.4596 - val_accuracy: 0.7500\n",
      "Epoch 289/300\n",
      "13/13 [==============================] - 0s 4ms/step - loss: 0.4104 - accuracy: 0.8300 - val_loss: 0.4595 - val_accuracy: 0.7500\n",
      "Epoch 290/300\n",
      "13/13 [==============================] - 0s 4ms/step - loss: 0.4102 - accuracy: 0.8300 - val_loss: 0.4593 - val_accuracy: 0.7500\n",
      "Epoch 291/300\n",
      "13/13 [==============================] - 0s 4ms/step - loss: 0.4101 - accuracy: 0.8300 - val_loss: 0.4591 - val_accuracy: 0.7500\n",
      "Epoch 292/300\n",
      "13/13 [==============================] - 0s 4ms/step - loss: 0.4099 - accuracy: 0.8300 - val_loss: 0.4590 - val_accuracy: 0.7500\n",
      "Epoch 293/300\n",
      "13/13 [==============================] - 0s 4ms/step - loss: 0.4097 - accuracy: 0.8300 - val_loss: 0.4589 - val_accuracy: 0.7500\n",
      "Epoch 294/300\n",
      "13/13 [==============================] - 0s 4ms/step - loss: 0.4095 - accuracy: 0.8300 - val_loss: 0.4587 - val_accuracy: 0.7500\n",
      "Epoch 295/300\n",
      "13/13 [==============================] - 0s 4ms/step - loss: 0.4094 - accuracy: 0.8300 - val_loss: 0.4586 - val_accuracy: 0.7500\n",
      "Epoch 296/300\n",
      "13/13 [==============================] - 0s 4ms/step - loss: 0.4092 - accuracy: 0.8300 - val_loss: 0.4585 - val_accuracy: 0.7500\n",
      "Epoch 297/300\n",
      "13/13 [==============================] - 0s 4ms/step - loss: 0.4090 - accuracy: 0.8300 - val_loss: 0.4583 - val_accuracy: 0.7500\n",
      "Epoch 298/300\n",
      "13/13 [==============================] - 0s 4ms/step - loss: 0.4089 - accuracy: 0.8300 - val_loss: 0.4583 - val_accuracy: 0.7500\n",
      "Epoch 299/300\n",
      "13/13 [==============================] - 0s 4ms/step - loss: 0.4087 - accuracy: 0.8300 - val_loss: 0.4581 - val_accuracy: 0.7500\n",
      "Epoch 300/300\n",
      "13/13 [==============================] - 0s 4ms/step - loss: 0.4086 - accuracy: 0.8300 - val_loss: 0.4580 - val_accuracy: 0.7500\n"
     ]
    },
    {
     "data": {
      "text/plain": [
       "<keras.src.callbacks.History at 0x1c2843081f0>"
      ]
     },
     "execution_count": 19,
     "metadata": {},
     "output_type": "execute_result"
    }
   ],
   "source": [
    "model.fit(X_train, y_train,validation_data=(X_test, y_test), epochs=300,verbose=1)"
   ]
  },
  {
   "cell_type": "markdown",
   "metadata": {
    "id": "2HfOhI-cCwAR"
   },
   "source": [
    "\n",
    "**4.   Evaluación del modelo**"
   ]
  },
  {
   "cell_type": "code",
   "execution_count": 20,
   "metadata": {
    "colab": {
     "base_uri": "https://localhost:8080/",
     "height": 215
    },
    "id": "Om9nsV7yjyc1",
    "outputId": "8488a204-0711-4bfc-d92f-264dac8c4b6e"
   },
   "outputs": [
    {
     "name": "stdout",
     "output_type": "stream",
     "text": [
      "Test Accuracy: 0.750\n",
      "Test Loss: 0.458\n"
     ]
    }
   ],
   "source": [
    "loss, acc = model.evaluate(X_test, y_test, verbose=0)\n",
    "print(f'Test Accuracy: {acc:.3f}')\n",
    "print(f'Test Loss: {loss:.3f}')"
   ]
  },
  {
   "cell_type": "markdown",
   "metadata": {
    "id": "dY04C4_vDXHD"
   },
   "source": [
    "Predicción en el conjunto de datos de prueba"
   ]
  },
  {
   "cell_type": "code",
   "execution_count": 21,
   "metadata": {
    "colab": {
     "base_uri": "https://localhost:8080/"
    },
    "id": "f3Cz8PkEkAYG",
    "outputId": "3e92ab00-e3a0-4d49-be19-464578639d68"
   },
   "outputs": [
    {
     "name": "stdout",
     "output_type": "stream",
     "text": [
      "4/4 [==============================] - 0s 2ms/step\n",
      "[[0.42892283]\n",
      " [0.4335119 ]\n",
      " [0.6503214 ]\n",
      " [0.12891287]\n",
      " [0.95843273]\n",
      " [0.51661915]\n",
      " [0.1952318 ]\n",
      " [0.51569945]\n",
      " [0.06135829]\n",
      " [0.9524928 ]\n",
      " [0.79550177]\n",
      " [0.4938462 ]\n",
      " [0.9828979 ]\n",
      " [0.9132834 ]\n",
      " [0.8891609 ]\n",
      " [0.85048   ]\n",
      " [0.89586717]\n",
      " [0.6659781 ]\n",
      " [0.387283  ]\n",
      " [0.1738    ]\n",
      " [0.00898652]\n",
      " [0.19135831]\n",
      " [0.18765901]\n",
      " [0.7331403 ]\n",
      " [0.65280557]\n",
      " [0.45100853]\n",
      " [0.68120784]\n",
      " [0.57754844]\n",
      " [0.09018099]\n",
      " [0.8771789 ]\n",
      " [0.9205284 ]\n",
      " [0.05915441]\n",
      " [0.23917672]\n",
      " [0.20259131]\n",
      " [0.25972787]\n",
      " [0.9455146 ]\n",
      " [0.52768415]\n",
      " [0.903507  ]\n",
      " [0.9553066 ]\n",
      " [0.01804279]\n",
      " [0.15391988]\n",
      " [0.15810268]\n",
      " [0.25762513]\n",
      " [0.38178238]\n",
      " [0.37375918]\n",
      " [0.8884433 ]\n",
      " [0.04391031]\n",
      " [0.11561471]\n",
      " [0.24596974]\n",
      " [0.95942205]\n",
      " [0.9187733 ]\n",
      " [0.3602766 ]\n",
      " [0.3100677 ]\n",
      " [0.15373945]\n",
      " [0.21613687]\n",
      " [0.26392046]\n",
      " [0.29841337]\n",
      " [0.7386237 ]\n",
      " [0.10180022]\n",
      " [0.88457745]\n",
      " [0.97307026]\n",
      " [0.39306092]\n",
      " [0.4867993 ]\n",
      " [0.86398435]\n",
      " [0.57476974]\n",
      " [0.09181064]\n",
      " [0.57428473]\n",
      " [0.18541765]\n",
      " [0.20480013]\n",
      " [0.81825334]\n",
      " [0.7959951 ]\n",
      " [0.8328306 ]\n",
      " [0.9821459 ]\n",
      " [0.11127421]\n",
      " [0.8881286 ]\n",
      " [0.09799592]\n",
      " [0.11393326]\n",
      " [0.57805157]\n",
      " [0.92828846]\n",
      " [0.7132448 ]\n",
      " [0.04915216]\n",
      " [0.41213864]\n",
      " [0.19612761]\n",
      " [0.8774962 ]\n",
      " [0.16395228]\n",
      " [0.49507067]\n",
      " [0.9762125 ]\n",
      " [0.20396088]\n",
      " [0.56697243]\n",
      " [0.934668  ]\n",
      " [0.25695845]\n",
      " [0.3394138 ]\n",
      " [0.43883196]\n",
      " [0.8876004 ]\n",
      " [0.5326379 ]\n",
      " [0.28196755]\n",
      " [0.94853234]\n",
      " [0.7479196 ]\n",
      " [0.09290747]\n",
      " [0.12413806]]\n"
     ]
    }
   ],
   "source": [
    "y_pred = model.predict(X_test)\n",
    "print(y_pred)"
   ]
  },
  {
   "cell_type": "code",
   "execution_count": 22,
   "metadata": {
    "colab": {
     "base_uri": "https://localhost:8080/"
    },
    "id": "ijflLK7FlLx_",
    "outputId": "8e39df4a-da16-441b-9625-42a44f61fb06"
   },
   "outputs": [
    {
     "name": "stdout",
     "output_type": "stream",
     "text": [
      "4/4 [==============================] - 0s 2ms/step\n",
      "[[0]\n",
      " [0]\n",
      " [1]\n",
      " [0]\n",
      " [1]\n",
      " [1]\n",
      " [0]\n",
      " [1]\n",
      " [0]\n",
      " [1]\n",
      " [1]\n",
      " [0]\n",
      " [1]\n",
      " [1]\n",
      " [1]\n",
      " [1]\n",
      " [1]\n",
      " [1]\n",
      " [0]\n",
      " [0]\n",
      " [0]\n",
      " [0]\n",
      " [0]\n",
      " [1]\n",
      " [1]\n",
      " [0]\n",
      " [1]\n",
      " [1]\n",
      " [0]\n",
      " [1]\n",
      " [1]\n",
      " [0]\n",
      " [0]\n",
      " [0]\n",
      " [0]\n",
      " [1]\n",
      " [1]\n",
      " [1]\n",
      " [1]\n",
      " [0]\n",
      " [0]\n",
      " [0]\n",
      " [0]\n",
      " [0]\n",
      " [0]\n",
      " [1]\n",
      " [0]\n",
      " [0]\n",
      " [0]\n",
      " [1]\n",
      " [1]\n",
      " [0]\n",
      " [0]\n",
      " [0]\n",
      " [0]\n",
      " [0]\n",
      " [0]\n",
      " [1]\n",
      " [0]\n",
      " [1]\n",
      " [1]\n",
      " [0]\n",
      " [0]\n",
      " [1]\n",
      " [1]\n",
      " [0]\n",
      " [1]\n",
      " [0]\n",
      " [0]\n",
      " [1]\n",
      " [1]\n",
      " [1]\n",
      " [1]\n",
      " [0]\n",
      " [1]\n",
      " [0]\n",
      " [0]\n",
      " [1]\n",
      " [1]\n",
      " [1]\n",
      " [0]\n",
      " [0]\n",
      " [0]\n",
      " [1]\n",
      " [0]\n",
      " [0]\n",
      " [1]\n",
      " [0]\n",
      " [1]\n",
      " [1]\n",
      " [0]\n",
      " [0]\n",
      " [0]\n",
      " [1]\n",
      " [1]\n",
      " [0]\n",
      " [1]\n",
      " [1]\n",
      " [0]\n",
      " [0]]\n"
     ]
    }
   ],
   "source": [
    "y_pred = (model.predict(X_test) > 0.5).astype(\"int32\")\n",
    "print(y_pred)"
   ]
  },
  {
   "cell_type": "markdown",
   "metadata": {
    "id": "Tcwyf6ICDdvR"
   },
   "source": [
    "Matriz de confusión"
   ]
  },
  {
   "cell_type": "code",
   "execution_count": 23,
   "metadata": {
    "colab": {
     "base_uri": "https://localhost:8080/",
     "height": 265
    },
    "id": "qPJzAvfWnZKy",
    "outputId": "1e0dc427-4342-427e-9292-cf7945a9a4e3"
   },
   "outputs": [
    {
     "data": {
      "image/png": "[encoded data removed]",
      "text/plain": [
       "<Figure size 640x480 with 1 Axes>"
      ]
     },
     "metadata": {},
     "output_type": "display_data"
    }
   ],
   "source": [
    "cf_matrix = confusion_matrix(y_test, y_pred)\n",
    "sns.heatmap(cf_matrix, annot=True,cbar=False)\n",
    "plt.show()"
   ]
  },
  {
   "cell_type": "markdown",
   "metadata": {
    "id": "be2jM3nnD5BB"
   },
   "source": [
    "Visualizar la frontera de decisión"
   ]
  },
  {
   "cell_type": "code",
   "execution_count": 24,
   "metadata": {
    "colab": {
     "base_uri": "https://localhost:8080/"
    },
    "id": "DPrwwuxPkIYD",
    "outputId": "aa019b8d-691c-4d85-ed5e-08f6af38ee7f"
   },
   "outputs": [
    {
     "name": "stdout",
     "output_type": "stream",
     "text": [
      "9600/9600 [==============================] - 11s 1ms/step\n"
     ]
    },
    {
     "data": {
      "image/png": "[encoded data removed]",
      "text/plain": [
       "<Figure size 640x480 with 1 Axes>"
      ]
     },
     "metadata": {},
     "output_type": "display_data"
    }
   ],
   "source": [
    "plot_decision_regions(X, y, clf=model, legend=1)\n",
    "plt.show()"
   ]
  },
  {
   "cell_type": "markdown",
   "metadata": {
    "id": "oY8v_M3EEeex"
   },
   "source": [
    "\n",
    "**5.   Realizar una predicción**"
   ]
  },
  {
   "cell_type": "code",
   "execution_count": 26,
   "metadata": {
    "colab": {
     "base_uri": "https://localhost:8080/"
    },
    "id": "Egg1JUBwqBvi",
    "outputId": "5d5e1e9e-b294-4e6c-a801-c48e55d7b6c7"
   },
   "outputs": [
    {
     "name": "stdout",
     "output_type": "stream",
     "text": [
      "1/1 [==============================] - 0s 56ms/step\n",
      "Predicción:  [[1]]\n"
     ]
    }
   ],
   "source": [
    "new_value = [0,-1.98]\n",
    "prediction = (model.predict([new_value]) > 0.5).astype(\"int32\")\n",
    "print('Predicción: ', prediction)"
   ]
  },
  {
   "cell_type": "markdown",
   "metadata": {
    "id": "jiy7bjsOOR9k"
   },
   "source": [
    "Guardar el modelo"
   ]
  },
  {
   "cell_type": "code",
   "execution_count": 30,
   "metadata": {
    "id": "kaEf0jjkN5Jq"
   },
   "outputs": [],
   "source": [
    "model.save('simple_model.h5')"
   ]
  },
  {
   "cell_type": "markdown",
   "metadata": {
    "id": "Y7v5MYZKOYlV"
   },
   "source": [
    "Cargar el modelo"
   ]
  },
  {
   "cell_type": "code",
   "execution_count": 28,
   "metadata": {
    "id": "lOKuAvCMPEXJ"
   },
   "outputs": [],
   "source": [
    "from tensorflow.keras.models import load_model"
   ]
  },
  {
   "cell_type": "code",
   "execution_count": 31,
   "metadata": {
    "id": "1Ay1Jn3cOQpE"
   },
   "outputs": [],
   "source": [
    "perceptron = load_model('simple_model.h5')"
   ]
  },
  {
   "cell_type": "code",
   "execution_count": 32,
   "metadata": {
    "colab": {
     "base_uri": "https://localhost:8080/"
    },
    "id": "qRZ5xaCdOzX_",
    "outputId": "db3f8b2d-804e-45b8-e216-4b1fe7bad836"
   },
   "outputs": [
    {
     "name": "stdout",
     "output_type": "stream",
     "text": [
      "1/1 [==============================] - 0s 93ms/step\n",
      "Predicción:  [[0]]\n"
     ]
    }
   ],
   "source": [
    "new_value = [-1.40,2.57]\n",
    "prediction = (perceptron.predict([new_value]) > 0.5).astype(\"int32\")\n",
    "print('Predicción: ', prediction)"
   ]
  },
  {
   "cell_type": "code",
   "execution_count": null,
   "metadata": {
    "id": "3rx3tECOO7jH"
   },
   "outputs": [],
   "source": []
  }
 ],
 "metadata": {
  "colab": {
   "provenance": []
  },
  "kernelspec": {
   "display_name": "Python 3 (ipykernel)",
   "language": "python",
   "name": "python3"
  },
  "language_info": {
   "codemirror_mode": {
    "name": "ipython",
    "version": 3
   },
   "file_extension": ".py",
   "mimetype": "text/x-python",
   "name": "python",
   "nbconvert_exporter": "python",
   "pygments_lexer": "ipython3",
   "version": "3.8.16"
  }
 },
 "nbformat": 4,
 "nbformat_minor": 1
}
