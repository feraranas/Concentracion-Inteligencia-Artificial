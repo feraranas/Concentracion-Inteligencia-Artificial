{
  "cells": [
    {
      "cell_type": "markdown",
      "metadata": {
        "id": "9LhA38oA_uMh"
      },
      "source": [
        "# Clasificación multiclase con redes neuronales en Keras\n",
        "___"
      ]
    },
    {
      "cell_type": "code",
      "execution_count": 1,
      "metadata": {
        "id": "glBuG9zp_uMj"
      },
      "outputs": [],
      "source": [
        "# TensorFlow and tf.keras\n",
        "import tensorflow as tf\n",
        "from tensorflow import keras"
      ]
    },
    {
      "cell_type": "code",
      "execution_count": 2,
      "metadata": {
        "id": "3mCjQMmj_uMn"
      },
      "outputs": [],
      "source": [
        "# Helper libraries\n",
        "import numpy as np\n",
        "import matplotlib.pyplot as plt"
      ]
    },
    {
      "cell_type": "markdown",
      "metadata": {
        "id": "jELG3vTT_uMq"
      },
      "source": [
        "## Importar Dataset"
      ]
    },
    {
      "cell_type": "code",
      "execution_count": 3,
      "metadata": {
        "colab": {
          "base_uri": "https://localhost:8080/"
        },
        "id": "V--w353Y_uMs",
        "outputId": "0e9d96b8-eaa4-40de-9543-08d5c61c1e1c"
      },
      "outputs": [],
      "source": [
        "#https://keras.io/datasets/#fashion-mnist-database-of-fashion-articles\n",
        "fashion_mnist = keras.datasets.fashion_mnist\n",
        "(X_train_full, y_train_full), (X_test, y_test) = fashion_mnist.load_data()"
      ]
    },
    {
      "cell_type": "markdown",
      "metadata": {
        "id": "BHbme5_w_uMu"
      },
      "source": [
        "## Explorar el dataset"
      ]
    },
    {
      "cell_type": "markdown",
      "metadata": {
        "id": "OucKZ0Ec_uMv"
      },
      "source": [
        "#### Conjunto de entrenamiento"
      ]
    },
    {
      "cell_type": "code",
      "execution_count": 4,
      "metadata": {
        "colab": {
          "base_uri": "https://localhost:8080/"
        },
        "id": "QZXurQGF_uMw",
        "outputId": "07b6c319-d66f-4a2a-c645-b4dba342a3b1"
      },
      "outputs": [
        {
          "data": {
            "text/plain": [
              "(60000, 28, 28)"
            ]
          },
          "execution_count": 4,
          "metadata": {},
          "output_type": "execute_result"
        }
      ],
      "source": [
        "X_train_full.shape"
      ]
    },
    {
      "cell_type": "code",
      "execution_count": 5,
      "metadata": {
        "colab": {
          "base_uri": "https://localhost:8080/"
        },
        "id": "Nht7wWdE_uMz",
        "outputId": "f5b3d017-501d-464f-a804-dea3f0b25691"
      },
      "outputs": [
        {
          "data": {
            "text/plain": [
              "dtype('uint8')"
            ]
          },
          "execution_count": 5,
          "metadata": {},
          "output_type": "execute_result"
        }
      ],
      "source": [
        "X_train_full.dtype"
      ]
    },
    {
      "cell_type": "code",
      "execution_count": 6,
      "metadata": {
        "colab": {
          "base_uri": "https://localhost:8080/"
        },
        "id": "QRRZvPRQ_uM1",
        "outputId": "e8ae80d7-91a3-4972-eb2f-937731bf55f9"
      },
      "outputs": [
        {
          "data": {
            "text/plain": [
              "(60000,)"
            ]
          },
          "execution_count": 6,
          "metadata": {},
          "output_type": "execute_result"
        }
      ],
      "source": [
        "y_train_full.shape"
      ]
    },
    {
      "cell_type": "code",
      "execution_count": 7,
      "metadata": {
        "colab": {
          "base_uri": "https://localhost:8080/"
        },
        "id": "OnvA7L8p_uM3",
        "outputId": "b019e5eb-ad1d-4c7d-e363-5714b6d98253"
      },
      "outputs": [
        {
          "data": {
            "text/plain": [
              "9"
            ]
          },
          "execution_count": 7,
          "metadata": {},
          "output_type": "execute_result"
        }
      ],
      "source": [
        "y_train_full[0]"
      ]
    },
    {
      "cell_type": "markdown",
      "metadata": {
        "id": "6WQcWC87_uM6"
      },
      "source": [
        "#### Conjunto de prueba"
      ]
    },
    {
      "cell_type": "code",
      "execution_count": 8,
      "metadata": {
        "colab": {
          "base_uri": "https://localhost:8080/"
        },
        "id": "T_oQlAXE_uM6",
        "outputId": "5b0b7c17-f72a-4f65-bba7-200210202f0f"
      },
      "outputs": [
        {
          "data": {
            "text/plain": [
              "(10000, 28, 28)"
            ]
          },
          "execution_count": 8,
          "metadata": {},
          "output_type": "execute_result"
        }
      ],
      "source": [
        "X_test.shape"
      ]
    },
    {
      "cell_type": "code",
      "execution_count": 9,
      "metadata": {
        "colab": {
          "base_uri": "https://localhost:8080/"
        },
        "id": "e7wWDkEy_uM9",
        "outputId": "9d2bd9a0-b14f-4816-f4d4-9b9fdaadf00a"
      },
      "outputs": [
        {
          "data": {
            "text/plain": [
              "(10000,)"
            ]
          },
          "execution_count": 9,
          "metadata": {},
          "output_type": "execute_result"
        }
      ],
      "source": [
        "y_test.shape"
      ]
    },
    {
      "cell_type": "markdown",
      "metadata": {
        "id": "sSoTOF4r_uNA"
      },
      "source": [
        "#### Visualizando una instancia"
      ]
    },
    {
      "cell_type": "code",
      "execution_count": 10,
      "metadata": {
        "colab": {
          "base_uri": "https://localhost:8080/",
          "height": 430
        },
        "id": "y7bgier6_uNA",
        "outputId": "41b2663c-cdd1-45c6-e6c1-241dbd751cef"
      },
      "outputs": [
        {
          "data": {
            "image/png": "[encoded data removed]",
            "text/plain": [
              "<Figure size 640x480 with 2 Axes>"
            ]
          },
          "metadata": {},
          "output_type": "display_data"
        }
      ],
      "source": [
        "plt.figure()\n",
        "plt.imshow(X_train_full[0])\n",
        "plt.colorbar()\n",
        "plt.grid(True)\n",
        "plt.show()"
      ]
    },
    {
      "cell_type": "markdown",
      "metadata": {
        "id": "MHgBAZg7_uNC"
      },
      "source": [
        "#### Clases"
      ]
    },
    {
      "cell_type": "code",
      "execution_count": 15,
      "metadata": {
        "colab": {
          "base_uri": "https://localhost:8080/"
        },
        "id": "uIL0JQwL_uNC",
        "outputId": "5cffc941-fd37-43f5-823b-550976c838f3"
      },
      "outputs": [
        {
          "data": {
            "text/plain": [
              "9"
            ]
          },
          "execution_count": 15,
          "metadata": {},
          "output_type": "execute_result"
        }
      ],
      "source": [
        "y_train_full[0]"
      ]
    },
    {
      "cell_type": "code",
      "execution_count": 16,
      "metadata": {
        "id": "yxjzhVEb_uNG"
      },
      "outputs": [],
      "source": [
        "class_names = [\"T-shirt/top\", \"Trouser\", \"Pullover\", \"Dress\", \"Coat\",\n",
        "                   \"Sandal\", \"Shirt\", \"Sneaker\", \"Bag\", \"Ankle boot\"]"
      ]
    },
    {
      "cell_type": "code",
      "execution_count": 17,
      "metadata": {
        "colab": {
          "base_uri": "https://localhost:8080/",
          "height": 36
        },
        "id": "Rg6xZpSZ_uNI",
        "outputId": "a6da57d6-5c69-4269-c88b-dae1aed07ce4"
      },
      "outputs": [
        {
          "data": {
            "text/plain": [
              "'Ankle boot'"
            ]
          },
          "execution_count": 17,
          "metadata": {},
          "output_type": "execute_result"
        }
      ],
      "source": [
        "class_names[y_train_full[0]]"
      ]
    },
    {
      "cell_type": "markdown",
      "metadata": {
        "id": "1M9nwA8o_uNK"
      },
      "source": [
        "#### Visualizando las primeras 25 instancias"
      ]
    },
    {
      "cell_type": "code",
      "execution_count": 14,
      "metadata": {
        "colab": {
          "base_uri": "https://localhost:8080/",
          "height": 829
        },
        "id": "d5kuw6sJ_uNK",
        "outputId": "1c7af843-a983-423d-b012-3dde52af6b68"
      },
      "outputs": [
        {
          "data": {
            "image/png": "[encoded data removed]",
            "text/plain": [
              "<Figure size 1000x1000 with 25 Axes>"
            ]
          },
          "metadata": {},
          "output_type": "display_data"
        }
      ],
      "source": [
        "plt.figure(figsize=(10,10))\n",
        "for i in range(0,25):\n",
        "    plt.subplot(5,5, i+1)\n",
        "    plt.imshow(X_train_full[i])\n",
        "    #plt.imshow(X_train_full[i], cmap=plt.cm.binary)\n",
        "    plt.title(class_names[(y_train_full[i])])\n",
        "    plt.grid(False)\n",
        "    plt.xticks([])\n",
        "    plt.yticks([])\n",
        "plt.show()"
      ]
    },
    {
      "cell_type": "markdown",
      "metadata": {
        "id": "fsEzLXRc_uNM"
      },
      "source": [
        "## Preprocesamiento"
      ]
    },
    {
      "cell_type": "markdown",
      "metadata": {
        "id": "G8VtsgjD_uNN"
      },
      "source": [
        "#### Escalamiento de características"
      ]
    },
    {
      "cell_type": "code",
      "execution_count": 18,
      "metadata": {
        "colab": {
          "base_uri": "https://localhost:8080/"
        },
        "id": "G5Izi9D__uNO",
        "outputId": "f79a4ae8-9bba-4bb9-e73e-d61e9f5084f8",
        "scrolled": true
      },
      "outputs": [
        {
          "data": {
            "text/plain": [
              "array([[  0,   0,   0,   0,   0,   0,   0,   0,   0,   0,   0,   0,   0,\n",
              "          0,   0,   0,   0,   0,   0,   0,   0,   0,   0,   0,   0,   0,\n",
              "          0,   0],\n",
              "       [  0,   0,   0,   0,   0,   0,   0,   0,   0,   0,   0,   0,   0,\n",
              "          0,   0,   0,   0,   0,   0,   0,   0,   0,   0,   0,   0,   0,\n",
              "          0,   0],\n",
              "       [  0,   0,   0,   0,   0,   0,   0,   0,   0,   0,   0,   0,   0,\n",
              "          0,   0,   0,   0,   0,   0,   0,   0,   0,   0,   0,   0,   0,\n",
              "          0,   0],\n",
              "       [  0,   0,   0,   0,   0,   0,   0,   0,   0,   0,   0,   0,   1,\n",
              "          0,   0,  13,  73,   0,   0,   1,   4,   0,   0,   0,   0,   1,\n",
              "          1,   0],\n",
              "       [  0,   0,   0,   0,   0,   0,   0,   0,   0,   0,   0,   0,   3,\n",
              "          0,  36, 136, 127,  62,  54,   0,   0,   0,   1,   3,   4,   0,\n",
              "          0,   3],\n",
              "       [  0,   0,   0,   0,   0,   0,   0,   0,   0,   0,   0,   0,   6,\n",
              "          0, 102, 204, 176, 134, 144, 123,  23,   0,   0,   0,   0,  12,\n",
              "         10,   0],\n",
              "       [  0,   0,   0,   0,   0,   0,   0,   0,   0,   0,   0,   0,   0,\n",
              "          0, 155, 236, 207, 178, 107, 156, 161, 109,  64,  23,  77, 130,\n",
              "         72,  15],\n",
              "       [  0,   0,   0,   0,   0,   0,   0,   0,   0,   0,   0,   1,   0,\n",
              "         69, 207, 223, 218, 216, 216, 163, 127, 121, 122, 146, 141,  88,\n",
              "        172,  66],\n",
              "       [  0,   0,   0,   0,   0,   0,   0,   0,   0,   1,   1,   1,   0,\n",
              "        200, 232, 232, 233, 229, 223, 223, 215, 213, 164, 127, 123, 196,\n",
              "        229,   0],\n",
              "       [  0,   0,   0,   0,   0,   0,   0,   0,   0,   0,   0,   0,   0,\n",
              "        183, 225, 216, 223, 228, 235, 227, 224, 222, 224, 221, 223, 245,\n",
              "        173,   0],\n",
              "       [  0,   0,   0,   0,   0,   0,   0,   0,   0,   0,   0,   0,   0,\n",
              "        193, 228, 218, 213, 198, 180, 212, 210, 211, 213, 223, 220, 243,\n",
              "        202,   0],\n",
              "       [  0,   0,   0,   0,   0,   0,   0,   0,   0,   1,   3,   0,  12,\n",
              "        219, 220, 212, 218, 192, 169, 227, 208, 218, 224, 212, 226, 197,\n",
              "        209,  52],\n",
              "       [  0,   0,   0,   0,   0,   0,   0,   0,   0,   0,   6,   0,  99,\n",
              "        244, 222, 220, 218, 203, 198, 221, 215, 213, 222, 220, 245, 119,\n",
              "        167,  56],\n",
              "       [  0,   0,   0,   0,   0,   0,   0,   0,   0,   4,   0,   0,  55,\n",
              "        236, 228, 230, 228, 240, 232, 213, 218, 223, 234, 217, 217, 209,\n",
              "         92,   0],\n",
              "       [  0,   0,   1,   4,   6,   7,   2,   0,   0,   0,   0,   0, 237,\n",
              "        226, 217, 223, 222, 219, 222, 221, 216, 223, 229, 215, 218, 255,\n",
              "         77,   0],\n",
              "       [  0,   3,   0,   0,   0,   0,   0,   0,   0,  62, 145, 204, 228,\n",
              "        207, 213, 221, 218, 208, 211, 218, 224, 223, 219, 215, 224, 244,\n",
              "        159,   0],\n",
              "       [  0,   0,   0,   0,  18,  44,  82, 107, 189, 228, 220, 222, 217,\n",
              "        226, 200, 205, 211, 230, 224, 234, 176, 188, 250, 248, 233, 238,\n",
              "        215,   0],\n",
              "       [  0,  57, 187, 208, 224, 221, 224, 208, 204, 214, 208, 209, 200,\n",
              "        159, 245, 193, 206, 223, 255, 255, 221, 234, 221, 211, 220, 232,\n",
              "        246,   0],\n",
              "       [  3, 202, 228, 224, 221, 211, 211, 214, 205, 205, 205, 220, 240,\n",
              "         80, 150, 255, 229, 221, 188, 154, 191, 210, 204, 209, 222, 228,\n",
              "        225,   0],\n",
              "       [ 98, 233, 198, 210, 222, 229, 229, 234, 249, 220, 194, 215, 217,\n",
              "        241,  65,  73, 106, 117, 168, 219, 221, 215, 217, 223, 223, 224,\n",
              "        229,  29],\n",
              "       [ 75, 204, 212, 204, 193, 205, 211, 225, 216, 185, 197, 206, 198,\n",
              "        213, 240, 195, 227, 245, 239, 223, 218, 212, 209, 222, 220, 221,\n",
              "        230,  67],\n",
              "       [ 48, 203, 183, 194, 213, 197, 185, 190, 194, 192, 202, 214, 219,\n",
              "        221, 220, 236, 225, 216, 199, 206, 186, 181, 177, 172, 181, 205,\n",
              "        206, 115],\n",
              "       [  0, 122, 219, 193, 179, 171, 183, 196, 204, 210, 213, 207, 211,\n",
              "        210, 200, 196, 194, 191, 195, 191, 198, 192, 176, 156, 167, 177,\n",
              "        210,  92],\n",
              "       [  0,   0,  74, 189, 212, 191, 175, 172, 175, 181, 185, 188, 189,\n",
              "        188, 193, 198, 204, 209, 210, 210, 211, 188, 188, 194, 192, 216,\n",
              "        170,   0],\n",
              "       [  2,   0,   0,   0,  66, 200, 222, 237, 239, 242, 246, 243, 244,\n",
              "        221, 220, 193, 191, 179, 182, 182, 181, 176, 166, 168,  99,  58,\n",
              "          0,   0],\n",
              "       [  0,   0,   0,   0,   0,   0,   0,  40,  61,  44,  72,  41,  35,\n",
              "          0,   0,   0,   0,   0,   0,   0,   0,   0,   0,   0,   0,   0,\n",
              "          0,   0],\n",
              "       [  0,   0,   0,   0,   0,   0,   0,   0,   0,   0,   0,   0,   0,\n",
              "          0,   0,   0,   0,   0,   0,   0,   0,   0,   0,   0,   0,   0,\n",
              "          0,   0],\n",
              "       [  0,   0,   0,   0,   0,   0,   0,   0,   0,   0,   0,   0,   0,\n",
              "          0,   0,   0,   0,   0,   0,   0,   0,   0,   0,   0,   0,   0,\n",
              "          0,   0]], dtype=uint8)"
            ]
          },
          "execution_count": 18,
          "metadata": {},
          "output_type": "execute_result"
        }
      ],
      "source": [
        "X_train_full[0]"
      ]
    },
    {
      "cell_type": "code",
      "execution_count": 19,
      "metadata": {
        "id": "npxOIib2_uNQ"
      },
      "outputs": [],
      "source": [
        "X_train_full = X_train_full / 255\n",
        "X_test = X_test / 255"
      ]
    },
    {
      "cell_type": "code",
      "execution_count": 20,
      "metadata": {
        "colab": {
          "base_uri": "https://localhost:8080/"
        },
        "id": "TYrf2Vjn_uNS",
        "outputId": "88066b72-6846-41e2-a2f4-cc87172eb22a"
      },
      "outputs": [
        {
          "data": {
            "text/plain": [
              "dtype('float64')"
            ]
          },
          "execution_count": 20,
          "metadata": {},
          "output_type": "execute_result"
        }
      ],
      "source": [
        "X_train_full.dtype"
      ]
    },
    {
      "cell_type": "code",
      "execution_count": 21,
      "metadata": {
        "colab": {
          "base_uri": "https://localhost:8080/"
        },
        "id": "XNgNWH52_uNV",
        "outputId": "f5b21b25-42db-45d0-ff95-e7ec580ec109"
      },
      "outputs": [
        {
          "data": {
            "text/plain": [
              "array([[0.        , 0.        , 0.        , 0.        , 0.        ,\n",
              "        0.        , 0.        , 0.        , 0.        , 0.        ,\n",
              "        0.        , 0.        , 0.        , 0.        , 0.        ,\n",
              "        0.        , 0.        , 0.        , 0.        , 0.        ,\n",
              "        0.        , 0.        , 0.        , 0.        , 0.        ,\n",
              "        0.        , 0.        , 0.        ],\n",
              "       [0.        , 0.        , 0.        , 0.        , 0.        ,\n",
              "        0.        , 0.        , 0.        , 0.        , 0.        ,\n",
              "        0.        , 0.        , 0.        , 0.        , 0.        ,\n",
              "        0.        , 0.        , 0.        , 0.        , 0.        ,\n",
              "        0.        , 0.        , 0.        , 0.        , 0.        ,\n",
              "        0.        , 0.        , 0.        ],\n",
              "       [0.        , 0.        , 0.        , 0.        , 0.        ,\n",
              "        0.        , 0.        , 0.        , 0.        , 0.        ,\n",
              "        0.        , 0.        , 0.        , 0.        , 0.        ,\n",
              "        0.        , 0.        , 0.        , 0.        , 0.        ,\n",
              "        0.        , 0.        , 0.        , 0.        , 0.        ,\n",
              "        0.        , 0.        , 0.        ],\n",
              "       [0.        , 0.        , 0.        , 0.        , 0.        ,\n",
              "        0.        , 0.        , 0.        , 0.        , 0.        ,\n",
              "        0.        , 0.        , 0.00392157, 0.        , 0.        ,\n",
              "        0.05098039, 0.28627451, 0.        , 0.        , 0.00392157,\n",
              "        0.01568627, 0.        , 0.        , 0.        , 0.        ,\n",
              "        0.00392157, 0.00392157, 0.        ],\n",
              "       [0.        , 0.        , 0.        , 0.        , 0.        ,\n",
              "        0.        , 0.        , 0.        , 0.        , 0.        ,\n",
              "        0.        , 0.        , 0.01176471, 0.        , 0.14117647,\n",
              "        0.53333333, 0.49803922, 0.24313725, 0.21176471, 0.        ,\n",
              "        0.        , 0.        , 0.00392157, 0.01176471, 0.01568627,\n",
              "        0.        , 0.        , 0.01176471],\n",
              "       [0.        , 0.        , 0.        , 0.        , 0.        ,\n",
              "        0.        , 0.        , 0.        , 0.        , 0.        ,\n",
              "        0.        , 0.        , 0.02352941, 0.        , 0.4       ,\n",
              "        0.8       , 0.69019608, 0.5254902 , 0.56470588, 0.48235294,\n",
              "        0.09019608, 0.        , 0.        , 0.        , 0.        ,\n",
              "        0.04705882, 0.03921569, 0.        ],\n",
              "       [0.        , 0.        , 0.        , 0.        , 0.        ,\n",
              "        0.        , 0.        , 0.        , 0.        , 0.        ,\n",
              "        0.        , 0.        , 0.        , 0.        , 0.60784314,\n",
              "        0.9254902 , 0.81176471, 0.69803922, 0.41960784, 0.61176471,\n",
              "        0.63137255, 0.42745098, 0.25098039, 0.09019608, 0.30196078,\n",
              "        0.50980392, 0.28235294, 0.05882353],\n",
              "       [0.        , 0.        , 0.        , 0.        , 0.        ,\n",
              "        0.        , 0.        , 0.        , 0.        , 0.        ,\n",
              "        0.        , 0.00392157, 0.        , 0.27058824, 0.81176471,\n",
              "        0.8745098 , 0.85490196, 0.84705882, 0.84705882, 0.63921569,\n",
              "        0.49803922, 0.4745098 , 0.47843137, 0.57254902, 0.55294118,\n",
              "        0.34509804, 0.6745098 , 0.25882353],\n",
              "       [0.        , 0.        , 0.        , 0.        , 0.        ,\n",
              "        0.        , 0.        , 0.        , 0.        , 0.00392157,\n",
              "        0.00392157, 0.00392157, 0.        , 0.78431373, 0.90980392,\n",
              "        0.90980392, 0.91372549, 0.89803922, 0.8745098 , 0.8745098 ,\n",
              "        0.84313725, 0.83529412, 0.64313725, 0.49803922, 0.48235294,\n",
              "        0.76862745, 0.89803922, 0.        ],\n",
              "       [0.        , 0.        , 0.        , 0.        , 0.        ,\n",
              "        0.        , 0.        , 0.        , 0.        , 0.        ,\n",
              "        0.        , 0.        , 0.        , 0.71764706, 0.88235294,\n",
              "        0.84705882, 0.8745098 , 0.89411765, 0.92156863, 0.89019608,\n",
              "        0.87843137, 0.87058824, 0.87843137, 0.86666667, 0.8745098 ,\n",
              "        0.96078431, 0.67843137, 0.        ],\n",
              "       [0.        , 0.        , 0.        , 0.        , 0.        ,\n",
              "        0.        , 0.        , 0.        , 0.        , 0.        ,\n",
              "        0.        , 0.        , 0.        , 0.75686275, 0.89411765,\n",
              "        0.85490196, 0.83529412, 0.77647059, 0.70588235, 0.83137255,\n",
              "        0.82352941, 0.82745098, 0.83529412, 0.8745098 , 0.8627451 ,\n",
              "        0.95294118, 0.79215686, 0.        ],\n",
              "       [0.        , 0.        , 0.        , 0.        , 0.        ,\n",
              "        0.        , 0.        , 0.        , 0.        , 0.00392157,\n",
              "        0.01176471, 0.        , 0.04705882, 0.85882353, 0.8627451 ,\n",
              "        0.83137255, 0.85490196, 0.75294118, 0.6627451 , 0.89019608,\n",
              "        0.81568627, 0.85490196, 0.87843137, 0.83137255, 0.88627451,\n",
              "        0.77254902, 0.81960784, 0.20392157],\n",
              "       [0.        , 0.        , 0.        , 0.        , 0.        ,\n",
              "        0.        , 0.        , 0.        , 0.        , 0.        ,\n",
              "        0.02352941, 0.        , 0.38823529, 0.95686275, 0.87058824,\n",
              "        0.8627451 , 0.85490196, 0.79607843, 0.77647059, 0.86666667,\n",
              "        0.84313725, 0.83529412, 0.87058824, 0.8627451 , 0.96078431,\n",
              "        0.46666667, 0.65490196, 0.21960784],\n",
              "       [0.        , 0.        , 0.        , 0.        , 0.        ,\n",
              "        0.        , 0.        , 0.        , 0.        , 0.01568627,\n",
              "        0.        , 0.        , 0.21568627, 0.9254902 , 0.89411765,\n",
              "        0.90196078, 0.89411765, 0.94117647, 0.90980392, 0.83529412,\n",
              "        0.85490196, 0.8745098 , 0.91764706, 0.85098039, 0.85098039,\n",
              "        0.81960784, 0.36078431, 0.        ],\n",
              "       [0.        , 0.        , 0.00392157, 0.01568627, 0.02352941,\n",
              "        0.02745098, 0.00784314, 0.        , 0.        , 0.        ,\n",
              "        0.        , 0.        , 0.92941176, 0.88627451, 0.85098039,\n",
              "        0.8745098 , 0.87058824, 0.85882353, 0.87058824, 0.86666667,\n",
              "        0.84705882, 0.8745098 , 0.89803922, 0.84313725, 0.85490196,\n",
              "        1.        , 0.30196078, 0.        ],\n",
              "       [0.        , 0.01176471, 0.        , 0.        , 0.        ,\n",
              "        0.        , 0.        , 0.        , 0.        , 0.24313725,\n",
              "        0.56862745, 0.8       , 0.89411765, 0.81176471, 0.83529412,\n",
              "        0.86666667, 0.85490196, 0.81568627, 0.82745098, 0.85490196,\n",
              "        0.87843137, 0.8745098 , 0.85882353, 0.84313725, 0.87843137,\n",
              "        0.95686275, 0.62352941, 0.        ],\n",
              "       [0.        , 0.        , 0.        , 0.        , 0.07058824,\n",
              "        0.17254902, 0.32156863, 0.41960784, 0.74117647, 0.89411765,\n",
              "        0.8627451 , 0.87058824, 0.85098039, 0.88627451, 0.78431373,\n",
              "        0.80392157, 0.82745098, 0.90196078, 0.87843137, 0.91764706,\n",
              "        0.69019608, 0.7372549 , 0.98039216, 0.97254902, 0.91372549,\n",
              "        0.93333333, 0.84313725, 0.        ],\n",
              "       [0.        , 0.22352941, 0.73333333, 0.81568627, 0.87843137,\n",
              "        0.86666667, 0.87843137, 0.81568627, 0.8       , 0.83921569,\n",
              "        0.81568627, 0.81960784, 0.78431373, 0.62352941, 0.96078431,\n",
              "        0.75686275, 0.80784314, 0.8745098 , 1.        , 1.        ,\n",
              "        0.86666667, 0.91764706, 0.86666667, 0.82745098, 0.8627451 ,\n",
              "        0.90980392, 0.96470588, 0.        ],\n",
              "       [0.01176471, 0.79215686, 0.89411765, 0.87843137, 0.86666667,\n",
              "        0.82745098, 0.82745098, 0.83921569, 0.80392157, 0.80392157,\n",
              "        0.80392157, 0.8627451 , 0.94117647, 0.31372549, 0.58823529,\n",
              "        1.        , 0.89803922, 0.86666667, 0.7372549 , 0.60392157,\n",
              "        0.74901961, 0.82352941, 0.8       , 0.81960784, 0.87058824,\n",
              "        0.89411765, 0.88235294, 0.        ],\n",
              "       [0.38431373, 0.91372549, 0.77647059, 0.82352941, 0.87058824,\n",
              "        0.89803922, 0.89803922, 0.91764706, 0.97647059, 0.8627451 ,\n",
              "        0.76078431, 0.84313725, 0.85098039, 0.94509804, 0.25490196,\n",
              "        0.28627451, 0.41568627, 0.45882353, 0.65882353, 0.85882353,\n",
              "        0.86666667, 0.84313725, 0.85098039, 0.8745098 , 0.8745098 ,\n",
              "        0.87843137, 0.89803922, 0.11372549],\n",
              "       [0.29411765, 0.8       , 0.83137255, 0.8       , 0.75686275,\n",
              "        0.80392157, 0.82745098, 0.88235294, 0.84705882, 0.7254902 ,\n",
              "        0.77254902, 0.80784314, 0.77647059, 0.83529412, 0.94117647,\n",
              "        0.76470588, 0.89019608, 0.96078431, 0.9372549 , 0.8745098 ,\n",
              "        0.85490196, 0.83137255, 0.81960784, 0.87058824, 0.8627451 ,\n",
              "        0.86666667, 0.90196078, 0.2627451 ],\n",
              "       [0.18823529, 0.79607843, 0.71764706, 0.76078431, 0.83529412,\n",
              "        0.77254902, 0.7254902 , 0.74509804, 0.76078431, 0.75294118,\n",
              "        0.79215686, 0.83921569, 0.85882353, 0.86666667, 0.8627451 ,\n",
              "        0.9254902 , 0.88235294, 0.84705882, 0.78039216, 0.80784314,\n",
              "        0.72941176, 0.70980392, 0.69411765, 0.6745098 , 0.70980392,\n",
              "        0.80392157, 0.80784314, 0.45098039],\n",
              "       [0.        , 0.47843137, 0.85882353, 0.75686275, 0.70196078,\n",
              "        0.67058824, 0.71764706, 0.76862745, 0.8       , 0.82352941,\n",
              "        0.83529412, 0.81176471, 0.82745098, 0.82352941, 0.78431373,\n",
              "        0.76862745, 0.76078431, 0.74901961, 0.76470588, 0.74901961,\n",
              "        0.77647059, 0.75294118, 0.69019608, 0.61176471, 0.65490196,\n",
              "        0.69411765, 0.82352941, 0.36078431],\n",
              "       [0.        , 0.        , 0.29019608, 0.74117647, 0.83137255,\n",
              "        0.74901961, 0.68627451, 0.6745098 , 0.68627451, 0.70980392,\n",
              "        0.7254902 , 0.7372549 , 0.74117647, 0.7372549 , 0.75686275,\n",
              "        0.77647059, 0.8       , 0.81960784, 0.82352941, 0.82352941,\n",
              "        0.82745098, 0.7372549 , 0.7372549 , 0.76078431, 0.75294118,\n",
              "        0.84705882, 0.66666667, 0.        ],\n",
              "       [0.00784314, 0.        , 0.        , 0.        , 0.25882353,\n",
              "        0.78431373, 0.87058824, 0.92941176, 0.9372549 , 0.94901961,\n",
              "        0.96470588, 0.95294118, 0.95686275, 0.86666667, 0.8627451 ,\n",
              "        0.75686275, 0.74901961, 0.70196078, 0.71372549, 0.71372549,\n",
              "        0.70980392, 0.69019608, 0.65098039, 0.65882353, 0.38823529,\n",
              "        0.22745098, 0.        , 0.        ],\n",
              "       [0.        , 0.        , 0.        , 0.        , 0.        ,\n",
              "        0.        , 0.        , 0.15686275, 0.23921569, 0.17254902,\n",
              "        0.28235294, 0.16078431, 0.1372549 , 0.        , 0.        ,\n",
              "        0.        , 0.        , 0.        , 0.        , 0.        ,\n",
              "        0.        , 0.        , 0.        , 0.        , 0.        ,\n",
              "        0.        , 0.        , 0.        ],\n",
              "       [0.        , 0.        , 0.        , 0.        , 0.        ,\n",
              "        0.        , 0.        , 0.        , 0.        , 0.        ,\n",
              "        0.        , 0.        , 0.        , 0.        , 0.        ,\n",
              "        0.        , 0.        , 0.        , 0.        , 0.        ,\n",
              "        0.        , 0.        , 0.        , 0.        , 0.        ,\n",
              "        0.        , 0.        , 0.        ],\n",
              "       [0.        , 0.        , 0.        , 0.        , 0.        ,\n",
              "        0.        , 0.        , 0.        , 0.        , 0.        ,\n",
              "        0.        , 0.        , 0.        , 0.        , 0.        ,\n",
              "        0.        , 0.        , 0.        , 0.        , 0.        ,\n",
              "        0.        , 0.        , 0.        , 0.        , 0.        ,\n",
              "        0.        , 0.        , 0.        ]])"
            ]
          },
          "execution_count": 21,
          "metadata": {},
          "output_type": "execute_result"
        }
      ],
      "source": [
        "X_train_full[0]"
      ]
    },
    {
      "cell_type": "markdown",
      "metadata": {
        "id": "XL8J5EB-_uNY"
      },
      "source": [
        "## Crear conjunto de validación"
      ]
    },
    {
      "cell_type": "code",
      "execution_count": 22,
      "metadata": {
        "id": "TfdZ7WKu_uNa"
      },
      "outputs": [],
      "source": [
        "# Separar el conjunto de entrenamiento completo en validación y entrenamiento\n",
        "X_train = X_train_full[:55000]\n",
        "y_train = y_train_full[:55000]\n",
        "\n",
        "X_validation = X_train_full[55000:]\n",
        "y_validation = y_train_full[55000:]"
      ]
    },
    {
      "cell_type": "code",
      "execution_count": 23,
      "metadata": {
        "colab": {
          "base_uri": "https://localhost:8080/"
        },
        "id": "KSRdn3Bj_uNc",
        "outputId": "ff128622-8463-4188-8fa1-5795b5f05282"
      },
      "outputs": [
        {
          "data": {
            "text/plain": [
              "(5000, 28, 28)"
            ]
          },
          "execution_count": 23,
          "metadata": {},
          "output_type": "execute_result"
        }
      ],
      "source": [
        "X_validation.shape"
      ]
    },
    {
      "cell_type": "code",
      "execution_count": 24,
      "metadata": {
        "colab": {
          "base_uri": "https://localhost:8080/"
        },
        "id": "qJVf_vX3_uNg",
        "outputId": "44d774c4-8de8-4f6d-fff6-10a82ee15a8f"
      },
      "outputs": [
        {
          "data": {
            "text/plain": [
              "(55000, 28, 28)"
            ]
          },
          "execution_count": 24,
          "metadata": {},
          "output_type": "execute_result"
        }
      ],
      "source": [
        "X_train.shape"
      ]
    },
    {
      "cell_type": "markdown",
      "metadata": {
        "id": "tfRQuWrs_uNh"
      },
      "source": [
        "# Modelo"
      ]
    },
    {
      "cell_type": "markdown",
      "metadata": {
        "id": "JvwQMC-T_uNi"
      },
      "source": [
        "#### Crear el modelo y añadir capas"
      ]
    },
    {
      "cell_type": "code",
      "execution_count": 26,
      "metadata": {
        "id": "o5OcqFrq_uNk"
      },
      "outputs": [],
      "source": [
        "from tensorflow.keras import layers\n",
        "from tensorflow.keras.layers import Conv2D, MaxPooling2D, Dropout, Flatten, Dense\n",
        "from keras import models\n",
        "\n",
        "model = keras.models.Sequential()\n",
        "model.add(layers.Conv2D(16, (3,3), activation='relu',input_shape=(28,28,1)))\n",
        "model.add(MaxPooling2D((2, 2)))\n",
        "model.add(layers.Conv2D(32, (3,3), activation='relu'))\n",
        "model.add(MaxPooling2D(2, 2))\n",
        "model.add(layers.Conv2D(64, (3,3), activation='relu'))\n",
        "model.add(MaxPooling2D(2, 2))\n",
        "model.add(Flatten())\n",
        "model.add(Dense(100, activation='relu'))\n",
        "model.add(Dropout(0.5))\n",
        "model.add(Dense(1, activation='relu'))"
      ]
    },
    {
      "cell_type": "code",
      "execution_count": 23,
      "metadata": {
        "id": "0Ilu_HSC_uNn"
      },
      "outputs": [
        {
          "name": "stdout",
          "output_type": "stream",
          "text": [
            "Model: \"sequential\"\n",
            "_________________________________________________________________\n",
            " Layer (type)                Output Shape              Param #   \n",
            "=================================================================\n",
            " conv2d (Conv2D)             (None, 26, 26, 16)        160       \n",
            "                                                                 \n",
            " max_pooling2d (MaxPooling2  (None, 13, 13, 16)        0         \n",
            " D)                                                              \n",
            "                                                                 \n",
            " conv2d_1 (Conv2D)           (None, 11, 11, 32)        4640      \n",
            "                                                                 \n",
            " max_pooling2d_1 (MaxPoolin  (None, 5, 5, 32)          0         \n",
            " g2D)                                                            \n",
            "                                                                 \n",
            " conv2d_2 (Conv2D)           (None, 3, 3, 64)          18496     \n",
            "                                                                 \n",
            " max_pooling2d_2 (MaxPoolin  (None, 1, 1, 64)          0         \n",
            " g2D)                                                            \n",
            "                                                                 \n",
            " flatten (Flatten)           (None, 64)                0         \n",
            "                                                                 \n",
            " dense (Dense)               (None, 100)               6500      \n",
            "                                                                 \n",
            " dropout (Dropout)           (None, 100)               0         \n",
            "                                                                 \n",
            " dense_1 (Dense)             (None, 1)                 101       \n",
            "                                                                 \n",
            "=================================================================\n",
            "Total params: 29897 (116.79 KB)\n",
            "Trainable params: 29897 (116.79 KB)\n",
            "Non-trainable params: 0 (0.00 Byte)\n",
            "_________________________________________________________________\n"
          ]
        }
      ],
      "source": [
        "model.summary()"
      ]
    },
    {
      "cell_type": "code",
      "execution_count": 27,
      "metadata": {
        "id": "9TUuJdEf_uNq"
      },
      "outputs": [
        {
          "data": {
            "image/png": "[encoded data removed]",
            "text/plain": [
              "<IPython.core.display.Image object>"
            ]
          },
          "execution_count": 27,
          "metadata": {},
          "output_type": "execute_result"
        }
      ],
      "source": [
        "keras.utils.plot_model(model)"
      ]
    },
    {
      "cell_type": "code",
      "execution_count": 28,
      "metadata": {
        "id": "JN2XM4y3_uNt"
      },
      "outputs": [
        {
          "data": {
            "text/plain": [
              "[<keras.src.layers.convolutional.conv2d.Conv2D at 0x28b4a37d0>,\n",
              " <keras.src.layers.pooling.max_pooling2d.MaxPooling2D at 0x28b6acb10>,\n",
              " <keras.src.layers.convolutional.conv2d.Conv2D at 0x28b7aded0>,\n",
              " <keras.src.layers.pooling.max_pooling2d.MaxPooling2D at 0x28b6d5010>,\n",
              " <keras.src.layers.convolutional.conv2d.Conv2D at 0x28b7af490>,\n",
              " <keras.src.layers.pooling.max_pooling2d.MaxPooling2D at 0x28b5cbc90>,\n",
              " <keras.src.layers.reshaping.flatten.Flatten at 0x28b7ac410>,\n",
              " <keras.src.layers.core.dense.Dense at 0x28b6c9350>,\n",
              " <keras.src.layers.regularization.dropout.Dropout at 0x295c17810>,\n",
              " <keras.src.layers.core.dense.Dense at 0x28b63ced0>]"
            ]
          },
          "execution_count": 28,
          "metadata": {},
          "output_type": "execute_result"
        }
      ],
      "source": [
        "model.layers"
      ]
    },
    {
      "cell_type": "markdown",
      "metadata": {
        "id": "z1vzYofi_uNu"
      },
      "source": [
        "#### Analizando W y b ¿Cómo se inicializan los W y b?"
      ]
    },
    {
      "cell_type": "code",
      "execution_count": 29,
      "metadata": {
        "id": "-rjjXrSFCnTw"
      },
      "outputs": [],
      "source": [
        "from keras.utils import to_categorical"
      ]
    },
    {
      "cell_type": "code",
      "execution_count": 30,
      "metadata": {
        "id": "akoSyNpPEUWR"
      },
      "outputs": [],
      "source": [
        "X_train = X_train.reshape((X_train.shape[0], 28, 28, 1))\n",
        "X_test = X_test.reshape((X_test.shape[0], 28, 28, 1))\n",
        "X_validation = X_validation.reshape((X_validation.shape[0], 28, 28, 1))"
      ]
    },
    {
      "cell_type": "code",
      "execution_count": 31,
      "metadata": {
        "id": "9F7TFnznCnoX"
      },
      "outputs": [],
      "source": [
        "train_labels = to_categorical(y_train)\n",
        "validation_labels = to_categorical(y_validation)\n",
        "test_labels = to_categorical(y_test)"
      ]
    },
    {
      "cell_type": "markdown",
      "metadata": {
        "id": "--GL75p9_uN4"
      },
      "source": [
        "# Configurar el proceso de aprendizaje (Compilar)\n",
        "Se especifica:\n",
        "- Loss function\n",
        "- Optimizer\n",
        "- Metrics (Opcional, en caso de querer observar métricas extra durante el entrenamiento o evaluación)"
      ]
    },
    {
      "cell_type": "code",
      "execution_count": 32,
      "metadata": {
        "id": "163M3iDkCl0v"
      },
      "outputs": [
        {
          "name": "stderr",
          "output_type": "stream",
          "text": [
            "WARNING:absl:At this time, the v2.11+ optimizer `tf.keras.optimizers.Adagrad` runs slowly on M1/M2 Macs, please use the legacy Keras optimizer instead, located at `tf.keras.optimizers.legacy.Adagrad`.\n",
            "WARNING:absl:There is a known slowdown when using v2.11+ Keras optimizers on M1/M2 Macs. Falling back to the legacy Keras optimizer, i.e., `tf.keras.optimizers.legacy.Adagrad`.\n"
          ]
        }
      ],
      "source": [
        "model.compile(optimizer=tf.keras.optimizers.Adagrad(learning_rate=1e-4),\n",
        "             loss='binary_crossentropy',\n",
        "             metrics=['accuracy'])"
      ]
    },
    {
      "cell_type": "markdown",
      "metadata": {
        "id": "jMvCwatj_uN6"
      },
      "source": [
        "# Entrenamiento y evaluación en datos de validación\n",
        "Los datos de validación son opcionales, pero si los pasamos como parámetros en el método `fit()`, Keras medirá el loss y las demás métricas que le indiquemos sobre el conjunto de validación al final de cada época.\n",
        "\n",
        "Se pueden pasar como parámetros los datos de validación con `validation_data`. Si se usa `validation_split`, la fracción de datos que indiquemos será usada como validación (se tomarán los datos del final del conjunto y no se usarán en el entrenamiento). `validation_data` sobrescribe `validation_split`.\n",
        "\n",
        "- Si el performance es mucho mejor en el conjunto de entrenamiento que en el de validación hay ->"
      ]
    },
    {
      "cell_type": "code",
      "execution_count": 33,
      "metadata": {
        "colab": {
          "base_uri": "https://localhost:8080/"
        },
        "id": "HB6nuQKb_uN6",
        "outputId": "c9f6bd78-7250-4c5c-d5b3-59355eb5f9a2",
        "scrolled": true
      },
      "outputs": [
        {
          "name": "stdout",
          "output_type": "stream",
          "text": [
            "Epoch 1/10\n",
            "860/860 [==============================] - 10s 11ms/step - loss: 0.8303 - accuracy: 0.9000 - val_loss: 0.3887 - val_accuracy: 0.9000\n",
            "Epoch 2/10\n",
            "860/860 [==============================] - 9s 11ms/step - loss: 0.6216 - accuracy: 0.9000 - val_loss: 0.3491 - val_accuracy: 0.9000\n",
            "Epoch 3/10\n",
            "860/860 [==============================] - 10s 11ms/step - loss: 0.5564 - accuracy: 0.9000 - val_loss: 0.3388 - val_accuracy: 0.9000\n",
            "Epoch 4/10\n",
            "860/860 [==============================] - 10s 12ms/step - loss: 0.5176 - accuracy: 0.9000 - val_loss: 0.3354 - val_accuracy: 0.9000\n",
            "Epoch 5/10\n",
            "860/860 [==============================] - 10s 11ms/step - loss: 0.4904 - accuracy: 0.8999 - val_loss: 0.3352 - val_accuracy: 0.9000\n",
            "Epoch 6/10\n",
            "860/860 [==============================] - 10s 12ms/step - loss: 0.4855 - accuracy: 0.9000 - val_loss: 0.3353 - val_accuracy: 0.9000\n",
            "Epoch 7/10\n",
            "860/860 [==============================] - 10s 11ms/step - loss: 0.4798 - accuracy: 0.8999 - val_loss: 0.3352 - val_accuracy: 0.9000\n",
            "Epoch 8/10\n",
            "860/860 [==============================] - 10s 11ms/step - loss: 0.4707 - accuracy: 0.8998 - val_loss: 0.3354 - val_accuracy: 0.9000\n",
            "Epoch 9/10\n",
            "860/860 [==============================] - 10s 12ms/step - loss: 0.4673 - accuracy: 0.8999 - val_loss: 0.3354 - val_accuracy: 0.9000\n",
            "Epoch 10/10\n",
            "860/860 [==============================] - 9s 11ms/step - loss: 0.4615 - accuracy: 0.8999 - val_loss: 0.3357 - val_accuracy: 0.9000\n"
          ]
        }
      ],
      "source": [
        "# Si quieres usar el conjunto de validación hecho por ti\n",
        "history = model.fit(X_train,\n",
        "                    train_labels,\n",
        "                    epochs=10,\n",
        "                    batch_size=64,\n",
        "                    validation_data=(X_validation,validation_labels))\n",
        "\n",
        "\n",
        "# Si quieres que Keras cree el conjunto de validación\n",
        "#history = model.fit(X_train_full,\n",
        "                    #y_train_full,\n",
        "                    #epochs=__,\n",
        "                    #batch_size=__,\n",
        "                    #validation_split=0.1)"
      ]
    },
    {
      "cell_type": "markdown",
      "metadata": {
        "id": "MAAtsh_r_uN7"
      },
      "source": [
        "#### History\n",
        "\n",
        "Objeto regresado por el método `fit()` que contiene:\n",
        "- Parámetros de entrenamiento\n",
        "- La lísta de épocas\n",
        "- Loss y métricas obtenidas al final de cada época"
      ]
    },
    {
      "cell_type": "code",
      "execution_count": 34,
      "metadata": {
        "id": "rZ9gB5tu_uN8"
      },
      "outputs": [
        {
          "data": {
            "text/plain": [
              "{'verbose': 1, 'epochs': 10, 'steps': 860}"
            ]
          },
          "execution_count": 34,
          "metadata": {},
          "output_type": "execute_result"
        }
      ],
      "source": [
        "history.params"
      ]
    },
    {
      "cell_type": "code",
      "execution_count": 35,
      "metadata": {
        "id": "QNx50DRB_uN-",
        "scrolled": true
      },
      "outputs": [
        {
          "data": {
            "text/plain": [
              "[0, 1, 2, 3, 4, 5, 6, 7, 8, 9]"
            ]
          },
          "execution_count": 35,
          "metadata": {},
          "output_type": "execute_result"
        }
      ],
      "source": [
        "history.epoch"
      ]
    },
    {
      "cell_type": "code",
      "execution_count": 36,
      "metadata": {
        "id": "SWa0PB7j_uOA",
        "scrolled": true
      },
      "outputs": [
        {
          "data": {
            "text/plain": [
              "{'loss': [0.8302810788154602,\n",
              "  0.6215656995773315,\n",
              "  0.5563815832138062,\n",
              "  0.5176430940628052,\n",
              "  0.4904095530509949,\n",
              "  0.48546141386032104,\n",
              "  0.47977402806282043,\n",
              "  0.47073736786842346,\n",
              "  0.4672611653804779,\n",
              "  0.4614773094654083],\n",
              " 'accuracy': [0.9000054597854614,\n",
              "  0.8999909162521362,\n",
              "  0.9000054597854614,\n",
              "  0.8999909162521362,\n",
              "  0.8999327421188354,\n",
              "  0.8999618887901306,\n",
              "  0.8999472856521606,\n",
              "  0.8998308777809143,\n",
              "  0.8999037146568298,\n",
              "  0.8999035954475403],\n",
              " 'val_loss': [0.3886934220790863,\n",
              "  0.3491375148296356,\n",
              "  0.3388291299343109,\n",
              "  0.33541998267173767,\n",
              "  0.33522799611091614,\n",
              "  0.3352520167827606,\n",
              "  0.33524957299232483,\n",
              "  0.33536091446876526,\n",
              "  0.3353802561759949,\n",
              "  0.3356724977493286],\n",
              " 'val_accuracy': [0.9000006914138794,\n",
              "  0.9000006914138794,\n",
              "  0.9000006914138794,\n",
              "  0.9000006914138794,\n",
              "  0.9000006914138794,\n",
              "  0.9000006914138794,\n",
              "  0.9000006914138794,\n",
              "  0.9000006914138794,\n",
              "  0.9000006914138794,\n",
              "  0.9000006914138794]}"
            ]
          },
          "execution_count": 36,
          "metadata": {},
          "output_type": "execute_result"
        }
      ],
      "source": [
        "history.history"
      ]
    },
    {
      "cell_type": "markdown",
      "metadata": {
        "id": "2TvXAcAw_uOC"
      },
      "source": [
        "#### Curvas de aprendizaje"
      ]
    },
    {
      "cell_type": "code",
      "execution_count": 37,
      "metadata": {
        "id": "mddmzEEU_uOD"
      },
      "outputs": [
        {
          "data": {
            "image/png": "[encoded data removed]",
            "text/plain": [
              "<Figure size 1500x800 with 1 Axes>"
            ]
          },
          "metadata": {},
          "output_type": "display_data"
        }
      ],
      "source": [
        "import pandas as pd\n",
        "pd.DataFrame(history.history).plot(figsize=(15, 8))\n",
        "plt.grid(True)\n",
        "plt.gca().set_ylim(0, 1) # set the vertical range to [0-1]\n",
        "plt.show()"
      ]
    },
    {
      "cell_type": "code",
      "execution_count": 38,
      "metadata": {
        "id": "0kW78T3e_uOF",
        "scrolled": true
      },
      "outputs": [
        {
          "name": "stdout",
          "output_type": "stream",
          "text": [
            "Epoch 11/20\n",
            "1719/1719 [==============================] - 10s 6ms/step - loss: 0.4553 - accuracy: 0.8999 - val_loss: 0.3361 - val_accuracy: 0.9000\n",
            "Epoch 12/20\n",
            "1719/1719 [==============================] - 12s 7ms/step - loss: 0.4452 - accuracy: 0.8999 - val_loss: 0.3365 - val_accuracy: 0.9000\n",
            "Epoch 13/20\n",
            "1719/1719 [==============================] - 11s 7ms/step - loss: 0.4378 - accuracy: 0.8999 - val_loss: 0.3367 - val_accuracy: 0.9000\n",
            "Epoch 14/20\n",
            "1719/1719 [==============================] - 11s 7ms/step - loss: 0.4329 - accuracy: 0.8999 - val_loss: 0.3371 - val_accuracy: 0.9000\n",
            "Epoch 15/20\n",
            "1719/1719 [==============================] - 15s 9ms/step - loss: 0.4283 - accuracy: 0.8999 - val_loss: 0.3375 - val_accuracy: 0.9000\n",
            "Epoch 16/20\n",
            "1719/1719 [==============================] - 17s 10ms/step - loss: 0.4249 - accuracy: 0.8998 - val_loss: 0.3378 - val_accuracy: 0.9000\n",
            "Epoch 17/20\n",
            "1719/1719 [==============================] - 14s 8ms/step - loss: 0.4216 - accuracy: 0.8999 - val_loss: 0.3381 - val_accuracy: 0.9000\n",
            "Epoch 18/20\n",
            "1719/1719 [==============================] - 15s 9ms/step - loss: 0.4194 - accuracy: 0.8998 - val_loss: 0.3385 - val_accuracy: 0.9000\n",
            "Epoch 19/20\n",
            "1719/1719 [==============================] - 14s 8ms/step - loss: 0.4143 - accuracy: 0.8998 - val_loss: 0.3390 - val_accuracy: 0.9000\n",
            "Epoch 20/20\n",
            "1719/1719 [==============================] - 17s 10ms/step - loss: 0.4107 - accuracy: 0.8998 - val_loss: 0.3392 - val_accuracy: 0.9000\n"
          ]
        }
      ],
      "source": [
        "#Si quisiéramos seguir entrenando usando nuestro conjunto de validación\n",
        "history2 = model.fit(X_train,\n",
        "                     train_labels,\n",
        "                     epochs=20,\n",
        "                     batch_size=32,\n",
        "                     validation_data=(X_validation,validation_labels),\n",
        "                     initial_epoch= 10)\n",
        "\n",
        "\n",
        "#Si quisiéramos seguir entrenando usando el conjunto de validación creado por Keras\n",
        "#history2 = model.fit(X_train_full,\n",
        "                     #y_train_full,\n",
        "                     #epochs=90,\n",
        "                     #batch_size=32,\n",
        "                     #validation_split=0.1,\n",
        "                     #initial_epoch=10)"
      ]
    },
    {
      "cell_type": "code",
      "execution_count": 39,
      "metadata": {
        "id": "eOlXtVo6_uOI"
      },
      "outputs": [
        {
          "data": {
            "image/png": "[encoded data removed]",
            "text/plain": [
              "<Figure size 1500x800 with 1 Axes>"
            ]
          },
          "metadata": {},
          "output_type": "display_data"
        }
      ],
      "source": [
        "#Si quisiéramos ver las curvas de aprendizaje de un segundo entrenamiento\n",
        "pd.DataFrame(history2.history).plot(figsize=(15, 8))\n",
        "plt.grid(True)\n",
        "plt.gca().set_ylim(0, 1) # set the vertical range to [0-1]\n",
        "plt.show()"
      ]
    },
    {
      "cell_type": "markdown",
      "metadata": {
        "id": "NUHyndkp_uOK"
      },
      "source": [
        "# Evaluación en conjunto de prueba\n",
        "\n",
        "Estimamos el error de generalización."
      ]
    },
    {
      "cell_type": "code",
      "execution_count": 40,
      "metadata": {
        "id": "QkBEqMq-_uOK"
      },
      "outputs": [
        {
          "name": "stdout",
          "output_type": "stream",
          "text": [
            "313/313 [==============================] - 1s 2ms/step - loss: 0.3389 - accuracy: 0.9000\n"
          ]
        }
      ],
      "source": [
        "loss_and_metrics = model.evaluate(X_test, test_labels)"
      ]
    },
    {
      "cell_type": "markdown",
      "metadata": {
        "id": "W8fPJPmm_uOM"
      },
      "source": [
        "# Predicción en nuevos datos"
      ]
    },
    {
      "cell_type": "code",
      "execution_count": 41,
      "metadata": {
        "id": "ytG9SnZT_uOM"
      },
      "outputs": [],
      "source": [
        "X_new = X_test[:5]"
      ]
    },
    {
      "cell_type": "markdown",
      "metadata": {
        "id": "eQ7YIy_Z_uOO"
      },
      "source": [
        "#### Probabilidad estimada por clase"
      ]
    },
    {
      "cell_type": "code",
      "execution_count": 42,
      "metadata": {
        "id": "zO-4S3Xg_uOP"
      },
      "outputs": [
        {
          "name": "stdout",
          "output_type": "stream",
          "text": [
            "1/1 [==============================] - 0s 124ms/step\n"
          ]
        },
        {
          "data": {
            "text/plain": [
              "array([[0.05],\n",
              "       [0.21],\n",
              "       [0.19],\n",
              "       [0.14],\n",
              "       [0.12]], dtype=float32)"
            ]
          },
          "execution_count": 42,
          "metadata": {},
          "output_type": "execute_result"
        }
      ],
      "source": [
        "y_proba = model.predict(X_new).round(2)\n",
        "y_proba"
      ]
    },
    {
      "cell_type": "markdown",
      "metadata": {
        "id": "7UJ77I4f_uOQ"
      },
      "source": [
        "#### Clase con mayor probabilidad"
      ]
    },
    {
      "cell_type": "code",
      "execution_count": 45,
      "metadata": {
        "id": "jz6U5CEF_uOR"
      },
      "outputs": [
        {
          "name": "stdout",
          "output_type": "stream",
          "text": [
            "1/1 [==============================] - 0s 19ms/step\n"
          ]
        },
        {
          "data": {
            "text/plain": [
              "array([[0.04991044],\n",
              "       [0.20586352],\n",
              "       [0.18563873],\n",
              "       [0.13737406],\n",
              "       [0.12428745]], dtype=float32)"
            ]
          },
          "execution_count": 45,
          "metadata": {},
          "output_type": "execute_result"
        }
      ],
      "source": [
        "y_pred = model.predict(X_new)\n",
        "y_pred"
      ]
    },
    {
      "cell_type": "code",
      "execution_count": 50,
      "metadata": {
        "id": "wYX93cbH_uOV"
      },
      "outputs": [
        {
          "data": {
            "text/plain": [
              "array([9, 2, 1, 1, 6], dtype=uint8)"
            ]
          },
          "execution_count": 50,
          "metadata": {},
          "output_type": "execute_result"
        }
      ],
      "source": [
        "y_test[:5]"
      ]
    },
    {
      "cell_type": "markdown",
      "metadata": {
        "id": "pwVvsXCh_uOW"
      },
      "source": [
        "# Guardar y restaurar el modelo"
      ]
    },
    {
      "cell_type": "markdown",
      "metadata": {
        "id": "hxDbT9yh_uOX"
      },
      "source": [
        "#### Guardar modelo"
      ]
    },
    {
      "cell_type": "code",
      "execution_count": 51,
      "metadata": {
        "id": "Xjg7gJl3_uOX"
      },
      "outputs": [
        {
          "name": "stderr",
          "output_type": "stream",
          "text": [
            "/Users/fernankiwi/.pyenv/versions/3.11.0/lib/python3.11/site-packages/keras/src/engine/training.py:3000: UserWarning: You are saving your model as an HDF5 file via `model.save()`. This file format is considered legacy. We recommend using instead the native Keras format, e.g. `model.save('my_model.keras')`.\n",
            "  saving_api.save_model(\n"
          ]
        }
      ],
      "source": [
        "model.save('keras_fashion.h5') #En formato HDF5"
      ]
    },
    {
      "cell_type": "markdown",
      "metadata": {
        "id": "CLxTI2MN_uOY"
      },
      "source": [
        "#### Restaurar un modelo"
      ]
    },
    {
      "cell_type": "code",
      "execution_count": 52,
      "metadata": {
        "id": "pffiN4x8_uOY"
      },
      "outputs": [],
      "source": [
        "model = keras.models.load_model('keras_fashion.h5')"
      ]
    },
    {
      "cell_type": "code",
      "execution_count": 54,
      "metadata": {
        "id": "U-Jn03Ip_uOb"
      },
      "outputs": [
        {
          "name": "stdout",
          "output_type": "stream",
          "text": [
            "1/1 [==============================] - 0s 58ms/step\n"
          ]
        },
        {
          "data": {
            "text/plain": [
              "array([[0.04991044],\n",
              "       [0.20586352],\n",
              "       [0.18563873],\n",
              "       [0.13737406],\n",
              "       [0.12428745]], dtype=float32)"
            ]
          },
          "execution_count": 54,
          "metadata": {},
          "output_type": "execute_result"
        }
      ],
      "source": [
        "X_new = X_test[:5] # pretend these are new instances\n",
        "y_pred = model.predict(X_new)\n",
        "y_pred"
      ]
    },
    {
      "cell_type": "markdown",
      "metadata": {
        "id": "R8rDpgqp_uOc"
      },
      "source": [
        "# Reset model"
      ]
    },
    {
      "cell_type": "code",
      "execution_count": 55,
      "metadata": {
        "id": "vFlbfhO5_uOc"
      },
      "outputs": [],
      "source": [
        "tf.keras.backend.clear_session()"
      ]
    },
    {
      "cell_type": "code",
      "execution_count": null,
      "metadata": {},
      "outputs": [],
      "source": []
    }
  ],
  "metadata": {
    "accelerator": "GPU",
    "colab": {
      "provenance": []
    },
    "kernelspec": {
      "display_name": "Python 3",
      "name": "python3"
    },
    "language_info": {
      "codemirror_mode": {
        "name": "ipython",
        "version": 3
      },
      "file_extension": ".py",
      "mimetype": "text/x-python",
      "name": "python",
      "nbconvert_exporter": "python",
      "pygments_lexer": "ipython3",
      "version": "3.11.0"
    }
  },
  "nbformat": 4,
  "nbformat_minor": 0
}
