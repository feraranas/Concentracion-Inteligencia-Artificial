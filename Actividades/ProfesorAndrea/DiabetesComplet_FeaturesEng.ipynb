{
  "cells": [
    {
      "cell_type": "code",
      "execution_count": 1,
      "metadata": {
        "id": "hQ9Zu9XDNLPM"
      },
      "outputs": [],
      "source": [
        "import pandas as pd\n",
        "import numpy as np\n",
        "import matplotlib.pyplot as plt\n",
        "import seaborn as sns"
      ]
    },
    {
      "cell_type": "code",
      "execution_count": 2,
      "metadata": {
        "colab": {
          "base_uri": "https://localhost:8080/",
          "height": 91
        },
        "id": "n0vYoOuQNVJo",
        "outputId": "23103efd-92cb-4ac0-b34c-29091895a0d1"
      },
      "outputs": [
        {
          "ename": "ModuleNotFoundError",
          "evalue": "No module named 'google.colab'",
          "output_type": "error",
          "traceback": [
            "\u001b[0;31m---------------------------------------------------------------------------\u001b[0m",
            "\u001b[0;31mModuleNotFoundError\u001b[0m                       Traceback (most recent call last)",
            "Cell \u001b[0;32mIn[2], line 1\u001b[0m\n\u001b[0;32m----> 1\u001b[0m \u001b[39mfrom\u001b[39;00m \u001b[39mgoogle\u001b[39;00m\u001b[39m.\u001b[39;00m\u001b[39mcolab\u001b[39;00m \u001b[39mimport\u001b[39;00m files\n\u001b[1;32m      3\u001b[0m uploaded \u001b[39m=\u001b[39m files\u001b[39m.\u001b[39mupload()\n\u001b[1;32m      5\u001b[0m \u001b[39mfor\u001b[39;00m fn \u001b[39min\u001b[39;00m uploaded\u001b[39m.\u001b[39mkeys():\n",
            "\u001b[0;31mModuleNotFoundError\u001b[0m: No module named 'google.colab'"
          ]
        }
      ],
      "source": [
        "from google.colab import files\n",
        "\n",
        "uploaded = files.upload()\n",
        "\n",
        "for fn in uploaded.keys():\n",
        "  print('User uploaded file \"{name}\" with length {length} bytes'.format(\n",
        "      name=fn, length=len(uploaded[fn])))"
      ]
    },
    {
      "cell_type": "code",
      "execution_count": 3,
      "metadata": {
        "id": "C5OPgGGXNVMa"
      },
      "outputs": [],
      "source": [
        "diabetes= pd.read_csv('diabetes.csv')"
      ]
    },
    {
      "cell_type": "markdown",
      "metadata": {
        "id": "5EHBsCrqK7Gs"
      },
      "source": [
        "# Feature Engineering"
      ]
    },
    {
      "cell_type": "markdown",
      "metadata": {
        "id": "PUUsavGjLDwL"
      },
      "source": [
        "![features.png](data:image/png;base64,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)"
      ]
    },
    {
      "cell_type": "markdown",
      "metadata": {
        "id": "OR5TV44dLKVE"
      },
      "source": [
        "In this step, there are 4 topics to consider and handle to prepare the dataset.\n",
        "\n",
        "\n",
        "\n",
        "1.   Outliers\n",
        "2.   Missing Values\n",
        "3.   Feature Extraction\n",
        "4.   Encoding & Scaling"
      ]
    },
    {
      "cell_type": "markdown",
      "metadata": {
        "id": "fdyKlkLxLcBW"
      },
      "source": [
        "## Analyse outliers and missing values\n",
        " **Outlier:** Values that deviate considerably from the general trend in the data. Especially in linear problems, the effects of outliers are more severe. They have less impact on tree methods, but still, need to be considered.\n",
        "\n",
        "## Method to determine outliers\n",
        "\n",
        "The critical point is to determine the acceptable threshold value, which are up limit and low limit. After determining the threshold value, outliers are caught based on these values. Methods by which we can catch the threshold value:\n",
        "\n",
        "* Industry knowledge\n",
        "* Standard deviation approach\n",
        "* Z-score approximation\n",
        "* **Boxplot**(interquartile range-IQR) method (as univariate)\n",
        "* **LOF Method** => Multivariate\n",
        "\n",
        "Once we locate the outliers, they may be deleted, replaced with thresholds, etc."
      ]
    },
    {
      "cell_type": "code",
      "execution_count": 4,
      "metadata": {
        "colab": {
          "base_uri": "https://localhost:8080/",
          "height": 331
        },
        "id": "cbdQC7KhNVO8",
        "outputId": "ac1e01f8-e412-44b1-9946-1ca33f838348"
      },
      "outputs": [
        {
          "data": {
            "text/html": [
              "<div>\n",
              "<style scoped>\n",
              "    .dataframe tbody tr th:only-of-type {\n",
              "        vertical-align: middle;\n",
              "    }\n",
              "\n",
              "    .dataframe tbody tr th {\n",
              "        vertical-align: top;\n",
              "    }\n",
              "\n",
              "    .dataframe thead th {\n",
              "        text-align: right;\n",
              "    }\n",
              "</style>\n",
              "<table border=\"1\" class=\"dataframe\">\n",
              "  <thead>\n",
              "    <tr style=\"text-align: right;\">\n",
              "      <th></th>\n",
              "      <th>count</th>\n",
              "      <th>mean</th>\n",
              "      <th>std</th>\n",
              "      <th>min</th>\n",
              "      <th>25%</th>\n",
              "      <th>50%</th>\n",
              "      <th>75%</th>\n",
              "      <th>max</th>\n",
              "    </tr>\n",
              "  </thead>\n",
              "  <tbody>\n",
              "    <tr>\n",
              "      <th>Pregnancies</th>\n",
              "      <td>768.0</td>\n",
              "      <td>3.845052</td>\n",
              "      <td>3.369578</td>\n",
              "      <td>0.000</td>\n",
              "      <td>1.00000</td>\n",
              "      <td>3.0000</td>\n",
              "      <td>6.00000</td>\n",
              "      <td>17.00</td>\n",
              "    </tr>\n",
              "    <tr>\n",
              "      <th>Glucose</th>\n",
              "      <td>768.0</td>\n",
              "      <td>120.894531</td>\n",
              "      <td>31.972618</td>\n",
              "      <td>0.000</td>\n",
              "      <td>99.00000</td>\n",
              "      <td>117.0000</td>\n",
              "      <td>140.25000</td>\n",
              "      <td>199.00</td>\n",
              "    </tr>\n",
              "    <tr>\n",
              "      <th>BloodPressure</th>\n",
              "      <td>768.0</td>\n",
              "      <td>69.105469</td>\n",
              "      <td>19.355807</td>\n",
              "      <td>0.000</td>\n",
              "      <td>62.00000</td>\n",
              "      <td>72.0000</td>\n",
              "      <td>80.00000</td>\n",
              "      <td>122.00</td>\n",
              "    </tr>\n",
              "    <tr>\n",
              "      <th>SkinThickness</th>\n",
              "      <td>768.0</td>\n",
              "      <td>20.536458</td>\n",
              "      <td>15.952218</td>\n",
              "      <td>0.000</td>\n",
              "      <td>0.00000</td>\n",
              "      <td>23.0000</td>\n",
              "      <td>32.00000</td>\n",
              "      <td>99.00</td>\n",
              "    </tr>\n",
              "    <tr>\n",
              "      <th>Insulin</th>\n",
              "      <td>768.0</td>\n",
              "      <td>79.799479</td>\n",
              "      <td>115.244002</td>\n",
              "      <td>0.000</td>\n",
              "      <td>0.00000</td>\n",
              "      <td>30.5000</td>\n",
              "      <td>127.25000</td>\n",
              "      <td>846.00</td>\n",
              "    </tr>\n",
              "    <tr>\n",
              "      <th>BMI</th>\n",
              "      <td>768.0</td>\n",
              "      <td>31.992578</td>\n",
              "      <td>7.884160</td>\n",
              "      <td>0.000</td>\n",
              "      <td>27.30000</td>\n",
              "      <td>32.0000</td>\n",
              "      <td>36.60000</td>\n",
              "      <td>67.10</td>\n",
              "    </tr>\n",
              "    <tr>\n",
              "      <th>DiabetesPedigreeFunction</th>\n",
              "      <td>768.0</td>\n",
              "      <td>0.471876</td>\n",
              "      <td>0.331329</td>\n",
              "      <td>0.078</td>\n",
              "      <td>0.24375</td>\n",
              "      <td>0.3725</td>\n",
              "      <td>0.62625</td>\n",
              "      <td>2.42</td>\n",
              "    </tr>\n",
              "    <tr>\n",
              "      <th>Age</th>\n",
              "      <td>768.0</td>\n",
              "      <td>33.240885</td>\n",
              "      <td>11.760232</td>\n",
              "      <td>21.000</td>\n",
              "      <td>24.00000</td>\n",
              "      <td>29.0000</td>\n",
              "      <td>41.00000</td>\n",
              "      <td>81.00</td>\n",
              "    </tr>\n",
              "    <tr>\n",
              "      <th>Outcome</th>\n",
              "      <td>768.0</td>\n",
              "      <td>0.348958</td>\n",
              "      <td>0.476951</td>\n",
              "      <td>0.000</td>\n",
              "      <td>0.00000</td>\n",
              "      <td>0.0000</td>\n",
              "      <td>1.00000</td>\n",
              "      <td>1.00</td>\n",
              "    </tr>\n",
              "  </tbody>\n",
              "</table>\n",
              "</div>"
            ],
            "text/plain": [
              "                          count        mean         std     min       25%  \\\n",
              "Pregnancies               768.0    3.845052    3.369578   0.000   1.00000   \n",
              "Glucose                   768.0  120.894531   31.972618   0.000  99.00000   \n",
              "BloodPressure             768.0   69.105469   19.355807   0.000  62.00000   \n",
              "SkinThickness             768.0   20.536458   15.952218   0.000   0.00000   \n",
              "Insulin                   768.0   79.799479  115.244002   0.000   0.00000   \n",
              "BMI                       768.0   31.992578    7.884160   0.000  27.30000   \n",
              "DiabetesPedigreeFunction  768.0    0.471876    0.331329   0.078   0.24375   \n",
              "Age                       768.0   33.240885   11.760232  21.000  24.00000   \n",
              "Outcome                   768.0    0.348958    0.476951   0.000   0.00000   \n",
              "\n",
              "                               50%        75%     max  \n",
              "Pregnancies                 3.0000    6.00000   17.00  \n",
              "Glucose                   117.0000  140.25000  199.00  \n",
              "BloodPressure              72.0000   80.00000  122.00  \n",
              "SkinThickness              23.0000   32.00000   99.00  \n",
              "Insulin                    30.5000  127.25000  846.00  \n",
              "BMI                        32.0000   36.60000   67.10  \n",
              "DiabetesPedigreeFunction    0.3725    0.62625    2.42  \n",
              "Age                        29.0000   41.00000   81.00  \n",
              "Outcome                     0.0000    1.00000    1.00  "
            ]
          },
          "execution_count": 4,
          "metadata": {},
          "output_type": "execute_result"
        }
      ],
      "source": [
        "diabetes.describe().T"
      ]
    },
    {
      "cell_type": "markdown",
      "metadata": {
        "id": "rbynxpnxN0KZ"
      },
      "source": [
        "There are two points that we have to consider:\n",
        "* \"Insulin\" has high standar deviation, the quartile values are large, and the outlier is clear.\n",
        "* \"SckinThickness\" quartile distribution is uneven."
      ]
    },
    {
      "cell_type": "code",
      "execution_count": 5,
      "metadata": {
        "colab": {
          "base_uri": "https://localhost:8080/",
          "height": 467
        },
        "id": "nEa44eQINVRK",
        "outputId": "43e6e97b-0043-4cec-a799-a5aff1a24ab9"
      },
      "outputs": [
        {
          "data": {
            "text/plain": [
              "<Axes: xlabel='Insulin'>"
            ]
          },
          "execution_count": 5,
          "metadata": {},
          "output_type": "execute_result"
        },
        {
          "data": {
            "image/png": "[encoded data removed]",
            "text/plain": [
              "<Figure size 640x480 with 1 Axes>"
            ]
          },
          "metadata": {},
          "output_type": "display_data"
        }
      ],
      "source": [
        "sns.boxplot(x=diabetes[\"Insulin\"])"
      ]
    },
    {
      "cell_type": "code",
      "execution_count": 6,
      "metadata": {
        "colab": {
          "base_uri": "https://localhost:8080/",
          "height": 467
        },
        "id": "MXdKKXi6NVTq",
        "outputId": "065369d7-2aa4-4965-b925-e8b49e7d9b3d"
      },
      "outputs": [
        {
          "data": {
            "text/plain": [
              "<Axes: xlabel='SkinThickness'>"
            ]
          },
          "execution_count": 6,
          "metadata": {},
          "output_type": "execute_result"
        },
        {
          "data": {
            "image/png": "[encoded data removed]",
            "text/plain": [
              "<Figure size 640x480 with 1 Axes>"
            ]
          },
          "metadata": {},
          "output_type": "display_data"
        }
      ],
      "source": [
        "sns.boxplot(x=diabetes[\"SkinThickness\"])"
      ]
    },
    {
      "cell_type": "markdown",
      "metadata": {
        "id": "6_ZcMmRhPgab"
      },
      "source": [
        "The critical point in the outlier is define the threshold. We will be using IQR method.\n",
        "\n",
        "We set up a \"fence\" outside of Q1 and Q3. Any values that fall outside of the fence are considered outliers.\n",
        "\n",
        "$$IQR = Q_3-Q_1$$\n",
        "\n",
        "* $Q_3$: 75% quantile\n",
        "* $Q_1$: 25% quantile\n",
        "\n",
        "Up limit is defined as 1.5 times bigger than $Q_3$, and the low limit is define as 1.5 times smaller value than $Q_1$.\n"
      ]
    },
    {
      "cell_type": "markdown",
      "metadata": {
        "id": "FMlVdwaBSiig"
      },
      "source": [
        "![imagen.png](data:image/png;base64,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)"
      ]
    },
    {
      "cell_type": "code",
      "execution_count": 7,
      "metadata": {
        "colab": {
          "base_uri": "https://localhost:8080/"
        },
        "id": "5cfeHhmiNKPF",
        "outputId": "c50e7609-c0d7-44be-f86e-deaf794dedee"
      },
      "outputs": [
        {
          "data": {
            "text/plain": [
              "1.0"
            ]
          },
          "execution_count": 7,
          "metadata": {},
          "output_type": "execute_result"
        }
      ],
      "source": [
        "diabetes.describe()['Pregnancies']['25%']"
      ]
    },
    {
      "cell_type": "code",
      "execution_count": 8,
      "metadata": {
        "id": "G0dGFx0hK31K"
      },
      "outputs": [],
      "source": [
        "def outlier_thresholds(df, col_name):\n",
        "  data_qtles = df.describe()\n",
        "  q1 = data_qtles[col_name]['25%']\n",
        "  q3 = data_qtles[col_name]['75%']\n",
        "  IQR = q3 - q1\n",
        "  up_limit = q3 + 1.5*IQR\n",
        "  low_limit = q1 - 1.5*IQR\n",
        "  return low_limit, up_limit"
      ]
    },
    {
      "cell_type": "code",
      "execution_count": 9,
      "metadata": {
        "colab": {
          "base_uri": "https://localhost:8080/"
        },
        "id": "vbHPlUQlUzeo",
        "outputId": "658ea039-d48d-4398-e823-4cd52bc3109c"
      },
      "outputs": [
        {
          "name": "stdout",
          "output_type": "stream",
          "text": [
            "Thresholds of Pregnancies : (-6.50, 13.50)\n",
            "Thresholds of Glucose : (37.12, 202.12)\n",
            "Thresholds of BloodPressure : (35.00, 107.00)\n",
            "Thresholds of SkinThickness : (-48.00, 80.00)\n",
            "Thresholds of Insulin : (-190.88, 318.12)\n",
            "Thresholds of BMI : (13.35, 50.55)\n",
            "Thresholds of DiabetesPedigreeFunction : (-0.33, 1.20)\n",
            "Thresholds of Age : (-1.50, 66.50)\n",
            "Thresholds of Outcome : (-1.50, 2.50)\n"
          ]
        }
      ],
      "source": [
        "for i in diabetes.columns:\n",
        "    print(\"Thresholds of {} : ({:.2f}, {:.2f})\".format(i, *outlier_thresholds(diabetes,i)))"
      ]
    },
    {
      "cell_type": "code",
      "execution_count": 10,
      "metadata": {
        "colab": {
          "base_uri": "https://localhost:8080/",
          "height": 174
        },
        "id": "7U4K6eGSVbD8",
        "outputId": "b6c5739c-bdec-4577-c741-40f3ca296c8b"
      },
      "outputs": [
        {
          "data": {
            "text/html": [
              "<div>\n",
              "<style scoped>\n",
              "    .dataframe tbody tr th:only-of-type {\n",
              "        vertical-align: middle;\n",
              "    }\n",
              "\n",
              "    .dataframe tbody tr th {\n",
              "        vertical-align: top;\n",
              "    }\n",
              "\n",
              "    .dataframe thead th {\n",
              "        text-align: right;\n",
              "    }\n",
              "</style>\n",
              "<table border=\"1\" class=\"dataframe\">\n",
              "  <thead>\n",
              "    <tr style=\"text-align: right;\">\n",
              "      <th></th>\n",
              "      <th>Pregnancies</th>\n",
              "      <th>Glucose</th>\n",
              "      <th>BloodPressure</th>\n",
              "      <th>SkinThickness</th>\n",
              "      <th>Insulin</th>\n",
              "      <th>BMI</th>\n",
              "      <th>DiabetesPedigreeFunction</th>\n",
              "      <th>Age</th>\n",
              "      <th>Outcome</th>\n",
              "    </tr>\n",
              "  </thead>\n",
              "  <tbody>\n",
              "    <tr>\n",
              "      <th>88</th>\n",
              "      <td>15</td>\n",
              "      <td>136</td>\n",
              "      <td>70</td>\n",
              "      <td>32</td>\n",
              "      <td>110</td>\n",
              "      <td>37.1</td>\n",
              "      <td>0.153</td>\n",
              "      <td>43</td>\n",
              "      <td>1</td>\n",
              "    </tr>\n",
              "    <tr>\n",
              "      <th>159</th>\n",
              "      <td>17</td>\n",
              "      <td>163</td>\n",
              "      <td>72</td>\n",
              "      <td>41</td>\n",
              "      <td>114</td>\n",
              "      <td>40.9</td>\n",
              "      <td>0.817</td>\n",
              "      <td>47</td>\n",
              "      <td>1</td>\n",
              "    </tr>\n",
              "    <tr>\n",
              "      <th>298</th>\n",
              "      <td>14</td>\n",
              "      <td>100</td>\n",
              "      <td>78</td>\n",
              "      <td>25</td>\n",
              "      <td>184</td>\n",
              "      <td>36.6</td>\n",
              "      <td>0.412</td>\n",
              "      <td>46</td>\n",
              "      <td>1</td>\n",
              "    </tr>\n",
              "    <tr>\n",
              "      <th>455</th>\n",
              "      <td>14</td>\n",
              "      <td>175</td>\n",
              "      <td>62</td>\n",
              "      <td>30</td>\n",
              "      <td>0</td>\n",
              "      <td>33.6</td>\n",
              "      <td>0.212</td>\n",
              "      <td>38</td>\n",
              "      <td>1</td>\n",
              "    </tr>\n",
              "  </tbody>\n",
              "</table>\n",
              "</div>"
            ],
            "text/plain": [
              "     Pregnancies  Glucose  BloodPressure  SkinThickness  Insulin   BMI  \\\n",
              "88            15      136             70             32      110  37.1   \n",
              "159           17      163             72             41      114  40.9   \n",
              "298           14      100             78             25      184  36.6   \n",
              "455           14      175             62             30        0  33.6   \n",
              "\n",
              "     DiabetesPedigreeFunction  Age  Outcome  \n",
              "88                      0.153   43        1  \n",
              "159                     0.817   47        1  \n",
              "298                     0.412   46        1  \n",
              "455                     0.212   38        1  "
            ]
          },
          "execution_count": 10,
          "metadata": {},
          "output_type": "execute_result"
        }
      ],
      "source": [
        "low, up = outlier_thresholds(diabetes, \"Pregnancies\")\n",
        "diabetes[((diabetes[\"Pregnancies\"] < low) | (diabetes[\"Pregnancies\"] > up))]"
      ]
    },
    {
      "cell_type": "markdown",
      "metadata": {
        "id": "YfX7bSAfV1wv"
      },
      "source": [
        "# Missing values\n",
        "* Deleting\n",
        "* Value Assignment Methods(average, mode, median, etc)\n",
        "* Predictive Methos (ML statistical methods, etc.)"
      ]
    },
    {
      "cell_type": "code",
      "execution_count": 11,
      "metadata": {
        "id": "QOWrArCSWyMY"
      },
      "outputs": [],
      "source": [
        "num_cols = len(diabetes.columns)"
      ]
    },
    {
      "cell_type": "code",
      "execution_count": 12,
      "metadata": {
        "id": "ZVpOTfBAVzHS"
      },
      "outputs": [],
      "source": [
        "num_cols_miss = [i for i in diabetes.columns if i != (\"Pregnancies\") and i != \"Outcome\"]\n",
        "# prints:\n",
        "# ['Glucose',\n",
        "#  'BloodPressure',\n",
        "#  'SkinThickness',\n",
        "#  'Insulin',\n",
        "#  'BMI',\n",
        "#  'DiabetesPedigreeFunction',\n",
        "#  'Age']\n",
        "for i in num_cols_miss:\n",
        "    diabetes[i] = diabetes.apply(lambda x: np.nan if x[i] == 0 else x[i], axis=1)"
      ]
    },
    {
      "cell_type": "code",
      "execution_count": 13,
      "metadata": {
        "colab": {
          "base_uri": "https://localhost:8080/",
          "height": 206
        },
        "id": "wzA7DEFlXVjU",
        "outputId": "f1a43ca4-82e7-46d9-8012-ec21d0c74027"
      },
      "outputs": [
        {
          "data": {
            "text/html": [
              "<div>\n",
              "<style scoped>\n",
              "    .dataframe tbody tr th:only-of-type {\n",
              "        vertical-align: middle;\n",
              "    }\n",
              "\n",
              "    .dataframe tbody tr th {\n",
              "        vertical-align: top;\n",
              "    }\n",
              "\n",
              "    .dataframe thead th {\n",
              "        text-align: right;\n",
              "    }\n",
              "</style>\n",
              "<table border=\"1\" class=\"dataframe\">\n",
              "  <thead>\n",
              "    <tr style=\"text-align: right;\">\n",
              "      <th></th>\n",
              "      <th>Pregnancies</th>\n",
              "      <th>Glucose</th>\n",
              "      <th>BloodPressure</th>\n",
              "      <th>SkinThickness</th>\n",
              "      <th>Insulin</th>\n",
              "      <th>BMI</th>\n",
              "      <th>DiabetesPedigreeFunction</th>\n",
              "      <th>Age</th>\n",
              "      <th>Outcome</th>\n",
              "    </tr>\n",
              "  </thead>\n",
              "  <tbody>\n",
              "    <tr>\n",
              "      <th>0</th>\n",
              "      <td>6</td>\n",
              "      <td>148.0</td>\n",
              "      <td>72.0</td>\n",
              "      <td>35.0</td>\n",
              "      <td>NaN</td>\n",
              "      <td>33.6</td>\n",
              "      <td>0.627</td>\n",
              "      <td>50.0</td>\n",
              "      <td>1</td>\n",
              "    </tr>\n",
              "    <tr>\n",
              "      <th>1</th>\n",
              "      <td>1</td>\n",
              "      <td>85.0</td>\n",
              "      <td>66.0</td>\n",
              "      <td>29.0</td>\n",
              "      <td>NaN</td>\n",
              "      <td>26.6</td>\n",
              "      <td>0.351</td>\n",
              "      <td>31.0</td>\n",
              "      <td>0</td>\n",
              "    </tr>\n",
              "    <tr>\n",
              "      <th>2</th>\n",
              "      <td>8</td>\n",
              "      <td>183.0</td>\n",
              "      <td>64.0</td>\n",
              "      <td>NaN</td>\n",
              "      <td>NaN</td>\n",
              "      <td>23.3</td>\n",
              "      <td>0.672</td>\n",
              "      <td>32.0</td>\n",
              "      <td>1</td>\n",
              "    </tr>\n",
              "    <tr>\n",
              "      <th>3</th>\n",
              "      <td>1</td>\n",
              "      <td>89.0</td>\n",
              "      <td>66.0</td>\n",
              "      <td>23.0</td>\n",
              "      <td>94.0</td>\n",
              "      <td>28.1</td>\n",
              "      <td>0.167</td>\n",
              "      <td>21.0</td>\n",
              "      <td>0</td>\n",
              "    </tr>\n",
              "    <tr>\n",
              "      <th>4</th>\n",
              "      <td>0</td>\n",
              "      <td>137.0</td>\n",
              "      <td>40.0</td>\n",
              "      <td>35.0</td>\n",
              "      <td>168.0</td>\n",
              "      <td>43.1</td>\n",
              "      <td>2.288</td>\n",
              "      <td>33.0</td>\n",
              "      <td>1</td>\n",
              "    </tr>\n",
              "  </tbody>\n",
              "</table>\n",
              "</div>"
            ],
            "text/plain": [
              "   Pregnancies  Glucose  BloodPressure  SkinThickness  Insulin   BMI  \\\n",
              "0            6    148.0           72.0           35.0      NaN  33.6   \n",
              "1            1     85.0           66.0           29.0      NaN  26.6   \n",
              "2            8    183.0           64.0            NaN      NaN  23.3   \n",
              "3            1     89.0           66.0           23.0     94.0  28.1   \n",
              "4            0    137.0           40.0           35.0    168.0  43.1   \n",
              "\n",
              "   DiabetesPedigreeFunction   Age  Outcome  \n",
              "0                     0.627  50.0        1  \n",
              "1                     0.351  31.0        0  \n",
              "2                     0.672  32.0        1  \n",
              "3                     0.167  21.0        0  \n",
              "4                     2.288  33.0        1  "
            ]
          },
          "execution_count": 13,
          "metadata": {},
          "output_type": "execute_result"
        }
      ],
      "source": [
        "diabetes.head()"
      ]
    },
    {
      "cell_type": "markdown",
      "metadata": {
        "id": "jx8aBosnXdUE"
      },
      "source": [
        "### Analysis null values"
      ]
    },
    {
      "cell_type": "code",
      "execution_count": 14,
      "metadata": {
        "colab": {
          "base_uri": "https://localhost:8080/"
        },
        "id": "0A37rRmPXhAL",
        "outputId": "e0f4049b-acee-4d51-e6d4-836dd7e556d1"
      },
      "outputs": [
        {
          "data": {
            "text/plain": [
              "Pregnancies                   0\n",
              "Glucose                       5\n",
              "BloodPressure                35\n",
              "SkinThickness               227\n",
              "Insulin                     374\n",
              "BMI                          11\n",
              "DiabetesPedigreeFunction      0\n",
              "Age                           0\n",
              "Outcome                       0\n",
              "dtype: int64"
            ]
          },
          "execution_count": 14,
          "metadata": {},
          "output_type": "execute_result"
        }
      ],
      "source": [
        "diabetes.isnull().sum()"
      ]
    },
    {
      "cell_type": "code",
      "execution_count": 15,
      "metadata": {},
      "outputs": [
        {
          "name": "stdout",
          "output_type": "stream",
          "text": [
            "Requirement already satisfied: missingno in /Users/fernankiwi/.pyenv/versions/3.11.0/lib/python3.11/site-packages (0.5.2)\n",
            "Requirement already satisfied: numpy in /Users/fernankiwi/.pyenv/versions/3.11.0/lib/python3.11/site-packages (from missingno) (1.24.4)\n",
            "Requirement already satisfied: matplotlib in /Users/fernankiwi/.pyenv/versions/3.11.0/lib/python3.11/site-packages (from missingno) (3.7.2)\n",
            "Requirement already satisfied: scipy in /Users/fernankiwi/.pyenv/versions/3.11.0/lib/python3.11/site-packages (from missingno) (1.11.1)\n",
            "Requirement already satisfied: seaborn in /Users/fernankiwi/.pyenv/versions/3.11.0/lib/python3.11/site-packages (from missingno) (0.12.2)\n",
            "Requirement already satisfied: contourpy>=1.0.1 in /Users/fernankiwi/.pyenv/versions/3.11.0/lib/python3.11/site-packages (from matplotlib->missingno) (1.1.0)\n",
            "Requirement already satisfied: cycler>=0.10 in /Users/fernankiwi/.pyenv/versions/3.11.0/lib/python3.11/site-packages (from matplotlib->missingno) (0.11.0)\n",
            "Requirement already satisfied: fonttools>=4.22.0 in /Users/fernankiwi/.pyenv/versions/3.11.0/lib/python3.11/site-packages (from matplotlib->missingno) (4.42.0)\n",
            "Requirement already satisfied: kiwisolver>=1.0.1 in /Users/fernankiwi/.pyenv/versions/3.11.0/lib/python3.11/site-packages (from matplotlib->missingno) (1.4.4)\n",
            "Requirement already satisfied: packaging>=20.0 in /Users/fernankiwi/.pyenv/versions/3.11.0/lib/python3.11/site-packages (from matplotlib->missingno) (23.1)\n",
            "Requirement already satisfied: pillow>=6.2.0 in /Users/fernankiwi/.pyenv/versions/3.11.0/lib/python3.11/site-packages (from matplotlib->missingno) (9.5.0)\n",
            "Requirement already satisfied: pyparsing<3.1,>=2.3.1 in /Users/fernankiwi/.pyenv/versions/3.11.0/lib/python3.11/site-packages (from matplotlib->missingno) (3.0.9)\n",
            "Requirement already satisfied: python-dateutil>=2.7 in /Users/fernankiwi/.pyenv/versions/3.11.0/lib/python3.11/site-packages (from matplotlib->missingno) (2.8.2)\n",
            "Requirement already satisfied: pandas>=0.25 in /Users/fernankiwi/.pyenv/versions/3.11.0/lib/python3.11/site-packages (from seaborn->missingno) (2.0.3)\n",
            "Requirement already satisfied: pytz>=2020.1 in /Users/fernankiwi/.pyenv/versions/3.11.0/lib/python3.11/site-packages (from pandas>=0.25->seaborn->missingno) (2023.3)\n",
            "Requirement already satisfied: tzdata>=2022.1 in /Users/fernankiwi/.pyenv/versions/3.11.0/lib/python3.11/site-packages (from pandas>=0.25->seaborn->missingno) (2023.3)\n",
            "Requirement already satisfied: six>=1.5 in /Users/fernankiwi/.pyenv/versions/3.11.0/lib/python3.11/site-packages (from python-dateutil>=2.7->matplotlib->missingno) (1.16.0)\n"
          ]
        }
      ],
      "source": [
        "!pip install missingno"
      ]
    },
    {
      "cell_type": "code",
      "execution_count": 16,
      "metadata": {
        "id": "CKsbBJaiZRpY"
      },
      "outputs": [],
      "source": [
        "import missingno as msno"
      ]
    },
    {
      "cell_type": "code",
      "execution_count": 17,
      "metadata": {
        "colab": {
          "base_uri": "https://localhost:8080/",
          "height": 512
        },
        "id": "5DuySnMTZEmW",
        "outputId": "e240b6d2-70db-4262-87c2-553d9cd38e6d"
      },
      "outputs": [
        {
          "data": {
            "text/plain": [
              "<Axes: >"
            ]
          },
          "execution_count": 17,
          "metadata": {},
          "output_type": "execute_result"
        },
        {
          "data": {
            "image/png": "[encoded data removed]",
            "text/plain": [
              "<Figure size 2500x1000 with 3 Axes>"
            ]
          },
          "metadata": {},
          "output_type": "display_data"
        }
      ],
      "source": [
        "# the number of non-missing data\n",
        "msno.bar(diabetes)"
      ]
    },
    {
      "cell_type": "markdown",
      "metadata": {
        "id": "zgL2vXvdZk47"
      },
      "source": [
        "Missing data:\n",
        "* y axis: indexes\n",
        "* x axis: variable\n",
        "* black: non-missing index\n",
        "* while: missing index(NaN)"
      ]
    },
    {
      "cell_type": "code",
      "execution_count": 18,
      "metadata": {
        "colab": {
          "base_uri": "https://localhost:8080/",
          "height": 500
        },
        "id": "y7rdSC33ZeQL",
        "outputId": "29e9ba1e-b504-4049-b7ce-84faf60f19d7"
      },
      "outputs": [
        {
          "data": {
            "text/plain": [
              "<Axes: >"
            ]
          },
          "execution_count": 18,
          "metadata": {},
          "output_type": "execute_result"
        },
        {
          "data": {
            "image/png": "[encoded data removed]",
            "text/plain": [
              "<Figure size 2500x1000 with 2 Axes>"
            ]
          },
          "metadata": {},
          "output_type": "display_data"
        }
      ],
      "source": [
        "msno.matrix(diabetes)"
      ]
    },
    {
      "cell_type": "markdown",
      "metadata": {
        "id": "e1xdLGoaXgwn"
      },
      "source": [
        "Heatmap shows the correlation of missing values on variables."
      ]
    },
    {
      "cell_type": "code",
      "execution_count": 19,
      "metadata": {
        "colab": {
          "base_uri": "https://localhost:8080/",
          "height": 654
        },
        "id": "gclHcATmdp5E",
        "outputId": "d9ae4c9f-b1ad-4d79-af54-9183fc81bf61"
      },
      "outputs": [
        {
          "data": {
            "text/plain": [
              "<Axes: >"
            ]
          },
          "execution_count": 19,
          "metadata": {},
          "output_type": "execute_result"
        },
        {
          "data": {
            "image/png": "[encoded data removed]",
            "text/plain": [
              "<Figure size 2000x1200 with 2 Axes>"
            ]
          },
          "metadata": {},
          "output_type": "display_data"
        }
      ],
      "source": [
        "msno.heatmap(diabetes)"
      ]
    },
    {
      "cell_type": "markdown",
      "metadata": {
        "id": "QoJD6afmdyDw"
      },
      "source": [
        "Notice the strong positive correlation between \"SkinThickness\" and \"Insulin\" both have many missing values"
      ]
    },
    {
      "cell_type": "code",
      "execution_count": 20,
      "metadata": {
        "id": "-8mosILwipvQ"
      },
      "outputs": [],
      "source": [
        "def missing_values_table(dataframe, na_name=False):\n",
        "    # only take missing columns\n",
        "    na_columns = [col for col in dataframe.columns if dataframe[col].isnull().sum() > 0]\n",
        "\n",
        "    n_miss = dataframe[na_columns].isnull().sum().sort_values(ascending=False)  # number of missing value\n",
        "    ratio = (dataframe[na_columns].isnull().sum() / dataframe.shape[0] * 100).sort_values(ascending=False) # ratio\n",
        "    missing_df = pd.concat([n_miss, np.round(ratio, 2)], axis=1, keys=['n_miss', 'ratio'])  # make table\n",
        "    print(missing_df, end=\"\\n\")\n",
        "\n",
        "    if na_name:\n",
        "        return na_columns"
      ]
    },
    {
      "cell_type": "code",
      "execution_count": 21,
      "metadata": {
        "colab": {
          "base_uri": "https://localhost:8080/"
        },
        "id": "VjuZT81mj2j9",
        "outputId": "7e0ea3ca-73dd-46e7-bc75-36df5a3fdd64"
      },
      "outputs": [
        {
          "name": "stdout",
          "output_type": "stream",
          "text": [
            "               n_miss  ratio\n",
            "Insulin           374  48.70\n",
            "SkinThickness     227  29.56\n",
            "BloodPressure      35   4.56\n",
            "BMI                11   1.43\n",
            "Glucose             5   0.65\n"
          ]
        },
        {
          "data": {
            "text/html": [
              "<div>\n",
              "<style scoped>\n",
              "    .dataframe tbody tr th:only-of-type {\n",
              "        vertical-align: middle;\n",
              "    }\n",
              "\n",
              "    .dataframe tbody tr th {\n",
              "        vertical-align: top;\n",
              "    }\n",
              "\n",
              "    .dataframe thead th {\n",
              "        text-align: right;\n",
              "    }\n",
              "</style>\n",
              "<table border=\"1\" class=\"dataframe\">\n",
              "  <thead>\n",
              "    <tr style=\"text-align: right;\">\n",
              "      <th></th>\n",
              "      <th>Glucose</th>\n",
              "      <th>BloodPressure</th>\n",
              "      <th>SkinThickness</th>\n",
              "      <th>Insulin</th>\n",
              "      <th>BMI</th>\n",
              "    </tr>\n",
              "  </thead>\n",
              "  <tbody>\n",
              "    <tr>\n",
              "      <th>0</th>\n",
              "      <td>False</td>\n",
              "      <td>False</td>\n",
              "      <td>False</td>\n",
              "      <td>True</td>\n",
              "      <td>False</td>\n",
              "    </tr>\n",
              "    <tr>\n",
              "      <th>1</th>\n",
              "      <td>False</td>\n",
              "      <td>False</td>\n",
              "      <td>False</td>\n",
              "      <td>True</td>\n",
              "      <td>False</td>\n",
              "    </tr>\n",
              "    <tr>\n",
              "      <th>2</th>\n",
              "      <td>False</td>\n",
              "      <td>False</td>\n",
              "      <td>True</td>\n",
              "      <td>True</td>\n",
              "      <td>False</td>\n",
              "    </tr>\n",
              "    <tr>\n",
              "      <th>3</th>\n",
              "      <td>False</td>\n",
              "      <td>False</td>\n",
              "      <td>False</td>\n",
              "      <td>False</td>\n",
              "      <td>False</td>\n",
              "    </tr>\n",
              "    <tr>\n",
              "      <th>4</th>\n",
              "      <td>False</td>\n",
              "      <td>False</td>\n",
              "      <td>False</td>\n",
              "      <td>False</td>\n",
              "      <td>False</td>\n",
              "    </tr>\n",
              "    <tr>\n",
              "      <th>...</th>\n",
              "      <td>...</td>\n",
              "      <td>...</td>\n",
              "      <td>...</td>\n",
              "      <td>...</td>\n",
              "      <td>...</td>\n",
              "    </tr>\n",
              "    <tr>\n",
              "      <th>763</th>\n",
              "      <td>False</td>\n",
              "      <td>False</td>\n",
              "      <td>False</td>\n",
              "      <td>False</td>\n",
              "      <td>False</td>\n",
              "    </tr>\n",
              "    <tr>\n",
              "      <th>764</th>\n",
              "      <td>False</td>\n",
              "      <td>False</td>\n",
              "      <td>False</td>\n",
              "      <td>True</td>\n",
              "      <td>False</td>\n",
              "    </tr>\n",
              "    <tr>\n",
              "      <th>765</th>\n",
              "      <td>False</td>\n",
              "      <td>False</td>\n",
              "      <td>False</td>\n",
              "      <td>False</td>\n",
              "      <td>False</td>\n",
              "    </tr>\n",
              "    <tr>\n",
              "      <th>766</th>\n",
              "      <td>False</td>\n",
              "      <td>False</td>\n",
              "      <td>True</td>\n",
              "      <td>True</td>\n",
              "      <td>False</td>\n",
              "    </tr>\n",
              "    <tr>\n",
              "      <th>767</th>\n",
              "      <td>False</td>\n",
              "      <td>False</td>\n",
              "      <td>False</td>\n",
              "      <td>True</td>\n",
              "      <td>False</td>\n",
              "    </tr>\n",
              "  </tbody>\n",
              "</table>\n",
              "<p>768 rows × 5 columns</p>\n",
              "</div>"
            ],
            "text/plain": [
              "     Glucose  BloodPressure  SkinThickness  Insulin    BMI\n",
              "0      False          False          False     True  False\n",
              "1      False          False          False     True  False\n",
              "2      False          False           True     True  False\n",
              "3      False          False          False    False  False\n",
              "4      False          False          False    False  False\n",
              "..       ...            ...            ...      ...    ...\n",
              "763    False          False          False    False  False\n",
              "764    False          False          False     True  False\n",
              "765    False          False          False    False  False\n",
              "766    False          False           True     True  False\n",
              "767    False          False          False     True  False\n",
              "\n",
              "[768 rows x 5 columns]"
            ]
          },
          "execution_count": 21,
          "metadata": {},
          "output_type": "execute_result"
        }
      ],
      "source": [
        "na_cols = missing_values_table(diabetes, na_name=True)\n",
        "diabetes[na_cols].isnull()"
      ]
    },
    {
      "cell_type": "markdown",
      "metadata": {
        "id": "eCSKJDOFkLhH"
      },
      "source": [
        "Lets create a table that relate the target variable and the missing data"
      ]
    },
    {
      "cell_type": "code",
      "execution_count": 22,
      "metadata": {
        "id": "ga2-C2sakJIz"
      },
      "outputs": [],
      "source": [
        "def missing_target(df, target, na_col):\n",
        "  df_temp = df.copy()\n",
        "  for col in na_cols:\n",
        "    df_temp[col + '_NA_FLAG'] = np.where(df_temp[col].isnull(),1,0)\n",
        "  na_flags = df_temp.loc[:, df_temp.columns.str.contains(\"_NA_\")].columns\n",
        "  print(\"COLUMNS CONTAINING N.A :\", na_flags)\n",
        "  for col in na_flags:\n",
        "        print(df_temp.groupby(col)[target].sum().head())\n",
        "\n",
        "        print(pd.DataFrame(\n",
        "              {\n",
        "                \"TARGET_MEAN\": df_temp.groupby(col)[target].mean(),\n",
        "                \"Count\": df_temp.groupby(col)[target].count()\n",
        "              }\n",
        "            ), end=\"\\n\\n\\n\")"
      ]
    },
    {
      "cell_type": "code",
      "execution_count": 23,
      "metadata": {
        "colab": {
          "base_uri": "https://localhost:8080/"
        },
        "id": "0x1pdAUOkyp7",
        "outputId": "0f4fabff-bfd3-401a-ce31-8eda96c8b8e6"
      },
      "outputs": [
        {
          "name": "stdout",
          "output_type": "stream",
          "text": [
            "COLUMNS CONTAINING N.A : Index(['Glucose_NA_FLAG', 'BloodPressure_NA_FLAG', 'SkinThickness_NA_FLAG',\n",
            "       'Insulin_NA_FLAG', 'BMI_NA_FLAG'],\n",
            "      dtype='object')\n",
            "Glucose_NA_FLAG\n",
            "0    266\n",
            "1      2\n",
            "Name: Outcome, dtype: int64\n",
            "                 TARGET_MEAN  Count\n",
            "Glucose_NA_FLAG                    \n",
            "0                   0.348624    763\n",
            "1                   0.400000      5\n",
            "\n",
            "\n",
            "BloodPressure_NA_FLAG\n",
            "0    252\n",
            "1     16\n",
            "Name: Outcome, dtype: int64\n",
            "                       TARGET_MEAN  Count\n",
            "BloodPressure_NA_FLAG                    \n",
            "0                         0.343793    733\n",
            "1                         0.457143     35\n",
            "\n",
            "\n",
            "SkinThickness_NA_FLAG\n",
            "0    180\n",
            "1     88\n",
            "Name: Outcome, dtype: int64\n",
            "                       TARGET_MEAN  Count\n",
            "SkinThickness_NA_FLAG                    \n",
            "0                         0.332717    541\n",
            "1                         0.387665    227\n",
            "\n",
            "\n",
            "Insulin_NA_FLAG\n",
            "0    130\n",
            "1    138\n",
            "Name: Outcome, dtype: int64\n",
            "                 TARGET_MEAN  Count\n",
            "Insulin_NA_FLAG                    \n",
            "0                   0.329949    394\n",
            "1                   0.368984    374\n",
            "\n",
            "\n",
            "BMI_NA_FLAG\n",
            "0    266\n",
            "1      2\n",
            "Name: Outcome, dtype: int64\n",
            "             TARGET_MEAN  Count\n",
            "BMI_NA_FLAG                    \n",
            "0               0.351387    757\n",
            "1               0.181818     11\n",
            "\n",
            "\n"
          ]
        }
      ],
      "source": [
        "missing_target(diabetes,\"Outcome\",na_cols)"
      ]
    },
    {
      "cell_type": "markdown",
      "metadata": {
        "id": "j9JuasdynCas"
      },
      "source": [
        "Lets observe Glucose, there are 763 non-missing values and 5 missing values. The mean Outcome for non/missing values is 0.349 and the mean of Outcome for missing values is 0.4.\n"
      ]
    },
    {
      "cell_type": "code",
      "execution_count": 24,
      "metadata": {
        "colab": {
          "base_uri": "https://localhost:8080/"
        },
        "id": "UU4MMlpvnBYH",
        "outputId": "bf9cc226-1050-4050-f184-a12f17f7079f"
      },
      "outputs": [
        {
          "data": {
            "text/plain": [
              "Outcome                     1.000000\n",
              "Glucose                     0.494650\n",
              "BMI                         0.313680\n",
              "Insulin                     0.303454\n",
              "SkinThickness               0.259491\n",
              "Age                         0.238356\n",
              "Pregnancies                 0.221898\n",
              "DiabetesPedigreeFunction    0.173844\n",
              "BloodPressure               0.170589\n",
              "Name: Outcome, dtype: float64"
            ]
          },
          "execution_count": 24,
          "metadata": {},
          "output_type": "execute_result"
        }
      ],
      "source": [
        "corr_matrix = diabetes.corr()\n",
        "corr_matrix[\"Outcome\"].sort_values(ascending=False)"
      ]
    },
    {
      "cell_type": "markdown",
      "metadata": {
        "id": "gKF2vgV5Udes"
      },
      "source": [
        "# Pre-processing (Solve Outliers and Missing Values)\n",
        "\n",
        "## Missing Values:\n",
        "* Deleting: remove rows of missing data\n",
        "```\n",
        "df.dropna(inplace=True)\n",
        "```\n",
        "\n",
        "* Assign Values: Fill the Nan values with mean, median or mode, even in some instances we may fill with zero.\n",
        "```\n",
        " X[col_name] = X[col_name].fillna(X[col_name].median())\n",
        "```\n",
        "\n",
        "* Predective Methods: Based on ML models, or statistical methods.\n",
        "Before we have to consider:\n",
        "  * Transform categorical data to one hot encoder.\n",
        "  * KNN is a distance - base algorithm, we need to standarize the variables.\n"
      ]
    },
    {
      "cell_type": "code",
      "execution_count": 25,
      "metadata": {
        "id": "Aqf7SghkWN-J"
      },
      "outputs": [],
      "source": [
        "from sklearn.preprocessing import MinMaxScaler"
      ]
    },
    {
      "cell_type": "code",
      "execution_count": 26,
      "metadata": {
        "colab": {
          "base_uri": "https://localhost:8080/",
          "height": 226
        },
        "id": "EBfUyBROWQIs",
        "outputId": "eeede1df-5b0f-442d-f191-3600da99d260"
      },
      "outputs": [
        {
          "data": {
            "text/html": [
              "<div>\n",
              "<style scoped>\n",
              "    .dataframe tbody tr th:only-of-type {\n",
              "        vertical-align: middle;\n",
              "    }\n",
              "\n",
              "    .dataframe tbody tr th {\n",
              "        vertical-align: top;\n",
              "    }\n",
              "\n",
              "    .dataframe thead th {\n",
              "        text-align: right;\n",
              "    }\n",
              "</style>\n",
              "<table border=\"1\" class=\"dataframe\">\n",
              "  <thead>\n",
              "    <tr style=\"text-align: right;\">\n",
              "      <th></th>\n",
              "      <th>Pregnancies</th>\n",
              "      <th>Glucose</th>\n",
              "      <th>BloodPressure</th>\n",
              "      <th>SkinThickness</th>\n",
              "      <th>Insulin</th>\n",
              "      <th>BMI</th>\n",
              "      <th>DiabetesPedigreeFunction</th>\n",
              "      <th>Age</th>\n",
              "      <th>Outcome</th>\n",
              "    </tr>\n",
              "  </thead>\n",
              "  <tbody>\n",
              "    <tr>\n",
              "      <th>0</th>\n",
              "      <td>0.352941</td>\n",
              "      <td>0.670968</td>\n",
              "      <td>0.489796</td>\n",
              "      <td>0.304348</td>\n",
              "      <td>NaN</td>\n",
              "      <td>0.314928</td>\n",
              "      <td>0.234415</td>\n",
              "      <td>0.483333</td>\n",
              "      <td>1.0</td>\n",
              "    </tr>\n",
              "    <tr>\n",
              "      <th>1</th>\n",
              "      <td>0.058824</td>\n",
              "      <td>0.264516</td>\n",
              "      <td>0.428571</td>\n",
              "      <td>0.239130</td>\n",
              "      <td>NaN</td>\n",
              "      <td>0.171779</td>\n",
              "      <td>0.116567</td>\n",
              "      <td>0.166667</td>\n",
              "      <td>0.0</td>\n",
              "    </tr>\n",
              "    <tr>\n",
              "      <th>2</th>\n",
              "      <td>0.470588</td>\n",
              "      <td>0.896774</td>\n",
              "      <td>0.408163</td>\n",
              "      <td>NaN</td>\n",
              "      <td>NaN</td>\n",
              "      <td>0.104294</td>\n",
              "      <td>0.253629</td>\n",
              "      <td>0.183333</td>\n",
              "      <td>1.0</td>\n",
              "    </tr>\n",
              "    <tr>\n",
              "      <th>3</th>\n",
              "      <td>0.058824</td>\n",
              "      <td>0.290323</td>\n",
              "      <td>0.428571</td>\n",
              "      <td>0.173913</td>\n",
              "      <td>0.096154</td>\n",
              "      <td>0.202454</td>\n",
              "      <td>0.038002</td>\n",
              "      <td>0.000000</td>\n",
              "      <td>0.0</td>\n",
              "    </tr>\n",
              "    <tr>\n",
              "      <th>4</th>\n",
              "      <td>0.000000</td>\n",
              "      <td>0.600000</td>\n",
              "      <td>0.163265</td>\n",
              "      <td>0.304348</td>\n",
              "      <td>0.185096</td>\n",
              "      <td>0.509202</td>\n",
              "      <td>0.943638</td>\n",
              "      <td>0.200000</td>\n",
              "      <td>1.0</td>\n",
              "    </tr>\n",
              "  </tbody>\n",
              "</table>\n",
              "</div>"
            ],
            "text/plain": [
              "   Pregnancies   Glucose  BloodPressure  SkinThickness   Insulin       BMI  \\\n",
              "0     0.352941  0.670968       0.489796       0.304348       NaN  0.314928   \n",
              "1     0.058824  0.264516       0.428571       0.239130       NaN  0.171779   \n",
              "2     0.470588  0.896774       0.408163            NaN       NaN  0.104294   \n",
              "3     0.058824  0.290323       0.428571       0.173913  0.096154  0.202454   \n",
              "4     0.000000  0.600000       0.163265       0.304348  0.185096  0.509202   \n",
              "\n",
              "   DiabetesPedigreeFunction       Age  Outcome  \n",
              "0                  0.234415  0.483333      1.0  \n",
              "1                  0.116567  0.166667      0.0  \n",
              "2                  0.253629  0.183333      1.0  \n",
              "3                  0.038002  0.000000      0.0  \n",
              "4                  0.943638  0.200000      1.0  "
            ]
          },
          "execution_count": 26,
          "metadata": {},
          "output_type": "execute_result"
        }
      ],
      "source": [
        "df_ml = diabetes.copy()\n",
        "\n",
        "# standardization\n",
        "scaler = MinMaxScaler()\n",
        "df_ml = pd.DataFrame(scaler.fit_transform(df_ml), columns=df_ml.columns)\n",
        "df_ml.head()"
      ]
    },
    {
      "cell_type": "code",
      "execution_count": 27,
      "metadata": {
        "id": "TpISQaAlWbBR"
      },
      "outputs": [],
      "source": [
        "# fill Nan with KNN algorithm"
      ]
    },
    {
      "cell_type": "code",
      "execution_count": 28,
      "metadata": {
        "id": "kvkOqSQMWhdZ"
      },
      "outputs": [],
      "source": [
        "from sklearn.impute import KNNImputer"
      ]
    },
    {
      "cell_type": "code",
      "execution_count": 29,
      "metadata": {
        "colab": {
          "base_uri": "https://localhost:8080/",
          "height": 226
        },
        "id": "VeeH6m8bW8P7",
        "outputId": "4c690334-e1f2-4296-8dcb-18a5656eb13d"
      },
      "outputs": [
        {
          "data": {
            "text/html": [
              "<div>\n",
              "<style scoped>\n",
              "    .dataframe tbody tr th:only-of-type {\n",
              "        vertical-align: middle;\n",
              "    }\n",
              "\n",
              "    .dataframe tbody tr th {\n",
              "        vertical-align: top;\n",
              "    }\n",
              "\n",
              "    .dataframe thead th {\n",
              "        text-align: right;\n",
              "    }\n",
              "</style>\n",
              "<table border=\"1\" class=\"dataframe\">\n",
              "  <thead>\n",
              "    <tr style=\"text-align: right;\">\n",
              "      <th></th>\n",
              "      <th>Pregnancies</th>\n",
              "      <th>Glucose</th>\n",
              "      <th>BloodPressure</th>\n",
              "      <th>SkinThickness</th>\n",
              "      <th>Insulin</th>\n",
              "      <th>BMI</th>\n",
              "      <th>DiabetesPedigreeFunction</th>\n",
              "      <th>Age</th>\n",
              "      <th>Outcome</th>\n",
              "    </tr>\n",
              "  </thead>\n",
              "  <tbody>\n",
              "    <tr>\n",
              "      <th>0</th>\n",
              "      <td>0.352941</td>\n",
              "      <td>0.670968</td>\n",
              "      <td>0.489796</td>\n",
              "      <td>0.304348</td>\n",
              "      <td>0.384856</td>\n",
              "      <td>0.314928</td>\n",
              "      <td>0.234415</td>\n",
              "      <td>0.483333</td>\n",
              "      <td>1.0</td>\n",
              "    </tr>\n",
              "    <tr>\n",
              "      <th>1</th>\n",
              "      <td>0.058824</td>\n",
              "      <td>0.264516</td>\n",
              "      <td>0.428571</td>\n",
              "      <td>0.239130</td>\n",
              "      <td>0.050721</td>\n",
              "      <td>0.171779</td>\n",
              "      <td>0.116567</td>\n",
              "      <td>0.166667</td>\n",
              "      <td>0.0</td>\n",
              "    </tr>\n",
              "    <tr>\n",
              "      <th>2</th>\n",
              "      <td>0.470588</td>\n",
              "      <td>0.896774</td>\n",
              "      <td>0.408163</td>\n",
              "      <td>0.273913</td>\n",
              "      <td>0.269231</td>\n",
              "      <td>0.104294</td>\n",
              "      <td>0.253629</td>\n",
              "      <td>0.183333</td>\n",
              "      <td>1.0</td>\n",
              "    </tr>\n",
              "    <tr>\n",
              "      <th>3</th>\n",
              "      <td>0.058824</td>\n",
              "      <td>0.290323</td>\n",
              "      <td>0.428571</td>\n",
              "      <td>0.173913</td>\n",
              "      <td>0.096154</td>\n",
              "      <td>0.202454</td>\n",
              "      <td>0.038002</td>\n",
              "      <td>0.000000</td>\n",
              "      <td>0.0</td>\n",
              "    </tr>\n",
              "    <tr>\n",
              "      <th>4</th>\n",
              "      <td>0.000000</td>\n",
              "      <td>0.600000</td>\n",
              "      <td>0.163265</td>\n",
              "      <td>0.304348</td>\n",
              "      <td>0.185096</td>\n",
              "      <td>0.509202</td>\n",
              "      <td>0.943638</td>\n",
              "      <td>0.200000</td>\n",
              "      <td>1.0</td>\n",
              "    </tr>\n",
              "  </tbody>\n",
              "</table>\n",
              "</div>"
            ],
            "text/plain": [
              "   Pregnancies   Glucose  BloodPressure  SkinThickness   Insulin       BMI  \\\n",
              "0     0.352941  0.670968       0.489796       0.304348  0.384856  0.314928   \n",
              "1     0.058824  0.264516       0.428571       0.239130  0.050721  0.171779   \n",
              "2     0.470588  0.896774       0.408163       0.273913  0.269231  0.104294   \n",
              "3     0.058824  0.290323       0.428571       0.173913  0.096154  0.202454   \n",
              "4     0.000000  0.600000       0.163265       0.304348  0.185096  0.509202   \n",
              "\n",
              "   DiabetesPedigreeFunction       Age  Outcome  \n",
              "0                  0.234415  0.483333      1.0  \n",
              "1                  0.116567  0.166667      0.0  \n",
              "2                  0.253629  0.183333      1.0  \n",
              "3                  0.038002  0.000000      0.0  \n",
              "4                  0.943638  0.200000      1.0  "
            ]
          },
          "execution_count": 29,
          "metadata": {},
          "output_type": "execute_result"
        }
      ],
      "source": [
        "imputer = KNNImputer(n_neighbors=5)\n",
        "df_ml = pd.DataFrame(imputer.fit_transform(df_ml), columns=df_ml.columns)\n",
        "df_ml.head()"
      ]
    },
    {
      "cell_type": "markdown",
      "metadata": {
        "id": "nXYYjqdvXE_3"
      },
      "source": [
        " Reverse the transformed data"
      ]
    },
    {
      "cell_type": "code",
      "execution_count": 30,
      "metadata": {
        "colab": {
          "base_uri": "https://localhost:8080/",
          "height": 226
        },
        "id": "7OxkoS4mXIPP",
        "outputId": "a5eb4245-c07b-49ed-86c9-a7e76a2f12fd"
      },
      "outputs": [
        {
          "data": {
            "text/html": [
              "<div>\n",
              "<style scoped>\n",
              "    .dataframe tbody tr th:only-of-type {\n",
              "        vertical-align: middle;\n",
              "    }\n",
              "\n",
              "    .dataframe tbody tr th {\n",
              "        vertical-align: top;\n",
              "    }\n",
              "\n",
              "    .dataframe thead th {\n",
              "        text-align: right;\n",
              "    }\n",
              "</style>\n",
              "<table border=\"1\" class=\"dataframe\">\n",
              "  <thead>\n",
              "    <tr style=\"text-align: right;\">\n",
              "      <th></th>\n",
              "      <th>Pregnancies</th>\n",
              "      <th>Glucose</th>\n",
              "      <th>BloodPressure</th>\n",
              "      <th>SkinThickness</th>\n",
              "      <th>Insulin</th>\n",
              "      <th>BMI</th>\n",
              "      <th>DiabetesPedigreeFunction</th>\n",
              "      <th>Age</th>\n",
              "      <th>Outcome</th>\n",
              "    </tr>\n",
              "  </thead>\n",
              "  <tbody>\n",
              "    <tr>\n",
              "      <th>0</th>\n",
              "      <td>6.0</td>\n",
              "      <td>148.0</td>\n",
              "      <td>72.0</td>\n",
              "      <td>35.0</td>\n",
              "      <td>334.2</td>\n",
              "      <td>33.6</td>\n",
              "      <td>0.627</td>\n",
              "      <td>50.0</td>\n",
              "      <td>1.0</td>\n",
              "    </tr>\n",
              "    <tr>\n",
              "      <th>1</th>\n",
              "      <td>1.0</td>\n",
              "      <td>85.0</td>\n",
              "      <td>66.0</td>\n",
              "      <td>29.0</td>\n",
              "      <td>56.2</td>\n",
              "      <td>26.6</td>\n",
              "      <td>0.351</td>\n",
              "      <td>31.0</td>\n",
              "      <td>0.0</td>\n",
              "    </tr>\n",
              "    <tr>\n",
              "      <th>2</th>\n",
              "      <td>8.0</td>\n",
              "      <td>183.0</td>\n",
              "      <td>64.0</td>\n",
              "      <td>32.2</td>\n",
              "      <td>238.0</td>\n",
              "      <td>23.3</td>\n",
              "      <td>0.672</td>\n",
              "      <td>32.0</td>\n",
              "      <td>1.0</td>\n",
              "    </tr>\n",
              "    <tr>\n",
              "      <th>3</th>\n",
              "      <td>1.0</td>\n",
              "      <td>89.0</td>\n",
              "      <td>66.0</td>\n",
              "      <td>23.0</td>\n",
              "      <td>94.0</td>\n",
              "      <td>28.1</td>\n",
              "      <td>0.167</td>\n",
              "      <td>21.0</td>\n",
              "      <td>0.0</td>\n",
              "    </tr>\n",
              "    <tr>\n",
              "      <th>4</th>\n",
              "      <td>0.0</td>\n",
              "      <td>137.0</td>\n",
              "      <td>40.0</td>\n",
              "      <td>35.0</td>\n",
              "      <td>168.0</td>\n",
              "      <td>43.1</td>\n",
              "      <td>2.288</td>\n",
              "      <td>33.0</td>\n",
              "      <td>1.0</td>\n",
              "    </tr>\n",
              "  </tbody>\n",
              "</table>\n",
              "</div>"
            ],
            "text/plain": [
              "   Pregnancies  Glucose  BloodPressure  SkinThickness  Insulin   BMI  \\\n",
              "0          6.0    148.0           72.0           35.0    334.2  33.6   \n",
              "1          1.0     85.0           66.0           29.0     56.2  26.6   \n",
              "2          8.0    183.0           64.0           32.2    238.0  23.3   \n",
              "3          1.0     89.0           66.0           23.0     94.0  28.1   \n",
              "4          0.0    137.0           40.0           35.0    168.0  43.1   \n",
              "\n",
              "   DiabetesPedigreeFunction   Age  Outcome  \n",
              "0                     0.627  50.0      1.0  \n",
              "1                     0.351  31.0      0.0  \n",
              "2                     0.672  32.0      1.0  \n",
              "3                     0.167  21.0      0.0  \n",
              "4                     2.288  33.0      1.0  "
            ]
          },
          "execution_count": 30,
          "metadata": {},
          "output_type": "execute_result"
        }
      ],
      "source": [
        "df_ml = pd.DataFrame(scaler.inverse_transform(df_ml), columns=df_ml.columns)\n",
        "df_ml.head()"
      ]
    },
    {
      "cell_type": "markdown",
      "metadata": {
        "id": "_OeSsigDXVyK"
      },
      "source": [
        "What to choose?\n",
        "\n",
        "For this problem, since two variables have many missing values, making a prediction may not be logical for these.\n",
        "\n",
        "We can decide what columns use the *predictive method*, and the remain columns use the *assign method*."
      ]
    },
    {
      "cell_type": "code",
      "execution_count": 31,
      "metadata": {
        "id": "Rb7s_PkCYoZ5"
      },
      "outputs": [],
      "source": [
        "diabetes = pd.read_csv('diabetes.csv')"
      ]
    },
    {
      "cell_type": "code",
      "execution_count": 32,
      "metadata": {
        "colab": {
          "base_uri": "https://localhost:8080/",
          "height": 226
        },
        "id": "XGL4awELYjVo",
        "outputId": "5f33e4c9-fa89-4680-8f62-4d35294bd362"
      },
      "outputs": [
        {
          "data": {
            "text/html": [
              "<div>\n",
              "<style scoped>\n",
              "    .dataframe tbody tr th:only-of-type {\n",
              "        vertical-align: middle;\n",
              "    }\n",
              "\n",
              "    .dataframe tbody tr th {\n",
              "        vertical-align: top;\n",
              "    }\n",
              "\n",
              "    .dataframe thead th {\n",
              "        text-align: right;\n",
              "    }\n",
              "</style>\n",
              "<table border=\"1\" class=\"dataframe\">\n",
              "  <thead>\n",
              "    <tr style=\"text-align: right;\">\n",
              "      <th></th>\n",
              "      <th>Pregnancies</th>\n",
              "      <th>Glucose</th>\n",
              "      <th>BloodPressure</th>\n",
              "      <th>SkinThickness</th>\n",
              "      <th>Insulin</th>\n",
              "      <th>BMI</th>\n",
              "      <th>DiabetesPedigreeFunction</th>\n",
              "      <th>Age</th>\n",
              "      <th>Outcome</th>\n",
              "    </tr>\n",
              "  </thead>\n",
              "  <tbody>\n",
              "    <tr>\n",
              "      <th>0</th>\n",
              "      <td>6</td>\n",
              "      <td>148</td>\n",
              "      <td>72</td>\n",
              "      <td>35</td>\n",
              "      <td>0</td>\n",
              "      <td>33.6</td>\n",
              "      <td>0.627</td>\n",
              "      <td>50</td>\n",
              "      <td>1</td>\n",
              "    </tr>\n",
              "    <tr>\n",
              "      <th>1</th>\n",
              "      <td>1</td>\n",
              "      <td>85</td>\n",
              "      <td>66</td>\n",
              "      <td>29</td>\n",
              "      <td>0</td>\n",
              "      <td>26.6</td>\n",
              "      <td>0.351</td>\n",
              "      <td>31</td>\n",
              "      <td>0</td>\n",
              "    </tr>\n",
              "    <tr>\n",
              "      <th>2</th>\n",
              "      <td>8</td>\n",
              "      <td>183</td>\n",
              "      <td>64</td>\n",
              "      <td>0</td>\n",
              "      <td>0</td>\n",
              "      <td>23.3</td>\n",
              "      <td>0.672</td>\n",
              "      <td>32</td>\n",
              "      <td>1</td>\n",
              "    </tr>\n",
              "    <tr>\n",
              "      <th>3</th>\n",
              "      <td>1</td>\n",
              "      <td>89</td>\n",
              "      <td>66</td>\n",
              "      <td>23</td>\n",
              "      <td>94</td>\n",
              "      <td>28.1</td>\n",
              "      <td>0.167</td>\n",
              "      <td>21</td>\n",
              "      <td>0</td>\n",
              "    </tr>\n",
              "    <tr>\n",
              "      <th>4</th>\n",
              "      <td>0</td>\n",
              "      <td>137</td>\n",
              "      <td>40</td>\n",
              "      <td>35</td>\n",
              "      <td>168</td>\n",
              "      <td>43.1</td>\n",
              "      <td>2.288</td>\n",
              "      <td>33</td>\n",
              "      <td>1</td>\n",
              "    </tr>\n",
              "  </tbody>\n",
              "</table>\n",
              "</div>"
            ],
            "text/plain": [
              "   Pregnancies  Glucose  BloodPressure  SkinThickness  Insulin   BMI  \\\n",
              "0            6      148             72             35        0  33.6   \n",
              "1            1       85             66             29        0  26.6   \n",
              "2            8      183             64              0        0  23.3   \n",
              "3            1       89             66             23       94  28.1   \n",
              "4            0      137             40             35      168  43.1   \n",
              "\n",
              "   DiabetesPedigreeFunction  Age  Outcome  \n",
              "0                     0.627   50        1  \n",
              "1                     0.351   31        0  \n",
              "2                     0.672   32        1  \n",
              "3                     0.167   21        0  \n",
              "4                     2.288   33        1  "
            ]
          },
          "execution_count": 32,
          "metadata": {},
          "output_type": "execute_result"
        }
      ],
      "source": [
        "diabetes.head()"
      ]
    },
    {
      "cell_type": "code",
      "execution_count": 33,
      "metadata": {
        "id": "nLRWMDVyZ8zh"
      },
      "outputs": [],
      "source": [
        "diabetes_data = diabetes.copy(deep = True)\n",
        "#Replace the zero values to Nan, it is easy to count the null values\n",
        "diabetes_data[['Glucose','BloodPressure','SkinThickness','Insulin','BMI']] = diabetes_data[['Glucose','BloodPressure','SkinThickness','Insulin','BMI']].replace(0,np.NaN)"
      ]
    },
    {
      "cell_type": "code",
      "execution_count": 34,
      "metadata": {
        "colab": {
          "base_uri": "https://localhost:8080/"
        },
        "id": "WbsAIfaGX6wR",
        "outputId": "5b1c7ea8-e1b7-4f34-9946-4f42a23d27ba"
      },
      "outputs": [
        {
          "name": "stdout",
          "output_type": "stream",
          "text": [
            "               n_miss  ratio\n",
            "Insulin           374  48.70\n",
            "SkinThickness     227  29.56\n",
            "BloodPressure      35   4.56\n",
            "BMI                11   1.43\n",
            "Glucose             5   0.65\n",
            "Columns that will be applied ML model: ['Glucose', 'BloodPressure', 'BMI']\n",
            "Columns that will be filled with median: ['SkinThickness', 'Insulin']\n"
          ]
        }
      ],
      "source": [
        "na_cols = missing_values_table(diabetes_data, na_name=True) # columns that includes missing values\n",
        "n_miss = diabetes_data[na_cols].isnull().sum() # number of missing values on variables\n",
        "\n",
        "# 100 as a threshold, it is open to comment\n",
        "na_cols_ml = [i for i in n_miss.index if n_miss[i] < 100]\n",
        "na_cols_med = [i for i in n_miss.index if n_miss[i] > 100]\n",
        "print(\"Columns that will be applied ML model:\", na_cols_ml)\n",
        "print(\"Columns that will be filled with median:\", na_cols_med)"
      ]
    },
    {
      "cell_type": "code",
      "execution_count": 35,
      "metadata": {
        "colab": {
          "base_uri": "https://localhost:8080/"
        },
        "id": "FhSKxGGUaaa1",
        "outputId": "9aaeb4d5-17cf-406f-de9d-423f810d6142"
      },
      "outputs": [
        {
          "data": {
            "text/plain": [
              "Pregnancies                   3.0000\n",
              "Glucose                     117.0000\n",
              "BloodPressure                72.0000\n",
              "SkinThickness                29.0000\n",
              "Insulin                     125.0000\n",
              "BMI                          32.3000\n",
              "DiabetesPedigreeFunction      0.3725\n",
              "Age                          29.0000\n",
              "Outcome                       0.0000\n",
              "dtype: float64"
            ]
          },
          "execution_count": 35,
          "metadata": {},
          "output_type": "execute_result"
        }
      ],
      "source": [
        "medians = diabetes_data.median()\n",
        "medians"
      ]
    },
    {
      "cell_type": "code",
      "execution_count": 36,
      "metadata": {
        "id": "KniauB_6b7ma"
      },
      "outputs": [],
      "source": [
        "for cols in na_cols_med:\n",
        "  diabetes_data[cols] = diabetes_data[cols].fillna(medians[cols])"
      ]
    },
    {
      "cell_type": "code",
      "execution_count": 37,
      "metadata": {
        "colab": {
          "base_uri": "https://localhost:8080/",
          "height": 226
        },
        "id": "uAfdOoqncdw6",
        "outputId": "8f3ad06d-844c-4ba4-f7ce-838f5bb61eed"
      },
      "outputs": [
        {
          "data": {
            "text/html": [
              "<div>\n",
              "<style scoped>\n",
              "    .dataframe tbody tr th:only-of-type {\n",
              "        vertical-align: middle;\n",
              "    }\n",
              "\n",
              "    .dataframe tbody tr th {\n",
              "        vertical-align: top;\n",
              "    }\n",
              "\n",
              "    .dataframe thead th {\n",
              "        text-align: right;\n",
              "    }\n",
              "</style>\n",
              "<table border=\"1\" class=\"dataframe\">\n",
              "  <thead>\n",
              "    <tr style=\"text-align: right;\">\n",
              "      <th></th>\n",
              "      <th>Pregnancies</th>\n",
              "      <th>Glucose</th>\n",
              "      <th>BloodPressure</th>\n",
              "      <th>SkinThickness</th>\n",
              "      <th>Insulin</th>\n",
              "      <th>BMI</th>\n",
              "      <th>DiabetesPedigreeFunction</th>\n",
              "      <th>Age</th>\n",
              "      <th>Outcome</th>\n",
              "    </tr>\n",
              "  </thead>\n",
              "  <tbody>\n",
              "    <tr>\n",
              "      <th>0</th>\n",
              "      <td>6</td>\n",
              "      <td>148.0</td>\n",
              "      <td>72.0</td>\n",
              "      <td>35.0</td>\n",
              "      <td>125.0</td>\n",
              "      <td>33.6</td>\n",
              "      <td>0.627</td>\n",
              "      <td>50</td>\n",
              "      <td>1</td>\n",
              "    </tr>\n",
              "    <tr>\n",
              "      <th>1</th>\n",
              "      <td>1</td>\n",
              "      <td>85.0</td>\n",
              "      <td>66.0</td>\n",
              "      <td>29.0</td>\n",
              "      <td>125.0</td>\n",
              "      <td>26.6</td>\n",
              "      <td>0.351</td>\n",
              "      <td>31</td>\n",
              "      <td>0</td>\n",
              "    </tr>\n",
              "    <tr>\n",
              "      <th>2</th>\n",
              "      <td>8</td>\n",
              "      <td>183.0</td>\n",
              "      <td>64.0</td>\n",
              "      <td>29.0</td>\n",
              "      <td>125.0</td>\n",
              "      <td>23.3</td>\n",
              "      <td>0.672</td>\n",
              "      <td>32</td>\n",
              "      <td>1</td>\n",
              "    </tr>\n",
              "    <tr>\n",
              "      <th>3</th>\n",
              "      <td>1</td>\n",
              "      <td>89.0</td>\n",
              "      <td>66.0</td>\n",
              "      <td>23.0</td>\n",
              "      <td>94.0</td>\n",
              "      <td>28.1</td>\n",
              "      <td>0.167</td>\n",
              "      <td>21</td>\n",
              "      <td>0</td>\n",
              "    </tr>\n",
              "    <tr>\n",
              "      <th>4</th>\n",
              "      <td>0</td>\n",
              "      <td>137.0</td>\n",
              "      <td>40.0</td>\n",
              "      <td>35.0</td>\n",
              "      <td>168.0</td>\n",
              "      <td>43.1</td>\n",
              "      <td>2.288</td>\n",
              "      <td>33</td>\n",
              "      <td>1</td>\n",
              "    </tr>\n",
              "  </tbody>\n",
              "</table>\n",
              "</div>"
            ],
            "text/plain": [
              "   Pregnancies  Glucose  BloodPressure  SkinThickness  Insulin   BMI  \\\n",
              "0            6    148.0           72.0           35.0    125.0  33.6   \n",
              "1            1     85.0           66.0           29.0    125.0  26.6   \n",
              "2            8    183.0           64.0           29.0    125.0  23.3   \n",
              "3            1     89.0           66.0           23.0     94.0  28.1   \n",
              "4            0    137.0           40.0           35.0    168.0  43.1   \n",
              "\n",
              "   DiabetesPedigreeFunction  Age  Outcome  \n",
              "0                     0.627   50        1  \n",
              "1                     0.351   31        0  \n",
              "2                     0.672   32        1  \n",
              "3                     0.167   21        0  \n",
              "4                     2.288   33        1  "
            ]
          },
          "execution_count": 37,
          "metadata": {},
          "output_type": "execute_result"
        }
      ],
      "source": [
        "diabetes_data.head()"
      ]
    },
    {
      "cell_type": "code",
      "execution_count": 38,
      "metadata": {
        "colab": {
          "base_uri": "https://localhost:8080/"
        },
        "id": "hV7gdvpwctwN",
        "outputId": "37b64365-ed45-43f5-8e51-0038a4021769"
      },
      "outputs": [
        {
          "name": "stdout",
          "output_type": "stream",
          "text": [
            "    Glucose  BloodPressure       BMI\n",
            "0  0.670968       0.489796  0.314928\n",
            "1  0.264516       0.428571  0.171779\n",
            "2  0.896774       0.408163  0.104294\n",
            "3  0.290323       0.428571  0.202454\n",
            "4  0.600000       0.163265  0.509202\n"
          ]
        }
      ],
      "source": [
        "scaler = MinMaxScaler()\n",
        "diabetes_data[na_cols_ml] = pd.DataFrame(scaler.fit_transform(diabetes_data[na_cols_ml]), columns=diabetes_data[na_cols_ml].columns)\n",
        "print(diabetes_data[na_cols_ml].head())"
      ]
    },
    {
      "cell_type": "code",
      "execution_count": 39,
      "metadata": {
        "colab": {
          "base_uri": "https://localhost:8080/"
        },
        "id": "gS8rjvlQcvMX",
        "outputId": "6bc7fe72-4c80-4c45-b998-8194c4910dcf"
      },
      "outputs": [
        {
          "name": "stdout",
          "output_type": "stream",
          "text": [
            "    Glucose  BloodPressure       BMI\n",
            "0  0.670968       0.489796  0.314928\n",
            "1  0.264516       0.428571  0.171779\n",
            "2  0.896774       0.408163  0.104294\n",
            "3  0.290323       0.428571  0.202454\n",
            "4  0.600000       0.163265  0.509202\n"
          ]
        }
      ],
      "source": [
        "imputer = KNNImputer(n_neighbors=5)\n",
        "diabetes_data[na_cols_ml] = pd.DataFrame(imputer.fit_transform(diabetes_data[na_cols_ml]), columns=diabetes_data[na_cols_ml].columns)\n",
        "print(diabetes_data[na_cols_ml].head())"
      ]
    },
    {
      "cell_type": "code",
      "execution_count": 40,
      "metadata": {
        "colab": {
          "base_uri": "https://localhost:8080/"
        },
        "id": "xZ_Vc-huvFjQ",
        "outputId": "76dcb25f-a5c3-40ab-bf6b-6661cea39ac3"
      },
      "outputs": [
        {
          "name": "stdout",
          "output_type": "stream",
          "text": [
            "<class 'pandas.core.frame.DataFrame'>\n",
            "RangeIndex: 768 entries, 0 to 767\n",
            "Data columns (total 9 columns):\n",
            " #   Column                    Non-Null Count  Dtype  \n",
            "---  ------                    --------------  -----  \n",
            " 0   Pregnancies               768 non-null    int64  \n",
            " 1   Glucose                   768 non-null    float64\n",
            " 2   BloodPressure             768 non-null    float64\n",
            " 3   SkinThickness             768 non-null    float64\n",
            " 4   Insulin                   768 non-null    float64\n",
            " 5   BMI                       768 non-null    float64\n",
            " 6   DiabetesPedigreeFunction  768 non-null    float64\n",
            " 7   Age                       768 non-null    int64  \n",
            " 8   Outcome                   768 non-null    int64  \n",
            "dtypes: float64(6), int64(3)\n",
            "memory usage: 54.1 KB\n"
          ]
        }
      ],
      "source": [
        "diabetes_data.info()"
      ]
    },
    {
      "cell_type": "code",
      "execution_count": 41,
      "metadata": {
        "colab": {
          "base_uri": "https://localhost:8080/"
        },
        "id": "gw2I7ak1dCs1",
        "outputId": "72730937-08e9-4a65-d18f-4cfceedaf0b2"
      },
      "outputs": [
        {
          "name": "stdout",
          "output_type": "stream",
          "text": [
            "   Glucose  BloodPressure   BMI\n",
            "0    148.0           72.0  33.6\n",
            "1     85.0           66.0  26.6\n",
            "2    183.0           64.0  23.3\n",
            "3     89.0           66.0  28.1\n",
            "4    137.0           40.0  43.1\n"
          ]
        }
      ],
      "source": [
        "diabetes_data[na_cols_ml] = pd.DataFrame(scaler.inverse_transform(diabetes_data[na_cols_ml]), columns=diabetes_data[na_cols_ml].columns)\n",
        "print(diabetes_data[na_cols_ml].head())"
      ]
    },
    {
      "cell_type": "code",
      "execution_count": 42,
      "metadata": {
        "colab": {
          "base_uri": "https://localhost:8080/",
          "height": 682
        },
        "id": "Xv7a9tIPdOyz",
        "outputId": "543c5edd-4398-429b-d95f-64ae5cf0d04f"
      },
      "outputs": [
        {
          "data": {
            "text/html": [
              "<div>\n",
              "<style scoped>\n",
              "    .dataframe tbody tr th:only-of-type {\n",
              "        vertical-align: middle;\n",
              "    }\n",
              "\n",
              "    .dataframe tbody tr th {\n",
              "        vertical-align: top;\n",
              "    }\n",
              "\n",
              "    .dataframe thead th {\n",
              "        text-align: right;\n",
              "    }\n",
              "</style>\n",
              "<table border=\"1\" class=\"dataframe\">\n",
              "  <thead>\n",
              "    <tr style=\"text-align: right;\">\n",
              "      <th></th>\n",
              "      <th>count</th>\n",
              "      <th>mean</th>\n",
              "      <th>std</th>\n",
              "      <th>min</th>\n",
              "      <th>25%</th>\n",
              "      <th>50%</th>\n",
              "      <th>75%</th>\n",
              "      <th>max</th>\n",
              "    </tr>\n",
              "  </thead>\n",
              "  <tbody>\n",
              "    <tr>\n",
              "      <th>Pregnancies</th>\n",
              "      <td>768.0</td>\n",
              "      <td>3.845052</td>\n",
              "      <td>3.369578</td>\n",
              "      <td>0.000</td>\n",
              "      <td>1.00000</td>\n",
              "      <td>3.0000</td>\n",
              "      <td>6.00000</td>\n",
              "      <td>17.00</td>\n",
              "    </tr>\n",
              "    <tr>\n",
              "      <th>Glucose</th>\n",
              "      <td>768.0</td>\n",
              "      <td>121.674219</td>\n",
              "      <td>30.445229</td>\n",
              "      <td>44.000</td>\n",
              "      <td>99.75000</td>\n",
              "      <td>117.0000</td>\n",
              "      <td>140.25000</td>\n",
              "      <td>199.00</td>\n",
              "    </tr>\n",
              "    <tr>\n",
              "      <th>BloodPressure</th>\n",
              "      <td>768.0</td>\n",
              "      <td>72.408073</td>\n",
              "      <td>12.203100</td>\n",
              "      <td>24.000</td>\n",
              "      <td>64.00000</td>\n",
              "      <td>72.0000</td>\n",
              "      <td>80.00000</td>\n",
              "      <td>122.00</td>\n",
              "    </tr>\n",
              "    <tr>\n",
              "      <th>SkinThickness</th>\n",
              "      <td>768.0</td>\n",
              "      <td>29.108073</td>\n",
              "      <td>8.791221</td>\n",
              "      <td>7.000</td>\n",
              "      <td>25.00000</td>\n",
              "      <td>29.0000</td>\n",
              "      <td>32.00000</td>\n",
              "      <td>99.00</td>\n",
              "    </tr>\n",
              "    <tr>\n",
              "      <th>Insulin</th>\n",
              "      <td>768.0</td>\n",
              "      <td>140.671875</td>\n",
              "      <td>86.383060</td>\n",
              "      <td>14.000</td>\n",
              "      <td>121.50000</td>\n",
              "      <td>125.0000</td>\n",
              "      <td>127.25000</td>\n",
              "      <td>846.00</td>\n",
              "    </tr>\n",
              "    <tr>\n",
              "      <th>BMI</th>\n",
              "      <td>768.0</td>\n",
              "      <td>32.455703</td>\n",
              "      <td>6.883265</td>\n",
              "      <td>18.200</td>\n",
              "      <td>27.50000</td>\n",
              "      <td>32.3000</td>\n",
              "      <td>36.60000</td>\n",
              "      <td>67.10</td>\n",
              "    </tr>\n",
              "    <tr>\n",
              "      <th>DiabetesPedigreeFunction</th>\n",
              "      <td>768.0</td>\n",
              "      <td>0.471876</td>\n",
              "      <td>0.331329</td>\n",
              "      <td>0.078</td>\n",
              "      <td>0.24375</td>\n",
              "      <td>0.3725</td>\n",
              "      <td>0.62625</td>\n",
              "      <td>2.42</td>\n",
              "    </tr>\n",
              "    <tr>\n",
              "      <th>Age</th>\n",
              "      <td>768.0</td>\n",
              "      <td>33.240885</td>\n",
              "      <td>11.760232</td>\n",
              "      <td>21.000</td>\n",
              "      <td>24.00000</td>\n",
              "      <td>29.0000</td>\n",
              "      <td>41.00000</td>\n",
              "      <td>81.00</td>\n",
              "    </tr>\n",
              "    <tr>\n",
              "      <th>Outcome</th>\n",
              "      <td>768.0</td>\n",
              "      <td>0.348958</td>\n",
              "      <td>0.476951</td>\n",
              "      <td>0.000</td>\n",
              "      <td>0.00000</td>\n",
              "      <td>0.0000</td>\n",
              "      <td>1.00000</td>\n",
              "      <td>1.00</td>\n",
              "    </tr>\n",
              "  </tbody>\n",
              "</table>\n",
              "</div>"
            ],
            "text/plain": [
              "                          count        mean        std     min        25%  \\\n",
              "Pregnancies               768.0    3.845052   3.369578   0.000    1.00000   \n",
              "Glucose                   768.0  121.674219  30.445229  44.000   99.75000   \n",
              "BloodPressure             768.0   72.408073  12.203100  24.000   64.00000   \n",
              "SkinThickness             768.0   29.108073   8.791221   7.000   25.00000   \n",
              "Insulin                   768.0  140.671875  86.383060  14.000  121.50000   \n",
              "BMI                       768.0   32.455703   6.883265  18.200   27.50000   \n",
              "DiabetesPedigreeFunction  768.0    0.471876   0.331329   0.078    0.24375   \n",
              "Age                       768.0   33.240885  11.760232  21.000   24.00000   \n",
              "Outcome                   768.0    0.348958   0.476951   0.000    0.00000   \n",
              "\n",
              "                               50%        75%     max  \n",
              "Pregnancies                 3.0000    6.00000   17.00  \n",
              "Glucose                   117.0000  140.25000  199.00  \n",
              "BloodPressure              72.0000   80.00000  122.00  \n",
              "SkinThickness              29.0000   32.00000   99.00  \n",
              "Insulin                   125.0000  127.25000  846.00  \n",
              "BMI                        32.3000   36.60000   67.10  \n",
              "DiabetesPedigreeFunction    0.3725    0.62625    2.42  \n",
              "Age                        29.0000   41.00000   81.00  \n",
              "Outcome                     0.0000    1.00000    1.00  "
            ]
          },
          "execution_count": 42,
          "metadata": {},
          "output_type": "execute_result"
        }
      ],
      "source": [
        "diabetes_data.describe().T"
      ]
    },
    {
      "cell_type": "code",
      "execution_count": 43,
      "metadata": {
        "colab": {
          "base_uri": "https://localhost:8080/"
        },
        "id": "SazhC4ZRL0sJ",
        "outputId": "75e7fcfc-b793-4328-a3bf-7d0b0c1f9b23"
      },
      "outputs": [
        {
          "name": "stdout",
          "output_type": "stream",
          "text": [
            "<class 'pandas.core.frame.DataFrame'>\n",
            "RangeIndex: 768 entries, 0 to 767\n",
            "Data columns (total 9 columns):\n",
            " #   Column                    Non-Null Count  Dtype  \n",
            "---  ------                    --------------  -----  \n",
            " 0   Pregnancies               768 non-null    int64  \n",
            " 1   Glucose                   768 non-null    float64\n",
            " 2   BloodPressure             768 non-null    float64\n",
            " 3   SkinThickness             768 non-null    float64\n",
            " 4   Insulin                   768 non-null    float64\n",
            " 5   BMI                       768 non-null    float64\n",
            " 6   DiabetesPedigreeFunction  768 non-null    float64\n",
            " 7   Age                       768 non-null    int64  \n",
            " 8   Outcome                   768 non-null    int64  \n",
            "dtypes: float64(6), int64(3)\n",
            "memory usage: 54.1 KB\n"
          ]
        }
      ],
      "source": [
        "diabetes_data.info()"
      ]
    },
    {
      "cell_type": "markdown",
      "metadata": {
        "id": "b-fFy317dk_W"
      },
      "source": [
        "# Outliers\n",
        "  * Local Outlier Factor (LOF): Helps to define outliers accordingly by ordering the observations based on the density at their location. <br>\n",
        "  \n",
        "  The local density of a point mean the neigborhoods around that point. <br>\n",
        "  \n",
        "  If a point is significantly less dense than its neigbors, then that point is in a more sparce region, so there may be an outlier. The LOF method allows us to calculate a distance score based on neighborhoods. <br>\n",
        "\n",
        "\n",
        "  LOF computes the local density deviation of a given data point with respect to its neighbors\n",
        "\n"
      ]
    },
    {
      "cell_type": "markdown",
      "metadata": {
        "id": "L4rGD-z8etqO"
      },
      "source": [
        "![imagen.png](data:image/png;base64,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)"
      ]
    },
    {
      "cell_type": "markdown",
      "metadata": {
        "id": "Of3-iEIJev2t"
      },
      "source": [
        "LOF methods provides a score, the closer the score to 1, the better. If the score is away from 1, the probability of the observation being outlier increases. The LOF method is also used to compute thresholds."
      ]
    },
    {
      "cell_type": "markdown",
      "metadata": {
        "id": "6ttM7a0RfNU6"
      },
      "source": [
        "### Example\n",
        " We have \"Age\" and \"Pregnancies\" variables, if you observe the data separately, may not be any outlier. But analyze together and you may find strange data.\n",
        "\n",
        "\n",
        "\n",
        " ### IMAGINE AN EXAMPLE OF A POSSIBLE OUTLIER:\n",
        " *15 year old woman with 5 children*\n",
        "\n",
        "\n"
      ]
    },
    {
      "cell_type": "code",
      "execution_count": 44,
      "metadata": {
        "id": "LbVbsAEuf9tu"
      },
      "outputs": [],
      "source": [
        "from sklearn.neighbors import LocalOutlierFactor"
      ]
    },
    {
      "cell_type": "code",
      "execution_count": 46,
      "metadata": {
        "id": "H7kqUnUrfK8G"
      },
      "outputs": [],
      "source": [
        "### Example\n",
        "clf = LocalOutlierFactor(n_neighbors=20)"
      ]
    },
    {
      "cell_type": "markdown",
      "metadata": {
        "id": "KxAAFH1ki2y9"
      },
      "source": [
        "```negative_outlier_factor``` - The opposite LOF of the training samples. The higher, the more normal.  Inliers tend to have a LOF score close to 1, but neg_outlier_factor is close to -1"
      ]
    },
    {
      "cell_type": "code",
      "execution_count": 47,
      "metadata": {
        "id": "TyIcjttTf90R"
      },
      "outputs": [],
      "source": [
        "clf.fit_predict(diabetes_data)  # returns LOF scores\n",
        "df_scores = clf.negative_outlier_factor_ # keep scores to observe (negative)"
      ]
    },
    {
      "cell_type": "code",
      "execution_count": 48,
      "metadata": {
        "colab": {
          "base_uri": "https://localhost:8080/"
        },
        "id": "3XJYnGWGhy18",
        "outputId": "9114dc3f-958d-4c81-fa90-acffc90f74eb"
      },
      "outputs": [
        {
          "data": {
            "text/plain": [
              "768"
            ]
          },
          "execution_count": 48,
          "metadata": {},
          "output_type": "execute_result"
        }
      ],
      "source": [
        "len(df_scores)"
      ]
    },
    {
      "cell_type": "code",
      "execution_count": 97,
      "metadata": {
        "id": "ElTRdDGriQj2"
      },
      "outputs": [
        {
          "data": {
            "text/plain": [
              "array([-1.01906445, -0.99409969, -1.0618044 , -0.99163597, -1.27904191,\n",
              "       -0.97128896, -1.1089918 , -1.00348171, -1.24064769, -1.14063425,\n",
              "       -1.09671075, -0.97663031, -1.04008144, -2.59693313, -1.0857331 ,\n",
              "       -0.99648909, -1.0650121 , -0.98194987, -1.49632425, -1.01805197,\n",
              "       -1.05772178, -1.03248834, -1.07503642, -1.05006159, -1.26345491,\n",
              "       -1.06208584, -0.99975993, -1.34854894, -1.19852736, -1.0769009 ,\n",
              "       -1.05181828, -1.04146486, -0.96641051, -1.37325491, -1.01483629,\n",
              "       -1.01362057, -0.99102249, -1.01821415, -1.11858711, -1.07268205,\n",
              "       -1.78813655, -1.00065524, -1.22336943, -1.15637862, -1.01233728,\n",
              "       -1.06042246, -1.08879832, -1.09531828, -1.03605961, -0.95651573,\n",
              "       -1.07354912, -1.09754763, -1.13968333, -0.9984802 , -1.04953709,\n",
              "       -1.49226736, -1.00510327, -1.62979205, -1.01863976, -1.46433427,\n",
              "       -1.05151976, -0.99980038, -1.6458485 , -1.12121517, -1.01712843,\n",
              "       -0.99894573, -1.09123479, -1.14060708, -1.011944  , -1.51027291,\n",
              "       -0.98290623, -1.20183728, -1.09454762, -1.05751697, -1.05232427,\n",
              "       -1.3424765 , -1.27836217, -1.01223899, -1.03869531, -0.98403758,\n",
              "       -1.50658846, -1.08606499, -1.04451642, -0.96888658, -1.43315637,\n",
              "       -0.97274742, -1.42702473, -0.96708765, -1.2931728 , -1.01505986,\n",
              "       -1.14501214, -0.99935155, -1.15779994, -1.07458857, -1.26992341,\n",
              "       -1.03169311, -0.98000607, -1.28515288, -1.01201971, -1.07738642,\n",
              "       -0.99687623, -1.11909367, -1.26602123, -1.00090058, -1.02859423,\n",
              "       -1.17539154, -2.02249122, -1.17646278, -1.26086037, -1.15431784,\n",
              "       -1.01167793, -1.14263383, -1.07004869, -1.06377644, -1.12022374,\n",
              "       -1.04398299, -0.98168003, -1.27361726, -0.99016163, -0.98302906,\n",
              "       -1.64781187, -1.11097491, -1.00828798, -1.0920744 , -1.01470051,\n",
              "       -1.93134007, -1.22073835, -1.02724214, -1.40199722, -1.0688451 ,\n",
              "       -1.15200718, -1.13318616, -1.07881028, -1.05857217, -0.98161936,\n",
              "       -1.37496113, -0.98708808, -1.00670898, -0.98305001, -1.05464272,\n",
              "       -1.04988733, -1.06321727, -1.08820238, -1.03458509, -0.98989918,\n",
              "       -1.06109966, -1.44736155, -1.10260698, -1.04226079, -1.04696575,\n",
              "       -0.99725461, -1.0528967 , -1.18244176, -1.12969113, -1.03737923,\n",
              "       -1.17670407, -1.06158518, -1.22765574, -0.98381171, -1.22023501,\n",
              "       -1.0786022 , -1.29939659, -1.06530869, -0.98303324, -1.01053304,\n",
              "       -1.15205873, -1.03480737, -0.98668509, -0.96237574, -1.17259128,\n",
              "       -1.02071493, -1.01227403, -0.9791565 , -1.13053916, -1.02395074,\n",
              "       -0.99892745, -1.04322067, -1.87373327, -1.04409222, -0.97467338,\n",
              "       -1.0957933 , -1.03519461, -1.39364348, -1.09148323, -0.98383322,\n",
              "       -1.03915492, -1.15296501, -1.29524952, -1.33163026, -1.04231729,\n",
              "       -0.99369904, -1.16968358, -1.00207623, -1.23061228, -1.27439206,\n",
              "       -1.05328934, -1.02294713, -1.02894717, -1.08355696, -1.00766467,\n",
              "       -1.28095793, -0.99069006, -1.03428327, -0.98820281, -1.10823497,\n",
              "       -0.97211779, -1.07824588, -1.21376532, -0.97986798, -1.00096423,\n",
              "       -1.03992216, -1.38364464, -1.11007332, -1.09292561, -1.00849446,\n",
              "       -1.00962879, -1.18882993, -1.00148211, -1.01709947, -1.02486754,\n",
              "       -1.12812006, -1.08261227, -0.99081179, -1.16402509, -0.99012258,\n",
              "       -1.09436507, -1.00577351, -1.21346722, -1.99003552, -1.20846841,\n",
              "       -1.11534554, -1.11830989, -1.08195074, -0.99045623, -1.05299979,\n",
              "       -0.99092534, -1.12674669, -1.07415039, -1.02264057, -1.14334113,\n",
              "       -0.97338752, -0.97689355, -1.14006635, -1.00692595, -1.00112326,\n",
              "       -1.08998482, -0.98938384, -1.66590066, -1.15763945, -1.23910492,\n",
              "       -1.3034466 , -1.03236581, -1.00252086, -0.9950751 , -1.45287803,\n",
              "       -1.03279237, -1.20463846, -0.96317822, -1.23779479, -1.2427525 ,\n",
              "       -1.13520982, -0.9853432 , -0.98044066, -1.08612195, -1.01750193,\n",
              "       -1.07774387, -1.00283882, -1.23160009, -1.11670081, -0.98974181,\n",
              "       -1.08362087, -1.05217993, -1.03551851, -1.16273762, -1.02183746,\n",
              "       -1.15337299, -0.99813902, -1.04383479, -1.03312639, -1.12735088,\n",
              "       -1.00051199, -0.9944466 , -1.17538331, -1.03544594, -1.00376484,\n",
              "       -1.06352935, -1.23910304, -1.02451556, -0.9887427 , -1.07013126,\n",
              "       -1.12855405, -0.99217083, -0.97620479, -1.08616045, -1.54310911,\n",
              "       -1.0521592 , -1.09059475, -1.01558616, -1.08658506, -1.06496154,\n",
              "       -0.97058883, -1.15646081, -1.1315777 , -1.34193646, -1.03190742,\n",
              "       -1.24375831, -1.04127051, -1.3678181 , -0.97711398, -0.9885036 ,\n",
              "       -1.05554688, -1.49889358, -1.5859355 , -1.12563501, -1.01015527,\n",
              "       -0.98961577, -1.05371906, -1.01740943, -1.32639875, -1.17128526,\n",
              "       -1.14350965, -0.98419673, -1.08018687, -1.63576296, -1.03888242,\n",
              "       -1.04032295, -1.05175414, -0.98982718, -1.24150632, -1.03967425,\n",
              "       -1.09112482, -0.96838857, -0.99723663, -1.05204618, -0.97739331,\n",
              "       -1.04661565, -1.02588285, -0.99620681, -1.03123427, -0.98160431,\n",
              "       -1.29928549, -0.99811562, -1.00359072, -1.01373276, -1.07151034,\n",
              "       -1.31117525, -1.42719823, -1.03034118, -0.96309264, -1.00022854,\n",
              "       -1.1056121 , -0.96639261, -1.38377703, -0.98833259, -1.10870918,\n",
              "       -1.0343215 , -1.04672029, -0.99970422, -1.22934836, -1.09559813,\n",
              "       -1.05048901, -1.09593175, -1.57074517, -1.07572336, -0.99172618,\n",
              "       -0.99784693, -0.97414213, -1.05722013, -1.07168908, -1.3704689 ,\n",
              "       -1.11488922, -1.01068939, -0.98464611, -0.99047963, -1.09329018,\n",
              "       -1.02922644, -1.01442312, -1.01324964, -1.02878705, -1.34404294,\n",
              "       -0.98027824, -1.02195273, -1.03536265, -0.95422454, -1.25587753,\n",
              "       -1.23028427, -0.96735571, -1.22205202, -1.00357855, -0.97243852,\n",
              "       -1.01516634, -1.0171985 , -1.16941003, -1.1055172 , -1.00308442,\n",
              "       -1.06261061, -1.36839781, -1.13004598, -1.06699743, -1.06505412,\n",
              "       -0.98293084, -1.20755946, -1.20357606, -1.10131539, -1.00293501,\n",
              "       -1.07341065, -1.00288124, -0.98788565, -1.08282139, -1.29402246,\n",
              "       -1.20879804, -0.97925892, -0.99925212, -1.26200859, -1.03039124,\n",
              "       -1.12322446, -0.99904811, -0.99394979, -1.06885453, -1.10148862,\n",
              "       -1.06426266, -0.97226259, -1.05232242, -0.99528145, -1.03576746,\n",
              "       -1.03154929, -0.95648921, -1.12828246, -1.37028714, -1.08755172,\n",
              "       -1.03211415, -1.03439102, -1.01765469, -0.99308777, -1.36205515,\n",
              "       -1.01153905, -1.01610262, -0.98343935, -1.16623032, -1.10182806,\n",
              "       -1.18064221, -0.97789481, -0.9968707 , -0.97203129, -1.33021893,\n",
              "       -2.4153327 , -0.99796783, -1.09371784, -1.04710711, -1.13405893,\n",
              "       -1.09533201, -1.00554448, -1.08673364, -1.2039646 , -1.16582219,\n",
              "       -1.00637586, -1.37821006, -0.98322481, -1.06090958, -1.86260721,\n",
              "       -1.3478679 , -1.12551064, -1.12587404, -1.05612473, -1.20650121,\n",
              "       -1.32206532, -1.17739435, -1.00042405, -0.99965166, -1.21252791,\n",
              "       -1.07916033, -1.02669026, -1.04438377, -1.03496289, -0.98124503,\n",
              "       -1.0574231 , -0.99866337, -1.45149369, -1.16919155, -1.05895763,\n",
              "       -1.01309924, -1.041486  , -0.97524355, -1.15066137, -1.03649029,\n",
              "       -1.06630823, -1.13311342, -1.04570523, -1.08147859, -1.28110379,\n",
              "       -1.00258881, -1.1033492 , -1.06415599, -1.08359293, -1.03203576,\n",
              "       -1.12678153, -0.96670447, -1.01251387, -1.31897992, -1.0403348 ,\n",
              "       -1.20040192, -1.03229116, -1.09806269, -1.00675244, -1.05656253,\n",
              "       -1.09844981, -1.49820761, -0.98768658, -1.03185825, -1.08496986,\n",
              "       -1.08355446, -1.06316824, -1.14636988, -0.97432494, -0.99978203,\n",
              "       -1.28961012, -1.14168196, -1.05573719, -1.18875861, -1.07604081,\n",
              "       -1.1055418 , -1.03027846, -0.96835114, -1.0096376 , -1.07529154,\n",
              "       -1.07386151, -0.99331724, -1.17907198, -0.97985086, -0.98132977,\n",
              "       -1.18381716, -1.13835019, -1.12656885, -0.98260159, -1.05113186,\n",
              "       -0.98148113, -1.06561777, -1.81839254, -0.99499583, -1.35200716,\n",
              "       -1.03912672, -0.96859322, -1.16331548, -1.09368872, -0.98827614,\n",
              "       -1.11650829, -1.13863386, -0.99698866, -1.44607236, -1.29333844,\n",
              "       -0.98943486, -1.2492779 , -1.11030757, -0.97955365, -1.13439801,\n",
              "       -1.02340653, -1.09791034, -1.03025061, -1.18316595, -1.05204521,\n",
              "       -1.03554102, -1.05704697, -0.98271166, -0.99085682, -1.02894438,\n",
              "       -1.01860027, -1.30965245, -1.12408778, -0.98530368, -0.97906452,\n",
              "       -1.04982785, -1.28134759, -1.15100033, -1.14419701, -1.0189902 ,\n",
              "       -1.35924065, -1.50547993, -1.11569323, -1.01904765, -2.80654993,\n",
              "       -1.2617082 , -0.98432867, -1.11750076, -1.06304801, -1.35604762,\n",
              "       -1.22135137, -1.02072057, -0.96738333, -1.30704389, -1.15733081,\n",
              "       -1.18338624, -1.54938789, -0.99384462, -1.22072966, -1.03621964,\n",
              "       -1.19913303, -1.38044178, -1.79099222, -0.965024  , -1.60294708,\n",
              "       -1.25805957, -0.97837871, -0.98866495, -1.0178661 , -1.01092726,\n",
              "       -1.07607715, -1.00214341, -0.99726409, -1.02026395, -0.99258468,\n",
              "       -1.10688378, -1.06599412, -1.01142423, -1.00771075, -1.29261299,\n",
              "       -0.97764529, -1.1131105 , -1.47944631, -1.01880253, -0.99230106,\n",
              "       -1.06969632, -1.06458731, -1.08814016, -1.20629068, -0.98511378,\n",
              "       -1.1334735 , -1.04936601, -0.99443931, -1.00103292, -0.98613049,\n",
              "       -0.97801718, -1.01520138, -0.98896622, -0.98666148, -1.03864503,\n",
              "       -1.03200618, -0.99076204, -0.97293249, -0.99816799, -1.00269507,\n",
              "       -1.44252556, -0.99984426, -1.01114443, -1.00783519, -1.35073969,\n",
              "       -1.1307015 , -1.26785983, -1.45975569, -1.02622212, -1.00559976,\n",
              "       -1.07767343, -1.13844689, -1.07211507, -1.14193243, -1.15643063,\n",
              "       -1.21781887, -1.00273305, -1.00588145, -1.24976078, -1.05175772,\n",
              "       -1.04634307, -1.24886907, -1.1624559 , -1.11793133, -1.11877018,\n",
              "       -1.32663299, -1.1004446 , -1.00227993, -1.06324375, -1.31259948,\n",
              "       -1.11150863, -1.19811844, -1.56329374, -1.17702486, -1.29235342,\n",
              "       -1.0746992 , -1.02745379, -0.98470218, -1.25184857, -1.29494394,\n",
              "       -1.33947055, -1.08304176, -1.25614049, -1.00371989, -1.12567724,\n",
              "       -0.98942611, -1.08673839, -1.21849994, -0.97440084, -1.07582076,\n",
              "       -1.0407688 , -1.40500126, -1.04402218, -1.42862378, -0.99886222,\n",
              "       -1.13845939, -0.99602558, -0.96787729, -1.27896145, -1.13057997,\n",
              "       -0.96858845, -1.00837461, -1.02792573, -0.99223647, -1.04254056,\n",
              "       -1.07109758, -0.98855963, -1.0543769 , -0.97993978, -1.16262412,\n",
              "       -1.14863185, -1.56711901, -1.15809987, -1.01651082, -1.0002116 ,\n",
              "       -1.20911835, -1.06861324, -1.17533597, -1.00351424, -1.03443621,\n",
              "       -1.13358747, -0.97399159, -1.01930487, -1.31271064, -1.0834007 ,\n",
              "       -1.10852378, -0.98796283, -1.01837619, -1.14393336, -1.10969283,\n",
              "       -1.12668018, -1.11260091, -1.08731315, -1.02189082, -1.04501687,\n",
              "       -1.00976643, -1.10085931, -1.20381882, -1.19125403, -1.04428973,\n",
              "       -1.47242059, -1.0781773 , -1.17085437, -1.08469816, -1.21468643,\n",
              "       -1.40711998, -1.20221065, -1.10828758, -1.12529159, -1.11637649,\n",
              "       -1.00417708, -1.08901852, -0.99311398, -1.18319771, -0.99716103,\n",
              "       -1.2812422 , -1.09154626, -1.0392886 , -1.02461387, -1.20371448,\n",
              "       -1.27934351, -0.9994324 , -1.0831364 , -1.26117105, -0.9977579 ,\n",
              "       -1.19803711, -1.14128599, -0.97030766])"
            ]
          },
          "execution_count": 97,
          "metadata": {},
          "output_type": "execute_result"
        }
      ],
      "source": [
        "df_scores"
      ]
    },
    {
      "cell_type": "code",
      "execution_count": 49,
      "metadata": {
        "colab": {
          "base_uri": "https://localhost:8080/"
        },
        "id": "-5h-ADMggOq1",
        "outputId": "d73ccb86-ba6b-4ff7-8c0b-0052b2237057"
      },
      "outputs": [
        {
          "name": "stdout",
          "output_type": "stream",
          "text": [
            "[-1.01906445 -0.99409969 -1.0618044  -0.99163597 -1.27904191]\n",
            "[-2.80654993 -2.59693313 -2.4153327  -2.02249122 -1.99003552]\n"
          ]
        }
      ],
      "source": [
        "print(df_scores[0:5])\n",
        "print(np.sort(df_scores)[0:5])"
      ]
    },
    {
      "cell_type": "markdown",
      "metadata": {
        "id": "23otfZydgTbg"
      },
      "source": [
        "The ```negative_outlier_factor``` method gives scores as negative. Therefore, if the scores are close to -1, the result becomes not an outlier, not being close to -1 leads to outlier. For example, scores from -1 to -10, values close to -10 tend to be more outlier."
      ]
    },
    {
      "cell_type": "code",
      "execution_count": 50,
      "metadata": {
        "colab": {
          "base_uri": "https://localhost:8080/",
          "height": 448
        },
        "id": "T6oUbLa5hDOD",
        "outputId": "0f13392e-c6b8-4bfa-a1b5-0e56ae021427"
      },
      "outputs": [
        {
          "data": {
            "text/plain": [
              "<Axes: >"
            ]
          },
          "execution_count": 50,
          "metadata": {},
          "output_type": "execute_result"
        },
        {
          "data": {
            "image/png": "[encoded data removed]",
            "text/plain": [
              "<Figure size 640x480 with 1 Axes>"
            ]
          },
          "metadata": {},
          "output_type": "display_data"
        }
      ],
      "source": [
        "# elbow method\n",
        "scores = pd.DataFrame(np.sort(df_scores))\n",
        "scores.plot(stacked=True, xlim=[0, 20], style='.-')"
      ]
    },
    {
      "cell_type": "code",
      "execution_count": 54,
      "metadata": {
        "colab": {
          "base_uri": "https://localhost:8080/",
          "height": 178
        },
        "id": "63aiIM63iRnS",
        "outputId": "c09f38d8-b09d-4203-d1df-dabcdf132d8f"
      },
      "outputs": [
        {
          "data": {
            "text/plain": [
              "-2.0224912163725586"
            ]
          },
          "execution_count": 54,
          "metadata": {},
          "output_type": "execute_result"
        }
      ],
      "source": [
        "th = np.sort(df_scores)[3]\n",
        "th"
      ]
    },
    {
      "cell_type": "code",
      "execution_count": 55,
      "metadata": {
        "colab": {
          "base_uri": "https://localhost:8080/",
          "height": 163
        },
        "id": "Kj3rdjfPiRqz",
        "outputId": "31beefeb-538e-42d4-ff90-9a80fe6d76c7"
      },
      "outputs": [
        {
          "data": {
            "text/html": [
              "<div>\n",
              "<style scoped>\n",
              "    .dataframe tbody tr th:only-of-type {\n",
              "        vertical-align: middle;\n",
              "    }\n",
              "\n",
              "    .dataframe tbody tr th {\n",
              "        vertical-align: top;\n",
              "    }\n",
              "\n",
              "    .dataframe thead th {\n",
              "        text-align: right;\n",
              "    }\n",
              "</style>\n",
              "<table border=\"1\" class=\"dataframe\">\n",
              "  <thead>\n",
              "    <tr style=\"text-align: right;\">\n",
              "      <th></th>\n",
              "      <th>Pregnancies</th>\n",
              "      <th>Glucose</th>\n",
              "      <th>BloodPressure</th>\n",
              "      <th>SkinThickness</th>\n",
              "      <th>Insulin</th>\n",
              "      <th>BMI</th>\n",
              "      <th>DiabetesPedigreeFunction</th>\n",
              "      <th>Age</th>\n",
              "      <th>Outcome</th>\n",
              "    </tr>\n",
              "  </thead>\n",
              "  <tbody>\n",
              "    <tr>\n",
              "      <th>13</th>\n",
              "      <td>1</td>\n",
              "      <td>189.0</td>\n",
              "      <td>60.0</td>\n",
              "      <td>23.0</td>\n",
              "      <td>846.0</td>\n",
              "      <td>30.1</td>\n",
              "      <td>0.398</td>\n",
              "      <td>59</td>\n",
              "      <td>1</td>\n",
              "    </tr>\n",
              "    <tr>\n",
              "      <th>445</th>\n",
              "      <td>0</td>\n",
              "      <td>180.0</td>\n",
              "      <td>78.0</td>\n",
              "      <td>63.0</td>\n",
              "      <td>14.0</td>\n",
              "      <td>59.4</td>\n",
              "      <td>2.420</td>\n",
              "      <td>25</td>\n",
              "      <td>1</td>\n",
              "    </tr>\n",
              "    <tr>\n",
              "      <th>579</th>\n",
              "      <td>2</td>\n",
              "      <td>197.0</td>\n",
              "      <td>70.0</td>\n",
              "      <td>99.0</td>\n",
              "      <td>125.0</td>\n",
              "      <td>34.7</td>\n",
              "      <td>0.575</td>\n",
              "      <td>62</td>\n",
              "      <td>1</td>\n",
              "    </tr>\n",
              "  </tbody>\n",
              "</table>\n",
              "</div>"
            ],
            "text/plain": [
              "     Pregnancies  Glucose  BloodPressure  SkinThickness  Insulin   BMI  \\\n",
              "13             1    189.0           60.0           23.0    846.0  30.1   \n",
              "445            0    180.0           78.0           63.0     14.0  59.4   \n",
              "579            2    197.0           70.0           99.0    125.0  34.7   \n",
              "\n",
              "     DiabetesPedigreeFunction  Age  Outcome  \n",
              "13                      0.398   59        1  \n",
              "445                     2.420   25        1  \n",
              "579                     0.575   62        1  "
            ]
          },
          "execution_count": 55,
          "metadata": {},
          "output_type": "execute_result"
        }
      ],
      "source": [
        "diabetes_data[df_scores < th]"
      ]
    },
    {
      "cell_type": "code",
      "execution_count": 56,
      "metadata": {
        "colab": {
          "base_uri": "https://localhost:8080/",
          "height": 351
        },
        "id": "QmA1mmtdipM4",
        "outputId": "bbf8099d-ad5c-4458-bdce-f5ceb5f55c7e"
      },
      "outputs": [
        {
          "data": {
            "text/html": [
              "<div>\n",
              "<style scoped>\n",
              "    .dataframe tbody tr th:only-of-type {\n",
              "        vertical-align: middle;\n",
              "    }\n",
              "\n",
              "    .dataframe tbody tr th {\n",
              "        vertical-align: top;\n",
              "    }\n",
              "\n",
              "    .dataframe thead th {\n",
              "        text-align: right;\n",
              "    }\n",
              "</style>\n",
              "<table border=\"1\" class=\"dataframe\">\n",
              "  <thead>\n",
              "    <tr style=\"text-align: right;\">\n",
              "      <th></th>\n",
              "      <th>count</th>\n",
              "      <th>mean</th>\n",
              "      <th>std</th>\n",
              "      <th>min</th>\n",
              "      <th>1%</th>\n",
              "      <th>5%</th>\n",
              "      <th>25%</th>\n",
              "      <th>50%</th>\n",
              "      <th>75%</th>\n",
              "      <th>90%</th>\n",
              "      <th>99%</th>\n",
              "      <th>max</th>\n",
              "    </tr>\n",
              "  </thead>\n",
              "  <tbody>\n",
              "    <tr>\n",
              "      <th>Pregnancies</th>\n",
              "      <td>768.0</td>\n",
              "      <td>3.845052</td>\n",
              "      <td>3.369578</td>\n",
              "      <td>0.000</td>\n",
              "      <td>0.00000</td>\n",
              "      <td>0.00000</td>\n",
              "      <td>1.00000</td>\n",
              "      <td>3.0000</td>\n",
              "      <td>6.00000</td>\n",
              "      <td>9.0000</td>\n",
              "      <td>13.00000</td>\n",
              "      <td>17.00</td>\n",
              "    </tr>\n",
              "    <tr>\n",
              "      <th>Glucose</th>\n",
              "      <td>768.0</td>\n",
              "      <td>121.674219</td>\n",
              "      <td>30.445229</td>\n",
              "      <td>44.000</td>\n",
              "      <td>67.67000</td>\n",
              "      <td>80.00000</td>\n",
              "      <td>99.75000</td>\n",
              "      <td>117.0000</td>\n",
              "      <td>140.25000</td>\n",
              "      <td>167.0000</td>\n",
              "      <td>196.00000</td>\n",
              "      <td>199.00</td>\n",
              "    </tr>\n",
              "    <tr>\n",
              "      <th>BloodPressure</th>\n",
              "      <td>768.0</td>\n",
              "      <td>72.408073</td>\n",
              "      <td>12.203100</td>\n",
              "      <td>24.000</td>\n",
              "      <td>44.00000</td>\n",
              "      <td>52.00000</td>\n",
              "      <td>64.00000</td>\n",
              "      <td>72.0000</td>\n",
              "      <td>80.00000</td>\n",
              "      <td>88.0000</td>\n",
              "      <td>106.00000</td>\n",
              "      <td>122.00</td>\n",
              "    </tr>\n",
              "    <tr>\n",
              "      <th>SkinThickness</th>\n",
              "      <td>768.0</td>\n",
              "      <td>29.108073</td>\n",
              "      <td>8.791221</td>\n",
              "      <td>7.000</td>\n",
              "      <td>10.00000</td>\n",
              "      <td>14.35000</td>\n",
              "      <td>25.00000</td>\n",
              "      <td>29.0000</td>\n",
              "      <td>32.00000</td>\n",
              "      <td>40.0000</td>\n",
              "      <td>51.33000</td>\n",
              "      <td>99.00</td>\n",
              "    </tr>\n",
              "    <tr>\n",
              "      <th>Insulin</th>\n",
              "      <td>768.0</td>\n",
              "      <td>140.671875</td>\n",
              "      <td>86.383060</td>\n",
              "      <td>14.000</td>\n",
              "      <td>24.34000</td>\n",
              "      <td>50.00000</td>\n",
              "      <td>121.50000</td>\n",
              "      <td>125.0000</td>\n",
              "      <td>127.25000</td>\n",
              "      <td>210.0000</td>\n",
              "      <td>519.90000</td>\n",
              "      <td>846.00</td>\n",
              "    </tr>\n",
              "    <tr>\n",
              "      <th>BMI</th>\n",
              "      <td>768.0</td>\n",
              "      <td>32.455703</td>\n",
              "      <td>6.883265</td>\n",
              "      <td>18.200</td>\n",
              "      <td>19.50000</td>\n",
              "      <td>22.23500</td>\n",
              "      <td>27.50000</td>\n",
              "      <td>32.3000</td>\n",
              "      <td>36.60000</td>\n",
              "      <td>41.5000</td>\n",
              "      <td>50.75900</td>\n",
              "      <td>67.10</td>\n",
              "    </tr>\n",
              "    <tr>\n",
              "      <th>DiabetesPedigreeFunction</th>\n",
              "      <td>768.0</td>\n",
              "      <td>0.471876</td>\n",
              "      <td>0.331329</td>\n",
              "      <td>0.078</td>\n",
              "      <td>0.09468</td>\n",
              "      <td>0.14035</td>\n",
              "      <td>0.24375</td>\n",
              "      <td>0.3725</td>\n",
              "      <td>0.62625</td>\n",
              "      <td>0.8786</td>\n",
              "      <td>1.69833</td>\n",
              "      <td>2.42</td>\n",
              "    </tr>\n",
              "    <tr>\n",
              "      <th>Age</th>\n",
              "      <td>768.0</td>\n",
              "      <td>33.240885</td>\n",
              "      <td>11.760232</td>\n",
              "      <td>21.000</td>\n",
              "      <td>21.00000</td>\n",
              "      <td>21.00000</td>\n",
              "      <td>24.00000</td>\n",
              "      <td>29.0000</td>\n",
              "      <td>41.00000</td>\n",
              "      <td>51.0000</td>\n",
              "      <td>67.00000</td>\n",
              "      <td>81.00</td>\n",
              "    </tr>\n",
              "    <tr>\n",
              "      <th>Outcome</th>\n",
              "      <td>768.0</td>\n",
              "      <td>0.348958</td>\n",
              "      <td>0.476951</td>\n",
              "      <td>0.000</td>\n",
              "      <td>0.00000</td>\n",
              "      <td>0.00000</td>\n",
              "      <td>0.00000</td>\n",
              "      <td>0.0000</td>\n",
              "      <td>1.00000</td>\n",
              "      <td>1.0000</td>\n",
              "      <td>1.00000</td>\n",
              "      <td>1.00</td>\n",
              "    </tr>\n",
              "  </tbody>\n",
              "</table>\n",
              "</div>"
            ],
            "text/plain": [
              "                          count        mean        std     min        1%  \\\n",
              "Pregnancies               768.0    3.845052   3.369578   0.000   0.00000   \n",
              "Glucose                   768.0  121.674219  30.445229  44.000  67.67000   \n",
              "BloodPressure             768.0   72.408073  12.203100  24.000  44.00000   \n",
              "SkinThickness             768.0   29.108073   8.791221   7.000  10.00000   \n",
              "Insulin                   768.0  140.671875  86.383060  14.000  24.34000   \n",
              "BMI                       768.0   32.455703   6.883265  18.200  19.50000   \n",
              "DiabetesPedigreeFunction  768.0    0.471876   0.331329   0.078   0.09468   \n",
              "Age                       768.0   33.240885  11.760232  21.000  21.00000   \n",
              "Outcome                   768.0    0.348958   0.476951   0.000   0.00000   \n",
              "\n",
              "                                5%        25%       50%        75%       90%  \\\n",
              "Pregnancies                0.00000    1.00000    3.0000    6.00000    9.0000   \n",
              "Glucose                   80.00000   99.75000  117.0000  140.25000  167.0000   \n",
              "BloodPressure             52.00000   64.00000   72.0000   80.00000   88.0000   \n",
              "SkinThickness             14.35000   25.00000   29.0000   32.00000   40.0000   \n",
              "Insulin                   50.00000  121.50000  125.0000  127.25000  210.0000   \n",
              "BMI                       22.23500   27.50000   32.3000   36.60000   41.5000   \n",
              "DiabetesPedigreeFunction   0.14035    0.24375    0.3725    0.62625    0.8786   \n",
              "Age                       21.00000   24.00000   29.0000   41.00000   51.0000   \n",
              "Outcome                    0.00000    0.00000    0.0000    1.00000    1.0000   \n",
              "\n",
              "                                99%     max  \n",
              "Pregnancies                13.00000   17.00  \n",
              "Glucose                   196.00000  199.00  \n",
              "BloodPressure             106.00000  122.00  \n",
              "SkinThickness              51.33000   99.00  \n",
              "Insulin                   519.90000  846.00  \n",
              "BMI                        50.75900   67.10  \n",
              "DiabetesPedigreeFunction    1.69833    2.42  \n",
              "Age                        67.00000   81.00  \n",
              "Outcome                     1.00000    1.00  "
            ]
          },
          "execution_count": 56,
          "metadata": {},
          "output_type": "execute_result"
        }
      ],
      "source": [
        "diabetes_data.describe([0.01, 0.05, 0.25, 0.50, 0.75, 0.90, 0.99]).T"
      ]
    },
    {
      "cell_type": "markdown",
      "metadata": {
        "id": "aY13pr86jhO7"
      },
      "source": [
        "For instance, for the 13th index, while SkinThickness is close to 25% quantile, Insulin is max. On the 445th index, maybe when Glucose and BMI are close to high values, but Insuline is minimum, and this kind of combination may not be possible.\n",
        "\n",
        "\n",
        "Being close(or be exactly) to max or min values are not obligatory. These are just comments without any industry knowledge, maybe these are wrong but these kinds of comments have to be done for understanding the data.\n",
        "\n",
        "\n",
        "There is just 3 observation on the data set, so they can be deleted."
      ]
    },
    {
      "cell_type": "code",
      "execution_count": 57,
      "metadata": {
        "colab": {
          "base_uri": "https://localhost:8080/"
        },
        "id": "R2Q57UtoipPf",
        "outputId": "707d3642-b3ef-4e0d-8edf-8d203be0b008"
      },
      "outputs": [
        {
          "name": "stdout",
          "output_type": "stream",
          "text": [
            "Before delete outliers: (768, 9)\n",
            "Index([13, 445, 579], dtype='int64')\n",
            "After delete outliers: (765, 9)\n"
          ]
        }
      ],
      "source": [
        "print(\"Before delete outliers:\", diabetes_data.shape)\n",
        "print(diabetes_data[df_scores < th].index) # indexes of outliers, just for observation\n",
        "diabetes_data.drop(axis=0, labels=diabetes_data[df_scores < th].index, inplace=True)\n",
        "print(\"After delete outliers:\", diabetes_data.shape)"
      ]
    },
    {
      "cell_type": "markdown",
      "metadata": {
        "id": "0g_mT84xy2Fu"
      },
      "source": [
        "* IQR method: we have already compute the thresholds.\n",
        "We can also use quantiles as 5 and 95, because deleting or filling according to 25-75 percentile would create a serious data loss and residue.\n",
        "The proportion of these depends on the problem and dataset"
      ]
    },
    {
      "cell_type": "code",
      "execution_count": 58,
      "metadata": {
        "id": "96DHfeWnipSK"
      },
      "outputs": [],
      "source": [
        "# take the computed threshold and re-assign the outliers\n",
        "def replace_with_thresholds(df, variable):\n",
        "    low_limit, up_limit = outlier_thresholds(df, variable)\n",
        "    df.loc[(df[variable] < low_limit), variable] = low_limit\n",
        "    df.loc[(df[variable] > up_limit), variable] = up_limit"
      ]
    },
    {
      "cell_type": "code",
      "execution_count": 60,
      "metadata": {
        "colab": {
          "base_uri": "https://localhost:8080/",
          "height": 351
        },
        "id": "1pt71sBvipUw",
        "outputId": "9379b8e0-f303-489c-be51-1b606e4d2fbb"
      },
      "outputs": [
        {
          "data": {
            "text/html": [
              "<div>\n",
              "<style scoped>\n",
              "    .dataframe tbody tr th:only-of-type {\n",
              "        vertical-align: middle;\n",
              "    }\n",
              "\n",
              "    .dataframe tbody tr th {\n",
              "        vertical-align: top;\n",
              "    }\n",
              "\n",
              "    .dataframe thead th {\n",
              "        text-align: right;\n",
              "    }\n",
              "</style>\n",
              "<table border=\"1\" class=\"dataframe\">\n",
              "  <thead>\n",
              "    <tr style=\"text-align: right;\">\n",
              "      <th></th>\n",
              "      <th>count</th>\n",
              "      <th>mean</th>\n",
              "      <th>std</th>\n",
              "      <th>min</th>\n",
              "      <th>25%</th>\n",
              "      <th>50%</th>\n",
              "      <th>75%</th>\n",
              "      <th>max</th>\n",
              "    </tr>\n",
              "  </thead>\n",
              "  <tbody>\n",
              "    <tr>\n",
              "      <th>Pregnancies</th>\n",
              "      <td>765.0</td>\n",
              "      <td>3.856209</td>\n",
              "      <td>3.371070</td>\n",
              "      <td>0.000</td>\n",
              "      <td>1.000</td>\n",
              "      <td>3.00</td>\n",
              "      <td>6.000</td>\n",
              "      <td>17.000</td>\n",
              "    </tr>\n",
              "    <tr>\n",
              "      <th>Glucose</th>\n",
              "      <td>765.0</td>\n",
              "      <td>121.411503</td>\n",
              "      <td>30.210433</td>\n",
              "      <td>44.000</td>\n",
              "      <td>99.000</td>\n",
              "      <td>117.00</td>\n",
              "      <td>140.000</td>\n",
              "      <td>199.000</td>\n",
              "    </tr>\n",
              "    <tr>\n",
              "      <th>BloodPressure</th>\n",
              "      <td>765.0</td>\n",
              "      <td>72.420131</td>\n",
              "      <td>12.216801</td>\n",
              "      <td>24.000</td>\n",
              "      <td>64.000</td>\n",
              "      <td>72.00</td>\n",
              "      <td>80.000</td>\n",
              "      <td>122.000</td>\n",
              "    </tr>\n",
              "    <tr>\n",
              "      <th>SkinThickness</th>\n",
              "      <td>765.0</td>\n",
              "      <td>28.980392</td>\n",
              "      <td>8.344254</td>\n",
              "      <td>7.000</td>\n",
              "      <td>25.000</td>\n",
              "      <td>29.00</td>\n",
              "      <td>32.000</td>\n",
              "      <td>60.000</td>\n",
              "    </tr>\n",
              "    <tr>\n",
              "      <th>Insulin</th>\n",
              "      <td>765.0</td>\n",
              "      <td>139.935948</td>\n",
              "      <td>82.573035</td>\n",
              "      <td>15.000</td>\n",
              "      <td>122.000</td>\n",
              "      <td>125.00</td>\n",
              "      <td>127.000</td>\n",
              "      <td>744.000</td>\n",
              "    </tr>\n",
              "    <tr>\n",
              "      <th>BMI</th>\n",
              "      <td>765.0</td>\n",
              "      <td>32.420627</td>\n",
              "      <td>6.826423</td>\n",
              "      <td>18.200</td>\n",
              "      <td>27.500</td>\n",
              "      <td>32.30</td>\n",
              "      <td>36.600</td>\n",
              "      <td>67.100</td>\n",
              "    </tr>\n",
              "    <tr>\n",
              "      <th>DiabetesPedigreeFunction</th>\n",
              "      <td>765.0</td>\n",
              "      <td>0.469292</td>\n",
              "      <td>0.324368</td>\n",
              "      <td>0.078</td>\n",
              "      <td>0.243</td>\n",
              "      <td>0.37</td>\n",
              "      <td>0.626</td>\n",
              "      <td>2.329</td>\n",
              "    </tr>\n",
              "    <tr>\n",
              "      <th>Age</th>\n",
              "      <td>765.0</td>\n",
              "      <td>33.180392</td>\n",
              "      <td>11.696260</td>\n",
              "      <td>21.000</td>\n",
              "      <td>24.000</td>\n",
              "      <td>29.00</td>\n",
              "      <td>41.000</td>\n",
              "      <td>81.000</td>\n",
              "    </tr>\n",
              "    <tr>\n",
              "      <th>Outcome</th>\n",
              "      <td>765.0</td>\n",
              "      <td>0.346405</td>\n",
              "      <td>0.476135</td>\n",
              "      <td>0.000</td>\n",
              "      <td>0.000</td>\n",
              "      <td>0.00</td>\n",
              "      <td>1.000</td>\n",
              "      <td>1.000</td>\n",
              "    </tr>\n",
              "  </tbody>\n",
              "</table>\n",
              "</div>"
            ],
            "text/plain": [
              "                          count        mean        std     min      25%  \\\n",
              "Pregnancies               765.0    3.856209   3.371070   0.000    1.000   \n",
              "Glucose                   765.0  121.411503  30.210433  44.000   99.000   \n",
              "BloodPressure             765.0   72.420131  12.216801  24.000   64.000   \n",
              "SkinThickness             765.0   28.980392   8.344254   7.000   25.000   \n",
              "Insulin                   765.0  139.935948  82.573035  15.000  122.000   \n",
              "BMI                       765.0   32.420627   6.826423  18.200   27.500   \n",
              "DiabetesPedigreeFunction  765.0    0.469292   0.324368   0.078    0.243   \n",
              "Age                       765.0   33.180392  11.696260  21.000   24.000   \n",
              "Outcome                   765.0    0.346405   0.476135   0.000    0.000   \n",
              "\n",
              "                             50%      75%      max  \n",
              "Pregnancies                 3.00    6.000   17.000  \n",
              "Glucose                   117.00  140.000  199.000  \n",
              "BloodPressure              72.00   80.000  122.000  \n",
              "SkinThickness              29.00   32.000   60.000  \n",
              "Insulin                   125.00  127.000  744.000  \n",
              "BMI                        32.30   36.600   67.100  \n",
              "DiabetesPedigreeFunction    0.37    0.626    2.329  \n",
              "Age                        29.00   41.000   81.000  \n",
              "Outcome                     0.00    1.000    1.000  "
            ]
          },
          "execution_count": 60,
          "metadata": {},
          "output_type": "execute_result"
        }
      ],
      "source": [
        "# before reasignment\n",
        "diabetes_data.describe().T"
      ]
    },
    {
      "cell_type": "code",
      "execution_count": 61,
      "metadata": {
        "colab": {
          "base_uri": "https://localhost:8080/"
        },
        "id": "sszLGFCT00Ok",
        "outputId": "d36722d6-3166-4222-b3b1-e4953bd85093"
      },
      "outputs": [
        {
          "data": {
            "text/plain": [
              "9"
            ]
          },
          "execution_count": 61,
          "metadata": {},
          "output_type": "execute_result"
        }
      ],
      "source": [
        "num_cols"
      ]
    },
    {
      "cell_type": "code",
      "execution_count": 62,
      "metadata": {
        "colab": {
          "base_uri": "https://localhost:8080/",
          "height": 248
        },
        "id": "-IK4KMMs0CZL",
        "outputId": "bf794419-73bf-4e3c-fb6e-1da474b84049"
      },
      "outputs": [
        {
          "name": "stdout",
          "output_type": "stream",
          "text": [
            "['Pregnancies', 'Glucose', 'BloodPressure', 'SkinThickness', 'Insulin', 'BMI', 'DiabetesPedigreeFunction', 'Age']\n"
          ]
        }
      ],
      "source": [
        "num_cols = []\n",
        "for col in diabetes_data.columns:\n",
        "  if col != 'Outcome':\n",
        "    num_cols.append(col)\n",
        "print(num_cols)"
      ]
    },
    {
      "cell_type": "code",
      "execution_count": 63,
      "metadata": {
        "id": "6MjlnjqvipYE"
      },
      "outputs": [],
      "source": [
        "for col in num_cols:\n",
        "    replace_with_thresholds(diabetes_data, col)"
      ]
    },
    {
      "cell_type": "code",
      "execution_count": 64,
      "metadata": {
        "colab": {
          "base_uri": "https://localhost:8080/",
          "height": 351
        },
        "id": "Mtp0qTmZ1Z4N",
        "outputId": "78f25f6c-66c7-4baf-f9fa-617a0898d076"
      },
      "outputs": [
        {
          "data": {
            "text/html": [
              "<div>\n",
              "<style scoped>\n",
              "    .dataframe tbody tr th:only-of-type {\n",
              "        vertical-align: middle;\n",
              "    }\n",
              "\n",
              "    .dataframe tbody tr th {\n",
              "        vertical-align: top;\n",
              "    }\n",
              "\n",
              "    .dataframe thead th {\n",
              "        text-align: right;\n",
              "    }\n",
              "</style>\n",
              "<table border=\"1\" class=\"dataframe\">\n",
              "  <thead>\n",
              "    <tr style=\"text-align: right;\">\n",
              "      <th></th>\n",
              "      <th>count</th>\n",
              "      <th>mean</th>\n",
              "      <th>std</th>\n",
              "      <th>min</th>\n",
              "      <th>25%</th>\n",
              "      <th>50%</th>\n",
              "      <th>75%</th>\n",
              "      <th>max</th>\n",
              "    </tr>\n",
              "  </thead>\n",
              "  <tbody>\n",
              "    <tr>\n",
              "      <th>Pregnancies</th>\n",
              "      <td>765.0</td>\n",
              "      <td>3.848366</td>\n",
              "      <td>3.345586</td>\n",
              "      <td>0.000</td>\n",
              "      <td>1.000</td>\n",
              "      <td>3.00</td>\n",
              "      <td>6.000</td>\n",
              "      <td>13.5000</td>\n",
              "    </tr>\n",
              "    <tr>\n",
              "      <th>Glucose</th>\n",
              "      <td>765.0</td>\n",
              "      <td>121.411503</td>\n",
              "      <td>30.210433</td>\n",
              "      <td>44.000</td>\n",
              "      <td>99.000</td>\n",
              "      <td>117.00</td>\n",
              "      <td>140.000</td>\n",
              "      <td>199.0000</td>\n",
              "    </tr>\n",
              "    <tr>\n",
              "      <th>BloodPressure</th>\n",
              "      <td>765.0</td>\n",
              "      <td>72.391373</td>\n",
              "      <td>11.819820</td>\n",
              "      <td>40.000</td>\n",
              "      <td>64.000</td>\n",
              "      <td>72.00</td>\n",
              "      <td>80.000</td>\n",
              "      <td>104.0000</td>\n",
              "    </tr>\n",
              "    <tr>\n",
              "      <th>SkinThickness</th>\n",
              "      <td>765.0</td>\n",
              "      <td>28.838562</td>\n",
              "      <td>7.421166</td>\n",
              "      <td>14.500</td>\n",
              "      <td>25.000</td>\n",
              "      <td>29.00</td>\n",
              "      <td>32.000</td>\n",
              "      <td>42.5000</td>\n",
              "    </tr>\n",
              "    <tr>\n",
              "      <th>Insulin</th>\n",
              "      <td>765.0</td>\n",
              "      <td>124.745098</td>\n",
              "      <td>6.918495</td>\n",
              "      <td>114.500</td>\n",
              "      <td>122.000</td>\n",
              "      <td>125.00</td>\n",
              "      <td>127.000</td>\n",
              "      <td>134.5000</td>\n",
              "    </tr>\n",
              "    <tr>\n",
              "      <th>BMI</th>\n",
              "      <td>765.0</td>\n",
              "      <td>32.370497</td>\n",
              "      <td>6.656560</td>\n",
              "      <td>18.200</td>\n",
              "      <td>27.500</td>\n",
              "      <td>32.30</td>\n",
              "      <td>36.600</td>\n",
              "      <td>50.2500</td>\n",
              "    </tr>\n",
              "    <tr>\n",
              "      <th>DiabetesPedigreeFunction</th>\n",
              "      <td>765.0</td>\n",
              "      <td>0.457892</td>\n",
              "      <td>0.284904</td>\n",
              "      <td>0.078</td>\n",
              "      <td>0.243</td>\n",
              "      <td>0.37</td>\n",
              "      <td>0.626</td>\n",
              "      <td>1.2005</td>\n",
              "    </tr>\n",
              "    <tr>\n",
              "      <th>Age</th>\n",
              "      <td>765.0</td>\n",
              "      <td>33.139216</td>\n",
              "      <td>11.562964</td>\n",
              "      <td>21.000</td>\n",
              "      <td>24.000</td>\n",
              "      <td>29.00</td>\n",
              "      <td>41.000</td>\n",
              "      <td>66.5000</td>\n",
              "    </tr>\n",
              "    <tr>\n",
              "      <th>Outcome</th>\n",
              "      <td>765.0</td>\n",
              "      <td>0.346405</td>\n",
              "      <td>0.476135</td>\n",
              "      <td>0.000</td>\n",
              "      <td>0.000</td>\n",
              "      <td>0.00</td>\n",
              "      <td>1.000</td>\n",
              "      <td>1.0000</td>\n",
              "    </tr>\n",
              "  </tbody>\n",
              "</table>\n",
              "</div>"
            ],
            "text/plain": [
              "                          count        mean        std      min      25%  \\\n",
              "Pregnancies               765.0    3.848366   3.345586    0.000    1.000   \n",
              "Glucose                   765.0  121.411503  30.210433   44.000   99.000   \n",
              "BloodPressure             765.0   72.391373  11.819820   40.000   64.000   \n",
              "SkinThickness             765.0   28.838562   7.421166   14.500   25.000   \n",
              "Insulin                   765.0  124.745098   6.918495  114.500  122.000   \n",
              "BMI                       765.0   32.370497   6.656560   18.200   27.500   \n",
              "DiabetesPedigreeFunction  765.0    0.457892   0.284904    0.078    0.243   \n",
              "Age                       765.0   33.139216  11.562964   21.000   24.000   \n",
              "Outcome                   765.0    0.346405   0.476135    0.000    0.000   \n",
              "\n",
              "                             50%      75%       max  \n",
              "Pregnancies                 3.00    6.000   13.5000  \n",
              "Glucose                   117.00  140.000  199.0000  \n",
              "BloodPressure              72.00   80.000  104.0000  \n",
              "SkinThickness              29.00   32.000   42.5000  \n",
              "Insulin                   125.00  127.000  134.5000  \n",
              "BMI                        32.30   36.600   50.2500  \n",
              "DiabetesPedigreeFunction    0.37    0.626    1.2005  \n",
              "Age                        29.00   41.000   66.5000  \n",
              "Outcome                     0.00    1.000    1.0000  "
            ]
          },
          "execution_count": 64,
          "metadata": {},
          "output_type": "execute_result"
        }
      ],
      "source": [
        "# after reasignment\n",
        "diabetes_data.describe().T"
      ]
    },
    {
      "cell_type": "markdown",
      "metadata": {
        "id": "HhHaypNojgXX"
      },
      "source": [
        "# Feature Extraction\n",
        "Once the data is prepared, we may try with new combinations of our valiables, it canbe done by mathematical operations, some times a numerical value with a categorical variable. Sometime is usefull transform the numerical data into categories or ranges"
      ]
    },
    {
      "cell_type": "code",
      "execution_count": 93,
      "metadata": {
        "id": "4lJClzoz23ff"
      },
      "outputs": [],
      "source": [
        "diabetes_data[\"Pregnancies\"] = diabetes_data[\"Pregnancies\"].apply(lambda x: int(x))"
      ]
    },
    {
      "cell_type": "markdown",
      "metadata": {
        "id": "puRZzd792_72"
      },
      "source": [
        "Lets propose 3 categories for the number of pregnancies.\n",
        "* [0,2] -> \"Normal\"\n",
        "* [3,6]->\"Above Normal\"\n",
        "* [6,more] -> \"Extreme\"\n",
        "\n",
        "Lets propose 3 categories for age.\n",
        "\n",
        "* [18,25]->\"Young\"\n",
        "* [26,40] -> \"Mature\"\n",
        "* [40,more]->\"Old\"\n",
        "\n",
        "Lets propose 3 categories for levels of glucose.\n",
        "\n",
        "* [0,69]->\"Low\"\n",
        "* [70,100] -> \"Normal\"\n",
        "* [101,125]->\"Medium\"\n",
        "* [126,more]->\"High\""
      ]
    },
    {
      "cell_type": "code",
      "execution_count": 94,
      "metadata": {
        "id": "ijgUlE9H27zN"
      },
      "outputs": [
        {
          "ename": "ValueError",
          "evalue": "bins must increase monotonically.",
          "output_type": "error",
          "traceback": [
            "\u001b[0;31m---------------------------------------------------------------------------\u001b[0m",
            "\u001b[0;31mValueError\u001b[0m                                Traceback (most recent call last)",
            "Cell \u001b[0;32mIn[94], line 2\u001b[0m\n\u001b[1;32m      1\u001b[0m diabetes_data[\u001b[39m\"\u001b[39m\u001b[39mNumOfPreg\u001b[39m\u001b[39m\"\u001b[39m] \u001b[39m=\u001b[39m pd\u001b[39m.\u001b[39mcut(diabetes_data[\u001b[39m\"\u001b[39m\u001b[39mPregnancies\u001b[39m\u001b[39m\"\u001b[39m], bins\u001b[39m=\u001b[39m[\u001b[39m-\u001b[39m\u001b[39m1\u001b[39m, \u001b[39m3\u001b[39m, \u001b[39m6\u001b[39m, diabetes_data[\u001b[39m\"\u001b[39m\u001b[39mPregnancies\u001b[39m\u001b[39m\"\u001b[39m]\u001b[39m.\u001b[39mmax()], labels\u001b[39m=\u001b[39m[\u001b[39m\"\u001b[39m\u001b[39mNormal\u001b[39m\u001b[39m\"\u001b[39m, \u001b[39m\"\u001b[39m\u001b[39mAbove Normal\u001b[39m\u001b[39m\"\u001b[39m,\u001b[39m\"\u001b[39m\u001b[39mExtreme\u001b[39m\u001b[39m\"\u001b[39m])\n\u001b[0;32m----> 2\u001b[0m diabetes_data[\u001b[39m\"\u001b[39m\u001b[39mAgeGroup\u001b[39m\u001b[39m\"\u001b[39m] \u001b[39m=\u001b[39m pd\u001b[39m.\u001b[39;49mcut(diabetes_data[\u001b[39m\"\u001b[39;49m\u001b[39mAge\u001b[39;49m\u001b[39m\"\u001b[39;49m], bins\u001b[39m=\u001b[39;49m[\u001b[39m18\u001b[39;49m, \u001b[39m25\u001b[39;49m, \u001b[39m40\u001b[39;49m, diabetes_data[\u001b[39m\"\u001b[39;49m\u001b[39mAge\u001b[39;49m\u001b[39m\"\u001b[39;49m]\u001b[39m.\u001b[39;49mmax()], labels\u001b[39m=\u001b[39;49m[\u001b[39m\"\u001b[39;49m\u001b[39mYoung\u001b[39;49m\u001b[39m\"\u001b[39;49m, \u001b[39m\"\u001b[39;49m\u001b[39mMature\u001b[39;49m\u001b[39m\"\u001b[39;49m, \u001b[39m\"\u001b[39;49m\u001b[39mOld\u001b[39;49m\u001b[39m\"\u001b[39;49m])\n\u001b[1;32m      3\u001b[0m diabetes_data[\u001b[39m\"\u001b[39m\u001b[39mGlucoseLevel\u001b[39m\u001b[39m\"\u001b[39m] \u001b[39m=\u001b[39m pd\u001b[39m.\u001b[39mcut(diabetes_data[\u001b[39m\"\u001b[39m\u001b[39mGlucose\u001b[39m\u001b[39m\"\u001b[39m], bins\u001b[39m=\u001b[39m[diabetes_data[\u001b[39m\"\u001b[39m\u001b[39mGlucose\u001b[39m\u001b[39m\"\u001b[39m]\u001b[39m.\u001b[39mmin(), \u001b[39m69\u001b[39m,\u001b[39m100\u001b[39m, \u001b[39m125\u001b[39m, diabetes_data[\u001b[39m\"\u001b[39m\u001b[39mGlucose\u001b[39m\u001b[39m\"\u001b[39m]\u001b[39m.\u001b[39mmax()], labels\u001b[39m=\u001b[39m[\u001b[39m\"\u001b[39m\u001b[39mLow\u001b[39m\u001b[39m\"\u001b[39m, \u001b[39m\"\u001b[39m\u001b[39mNormal\u001b[39m\u001b[39m\"\u001b[39m,\u001b[39m\"\u001b[39m\u001b[39mMedium\u001b[39m\u001b[39m\"\u001b[39m, \u001b[39m\"\u001b[39m\u001b[39mHigh\u001b[39m\u001b[39m\"\u001b[39m])\n",
            "File \u001b[0;32m~/.pyenv/versions/3.11.0/lib/python3.11/site-packages/pandas/core/reshape/tile.py:291\u001b[0m, in \u001b[0;36mcut\u001b[0;34m(x, bins, right, labels, retbins, precision, include_lowest, duplicates, ordered)\u001b[0m\n\u001b[1;32m    289\u001b[0m     \u001b[39m# GH 26045: cast to float64 to avoid an overflow\u001b[39;00m\n\u001b[1;32m    290\u001b[0m     \u001b[39mif\u001b[39;00m (np\u001b[39m.\u001b[39mdiff(bins\u001b[39m.\u001b[39mastype(\u001b[39m\"\u001b[39m\u001b[39mfloat64\u001b[39m\u001b[39m\"\u001b[39m)) \u001b[39m<\u001b[39m \u001b[39m0\u001b[39m)\u001b[39m.\u001b[39many():\n\u001b[0;32m--> 291\u001b[0m         \u001b[39mraise\u001b[39;00m \u001b[39mValueError\u001b[39;00m(\u001b[39m\"\u001b[39m\u001b[39mbins must increase monotonically.\u001b[39m\u001b[39m\"\u001b[39m)\n\u001b[1;32m    293\u001b[0m fac, bins \u001b[39m=\u001b[39m _bins_to_cuts(\n\u001b[1;32m    294\u001b[0m     x,\n\u001b[1;32m    295\u001b[0m     bins,\n\u001b[0;32m   (...)\u001b[0m\n\u001b[1;32m    302\u001b[0m     ordered\u001b[39m=\u001b[39mordered,\n\u001b[1;32m    303\u001b[0m )\n\u001b[1;32m    305\u001b[0m \u001b[39mreturn\u001b[39;00m _postprocess_for_cut(fac, bins, retbins, dtype, original)\n",
            "\u001b[0;31mValueError\u001b[0m: bins must increase monotonically."
          ]
        }
      ],
      "source": [
        "diabetes_data[\"NumOfPreg\"] = pd.cut(diabetes_data[\"Pregnancies\"], bins=[-1, 3, 6, diabetes_data[\"Pregnancies\"].max()], labels=[\"Normal\", \"Above Normal\",\"Extreme\"])\n",
        "diabetes_data[\"AgeGroup\"] = pd.cut(diabetes_data[\"Age\"], bins=[18, 25, 40, diabetes_data[\"Age\"].max()], labels=[\"Young\", \"Mature\", \"Old\"])\n",
        "diabetes_data[\"GlucoseLevel\"] = pd.cut(diabetes_data[\"Glucose\"], bins=[diabetes_data[\"Glucose\"].min(), 69,100, 125, diabetes_data[\"Glucose\"].max()], labels=[\"Low\", \"Normal\",\"Medium\", \"High\"])"
      ]
    },
    {
      "cell_type": "code",
      "execution_count": 91,
      "metadata": {},
      "outputs": [],
      "source": [
        "# Calculate Insulin Sensitivity\n",
        "diabetes_data['Insulin_Sensitivity'] = diabetes_data['Glucose'] / (diabetes_data['Insulin'] * diabetes_data['BMI'])\n",
        "\n",
        "# Glucose Category Trends\n",
        "diabetes_data['Glucose_Trend'] = np.where(diabetes_data['Glucose'].diff() > 0, 'Increasing',\n",
        "                                          np.where(diabetes_data['Glucose'].diff() < 0, 'Decreasing', 'Stable'))\n"
      ]
    },
    {
      "cell_type": "markdown",
      "metadata": {
        "id": "QYnOG9ld7-b1"
      },
      "source": [
        "New numerical column"
      ]
    },
    {
      "cell_type": "code",
      "execution_count": 92,
      "metadata": {
        "id": "q_NyODOL79fI"
      },
      "outputs": [
        {
          "ename": "ValueError",
          "evalue": "Bin edges must be unique: array([-4.14230769,  0.        ,  0.        ,  3.7478022 ]).\nYou can drop duplicate edges by setting the 'duplicates' kwarg",
          "output_type": "error",
          "traceback": [
            "\u001b[0;31m---------------------------------------------------------------------------\u001b[0m",
            "\u001b[0;31mValueError\u001b[0m                                Traceback (most recent call last)",
            "Cell \u001b[0;32mIn[92], line 2\u001b[0m\n\u001b[1;32m      1\u001b[0m diabetes_data[\u001b[39m\"\u001b[39m\u001b[39mBMIns\u001b[39m\u001b[39m\"\u001b[39m] \u001b[39m=\u001b[39m diabetes_data[\u001b[39m\"\u001b[39m\u001b[39mBMI\u001b[39m\u001b[39m\"\u001b[39m]\u001b[39m*\u001b[39mdiabetes_data[\u001b[39m\"\u001b[39m\u001b[39mInsulin\u001b[39m\u001b[39m\"\u001b[39m] \u001b[39m# numerical\u001b[39;00m\n\u001b[0;32m----> 2\u001b[0m diabetes_data[\u001b[39m\"\u001b[39m\u001b[39mBMInsGroup\u001b[39m\u001b[39m\"\u001b[39m] \u001b[39m=\u001b[39m pd\u001b[39m.\u001b[39;49mqcut(diabetes_data[\u001b[39m\"\u001b[39;49m\u001b[39mBMIns\u001b[39;49m\u001b[39m\"\u001b[39;49m], \u001b[39m3\u001b[39;49m, labels\u001b[39m=\u001b[39;49m[\u001b[39m\"\u001b[39;49m\u001b[39mLow\u001b[39;49m\u001b[39m\"\u001b[39;49m, \u001b[39m\"\u001b[39;49m\u001b[39mMedium\u001b[39;49m\u001b[39m\"\u001b[39;49m, \u001b[39m\"\u001b[39;49m\u001b[39mHigh\u001b[39;49m\u001b[39m\"\u001b[39;49m]) \u001b[39m# categorical\u001b[39;00m\n",
            "File \u001b[0;32m~/.pyenv/versions/3.11.0/lib/python3.11/site-packages/pandas/core/reshape/tile.py:379\u001b[0m, in \u001b[0;36mqcut\u001b[0;34m(x, q, labels, retbins, precision, duplicates)\u001b[0m\n\u001b[1;32m    376\u001b[0m x_np \u001b[39m=\u001b[39m x_np[\u001b[39m~\u001b[39mnp\u001b[39m.\u001b[39misnan(x_np)]\n\u001b[1;32m    377\u001b[0m bins \u001b[39m=\u001b[39m np\u001b[39m.\u001b[39mquantile(x_np, quantiles)\n\u001b[0;32m--> 379\u001b[0m fac, bins \u001b[39m=\u001b[39m _bins_to_cuts(\n\u001b[1;32m    380\u001b[0m     x,\n\u001b[1;32m    381\u001b[0m     bins,\n\u001b[1;32m    382\u001b[0m     labels\u001b[39m=\u001b[39;49mlabels,\n\u001b[1;32m    383\u001b[0m     precision\u001b[39m=\u001b[39;49mprecision,\n\u001b[1;32m    384\u001b[0m     include_lowest\u001b[39m=\u001b[39;49m\u001b[39mTrue\u001b[39;49;00m,\n\u001b[1;32m    385\u001b[0m     dtype\u001b[39m=\u001b[39;49mdtype,\n\u001b[1;32m    386\u001b[0m     duplicates\u001b[39m=\u001b[39;49mduplicates,\n\u001b[1;32m    387\u001b[0m )\n\u001b[1;32m    389\u001b[0m \u001b[39mreturn\u001b[39;00m _postprocess_for_cut(fac, bins, retbins, dtype, original)\n",
            "File \u001b[0;32m~/.pyenv/versions/3.11.0/lib/python3.11/site-packages/pandas/core/reshape/tile.py:420\u001b[0m, in \u001b[0;36m_bins_to_cuts\u001b[0;34m(x, bins, right, labels, precision, include_lowest, dtype, duplicates, ordered)\u001b[0m\n\u001b[1;32m    418\u001b[0m \u001b[39mif\u001b[39;00m \u001b[39mlen\u001b[39m(unique_bins) \u001b[39m<\u001b[39m \u001b[39mlen\u001b[39m(bins) \u001b[39mand\u001b[39;00m \u001b[39mlen\u001b[39m(bins) \u001b[39m!=\u001b[39m \u001b[39m2\u001b[39m:\n\u001b[1;32m    419\u001b[0m     \u001b[39mif\u001b[39;00m duplicates \u001b[39m==\u001b[39m \u001b[39m\"\u001b[39m\u001b[39mraise\u001b[39m\u001b[39m\"\u001b[39m:\n\u001b[0;32m--> 420\u001b[0m         \u001b[39mraise\u001b[39;00m \u001b[39mValueError\u001b[39;00m(\n\u001b[1;32m    421\u001b[0m             \u001b[39mf\u001b[39m\u001b[39m\"\u001b[39m\u001b[39mBin edges must be unique: \u001b[39m\u001b[39m{\u001b[39;00m\u001b[39mrepr\u001b[39m(bins)\u001b[39m}\u001b[39;00m\u001b[39m.\u001b[39m\u001b[39m\\n\u001b[39;00m\u001b[39m\"\u001b[39m\n\u001b[1;32m    422\u001b[0m             \u001b[39mf\u001b[39m\u001b[39m\"\u001b[39m\u001b[39mYou can drop duplicate edges by setting the \u001b[39m\u001b[39m'\u001b[39m\u001b[39mduplicates\u001b[39m\u001b[39m'\u001b[39m\u001b[39m kwarg\u001b[39m\u001b[39m\"\u001b[39m\n\u001b[1;32m    423\u001b[0m         )\n\u001b[1;32m    424\u001b[0m     bins \u001b[39m=\u001b[39m unique_bins\n\u001b[1;32m    426\u001b[0m side: Literal[\u001b[39m\"\u001b[39m\u001b[39mleft\u001b[39m\u001b[39m\"\u001b[39m, \u001b[39m\"\u001b[39m\u001b[39mright\u001b[39m\u001b[39m\"\u001b[39m] \u001b[39m=\u001b[39m \u001b[39m\"\u001b[39m\u001b[39mleft\u001b[39m\u001b[39m\"\u001b[39m \u001b[39mif\u001b[39;00m right \u001b[39melse\u001b[39;00m \u001b[39m\"\u001b[39m\u001b[39mright\u001b[39m\u001b[39m\"\u001b[39m\n",
            "\u001b[0;31mValueError\u001b[0m: Bin edges must be unique: array([-4.14230769,  0.        ,  0.        ,  3.7478022 ]).\nYou can drop duplicate edges by setting the 'duplicates' kwarg"
          ]
        }
      ],
      "source": [
        "diabetes_data[\"BMIns\"] = diabetes_data[\"BMI\"]*diabetes_data[\"Insulin\"] # numerical\n",
        "diabetes_data[\"BMInsGroup\"] = pd.qcut(diabetes_data[\"BMIns\"], 3, labels=[\"Low\", \"Medium\", \"High\"]) # categorical"
      ]
    },
    {
      "cell_type": "code",
      "execution_count": 88,
      "metadata": {
        "colab": {
          "base_uri": "https://localhost:8080/",
          "height": 243
        },
        "id": "wWmkohmQ6Lr3",
        "outputId": "2c625d78-fd0a-4fed-e658-d5b25751f75d"
      },
      "outputs": [
        {
          "data": {
            "text/html": [
              "<div>\n",
              "<style scoped>\n",
              "    .dataframe tbody tr th:only-of-type {\n",
              "        vertical-align: middle;\n",
              "    }\n",
              "\n",
              "    .dataframe tbody tr th {\n",
              "        vertical-align: top;\n",
              "    }\n",
              "\n",
              "    .dataframe thead th {\n",
              "        text-align: right;\n",
              "    }\n",
              "</style>\n",
              "<table border=\"1\" class=\"dataframe\">\n",
              "  <thead>\n",
              "    <tr style=\"text-align: right;\">\n",
              "      <th></th>\n",
              "      <th>Pregnancies</th>\n",
              "      <th>Glucose</th>\n",
              "      <th>BloodPressure</th>\n",
              "      <th>SkinThickness</th>\n",
              "      <th>Insulin</th>\n",
              "      <th>BMI</th>\n",
              "      <th>DiabetesPedigreeFunction</th>\n",
              "      <th>Age</th>\n",
              "      <th>Outcome</th>\n",
              "      <th>Insulin_Sensitivity</th>\n",
              "      <th>...</th>\n",
              "      <th>BMIns</th>\n",
              "      <th>NumOfPreg_Above Normal</th>\n",
              "      <th>NumOfPreg_Extreme</th>\n",
              "      <th>AgeGroup_Mature</th>\n",
              "      <th>AgeGroup_Old</th>\n",
              "      <th>GlucoseLevel_Normal</th>\n",
              "      <th>GlucoseLevel_Medium</th>\n",
              "      <th>GlucoseLevel_High</th>\n",
              "      <th>BMInsGroup_Medium</th>\n",
              "      <th>BMInsGroup_High</th>\n",
              "    </tr>\n",
              "  </thead>\n",
              "  <tbody>\n",
              "    <tr>\n",
              "      <th>0</th>\n",
              "      <td>6</td>\n",
              "      <td>0.756098</td>\n",
              "      <td>0.000</td>\n",
              "      <td>0.857143</td>\n",
              "      <td>0.0</td>\n",
              "      <td>0.142857</td>\n",
              "      <td>0.671018</td>\n",
              "      <td>1.235294</td>\n",
              "      <td>1</td>\n",
              "      <td>0.471849</td>\n",
              "      <td>...</td>\n",
              "      <td>0.160032</td>\n",
              "      <td>True</td>\n",
              "      <td>False</td>\n",
              "      <td>False</td>\n",
              "      <td>True</td>\n",
              "      <td>False</td>\n",
              "      <td>False</td>\n",
              "      <td>True</td>\n",
              "      <td>True</td>\n",
              "      <td>False</td>\n",
              "    </tr>\n",
              "    <tr>\n",
              "      <th>1</th>\n",
              "      <td>1</td>\n",
              "      <td>-0.780488</td>\n",
              "      <td>-0.375</td>\n",
              "      <td>0.000000</td>\n",
              "      <td>0.0</td>\n",
              "      <td>-0.626374</td>\n",
              "      <td>-0.049608</td>\n",
              "      <td>0.117647</td>\n",
              "      <td>0</td>\n",
              "      <td>-0.380373</td>\n",
              "      <td>...</td>\n",
              "      <td>-0.540108</td>\n",
              "      <td>False</td>\n",
              "      <td>False</td>\n",
              "      <td>True</td>\n",
              "      <td>False</td>\n",
              "      <td>True</td>\n",
              "      <td>False</td>\n",
              "      <td>False</td>\n",
              "      <td>False</td>\n",
              "      <td>False</td>\n",
              "    </tr>\n",
              "    <tr>\n",
              "      <th>2</th>\n",
              "      <td>8</td>\n",
              "      <td>1.609756</td>\n",
              "      <td>-0.500</td>\n",
              "      <td>0.000000</td>\n",
              "      <td>0.0</td>\n",
              "      <td>-0.989011</td>\n",
              "      <td>0.788512</td>\n",
              "      <td>0.176471</td>\n",
              "      <td>1</td>\n",
              "      <td>2.902716</td>\n",
              "      <td>...</td>\n",
              "      <td>-0.870174</td>\n",
              "      <td>False</td>\n",
              "      <td>True</td>\n",
              "      <td>True</td>\n",
              "      <td>False</td>\n",
              "      <td>False</td>\n",
              "      <td>False</td>\n",
              "      <td>True</td>\n",
              "      <td>False</td>\n",
              "      <td>False</td>\n",
              "    </tr>\n",
              "    <tr>\n",
              "      <th>3</th>\n",
              "      <td>1</td>\n",
              "      <td>-0.682927</td>\n",
              "      <td>-0.375</td>\n",
              "      <td>-0.857143</td>\n",
              "      <td>-2.1</td>\n",
              "      <td>-0.461538</td>\n",
              "      <td>-0.530026</td>\n",
              "      <td>-0.470588</td>\n",
              "      <td>0</td>\n",
              "      <td>-0.195577</td>\n",
              "      <td>...</td>\n",
              "      <td>-0.626165</td>\n",
              "      <td>False</td>\n",
              "      <td>False</td>\n",
              "      <td>False</td>\n",
              "      <td>False</td>\n",
              "      <td>True</td>\n",
              "      <td>False</td>\n",
              "      <td>False</td>\n",
              "      <td>False</td>\n",
              "      <td>False</td>\n",
              "    </tr>\n",
              "    <tr>\n",
              "      <th>4</th>\n",
              "      <td>0</td>\n",
              "      <td>0.487805</td>\n",
              "      <td>-2.000</td>\n",
              "      <td>0.857143</td>\n",
              "      <td>1.9</td>\n",
              "      <td>1.186813</td>\n",
              "      <td>2.168407</td>\n",
              "      <td>0.235294</td>\n",
              "      <td>1</td>\n",
              "      <td>-0.550461</td>\n",
              "      <td>...</td>\n",
              "      <td>1.437848</td>\n",
              "      <td>False</td>\n",
              "      <td>False</td>\n",
              "      <td>True</td>\n",
              "      <td>False</td>\n",
              "      <td>False</td>\n",
              "      <td>False</td>\n",
              "      <td>True</td>\n",
              "      <td>False</td>\n",
              "      <td>True</td>\n",
              "    </tr>\n",
              "  </tbody>\n",
              "</table>\n",
              "<p>5 rows × 21 columns</p>\n",
              "</div>"
            ],
            "text/plain": [
              "   Pregnancies   Glucose  BloodPressure  SkinThickness  Insulin       BMI  \\\n",
              "0            6  0.756098          0.000       0.857143      0.0  0.142857   \n",
              "1            1 -0.780488         -0.375       0.000000      0.0 -0.626374   \n",
              "2            8  1.609756         -0.500       0.000000      0.0 -0.989011   \n",
              "3            1 -0.682927         -0.375      -0.857143     -2.1 -0.461538   \n",
              "4            0  0.487805         -2.000       0.857143      1.9  1.186813   \n",
              "\n",
              "   DiabetesPedigreeFunction       Age  Outcome  Insulin_Sensitivity  ...  \\\n",
              "0                  0.671018  1.235294        1             0.471849  ...   \n",
              "1                 -0.049608  0.117647        0            -0.380373  ...   \n",
              "2                  0.788512  0.176471        1             2.902716  ...   \n",
              "3                 -0.530026 -0.470588        0            -0.195577  ...   \n",
              "4                  2.168407  0.235294        1            -0.550461  ...   \n",
              "\n",
              "      BMIns  NumOfPreg_Above Normal  NumOfPreg_Extreme  AgeGroup_Mature  \\\n",
              "0  0.160032                    True              False            False   \n",
              "1 -0.540108                   False              False             True   \n",
              "2 -0.870174                   False               True             True   \n",
              "3 -0.626165                   False              False            False   \n",
              "4  1.437848                   False              False             True   \n",
              "\n",
              "   AgeGroup_Old  GlucoseLevel_Normal  GlucoseLevel_Medium  GlucoseLevel_High  \\\n",
              "0          True                False                False               True   \n",
              "1         False                 True                False              False   \n",
              "2         False                False                False               True   \n",
              "3         False                 True                False              False   \n",
              "4         False                False                False               True   \n",
              "\n",
              "   BMInsGroup_Medium  BMInsGroup_High  \n",
              "0               True            False  \n",
              "1              False            False  \n",
              "2              False            False  \n",
              "3              False            False  \n",
              "4              False             True  \n",
              "\n",
              "[5 rows x 21 columns]"
            ]
          },
          "execution_count": 88,
          "metadata": {},
          "output_type": "execute_result"
        }
      ],
      "source": [
        "diabetes_data.head()"
      ]
    },
    {
      "cell_type": "code",
      "execution_count": 70,
      "metadata": {
        "colab": {
          "base_uri": "https://localhost:8080/"
        },
        "id": "uFK6b6cw6cMy",
        "outputId": "eb547da7-3078-4b6c-cede-baeff70b51f4"
      },
      "outputs": [
        {
          "name": "stdout",
          "output_type": "stream",
          "text": [
            "['NumOfPreg', 'AgeGroup', 'GlucoseLevel', 'BMInsGroup']\n"
          ]
        }
      ],
      "source": [
        "new_cat_columns = []\n",
        "for cols in diabetes_data.columns:\n",
        "  #print(diabetes_data[cols])\n",
        "  if diabetes_data[cols].dtype.name =='category':\n",
        "    new_cat_columns.append(cols)\n",
        "print(new_cat_columns)"
      ]
    },
    {
      "cell_type": "code",
      "execution_count": 71,
      "metadata": {
        "colab": {
          "base_uri": "https://localhost:8080/"
        },
        "id": "adgrnjbq9lJM",
        "outputId": "88e3d2e2-fb62-44d0-86df-5ab0ebd3d872"
      },
      "outputs": [
        {
          "name": "stdout",
          "output_type": "stream",
          "text": [
            "['Glucose', 'BloodPressure', 'SkinThickness', 'Insulin', 'BMI', 'DiabetesPedigreeFunction', 'Age', 'Insulin_Sensitivity', 'BMIns']\n"
          ]
        }
      ],
      "source": [
        "new_num_data = []\n",
        "for cols in diabetes_data.columns:\n",
        "  #print(diabetes_data[cols])\n",
        "  if diabetes_data[cols].dtype.name =='float64':\n",
        "    new_num_data.append(cols)\n",
        "print(new_num_data)"
      ]
    },
    {
      "cell_type": "code",
      "execution_count": 72,
      "metadata": {
        "id": "eoaya4bT7xkA"
      },
      "outputs": [],
      "source": [
        "df_scale = diabetes_data.copy()"
      ]
    },
    {
      "cell_type": "markdown",
      "metadata": {
        "id": "w1owlU-M81AL"
      },
      "source": [
        "# Scale Data"
      ]
    },
    {
      "cell_type": "code",
      "execution_count": 73,
      "metadata": {
        "id": "nGmRzzUA8qWW"
      },
      "outputs": [],
      "source": [
        "from sklearn.preprocessing import StandardScaler\n",
        "from sklearn.preprocessing import RobustScaler"
      ]
    },
    {
      "cell_type": "code",
      "execution_count": 74,
      "metadata": {
        "colab": {
          "base_uri": "https://localhost:8080/",
          "height": 243
        },
        "id": "LJ_iOOst80Xi",
        "outputId": "33f867cf-ea7d-40fe-e817-61108060954d"
      },
      "outputs": [
        {
          "data": {
            "text/html": [
              "<div>\n",
              "<style scoped>\n",
              "    .dataframe tbody tr th:only-of-type {\n",
              "        vertical-align: middle;\n",
              "    }\n",
              "\n",
              "    .dataframe tbody tr th {\n",
              "        vertical-align: top;\n",
              "    }\n",
              "\n",
              "    .dataframe thead th {\n",
              "        text-align: right;\n",
              "    }\n",
              "</style>\n",
              "<table border=\"1\" class=\"dataframe\">\n",
              "  <thead>\n",
              "    <tr style=\"text-align: right;\">\n",
              "      <th></th>\n",
              "      <th>Pregnancies</th>\n",
              "      <th>Glucose</th>\n",
              "      <th>BloodPressure</th>\n",
              "      <th>SkinThickness</th>\n",
              "      <th>Insulin</th>\n",
              "      <th>BMI</th>\n",
              "      <th>DiabetesPedigreeFunction</th>\n",
              "      <th>Age</th>\n",
              "      <th>Outcome</th>\n",
              "      <th>NumOfPreg</th>\n",
              "      <th>AgeGroup</th>\n",
              "      <th>GlucoseLevel</th>\n",
              "      <th>Insulin_Sensitivity</th>\n",
              "      <th>Glucose_Trend</th>\n",
              "      <th>BMIns</th>\n",
              "      <th>BMInsGroup</th>\n",
              "      <th>Age_standard_scaler</th>\n",
              "      <th>Age_robuts_scaler</th>\n",
              "      <th>Age_min_max_scaler</th>\n",
              "    </tr>\n",
              "  </thead>\n",
              "  <tbody>\n",
              "    <tr>\n",
              "      <th>0</th>\n",
              "      <td>6</td>\n",
              "      <td>148.0</td>\n",
              "      <td>72.0</td>\n",
              "      <td>35.0</td>\n",
              "      <td>125.0</td>\n",
              "      <td>33.6</td>\n",
              "      <td>0.6270</td>\n",
              "      <td>50.0</td>\n",
              "      <td>1</td>\n",
              "      <td>Above Normal</td>\n",
              "      <td>Old</td>\n",
              "      <td>High</td>\n",
              "      <td>0.035238</td>\n",
              "      <td>Stable</td>\n",
              "      <td>4200.00</td>\n",
              "      <td>Medium</td>\n",
              "      <td>1.459126</td>\n",
              "      <td>1.235294</td>\n",
              "      <td>0.637363</td>\n",
              "    </tr>\n",
              "    <tr>\n",
              "      <th>1</th>\n",
              "      <td>1</td>\n",
              "      <td>85.0</td>\n",
              "      <td>66.0</td>\n",
              "      <td>29.0</td>\n",
              "      <td>125.0</td>\n",
              "      <td>26.6</td>\n",
              "      <td>0.3510</td>\n",
              "      <td>31.0</td>\n",
              "      <td>0</td>\n",
              "      <td>Normal</td>\n",
              "      <td>Mature</td>\n",
              "      <td>Normal</td>\n",
              "      <td>0.025564</td>\n",
              "      <td>Decreasing</td>\n",
              "      <td>3325.00</td>\n",
              "      <td>Low</td>\n",
              "      <td>-0.185127</td>\n",
              "      <td>0.117647</td>\n",
              "      <td>0.219780</td>\n",
              "    </tr>\n",
              "    <tr>\n",
              "      <th>2</th>\n",
              "      <td>8</td>\n",
              "      <td>183.0</td>\n",
              "      <td>64.0</td>\n",
              "      <td>29.0</td>\n",
              "      <td>125.0</td>\n",
              "      <td>23.3</td>\n",
              "      <td>0.6720</td>\n",
              "      <td>32.0</td>\n",
              "      <td>1</td>\n",
              "      <td>Extreme</td>\n",
              "      <td>Mature</td>\n",
              "      <td>High</td>\n",
              "      <td>0.062833</td>\n",
              "      <td>Increasing</td>\n",
              "      <td>2912.50</td>\n",
              "      <td>Low</td>\n",
              "      <td>-0.098587</td>\n",
              "      <td>0.176471</td>\n",
              "      <td>0.241758</td>\n",
              "    </tr>\n",
              "    <tr>\n",
              "      <th>3</th>\n",
              "      <td>1</td>\n",
              "      <td>89.0</td>\n",
              "      <td>66.0</td>\n",
              "      <td>23.0</td>\n",
              "      <td>114.5</td>\n",
              "      <td>28.1</td>\n",
              "      <td>0.1670</td>\n",
              "      <td>21.0</td>\n",
              "      <td>0</td>\n",
              "      <td>Normal</td>\n",
              "      <td>Young</td>\n",
              "      <td>Normal</td>\n",
              "      <td>0.027662</td>\n",
              "      <td>Decreasing</td>\n",
              "      <td>3217.45</td>\n",
              "      <td>Low</td>\n",
              "      <td>-1.050523</td>\n",
              "      <td>-0.470588</td>\n",
              "      <td>0.000000</td>\n",
              "    </tr>\n",
              "    <tr>\n",
              "      <th>4</th>\n",
              "      <td>0</td>\n",
              "      <td>137.0</td>\n",
              "      <td>40.0</td>\n",
              "      <td>35.0</td>\n",
              "      <td>134.5</td>\n",
              "      <td>43.1</td>\n",
              "      <td>1.2005</td>\n",
              "      <td>33.0</td>\n",
              "      <td>1</td>\n",
              "      <td>Normal</td>\n",
              "      <td>Mature</td>\n",
              "      <td>High</td>\n",
              "      <td>0.023633</td>\n",
              "      <td>Increasing</td>\n",
              "      <td>5796.95</td>\n",
              "      <td>High</td>\n",
              "      <td>-0.012048</td>\n",
              "      <td>0.235294</td>\n",
              "      <td>0.263736</td>\n",
              "    </tr>\n",
              "  </tbody>\n",
              "</table>\n",
              "</div>"
            ],
            "text/plain": [
              "   Pregnancies  Glucose  BloodPressure  SkinThickness  Insulin   BMI  \\\n",
              "0            6    148.0           72.0           35.0    125.0  33.6   \n",
              "1            1     85.0           66.0           29.0    125.0  26.6   \n",
              "2            8    183.0           64.0           29.0    125.0  23.3   \n",
              "3            1     89.0           66.0           23.0    114.5  28.1   \n",
              "4            0    137.0           40.0           35.0    134.5  43.1   \n",
              "\n",
              "   DiabetesPedigreeFunction   Age  Outcome     NumOfPreg AgeGroup  \\\n",
              "0                    0.6270  50.0        1  Above Normal      Old   \n",
              "1                    0.3510  31.0        0        Normal   Mature   \n",
              "2                    0.6720  32.0        1       Extreme   Mature   \n",
              "3                    0.1670  21.0        0        Normal    Young   \n",
              "4                    1.2005  33.0        1        Normal   Mature   \n",
              "\n",
              "  GlucoseLevel  Insulin_Sensitivity Glucose_Trend    BMIns BMInsGroup  \\\n",
              "0         High             0.035238        Stable  4200.00     Medium   \n",
              "1       Normal             0.025564    Decreasing  3325.00        Low   \n",
              "2         High             0.062833    Increasing  2912.50        Low   \n",
              "3       Normal             0.027662    Decreasing  3217.45        Low   \n",
              "4         High             0.023633    Increasing  5796.95       High   \n",
              "\n",
              "   Age_standard_scaler  Age_robuts_scaler  Age_min_max_scaler  \n",
              "0             1.459126           1.235294            0.637363  \n",
              "1            -0.185127           0.117647            0.219780  \n",
              "2            -0.098587           0.176471            0.241758  \n",
              "3            -1.050523          -0.470588            0.000000  \n",
              "4            -0.012048           0.235294            0.263736  "
            ]
          },
          "execution_count": 74,
          "metadata": {},
          "output_type": "execute_result"
        }
      ],
      "source": [
        "# standart scaler\n",
        "ss = StandardScaler()\n",
        "df_scale[\"Age_standard_scaler\"] = ss.fit_transform(df_scale[[\"Age\"]])\n",
        "df_scale.head()\n",
        "\n",
        "# robust scaler\n",
        "rs = RobustScaler()\n",
        "df_scale[\"Age_robuts_scaler\"] = rs.fit_transform(df_scale[[\"Age\"]])\n",
        "\n",
        "# min-max scaler\n",
        "# The range can be given with the feature_range=() argument\n",
        "mms = MinMaxScaler() # default range from 0 to 1\n",
        "df_scale[\"Age_min_max_scaler\"] = mms.fit_transform(df_scale[[\"Age\"]])\n",
        "\n",
        "df_scale.head()"
      ]
    },
    {
      "cell_type": "markdown",
      "metadata": {
        "id": "Ltt29LVg5wiy"
      },
      "source": [
        "The choosen scaler must apply to all numerical data, the selection of scaler may depend of the algorithm to select or as an hyperparameter of the model design."
      ]
    },
    {
      "cell_type": "code",
      "execution_count": 75,
      "metadata": {
        "colab": {
          "base_uri": "https://localhost:8080/",
          "height": 231
        },
        "id": "BXa4A26E9XLp",
        "outputId": "c40cf83c-e2eb-44bc-ceac-f232d2db182f"
      },
      "outputs": [
        {
          "data": {
            "text/html": [
              "<div>\n",
              "<style scoped>\n",
              "    .dataframe tbody tr th:only-of-type {\n",
              "        vertical-align: middle;\n",
              "    }\n",
              "\n",
              "    .dataframe tbody tr th {\n",
              "        vertical-align: top;\n",
              "    }\n",
              "\n",
              "    .dataframe thead th {\n",
              "        text-align: right;\n",
              "    }\n",
              "</style>\n",
              "<table border=\"1\" class=\"dataframe\">\n",
              "  <thead>\n",
              "    <tr style=\"text-align: right;\">\n",
              "      <th></th>\n",
              "      <th>Pregnancies</th>\n",
              "      <th>Glucose</th>\n",
              "      <th>BloodPressure</th>\n",
              "      <th>SkinThickness</th>\n",
              "      <th>Insulin</th>\n",
              "      <th>BMI</th>\n",
              "      <th>DiabetesPedigreeFunction</th>\n",
              "      <th>Age</th>\n",
              "      <th>Outcome</th>\n",
              "      <th>NumOfPreg</th>\n",
              "      <th>AgeGroup</th>\n",
              "      <th>GlucoseLevel</th>\n",
              "      <th>Insulin_Sensitivity</th>\n",
              "      <th>Glucose_Trend</th>\n",
              "      <th>BMIns</th>\n",
              "      <th>BMInsGroup</th>\n",
              "    </tr>\n",
              "  </thead>\n",
              "  <tbody>\n",
              "    <tr>\n",
              "      <th>0</th>\n",
              "      <td>6</td>\n",
              "      <td>0.756098</td>\n",
              "      <td>0.000</td>\n",
              "      <td>0.857143</td>\n",
              "      <td>0.0</td>\n",
              "      <td>0.142857</td>\n",
              "      <td>0.671018</td>\n",
              "      <td>1.235294</td>\n",
              "      <td>1</td>\n",
              "      <td>Above Normal</td>\n",
              "      <td>Old</td>\n",
              "      <td>High</td>\n",
              "      <td>0.471849</td>\n",
              "      <td>Stable</td>\n",
              "      <td>0.160032</td>\n",
              "      <td>Medium</td>\n",
              "    </tr>\n",
              "    <tr>\n",
              "      <th>1</th>\n",
              "      <td>1</td>\n",
              "      <td>-0.780488</td>\n",
              "      <td>-0.375</td>\n",
              "      <td>0.000000</td>\n",
              "      <td>0.0</td>\n",
              "      <td>-0.626374</td>\n",
              "      <td>-0.049608</td>\n",
              "      <td>0.117647</td>\n",
              "      <td>0</td>\n",
              "      <td>Normal</td>\n",
              "      <td>Mature</td>\n",
              "      <td>Normal</td>\n",
              "      <td>-0.380373</td>\n",
              "      <td>Decreasing</td>\n",
              "      <td>-0.540108</td>\n",
              "      <td>Low</td>\n",
              "    </tr>\n",
              "    <tr>\n",
              "      <th>2</th>\n",
              "      <td>8</td>\n",
              "      <td>1.609756</td>\n",
              "      <td>-0.500</td>\n",
              "      <td>0.000000</td>\n",
              "      <td>0.0</td>\n",
              "      <td>-0.989011</td>\n",
              "      <td>0.788512</td>\n",
              "      <td>0.176471</td>\n",
              "      <td>1</td>\n",
              "      <td>Extreme</td>\n",
              "      <td>Mature</td>\n",
              "      <td>High</td>\n",
              "      <td>2.902716</td>\n",
              "      <td>Increasing</td>\n",
              "      <td>-0.870174</td>\n",
              "      <td>Low</td>\n",
              "    </tr>\n",
              "    <tr>\n",
              "      <th>3</th>\n",
              "      <td>1</td>\n",
              "      <td>-0.682927</td>\n",
              "      <td>-0.375</td>\n",
              "      <td>-0.857143</td>\n",
              "      <td>-2.1</td>\n",
              "      <td>-0.461538</td>\n",
              "      <td>-0.530026</td>\n",
              "      <td>-0.470588</td>\n",
              "      <td>0</td>\n",
              "      <td>Normal</td>\n",
              "      <td>Young</td>\n",
              "      <td>Normal</td>\n",
              "      <td>-0.195577</td>\n",
              "      <td>Decreasing</td>\n",
              "      <td>-0.626165</td>\n",
              "      <td>Low</td>\n",
              "    </tr>\n",
              "    <tr>\n",
              "      <th>4</th>\n",
              "      <td>0</td>\n",
              "      <td>0.487805</td>\n",
              "      <td>-2.000</td>\n",
              "      <td>0.857143</td>\n",
              "      <td>1.9</td>\n",
              "      <td>1.186813</td>\n",
              "      <td>2.168407</td>\n",
              "      <td>0.235294</td>\n",
              "      <td>1</td>\n",
              "      <td>Normal</td>\n",
              "      <td>Mature</td>\n",
              "      <td>High</td>\n",
              "      <td>-0.550461</td>\n",
              "      <td>Increasing</td>\n",
              "      <td>1.437848</td>\n",
              "      <td>High</td>\n",
              "    </tr>\n",
              "  </tbody>\n",
              "</table>\n",
              "</div>"
            ],
            "text/plain": [
              "   Pregnancies   Glucose  BloodPressure  SkinThickness  Insulin       BMI  \\\n",
              "0            6  0.756098          0.000       0.857143      0.0  0.142857   \n",
              "1            1 -0.780488         -0.375       0.000000      0.0 -0.626374   \n",
              "2            8  1.609756         -0.500       0.000000      0.0 -0.989011   \n",
              "3            1 -0.682927         -0.375      -0.857143     -2.1 -0.461538   \n",
              "4            0  0.487805         -2.000       0.857143      1.9  1.186813   \n",
              "\n",
              "   DiabetesPedigreeFunction       Age  Outcome     NumOfPreg AgeGroup  \\\n",
              "0                  0.671018  1.235294        1  Above Normal      Old   \n",
              "1                 -0.049608  0.117647        0        Normal   Mature   \n",
              "2                  0.788512  0.176471        1       Extreme   Mature   \n",
              "3                 -0.530026 -0.470588        0        Normal    Young   \n",
              "4                  2.168407  0.235294        1        Normal   Mature   \n",
              "\n",
              "  GlucoseLevel  Insulin_Sensitivity Glucose_Trend     BMIns BMInsGroup  \n",
              "0         High             0.471849        Stable  0.160032     Medium  \n",
              "1       Normal            -0.380373    Decreasing -0.540108        Low  \n",
              "2         High             2.902716    Increasing -0.870174        Low  \n",
              "3       Normal            -0.195577    Decreasing -0.626165        Low  \n",
              "4         High            -0.550461    Increasing  1.437848       High  "
            ]
          },
          "execution_count": 75,
          "metadata": {},
          "output_type": "execute_result"
        }
      ],
      "source": [
        "rs = RobustScaler()\n",
        "for i in new_num_data:\n",
        "    diabetes_data[i] = rs.fit_transform(diabetes_data[[i]])\n",
        "diabetes_data.head()"
      ]
    },
    {
      "cell_type": "code",
      "execution_count": 76,
      "metadata": {
        "colab": {
          "base_uri": "https://localhost:8080/",
          "height": 243
        },
        "id": "3svpaVPo_lV7",
        "outputId": "4822f8a0-d3c3-435d-9859-a3b033f54326"
      },
      "outputs": [
        {
          "data": {
            "text/html": [
              "<div>\n",
              "<style scoped>\n",
              "    .dataframe tbody tr th:only-of-type {\n",
              "        vertical-align: middle;\n",
              "    }\n",
              "\n",
              "    .dataframe tbody tr th {\n",
              "        vertical-align: top;\n",
              "    }\n",
              "\n",
              "    .dataframe thead th {\n",
              "        text-align: right;\n",
              "    }\n",
              "</style>\n",
              "<table border=\"1\" class=\"dataframe\">\n",
              "  <thead>\n",
              "    <tr style=\"text-align: right;\">\n",
              "      <th></th>\n",
              "      <th>Pregnancies</th>\n",
              "      <th>Glucose</th>\n",
              "      <th>BloodPressure</th>\n",
              "      <th>SkinThickness</th>\n",
              "      <th>Insulin</th>\n",
              "      <th>BMI</th>\n",
              "      <th>DiabetesPedigreeFunction</th>\n",
              "      <th>Age</th>\n",
              "      <th>Outcome</th>\n",
              "      <th>Insulin_Sensitivity</th>\n",
              "      <th>...</th>\n",
              "      <th>BMIns</th>\n",
              "      <th>NumOfPreg_Above Normal</th>\n",
              "      <th>NumOfPreg_Extreme</th>\n",
              "      <th>AgeGroup_Mature</th>\n",
              "      <th>AgeGroup_Old</th>\n",
              "      <th>GlucoseLevel_Normal</th>\n",
              "      <th>GlucoseLevel_Medium</th>\n",
              "      <th>GlucoseLevel_High</th>\n",
              "      <th>BMInsGroup_Medium</th>\n",
              "      <th>BMInsGroup_High</th>\n",
              "    </tr>\n",
              "  </thead>\n",
              "  <tbody>\n",
              "    <tr>\n",
              "      <th>0</th>\n",
              "      <td>6</td>\n",
              "      <td>0.756098</td>\n",
              "      <td>0.000</td>\n",
              "      <td>0.857143</td>\n",
              "      <td>0.0</td>\n",
              "      <td>0.142857</td>\n",
              "      <td>0.671018</td>\n",
              "      <td>1.235294</td>\n",
              "      <td>1</td>\n",
              "      <td>0.471849</td>\n",
              "      <td>...</td>\n",
              "      <td>0.160032</td>\n",
              "      <td>True</td>\n",
              "      <td>False</td>\n",
              "      <td>False</td>\n",
              "      <td>True</td>\n",
              "      <td>False</td>\n",
              "      <td>False</td>\n",
              "      <td>True</td>\n",
              "      <td>True</td>\n",
              "      <td>False</td>\n",
              "    </tr>\n",
              "    <tr>\n",
              "      <th>1</th>\n",
              "      <td>1</td>\n",
              "      <td>-0.780488</td>\n",
              "      <td>-0.375</td>\n",
              "      <td>0.000000</td>\n",
              "      <td>0.0</td>\n",
              "      <td>-0.626374</td>\n",
              "      <td>-0.049608</td>\n",
              "      <td>0.117647</td>\n",
              "      <td>0</td>\n",
              "      <td>-0.380373</td>\n",
              "      <td>...</td>\n",
              "      <td>-0.540108</td>\n",
              "      <td>False</td>\n",
              "      <td>False</td>\n",
              "      <td>True</td>\n",
              "      <td>False</td>\n",
              "      <td>True</td>\n",
              "      <td>False</td>\n",
              "      <td>False</td>\n",
              "      <td>False</td>\n",
              "      <td>False</td>\n",
              "    </tr>\n",
              "    <tr>\n",
              "      <th>2</th>\n",
              "      <td>8</td>\n",
              "      <td>1.609756</td>\n",
              "      <td>-0.500</td>\n",
              "      <td>0.000000</td>\n",
              "      <td>0.0</td>\n",
              "      <td>-0.989011</td>\n",
              "      <td>0.788512</td>\n",
              "      <td>0.176471</td>\n",
              "      <td>1</td>\n",
              "      <td>2.902716</td>\n",
              "      <td>...</td>\n",
              "      <td>-0.870174</td>\n",
              "      <td>False</td>\n",
              "      <td>True</td>\n",
              "      <td>True</td>\n",
              "      <td>False</td>\n",
              "      <td>False</td>\n",
              "      <td>False</td>\n",
              "      <td>True</td>\n",
              "      <td>False</td>\n",
              "      <td>False</td>\n",
              "    </tr>\n",
              "    <tr>\n",
              "      <th>3</th>\n",
              "      <td>1</td>\n",
              "      <td>-0.682927</td>\n",
              "      <td>-0.375</td>\n",
              "      <td>-0.857143</td>\n",
              "      <td>-2.1</td>\n",
              "      <td>-0.461538</td>\n",
              "      <td>-0.530026</td>\n",
              "      <td>-0.470588</td>\n",
              "      <td>0</td>\n",
              "      <td>-0.195577</td>\n",
              "      <td>...</td>\n",
              "      <td>-0.626165</td>\n",
              "      <td>False</td>\n",
              "      <td>False</td>\n",
              "      <td>False</td>\n",
              "      <td>False</td>\n",
              "      <td>True</td>\n",
              "      <td>False</td>\n",
              "      <td>False</td>\n",
              "      <td>False</td>\n",
              "      <td>False</td>\n",
              "    </tr>\n",
              "    <tr>\n",
              "      <th>4</th>\n",
              "      <td>0</td>\n",
              "      <td>0.487805</td>\n",
              "      <td>-2.000</td>\n",
              "      <td>0.857143</td>\n",
              "      <td>1.9</td>\n",
              "      <td>1.186813</td>\n",
              "      <td>2.168407</td>\n",
              "      <td>0.235294</td>\n",
              "      <td>1</td>\n",
              "      <td>-0.550461</td>\n",
              "      <td>...</td>\n",
              "      <td>1.437848</td>\n",
              "      <td>False</td>\n",
              "      <td>False</td>\n",
              "      <td>True</td>\n",
              "      <td>False</td>\n",
              "      <td>False</td>\n",
              "      <td>False</td>\n",
              "      <td>True</td>\n",
              "      <td>False</td>\n",
              "      <td>True</td>\n",
              "    </tr>\n",
              "  </tbody>\n",
              "</table>\n",
              "<p>5 rows × 21 columns</p>\n",
              "</div>"
            ],
            "text/plain": [
              "   Pregnancies   Glucose  BloodPressure  SkinThickness  Insulin       BMI  \\\n",
              "0            6  0.756098          0.000       0.857143      0.0  0.142857   \n",
              "1            1 -0.780488         -0.375       0.000000      0.0 -0.626374   \n",
              "2            8  1.609756         -0.500       0.000000      0.0 -0.989011   \n",
              "3            1 -0.682927         -0.375      -0.857143     -2.1 -0.461538   \n",
              "4            0  0.487805         -2.000       0.857143      1.9  1.186813   \n",
              "\n",
              "   DiabetesPedigreeFunction       Age  Outcome  Insulin_Sensitivity  ...  \\\n",
              "0                  0.671018  1.235294        1             0.471849  ...   \n",
              "1                 -0.049608  0.117647        0            -0.380373  ...   \n",
              "2                  0.788512  0.176471        1             2.902716  ...   \n",
              "3                 -0.530026 -0.470588        0            -0.195577  ...   \n",
              "4                  2.168407  0.235294        1            -0.550461  ...   \n",
              "\n",
              "      BMIns  NumOfPreg_Above Normal  NumOfPreg_Extreme  AgeGroup_Mature  \\\n",
              "0  0.160032                    True              False            False   \n",
              "1 -0.540108                   False              False             True   \n",
              "2 -0.870174                   False               True             True   \n",
              "3 -0.626165                   False              False            False   \n",
              "4  1.437848                   False              False             True   \n",
              "\n",
              "   AgeGroup_Old  GlucoseLevel_Normal  GlucoseLevel_Medium  GlucoseLevel_High  \\\n",
              "0          True                False                False               True   \n",
              "1         False                 True                False              False   \n",
              "2         False                False                False               True   \n",
              "3         False                 True                False              False   \n",
              "4         False                False                False               True   \n",
              "\n",
              "   BMInsGroup_Medium  BMInsGroup_High  \n",
              "0               True            False  \n",
              "1              False            False  \n",
              "2              False            False  \n",
              "3              False            False  \n",
              "4              False             True  \n",
              "\n",
              "[5 rows x 21 columns]"
            ]
          },
          "execution_count": 76,
          "metadata": {},
          "output_type": "execute_result"
        }
      ],
      "source": [
        "diabetes_data= pd.get_dummies(diabetes_data, columns=new_cat_columns, drop_first=True)\n",
        "diabetes_data.head()"
      ]
    },
    {
      "cell_type": "markdown",
      "metadata": {
        "id": "YprI9bVv_HLB"
      },
      "source": [
        "# Train Model\n"
      ]
    },
    {
      "cell_type": "code",
      "execution_count": 77,
      "metadata": {
        "id": "H2CMUmDU_XCm"
      },
      "outputs": [],
      "source": [
        "from sklearn.model_selection import train_test_split"
      ]
    },
    {
      "cell_type": "code",
      "execution_count": 78,
      "metadata": {
        "id": "uEhcc1qYABuN"
      },
      "outputs": [],
      "source": [
        "y = diabetes_data[\"Outcome\"]"
      ]
    },
    {
      "cell_type": "code",
      "execution_count": 79,
      "metadata": {
        "id": "BbkBQfa4AF6W"
      },
      "outputs": [],
      "source": [
        "X = diabetes_data.drop([\"Outcome\"], axis=1)"
      ]
    },
    {
      "cell_type": "code",
      "execution_count": 80,
      "metadata": {
        "id": "SS1teECl_VLP"
      },
      "outputs": [],
      "source": [
        "X_train, X_test, y_train, y_test = train_test_split(X, y, test_size=0.20, random_state=17)"
      ]
    },
    {
      "cell_type": "code",
      "execution_count": 81,
      "metadata": {
        "id": "tyahBUs5Ai4q"
      },
      "outputs": [],
      "source": [
        "from sklearn.model_selection import GridSearchCV\n",
        "from sklearn.metrics import confusion_matrix\n",
        "from sklearn.metrics import accuracy_score"
      ]
    },
    {
      "cell_type": "code",
      "execution_count": 82,
      "metadata": {
        "id": "n2tB95-4AlmG"
      },
      "outputs": [],
      "source": [
        "from sklearn.neighbors import KNeighborsClassifier\n",
        "from sklearn.tree import DecisionTreeClassifier\n",
        "from sklearn.svm import SVC"
      ]
    },
    {
      "cell_type": "code",
      "execution_count": 83,
      "metadata": {
        "id": "llOQvoWLAn-X"
      },
      "outputs": [],
      "source": [
        "from sklearn.model_selection import cross_val_score"
      ]
    },
    {
      "cell_type": "code",
      "execution_count": 84,
      "metadata": {
        "colab": {
          "base_uri": "https://localhost:8080/",
          "height": 231
        },
        "id": "GsEDBNYDAY0w",
        "outputId": "b6b3f379-9ab0-4b85-a735-4f4b216f4240"
      },
      "outputs": [
        {
          "ename": "ValueError",
          "evalue": "could not convert string to float: 'Decreasing'",
          "output_type": "error",
          "traceback": [
            "\u001b[0;31m---------------------------------------------------------------------------\u001b[0m",
            "\u001b[0;31mValueError\u001b[0m                                Traceback (most recent call last)",
            "Cell \u001b[0;32mIn[84], line 2\u001b[0m\n\u001b[1;32m      1\u001b[0m \u001b[39mfrom\u001b[39;00m \u001b[39msklearn\u001b[39;00m\u001b[39m.\u001b[39;00m\u001b[39mensemble\u001b[39;00m \u001b[39mimport\u001b[39;00m RandomForestClassifier\n\u001b[0;32m----> 2\u001b[0m rf_model \u001b[39m=\u001b[39m RandomForestClassifier(random_state\u001b[39m=\u001b[39;49m\u001b[39m46\u001b[39;49m)\u001b[39m.\u001b[39;49mfit(X_train, y_train)\n\u001b[1;32m      3\u001b[0m y_pred \u001b[39m=\u001b[39m rf_model\u001b[39m.\u001b[39mpredict(X_test)\n\u001b[1;32m      4\u001b[0m accuracy_score(y_pred, y_test)\n",
            "File \u001b[0;32m~/.pyenv/versions/3.11.0/lib/python3.11/site-packages/sklearn/base.py:1151\u001b[0m, in \u001b[0;36m_fit_context.<locals>.decorator.<locals>.wrapper\u001b[0;34m(estimator, *args, **kwargs)\u001b[0m\n\u001b[1;32m   1144\u001b[0m     estimator\u001b[39m.\u001b[39m_validate_params()\n\u001b[1;32m   1146\u001b[0m \u001b[39mwith\u001b[39;00m config_context(\n\u001b[1;32m   1147\u001b[0m     skip_parameter_validation\u001b[39m=\u001b[39m(\n\u001b[1;32m   1148\u001b[0m         prefer_skip_nested_validation \u001b[39mor\u001b[39;00m global_skip_validation\n\u001b[1;32m   1149\u001b[0m     )\n\u001b[1;32m   1150\u001b[0m ):\n\u001b[0;32m-> 1151\u001b[0m     \u001b[39mreturn\u001b[39;00m fit_method(estimator, \u001b[39m*\u001b[39;49margs, \u001b[39m*\u001b[39;49m\u001b[39m*\u001b[39;49mkwargs)\n",
            "File \u001b[0;32m~/.pyenv/versions/3.11.0/lib/python3.11/site-packages/sklearn/ensemble/_forest.py:348\u001b[0m, in \u001b[0;36mBaseForest.fit\u001b[0;34m(self, X, y, sample_weight)\u001b[0m\n\u001b[1;32m    346\u001b[0m \u001b[39mif\u001b[39;00m issparse(y):\n\u001b[1;32m    347\u001b[0m     \u001b[39mraise\u001b[39;00m \u001b[39mValueError\u001b[39;00m(\u001b[39m\"\u001b[39m\u001b[39msparse multilabel-indicator for y is not supported.\u001b[39m\u001b[39m\"\u001b[39m)\n\u001b[0;32m--> 348\u001b[0m X, y \u001b[39m=\u001b[39m \u001b[39mself\u001b[39;49m\u001b[39m.\u001b[39;49m_validate_data(\n\u001b[1;32m    349\u001b[0m     X, y, multi_output\u001b[39m=\u001b[39;49m\u001b[39mTrue\u001b[39;49;00m, accept_sparse\u001b[39m=\u001b[39;49m\u001b[39m\"\u001b[39;49m\u001b[39mcsc\u001b[39;49m\u001b[39m\"\u001b[39;49m, dtype\u001b[39m=\u001b[39;49mDTYPE\n\u001b[1;32m    350\u001b[0m )\n\u001b[1;32m    351\u001b[0m \u001b[39mif\u001b[39;00m sample_weight \u001b[39mis\u001b[39;00m \u001b[39mnot\u001b[39;00m \u001b[39mNone\u001b[39;00m:\n\u001b[1;32m    352\u001b[0m     sample_weight \u001b[39m=\u001b[39m _check_sample_weight(sample_weight, X)\n",
            "File \u001b[0;32m~/.pyenv/versions/3.11.0/lib/python3.11/site-packages/sklearn/base.py:621\u001b[0m, in \u001b[0;36mBaseEstimator._validate_data\u001b[0;34m(self, X, y, reset, validate_separately, cast_to_ndarray, **check_params)\u001b[0m\n\u001b[1;32m    619\u001b[0m         y \u001b[39m=\u001b[39m check_array(y, input_name\u001b[39m=\u001b[39m\u001b[39m\"\u001b[39m\u001b[39my\u001b[39m\u001b[39m\"\u001b[39m, \u001b[39m*\u001b[39m\u001b[39m*\u001b[39mcheck_y_params)\n\u001b[1;32m    620\u001b[0m     \u001b[39melse\u001b[39;00m:\n\u001b[0;32m--> 621\u001b[0m         X, y \u001b[39m=\u001b[39m check_X_y(X, y, \u001b[39m*\u001b[39;49m\u001b[39m*\u001b[39;49mcheck_params)\n\u001b[1;32m    622\u001b[0m     out \u001b[39m=\u001b[39m X, y\n\u001b[1;32m    624\u001b[0m \u001b[39mif\u001b[39;00m \u001b[39mnot\u001b[39;00m no_val_X \u001b[39mand\u001b[39;00m check_params\u001b[39m.\u001b[39mget(\u001b[39m\"\u001b[39m\u001b[39mensure_2d\u001b[39m\u001b[39m\"\u001b[39m, \u001b[39mTrue\u001b[39;00m):\n",
            "File \u001b[0;32m~/.pyenv/versions/3.11.0/lib/python3.11/site-packages/sklearn/utils/validation.py:1147\u001b[0m, in \u001b[0;36mcheck_X_y\u001b[0;34m(X, y, accept_sparse, accept_large_sparse, dtype, order, copy, force_all_finite, ensure_2d, allow_nd, multi_output, ensure_min_samples, ensure_min_features, y_numeric, estimator)\u001b[0m\n\u001b[1;32m   1142\u001b[0m         estimator_name \u001b[39m=\u001b[39m _check_estimator_name(estimator)\n\u001b[1;32m   1143\u001b[0m     \u001b[39mraise\u001b[39;00m \u001b[39mValueError\u001b[39;00m(\n\u001b[1;32m   1144\u001b[0m         \u001b[39mf\u001b[39m\u001b[39m\"\u001b[39m\u001b[39m{\u001b[39;00mestimator_name\u001b[39m}\u001b[39;00m\u001b[39m requires y to be passed, but the target y is None\u001b[39m\u001b[39m\"\u001b[39m\n\u001b[1;32m   1145\u001b[0m     )\n\u001b[0;32m-> 1147\u001b[0m X \u001b[39m=\u001b[39m check_array(\n\u001b[1;32m   1148\u001b[0m     X,\n\u001b[1;32m   1149\u001b[0m     accept_sparse\u001b[39m=\u001b[39;49maccept_sparse,\n\u001b[1;32m   1150\u001b[0m     accept_large_sparse\u001b[39m=\u001b[39;49maccept_large_sparse,\n\u001b[1;32m   1151\u001b[0m     dtype\u001b[39m=\u001b[39;49mdtype,\n\u001b[1;32m   1152\u001b[0m     order\u001b[39m=\u001b[39;49morder,\n\u001b[1;32m   1153\u001b[0m     copy\u001b[39m=\u001b[39;49mcopy,\n\u001b[1;32m   1154\u001b[0m     force_all_finite\u001b[39m=\u001b[39;49mforce_all_finite,\n\u001b[1;32m   1155\u001b[0m     ensure_2d\u001b[39m=\u001b[39;49mensure_2d,\n\u001b[1;32m   1156\u001b[0m     allow_nd\u001b[39m=\u001b[39;49mallow_nd,\n\u001b[1;32m   1157\u001b[0m     ensure_min_samples\u001b[39m=\u001b[39;49mensure_min_samples,\n\u001b[1;32m   1158\u001b[0m     ensure_min_features\u001b[39m=\u001b[39;49mensure_min_features,\n\u001b[1;32m   1159\u001b[0m     estimator\u001b[39m=\u001b[39;49mestimator,\n\u001b[1;32m   1160\u001b[0m     input_name\u001b[39m=\u001b[39;49m\u001b[39m\"\u001b[39;49m\u001b[39mX\u001b[39;49m\u001b[39m\"\u001b[39;49m,\n\u001b[1;32m   1161\u001b[0m )\n\u001b[1;32m   1163\u001b[0m y \u001b[39m=\u001b[39m _check_y(y, multi_output\u001b[39m=\u001b[39mmulti_output, y_numeric\u001b[39m=\u001b[39my_numeric, estimator\u001b[39m=\u001b[39mestimator)\n\u001b[1;32m   1165\u001b[0m check_consistent_length(X, y)\n",
            "File \u001b[0;32m~/.pyenv/versions/3.11.0/lib/python3.11/site-packages/sklearn/utils/validation.py:838\u001b[0m, in \u001b[0;36mcheck_array\u001b[0;34m(array, accept_sparse, accept_large_sparse, dtype, order, copy, force_all_finite, ensure_2d, allow_nd, ensure_min_samples, ensure_min_features, estimator, input_name)\u001b[0m\n\u001b[1;32m    833\u001b[0m \u001b[39mif\u001b[39;00m pandas_requires_conversion:\n\u001b[1;32m    834\u001b[0m     \u001b[39m# pandas dataframe requires conversion earlier to handle extension dtypes with\u001b[39;00m\n\u001b[1;32m    835\u001b[0m     \u001b[39m# nans\u001b[39;00m\n\u001b[1;32m    836\u001b[0m     \u001b[39m# Use the original dtype for conversion if dtype is None\u001b[39;00m\n\u001b[1;32m    837\u001b[0m     new_dtype \u001b[39m=\u001b[39m dtype_orig \u001b[39mif\u001b[39;00m dtype \u001b[39mis\u001b[39;00m \u001b[39mNone\u001b[39;00m \u001b[39melse\u001b[39;00m dtype\n\u001b[0;32m--> 838\u001b[0m     array \u001b[39m=\u001b[39m array\u001b[39m.\u001b[39;49mastype(new_dtype)\n\u001b[1;32m    839\u001b[0m     \u001b[39m# Since we converted here, we do not need to convert again later\u001b[39;00m\n\u001b[1;32m    840\u001b[0m     dtype \u001b[39m=\u001b[39m \u001b[39mNone\u001b[39;00m\n",
            "File \u001b[0;32m~/.pyenv/versions/3.11.0/lib/python3.11/site-packages/pandas/core/generic.py:6324\u001b[0m, in \u001b[0;36mNDFrame.astype\u001b[0;34m(self, dtype, copy, errors)\u001b[0m\n\u001b[1;32m   6317\u001b[0m     results \u001b[39m=\u001b[39m [\n\u001b[1;32m   6318\u001b[0m         \u001b[39mself\u001b[39m\u001b[39m.\u001b[39miloc[:, i]\u001b[39m.\u001b[39mastype(dtype, copy\u001b[39m=\u001b[39mcopy)\n\u001b[1;32m   6319\u001b[0m         \u001b[39mfor\u001b[39;00m i \u001b[39min\u001b[39;00m \u001b[39mrange\u001b[39m(\u001b[39mlen\u001b[39m(\u001b[39mself\u001b[39m\u001b[39m.\u001b[39mcolumns))\n\u001b[1;32m   6320\u001b[0m     ]\n\u001b[1;32m   6322\u001b[0m \u001b[39melse\u001b[39;00m:\n\u001b[1;32m   6323\u001b[0m     \u001b[39m# else, only a single dtype is given\u001b[39;00m\n\u001b[0;32m-> 6324\u001b[0m     new_data \u001b[39m=\u001b[39m \u001b[39mself\u001b[39;49m\u001b[39m.\u001b[39;49m_mgr\u001b[39m.\u001b[39;49mastype(dtype\u001b[39m=\u001b[39;49mdtype, copy\u001b[39m=\u001b[39;49mcopy, errors\u001b[39m=\u001b[39;49merrors)\n\u001b[1;32m   6325\u001b[0m     \u001b[39mreturn\u001b[39;00m \u001b[39mself\u001b[39m\u001b[39m.\u001b[39m_constructor(new_data)\u001b[39m.\u001b[39m__finalize__(\u001b[39mself\u001b[39m, method\u001b[39m=\u001b[39m\u001b[39m\"\u001b[39m\u001b[39mastype\u001b[39m\u001b[39m\"\u001b[39m)\n\u001b[1;32m   6327\u001b[0m \u001b[39m# GH 33113: handle empty frame or series\u001b[39;00m\n",
            "File \u001b[0;32m~/.pyenv/versions/3.11.0/lib/python3.11/site-packages/pandas/core/internals/managers.py:451\u001b[0m, in \u001b[0;36mBaseBlockManager.astype\u001b[0;34m(self, dtype, copy, errors)\u001b[0m\n\u001b[1;32m    448\u001b[0m \u001b[39melif\u001b[39;00m using_copy_on_write():\n\u001b[1;32m    449\u001b[0m     copy \u001b[39m=\u001b[39m \u001b[39mFalse\u001b[39;00m\n\u001b[0;32m--> 451\u001b[0m \u001b[39mreturn\u001b[39;00m \u001b[39mself\u001b[39;49m\u001b[39m.\u001b[39;49mapply(\n\u001b[1;32m    452\u001b[0m     \u001b[39m\"\u001b[39;49m\u001b[39mastype\u001b[39;49m\u001b[39m\"\u001b[39;49m,\n\u001b[1;32m    453\u001b[0m     dtype\u001b[39m=\u001b[39;49mdtype,\n\u001b[1;32m    454\u001b[0m     copy\u001b[39m=\u001b[39;49mcopy,\n\u001b[1;32m    455\u001b[0m     errors\u001b[39m=\u001b[39;49merrors,\n\u001b[1;32m    456\u001b[0m     using_cow\u001b[39m=\u001b[39;49musing_copy_on_write(),\n\u001b[1;32m    457\u001b[0m )\n",
            "File \u001b[0;32m~/.pyenv/versions/3.11.0/lib/python3.11/site-packages/pandas/core/internals/managers.py:352\u001b[0m, in \u001b[0;36mBaseBlockManager.apply\u001b[0;34m(self, f, align_keys, **kwargs)\u001b[0m\n\u001b[1;32m    350\u001b[0m         applied \u001b[39m=\u001b[39m b\u001b[39m.\u001b[39mapply(f, \u001b[39m*\u001b[39m\u001b[39m*\u001b[39mkwargs)\n\u001b[1;32m    351\u001b[0m     \u001b[39melse\u001b[39;00m:\n\u001b[0;32m--> 352\u001b[0m         applied \u001b[39m=\u001b[39m \u001b[39mgetattr\u001b[39;49m(b, f)(\u001b[39m*\u001b[39;49m\u001b[39m*\u001b[39;49mkwargs)\n\u001b[1;32m    353\u001b[0m     result_blocks \u001b[39m=\u001b[39m extend_blocks(applied, result_blocks)\n\u001b[1;32m    355\u001b[0m out \u001b[39m=\u001b[39m \u001b[39mtype\u001b[39m(\u001b[39mself\u001b[39m)\u001b[39m.\u001b[39mfrom_blocks(result_blocks, \u001b[39mself\u001b[39m\u001b[39m.\u001b[39maxes)\n",
            "File \u001b[0;32m~/.pyenv/versions/3.11.0/lib/python3.11/site-packages/pandas/core/internals/blocks.py:511\u001b[0m, in \u001b[0;36mBlock.astype\u001b[0;34m(self, dtype, copy, errors, using_cow)\u001b[0m\n\u001b[1;32m    491\u001b[0m \u001b[39m\u001b[39m\u001b[39m\"\"\"\u001b[39;00m\n\u001b[1;32m    492\u001b[0m \u001b[39mCoerce to the new dtype.\u001b[39;00m\n\u001b[1;32m    493\u001b[0m \n\u001b[0;32m   (...)\u001b[0m\n\u001b[1;32m    507\u001b[0m \u001b[39mBlock\u001b[39;00m\n\u001b[1;32m    508\u001b[0m \u001b[39m\"\"\"\u001b[39;00m\n\u001b[1;32m    509\u001b[0m values \u001b[39m=\u001b[39m \u001b[39mself\u001b[39m\u001b[39m.\u001b[39mvalues\n\u001b[0;32m--> 511\u001b[0m new_values \u001b[39m=\u001b[39m astype_array_safe(values, dtype, copy\u001b[39m=\u001b[39;49mcopy, errors\u001b[39m=\u001b[39;49merrors)\n\u001b[1;32m    513\u001b[0m new_values \u001b[39m=\u001b[39m maybe_coerce_values(new_values)\n\u001b[1;32m    515\u001b[0m refs \u001b[39m=\u001b[39m \u001b[39mNone\u001b[39;00m\n",
            "File \u001b[0;32m~/.pyenv/versions/3.11.0/lib/python3.11/site-packages/pandas/core/dtypes/astype.py:242\u001b[0m, in \u001b[0;36mastype_array_safe\u001b[0;34m(values, dtype, copy, errors)\u001b[0m\n\u001b[1;32m    239\u001b[0m     dtype \u001b[39m=\u001b[39m dtype\u001b[39m.\u001b[39mnumpy_dtype\n\u001b[1;32m    241\u001b[0m \u001b[39mtry\u001b[39;00m:\n\u001b[0;32m--> 242\u001b[0m     new_values \u001b[39m=\u001b[39m astype_array(values, dtype, copy\u001b[39m=\u001b[39;49mcopy)\n\u001b[1;32m    243\u001b[0m \u001b[39mexcept\u001b[39;00m (\u001b[39mValueError\u001b[39;00m, \u001b[39mTypeError\u001b[39;00m):\n\u001b[1;32m    244\u001b[0m     \u001b[39m# e.g. _astype_nansafe can fail on object-dtype of strings\u001b[39;00m\n\u001b[1;32m    245\u001b[0m     \u001b[39m#  trying to convert to float\u001b[39;00m\n\u001b[1;32m    246\u001b[0m     \u001b[39mif\u001b[39;00m errors \u001b[39m==\u001b[39m \u001b[39m\"\u001b[39m\u001b[39mignore\u001b[39m\u001b[39m\"\u001b[39m:\n",
            "File \u001b[0;32m~/.pyenv/versions/3.11.0/lib/python3.11/site-packages/pandas/core/dtypes/astype.py:187\u001b[0m, in \u001b[0;36mastype_array\u001b[0;34m(values, dtype, copy)\u001b[0m\n\u001b[1;32m    184\u001b[0m     values \u001b[39m=\u001b[39m values\u001b[39m.\u001b[39mastype(dtype, copy\u001b[39m=\u001b[39mcopy)\n\u001b[1;32m    186\u001b[0m \u001b[39melse\u001b[39;00m:\n\u001b[0;32m--> 187\u001b[0m     values \u001b[39m=\u001b[39m _astype_nansafe(values, dtype, copy\u001b[39m=\u001b[39;49mcopy)\n\u001b[1;32m    189\u001b[0m \u001b[39m# in pandas we don't store numpy str dtypes, so convert to object\u001b[39;00m\n\u001b[1;32m    190\u001b[0m \u001b[39mif\u001b[39;00m \u001b[39misinstance\u001b[39m(dtype, np\u001b[39m.\u001b[39mdtype) \u001b[39mand\u001b[39;00m \u001b[39missubclass\u001b[39m(values\u001b[39m.\u001b[39mdtype\u001b[39m.\u001b[39mtype, \u001b[39mstr\u001b[39m):\n",
            "File \u001b[0;32m~/.pyenv/versions/3.11.0/lib/python3.11/site-packages/pandas/core/dtypes/astype.py:138\u001b[0m, in \u001b[0;36m_astype_nansafe\u001b[0;34m(arr, dtype, copy, skipna)\u001b[0m\n\u001b[1;32m    134\u001b[0m     \u001b[39mraise\u001b[39;00m \u001b[39mValueError\u001b[39;00m(msg)\n\u001b[1;32m    136\u001b[0m \u001b[39mif\u001b[39;00m copy \u001b[39mor\u001b[39;00m is_object_dtype(arr\u001b[39m.\u001b[39mdtype) \u001b[39mor\u001b[39;00m is_object_dtype(dtype):\n\u001b[1;32m    137\u001b[0m     \u001b[39m# Explicit copy, or required since NumPy can't view from / to object.\u001b[39;00m\n\u001b[0;32m--> 138\u001b[0m     \u001b[39mreturn\u001b[39;00m arr\u001b[39m.\u001b[39;49mastype(dtype, copy\u001b[39m=\u001b[39;49m\u001b[39mTrue\u001b[39;49;00m)\n\u001b[1;32m    140\u001b[0m \u001b[39mreturn\u001b[39;00m arr\u001b[39m.\u001b[39mastype(dtype, copy\u001b[39m=\u001b[39mcopy)\n",
            "\u001b[0;31mValueError\u001b[0m: could not convert string to float: 'Decreasing'"
          ]
        }
      ],
      "source": [
        "from sklearn.ensemble import RandomForestClassifier\n",
        "rf_model = RandomForestClassifier(random_state=46).fit(X_train, y_train)\n",
        "y_pred = rf_model.predict(X_test)\n",
        "accuracy_score(y_pred, y_test)"
      ]
    },
    {
      "cell_type": "code",
      "execution_count": null,
      "metadata": {},
      "outputs": [],
      "source": []
    }
  ],
  "metadata": {
    "colab": {
      "provenance": []
    },
    "kernelspec": {
      "display_name": "Python 3",
      "name": "python3"
    },
    "language_info": {
      "codemirror_mode": {
        "name": "ipython",
        "version": 3
      },
      "file_extension": ".py",
      "mimetype": "text/x-python",
      "name": "python",
      "nbconvert_exporter": "python",
      "pygments_lexer": "ipython3",
      "version": "3.11.0"
    }
  },
  "nbformat": 4,
  "nbformat_minor": 0
}
